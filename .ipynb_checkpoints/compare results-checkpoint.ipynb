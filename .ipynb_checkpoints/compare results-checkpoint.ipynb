{
 "cells": [
  {
   "cell_type": "code",
   "execution_count": 4,
   "id": "031286d7",
   "metadata": {},
   "outputs": [],
   "source": [
    "import numpy as np\n",
    "import math"
   ]
  },
  {
   "cell_type": "code",
   "execution_count": 2,
   "id": "81c215a5",
   "metadata": {},
   "outputs": [
    {
     "data": {
      "text/plain": [
       "780.2482463210745"
      ]
     },
     "execution_count": 2,
     "metadata": {},
     "output_type": "execute_result"
    }
   ],
   "source": [
    "#elastic net it 11\n",
    "\n",
    "# score:  0.9321012285652457\n",
    "  \n",
    "# test score:  0.9242924505262095\n",
    " \n",
    "# train RMSE: 0.09835750300298263\n",
    "  \n",
    "# test RMSE: 0.10254746488799335\n",
    "\n",
    "# average difference test data 13315.455763826081\n",
    "\n",
    "# average difference train data 12535.207517505007\n",
    "\n",
    "13315.455763826081 - 12535.207517505007"
   ]
  },
  {
   "cell_type": "code",
   "execution_count": 3,
   "id": "995459b5",
   "metadata": {},
   "outputs": [
    {
     "data": {
      "text/plain": [
       "741.7763942019537"
      ]
     },
     "execution_count": 3,
     "metadata": {},
     "output_type": "execute_result"
    }
   ],
   "source": [
    "#lasso it 11\n",
    "\n",
    "# adj_r2:  0.9344685554863624\n",
    "  \n",
    "# adj_r2_test:  0.9173636230934599\n",
    "\n",
    "# score:  0.9364532430936179\n",
    "  \n",
    "# test score:  0.9232044141313567\n",
    " \n",
    "# train RMSE: 0.09515316366997247\n",
    "  \n",
    "# test RMSE: 0.10328172026567642\n",
    "\n",
    "# average difference test data: 13276.98391170696\n",
    "    \n",
    "# average difference train data: 12535.20751750500700\n",
    "\n",
    "13276.98391170696 - 12535.20751750500700"
   ]
  },
  {
   "cell_type": "code",
   "execution_count": 4,
   "id": "d774d7ab",
   "metadata": {},
   "outputs": [
    {
     "data": {
      "text/plain": [
       "675.1272922455464"
      ]
     },
     "execution_count": 4,
     "metadata": {},
     "output_type": "execute_result"
    }
   ],
   "source": [
    "#ridge 13\n",
    "\n",
    "# adj_r2:  0.9341484764052921\n",
    "  \n",
    "# adj_r2_test:  0.916797012279462\n",
    " \n",
    "\n",
    "# score:  0.9365121878523259\n",
    "  \n",
    "# test score:  0.9237668960675699\n",
    "\n",
    "# train RMSE: 0.09510902230227007\n",
    "  \n",
    "# test RMSE: 0.10290278657520728\n",
    "\n",
    "# average difference test data: 13259.070845407608\n",
    "    \n",
    "# average difference train data: 12583.943553162062\n",
    "\n",
    "13259.070845407608 - 12583.943553162062\n"
   ]
  },
  {
   "cell_type": "code",
   "execution_count": 1,
   "id": "102737a0",
   "metadata": {},
   "outputs": [
    {
     "data": {
      "text/plain": [
       "6090.064533928995"
      ]
     },
     "execution_count": 1,
     "metadata": {},
     "output_type": "execute_result"
    }
   ],
   "source": [
    "# random forest\n",
    "\n",
    "# score:  0.9636878151849657\n",
    "  \n",
    "# test score:  0.8956756886234538\n",
    " \n",
    "# train RMSE: 0.07192878539334124\n",
    "  \n",
    "# test RMSE: 0.1203782699164363\n",
    "\n",
    "# average difference test data: 15029.049523533015\n",
    "\n",
    "# average difference train data: 8938.98498960402\n",
    "\n",
    "15029.049523533015 - 8938.98498960402\n",
    "\n"
   ]
  },
  {
   "cell_type": "code",
   "execution_count": 6,
   "id": "b313ca43",
   "metadata": {},
   "outputs": [
    {
     "data": {
      "text/plain": [
       "2943.7829431769096"
      ]
     },
     "execution_count": 6,
     "metadata": {},
     "output_type": "execute_result"
    }
   ],
   "source": [
    "#gradient boosting\n",
    "\n",
    "# score:  0.9588225053289916\n",
    "  \n",
    "# test score:  0.9257730091285431\n",
    " \n",
    "# train RMSE: 0.07659607161421071\n",
    "  \n",
    "# test RMSE: 0.10153979011656877\n",
    "\n",
    "\n",
    "# average difference test data: 12711.912462064909\n",
    "    \n",
    "# average difference train data: 9768.129518888\n",
    "\n",
    "12711.912462064909 - 9768.129518888"
   ]
  },
  {
   "cell_type": "code",
   "execution_count": 7,
   "id": "43c0a6ec",
   "metadata": {},
   "outputs": [
    {
     "data": {
      "text/plain": [
       "603.5433017611722"
      ]
     },
     "execution_count": 7,
     "metadata": {},
     "output_type": "execute_result"
    }
   ],
   "source": [
    "13315.455763826081 - 12711.912462064909"
   ]
  }
 ],
 "metadata": {
  "kernelspec": {
   "display_name": "Python 3 (ipykernel)",
   "language": "python",
   "name": "python3"
  },
  "language_info": {
   "codemirror_mode": {
    "name": "ipython",
    "version": 3
   },
   "file_extension": ".py",
   "mimetype": "text/x-python",
   "name": "python",
   "nbconvert_exporter": "python",
   "pygments_lexer": "ipython3",
   "version": "3.9.7"
  }
 },
 "nbformat": 4,
 "nbformat_minor": 5
}
