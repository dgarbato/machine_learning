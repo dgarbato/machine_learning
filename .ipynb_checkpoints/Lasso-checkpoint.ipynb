{
 "cells": [
  {
   "cell_type": "code",
   "execution_count": null,
   "id": "3697fe32",
   "metadata": {},
   "outputs": [],
   "source": [
    "from sklearn.linear_model import Lasso\n",
    "from sklearn.metrics import mean_squared_error\n",
    "from sklearn.preprocessing import StandardScaler \n",
    "from sklearn.model_selection import GridSearchCV"
   ]
  },
  {
   "cell_type": "code",
   "execution_count": null,
   "id": "8c8bc703",
   "metadata": {},
   "outputs": [],
   "source": [
    "import matplotlib.pyplot as plt\n",
    "import seaborn as sns\n",
    "import numpy as np\n",
    "import pandas as pd\n",
    "%matplotlib inline\n",
    "from scipy import stats"
   ]
  },
  {
   "cell_type": "code",
   "execution_count": null,
   "id": "c2a3dcb2",
   "metadata": {},
   "outputs": [],
   "source": [
    "from sklearn.linear_model import Ridge, Lasso, ElasticNet"
   ]
  },
  {
   "cell_type": "code",
   "execution_count": null,
   "id": "2ab9bee3",
   "metadata": {},
   "outputs": [],
   "source": [
    "model_vars_data = pd.read_csv(r'C:\\Users\\dgarb\\OneDrive\\Documents\\Data Science Bootcamp August\\Machine Learning Project\\data\\model_vars_data_n.csv',index_col=0)\n",
    "\n",
    "test_vars_data = pd.read_csv(r'C:\\Users\\dgarb\\OneDrive\\Documents\\Data Science Bootcamp August\\Machine Learning Project\\data\\test_vars_data_n.csv',index_col=0)\n",
    "\n",
    "price_train = pd.read_csv(r'C:\\Users\\dgarb\\OneDrive\\Documents\\Data Science Bootcamp August\\Machine Learning Project\\data\\ny_train.csv',index_col=0)\n",
    "\n",
    "price_test = pd.read_csv(r'C:\\Users\\dgarb\\OneDrive\\Documents\\Data Science Bootcamp August\\Machine Learning Project\\data\\ny_test.csv',index_col=0)"
   ]
  },
  {
   "cell_type": "code",
   "execution_count": null,
   "id": "db227dce",
   "metadata": {},
   "outputs": [],
   "source": [
    "# list(model_vars_data.columns) \n",
    "model_vars_data = model_vars_data.drop(['MoSold','MSSubClass','LotArea'], axis = 1)\n",
    "test_vars_data = test_vars_data.drop(['MoSold','MSSubClass','LotArea'], axis = 1) \n",
    "#there is a transformed version of LotArea\n"
   ]
  },
  {
   "cell_type": "code",
   "execution_count": null,
   "id": "68dcf284",
   "metadata": {},
   "outputs": [],
   "source": [
    "pd.set_option('display.max_columns', None)\n",
    "model_vars_data.head()\n"
   ]
  },
  {
   "cell_type": "code",
   "execution_count": null,
   "id": "b7e362d4",
   "metadata": {},
   "outputs": [],
   "source": [
    "pd.set_option('display.max_columns', None)\n",
    "price_train.head()"
   ]
  },
  {
   "cell_type": "code",
   "execution_count": null,
   "id": "2e3eb927",
   "metadata": {},
   "outputs": [],
   "source": [
    "combine = pd.concat([price_train, model_vars_data], axis=1)\n",
    "combine['log_price'] = np.log(combine.SalePrice)\n"
   ]
  },
  {
   "cell_type": "code",
   "execution_count": null,
   "id": "0bbfed00",
   "metadata": {},
   "outputs": [],
   "source": []
  },
  {
   "cell_type": "code",
   "execution_count": null,
   "id": "b9af7fda",
   "metadata": {},
   "outputs": [],
   "source": [
    "pd.set_option('display.max_columns', None)\n",
    "model_vars_data.describe()"
   ]
  },
  {
   "cell_type": "code",
   "execution_count": null,
   "id": "a7661914",
   "metadata": {},
   "outputs": [],
   "source": [
    "pd.set_option('display.max_columns', None)\n",
    "test_vars_data.describe()"
   ]
  },
  {
   "cell_type": "code",
   "execution_count": null,
   "id": "e7abc0d3",
   "metadata": {},
   "outputs": [],
   "source": [
    "print(model_vars_data.shape)\n",
    "print(price_train.shape)"
   ]
  },
  {
   "cell_type": "code",
   "execution_count": null,
   "id": "d49bda47",
   "metadata": {},
   "outputs": [],
   "source": [
    "print(test_vars_data.shape)\n",
    "print(price_test.shape)"
   ]
  },
  {
   "cell_type": "code",
   "execution_count": null,
   "id": "e54f3fd2",
   "metadata": {},
   "outputs": [],
   "source": [
    "# Fucntion returns dictionary\n",
    "\n",
    "def regx3(\n",
    "model=  None,\n",
    "x_train = None,\n",
    "x_test = None,\n",
    "y_train = None,\n",
    "y_test =  None,\n",
    "params = None,\n",
    "cv_ = 5,\n",
    "linear_reg = True,\n",
    "tree_based = False):\n",
    "######################################\n",
    "#########################################\n",
    "\n",
    "    features = list(x_train.columns)\n",
    "\n",
    "    ss = StandardScaler()\n",
    "    x_train = pd.DataFrame(ss.fit_transform(x_train), columns = features)\n",
    "    x_test = pd.DataFrame(ss.fit_transform(x_test), columns = features)\n",
    "\n",
    "    #     print('train ',x_train.head())\n",
    "    #     print(' ')\n",
    "    #     print('test ', x_test.head())\n",
    "\n",
    "\n",
    "    gs = GridSearchCV(model, params, cv=cv_, return_train_score=True, refit=True)\n",
    "    gs.fit(x_train,y_train)\n",
    "    gs.best_params_\n",
    "\n",
    "    reg_dict = {}\n",
    "    model= gs.best_estimator_\n",
    "    reg_dict['mod'] = model\n",
    "    ###################################    \n",
    "\n",
    "    print('best params: ',gs.best_params_)\n",
    "    reg_dict['best params'] = gs.best_params_\n",
    "\n",
    "    print('score: ',gs.score(x_train,y_train))\n",
    "    reg_dict['score'] = gs.score(x_train,y_train)\n",
    "\n",
    "    print('  ')\n",
    "    print('test score: ',gs.score(x_test,y_test))\n",
    "    reg_dict['test score'] = gs.score(x_test,y_test)\n",
    "\n",
    "    if linear_reg:\n",
    "        adj_r2 = 1-(1-gs.score(x_train,y_train))*(x_train.shape[0] - 1) / (x_train.shape[0] - x_train.shape[1] - 1)\n",
    "        print('adj_r2: ', adj_r2)\n",
    "        reg_dict['adj_r2'] = adj_r2\n",
    "\n",
    "        adj_r2_test = 1-(1-gs.score(x_test,y_test))*(x_test.shape[0] - 1) / (x_test.shape[0] - x_test.shape[1] - 1)\n",
    "        print('  ')\n",
    "        print('adj_r2_test: ',adj_r2_test)\n",
    "        reg_dict['adj_r2_test'] = adj_r2_test\n",
    "\n",
    "        print(' ')\n",
    "\n",
    "    train_pred = gs.best_estimator_.predict(x_train)\n",
    "    print('train RMSE: ' + str(mean_squared_error(train_pred,y_train)**0.5))\n",
    "    print('  ')\n",
    "    reg_dict['train RMSE'] = mean_squared_error(train_pred,y_train)**0.5\n",
    "\n",
    "    test_pred = gs.best_estimator_.predict(x_test)\n",
    "    print('test RMSE: ' + str(mean_squared_error(test_pred,y_test)**0.5))\n",
    "    ###\n",
    "    reg_dict['test RMSE'] = mean_squared_error(test_pred,y_test)**0.5\n",
    "\n",
    "    if linear_reg:\n",
    "\n",
    "        coefs = pd.Series(gs.best_estimator_.coef_, name = 'coef' )\n",
    "\n",
    "        varnames = pd.Series(features, name = 'features')\n",
    "\n",
    "        pd.set_option('display.max_rows', None) # or 1000.\n",
    "\n",
    "        abs_coefs = pd.Series(np.abs(coefs),name = 'abs_val')\n",
    "\n",
    "        coefs_ = pd.concat([varnames,coefs, abs_coefs], axis=1)\n",
    "\n",
    "        #return:\n",
    "        model_importances = coefs_.sort_values(by=['abs_val'], ascending=False)\n",
    "        model_importances.index=(range(model_importances.shape[0]))\n",
    "        model_importances\n",
    "        reg_dict['model_importances'] = model_importances\n",
    "\n",
    "        print(model_importances)\n",
    "        print(' ')\n",
    "\n",
    "    elif tree_based:\n",
    "        pd.set_option('display.max_rows', None) # or 1000.\n",
    "\n",
    "        #return\n",
    "        varnames = pd.Series(features, name = 'features')\n",
    "\n",
    "        importances_ = pd.Series(model.feature_importances_, name = 'importances')\n",
    "\n",
    "        df = pd.concat([varnames,importances_], axis=1)\n",
    "\n",
    "        model_importances = df.sort_values(by=['importances'], ascending=False)\n",
    "\n",
    "        model_importances.index=(range(model_importances.shape[0]))\n",
    "\n",
    "        reg_dict['model_importances'] = model_importances\n",
    "\n",
    "\n",
    "\n",
    "    #         model_importances = pd.Series(model.feature_importances_, index = features).sort_values(ascending=False)\n",
    "\n",
    "        print(model_importances)\n",
    "\n",
    "\n",
    "    if linear_reg:\n",
    "        residuals = y_train - train_pred\n",
    "        print('skewness: ',stats.skew(residuals))\n",
    "        print(' ')\n",
    "        sns.set_theme(style='darkgrid')\n",
    "        sns.histplot(residuals, bins=20);\n",
    "\n",
    "    print('model_importances.shape: ',model_importances.shape)\n",
    "    \n",
    "    return reg_dict\n"
   ]
  },
  {
   "cell_type": "code",
   "execution_count": null,
   "id": "a667d89a",
   "metadata": {},
   "outputs": [],
   "source": [
    "def to_keep(mod, amt):\n",
    "    mod = mod['model_importances']\n",
    "    keeps1 = mod.loc[mod['abs_val'] > amt,['features']]\n",
    "    list_keeps1 = list(keeps1.features)\n",
    "    return list_keeps1\n"
   ]
  },
  {
   "cell_type": "code",
   "execution_count": null,
   "id": "acb02007",
   "metadata": {},
   "outputs": [],
   "source": [
    "lasso1 = regx3(model= Lasso(max_iter=20000),\n",
    "x_train = model_vars_data,\n",
    "x_test = test_vars_data,\n",
    "y_train = np.log(price_train.SalePrice),\n",
    "y_test = np.log(price_test.SalePrice),\n",
    "params = {'alpha':[1e-15,1e-10,1e-8,1e-3,1e-2,1,5,10,20,30,35,40,45.50,55,100],'tol':[0.0001]},\n",
    "cv_ = 5,\n",
    "linear_reg = True,\n",
    "tree_based = False)"
   ]
  },
  {
   "cell_type": "code",
   "execution_count": null,
   "id": "4a36921c",
   "metadata": {},
   "outputs": [],
   "source": [
    "lasso1 = regx3(model= Lasso(max_iter=40000), #max_iter=10000000000000\n",
    "x_train = model_vars_data,\n",
    "x_test = test_vars_data,\n",
    "y_train = np.log(price_train.SalePrice),\n",
    "y_test = np.log(price_test.SalePrice),\n",
    "params = {'alpha':[1e-15,1e-10,1e-8,1e-3,1e-2,1,5,10,100],'tol':[0.02]},\n",
    "cv_ = 5,\n",
    "linear_reg = True,\n",
    "tree_based = False)"
   ]
  },
  {
   "cell_type": "code",
   "execution_count": null,
   "id": "9b47584c",
   "metadata": {},
   "outputs": [],
   "source": [
    "lasso1a = regx3(model= Lasso(max_iter=40000), #max_iter=10000000000000\n",
    "x_train = model_vars_data,\n",
    "x_test = test_vars_data,\n",
    "y_train = np.log(price_train.SalePrice),\n",
    "y_test = np.log(price_test.SalePrice),\n",
    "params = {'alpha':[1e-15,1e-10,1e-8,1e-3,1e-2,1,5,10,100],'tol':[0.03]},\n",
    "cv_ = 5,\n",
    "linear_reg = True,\n",
    "tree_based = False)"
   ]
  },
  {
   "cell_type": "code",
   "execution_count": null,
   "id": "d85489b9",
   "metadata": {},
   "outputs": [],
   "source": []
  },
  {
   "cell_type": "code",
   "execution_count": null,
   "id": "638150e4",
   "metadata": {},
   "outputs": [],
   "source": [
    "keeps = to_keep(lasso1, 0.000025)"
   ]
  },
  {
   "cell_type": "code",
   "execution_count": null,
   "id": "ca5a4f3f",
   "metadata": {},
   "outputs": [],
   "source": [
    "lasso2 = regx3(model= Lasso(max_iter=40000), #max_iter=10000000000000\n",
    "x_train = model_vars_data[keeps],\n",
    "x_test = test_vars_data[keeps],\n",
    "y_train = np.log(price_train.SalePrice),\n",
    "y_test = np.log(price_test.SalePrice),\n",
    "params = {'alpha':[1e-15,1e-10,1e-8,1e-3,1e-2,1,5,10,100],'tol':[0.02]},\n",
    "cv_ = 5,\n",
    "linear_reg = True,\n",
    "tree_based = False)"
   ]
  },
  {
   "cell_type": "code",
   "execution_count": null,
   "id": "a5e52815",
   "metadata": {},
   "outputs": [],
   "source": [
    "keeps_from_lasso2 = to_keep(lasso2, 0.000015)\n",
    "keeps_from_lasso2"
   ]
  },
  {
   "cell_type": "code",
   "execution_count": null,
   "id": "6fc48c6d",
   "metadata": {},
   "outputs": [],
   "source": []
  },
  {
   "cell_type": "code",
   "execution_count": null,
   "id": "9f494b6f",
   "metadata": {},
   "outputs": [],
   "source": []
  },
  {
   "cell_type": "code",
   "execution_count": null,
   "id": "2e609948",
   "metadata": {},
   "outputs": [],
   "source": []
  },
  {
   "cell_type": "code",
   "execution_count": null,
   "id": "35c1e00f",
   "metadata": {},
   "outputs": [],
   "source": [
    "lasso3 = regx3(model= Lasso(max_iter=40000), #max_iter=10000000000000\n",
    "x_train = model_vars_data[keeps],\n",
    "x_test = test_vars_data[keeps],\n",
    "y_train = np.log(price_train.SalePrice),\n",
    "y_test = np.log(price_test.SalePrice),\n",
    "params = {'alpha':[1e-15,1e-10,1e-8,1e-3,1e-2,1,5,10,100],'tol':[0.02]},\n",
    "cv_ = 5,\n",
    "linear_reg = True,\n",
    "tree_based = False)"
   ]
  },
  {
   "cell_type": "code",
   "execution_count": null,
   "id": "b24c20aa",
   "metadata": {},
   "outputs": [],
   "source": [
    "# 'Neighborhood_SawyerW',\n",
    "dummy_drops = ['SaleCondition_Partial',\n",
    " 'Exterior1st_BrkFace',\n",
    " 'SaleCondition_Family',\n",
    " 'MSSubClass_160',\n",
    " 'Condition1_PosN',\n",
    " 'LandContour_HLS',\n",
    " 'MSZoning_RH',\n",
    " 'Condition1_PosA',\n",
    " 'Exterior2nd_CBlock',\n",
    " 'RoofStyle_Mansard',\n",
    " 'Exterior1st_PreCast',\n",
    " 'MSSubClass_85',\n",
    " 'RoofMatl_WdShngl',\n",
    " 'Condition2_Feedr',\n",
    " 'Foundation_Wood',\n",
    " 'Exterior1st_CBlock',\n",
    " 'Condition2_PosA',\n",
    " 'BldgType_Twnhs',\n",
    " 'MSSubClass_150',\n",
    " 'Condition1_RRAn',\n",
    " 'Heating_OthW',\n",
    " 'HouseStyle_1.5Unf',\n",
    " 'MSSubClass_90',\n",
    " 'Heating_Grav',\n",
    " 'MSSubClass_190',\n",
    " 'Foundation_Stone',\n",
    " \n",
    " 'Exterior2nd_Brk Cmn',\n",
    " 'Heating_Wall',\n",
    " 'LotConfig_FR3',\n",
    " 'RoofMatl_Membran',\n",
    " 'LotConfig_FR2',\n",
    " 'Exterior2nd_AsphShn',\n",
    " 'Condition1_RRNn',\n",
    " 'RoofMatl_Tar&Grv',\n",
    " 'Exterior2nd_PreCast',\n",
    " 'HouseStyle_2.5Unf',\n",
    " 'MSSubClass_75',\n",
    " 'GarageType_Basment',\n",
    " 'has_pool',\n",
    " 'Exterior1st_WdShing',\n",
    " 'MSSubClass_180',\n",
    " 'Condition2_RRNn',\n",
    " 'MSSubClass_40',\n",
    " 'Fence_MnWw',\n",
    " 'MoSold_11',\n",
    " 'Exterior2nd_BrkFace',\n",
    " 'Exterior2nd_Stone',\n",
    " 'RoofStyle_Gambrel',\n",
    " 'LandContour_Low',\n",
    " 'Condition2_RRAn',\n",
    " 'Electrical_FuseF',\n",
    " 'SaleCondition_AdjLand',\n",
    " 'SaleCondition_Alloca',\n",
    " 'RoofStyle_Shed',\n",
    " 'MSSubClass_30']"
   ]
  },
  {
   "cell_type": "code",
   "execution_count": null,
   "id": "edff42a1",
   "metadata": {},
   "outputs": [],
   "source": [
    "lasso2_features = to_keep(lasso2, 0.00)\n",
    "lasso2_features \n",
    "\n",
    "keep1 = set(lasso2_features) - set(dummy_drops)\n",
    "lasso4_keeps = list(keep1)\n",
    "# keeps"
   ]
  },
  {
   "cell_type": "code",
   "execution_count": null,
   "id": "465b12bc",
   "metadata": {},
   "outputs": [],
   "source": [
    "lasso4 = regx3(model= Lasso(max_iter=40000), #max_iter=10000000000000\n",
    "x_train = model_vars_data[keeps],\n",
    "x_test = test_vars_data[keeps],\n",
    "y_train = np.log(price_train.SalePrice),\n",
    "y_test = np.log(price_test.SalePrice),\n",
    "params = {'alpha':[1e-15,1e-10,1e-8,1e-3,1e-2,1,5,10,100],'tol':[0.02]},\n",
    "cv_ = 5,\n",
    "linear_reg = True,\n",
    "tree_based = False)"
   ]
  },
  {
   "cell_type": "code",
   "execution_count": null,
   "id": "cd286bcb",
   "metadata": {},
   "outputs": [],
   "source": [
    "#drop features with corr < 0.15\n",
    "lasso4_features = to_keep(lasso4, 0.00)\n",
    "drop_corr_lt_015 = set(['Functional',\n",
    "'ScreenPorch',\n",
    "'KitchenAbvGr',\n",
    "'OverallCond',\n",
    "'3SsnPorch'\n",
    "'BsmtHalfBath'\n",
    "'MoSold'\n",
    "'BsmtFinSF2'])\n",
    "\n",
    "keeps_set =  set(lasso4_features) - drop_corr_lt_015\n",
    "keeps_set\n",
    "keeps = list(keeps_set)"
   ]
  },
  {
   "cell_type": "code",
   "execution_count": null,
   "id": "ff3a1ca7",
   "metadata": {},
   "outputs": [],
   "source": [
    "lasso5 = regx3(model= Lasso(max_iter=40000), #max_iter=10000000000000\n",
    "x_train = model_vars_data[keeps],\n",
    "x_test = test_vars_data[keeps],\n",
    "y_train = np.log(price_train.SalePrice),\n",
    "y_test = np.log(price_test.SalePrice),\n",
    "params = {'alpha':[1e-15,1e-10,1e-8,1e-3,1e-2,1,5,10,100],'tol':[0.02]},\n",
    "cv_ = 5,\n",
    "linear_reg = True,\n",
    "tree_based = False)"
   ]
  },
  {
   "cell_type": "code",
   "execution_count": null,
   "id": "191028e1",
   "metadata": {},
   "outputs": [],
   "source": [
    "keep = set(lasso4_keeps) - set(['MoSold'])\n",
    "keeps_for_6 = list(keep)\n"
   ]
  },
  {
   "cell_type": "code",
   "execution_count": null,
   "id": "e6696179",
   "metadata": {},
   "outputs": [],
   "source": [
    "lasso6 = regx3(model= Lasso(max_iter=40000), #max_iter=10000000000000\n",
    "x_train = model_vars_data[keeps],\n",
    "x_test = test_vars_data[keeps],\n",
    "y_train = np.log(price_train.SalePrice),\n",
    "y_test = np.log(price_test.SalePrice),\n",
    "params = {'alpha':[1e-15,1e-10,1e-8,1e-3,1e-2,1,5,10,100],'tol':[0.02]},\n",
    "cv_ = 5,\n",
    "linear_reg = True,\n",
    "tree_based = False)"
   ]
  },
  {
   "cell_type": "code",
   "execution_count": null,
   "id": "f208c473",
   "metadata": {},
   "outputs": [],
   "source": [
    "keeps = to_keep(lasso6, 0.002)"
   ]
  },
  {
   "cell_type": "code",
   "execution_count": null,
   "id": "3a3ae148",
   "metadata": {},
   "outputs": [],
   "source": [
    "lasso7 = regx3(model= Lasso(max_iter=40000), #max_iter=10000000000000\n",
    "x_train = model_vars_data[keeps],\n",
    "x_test = test_vars_data[keeps],\n",
    "y_train = np.log(price_train.SalePrice),\n",
    "y_test = np.log(price_test.SalePrice),\n",
    "params = {'alpha':[1e-15,1e-10,1e-8,1e-3,1e-2,1,5,10,100],'tol':[0.02]},\n",
    "cv_ = 5,\n",
    "linear_reg = True,\n",
    "tree_based = False)"
   ]
  },
  {
   "cell_type": "code",
   "execution_count": null,
   "id": "e2f11a09",
   "metadata": {},
   "outputs": [],
   "source": [
    "keeps = to_keep(lasso7, 0.004)"
   ]
  },
  {
   "cell_type": "code",
   "execution_count": null,
   "id": "a3da07a8",
   "metadata": {},
   "outputs": [],
   "source": [
    "lasso8 = regx3(model= Lasso(max_iter=40000), #max_iter=10000000000000\n",
    "x_train = model_vars_data[keeps],\n",
    "x_test = test_vars_data[keeps],\n",
    "y_train = np.log(price_train.SalePrice),\n",
    "y_test = np.log(price_test.SalePrice),\n",
    "params = {'alpha':[1e-15,1e-10,1e-8,1e-3,1e-2,1,5,10,100],'tol':[0.02]},\n",
    "cv_ = 5,\n",
    "linear_reg = True,\n",
    "tree_based = False)"
   ]
  },
  {
   "cell_type": "code",
   "execution_count": null,
   "id": "c181177e",
   "metadata": {},
   "outputs": [],
   "source": [
    "keeps = to_keep(lasso8, 0.006)\n"
   ]
  },
  {
   "cell_type": "code",
   "execution_count": null,
   "id": "eced2388",
   "metadata": {},
   "outputs": [],
   "source": [
    "lasso9 = regx3(model= Lasso(max_iter=40000), #max_iter=10000000000000\n",
    "x_train = model_vars_data[keeps],\n",
    "x_test = test_vars_data[keeps],\n",
    "y_train = np.log(price_train.SalePrice),\n",
    "y_test = np.log(price_test.SalePrice),\n",
    "params = {'alpha':[1e-15,1e-10,1e-8,1e-3,1e-2,1,5,10,100],'tol':[0.02]},\n",
    "cv_ = 5,\n",
    "linear_reg = True,\n",
    "tree_based = False)"
   ]
  },
  {
   "cell_type": "code",
   "execution_count": null,
   "id": "864c3c5a",
   "metadata": {},
   "outputs": [],
   "source": []
  },
  {
   "cell_type": "code",
   "execution_count": null,
   "id": "166799f2",
   "metadata": {},
   "outputs": [],
   "source": [
    "keeps = to_keep(lasso9, 0.008)\n",
    "lasso9_keeps = to_keep(lasso9,0)\n",
    "# lasso9_keeps"
   ]
  },
  {
   "cell_type": "code",
   "execution_count": null,
   "id": "3659e9b6",
   "metadata": {},
   "outputs": [],
   "source": [
    "lasso10 = regx3(model= Lasso(max_iter=40000), #max_iter=10000000000000\n",
    "x_train = model_vars_data[keeps],\n",
    "x_test = test_vars_data[keeps],\n",
    "y_train = np.log(price_train.SalePrice),\n",
    "y_test = np.log(price_test.SalePrice),\n",
    "params = {'alpha':[1e-15,1e-10,1e-8,1e-3,1e-2,1,5,10,100],'tol':[0.02]},\n",
    "cv_ = 5,\n",
    "linear_reg = True,\n",
    "tree_based = False)"
   ]
  },
  {
   "cell_type": "code",
   "execution_count": null,
   "id": "2aa14c7b",
   "metadata": {},
   "outputs": [],
   "source": [
    "keeps_from_9 = to_keep(lasso9, 0.006)\n",
    "keeps = keeps_from_9\n"
   ]
  },
  {
   "cell_type": "code",
   "execution_count": null,
   "id": "e6a64e4a",
   "metadata": {},
   "outputs": [],
   "source": [
    "lasso11 = regx3(model= Lasso(max_iter=40000), #max_iter=10000000000000\n",
    "x_train = model_vars_data[keeps],\n",
    "x_test = test_vars_data[keeps],\n",
    "y_train = np.log(price_train.SalePrice),\n",
    "y_test = np.log(price_test.SalePrice),\n",
    "params = {'alpha':[1e-15,1e-10,1e-8,1e-3,1e-2,1,5,10,100],'tol':[0.02]},\n",
    "cv_ = 5,\n",
    "linear_reg = True,\n",
    "tree_based = False)"
   ]
  },
  {
   "cell_type": "code",
   "execution_count": null,
   "id": "1194d1e7",
   "metadata": {},
   "outputs": [],
   "source": [
    "keeps_from_11 = to_keep(lasso11, 0.008)\n",
    "keeps = keeps_from_11\n",
    "\n",
    "lasso_11_feat = to_keep(lasso11, 0.00)\n",
    "lasso_11_feat"
   ]
  },
  {
   "cell_type": "code",
   "execution_count": null,
   "id": "18a06c3d",
   "metadata": {},
   "outputs": [],
   "source": [
    "lasso12 = regx3(model= Lasso(max_iter=40000), #max_iter=10000000000000\n",
    "x_train = model_vars_data[keeps],\n",
    "x_test = test_vars_data[keeps],\n",
    "y_train = np.log(price_train.SalePrice),\n",
    "y_test = np.log(price_test.SalePrice),\n",
    "params = {'alpha':[1e-15,1e-10,1e-8,1e-3,1e-2,1,5,10,100],'tol':[0.02]},\n",
    "cv_ = 5,\n",
    "linear_reg = True,\n",
    "tree_based = False)"
   ]
  },
  {
   "cell_type": "code",
   "execution_count": null,
   "id": "d2302382",
   "metadata": {},
   "outputs": [],
   "source": [
    "lasso_11_feat = to_keep(lasso11, 0.00)\n",
    "keeps = to_keep(lasso11,0.007)"
   ]
  },
  {
   "cell_type": "code",
   "execution_count": null,
   "id": "3be34664",
   "metadata": {},
   "outputs": [],
   "source": [
    "lasso13 = regx3(model= Lasso(max_iter=40000), #max_iter=10000000000000\n",
    "x_train = model_vars_data[keeps],\n",
    "x_test = test_vars_data[keeps],\n",
    "y_train = np.log(price_train.SalePrice),\n",
    "y_test = np.log(price_test.SalePrice),\n",
    "params = {'alpha':[1e-15,1e-10,1e-8,1e-3,1e-2,1,5,10,100],'tol':[0.02]},\n",
    "cv_ = 5,\n",
    "linear_reg = True,\n",
    "tree_based = False)"
   ]
  },
  {
   "cell_type": "code",
   "execution_count": null,
   "id": "00790ef4",
   "metadata": {},
   "outputs": [],
   "source": [
    "keep_set = set(to_keep(lasso11,0)) - set(['log_first_FlrSF','BsmtFinSF1', 'BsmtUnfSF' ])\n",
    "keeps = list(keep_set)"
   ]
  },
  {
   "cell_type": "code",
   "execution_count": null,
   "id": "e064120e",
   "metadata": {},
   "outputs": [],
   "source": [
    "lasso14 = regx3(model= Lasso(max_iter=40000), #max_iter=10000000000000\n",
    "x_train = model_vars_data[keeps],\n",
    "x_test = test_vars_data[keeps],\n",
    "y_train = np.log(price_train.SalePrice),\n",
    "y_test = np.log(price_test.SalePrice),\n",
    "params = {'alpha':[1e-15,1e-10,1e-8,1e-3,1e-2,1,5,10,100],'tol':[0.02]},\n",
    "cv_ = 5,\n",
    "linear_reg = True,\n",
    "tree_based = False)"
   ]
  }
 ],
 "metadata": {
  "kernelspec": {
   "display_name": "Python 3 (ipykernel)",
   "language": "python",
   "name": "python3"
  },
  "language_info": {
   "codemirror_mode": {
    "name": "ipython",
    "version": 3
   },
   "file_extension": ".py",
   "mimetype": "text/x-python",
   "name": "python",
   "nbconvert_exporter": "python",
   "pygments_lexer": "ipython3",
   "version": "3.9.7"
  }
 },
 "nbformat": 4,
 "nbformat_minor": 5
}
