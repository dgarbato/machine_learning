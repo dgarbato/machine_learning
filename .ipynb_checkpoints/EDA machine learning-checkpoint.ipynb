{
 "cells": [
  {
   "cell_type": "code",
   "execution_count": 111,
   "id": "3fb04938",
   "metadata": {},
   "outputs": [],
   "source": [
    "\n",
    "import matplotlib.pyplot as plt\n",
    "import seaborn as sns"
   ]
  },
  {
   "cell_type": "code",
   "execution_count": 112,
   "id": "23275d2d",
   "metadata": {},
   "outputs": [],
   "source": [
    "import numpy as np\n",
    "import pandas as pd\n",
    "from scipy import stats\n",
    "%matplotlib inline\n",
    "\n",
    "#x_train is being read in as housing\n",
    "\n",
    "housing = pd.read_csv(r'C:\\Users\\dgarb\\OneDrive\\Documents\\Data Science Bootcamp August\\Machine Learning Project\\data\\x_train.csv',index_col=0)\n",
    "\n",
    "x_test = pd.read_csv(r'C:\\Users\\dgarb\\OneDrive\\Documents\\Data Science Bootcamp August\\Machine Learning Project\\data\\x_text.csv',index_col=0)\n",
    "\n",
    "y_train = pd.read_csv(r'C:\\Users\\dgarb\\OneDrive\\Documents\\Data Science Bootcamp August\\Machine Learning Project\\data\\y_train.csv',index_col=0)\n",
    "\n",
    "# y_test.read_csv(r'C:\\Users\\dgarb\\OneDrive\\Documents\\Data Science Bootcamp August\\Machine Learning Project\\data\\y_test.csv',index_col=0)"
   ]
  },
  {
   "cell_type": "code",
   "execution_count": 113,
   "id": "5be83a18",
   "metadata": {},
   "outputs": [
    {
     "data": {
      "text/plain": [
       "(1806, 232)"
      ]
     },
     "execution_count": 113,
     "metadata": {},
     "output_type": "execute_result"
    }
   ],
   "source": [
    "housing.shape"
   ]
  },
  {
   "cell_type": "code",
   "execution_count": 114,
   "id": "b74e464e",
   "metadata": {},
   "outputs": [
    {
     "data": {
      "text/html": [
       "<div>\n",
       "<style scoped>\n",
       "    .dataframe tbody tr th:only-of-type {\n",
       "        vertical-align: middle;\n",
       "    }\n",
       "\n",
       "    .dataframe tbody tr th {\n",
       "        vertical-align: top;\n",
       "    }\n",
       "\n",
       "    .dataframe thead th {\n",
       "        text-align: right;\n",
       "    }\n",
       "</style>\n",
       "<table border=\"1\" class=\"dataframe\">\n",
       "  <thead>\n",
       "    <tr style=\"text-align: right;\">\n",
       "      <th></th>\n",
       "      <th>Unnamed: 0.1</th>\n",
       "      <th>PID</th>\n",
       "      <th>GrLivArea</th>\n",
       "      <th>SalePrice</th>\n",
       "      <th>MSSubClass</th>\n",
       "      <th>MSZoning</th>\n",
       "      <th>LotFrontage</th>\n",
       "      <th>LotArea</th>\n",
       "      <th>Street</th>\n",
       "      <th>Alley</th>\n",
       "      <th>LotShape</th>\n",
       "      <th>LandContour</th>\n",
       "      <th>Utilities</th>\n",
       "      <th>LotConfig</th>\n",
       "      <th>LandSlope</th>\n",
       "      <th>Neighborhood</th>\n",
       "      <th>Condition1</th>\n",
       "      <th>Condition2</th>\n",
       "      <th>BldgType</th>\n",
       "      <th>HouseStyle</th>\n",
       "      <th>OverallQual</th>\n",
       "      <th>OverallCond</th>\n",
       "      <th>YearBuilt</th>\n",
       "      <th>YearRemodAdd</th>\n",
       "      <th>RoofStyle</th>\n",
       "      <th>RoofMatl</th>\n",
       "      <th>Exterior1st</th>\n",
       "      <th>Exterior2nd</th>\n",
       "      <th>MasVnrType</th>\n",
       "      <th>MasVnrArea</th>\n",
       "      <th>ExterQual</th>\n",
       "      <th>ExterCond</th>\n",
       "      <th>Foundation</th>\n",
       "      <th>BsmtQual</th>\n",
       "      <th>BsmtCond</th>\n",
       "      <th>BsmtExposure</th>\n",
       "      <th>BsmtFinType1</th>\n",
       "      <th>BsmtFinSF1</th>\n",
       "      <th>BsmtFinType2</th>\n",
       "      <th>BsmtFinSF2</th>\n",
       "      <th>BsmtUnfSF</th>\n",
       "      <th>TotalBsmtSF</th>\n",
       "      <th>Heating</th>\n",
       "      <th>HeatingQC</th>\n",
       "      <th>CentralAir</th>\n",
       "      <th>Electrical</th>\n",
       "      <th>1stFlrSF</th>\n",
       "      <th>2ndFlrSF</th>\n",
       "      <th>LowQualFinSF</th>\n",
       "      <th>BsmtFullBath</th>\n",
       "      <th>BsmtHalfBath</th>\n",
       "      <th>FullBath</th>\n",
       "      <th>HalfBath</th>\n",
       "      <th>BedroomAbvGr</th>\n",
       "      <th>KitchenAbvGr</th>\n",
       "      <th>KitchenQual</th>\n",
       "      <th>TotRmsAbvGrd</th>\n",
       "      <th>Functional</th>\n",
       "      <th>Fireplaces</th>\n",
       "      <th>FireplaceQu</th>\n",
       "      <th>GarageType</th>\n",
       "      <th>GarageYrBlt</th>\n",
       "      <th>GarageFinish</th>\n",
       "      <th>GarageCars</th>\n",
       "      <th>GarageArea</th>\n",
       "      <th>GarageQual</th>\n",
       "      <th>GarageCond</th>\n",
       "      <th>PavedDrive</th>\n",
       "      <th>WoodDeckSF</th>\n",
       "      <th>OpenPorchSF</th>\n",
       "      <th>EnclosedPorch</th>\n",
       "      <th>3SsnPorch</th>\n",
       "      <th>ScreenPorch</th>\n",
       "      <th>PoolArea</th>\n",
       "      <th>PoolQC</th>\n",
       "      <th>Fence</th>\n",
       "      <th>MiscFeature</th>\n",
       "      <th>MiscVal</th>\n",
       "      <th>MoSold</th>\n",
       "      <th>YrSold</th>\n",
       "      <th>SaleType</th>\n",
       "      <th>SaleCondition</th>\n",
       "      <th>MSSubClass.1</th>\n",
       "      <th>MoSold.1</th>\n",
       "      <th>MSZoning_C (all)</th>\n",
       "      <th>MSZoning_FV</th>\n",
       "      <th>MSZoning_I (all)</th>\n",
       "      <th>MSZoning_RH</th>\n",
       "      <th>MSZoning_RL</th>\n",
       "      <th>MSZoning_RM</th>\n",
       "      <th>Street_Pave</th>\n",
       "      <th>Alley_None</th>\n",
       "      <th>Alley_Pave</th>\n",
       "      <th>LandContour_HLS</th>\n",
       "      <th>LandContour_Low</th>\n",
       "      <th>LandContour_Lvl</th>\n",
       "      <th>Utilities_NoSewr</th>\n",
       "      <th>LotConfig_CulDSac</th>\n",
       "      <th>LotConfig_FR2</th>\n",
       "      <th>LotConfig_FR3</th>\n",
       "      <th>LotConfig_Inside</th>\n",
       "      <th>Neighborhood_Blueste</th>\n",
       "      <th>Neighborhood_BrDale</th>\n",
       "      <th>Neighborhood_BrkSide</th>\n",
       "      <th>Neighborhood_ClearCr</th>\n",
       "      <th>Neighborhood_CollgCr</th>\n",
       "      <th>Neighborhood_Crawfor</th>\n",
       "      <th>Neighborhood_Edwards</th>\n",
       "      <th>Neighborhood_Gilbert</th>\n",
       "      <th>Neighborhood_Greens</th>\n",
       "      <th>Neighborhood_GrnHill</th>\n",
       "      <th>Neighborhood_IDOTRR</th>\n",
       "      <th>Neighborhood_Landmrk</th>\n",
       "      <th>Neighborhood_MeadowV</th>\n",
       "      <th>Neighborhood_Mitchel</th>\n",
       "      <th>Neighborhood_NAmes</th>\n",
       "      <th>Neighborhood_NPkVill</th>\n",
       "      <th>Neighborhood_NWAmes</th>\n",
       "      <th>Neighborhood_NoRidge</th>\n",
       "      <th>Neighborhood_NridgHt</th>\n",
       "      <th>Neighborhood_OldTown</th>\n",
       "      <th>Neighborhood_SWISU</th>\n",
       "      <th>Neighborhood_Sawyer</th>\n",
       "      <th>Neighborhood_SawyerW</th>\n",
       "      <th>Neighborhood_Somerst</th>\n",
       "      <th>Neighborhood_StoneBr</th>\n",
       "      <th>Neighborhood_Timber</th>\n",
       "      <th>Neighborhood_Veenker</th>\n",
       "      <th>Condition1_Feedr</th>\n",
       "      <th>Condition1_Norm</th>\n",
       "      <th>Condition1_PosA</th>\n",
       "      <th>Condition1_PosN</th>\n",
       "      <th>Condition1_RRAe</th>\n",
       "      <th>Condition1_RRAn</th>\n",
       "      <th>Condition1_RRNe</th>\n",
       "      <th>Condition1_RRNn</th>\n",
       "      <th>Condition2_Feedr</th>\n",
       "      <th>Condition2_Norm</th>\n",
       "      <th>Condition2_PosA</th>\n",
       "      <th>Condition2_PosN</th>\n",
       "      <th>Condition2_RRAe</th>\n",
       "      <th>Condition2_RRAn</th>\n",
       "      <th>Condition2_RRNn</th>\n",
       "      <th>BldgType_2fmCon</th>\n",
       "      <th>BldgType_Duplex</th>\n",
       "      <th>BldgType_Twnhs</th>\n",
       "      <th>BldgType_TwnhsE</th>\n",
       "      <th>HouseStyle_1.5Unf</th>\n",
       "      <th>HouseStyle_1Story</th>\n",
       "      <th>HouseStyle_2.5Fin</th>\n",
       "      <th>HouseStyle_2.5Unf</th>\n",
       "      <th>HouseStyle_2Story</th>\n",
       "      <th>HouseStyle_SFoyer</th>\n",
       "      <th>HouseStyle_SLvl</th>\n",
       "      <th>RoofStyle_Gable</th>\n",
       "      <th>RoofStyle_Gambrel</th>\n",
       "      <th>RoofStyle_Hip</th>\n",
       "      <th>RoofStyle_Mansard</th>\n",
       "      <th>RoofStyle_Shed</th>\n",
       "      <th>RoofMatl_Membran</th>\n",
       "      <th>RoofMatl_Metal</th>\n",
       "      <th>RoofMatl_Roll</th>\n",
       "      <th>RoofMatl_Tar&amp;Grv</th>\n",
       "      <th>RoofMatl_WdShake</th>\n",
       "      <th>RoofMatl_WdShngl</th>\n",
       "      <th>Exterior1st_AsphShn</th>\n",
       "      <th>Exterior1st_BrkComm</th>\n",
       "      <th>Exterior1st_BrkFace</th>\n",
       "      <th>Exterior1st_CBlock</th>\n",
       "      <th>Exterior1st_CemntBd</th>\n",
       "      <th>Exterior1st_HdBoard</th>\n",
       "      <th>Exterior1st_ImStucc</th>\n",
       "      <th>Exterior1st_MetalSd</th>\n",
       "      <th>Exterior1st_Plywood</th>\n",
       "      <th>Exterior1st_PreCast</th>\n",
       "      <th>Exterior1st_Stucco</th>\n",
       "      <th>Exterior1st_VinylSd</th>\n",
       "      <th>Exterior1st_Wd Sdng</th>\n",
       "      <th>Exterior1st_WdShing</th>\n",
       "      <th>Exterior2nd_AsphShn</th>\n",
       "      <th>Exterior2nd_Brk Cmn</th>\n",
       "      <th>Exterior2nd_BrkFace</th>\n",
       "      <th>Exterior2nd_CBlock</th>\n",
       "      <th>Exterior2nd_CmentBd</th>\n",
       "      <th>Exterior2nd_HdBoard</th>\n",
       "      <th>Exterior2nd_ImStucc</th>\n",
       "      <th>Exterior2nd_MetalSd</th>\n",
       "      <th>Exterior2nd_Plywood</th>\n",
       "      <th>Exterior2nd_PreCast</th>\n",
       "      <th>Exterior2nd_Stone</th>\n",
       "      <th>Exterior2nd_Stucco</th>\n",
       "      <th>Exterior2nd_VinylSd</th>\n",
       "      <th>Exterior2nd_Wd Sdng</th>\n",
       "      <th>Exterior2nd_Wd Shng</th>\n",
       "      <th>MasVnrType_BrkFace</th>\n",
       "      <th>MasVnrType_None</th>\n",
       "      <th>MasVnrType_Stone</th>\n",
       "      <th>Foundation_CBlock</th>\n",
       "      <th>Foundation_PConc</th>\n",
       "      <th>Foundation_Slab</th>\n",
       "      <th>Foundation_Stone</th>\n",
       "      <th>Foundation_Wood</th>\n",
       "      <th>Heating_GasA</th>\n",
       "      <th>Heating_GasW</th>\n",
       "      <th>Heating_Grav</th>\n",
       "      <th>Heating_OthW</th>\n",
       "      <th>Heating_Wall</th>\n",
       "      <th>CentralAir_Y</th>\n",
       "      <th>Electrical_FuseF</th>\n",
       "      <th>Electrical_FuseP</th>\n",
       "      <th>Electrical_Mixed</th>\n",
       "      <th>Electrical_SBrkr</th>\n",
       "      <th>GarageType_Attchd</th>\n",
       "      <th>GarageType_Basment</th>\n",
       "      <th>GarageType_BuiltIn</th>\n",
       "      <th>GarageType_CarPort</th>\n",
       "      <th>GarageType_Detchd</th>\n",
       "      <th>GarageType_No</th>\n",
       "      <th>GarageFinish_No</th>\n",
       "      <th>GarageFinish_RFn</th>\n",
       "      <th>GarageFinish_Unf</th>\n",
       "      <th>PavedDrive_P</th>\n",
       "      <th>PavedDrive_Y</th>\n",
       "      <th>Fence_GdWo</th>\n",
       "      <th>Fence_MnPrv</th>\n",
       "      <th>Fence_MnWw</th>\n",
       "      <th>Fence_No</th>\n",
       "      <th>SaleCondition_AdjLand</th>\n",
       "      <th>SaleCondition_Alloca</th>\n",
       "      <th>SaleCondition_Family</th>\n",
       "      <th>SaleCondition_Normal</th>\n",
       "      <th>SaleCondition_Partial</th>\n",
       "    </tr>\n",
       "  </thead>\n",
       "  <tbody>\n",
       "    <tr>\n",
       "      <th>1711</th>\n",
       "      <td>712</td>\n",
       "      <td>535303150</td>\n",
       "      <td>1319</td>\n",
       "      <td>123000</td>\n",
       "      <td>20</td>\n",
       "      <td>RL</td>\n",
       "      <td>79.0</td>\n",
       "      <td>10634</td>\n",
       "      <td>Pave</td>\n",
       "      <td>None</td>\n",
       "      <td>4</td>\n",
       "      <td>Lvl</td>\n",
       "      <td>AllPub</td>\n",
       "      <td>Inside</td>\n",
       "      <td>3</td>\n",
       "      <td>NAmes</td>\n",
       "      <td>Norm</td>\n",
       "      <td>Norm</td>\n",
       "      <td>1Fam</td>\n",
       "      <td>1Story</td>\n",
       "      <td>5</td>\n",
       "      <td>6</td>\n",
       "      <td>1953</td>\n",
       "      <td>1953</td>\n",
       "      <td>Gable</td>\n",
       "      <td>CompShg</td>\n",
       "      <td>MetalSd</td>\n",
       "      <td>MetalSd</td>\n",
       "      <td>None</td>\n",
       "      <td>0.0</td>\n",
       "      <td>3</td>\n",
       "      <td>3</td>\n",
       "      <td>PConc</td>\n",
       "      <td>3</td>\n",
       "      <td>3</td>\n",
       "      <td>0</td>\n",
       "      <td>4</td>\n",
       "      <td>428.0</td>\n",
       "      <td>2</td>\n",
       "      <td>180.0</td>\n",
       "      <td>0.0</td>\n",
       "      <td>608.0</td>\n",
       "      <td>GasA</td>\n",
       "      <td>3</td>\n",
       "      <td>Y</td>\n",
       "      <td>SBrkr</td>\n",
       "      <td>1319</td>\n",
       "      <td>0</td>\n",
       "      <td>0</td>\n",
       "      <td>1.0</td>\n",
       "      <td>0.0</td>\n",
       "      <td>1</td>\n",
       "      <td>0</td>\n",
       "      <td>3</td>\n",
       "      <td>1</td>\n",
       "      <td>3</td>\n",
       "      <td>5</td>\n",
       "      <td>6</td>\n",
       "      <td>0</td>\n",
       "      <td>0</td>\n",
       "      <td>Attchd</td>\n",
       "      <td>1953.0</td>\n",
       "      <td>Unf</td>\n",
       "      <td>1.0</td>\n",
       "      <td>270.0</td>\n",
       "      <td>3</td>\n",
       "      <td>3</td>\n",
       "      <td>Y</td>\n",
       "      <td>66</td>\n",
       "      <td>0</td>\n",
       "      <td>0</td>\n",
       "      <td>0</td>\n",
       "      <td>0</td>\n",
       "      <td>0</td>\n",
       "      <td>NaN</td>\n",
       "      <td>GdWo</td>\n",
       "      <td>No</td>\n",
       "      <td>0</td>\n",
       "      <td>11</td>\n",
       "      <td>2009</td>\n",
       "      <td>WD</td>\n",
       "      <td>Normal</td>\n",
       "      <td>20</td>\n",
       "      <td>11</td>\n",
       "      <td>0</td>\n",
       "      <td>0</td>\n",
       "      <td>0</td>\n",
       "      <td>0</td>\n",
       "      <td>1</td>\n",
       "      <td>0</td>\n",
       "      <td>1</td>\n",
       "      <td>1</td>\n",
       "      <td>0</td>\n",
       "      <td>0</td>\n",
       "      <td>0</td>\n",
       "      <td>1</td>\n",
       "      <td>0</td>\n",
       "      <td>0</td>\n",
       "      <td>0</td>\n",
       "      <td>0</td>\n",
       "      <td>1</td>\n",
       "      <td>0</td>\n",
       "      <td>0</td>\n",
       "      <td>0</td>\n",
       "      <td>0</td>\n",
       "      <td>0</td>\n",
       "      <td>0</td>\n",
       "      <td>0</td>\n",
       "      <td>0</td>\n",
       "      <td>0</td>\n",
       "      <td>0</td>\n",
       "      <td>0</td>\n",
       "      <td>0</td>\n",
       "      <td>0</td>\n",
       "      <td>0</td>\n",
       "      <td>1</td>\n",
       "      <td>0</td>\n",
       "      <td>0</td>\n",
       "      <td>0</td>\n",
       "      <td>0</td>\n",
       "      <td>0</td>\n",
       "      <td>0</td>\n",
       "      <td>0</td>\n",
       "      <td>0</td>\n",
       "      <td>0</td>\n",
       "      <td>0</td>\n",
       "      <td>0</td>\n",
       "      <td>0</td>\n",
       "      <td>0</td>\n",
       "      <td>1</td>\n",
       "      <td>0</td>\n",
       "      <td>0</td>\n",
       "      <td>0</td>\n",
       "      <td>0</td>\n",
       "      <td>0</td>\n",
       "      <td>0</td>\n",
       "      <td>0</td>\n",
       "      <td>1</td>\n",
       "      <td>0</td>\n",
       "      <td>0</td>\n",
       "      <td>0</td>\n",
       "      <td>0</td>\n",
       "      <td>0</td>\n",
       "      <td>0</td>\n",
       "      <td>0</td>\n",
       "      <td>0</td>\n",
       "      <td>0</td>\n",
       "      <td>0</td>\n",
       "      <td>1</td>\n",
       "      <td>0</td>\n",
       "      <td>0</td>\n",
       "      <td>0</td>\n",
       "      <td>0</td>\n",
       "      <td>0</td>\n",
       "      <td>1</td>\n",
       "      <td>0</td>\n",
       "      <td>0</td>\n",
       "      <td>0</td>\n",
       "      <td>0</td>\n",
       "      <td>0</td>\n",
       "      <td>0</td>\n",
       "      <td>0</td>\n",
       "      <td>0</td>\n",
       "      <td>0</td>\n",
       "      <td>0</td>\n",
       "      <td>0</td>\n",
       "      <td>0</td>\n",
       "      <td>0</td>\n",
       "      <td>0</td>\n",
       "      <td>0</td>\n",
       "      <td>0</td>\n",
       "      <td>0</td>\n",
       "      <td>1</td>\n",
       "      <td>0</td>\n",
       "      <td>0</td>\n",
       "      <td>0</td>\n",
       "      <td>0</td>\n",
       "      <td>0</td>\n",
       "      <td>0</td>\n",
       "      <td>0</td>\n",
       "      <td>0</td>\n",
       "      <td>0</td>\n",
       "      <td>0</td>\n",
       "      <td>0</td>\n",
       "      <td>0</td>\n",
       "      <td>0</td>\n",
       "      <td>1</td>\n",
       "      <td>0</td>\n",
       "      <td>0</td>\n",
       "      <td>0</td>\n",
       "      <td>0</td>\n",
       "      <td>0</td>\n",
       "      <td>0</td>\n",
       "      <td>0</td>\n",
       "      <td>0</td>\n",
       "      <td>1</td>\n",
       "      <td>0</td>\n",
       "      <td>0</td>\n",
       "      <td>1</td>\n",
       "      <td>0</td>\n",
       "      <td>0</td>\n",
       "      <td>0</td>\n",
       "      <td>1</td>\n",
       "      <td>0</td>\n",
       "      <td>0</td>\n",
       "      <td>0</td>\n",
       "      <td>0</td>\n",
       "      <td>1</td>\n",
       "      <td>0</td>\n",
       "      <td>0</td>\n",
       "      <td>0</td>\n",
       "      <td>1</td>\n",
       "      <td>1</td>\n",
       "      <td>0</td>\n",
       "      <td>0</td>\n",
       "      <td>0</td>\n",
       "      <td>0</td>\n",
       "      <td>0</td>\n",
       "      <td>0</td>\n",
       "      <td>0</td>\n",
       "      <td>1</td>\n",
       "      <td>0</td>\n",
       "      <td>1</td>\n",
       "      <td>1</td>\n",
       "      <td>0</td>\n",
       "      <td>0</td>\n",
       "      <td>0</td>\n",
       "      <td>0</td>\n",
       "      <td>0</td>\n",
       "      <td>0</td>\n",
       "      <td>1</td>\n",
       "      <td>0</td>\n",
       "    </tr>\n",
       "    <tr>\n",
       "      <th>1729</th>\n",
       "      <td>730</td>\n",
       "      <td>905452040</td>\n",
       "      <td>1639</td>\n",
       "      <td>154400</td>\n",
       "      <td>60</td>\n",
       "      <td>RL</td>\n",
       "      <td>50.0</td>\n",
       "      <td>9350</td>\n",
       "      <td>Pave</td>\n",
       "      <td>None</td>\n",
       "      <td>4</td>\n",
       "      <td>Bnk</td>\n",
       "      <td>AllPub</td>\n",
       "      <td>Inside</td>\n",
       "      <td>3</td>\n",
       "      <td>Edwards</td>\n",
       "      <td>Norm</td>\n",
       "      <td>Norm</td>\n",
       "      <td>1Fam</td>\n",
       "      <td>2Story</td>\n",
       "      <td>6</td>\n",
       "      <td>7</td>\n",
       "      <td>1946</td>\n",
       "      <td>1950</td>\n",
       "      <td>Hip</td>\n",
       "      <td>CompShg</td>\n",
       "      <td>MetalSd</td>\n",
       "      <td>MetalSd</td>\n",
       "      <td>None</td>\n",
       "      <td>0.0</td>\n",
       "      <td>3</td>\n",
       "      <td>3</td>\n",
       "      <td>CBlock</td>\n",
       "      <td>3</td>\n",
       "      <td>3</td>\n",
       "      <td>0</td>\n",
       "      <td>4</td>\n",
       "      <td>342.0</td>\n",
       "      <td>1</td>\n",
       "      <td>0.0</td>\n",
       "      <td>405.0</td>\n",
       "      <td>747.0</td>\n",
       "      <td>GasA</td>\n",
       "      <td>5</td>\n",
       "      <td>Y</td>\n",
       "      <td>SBrkr</td>\n",
       "      <td>892</td>\n",
       "      <td>747</td>\n",
       "      <td>0</td>\n",
       "      <td>0.0</td>\n",
       "      <td>0.0</td>\n",
       "      <td>1</td>\n",
       "      <td>1</td>\n",
       "      <td>3</td>\n",
       "      <td>1</td>\n",
       "      <td>4</td>\n",
       "      <td>6</td>\n",
       "      <td>8</td>\n",
       "      <td>1</td>\n",
       "      <td>4</td>\n",
       "      <td>Detchd</td>\n",
       "      <td>1946.0</td>\n",
       "      <td>Unf</td>\n",
       "      <td>1.0</td>\n",
       "      <td>240.0</td>\n",
       "      <td>3</td>\n",
       "      <td>3</td>\n",
       "      <td>Y</td>\n",
       "      <td>0</td>\n",
       "      <td>50</td>\n",
       "      <td>0</td>\n",
       "      <td>0</td>\n",
       "      <td>0</td>\n",
       "      <td>0</td>\n",
       "      <td>NaN</td>\n",
       "      <td>No</td>\n",
       "      <td>No</td>\n",
       "      <td>0</td>\n",
       "      <td>7</td>\n",
       "      <td>2009</td>\n",
       "      <td>WD</td>\n",
       "      <td>Normal</td>\n",
       "      <td>60</td>\n",
       "      <td>7</td>\n",
       "      <td>0</td>\n",
       "      <td>0</td>\n",
       "      <td>0</td>\n",
       "      <td>0</td>\n",
       "      <td>1</td>\n",
       "      <td>0</td>\n",
       "      <td>1</td>\n",
       "      <td>1</td>\n",
       "      <td>0</td>\n",
       "      <td>0</td>\n",
       "      <td>0</td>\n",
       "      <td>0</td>\n",
       "      <td>0</td>\n",
       "      <td>0</td>\n",
       "      <td>0</td>\n",
       "      <td>0</td>\n",
       "      <td>1</td>\n",
       "      <td>0</td>\n",
       "      <td>0</td>\n",
       "      <td>0</td>\n",
       "      <td>0</td>\n",
       "      <td>0</td>\n",
       "      <td>0</td>\n",
       "      <td>1</td>\n",
       "      <td>0</td>\n",
       "      <td>0</td>\n",
       "      <td>0</td>\n",
       "      <td>0</td>\n",
       "      <td>0</td>\n",
       "      <td>0</td>\n",
       "      <td>0</td>\n",
       "      <td>0</td>\n",
       "      <td>0</td>\n",
       "      <td>0</td>\n",
       "      <td>0</td>\n",
       "      <td>0</td>\n",
       "      <td>0</td>\n",
       "      <td>0</td>\n",
       "      <td>0</td>\n",
       "      <td>0</td>\n",
       "      <td>0</td>\n",
       "      <td>0</td>\n",
       "      <td>0</td>\n",
       "      <td>0</td>\n",
       "      <td>0</td>\n",
       "      <td>1</td>\n",
       "      <td>0</td>\n",
       "      <td>0</td>\n",
       "      <td>0</td>\n",
       "      <td>0</td>\n",
       "      <td>0</td>\n",
       "      <td>0</td>\n",
       "      <td>0</td>\n",
       "      <td>1</td>\n",
       "      <td>0</td>\n",
       "      <td>0</td>\n",
       "      <td>0</td>\n",
       "      <td>0</td>\n",
       "      <td>0</td>\n",
       "      <td>0</td>\n",
       "      <td>0</td>\n",
       "      <td>0</td>\n",
       "      <td>0</td>\n",
       "      <td>0</td>\n",
       "      <td>0</td>\n",
       "      <td>0</td>\n",
       "      <td>0</td>\n",
       "      <td>1</td>\n",
       "      <td>0</td>\n",
       "      <td>0</td>\n",
       "      <td>0</td>\n",
       "      <td>0</td>\n",
       "      <td>1</td>\n",
       "      <td>0</td>\n",
       "      <td>0</td>\n",
       "      <td>0</td>\n",
       "      <td>0</td>\n",
       "      <td>0</td>\n",
       "      <td>0</td>\n",
       "      <td>0</td>\n",
       "      <td>0</td>\n",
       "      <td>0</td>\n",
       "      <td>0</td>\n",
       "      <td>0</td>\n",
       "      <td>0</td>\n",
       "      <td>0</td>\n",
       "      <td>0</td>\n",
       "      <td>0</td>\n",
       "      <td>1</td>\n",
       "      <td>0</td>\n",
       "      <td>0</td>\n",
       "      <td>0</td>\n",
       "      <td>0</td>\n",
       "      <td>0</td>\n",
       "      <td>0</td>\n",
       "      <td>0</td>\n",
       "      <td>0</td>\n",
       "      <td>0</td>\n",
       "      <td>0</td>\n",
       "      <td>0</td>\n",
       "      <td>0</td>\n",
       "      <td>0</td>\n",
       "      <td>1</td>\n",
       "      <td>0</td>\n",
       "      <td>0</td>\n",
       "      <td>0</td>\n",
       "      <td>0</td>\n",
       "      <td>0</td>\n",
       "      <td>0</td>\n",
       "      <td>0</td>\n",
       "      <td>0</td>\n",
       "      <td>1</td>\n",
       "      <td>0</td>\n",
       "      <td>1</td>\n",
       "      <td>0</td>\n",
       "      <td>0</td>\n",
       "      <td>0</td>\n",
       "      <td>0</td>\n",
       "      <td>1</td>\n",
       "      <td>0</td>\n",
       "      <td>0</td>\n",
       "      <td>0</td>\n",
       "      <td>0</td>\n",
       "      <td>1</td>\n",
       "      <td>0</td>\n",
       "      <td>0</td>\n",
       "      <td>0</td>\n",
       "      <td>1</td>\n",
       "      <td>0</td>\n",
       "      <td>0</td>\n",
       "      <td>0</td>\n",
       "      <td>0</td>\n",
       "      <td>1</td>\n",
       "      <td>0</td>\n",
       "      <td>0</td>\n",
       "      <td>0</td>\n",
       "      <td>1</td>\n",
       "      <td>0</td>\n",
       "      <td>1</td>\n",
       "      <td>0</td>\n",
       "      <td>0</td>\n",
       "      <td>0</td>\n",
       "      <td>1</td>\n",
       "      <td>0</td>\n",
       "      <td>0</td>\n",
       "      <td>0</td>\n",
       "      <td>1</td>\n",
       "      <td>0</td>\n",
       "    </tr>\n",
       "    <tr>\n",
       "      <th>2407</th>\n",
       "      <td>591</td>\n",
       "      <td>535380140</td>\n",
       "      <td>1436</td>\n",
       "      <td>139000</td>\n",
       "      <td>50</td>\n",
       "      <td>RL</td>\n",
       "      <td>60.0</td>\n",
       "      <td>10836</td>\n",
       "      <td>Pave</td>\n",
       "      <td>Grvl</td>\n",
       "      <td>4</td>\n",
       "      <td>Lvl</td>\n",
       "      <td>AllPub</td>\n",
       "      <td>Inside</td>\n",
       "      <td>3</td>\n",
       "      <td>OldTown</td>\n",
       "      <td>Norm</td>\n",
       "      <td>Norm</td>\n",
       "      <td>1Fam</td>\n",
       "      <td>1.5Fin</td>\n",
       "      <td>5</td>\n",
       "      <td>5</td>\n",
       "      <td>1922</td>\n",
       "      <td>1950</td>\n",
       "      <td>Gable</td>\n",
       "      <td>CompShg</td>\n",
       "      <td>Wd Sdng</td>\n",
       "      <td>Wd Sdng</td>\n",
       "      <td>None</td>\n",
       "      <td>0.0</td>\n",
       "      <td>3</td>\n",
       "      <td>3</td>\n",
       "      <td>BrkTil</td>\n",
       "      <td>3</td>\n",
       "      <td>3</td>\n",
       "      <td>0</td>\n",
       "      <td>1</td>\n",
       "      <td>0.0</td>\n",
       "      <td>1</td>\n",
       "      <td>0.0</td>\n",
       "      <td>892.0</td>\n",
       "      <td>892.0</td>\n",
       "      <td>GasA</td>\n",
       "      <td>5</td>\n",
       "      <td>Y</td>\n",
       "      <td>SBrkr</td>\n",
       "      <td>1254</td>\n",
       "      <td>182</td>\n",
       "      <td>0</td>\n",
       "      <td>0.0</td>\n",
       "      <td>1.0</td>\n",
       "      <td>1</td>\n",
       "      <td>0</td>\n",
       "      <td>3</td>\n",
       "      <td>1</td>\n",
       "      <td>3</td>\n",
       "      <td>7</td>\n",
       "      <td>8</td>\n",
       "      <td>1</td>\n",
       "      <td>4</td>\n",
       "      <td>Detchd</td>\n",
       "      <td>1968.0</td>\n",
       "      <td>Unf</td>\n",
       "      <td>4.0</td>\n",
       "      <td>1488.0</td>\n",
       "      <td>2</td>\n",
       "      <td>3</td>\n",
       "      <td>N</td>\n",
       "      <td>0</td>\n",
       "      <td>0</td>\n",
       "      <td>100</td>\n",
       "      <td>0</td>\n",
       "      <td>0</td>\n",
       "      <td>0</td>\n",
       "      <td>NaN</td>\n",
       "      <td>GdWo</td>\n",
       "      <td>No</td>\n",
       "      <td>0</td>\n",
       "      <td>6</td>\n",
       "      <td>2008</td>\n",
       "      <td>WD</td>\n",
       "      <td>Normal</td>\n",
       "      <td>50</td>\n",
       "      <td>6</td>\n",
       "      <td>0</td>\n",
       "      <td>0</td>\n",
       "      <td>0</td>\n",
       "      <td>0</td>\n",
       "      <td>1</td>\n",
       "      <td>0</td>\n",
       "      <td>1</td>\n",
       "      <td>0</td>\n",
       "      <td>0</td>\n",
       "      <td>0</td>\n",
       "      <td>0</td>\n",
       "      <td>1</td>\n",
       "      <td>0</td>\n",
       "      <td>0</td>\n",
       "      <td>0</td>\n",
       "      <td>0</td>\n",
       "      <td>1</td>\n",
       "      <td>0</td>\n",
       "      <td>0</td>\n",
       "      <td>0</td>\n",
       "      <td>0</td>\n",
       "      <td>0</td>\n",
       "      <td>0</td>\n",
       "      <td>0</td>\n",
       "      <td>0</td>\n",
       "      <td>0</td>\n",
       "      <td>0</td>\n",
       "      <td>0</td>\n",
       "      <td>0</td>\n",
       "      <td>0</td>\n",
       "      <td>0</td>\n",
       "      <td>0</td>\n",
       "      <td>0</td>\n",
       "      <td>0</td>\n",
       "      <td>0</td>\n",
       "      <td>0</td>\n",
       "      <td>1</td>\n",
       "      <td>0</td>\n",
       "      <td>0</td>\n",
       "      <td>0</td>\n",
       "      <td>0</td>\n",
       "      <td>0</td>\n",
       "      <td>0</td>\n",
       "      <td>0</td>\n",
       "      <td>0</td>\n",
       "      <td>1</td>\n",
       "      <td>0</td>\n",
       "      <td>0</td>\n",
       "      <td>0</td>\n",
       "      <td>0</td>\n",
       "      <td>0</td>\n",
       "      <td>0</td>\n",
       "      <td>0</td>\n",
       "      <td>1</td>\n",
       "      <td>0</td>\n",
       "      <td>0</td>\n",
       "      <td>0</td>\n",
       "      <td>0</td>\n",
       "      <td>0</td>\n",
       "      <td>0</td>\n",
       "      <td>0</td>\n",
       "      <td>0</td>\n",
       "      <td>0</td>\n",
       "      <td>0</td>\n",
       "      <td>0</td>\n",
       "      <td>0</td>\n",
       "      <td>0</td>\n",
       "      <td>0</td>\n",
       "      <td>0</td>\n",
       "      <td>0</td>\n",
       "      <td>1</td>\n",
       "      <td>0</td>\n",
       "      <td>0</td>\n",
       "      <td>0</td>\n",
       "      <td>0</td>\n",
       "      <td>0</td>\n",
       "      <td>0</td>\n",
       "      <td>0</td>\n",
       "      <td>0</td>\n",
       "      <td>0</td>\n",
       "      <td>0</td>\n",
       "      <td>0</td>\n",
       "      <td>0</td>\n",
       "      <td>0</td>\n",
       "      <td>0</td>\n",
       "      <td>0</td>\n",
       "      <td>0</td>\n",
       "      <td>0</td>\n",
       "      <td>0</td>\n",
       "      <td>0</td>\n",
       "      <td>0</td>\n",
       "      <td>0</td>\n",
       "      <td>0</td>\n",
       "      <td>1</td>\n",
       "      <td>0</td>\n",
       "      <td>0</td>\n",
       "      <td>0</td>\n",
       "      <td>0</td>\n",
       "      <td>0</td>\n",
       "      <td>0</td>\n",
       "      <td>0</td>\n",
       "      <td>0</td>\n",
       "      <td>0</td>\n",
       "      <td>0</td>\n",
       "      <td>0</td>\n",
       "      <td>0</td>\n",
       "      <td>0</td>\n",
       "      <td>0</td>\n",
       "      <td>1</td>\n",
       "      <td>0</td>\n",
       "      <td>0</td>\n",
       "      <td>1</td>\n",
       "      <td>0</td>\n",
       "      <td>0</td>\n",
       "      <td>0</td>\n",
       "      <td>0</td>\n",
       "      <td>0</td>\n",
       "      <td>0</td>\n",
       "      <td>1</td>\n",
       "      <td>0</td>\n",
       "      <td>0</td>\n",
       "      <td>0</td>\n",
       "      <td>0</td>\n",
       "      <td>1</td>\n",
       "      <td>0</td>\n",
       "      <td>0</td>\n",
       "      <td>0</td>\n",
       "      <td>1</td>\n",
       "      <td>0</td>\n",
       "      <td>0</td>\n",
       "      <td>0</td>\n",
       "      <td>0</td>\n",
       "      <td>1</td>\n",
       "      <td>0</td>\n",
       "      <td>0</td>\n",
       "      <td>0</td>\n",
       "      <td>1</td>\n",
       "      <td>0</td>\n",
       "      <td>0</td>\n",
       "      <td>1</td>\n",
       "      <td>0</td>\n",
       "      <td>0</td>\n",
       "      <td>0</td>\n",
       "      <td>0</td>\n",
       "      <td>0</td>\n",
       "      <td>0</td>\n",
       "      <td>1</td>\n",
       "      <td>0</td>\n",
       "    </tr>\n",
       "    <tr>\n",
       "      <th>287</th>\n",
       "      <td>288</td>\n",
       "      <td>527254020</td>\n",
       "      <td>2046</td>\n",
       "      <td>372500</td>\n",
       "      <td>20</td>\n",
       "      <td>RL</td>\n",
       "      <td>80.0</td>\n",
       "      <td>11844</td>\n",
       "      <td>Pave</td>\n",
       "      <td>None</td>\n",
       "      <td>3</td>\n",
       "      <td>Lvl</td>\n",
       "      <td>AllPub</td>\n",
       "      <td>Inside</td>\n",
       "      <td>3</td>\n",
       "      <td>StoneBr</td>\n",
       "      <td>Norm</td>\n",
       "      <td>Norm</td>\n",
       "      <td>1Fam</td>\n",
       "      <td>1Story</td>\n",
       "      <td>8</td>\n",
       "      <td>5</td>\n",
       "      <td>2008</td>\n",
       "      <td>2008</td>\n",
       "      <td>Hip</td>\n",
       "      <td>CompShg</td>\n",
       "      <td>VinylSd</td>\n",
       "      <td>VinylSd</td>\n",
       "      <td>Stone</td>\n",
       "      <td>464.0</td>\n",
       "      <td>4</td>\n",
       "      <td>3</td>\n",
       "      <td>PConc</td>\n",
       "      <td>5</td>\n",
       "      <td>3</td>\n",
       "      <td>1</td>\n",
       "      <td>1</td>\n",
       "      <td>0.0</td>\n",
       "      <td>1</td>\n",
       "      <td>0.0</td>\n",
       "      <td>2046.0</td>\n",
       "      <td>2046.0</td>\n",
       "      <td>GasA</td>\n",
       "      <td>5</td>\n",
       "      <td>Y</td>\n",
       "      <td>SBrkr</td>\n",
       "      <td>2046</td>\n",
       "      <td>0</td>\n",
       "      <td>0</td>\n",
       "      <td>0.0</td>\n",
       "      <td>0.0</td>\n",
       "      <td>2</td>\n",
       "      <td>1</td>\n",
       "      <td>3</td>\n",
       "      <td>1</td>\n",
       "      <td>4</td>\n",
       "      <td>7</td>\n",
       "      <td>8</td>\n",
       "      <td>1</td>\n",
       "      <td>4</td>\n",
       "      <td>Attchd</td>\n",
       "      <td>2008.0</td>\n",
       "      <td>Fin</td>\n",
       "      <td>3.0</td>\n",
       "      <td>834.0</td>\n",
       "      <td>3</td>\n",
       "      <td>3</td>\n",
       "      <td>Y</td>\n",
       "      <td>322</td>\n",
       "      <td>82</td>\n",
       "      <td>0</td>\n",
       "      <td>0</td>\n",
       "      <td>0</td>\n",
       "      <td>0</td>\n",
       "      <td>NaN</td>\n",
       "      <td>No</td>\n",
       "      <td>No</td>\n",
       "      <td>0</td>\n",
       "      <td>7</td>\n",
       "      <td>2009</td>\n",
       "      <td>New</td>\n",
       "      <td>Partial</td>\n",
       "      <td>20</td>\n",
       "      <td>7</td>\n",
       "      <td>0</td>\n",
       "      <td>0</td>\n",
       "      <td>0</td>\n",
       "      <td>0</td>\n",
       "      <td>1</td>\n",
       "      <td>0</td>\n",
       "      <td>1</td>\n",
       "      <td>1</td>\n",
       "      <td>0</td>\n",
       "      <td>0</td>\n",
       "      <td>0</td>\n",
       "      <td>1</td>\n",
       "      <td>0</td>\n",
       "      <td>0</td>\n",
       "      <td>0</td>\n",
       "      <td>0</td>\n",
       "      <td>1</td>\n",
       "      <td>0</td>\n",
       "      <td>0</td>\n",
       "      <td>0</td>\n",
       "      <td>0</td>\n",
       "      <td>0</td>\n",
       "      <td>0</td>\n",
       "      <td>0</td>\n",
       "      <td>0</td>\n",
       "      <td>0</td>\n",
       "      <td>0</td>\n",
       "      <td>0</td>\n",
       "      <td>0</td>\n",
       "      <td>0</td>\n",
       "      <td>0</td>\n",
       "      <td>0</td>\n",
       "      <td>0</td>\n",
       "      <td>0</td>\n",
       "      <td>0</td>\n",
       "      <td>0</td>\n",
       "      <td>0</td>\n",
       "      <td>0</td>\n",
       "      <td>0</td>\n",
       "      <td>0</td>\n",
       "      <td>0</td>\n",
       "      <td>1</td>\n",
       "      <td>0</td>\n",
       "      <td>0</td>\n",
       "      <td>0</td>\n",
       "      <td>1</td>\n",
       "      <td>0</td>\n",
       "      <td>0</td>\n",
       "      <td>0</td>\n",
       "      <td>0</td>\n",
       "      <td>0</td>\n",
       "      <td>0</td>\n",
       "      <td>0</td>\n",
       "      <td>1</td>\n",
       "      <td>0</td>\n",
       "      <td>0</td>\n",
       "      <td>0</td>\n",
       "      <td>0</td>\n",
       "      <td>0</td>\n",
       "      <td>0</td>\n",
       "      <td>0</td>\n",
       "      <td>0</td>\n",
       "      <td>0</td>\n",
       "      <td>0</td>\n",
       "      <td>1</td>\n",
       "      <td>0</td>\n",
       "      <td>0</td>\n",
       "      <td>0</td>\n",
       "      <td>0</td>\n",
       "      <td>0</td>\n",
       "      <td>0</td>\n",
       "      <td>0</td>\n",
       "      <td>1</td>\n",
       "      <td>0</td>\n",
       "      <td>0</td>\n",
       "      <td>0</td>\n",
       "      <td>0</td>\n",
       "      <td>0</td>\n",
       "      <td>0</td>\n",
       "      <td>0</td>\n",
       "      <td>0</td>\n",
       "      <td>0</td>\n",
       "      <td>0</td>\n",
       "      <td>0</td>\n",
       "      <td>0</td>\n",
       "      <td>0</td>\n",
       "      <td>0</td>\n",
       "      <td>0</td>\n",
       "      <td>0</td>\n",
       "      <td>0</td>\n",
       "      <td>0</td>\n",
       "      <td>0</td>\n",
       "      <td>1</td>\n",
       "      <td>0</td>\n",
       "      <td>0</td>\n",
       "      <td>0</td>\n",
       "      <td>0</td>\n",
       "      <td>0</td>\n",
       "      <td>0</td>\n",
       "      <td>0</td>\n",
       "      <td>0</td>\n",
       "      <td>0</td>\n",
       "      <td>0</td>\n",
       "      <td>0</td>\n",
       "      <td>0</td>\n",
       "      <td>0</td>\n",
       "      <td>0</td>\n",
       "      <td>1</td>\n",
       "      <td>0</td>\n",
       "      <td>0</td>\n",
       "      <td>0</td>\n",
       "      <td>0</td>\n",
       "      <td>1</td>\n",
       "      <td>0</td>\n",
       "      <td>1</td>\n",
       "      <td>0</td>\n",
       "      <td>0</td>\n",
       "      <td>0</td>\n",
       "      <td>1</td>\n",
       "      <td>0</td>\n",
       "      <td>0</td>\n",
       "      <td>0</td>\n",
       "      <td>0</td>\n",
       "      <td>1</td>\n",
       "      <td>0</td>\n",
       "      <td>0</td>\n",
       "      <td>0</td>\n",
       "      <td>1</td>\n",
       "      <td>1</td>\n",
       "      <td>0</td>\n",
       "      <td>0</td>\n",
       "      <td>0</td>\n",
       "      <td>0</td>\n",
       "      <td>0</td>\n",
       "      <td>0</td>\n",
       "      <td>0</td>\n",
       "      <td>0</td>\n",
       "      <td>0</td>\n",
       "      <td>1</td>\n",
       "      <td>0</td>\n",
       "      <td>0</td>\n",
       "      <td>0</td>\n",
       "      <td>1</td>\n",
       "      <td>0</td>\n",
       "      <td>0</td>\n",
       "      <td>0</td>\n",
       "      <td>0</td>\n",
       "      <td>1</td>\n",
       "    </tr>\n",
       "    <tr>\n",
       "      <th>2410</th>\n",
       "      <td>594</td>\n",
       "      <td>528116030</td>\n",
       "      <td>1850</td>\n",
       "      <td>326000</td>\n",
       "      <td>20</td>\n",
       "      <td>RL</td>\n",
       "      <td>98.0</td>\n",
       "      <td>16033</td>\n",
       "      <td>Pave</td>\n",
       "      <td>None</td>\n",
       "      <td>3</td>\n",
       "      <td>Lvl</td>\n",
       "      <td>AllPub</td>\n",
       "      <td>FR2</td>\n",
       "      <td>3</td>\n",
       "      <td>NridgHt</td>\n",
       "      <td>Norm</td>\n",
       "      <td>Norm</td>\n",
       "      <td>1Fam</td>\n",
       "      <td>1Story</td>\n",
       "      <td>9</td>\n",
       "      <td>5</td>\n",
       "      <td>2004</td>\n",
       "      <td>2005</td>\n",
       "      <td>Hip</td>\n",
       "      <td>CompShg</td>\n",
       "      <td>VinylSd</td>\n",
       "      <td>VinylSd</td>\n",
       "      <td>BrkFace</td>\n",
       "      <td>378.0</td>\n",
       "      <td>4</td>\n",
       "      <td>3</td>\n",
       "      <td>PConc</td>\n",
       "      <td>5</td>\n",
       "      <td>3</td>\n",
       "      <td>3</td>\n",
       "      <td>6</td>\n",
       "      <td>1261.0</td>\n",
       "      <td>1</td>\n",
       "      <td>0.0</td>\n",
       "      <td>572.0</td>\n",
       "      <td>1833.0</td>\n",
       "      <td>GasA</td>\n",
       "      <td>5</td>\n",
       "      <td>Y</td>\n",
       "      <td>SBrkr</td>\n",
       "      <td>1850</td>\n",
       "      <td>0</td>\n",
       "      <td>0</td>\n",
       "      <td>1.0</td>\n",
       "      <td>0.0</td>\n",
       "      <td>2</td>\n",
       "      <td>0</td>\n",
       "      <td>3</td>\n",
       "      <td>1</td>\n",
       "      <td>4</td>\n",
       "      <td>8</td>\n",
       "      <td>8</td>\n",
       "      <td>1</td>\n",
       "      <td>4</td>\n",
       "      <td>Attchd</td>\n",
       "      <td>2004.0</td>\n",
       "      <td>Fin</td>\n",
       "      <td>3.0</td>\n",
       "      <td>772.0</td>\n",
       "      <td>3</td>\n",
       "      <td>3</td>\n",
       "      <td>Y</td>\n",
       "      <td>519</td>\n",
       "      <td>112</td>\n",
       "      <td>0</td>\n",
       "      <td>0</td>\n",
       "      <td>0</td>\n",
       "      <td>0</td>\n",
       "      <td>NaN</td>\n",
       "      <td>No</td>\n",
       "      <td>No</td>\n",
       "      <td>0</td>\n",
       "      <td>3</td>\n",
       "      <td>2006</td>\n",
       "      <td>WD</td>\n",
       "      <td>Normal</td>\n",
       "      <td>20</td>\n",
       "      <td>3</td>\n",
       "      <td>0</td>\n",
       "      <td>0</td>\n",
       "      <td>0</td>\n",
       "      <td>0</td>\n",
       "      <td>1</td>\n",
       "      <td>0</td>\n",
       "      <td>1</td>\n",
       "      <td>1</td>\n",
       "      <td>0</td>\n",
       "      <td>0</td>\n",
       "      <td>0</td>\n",
       "      <td>1</td>\n",
       "      <td>0</td>\n",
       "      <td>0</td>\n",
       "      <td>1</td>\n",
       "      <td>0</td>\n",
       "      <td>0</td>\n",
       "      <td>0</td>\n",
       "      <td>0</td>\n",
       "      <td>0</td>\n",
       "      <td>0</td>\n",
       "      <td>0</td>\n",
       "      <td>0</td>\n",
       "      <td>0</td>\n",
       "      <td>0</td>\n",
       "      <td>0</td>\n",
       "      <td>0</td>\n",
       "      <td>0</td>\n",
       "      <td>0</td>\n",
       "      <td>0</td>\n",
       "      <td>0</td>\n",
       "      <td>0</td>\n",
       "      <td>0</td>\n",
       "      <td>0</td>\n",
       "      <td>0</td>\n",
       "      <td>1</td>\n",
       "      <td>0</td>\n",
       "      <td>0</td>\n",
       "      <td>0</td>\n",
       "      <td>0</td>\n",
       "      <td>0</td>\n",
       "      <td>0</td>\n",
       "      <td>0</td>\n",
       "      <td>0</td>\n",
       "      <td>0</td>\n",
       "      <td>1</td>\n",
       "      <td>0</td>\n",
       "      <td>0</td>\n",
       "      <td>0</td>\n",
       "      <td>0</td>\n",
       "      <td>0</td>\n",
       "      <td>0</td>\n",
       "      <td>0</td>\n",
       "      <td>1</td>\n",
       "      <td>0</td>\n",
       "      <td>0</td>\n",
       "      <td>0</td>\n",
       "      <td>0</td>\n",
       "      <td>0</td>\n",
       "      <td>0</td>\n",
       "      <td>0</td>\n",
       "      <td>0</td>\n",
       "      <td>0</td>\n",
       "      <td>0</td>\n",
       "      <td>1</td>\n",
       "      <td>0</td>\n",
       "      <td>0</td>\n",
       "      <td>0</td>\n",
       "      <td>0</td>\n",
       "      <td>0</td>\n",
       "      <td>0</td>\n",
       "      <td>0</td>\n",
       "      <td>1</td>\n",
       "      <td>0</td>\n",
       "      <td>0</td>\n",
       "      <td>0</td>\n",
       "      <td>0</td>\n",
       "      <td>0</td>\n",
       "      <td>0</td>\n",
       "      <td>0</td>\n",
       "      <td>0</td>\n",
       "      <td>0</td>\n",
       "      <td>0</td>\n",
       "      <td>0</td>\n",
       "      <td>0</td>\n",
       "      <td>0</td>\n",
       "      <td>0</td>\n",
       "      <td>0</td>\n",
       "      <td>0</td>\n",
       "      <td>0</td>\n",
       "      <td>0</td>\n",
       "      <td>0</td>\n",
       "      <td>1</td>\n",
       "      <td>0</td>\n",
       "      <td>0</td>\n",
       "      <td>0</td>\n",
       "      <td>0</td>\n",
       "      <td>0</td>\n",
       "      <td>0</td>\n",
       "      <td>0</td>\n",
       "      <td>0</td>\n",
       "      <td>0</td>\n",
       "      <td>0</td>\n",
       "      <td>0</td>\n",
       "      <td>0</td>\n",
       "      <td>0</td>\n",
       "      <td>0</td>\n",
       "      <td>1</td>\n",
       "      <td>0</td>\n",
       "      <td>0</td>\n",
       "      <td>1</td>\n",
       "      <td>0</td>\n",
       "      <td>0</td>\n",
       "      <td>0</td>\n",
       "      <td>1</td>\n",
       "      <td>0</td>\n",
       "      <td>0</td>\n",
       "      <td>0</td>\n",
       "      <td>1</td>\n",
       "      <td>0</td>\n",
       "      <td>0</td>\n",
       "      <td>0</td>\n",
       "      <td>0</td>\n",
       "      <td>1</td>\n",
       "      <td>0</td>\n",
       "      <td>0</td>\n",
       "      <td>0</td>\n",
       "      <td>1</td>\n",
       "      <td>1</td>\n",
       "      <td>0</td>\n",
       "      <td>0</td>\n",
       "      <td>0</td>\n",
       "      <td>0</td>\n",
       "      <td>0</td>\n",
       "      <td>0</td>\n",
       "      <td>0</td>\n",
       "      <td>0</td>\n",
       "      <td>0</td>\n",
       "      <td>1</td>\n",
       "      <td>0</td>\n",
       "      <td>0</td>\n",
       "      <td>0</td>\n",
       "      <td>1</td>\n",
       "      <td>0</td>\n",
       "      <td>0</td>\n",
       "      <td>0</td>\n",
       "      <td>1</td>\n",
       "      <td>0</td>\n",
       "    </tr>\n",
       "  </tbody>\n",
       "</table>\n",
       "</div>"
      ],
      "text/plain": [
       "      Unnamed: 0.1        PID  GrLivArea  SalePrice  MSSubClass MSZoning  \\\n",
       "1711           712  535303150       1319     123000          20       RL   \n",
       "1729           730  905452040       1639     154400          60       RL   \n",
       "2407           591  535380140       1436     139000          50       RL   \n",
       "287            288  527254020       2046     372500          20       RL   \n",
       "2410           594  528116030       1850     326000          20       RL   \n",
       "\n",
       "      LotFrontage  LotArea Street Alley  LotShape LandContour Utilities  \\\n",
       "1711         79.0    10634   Pave  None         4         Lvl    AllPub   \n",
       "1729         50.0     9350   Pave  None         4         Bnk    AllPub   \n",
       "2407         60.0    10836   Pave  Grvl         4         Lvl    AllPub   \n",
       "287          80.0    11844   Pave  None         3         Lvl    AllPub   \n",
       "2410         98.0    16033   Pave  None         3         Lvl    AllPub   \n",
       "\n",
       "     LotConfig  LandSlope Neighborhood Condition1 Condition2 BldgType  \\\n",
       "1711    Inside          3        NAmes       Norm       Norm     1Fam   \n",
       "1729    Inside          3      Edwards       Norm       Norm     1Fam   \n",
       "2407    Inside          3      OldTown       Norm       Norm     1Fam   \n",
       "287     Inside          3      StoneBr       Norm       Norm     1Fam   \n",
       "2410       FR2          3      NridgHt       Norm       Norm     1Fam   \n",
       "\n",
       "     HouseStyle  OverallQual  OverallCond  YearBuilt  YearRemodAdd RoofStyle  \\\n",
       "1711     1Story            5            6       1953          1953     Gable   \n",
       "1729     2Story            6            7       1946          1950       Hip   \n",
       "2407     1.5Fin            5            5       1922          1950     Gable   \n",
       "287      1Story            8            5       2008          2008       Hip   \n",
       "2410     1Story            9            5       2004          2005       Hip   \n",
       "\n",
       "     RoofMatl Exterior1st Exterior2nd MasVnrType  MasVnrArea  ExterQual  \\\n",
       "1711  CompShg     MetalSd     MetalSd       None         0.0          3   \n",
       "1729  CompShg     MetalSd     MetalSd       None         0.0          3   \n",
       "2407  CompShg     Wd Sdng     Wd Sdng       None         0.0          3   \n",
       "287   CompShg     VinylSd     VinylSd      Stone       464.0          4   \n",
       "2410  CompShg     VinylSd     VinylSd    BrkFace       378.0          4   \n",
       "\n",
       "      ExterCond Foundation  BsmtQual  BsmtCond  BsmtExposure  BsmtFinType1  \\\n",
       "1711          3      PConc         3         3             0             4   \n",
       "1729          3     CBlock         3         3             0             4   \n",
       "2407          3     BrkTil         3         3             0             1   \n",
       "287           3      PConc         5         3             1             1   \n",
       "2410          3      PConc         5         3             3             6   \n",
       "\n",
       "      BsmtFinSF1  BsmtFinType2  BsmtFinSF2  BsmtUnfSF  TotalBsmtSF Heating  \\\n",
       "1711       428.0             2       180.0        0.0        608.0    GasA   \n",
       "1729       342.0             1         0.0      405.0        747.0    GasA   \n",
       "2407         0.0             1         0.0      892.0        892.0    GasA   \n",
       "287          0.0             1         0.0     2046.0       2046.0    GasA   \n",
       "2410      1261.0             1         0.0      572.0       1833.0    GasA   \n",
       "\n",
       "      HeatingQC CentralAir Electrical  1stFlrSF  2ndFlrSF  LowQualFinSF  \\\n",
       "1711          3          Y      SBrkr      1319         0             0   \n",
       "1729          5          Y      SBrkr       892       747             0   \n",
       "2407          5          Y      SBrkr      1254       182             0   \n",
       "287           5          Y      SBrkr      2046         0             0   \n",
       "2410          5          Y      SBrkr      1850         0             0   \n",
       "\n",
       "      BsmtFullBath  BsmtHalfBath  FullBath  HalfBath  BedroomAbvGr  \\\n",
       "1711           1.0           0.0         1         0             3   \n",
       "1729           0.0           0.0         1         1             3   \n",
       "2407           0.0           1.0         1         0             3   \n",
       "287            0.0           0.0         2         1             3   \n",
       "2410           1.0           0.0         2         0             3   \n",
       "\n",
       "      KitchenAbvGr  KitchenQual  TotRmsAbvGrd  Functional  Fireplaces  \\\n",
       "1711             1            3             5           6           0   \n",
       "1729             1            4             6           8           1   \n",
       "2407             1            3             7           8           1   \n",
       "287              1            4             7           8           1   \n",
       "2410             1            4             8           8           1   \n",
       "\n",
       "      FireplaceQu GarageType  GarageYrBlt GarageFinish  GarageCars  \\\n",
       "1711            0     Attchd       1953.0          Unf         1.0   \n",
       "1729            4     Detchd       1946.0          Unf         1.0   \n",
       "2407            4     Detchd       1968.0          Unf         4.0   \n",
       "287             4     Attchd       2008.0          Fin         3.0   \n",
       "2410            4     Attchd       2004.0          Fin         3.0   \n",
       "\n",
       "      GarageArea  GarageQual  GarageCond PavedDrive  WoodDeckSF  OpenPorchSF  \\\n",
       "1711       270.0           3           3          Y          66            0   \n",
       "1729       240.0           3           3          Y           0           50   \n",
       "2407      1488.0           2           3          N           0            0   \n",
       "287        834.0           3           3          Y         322           82   \n",
       "2410       772.0           3           3          Y         519          112   \n",
       "\n",
       "      EnclosedPorch  3SsnPorch  ScreenPorch  PoolArea PoolQC Fence  \\\n",
       "1711              0          0            0         0    NaN  GdWo   \n",
       "1729              0          0            0         0    NaN    No   \n",
       "2407            100          0            0         0    NaN  GdWo   \n",
       "287               0          0            0         0    NaN    No   \n",
       "2410              0          0            0         0    NaN    No   \n",
       "\n",
       "     MiscFeature  MiscVal  MoSold  YrSold SaleType SaleCondition  \\\n",
       "1711          No        0      11    2009      WD         Normal   \n",
       "1729          No        0       7    2009      WD         Normal   \n",
       "2407          No        0       6    2008      WD         Normal   \n",
       "287           No        0       7    2009      New       Partial   \n",
       "2410          No        0       3    2006      WD         Normal   \n",
       "\n",
       "      MSSubClass.1  MoSold.1  MSZoning_C (all)  MSZoning_FV  MSZoning_I (all)  \\\n",
       "1711            20        11                 0            0                 0   \n",
       "1729            60         7                 0            0                 0   \n",
       "2407            50         6                 0            0                 0   \n",
       "287             20         7                 0            0                 0   \n",
       "2410            20         3                 0            0                 0   \n",
       "\n",
       "      MSZoning_RH  MSZoning_RL  MSZoning_RM  Street_Pave  Alley_None  \\\n",
       "1711            0            1            0            1           1   \n",
       "1729            0            1            0            1           1   \n",
       "2407            0            1            0            1           0   \n",
       "287             0            1            0            1           1   \n",
       "2410            0            1            0            1           1   \n",
       "\n",
       "      Alley_Pave  LandContour_HLS  LandContour_Low  LandContour_Lvl  \\\n",
       "1711           0                0                0                1   \n",
       "1729           0                0                0                0   \n",
       "2407           0                0                0                1   \n",
       "287            0                0                0                1   \n",
       "2410           0                0                0                1   \n",
       "\n",
       "      Utilities_NoSewr  LotConfig_CulDSac  LotConfig_FR2  LotConfig_FR3  \\\n",
       "1711                 0                  0              0              0   \n",
       "1729                 0                  0              0              0   \n",
       "2407                 0                  0              0              0   \n",
       "287                  0                  0              0              0   \n",
       "2410                 0                  0              1              0   \n",
       "\n",
       "      LotConfig_Inside  Neighborhood_Blueste  Neighborhood_BrDale  \\\n",
       "1711                 1                     0                    0   \n",
       "1729                 1                     0                    0   \n",
       "2407                 1                     0                    0   \n",
       "287                  1                     0                    0   \n",
       "2410                 0                     0                    0   \n",
       "\n",
       "      Neighborhood_BrkSide  Neighborhood_ClearCr  Neighborhood_CollgCr  \\\n",
       "1711                     0                     0                     0   \n",
       "1729                     0                     0                     0   \n",
       "2407                     0                     0                     0   \n",
       "287                      0                     0                     0   \n",
       "2410                     0                     0                     0   \n",
       "\n",
       "      Neighborhood_Crawfor  Neighborhood_Edwards  Neighborhood_Gilbert  \\\n",
       "1711                     0                     0                     0   \n",
       "1729                     0                     1                     0   \n",
       "2407                     0                     0                     0   \n",
       "287                      0                     0                     0   \n",
       "2410                     0                     0                     0   \n",
       "\n",
       "      Neighborhood_Greens  Neighborhood_GrnHill  Neighborhood_IDOTRR  \\\n",
       "1711                    0                     0                    0   \n",
       "1729                    0                     0                    0   \n",
       "2407                    0                     0                    0   \n",
       "287                     0                     0                    0   \n",
       "2410                    0                     0                    0   \n",
       "\n",
       "      Neighborhood_Landmrk  Neighborhood_MeadowV  Neighborhood_Mitchel  \\\n",
       "1711                     0                     0                     0   \n",
       "1729                     0                     0                     0   \n",
       "2407                     0                     0                     0   \n",
       "287                      0                     0                     0   \n",
       "2410                     0                     0                     0   \n",
       "\n",
       "      Neighborhood_NAmes  Neighborhood_NPkVill  Neighborhood_NWAmes  \\\n",
       "1711                   1                     0                    0   \n",
       "1729                   0                     0                    0   \n",
       "2407                   0                     0                    0   \n",
       "287                    0                     0                    0   \n",
       "2410                   0                     0                    0   \n",
       "\n",
       "      Neighborhood_NoRidge  Neighborhood_NridgHt  Neighborhood_OldTown  \\\n",
       "1711                     0                     0                     0   \n",
       "1729                     0                     0                     0   \n",
       "2407                     0                     0                     1   \n",
       "287                      0                     0                     0   \n",
       "2410                     0                     1                     0   \n",
       "\n",
       "      Neighborhood_SWISU  Neighborhood_Sawyer  Neighborhood_SawyerW  \\\n",
       "1711                   0                    0                     0   \n",
       "1729                   0                    0                     0   \n",
       "2407                   0                    0                     0   \n",
       "287                    0                    0                     0   \n",
       "2410                   0                    0                     0   \n",
       "\n",
       "      Neighborhood_Somerst  Neighborhood_StoneBr  Neighborhood_Timber  \\\n",
       "1711                     0                     0                    0   \n",
       "1729                     0                     0                    0   \n",
       "2407                     0                     0                    0   \n",
       "287                      0                     1                    0   \n",
       "2410                     0                     0                    0   \n",
       "\n",
       "      Neighborhood_Veenker  Condition1_Feedr  Condition1_Norm  \\\n",
       "1711                     0                 0                1   \n",
       "1729                     0                 0                1   \n",
       "2407                     0                 0                1   \n",
       "287                      0                 0                1   \n",
       "2410                     0                 0                1   \n",
       "\n",
       "      Condition1_PosA  Condition1_PosN  Condition1_RRAe  Condition1_RRAn  \\\n",
       "1711                0                0                0                0   \n",
       "1729                0                0                0                0   \n",
       "2407                0                0                0                0   \n",
       "287                 0                0                0                0   \n",
       "2410                0                0                0                0   \n",
       "\n",
       "      Condition1_RRNe  Condition1_RRNn  Condition2_Feedr  Condition2_Norm  \\\n",
       "1711                0                0                 0                1   \n",
       "1729                0                0                 0                1   \n",
       "2407                0                0                 0                1   \n",
       "287                 0                0                 0                1   \n",
       "2410                0                0                 0                1   \n",
       "\n",
       "      Condition2_PosA  Condition2_PosN  Condition2_RRAe  Condition2_RRAn  \\\n",
       "1711                0                0                0                0   \n",
       "1729                0                0                0                0   \n",
       "2407                0                0                0                0   \n",
       "287                 0                0                0                0   \n",
       "2410                0                0                0                0   \n",
       "\n",
       "      Condition2_RRNn  BldgType_2fmCon  BldgType_Duplex  BldgType_Twnhs  \\\n",
       "1711                0                0                0               0   \n",
       "1729                0                0                0               0   \n",
       "2407                0                0                0               0   \n",
       "287                 0                0                0               0   \n",
       "2410                0                0                0               0   \n",
       "\n",
       "      BldgType_TwnhsE  HouseStyle_1.5Unf  HouseStyle_1Story  \\\n",
       "1711                0                  0                  1   \n",
       "1729                0                  0                  0   \n",
       "2407                0                  0                  0   \n",
       "287                 0                  0                  1   \n",
       "2410                0                  0                  1   \n",
       "\n",
       "      HouseStyle_2.5Fin  HouseStyle_2.5Unf  HouseStyle_2Story  \\\n",
       "1711                  0                  0                  0   \n",
       "1729                  0                  0                  1   \n",
       "2407                  0                  0                  0   \n",
       "287                   0                  0                  0   \n",
       "2410                  0                  0                  0   \n",
       "\n",
       "      HouseStyle_SFoyer  HouseStyle_SLvl  RoofStyle_Gable  RoofStyle_Gambrel  \\\n",
       "1711                  0                0                1                  0   \n",
       "1729                  0                0                0                  0   \n",
       "2407                  0                0                1                  0   \n",
       "287                   0                0                0                  0   \n",
       "2410                  0                0                0                  0   \n",
       "\n",
       "      RoofStyle_Hip  RoofStyle_Mansard  RoofStyle_Shed  RoofMatl_Membran  \\\n",
       "1711              0                  0               0                 0   \n",
       "1729              1                  0               0                 0   \n",
       "2407              0                  0               0                 0   \n",
       "287               1                  0               0                 0   \n",
       "2410              1                  0               0                 0   \n",
       "\n",
       "      RoofMatl_Metal  RoofMatl_Roll  RoofMatl_Tar&Grv  RoofMatl_WdShake  \\\n",
       "1711               0              0                 0                 0   \n",
       "1729               0              0                 0                 0   \n",
       "2407               0              0                 0                 0   \n",
       "287                0              0                 0                 0   \n",
       "2410               0              0                 0                 0   \n",
       "\n",
       "      RoofMatl_WdShngl  Exterior1st_AsphShn  Exterior1st_BrkComm  \\\n",
       "1711                 0                    0                    0   \n",
       "1729                 0                    0                    0   \n",
       "2407                 0                    0                    0   \n",
       "287                  0                    0                    0   \n",
       "2410                 0                    0                    0   \n",
       "\n",
       "      Exterior1st_BrkFace  Exterior1st_CBlock  Exterior1st_CemntBd  \\\n",
       "1711                    0                   0                    0   \n",
       "1729                    0                   0                    0   \n",
       "2407                    0                   0                    0   \n",
       "287                     0                   0                    0   \n",
       "2410                    0                   0                    0   \n",
       "\n",
       "      Exterior1st_HdBoard  Exterior1st_ImStucc  Exterior1st_MetalSd  \\\n",
       "1711                    0                    0                    1   \n",
       "1729                    0                    0                    1   \n",
       "2407                    0                    0                    0   \n",
       "287                     0                    0                    0   \n",
       "2410                    0                    0                    0   \n",
       "\n",
       "      Exterior1st_Plywood  Exterior1st_PreCast  Exterior1st_Stucco  \\\n",
       "1711                    0                    0                   0   \n",
       "1729                    0                    0                   0   \n",
       "2407                    0                    0                   0   \n",
       "287                     0                    0                   0   \n",
       "2410                    0                    0                   0   \n",
       "\n",
       "      Exterior1st_VinylSd  Exterior1st_Wd Sdng  Exterior1st_WdShing  \\\n",
       "1711                    0                    0                    0   \n",
       "1729                    0                    0                    0   \n",
       "2407                    0                    1                    0   \n",
       "287                     1                    0                    0   \n",
       "2410                    1                    0                    0   \n",
       "\n",
       "      Exterior2nd_AsphShn  Exterior2nd_Brk Cmn  Exterior2nd_BrkFace  \\\n",
       "1711                    0                    0                    0   \n",
       "1729                    0                    0                    0   \n",
       "2407                    0                    0                    0   \n",
       "287                     0                    0                    0   \n",
       "2410                    0                    0                    0   \n",
       "\n",
       "      Exterior2nd_CBlock  Exterior2nd_CmentBd  Exterior2nd_HdBoard  \\\n",
       "1711                   0                    0                    0   \n",
       "1729                   0                    0                    0   \n",
       "2407                   0                    0                    0   \n",
       "287                    0                    0                    0   \n",
       "2410                   0                    0                    0   \n",
       "\n",
       "      Exterior2nd_ImStucc  Exterior2nd_MetalSd  Exterior2nd_Plywood  \\\n",
       "1711                    0                    1                    0   \n",
       "1729                    0                    1                    0   \n",
       "2407                    0                    0                    0   \n",
       "287                     0                    0                    0   \n",
       "2410                    0                    0                    0   \n",
       "\n",
       "      Exterior2nd_PreCast  Exterior2nd_Stone  Exterior2nd_Stucco  \\\n",
       "1711                    0                  0                   0   \n",
       "1729                    0                  0                   0   \n",
       "2407                    0                  0                   0   \n",
       "287                     0                  0                   0   \n",
       "2410                    0                  0                   0   \n",
       "\n",
       "      Exterior2nd_VinylSd  Exterior2nd_Wd Sdng  Exterior2nd_Wd Shng  \\\n",
       "1711                    0                    0                    0   \n",
       "1729                    0                    0                    0   \n",
       "2407                    0                    1                    0   \n",
       "287                     1                    0                    0   \n",
       "2410                    1                    0                    0   \n",
       "\n",
       "      MasVnrType_BrkFace  MasVnrType_None  MasVnrType_Stone  \\\n",
       "1711                   0                1                 0   \n",
       "1729                   0                1                 0   \n",
       "2407                   0                1                 0   \n",
       "287                    0                0                 1   \n",
       "2410                   1                0                 0   \n",
       "\n",
       "      Foundation_CBlock  Foundation_PConc  Foundation_Slab  Foundation_Stone  \\\n",
       "1711                  0                 1                0                 0   \n",
       "1729                  1                 0                0                 0   \n",
       "2407                  0                 0                0                 0   \n",
       "287                   0                 1                0                 0   \n",
       "2410                  0                 1                0                 0   \n",
       "\n",
       "      Foundation_Wood  Heating_GasA  Heating_GasW  Heating_Grav  Heating_OthW  \\\n",
       "1711                0             1             0             0             0   \n",
       "1729                0             1             0             0             0   \n",
       "2407                0             1             0             0             0   \n",
       "287                 0             1             0             0             0   \n",
       "2410                0             1             0             0             0   \n",
       "\n",
       "      Heating_Wall  CentralAir_Y  Electrical_FuseF  Electrical_FuseP  \\\n",
       "1711             0             1                 0                 0   \n",
       "1729             0             1                 0                 0   \n",
       "2407             0             1                 0                 0   \n",
       "287              0             1                 0                 0   \n",
       "2410             0             1                 0                 0   \n",
       "\n",
       "      Electrical_Mixed  Electrical_SBrkr  GarageType_Attchd  \\\n",
       "1711                 0                 1                  1   \n",
       "1729                 0                 1                  0   \n",
       "2407                 0                 1                  0   \n",
       "287                  0                 1                  1   \n",
       "2410                 0                 1                  1   \n",
       "\n",
       "      GarageType_Basment  GarageType_BuiltIn  GarageType_CarPort  \\\n",
       "1711                   0                   0                   0   \n",
       "1729                   0                   0                   0   \n",
       "2407                   0                   0                   0   \n",
       "287                    0                   0                   0   \n",
       "2410                   0                   0                   0   \n",
       "\n",
       "      GarageType_Detchd  GarageType_No  GarageFinish_No  GarageFinish_RFn  \\\n",
       "1711                  0              0                0                 0   \n",
       "1729                  1              0                0                 0   \n",
       "2407                  1              0                0                 0   \n",
       "287                   0              0                0                 0   \n",
       "2410                  0              0                0                 0   \n",
       "\n",
       "      GarageFinish_Unf  PavedDrive_P  PavedDrive_Y  Fence_GdWo  Fence_MnPrv  \\\n",
       "1711                 1             0             1           1            0   \n",
       "1729                 1             0             1           0            0   \n",
       "2407                 1             0             0           1            0   \n",
       "287                  0             0             1           0            0   \n",
       "2410                 0             0             1           0            0   \n",
       "\n",
       "      Fence_MnWw  Fence_No  SaleCondition_AdjLand  SaleCondition_Alloca  \\\n",
       "1711           0         0                      0                     0   \n",
       "1729           0         1                      0                     0   \n",
       "2407           0         0                      0                     0   \n",
       "287            0         1                      0                     0   \n",
       "2410           0         1                      0                     0   \n",
       "\n",
       "      SaleCondition_Family  SaleCondition_Normal  SaleCondition_Partial  \n",
       "1711                     0                     1                      0  \n",
       "1729                     0                     1                      0  \n",
       "2407                     0                     1                      0  \n",
       "287                      0                     0                      1  \n",
       "2410                     0                     1                      0  "
      ]
     },
     "execution_count": 114,
     "metadata": {},
     "output_type": "execute_result"
    }
   ],
   "source": [
    "pd.set_option('display.max_columns', None)\n",
    "\n",
    "\n",
    "housing.head()"
   ]
  },
  {
   "cell_type": "code",
   "execution_count": 115,
   "id": "9cbbfb00",
   "metadata": {},
   "outputs": [
    {
     "data": {
      "text/plain": [
       "1711    123000\n",
       "1729    154400\n",
       "2407    139000\n",
       "287     372500\n",
       "2410    326000\n",
       "         ...  \n",
       "1033    108000\n",
       "1731    112500\n",
       "763     124000\n",
       "835     114000\n",
       "1653    153000\n",
       "Name: SalePrice, Length: 1806, dtype: int64"
      ]
     },
     "execution_count": 115,
     "metadata": {},
     "output_type": "execute_result"
    }
   ],
   "source": [
    "housing.SalePrice"
   ]
  },
  {
   "cell_type": "code",
   "execution_count": 116,
   "id": "2a582db6",
   "metadata": {},
   "outputs": [
    {
     "data": {
      "text/plain": [
       "(774, 232)"
      ]
     },
     "execution_count": 116,
     "metadata": {},
     "output_type": "execute_result"
    }
   ],
   "source": [
    "x_test.shape"
   ]
  },
  {
   "cell_type": "code",
   "execution_count": 138,
   "id": "312c01c4",
   "metadata": {},
   "outputs": [
    {
     "data": {
      "text/plain": [
       "pandas.core.series.Series"
      ]
     },
     "execution_count": 138,
     "metadata": {},
     "output_type": "execute_result"
    }
   ],
   "source": [
    "y_train.shape\n",
    "type(y_train)\n",
    "y_train.head()\n",
    "SalePrice = y_train.SalePrice\n",
    "price = y_train.SalePrice\n",
    "type(SalePrice)"
   ]
  },
  {
   "cell_type": "code",
   "execution_count": 118,
   "id": "6a207b8e",
   "metadata": {},
   "outputs": [
    {
     "data": {
      "text/plain": [
       "(1806, 232)"
      ]
     },
     "execution_count": 118,
     "metadata": {},
     "output_type": "execute_result"
    }
   ],
   "source": [
    "housing.shape"
   ]
  },
  {
   "cell_type": "code",
   "execution_count": 139,
   "id": "ac46586f",
   "metadata": {},
   "outputs": [
    {
     "data": {
      "image/png": "[encoded data removed]",
      "text/plain": [
       "<Figure size 432x288 with 1 Axes>"
      ]
     },
     "metadata": {
      "needs_background": "light"
     },
     "output_type": "display_data"
    }
   ],
   "source": [
    "sns.histplot(SalePrice, bins=20);"
   ]
  },
  {
   "cell_type": "code",
   "execution_count": 140,
   "id": "c1b2ed30",
   "metadata": {},
   "outputs": [],
   "source": [
    "log_price = np.log(SalePrice)"
   ]
  },
  {
   "cell_type": "code",
   "execution_count": 141,
   "id": "298d5002",
   "metadata": {},
   "outputs": [
    {
     "data": {
      "image/png": "[encoded data removed]",
      "text/plain": [
       "<Figure size 432x288 with 1 Axes>"
      ]
     },
     "metadata": {
      "needs_background": "light"
     },
     "output_type": "display_data"
    }
   ],
   "source": [
    "sns.histplot(log_price, bins=20);"
   ]
  },
  {
   "cell_type": "code",
   "execution_count": 142,
   "id": "af0f04ef",
   "metadata": {},
   "outputs": [],
   "source": [
    "def miss_cols(df):\n",
    "    missing = np.sum(df.isnull(),axis=0)\n",
    "    \n",
    "    miss_ind = np.sum(df.isnull(),axis=0) > 0\n",
    "    \n",
    "    vals = pd.Series(filter(lambda x: x != 0,missing))\n",
    "     \n",
    "    cols_miss = df.columns[miss_ind]\n",
    "\n",
    "    L=list(zip(cols_miss,vals, round(vals/df.shape[0],4)))\n",
    "    \n",
    "    return sorted(L,reverse=True,key=lambda x: x[2])  "
   ]
  },
  {
   "cell_type": "code",
   "execution_count": 121,
   "id": "d6c420b4",
   "metadata": {},
   "outputs": [
    {
     "data": {
      "text/plain": [
       "[('PoolQC', 1800, 0.9967),\n",
       " ('LotFrontage', 332, 0.1838),\n",
       " ('GarageYrBlt', 95, 0.0526),\n",
       " ('MasVnrArea', 10, 0.0055),\n",
       " ('BsmtFullBath', 2, 0.0011),\n",
       " ('BsmtHalfBath', 2, 0.0011),\n",
       " ('BsmtFinSF1', 1, 0.0006),\n",
       " ('BsmtFinSF2', 1, 0.0006),\n",
       " ('BsmtUnfSF', 1, 0.0006),\n",
       " ('TotalBsmtSF', 1, 0.0006),\n",
       " ('GarageCars', 1, 0.0006),\n",
       " ('GarageArea', 1, 0.0006)]"
      ]
     },
     "execution_count": 121,
     "metadata": {},
     "output_type": "execute_result"
    }
   ],
   "source": [
    "miss_cols(housing) #list of columns with missing values and the quantity of missing values for housing df"
   ]
  },
  {
   "cell_type": "markdown",
   "id": "4194f04a",
   "metadata": {},
   "source": [
    "#  impute"
   ]
  },
  {
   "cell_type": "code",
   "execution_count": 122,
   "id": "a324942e",
   "metadata": {},
   "outputs": [],
   "source": [
    "housing.MasVnrArea = housing.MasVnrArea.fillna(0)\n",
    "\n",
    "housing.LotFrontage = housing.LotFrontage.fillna(0)\n",
    "\n",
    "housing.BsmtFullBath = housing.BsmtFullBath.fillna(0)\n",
    "\n",
    "housing.BsmtHalfBath = housing.BsmtHalfBath.fillna(0)\n",
    "\n",
    "housing.BsmtFinSF1 = housing.BsmtFinSF1.fillna(0)\n",
    "\n",
    "housing.BsmtFinSF2 = housing.BsmtFinSF2.fillna(0)\n",
    "\n",
    "housing.BsmtUnfSF = housing.BsmtUnfSF.fillna(0)\n",
    "\n",
    "housing.TotalBsmtSF = housing.TotalBsmtSF.fillna(0)\n",
    "\n",
    "housing.GarageCars = housing.GarageCars.fillna(0)\n",
    "\n",
    "housing.GarageArea = housing.GarageArea.fillna(0)\n",
    "\n"
   ]
  },
  {
   "cell_type": "code",
   "execution_count": 125,
   "id": "58fc7a24",
   "metadata": {},
   "outputs": [],
   "source": [
    "x_test.MasVnrArea = x_test.MasVnrArea.fillna(0)\n",
    "\n",
    "x_test.LotFrontage = x_test.LotFrontage.fillna(0)\n",
    "\n",
    "x_test.BsmtFullBath = x_test.BsmtFullBath.fillna(0)\n",
    "\n",
    "x_test.BsmtHalfBath = x_test.BsmtHalfBath.fillna(0)\n",
    "\n",
    "x_test.BsmtFinSF1 = x_test.BsmtFinSF1.fillna(0)\n",
    "\n",
    "x_test.BsmtFinSF2 = x_test.BsmtFinSF2.fillna(0)\n",
    "\n",
    "x_test.BsmtUnfSF = x_test.BsmtUnfSF.fillna(0)\n",
    "\n",
    "x_test.TotalBsmtSF = x_test.TotalBsmtSF.fillna(0)\n",
    "\n",
    "x_test.GarageCars = x_test.GarageCars.fillna(0)\n",
    "\n",
    "x_test.GarageArea = x_test.GarageArea.fillna(0)\n",
    "\n",
    "# # GarageType etc : data description says NA for garage features is \"no garage\"\n",
    "# x_test.GarageType = x_test.GarageType.fillna('No')\n",
    "\n"
   ]
  },
  {
   "cell_type": "code",
   "execution_count": 123,
   "id": "93da5b4f",
   "metadata": {},
   "outputs": [
    {
     "data": {
      "text/plain": [
       "[('PoolQC', 1800, 0.9967), ('GarageYrBlt', 95, 0.0526)]"
      ]
     },
     "execution_count": 123,
     "metadata": {},
     "output_type": "execute_result"
    }
   ],
   "source": [
    "miss_cols(housing)"
   ]
  },
  {
   "cell_type": "code",
   "execution_count": 126,
   "id": "5f47202d",
   "metadata": {},
   "outputs": [
    {
     "data": {
      "text/plain": [
       "[('PoolQC', 771, 0.9961), ('GarageYrBlt', 34, 0.0439)]"
      ]
     },
     "execution_count": 126,
     "metadata": {},
     "output_type": "execute_result"
    }
   ],
   "source": [
    "miss_cols(x_test)"
   ]
  },
  {
   "cell_type": "code",
   "execution_count": 77,
   "id": "919ac5c1",
   "metadata": {},
   "outputs": [],
   "source": [
    "# housing.GarageType"
   ]
  },
  {
   "cell_type": "code",
   "execution_count": 93,
   "id": "ad2873fd",
   "metadata": {},
   "outputs": [],
   "source": [
    "def proc_freq(df,variable_):  #Note variable_ must be given in quotes example: variable_ = 'xyz'\n",
    "    datax = df[variable_].value_counts().sort_index()\n",
    "    \n",
    "    datay = pd.DataFrame({\n",
    "        variable_: datax.index,\n",
    "        'Frequency': datax.values,\n",
    "        'Percent': ((datax.values/datax.values.sum())*100).round(2),\n",
    "        'Cumulative_Frequency': datax.values.cumsum(),\n",
    "        'Cumulative_Percent': ((datax.values.cumsum()/datax.values.sum())*100).round(2)   })\n",
    "    \n",
    "    #datay.set_index(variable_)\n",
    "    #return(datay.set_index(variable_))\n",
    "    return(datay)"
   ]
  },
  {
   "cell_type": "code",
   "execution_count": 361,
   "id": "7c9e67a7",
   "metadata": {},
   "outputs": [],
   "source": [
    "housing2 = housing.copy()"
   ]
  },
  {
   "cell_type": "code",
   "execution_count": 127,
   "id": "fa5c6cef",
   "metadata": {},
   "outputs": [
    {
     "data": {
      "text/html": [
       "<div>\n",
       "<style scoped>\n",
       "    .dataframe tbody tr th:only-of-type {\n",
       "        vertical-align: middle;\n",
       "    }\n",
       "\n",
       "    .dataframe tbody tr th {\n",
       "        vertical-align: top;\n",
       "    }\n",
       "\n",
       "    .dataframe thead th {\n",
       "        text-align: right;\n",
       "    }\n",
       "</style>\n",
       "<table border=\"1\" class=\"dataframe\">\n",
       "  <thead>\n",
       "    <tr style=\"text-align: right;\">\n",
       "      <th></th>\n",
       "      <th>GrLivArea</th>\n",
       "      <th>LotArea</th>\n",
       "      <th>MasVnrArea</th>\n",
       "      <th>BsmtUnfSF</th>\n",
       "      <th>TotalBsmtSF</th>\n",
       "      <th>1stFlrSF</th>\n",
       "      <th>2ndFlrSF</th>\n",
       "      <th>LowQualFinSF</th>\n",
       "      <th>GarageArea</th>\n",
       "      <th>WoodDeckSF</th>\n",
       "      <th>OpenPorchSF</th>\n",
       "      <th>PoolArea</th>\n",
       "    </tr>\n",
       "  </thead>\n",
       "  <tbody>\n",
       "    <tr>\n",
       "      <th>1711</th>\n",
       "      <td>1319</td>\n",
       "      <td>10634</td>\n",
       "      <td>0.0</td>\n",
       "      <td>0.0</td>\n",
       "      <td>608.0</td>\n",
       "      <td>1319</td>\n",
       "      <td>0</td>\n",
       "      <td>0</td>\n",
       "      <td>270.0</td>\n",
       "      <td>66</td>\n",
       "      <td>0</td>\n",
       "      <td>0</td>\n",
       "    </tr>\n",
       "    <tr>\n",
       "      <th>1729</th>\n",
       "      <td>1639</td>\n",
       "      <td>9350</td>\n",
       "      <td>0.0</td>\n",
       "      <td>405.0</td>\n",
       "      <td>747.0</td>\n",
       "      <td>892</td>\n",
       "      <td>747</td>\n",
       "      <td>0</td>\n",
       "      <td>240.0</td>\n",
       "      <td>0</td>\n",
       "      <td>50</td>\n",
       "      <td>0</td>\n",
       "    </tr>\n",
       "    <tr>\n",
       "      <th>2407</th>\n",
       "      <td>1436</td>\n",
       "      <td>10836</td>\n",
       "      <td>0.0</td>\n",
       "      <td>892.0</td>\n",
       "      <td>892.0</td>\n",
       "      <td>1254</td>\n",
       "      <td>182</td>\n",
       "      <td>0</td>\n",
       "      <td>1488.0</td>\n",
       "      <td>0</td>\n",
       "      <td>0</td>\n",
       "      <td>0</td>\n",
       "    </tr>\n",
       "    <tr>\n",
       "      <th>287</th>\n",
       "      <td>2046</td>\n",
       "      <td>11844</td>\n",
       "      <td>464.0</td>\n",
       "      <td>2046.0</td>\n",
       "      <td>2046.0</td>\n",
       "      <td>2046</td>\n",
       "      <td>0</td>\n",
       "      <td>0</td>\n",
       "      <td>834.0</td>\n",
       "      <td>322</td>\n",
       "      <td>82</td>\n",
       "      <td>0</td>\n",
       "    </tr>\n",
       "    <tr>\n",
       "      <th>2410</th>\n",
       "      <td>1850</td>\n",
       "      <td>16033</td>\n",
       "      <td>378.0</td>\n",
       "      <td>572.0</td>\n",
       "      <td>1833.0</td>\n",
       "      <td>1850</td>\n",
       "      <td>0</td>\n",
       "      <td>0</td>\n",
       "      <td>772.0</td>\n",
       "      <td>519</td>\n",
       "      <td>112</td>\n",
       "      <td>0</td>\n",
       "    </tr>\n",
       "  </tbody>\n",
       "</table>\n",
       "</div>"
      ],
      "text/plain": [
       "      GrLivArea  LotArea  MasVnrArea  BsmtUnfSF  TotalBsmtSF  1stFlrSF  \\\n",
       "1711       1319    10634         0.0        0.0        608.0      1319   \n",
       "1729       1639     9350         0.0      405.0        747.0       892   \n",
       "2407       1436    10836         0.0      892.0        892.0      1254   \n",
       "287        2046    11844       464.0     2046.0       2046.0      2046   \n",
       "2410       1850    16033       378.0      572.0       1833.0      1850   \n",
       "\n",
       "      2ndFlrSF  LowQualFinSF  GarageArea  WoodDeckSF  OpenPorchSF  PoolArea  \n",
       "1711         0             0       270.0          66            0         0  \n",
       "1729       747             0       240.0           0           50         0  \n",
       "2407       182             0      1488.0           0            0         0  \n",
       "287          0             0       834.0         322           82         0  \n",
       "2410         0             0       772.0         519          112         0  "
      ]
     },
     "execution_count": 127,
     "metadata": {},
     "output_type": "execute_result"
    }
   ],
   "source": [
    " price        = housing['SalePrice']\n",
    "size_related = housing.filter(regex='SF$|Area$')#filter out columns that end with SF or that end with Area\n",
    "size_related.head()"
   ]
  },
  {
   "cell_type": "code",
   "execution_count": 128,
   "id": "1036a596",
   "metadata": {
    "scrolled": true
   },
   "outputs": [
    {
     "data": {
      "text/html": [
       "<div>\n",
       "<style scoped>\n",
       "    .dataframe tbody tr th:only-of-type {\n",
       "        vertical-align: middle;\n",
       "    }\n",
       "\n",
       "    .dataframe tbody tr th {\n",
       "        vertical-align: top;\n",
       "    }\n",
       "\n",
       "    .dataframe thead th {\n",
       "        text-align: right;\n",
       "    }\n",
       "</style>\n",
       "<table border=\"1\" class=\"dataframe\">\n",
       "  <thead>\n",
       "    <tr style=\"text-align: right;\">\n",
       "      <th></th>\n",
       "      <th>GrLivArea</th>\n",
       "      <th>LotArea</th>\n",
       "      <th>MasVnrArea</th>\n",
       "      <th>BsmtUnfSF</th>\n",
       "      <th>TotalBsmtSF</th>\n",
       "      <th>1stFlrSF</th>\n",
       "      <th>2ndFlrSF</th>\n",
       "      <th>LowQualFinSF</th>\n",
       "      <th>GarageArea</th>\n",
       "      <th>WoodDeckSF</th>\n",
       "      <th>OpenPorchSF</th>\n",
       "      <th>PoolArea</th>\n",
       "    </tr>\n",
       "  </thead>\n",
       "  <tbody>\n",
       "    <tr>\n",
       "      <th>count</th>\n",
       "      <td>1806.000000</td>\n",
       "      <td>1806.000000</td>\n",
       "      <td>1806.000000</td>\n",
       "      <td>1806.000000</td>\n",
       "      <td>1806.000000</td>\n",
       "      <td>1806.000000</td>\n",
       "      <td>1806.000000</td>\n",
       "      <td>1806.000000</td>\n",
       "      <td>1806.000000</td>\n",
       "      <td>1806.000000</td>\n",
       "      <td>1806.000000</td>\n",
       "      <td>1806.000000</td>\n",
       "    </tr>\n",
       "    <tr>\n",
       "      <th>mean</th>\n",
       "      <td>1488.839978</td>\n",
       "      <td>9994.215393</td>\n",
       "      <td>97.136213</td>\n",
       "      <td>524.375415</td>\n",
       "      <td>1030.838870</td>\n",
       "      <td>1139.636213</td>\n",
       "      <td>344.403101</td>\n",
       "      <td>4.800664</td>\n",
       "      <td>464.174419</td>\n",
       "      <td>97.082503</td>\n",
       "      <td>46.771872</td>\n",
       "      <td>1.368771</td>\n",
       "    </tr>\n",
       "    <tr>\n",
       "      <th>std</th>\n",
       "      <td>496.352602</td>\n",
       "      <td>7829.540484</td>\n",
       "      <td>173.251526</td>\n",
       "      <td>421.098004</td>\n",
       "      <td>423.298201</td>\n",
       "      <td>380.832331</td>\n",
       "      <td>426.204628</td>\n",
       "      <td>46.990564</td>\n",
       "      <td>208.252433</td>\n",
       "      <td>130.143745</td>\n",
       "      <td>67.733493</td>\n",
       "      <td>25.593567</td>\n",
       "    </tr>\n",
       "    <tr>\n",
       "      <th>min</th>\n",
       "      <td>334.000000</td>\n",
       "      <td>1300.000000</td>\n",
       "      <td>0.000000</td>\n",
       "      <td>0.000000</td>\n",
       "      <td>0.000000</td>\n",
       "      <td>334.000000</td>\n",
       "      <td>0.000000</td>\n",
       "      <td>0.000000</td>\n",
       "      <td>0.000000</td>\n",
       "      <td>0.000000</td>\n",
       "      <td>0.000000</td>\n",
       "      <td>0.000000</td>\n",
       "    </tr>\n",
       "    <tr>\n",
       "      <th>25%</th>\n",
       "      <td>1109.250000</td>\n",
       "      <td>7400.000000</td>\n",
       "      <td>0.000000</td>\n",
       "      <td>207.250000</td>\n",
       "      <td>789.000000</td>\n",
       "      <td>868.000000</td>\n",
       "      <td>0.000000</td>\n",
       "      <td>0.000000</td>\n",
       "      <td>312.000000</td>\n",
       "      <td>0.000000</td>\n",
       "      <td>0.000000</td>\n",
       "      <td>0.000000</td>\n",
       "    </tr>\n",
       "    <tr>\n",
       "      <th>50%</th>\n",
       "      <td>1440.000000</td>\n",
       "      <td>9373.000000</td>\n",
       "      <td>0.000000</td>\n",
       "      <td>426.000000</td>\n",
       "      <td>972.500000</td>\n",
       "      <td>1056.500000</td>\n",
       "      <td>0.000000</td>\n",
       "      <td>0.000000</td>\n",
       "      <td>474.000000</td>\n",
       "      <td>0.000000</td>\n",
       "      <td>26.000000</td>\n",
       "      <td>0.000000</td>\n",
       "    </tr>\n",
       "    <tr>\n",
       "      <th>75%</th>\n",
       "      <td>1740.000000</td>\n",
       "      <td>11386.500000</td>\n",
       "      <td>152.500000</td>\n",
       "      <td>771.750000</td>\n",
       "      <td>1248.750000</td>\n",
       "      <td>1358.000000</td>\n",
       "      <td>708.500000</td>\n",
       "      <td>0.000000</td>\n",
       "      <td>576.000000</td>\n",
       "      <td>168.000000</td>\n",
       "      <td>69.000000</td>\n",
       "      <td>0.000000</td>\n",
       "    </tr>\n",
       "    <tr>\n",
       "      <th>max</th>\n",
       "      <td>4676.000000</td>\n",
       "      <td>215245.000000</td>\n",
       "      <td>1600.000000</td>\n",
       "      <td>2336.000000</td>\n",
       "      <td>3206.000000</td>\n",
       "      <td>3820.000000</td>\n",
       "      <td>1872.000000</td>\n",
       "      <td>1064.000000</td>\n",
       "      <td>1488.000000</td>\n",
       "      <td>1424.000000</td>\n",
       "      <td>742.000000</td>\n",
       "      <td>576.000000</td>\n",
       "    </tr>\n",
       "  </tbody>\n",
       "</table>\n",
       "</div>"
      ],
      "text/plain": [
       "         GrLivArea        LotArea   MasVnrArea    BsmtUnfSF  TotalBsmtSF  \\\n",
       "count  1806.000000    1806.000000  1806.000000  1806.000000  1806.000000   \n",
       "mean   1488.839978    9994.215393    97.136213   524.375415  1030.838870   \n",
       "std     496.352602    7829.540484   173.251526   421.098004   423.298201   \n",
       "min     334.000000    1300.000000     0.000000     0.000000     0.000000   \n",
       "25%    1109.250000    7400.000000     0.000000   207.250000   789.000000   \n",
       "50%    1440.000000    9373.000000     0.000000   426.000000   972.500000   \n",
       "75%    1740.000000   11386.500000   152.500000   771.750000  1248.750000   \n",
       "max    4676.000000  215245.000000  1600.000000  2336.000000  3206.000000   \n",
       "\n",
       "          1stFlrSF     2ndFlrSF  LowQualFinSF   GarageArea   WoodDeckSF  \\\n",
       "count  1806.000000  1806.000000   1806.000000  1806.000000  1806.000000   \n",
       "mean   1139.636213   344.403101      4.800664   464.174419    97.082503   \n",
       "std     380.832331   426.204628     46.990564   208.252433   130.143745   \n",
       "min     334.000000     0.000000      0.000000     0.000000     0.000000   \n",
       "25%     868.000000     0.000000      0.000000   312.000000     0.000000   \n",
       "50%    1056.500000     0.000000      0.000000   474.000000     0.000000   \n",
       "75%    1358.000000   708.500000      0.000000   576.000000   168.000000   \n",
       "max    3820.000000  1872.000000   1064.000000  1488.000000  1424.000000   \n",
       "\n",
       "       OpenPorchSF     PoolArea  \n",
       "count  1806.000000  1806.000000  \n",
       "mean     46.771872     1.368771  \n",
       "std      67.733493    25.593567  \n",
       "min       0.000000     0.000000  \n",
       "25%       0.000000     0.000000  \n",
       "50%      26.000000     0.000000  \n",
       "75%      69.000000     0.000000  \n",
       "max     742.000000   576.000000  "
      ]
     },
     "execution_count": 128,
     "metadata": {},
     "output_type": "execute_result"
    }
   ],
   "source": [
    "size_related.describe()"
   ]
  },
  {
   "cell_type": "code",
   "execution_count": 133,
   "id": "f5e549d7",
   "metadata": {},
   "outputs": [],
   "source": [
    "housing['log_GrLivArea'] =np.log(housing.GrLivArea)"
   ]
  },
  {
   "cell_type": "code",
   "execution_count": 134,
   "id": "cdde7678",
   "metadata": {},
   "outputs": [
    {
     "data": {
      "text/plain": [
       "<AxesSubplot:xlabel='GrLivArea', ylabel='SalePrice'>"
      ]
     },
     "execution_count": 134,
     "metadata": {},
     "output_type": "execute_result"
    },
    {
     "data": {
      "image/png": "[encoded data removed]",
      "text/plain": [
       "<Figure size 432x288 with 1 Axes>"
      ]
     },
     "metadata": {
      "needs_background": "light"
     },
     "output_type": "display_data"
    }
   ],
   "source": [
    "housing[['GrLivArea', 'SalePrice']].plot(kind='scatter', x='GrLivArea', y='SalePrice')"
   ]
  },
  {
   "cell_type": "markdown",
   "id": "a84bcc18",
   "metadata": {},
   "source": [
    "# Correlation with GrLivArea is high at 0.73"
   ]
  },
  {
   "cell_type": "code",
   "execution_count": 135,
   "id": "eb2b9f6f",
   "metadata": {},
   "outputs": [
    {
     "data": {
      "text/plain": [
       "<AxesSubplot:xlabel='GrLivArea', ylabel='SalePrice'>"
      ]
     },
     "execution_count": 135,
     "metadata": {},
     "output_type": "execute_result"
    },
    {
     "data": {
      "image/png": "[encoded data removed]",
      "text/plain": [
       "<Figure size 432x288 with 1 Axes>"
      ]
     },
     "metadata": {
      "needs_background": "light"
     },
     "output_type": "display_data"
    }
   ],
   "source": [
    "housing[['GrLivArea', 'SalePrice']].plot(kind='scatter', x='GrLivArea', y='SalePrice', logx=True, logy=True)"
   ]
  },
  {
   "cell_type": "code",
   "execution_count": 143,
   "id": "fc11ff75",
   "metadata": {},
   "outputs": [
    {
     "data": {
      "text/plain": [
       "0.7369160446436309"
      ]
     },
     "execution_count": 143,
     "metadata": {},
     "output_type": "execute_result"
    }
   ],
   "source": [
    "log_price.corr(housing['log_GrLivArea'])"
   ]
  },
  {
   "cell_type": "code",
   "execution_count": 144,
   "id": "da84b910",
   "metadata": {},
   "outputs": [],
   "source": [
    "housing['log_GrLivArea'] = np.log(housing.GrLivArea)"
   ]
  },
  {
   "cell_type": "code",
   "execution_count": 101,
   "id": "09490862",
   "metadata": {},
   "outputs": [],
   "source": [
    "from scipy import stats\n"
   ]
  },
  {
   "cell_type": "code",
   "execution_count": 145,
   "id": "de4b6648",
   "metadata": {},
   "outputs": [],
   "source": [
    "housing['bc_GrLivArea'],_ = stats.boxcox(housing.GrLivArea)\n"
   ]
  },
  {
   "cell_type": "code",
   "execution_count": 146,
   "id": "dd526fa2",
   "metadata": {},
   "outputs": [
    {
     "data": {
      "text/plain": [
       "0.7369745927653653"
      ]
     },
     "execution_count": 146,
     "metadata": {},
     "output_type": "execute_result"
    }
   ],
   "source": [
    "log_price.corr((housing['bc_GrLivArea']))"
   ]
  },
  {
   "cell_type": "code",
   "execution_count": 147,
   "id": "adc4ce5f",
   "metadata": {},
   "outputs": [
    {
     "data": {
      "text/plain": [
       "True"
      ]
     },
     "execution_count": 147,
     "metadata": {},
     "output_type": "execute_result"
    }
   ],
   "source": [
    "housing.index.is_unique"
   ]
  },
  {
   "cell_type": "code",
   "execution_count": 148,
   "id": "e56b2fe1",
   "metadata": {},
   "outputs": [
    {
     "data": {
      "text/plain": [
       "0"
      ]
     },
     "execution_count": 148,
     "metadata": {},
     "output_type": "execute_result"
    }
   ],
   "source": [
    "np.sum(housing.index.duplicated())"
   ]
  },
  {
   "cell_type": "code",
   "execution_count": 150,
   "id": "0fde7762",
   "metadata": {},
   "outputs": [
    {
     "data": {
      "image/png": "[encoded data removed]",
      "text/plain": [
       "<Figure size 432x288 with 1 Axes>"
      ]
     },
     "metadata": {
      "needs_background": "light"
     },
     "output_type": "display_data"
    }
   ],
   "source": [
    "sns.histplot(data=housing, x='log_GrLivArea', bins=20);"
   ]
  },
  {
   "cell_type": "code",
   "execution_count": 151,
   "id": "041e2827",
   "metadata": {},
   "outputs": [
    {
     "data": {
      "image/png": "[encoded data removed]",
      "text/plain": [
       "<Figure size 432x288 with 1 Axes>"
      ]
     },
     "metadata": {
      "needs_background": "light"
     },
     "output_type": "display_data"
    }
   ],
   "source": [
    "sns.histplot(data=housing, x='bc_GrLivArea', bins=20);"
   ]
  },
  {
   "cell_type": "code",
   "execution_count": 152,
   "id": "7bb10bd5",
   "metadata": {},
   "outputs": [],
   "source": [
    "housing['log_price'] = np.log(price)\n"
   ]
  },
  {
   "cell_type": "code",
   "execution_count": 159,
   "id": "0f7bf0cc",
   "metadata": {},
   "outputs": [],
   "source": [
    "# 'LotArea'\n",
    "\n",
    "# log_price.corr(housing['bc_LotArea']) = 0.4002"
   ]
  },
  {
   "cell_type": "code",
   "execution_count": 153,
   "id": "a24c7f91",
   "metadata": {
    "scrolled": true
   },
   "outputs": [
    {
     "data": {
      "text/plain": [
       "<AxesSubplot:xlabel='LotArea', ylabel='SalePrice'>"
      ]
     },
     "execution_count": 153,
     "metadata": {},
     "output_type": "execute_result"
    },
    {
     "data": {
      "image/png": "[encoded data removed]",
      "text/plain": [
       "<Figure size 432x288 with 1 Axes>"
      ]
     },
     "metadata": {
      "needs_background": "light"
     },
     "output_type": "display_data"
    }
   ],
   "source": [
    "\n",
    "housing[['LotArea', 'SalePrice']].plot(kind='scatter', x='LotArea', y='SalePrice')"
   ]
  },
  {
   "cell_type": "code",
   "execution_count": 154,
   "id": "5103f162",
   "metadata": {},
   "outputs": [
    {
     "data": {
      "image/png": "[encoded data removed]",
      "text/plain": [
       "<Figure size 432x288 with 1 Axes>"
      ]
     },
     "metadata": {
      "needs_background": "light"
     },
     "output_type": "display_data"
    }
   ],
   "source": [
    "sns.histplot(data=housing, x='LotArea', bins=20);"
   ]
  },
  {
   "cell_type": "code",
   "execution_count": 155,
   "id": "e18f9a46",
   "metadata": {},
   "outputs": [],
   "source": [
    "housing['log_LotArea'] = np.log(housing['LotArea'])"
   ]
  },
  {
   "cell_type": "code",
   "execution_count": 161,
   "id": "d6f35836",
   "metadata": {},
   "outputs": [
    {
     "data": {
      "text/plain": [
       "0.3662874164590314"
      ]
     },
     "execution_count": 161,
     "metadata": {},
     "output_type": "execute_result"
    }
   ],
   "source": [
    "log_price.corr(housing['log_LotArea'])"
   ]
  },
  {
   "cell_type": "code",
   "execution_count": 156,
   "id": "2110ade6",
   "metadata": {
    "scrolled": true
   },
   "outputs": [
    {
     "data": {
      "image/png": "[encoded data removed]",
      "text/plain": [
       "<Figure size 432x288 with 1 Axes>"
      ]
     },
     "metadata": {
      "needs_background": "light"
     },
     "output_type": "display_data"
    }
   ],
   "source": [
    "sns.histplot(data=housing, x='log_LotArea', bins=20);"
   ]
  },
  {
   "cell_type": "code",
   "execution_count": 256,
   "id": "8d326f9d",
   "metadata": {},
   "outputs": [
    {
     "name": "stderr",
     "output_type": "stream",
     "text": [
      "*c* argument looks like a single numeric RGB or RGBA sequence, which should be avoided as value-mapping will have precedence in case its length matches with *x* & *y*.  Please use the *color* keyword-argument or provide a 2D array with a single row if you intend to specify the same RGB or RGBA value for all points.\n"
     ]
    },
    {
     "data": {
      "text/plain": [
       "<AxesSubplot:xlabel='LotArea', ylabel='SalePrice'>"
      ]
     },
     "execution_count": 256,
     "metadata": {},
     "output_type": "execute_result"
    },
    {
     "data": {
      "image/png": "[encoded data removed]",
      "text/plain": [
       "<Figure size 432x288 with 1 Axes>"
      ]
     },
     "metadata": {
      "needs_background": "light"
     },
     "output_type": "display_data"
    }
   ],
   "source": [
    "housing[['LotArea', 'SalePrice']].plot(kind='scatter', x='LotArea', y='SalePrice',logx=True, logy=True)"
   ]
  },
  {
   "cell_type": "code",
   "execution_count": 150,
   "id": "f82ffcb6",
   "metadata": {},
   "outputs": [
    {
     "data": {
      "text/plain": [
       "0.39991774112559053"
      ]
     },
     "execution_count": 150,
     "metadata": {},
     "output_type": "execute_result"
    }
   ],
   "source": [
    "log_price.corr(np.log(housing['LotArea'])) "
   ]
  },
  {
   "cell_type": "code",
   "execution_count": 166,
   "id": "3d222f93",
   "metadata": {},
   "outputs": [],
   "source": [
    "housing['log_LotArea'] = np.log(housing['LotArea'])"
   ]
  },
  {
   "cell_type": "code",
   "execution_count": null,
   "id": "0f770a1a",
   "metadata": {},
   "outputs": [],
   "source": [
    "LotArea = housing[['LotArea']]"
   ]
  },
  {
   "cell_type": "code",
   "execution_count": 149,
   "id": "8635e708",
   "metadata": {},
   "outputs": [],
   "source": [
    "Nbr_quantile = housing.groupby('Neighborhood')['GrLivArea'].quantile(0.8)  #bottom 80 percent of gross living are\n",
    "joint_Nbr_quantile = pd.merge(housing[['Neighborhood']], Nbr_quantile, how='left', left_on='Neighborhood', right_index=True)"
   ]
  },
  {
   "cell_type": "code",
   "execution_count": 170,
   "id": "8221d181",
   "metadata": {},
   "outputs": [],
   "source": [
    "from scipy import stats\n",
    "\n",
    "import matplotlib.pyplot as plt"
   ]
  },
  {
   "cell_type": "markdown",
   "id": "88afdd0a",
   "metadata": {},
   "source": [
    "# stats.boxcox(x)"
   ]
  },
  {
   "cell_type": "code",
   "execution_count": 162,
   "id": "b94aa5a3",
   "metadata": {},
   "outputs": [],
   "source": [
    "# xt, _ = stats.boxcox(x)\n",
    "t_LotArea,_ = stats.boxcox(housing['LotArea']) #transformation that is robust to having zeros in the original data"
   ]
  },
  {
   "cell_type": "code",
   "execution_count": 163,
   "id": "87f8e962",
   "metadata": {},
   "outputs": [],
   "source": [
    "housing['bc_LotArea'],_ = stats.boxcox(housing['LotArea'])"
   ]
  },
  {
   "cell_type": "code",
   "execution_count": 165,
   "id": "3b30660f",
   "metadata": {},
   "outputs": [
    {
     "data": {
      "text/plain": [
       "0.36772065573939267"
      ]
     },
     "execution_count": 165,
     "metadata": {},
     "output_type": "execute_result"
    }
   ],
   "source": [
    "log_price.corr(housing['bc_LotArea']) "
   ]
  },
  {
   "cell_type": "markdown",
   "id": "92d58427",
   "metadata": {},
   "source": [
    "# MasVnrArea\n",
    "\n",
    "# correlation = 0.4133"
   ]
  },
  {
   "cell_type": "code",
   "execution_count": 167,
   "id": "48e0119b",
   "metadata": {},
   "outputs": [
    {
     "data": {
      "text/plain": [
       "<AxesSubplot:xlabel='MasVnrArea', ylabel='SalePrice'>"
      ]
     },
     "execution_count": 167,
     "metadata": {},
     "output_type": "execute_result"
    },
    {
     "data": {
      "image/png": "[encoded data removed]",
      "text/plain": [
       "<Figure size 432x288 with 1 Axes>"
      ]
     },
     "metadata": {
      "needs_background": "light"
     },
     "output_type": "display_data"
    }
   ],
   "source": [
    "housing[['MasVnrArea', 'SalePrice']].plot(kind='scatter', x='MasVnrArea', y='SalePrice', logx=True, logy=True)"
   ]
  },
  {
   "cell_type": "markdown",
   "id": "c4ade869",
   "metadata": {},
   "source": [
    "# YEO JOHNSON"
   ]
  },
  {
   "cell_type": "code",
   "execution_count": 169,
   "id": "fb9cf250",
   "metadata": {},
   "outputs": [],
   "source": [
    "housing['yeo_MasVnrArea'],_ = stats.yeojohnson(housing['MasVnrArea'])"
   ]
  },
  {
   "cell_type": "code",
   "execution_count": 173,
   "id": "2f487803",
   "metadata": {},
   "outputs": [
    {
     "data": {
      "text/plain": [
       "0.41991087336835853"
      ]
     },
     "execution_count": 173,
     "metadata": {},
     "output_type": "execute_result"
    }
   ],
   "source": [
    "log_price.corr(np.log(housing['MasVnrArea'] + 1)) "
   ]
  },
  {
   "cell_type": "code",
   "execution_count": 174,
   "id": "9888bd71",
   "metadata": {},
   "outputs": [],
   "source": [
    "housing['log_MasVnrArea'] = np.log(housing['MasVnrArea'] + 1)"
   ]
  },
  {
   "cell_type": "code",
   "execution_count": 172,
   "id": "dbe34c7e",
   "metadata": {},
   "outputs": [
    {
     "data": {
      "text/plain": [
       "0.4033991651059544"
      ]
     },
     "execution_count": 172,
     "metadata": {},
     "output_type": "execute_result"
    }
   ],
   "source": [
    "log_price.corr(housing['yeo_MasVnrArea']) "
   ]
  },
  {
   "cell_type": "code",
   "execution_count": 260,
   "id": "dfdf1804",
   "metadata": {},
   "outputs": [],
   "source": [
    "housing['log_MasVnrArea'] = np.log(size_related['MasVnrArea'] + 1)"
   ]
  },
  {
   "cell_type": "code",
   "execution_count": 138,
   "id": "9a24f591",
   "metadata": {},
   "outputs": [
    {
     "data": {
      "image/png": "[encoded data removed]",
      "text/plain": [
       "<Figure size 432x288 with 1 Axes>"
      ]
     },
     "metadata": {},
     "output_type": "display_data"
    }
   ],
   "source": [
    "sns.histplot(data=housing, x='MasVnrArea', bins=20);"
   ]
  },
  {
   "cell_type": "code",
   "execution_count": 175,
   "id": "d4847260",
   "metadata": {},
   "outputs": [
    {
     "data": {
      "image/png": "[encoded data removed]",
      "text/plain": [
       "<Figure size 432x288 with 1 Axes>"
      ]
     },
     "metadata": {
      "needs_background": "light"
     },
     "output_type": "display_data"
    }
   ],
   "source": [
    "\n",
    "sns.histplot(data=housing, x='log_MasVnrArea', bins=20);"
   ]
  },
  {
   "cell_type": "code",
   "execution_count": 161,
   "id": "36f3b22e",
   "metadata": {},
   "outputs": [
    {
     "data": {
      "image/png": "[encoded data removed]",
      "text/plain": [
       "<Figure size 432x288 with 1 Axes>"
      ]
     },
     "metadata": {},
     "output_type": "display_data"
    }
   ],
   "source": [
    "sns.histplot(data=housing, x='log_MasVnrArea', bins=20);"
   ]
  },
  {
   "cell_type": "code",
   "execution_count": 176,
   "id": "ef36c852",
   "metadata": {},
   "outputs": [
    {
     "data": {
      "text/plain": [
       "<AxesSubplot:xlabel='BsmtUnfSF', ylabel='SalePrice'>"
      ]
     },
     "execution_count": 176,
     "metadata": {},
     "output_type": "execute_result"
    },
    {
     "data": {
      "image/png": "[encoded data removed]",
      "text/plain": [
       "<Figure size 432x288 with 1 Axes>"
      ]
     },
     "metadata": {
      "needs_background": "light"
     },
     "output_type": "display_data"
    }
   ],
   "source": [
    "# BsmtUnfSF  \n",
    "housing[['BsmtUnfSF', 'SalePrice']].plot(kind='scatter', x='BsmtUnfSF', y='SalePrice', logx=True, logy=True)"
   ]
  },
  {
   "cell_type": "code",
   "execution_count": 178,
   "id": "12f95dba",
   "metadata": {},
   "outputs": [
    {
     "data": {
      "text/plain": [
       "0.18871901469879349"
      ]
     },
     "execution_count": 178,
     "metadata": {},
     "output_type": "execute_result"
    }
   ],
   "source": [
    "log_price.corr(np.log(housing['BsmtUnfSF']+1)) #correlation"
   ]
  },
  {
   "cell_type": "code",
   "execution_count": null,
   "id": "e9b83baf",
   "metadata": {},
   "outputs": [],
   "source": []
  },
  {
   "cell_type": "code",
   "execution_count": 161,
   "id": "324b4c8f",
   "metadata": {},
   "outputs": [
    {
     "data": {
      "text/plain": [
       "<AxesSubplot:xlabel='BsmtUnfSF', ylabel='SalePrice'>"
      ]
     },
     "execution_count": 161,
     "metadata": {},
     "output_type": "execute_result"
    },
    {
     "data": {
      "image/png": "[encoded data removed]",
      "text/plain": [
       "<Figure size 432x288 with 1 Axes>"
      ]
     },
     "metadata": {
      "needs_background": "light"
     },
     "output_type": "display_data"
    }
   ],
   "source": [
    "housing[['BsmtUnfSF', 'SalePrice']].plot(kind='scatter', x='BsmtUnfSF', y='SalePrice', logy=True)"
   ]
  },
  {
   "cell_type": "markdown",
   "id": "94e9934d",
   "metadata": {},
   "source": [
    "# Correlation for TotalBsmtSF is high at 0.6386, with yeo johnson"
   ]
  },
  {
   "cell_type": "code",
   "execution_count": 22,
   "id": "90831494",
   "metadata": {},
   "outputs": [
    {
     "data": {
      "text/plain": [
       "<AxesSubplot:xlabel='TotalBsmtSF', ylabel='SalePrice'>"
      ]
     },
     "execution_count": 22,
     "metadata": {},
     "output_type": "execute_result"
    },
    {
     "data": {
      "image/png": "[encoded data removed]",
      "text/plain": [
       "<Figure size 432x288 with 1 Axes>"
      ]
     },
     "metadata": {
      "needs_background": "light"
     },
     "output_type": "display_data"
    }
   ],
   "source": [
    "# TotalBsmtSF \n",
    "housing[['TotalBsmtSF', 'SalePrice']].plot(kind='scatter', x='TotalBsmtSF', y='SalePrice', logx=True, logy=True)"
   ]
  },
  {
   "cell_type": "code",
   "execution_count": 179,
   "id": "e5923e9f",
   "metadata": {},
   "outputs": [],
   "source": [
    "housing['yeo_TotalBsmtSF'],_ = stats.yeojohnson(housing['TotalBsmtSF'])"
   ]
  },
  {
   "cell_type": "code",
   "execution_count": 54,
   "id": "dbaa6853",
   "metadata": {},
   "outputs": [
    {
     "data": {
      "text/plain": [
       "0.37283785745815706"
      ]
     },
     "execution_count": 54,
     "metadata": {},
     "output_type": "execute_result"
    }
   ],
   "source": [
    "log_TotalBsmtSF = np.log(housing['TotalBsmtSF'] + 1)\n",
    "log_price = housing['log_price']\n",
    "\n",
    "log_price.corr(log_TotalBsmtSF) #correlation"
   ]
  },
  {
   "cell_type": "code",
   "execution_count": 180,
   "id": "ab76d17a",
   "metadata": {},
   "outputs": [
    {
     "data": {
      "text/plain": [
       "0.6386164984432782"
      ]
     },
     "execution_count": 180,
     "metadata": {},
     "output_type": "execute_result"
    }
   ],
   "source": [
    "log_price.corr(housing['yeo_TotalBsmtSF']) #correlation"
   ]
  },
  {
   "cell_type": "code",
   "execution_count": 198,
   "id": "e1fd1573",
   "metadata": {},
   "outputs": [
    {
     "data": {
      "image/png": "[encoded data removed]",
      "text/plain": [
       "<Figure size 432x288 with 1 Axes>"
      ]
     },
     "metadata": {},
     "output_type": "display_data"
    }
   ],
   "source": [
    "sns.histplot(data=housing, x='TotalBsmtSF', bins=20);"
   ]
  },
  {
   "cell_type": "code",
   "execution_count": 199,
   "id": "50d8de3c",
   "metadata": {},
   "outputs": [
    {
     "data": {
      "image/png": "[encoded data removed]",
      "text/plain": [
       "<Figure size 432x288 with 1 Axes>"
      ]
     },
     "metadata": {},
     "output_type": "display_data"
    }
   ],
   "source": [
    "sns.histplot(data=housing, x='yeo_TotalBsmtSF', bins=20);"
   ]
  },
  {
   "cell_type": "code",
   "execution_count": 55,
   "id": "340a1bda",
   "metadata": {},
   "outputs": [],
   "source": [
    "import numpy as np\n",
    "from scipy import stats\n",
    "\n",
    "# BC_TotalBsmtSF, fitted_lambda = stats.boxcox(housing['TotalBsmtSF'])"
   ]
  },
  {
   "cell_type": "code",
   "execution_count": 181,
   "id": "da8c5324",
   "metadata": {},
   "outputs": [
    {
     "data": {
      "text/plain": [
       "<AxesSubplot:xlabel='1stFlrSF', ylabel='SalePrice'>"
      ]
     },
     "execution_count": 181,
     "metadata": {},
     "output_type": "execute_result"
    },
    {
     "data": {
      "image/png": "[encoded data removed]",
      "text/plain": [
       "<Figure size 432x288 with 1 Axes>"
      ]
     },
     "metadata": {
      "needs_background": "light"
     },
     "output_type": "display_data"
    }
   ],
   "source": [
    "# 1stFlrSF\n",
    "\n",
    "housing[['1stFlrSF', 'SalePrice']].plot(kind='scatter', x='1stFlrSF', y='SalePrice', logx=True, logy=True)"
   ]
  },
  {
   "cell_type": "code",
   "execution_count": 182,
   "id": "bb9f170f",
   "metadata": {},
   "outputs": [],
   "source": [
    "first_FlrSF = housing[['1stFlrSF']]\n",
    "log_first_FlrSF = np.log(housing['1stFlrSF'])"
   ]
  },
  {
   "cell_type": "markdown",
   "id": "97d641cc",
   "metadata": {},
   "source": [
    "# Correlation with 1stFlrSF is rather high at 0.63"
   ]
  },
  {
   "cell_type": "code",
   "execution_count": 183,
   "id": "70b8bee9",
   "metadata": {},
   "outputs": [
    {
     "data": {
      "text/plain": [
       "0.636996155610283"
      ]
     },
     "execution_count": 183,
     "metadata": {},
     "output_type": "execute_result"
    }
   ],
   "source": [
    "# log_price.corr(log_TotalBsmtSF) #correlation\n",
    "log_price.corr(log_first_FlrSF)\n",
    "\n"
   ]
  },
  {
   "cell_type": "code",
   "execution_count": 184,
   "id": "f117b072",
   "metadata": {},
   "outputs": [],
   "source": [
    "housing['log_first_FlrSF'] = np.log(housing['1stFlrSF'])"
   ]
  },
  {
   "cell_type": "markdown",
   "id": "e3ee4399",
   "metadata": {},
   "source": [
    "# It appears that 2ndFlrSF may only be relevant for the more expensive homes.  The correlation is only "
   ]
  },
  {
   "cell_type": "code",
   "execution_count": 185,
   "id": "1539dada",
   "metadata": {},
   "outputs": [
    {
     "data": {
      "text/plain": [
       "<AxesSubplot:xlabel='2ndFlrSF', ylabel='SalePrice'>"
      ]
     },
     "execution_count": 185,
     "metadata": {},
     "output_type": "execute_result"
    },
    {
     "data": {
      "image/png": "[encoded data removed]",
      "text/plain": [
       "<Figure size 432x288 with 1 Axes>"
      ]
     },
     "metadata": {
      "needs_background": "light"
     },
     "output_type": "display_data"
    }
   ],
   "source": [
    "# 2ndFlrSF\n",
    "\n",
    "housing[['2ndFlrSF', 'SalePrice']].plot(kind='scatter', x='2ndFlrSF', y='SalePrice', logx=True, logy=True)"
   ]
  },
  {
   "cell_type": "code",
   "execution_count": 187,
   "id": "6a42f021",
   "metadata": {},
   "outputs": [
    {
     "data": {
      "text/plain": [
       "0.12767950902030764"
      ]
     },
     "execution_count": 187,
     "metadata": {},
     "output_type": "execute_result"
    }
   ],
   "source": [
    "log_price.corr(np.log(housing['2ndFlrSF'] + 1))"
   ]
  },
  {
   "cell_type": "code",
   "execution_count": 188,
   "id": "ab99e522",
   "metadata": {},
   "outputs": [],
   "source": [
    "housing['yeo_2ndFlrSF'],_ = stats.yeojohnson(housing['2ndFlrSF'])"
   ]
  },
  {
   "cell_type": "code",
   "execution_count": 189,
   "id": "f54bdec3",
   "metadata": {},
   "outputs": [
    {
     "data": {
      "text/plain": [
       "0.11773780216622287"
      ]
     },
     "execution_count": 189,
     "metadata": {},
     "output_type": "execute_result"
    }
   ],
   "source": [
    "log_price.corr(housing['yeo_2ndFlrSF'])"
   ]
  },
  {
   "cell_type": "code",
   "execution_count": 190,
   "id": "a5df7e71",
   "metadata": {},
   "outputs": [
    {
     "data": {
      "text/plain": [
       "<AxesSubplot:xlabel='LowQualFinSF', ylabel='SalePrice'>"
      ]
     },
     "execution_count": 190,
     "metadata": {},
     "output_type": "execute_result"
    },
    {
     "data": {
      "image/png": "[encoded data removed]",
      "text/plain": [
       "<Figure size 432x288 with 1 Axes>"
      ]
     },
     "metadata": {
      "needs_background": "light"
     },
     "output_type": "display_data"
    }
   ],
   "source": [
    "#LowQualFinSF: Low quality finished square feet (all floors)\n",
    "housing[['LowQualFinSF', 'SalePrice']].plot(kind='scatter', x='LowQualFinSF', y='SalePrice', logx=True, logy=True)\n"
   ]
  },
  {
   "cell_type": "markdown",
   "id": "e78e43ad",
   "metadata": {},
   "source": [
    "# Correlation with GarageArea is noteworthy at 0.65"
   ]
  },
  {
   "cell_type": "code",
   "execution_count": 191,
   "id": "5d2705c0",
   "metadata": {},
   "outputs": [
    {
     "data": {
      "text/plain": [
       "<AxesSubplot:xlabel='GarageArea', ylabel='SalePrice'>"
      ]
     },
     "execution_count": 191,
     "metadata": {},
     "output_type": "execute_result"
    },
    {
     "data": {
      "image/png": "[encoded data removed]",
      "text/plain": [
       "<Figure size 432x288 with 1 Axes>"
      ]
     },
     "metadata": {
      "needs_background": "light"
     },
     "output_type": "display_data"
    }
   ],
   "source": [
    "# GarageArea \n",
    "\n",
    "housing[['GarageArea', 'SalePrice']].plot(kind='scatter', x='GarageArea', y='SalePrice', logx=True, logy=True)"
   ]
  },
  {
   "cell_type": "code",
   "execution_count": 192,
   "id": "bd5be456",
   "metadata": {},
   "outputs": [
    {
     "data": {
      "text/plain": [
       "0.43324153892877143"
      ]
     },
     "execution_count": 192,
     "metadata": {},
     "output_type": "execute_result"
    }
   ],
   "source": [
    "log_price.corr(np.log(housing['GarageArea'] + 1))"
   ]
  },
  {
   "cell_type": "code",
   "execution_count": 193,
   "id": "f9652143",
   "metadata": {},
   "outputs": [],
   "source": [
    "housing['yeo_GarageArea'],_  = stats.yeojohnson(housing['GarageArea'] )"
   ]
  },
  {
   "cell_type": "code",
   "execution_count": 194,
   "id": "0e2c4f86",
   "metadata": {},
   "outputs": [
    {
     "data": {
      "text/plain": [
       "0.6455748462748022"
      ]
     },
     "execution_count": 194,
     "metadata": {},
     "output_type": "execute_result"
    }
   ],
   "source": [
    "log_price.corr(housing['yeo_GarageArea'])"
   ]
  },
  {
   "cell_type": "markdown",
   "id": "60a89834",
   "metadata": {},
   "source": [
    "# Correlation WoodDeckSF is 0.347 still could be taken into consideration for the model.  It may be important for the more expnsive homes."
   ]
  },
  {
   "cell_type": "code",
   "execution_count": 65,
   "id": "56e15cb6",
   "metadata": {},
   "outputs": [
    {
     "data": {
      "text/plain": [
       "<AxesSubplot:xlabel='WoodDeckSF', ylabel='SalePrice'>"
      ]
     },
     "execution_count": 65,
     "metadata": {},
     "output_type": "execute_result"
    },
    {
     "data": {
      "image/png": "[encoded data removed]",
      "text/plain": [
       "<Figure size 432x288 with 1 Axes>"
      ]
     },
     "metadata": {
      "needs_background": "light"
     },
     "output_type": "display_data"
    }
   ],
   "source": [
    "# WoodDeckSF \n",
    "housing[['WoodDeckSF', 'SalePrice']].plot(kind='scatter', x='WoodDeckSF', y='SalePrice', logx=True, logy=True)"
   ]
  },
  {
   "cell_type": "code",
   "execution_count": 195,
   "id": "2f994c5a",
   "metadata": {},
   "outputs": [
    {
     "data": {
      "text/plain": [
       "0.34657543191088896"
      ]
     },
     "execution_count": 195,
     "metadata": {},
     "output_type": "execute_result"
    }
   ],
   "source": [
    "log_price.corr(np.log(housing['WoodDeckSF'] + 1))\n"
   ]
  },
  {
   "cell_type": "code",
   "execution_count": 198,
   "id": "9ec4f3e2",
   "metadata": {},
   "outputs": [],
   "source": [
    "housing['log_WoodDeckSF'] = np.log(housing['WoodDeckSF'] + 1)"
   ]
  },
  {
   "cell_type": "code",
   "execution_count": 196,
   "id": "2a90ff83",
   "metadata": {},
   "outputs": [],
   "source": [
    "housing['yeo_WoodDeckSF'],_ = stats.yeojohnson(housing['WoodDeckSF'])"
   ]
  },
  {
   "cell_type": "code",
   "execution_count": 197,
   "id": "65b3a262",
   "metadata": {},
   "outputs": [
    {
     "data": {
      "text/plain": [
       "0.34376107138517664"
      ]
     },
     "execution_count": 197,
     "metadata": {},
     "output_type": "execute_result"
    }
   ],
   "source": [
    "log_price.corr(housing['yeo_WoodDeckSF'])"
   ]
  },
  {
   "cell_type": "code",
   "execution_count": 306,
   "id": "bcbe13bf",
   "metadata": {},
   "outputs": [],
   "source": [
    "housing['log_WoodDeckSF'] = np.log(housing['WoodDeckSF'] + 1)"
   ]
  },
  {
   "cell_type": "markdown",
   "id": "d6b3d972",
   "metadata": {},
   "source": [
    "# Correlation for OpenPorchSF is noteworthy at 0.45"
   ]
  },
  {
   "cell_type": "code",
   "execution_count": 199,
   "id": "b4930b9b",
   "metadata": {},
   "outputs": [
    {
     "data": {
      "text/plain": [
       "<AxesSubplot:xlabel='OpenPorchSF', ylabel='SalePrice'>"
      ]
     },
     "execution_count": 199,
     "metadata": {},
     "output_type": "execute_result"
    },
    {
     "data": {
      "image/png": "[encoded data removed]",
      "text/plain": [
       "<Figure size 432x288 with 1 Axes>"
      ]
     },
     "metadata": {
      "needs_background": "light"
     },
     "output_type": "display_data"
    }
   ],
   "source": [
    "# OpenPorchSF \n",
    "housing[['OpenPorchSF', 'SalePrice']].plot(kind='scatter', x='OpenPorchSF', y='SalePrice', logx=True, logy=True)"
   ]
  },
  {
   "cell_type": "code",
   "execution_count": 200,
   "id": "3ebdd91c",
   "metadata": {},
   "outputs": [
    {
     "data": {
      "text/plain": [
       "0.44931212922362607"
      ]
     },
     "execution_count": 200,
     "metadata": {},
     "output_type": "execute_result"
    }
   ],
   "source": [
    "log_price.corr(np.log(housing['OpenPorchSF'] + 1))"
   ]
  },
  {
   "cell_type": "code",
   "execution_count": 309,
   "id": "86a5238f",
   "metadata": {},
   "outputs": [],
   "source": [
    "housing['log_OpenPorchSF'] = np.log(housing['OpenPorchSF'] + 1)"
   ]
  },
  {
   "cell_type": "code",
   "execution_count": 202,
   "id": "2d552e87",
   "metadata": {},
   "outputs": [],
   "source": [
    "housing['yeo_OpenPorchSF'],_ = stats.yeojohnson(housing['OpenPorchSF'])"
   ]
  },
  {
   "cell_type": "code",
   "execution_count": 203,
   "id": "c0055278",
   "metadata": {},
   "outputs": [
    {
     "data": {
      "text/plain": [
       "0.448951593254681"
      ]
     },
     "execution_count": 203,
     "metadata": {},
     "output_type": "execute_result"
    }
   ],
   "source": [
    "log_price.corr(housing['yeo_OpenPorchSF'])"
   ]
  },
  {
   "cell_type": "code",
   "execution_count": 204,
   "id": "d156942b",
   "metadata": {},
   "outputs": [],
   "source": [
    "housing['has_pool'] = housing['PoolArea'] != 0"
   ]
  },
  {
   "cell_type": "markdown",
   "id": "ff2fcae2",
   "metadata": {},
   "source": [
    "'LotFrontage' has missing values yet miminum not equal to zero"
   ]
  },
  {
   "cell_type": "code",
   "execution_count": 205,
   "id": "bd57d42c",
   "metadata": {},
   "outputs": [
    {
     "data": {
      "text/plain": [
       "<AxesSubplot:xlabel='LotFrontage', ylabel='SalePrice'>"
      ]
     },
     "execution_count": 205,
     "metadata": {},
     "output_type": "execute_result"
    },
    {
     "data": {
      "image/png": "[encoded data removed]",
      "text/plain": [
       "<Figure size 432x288 with 1 Axes>"
      ]
     },
     "metadata": {
      "needs_background": "light"
     },
     "output_type": "display_data"
    }
   ],
   "source": [
    "\n",
    "\n",
    "\n",
    "housing[['LotFrontage', 'SalePrice']].plot(kind='scatter', x='LotFrontage', y='SalePrice', logx=True, logy=True)"
   ]
  },
  {
   "cell_type": "code",
   "execution_count": 206,
   "id": "233ce2f3",
   "metadata": {},
   "outputs": [],
   "source": [
    "housing['yeo_LotFrontage'],_ = stats.yeojohnson(housing['LotFrontage'])"
   ]
  },
  {
   "cell_type": "code",
   "execution_count": 234,
   "id": "e2382cbf",
   "metadata": {},
   "outputs": [
    {
     "data": {
      "text/plain": [
       "0.08670087077688643"
      ]
     },
     "execution_count": 234,
     "metadata": {},
     "output_type": "execute_result"
    }
   ],
   "source": [
    "log_price.corr(housing['yeo_LotFrontage'])"
   ]
  },
  {
   "cell_type": "code",
   "execution_count": 233,
   "id": "03a789b4",
   "metadata": {},
   "outputs": [
    {
     "data": {
      "text/plain": [
       "-0.035600565214138846"
      ]
     },
     "execution_count": 233,
     "metadata": {},
     "output_type": "execute_result"
    }
   ],
   "source": [
    "log_price.corr(np.log(housing['LotFrontage'] + 1))"
   ]
  },
  {
   "cell_type": "code",
   "execution_count": 229,
   "id": "7e620e7b",
   "metadata": {},
   "outputs": [],
   "source": [
    "housing['log_LotFrontage']=np.log(housing['LotFrontage'] + 1)"
   ]
  },
  {
   "cell_type": "code",
   "execution_count": 420,
   "id": "0ae14b69",
   "metadata": {},
   "outputs": [],
   "source": [
    "housing['yeo_LotFrontage'],_ = stats.yeojohnson(housing['LotFrontage'])"
   ]
  },
  {
   "cell_type": "code",
   "execution_count": 232,
   "id": "56e73994",
   "metadata": {},
   "outputs": [
    {
     "data": {
      "text/plain": [
       "0.08670087077688643"
      ]
     },
     "execution_count": 232,
     "metadata": {},
     "output_type": "execute_result"
    }
   ],
   "source": [
    "log_price.corr(housing['yeo_LotFrontage'] )"
   ]
  },
  {
   "cell_type": "code",
   "execution_count": null,
   "id": "9a07f75a",
   "metadata": {},
   "outputs": [],
   "source": [
    "# seaborn scatter with reg line"
   ]
  },
  {
   "cell_type": "code",
   "execution_count": 211,
   "id": "0b290961",
   "metadata": {},
   "outputs": [],
   "source": [
    "# sns.lmplot(data=housing, x='log_LotFrontage', y='log_price', fit_reg= True)"
   ]
  },
  {
   "cell_type": "code",
   "execution_count": 121,
   "id": "53ab6958",
   "metadata": {},
   "outputs": [],
   "source": [
    "size_related.columns\n",
    "df_num.columns\n",
    "\n",
    "other_numerics = list(filter(lambda x: x not in size_related.columns, df_num.columns ))"
   ]
  },
  {
   "cell_type": "code",
   "execution_count": 93,
   "id": "47da662d",
   "metadata": {},
   "outputs": [],
   "source": [
    "other_numerics = housing[other_numerics]"
   ]
  },
  {
   "cell_type": "code",
   "execution_count": 222,
   "id": "34edff58",
   "metadata": {},
   "outputs": [],
   "source": [
    "# other_numerics.info()"
   ]
  },
  {
   "cell_type": "code",
   "execution_count": 110,
   "id": "9991a183",
   "metadata": {},
   "outputs": [
    {
     "data": {
      "text/html": [
       "<div>\n",
       "<style scoped>\n",
       "    .dataframe tbody tr th:only-of-type {\n",
       "        vertical-align: middle;\n",
       "    }\n",
       "\n",
       "    .dataframe tbody tr th {\n",
       "        vertical-align: top;\n",
       "    }\n",
       "\n",
       "    .dataframe thead th {\n",
       "        text-align: right;\n",
       "    }\n",
       "</style>\n",
       "<table border=\"1\" class=\"dataframe\">\n",
       "  <thead>\n",
       "    <tr style=\"text-align: right;\">\n",
       "      <th></th>\n",
       "      <th>Id</th>\n",
       "      <th>LotFrontage</th>\n",
       "      <th>OverallQual</th>\n",
       "      <th>OverallCond</th>\n",
       "      <th>YearBuilt</th>\n",
       "      <th>YearRemodAdd</th>\n",
       "      <th>BsmtFinSF1</th>\n",
       "      <th>BsmtFinSF2</th>\n",
       "      <th>BsmtFullBath</th>\n",
       "      <th>BsmtHalfBath</th>\n",
       "      <th>FullBath</th>\n",
       "      <th>HalfBath</th>\n",
       "      <th>BedroomAbvGr</th>\n",
       "      <th>KitchenAbvGr</th>\n",
       "      <th>TotRmsAbvGrd</th>\n",
       "      <th>Fireplaces</th>\n",
       "      <th>GarageYrBlt</th>\n",
       "      <th>GarageCars</th>\n",
       "      <th>EnclosedPorch</th>\n",
       "      <th>3SsnPorch</th>\n",
       "      <th>ScreenPorch</th>\n",
       "      <th>MiscVal</th>\n",
       "      <th>YrSold</th>\n",
       "      <th>SalePrice</th>\n",
       "      <th>log_price</th>\n",
       "    </tr>\n",
       "  </thead>\n",
       "  <tbody>\n",
       "    <tr>\n",
       "      <th>count</th>\n",
       "      <td>1460.000000</td>\n",
       "      <td>1201.000000</td>\n",
       "      <td>1460.000000</td>\n",
       "      <td>1460.000000</td>\n",
       "      <td>1460.000000</td>\n",
       "      <td>1460.000000</td>\n",
       "      <td>1460.000000</td>\n",
       "      <td>1460.000000</td>\n",
       "      <td>1460.000000</td>\n",
       "      <td>1460.000000</td>\n",
       "      <td>1460.000000</td>\n",
       "      <td>1460.000000</td>\n",
       "      <td>1460.000000</td>\n",
       "      <td>1460.000000</td>\n",
       "      <td>1460.000000</td>\n",
       "      <td>1460.000000</td>\n",
       "      <td>1379.000000</td>\n",
       "      <td>1460.000000</td>\n",
       "      <td>1460.000000</td>\n",
       "      <td>1460.000000</td>\n",
       "      <td>1460.000000</td>\n",
       "      <td>1460.000000</td>\n",
       "      <td>1460.000000</td>\n",
       "      <td>1460.000000</td>\n",
       "      <td>1460.000000</td>\n",
       "    </tr>\n",
       "    <tr>\n",
       "      <th>mean</th>\n",
       "      <td>730.500000</td>\n",
       "      <td>70.049958</td>\n",
       "      <td>6.099315</td>\n",
       "      <td>5.575342</td>\n",
       "      <td>1971.267808</td>\n",
       "      <td>1984.865753</td>\n",
       "      <td>443.639726</td>\n",
       "      <td>46.549315</td>\n",
       "      <td>0.425342</td>\n",
       "      <td>0.057534</td>\n",
       "      <td>1.565068</td>\n",
       "      <td>0.382877</td>\n",
       "      <td>2.866438</td>\n",
       "      <td>1.046575</td>\n",
       "      <td>6.517808</td>\n",
       "      <td>0.613014</td>\n",
       "      <td>1978.506164</td>\n",
       "      <td>1.767123</td>\n",
       "      <td>21.954110</td>\n",
       "      <td>3.409589</td>\n",
       "      <td>15.060959</td>\n",
       "      <td>43.489041</td>\n",
       "      <td>2007.815753</td>\n",
       "      <td>180921.195890</td>\n",
       "      <td>12.024051</td>\n",
       "    </tr>\n",
       "    <tr>\n",
       "      <th>std</th>\n",
       "      <td>421.610009</td>\n",
       "      <td>24.284752</td>\n",
       "      <td>1.382997</td>\n",
       "      <td>1.112799</td>\n",
       "      <td>30.202904</td>\n",
       "      <td>20.645407</td>\n",
       "      <td>456.098091</td>\n",
       "      <td>161.319273</td>\n",
       "      <td>0.518911</td>\n",
       "      <td>0.238753</td>\n",
       "      <td>0.550916</td>\n",
       "      <td>0.502885</td>\n",
       "      <td>0.815778</td>\n",
       "      <td>0.220338</td>\n",
       "      <td>1.625393</td>\n",
       "      <td>0.644666</td>\n",
       "      <td>24.689725</td>\n",
       "      <td>0.747315</td>\n",
       "      <td>61.119149</td>\n",
       "      <td>29.317331</td>\n",
       "      <td>55.757415</td>\n",
       "      <td>496.123024</td>\n",
       "      <td>1.328095</td>\n",
       "      <td>79442.502883</td>\n",
       "      <td>0.399452</td>\n",
       "    </tr>\n",
       "    <tr>\n",
       "      <th>min</th>\n",
       "      <td>1.000000</td>\n",
       "      <td>21.000000</td>\n",
       "      <td>1.000000</td>\n",
       "      <td>1.000000</td>\n",
       "      <td>1872.000000</td>\n",
       "      <td>1950.000000</td>\n",
       "      <td>0.000000</td>\n",
       "      <td>0.000000</td>\n",
       "      <td>0.000000</td>\n",
       "      <td>0.000000</td>\n",
       "      <td>0.000000</td>\n",
       "      <td>0.000000</td>\n",
       "      <td>0.000000</td>\n",
       "      <td>0.000000</td>\n",
       "      <td>2.000000</td>\n",
       "      <td>0.000000</td>\n",
       "      <td>1900.000000</td>\n",
       "      <td>0.000000</td>\n",
       "      <td>0.000000</td>\n",
       "      <td>0.000000</td>\n",
       "      <td>0.000000</td>\n",
       "      <td>0.000000</td>\n",
       "      <td>2006.000000</td>\n",
       "      <td>34900.000000</td>\n",
       "      <td>10.460242</td>\n",
       "    </tr>\n",
       "    <tr>\n",
       "      <th>25%</th>\n",
       "      <td>365.750000</td>\n",
       "      <td>59.000000</td>\n",
       "      <td>5.000000</td>\n",
       "      <td>5.000000</td>\n",
       "      <td>1954.000000</td>\n",
       "      <td>1967.000000</td>\n",
       "      <td>0.000000</td>\n",
       "      <td>0.000000</td>\n",
       "      <td>0.000000</td>\n",
       "      <td>0.000000</td>\n",
       "      <td>1.000000</td>\n",
       "      <td>0.000000</td>\n",
       "      <td>2.000000</td>\n",
       "      <td>1.000000</td>\n",
       "      <td>5.000000</td>\n",
       "      <td>0.000000</td>\n",
       "      <td>1961.000000</td>\n",
       "      <td>1.000000</td>\n",
       "      <td>0.000000</td>\n",
       "      <td>0.000000</td>\n",
       "      <td>0.000000</td>\n",
       "      <td>0.000000</td>\n",
       "      <td>2007.000000</td>\n",
       "      <td>129975.000000</td>\n",
       "      <td>11.775097</td>\n",
       "    </tr>\n",
       "    <tr>\n",
       "      <th>50%</th>\n",
       "      <td>730.500000</td>\n",
       "      <td>69.000000</td>\n",
       "      <td>6.000000</td>\n",
       "      <td>5.000000</td>\n",
       "      <td>1973.000000</td>\n",
       "      <td>1994.000000</td>\n",
       "      <td>383.500000</td>\n",
       "      <td>0.000000</td>\n",
       "      <td>0.000000</td>\n",
       "      <td>0.000000</td>\n",
       "      <td>2.000000</td>\n",
       "      <td>0.000000</td>\n",
       "      <td>3.000000</td>\n",
       "      <td>1.000000</td>\n",
       "      <td>6.000000</td>\n",
       "      <td>1.000000</td>\n",
       "      <td>1980.000000</td>\n",
       "      <td>2.000000</td>\n",
       "      <td>0.000000</td>\n",
       "      <td>0.000000</td>\n",
       "      <td>0.000000</td>\n",
       "      <td>0.000000</td>\n",
       "      <td>2008.000000</td>\n",
       "      <td>163000.000000</td>\n",
       "      <td>12.001505</td>\n",
       "    </tr>\n",
       "    <tr>\n",
       "      <th>75%</th>\n",
       "      <td>1095.250000</td>\n",
       "      <td>80.000000</td>\n",
       "      <td>7.000000</td>\n",
       "      <td>6.000000</td>\n",
       "      <td>2000.000000</td>\n",
       "      <td>2004.000000</td>\n",
       "      <td>712.250000</td>\n",
       "      <td>0.000000</td>\n",
       "      <td>1.000000</td>\n",
       "      <td>0.000000</td>\n",
       "      <td>2.000000</td>\n",
       "      <td>1.000000</td>\n",
       "      <td>3.000000</td>\n",
       "      <td>1.000000</td>\n",
       "      <td>7.000000</td>\n",
       "      <td>1.000000</td>\n",
       "      <td>2002.000000</td>\n",
       "      <td>2.000000</td>\n",
       "      <td>0.000000</td>\n",
       "      <td>0.000000</td>\n",
       "      <td>0.000000</td>\n",
       "      <td>0.000000</td>\n",
       "      <td>2009.000000</td>\n",
       "      <td>214000.000000</td>\n",
       "      <td>12.273731</td>\n",
       "    </tr>\n",
       "    <tr>\n",
       "      <th>max</th>\n",
       "      <td>1460.000000</td>\n",
       "      <td>313.000000</td>\n",
       "      <td>10.000000</td>\n",
       "      <td>9.000000</td>\n",
       "      <td>2010.000000</td>\n",
       "      <td>2010.000000</td>\n",
       "      <td>5644.000000</td>\n",
       "      <td>1474.000000</td>\n",
       "      <td>3.000000</td>\n",
       "      <td>2.000000</td>\n",
       "      <td>3.000000</td>\n",
       "      <td>2.000000</td>\n",
       "      <td>8.000000</td>\n",
       "      <td>3.000000</td>\n",
       "      <td>14.000000</td>\n",
       "      <td>3.000000</td>\n",
       "      <td>2010.000000</td>\n",
       "      <td>4.000000</td>\n",
       "      <td>552.000000</td>\n",
       "      <td>508.000000</td>\n",
       "      <td>480.000000</td>\n",
       "      <td>15500.000000</td>\n",
       "      <td>2010.000000</td>\n",
       "      <td>755000.000000</td>\n",
       "      <td>13.534473</td>\n",
       "    </tr>\n",
       "  </tbody>\n",
       "</table>\n",
       "</div>"
      ],
      "text/plain": [
       "                Id  LotFrontage  OverallQual  OverallCond    YearBuilt  \\\n",
       "count  1460.000000  1201.000000  1460.000000  1460.000000  1460.000000   \n",
       "mean    730.500000    70.049958     6.099315     5.575342  1971.267808   \n",
       "std     421.610009    24.284752     1.382997     1.112799    30.202904   \n",
       "min       1.000000    21.000000     1.000000     1.000000  1872.000000   \n",
       "25%     365.750000    59.000000     5.000000     5.000000  1954.000000   \n",
       "50%     730.500000    69.000000     6.000000     5.000000  1973.000000   \n",
       "75%    1095.250000    80.000000     7.000000     6.000000  2000.000000   \n",
       "max    1460.000000   313.000000    10.000000     9.000000  2010.000000   \n",
       "\n",
       "       YearRemodAdd   BsmtFinSF1   BsmtFinSF2  BsmtFullBath  BsmtHalfBath  \\\n",
       "count   1460.000000  1460.000000  1460.000000   1460.000000   1460.000000   \n",
       "mean    1984.865753   443.639726    46.549315      0.425342      0.057534   \n",
       "std       20.645407   456.098091   161.319273      0.518911      0.238753   \n",
       "min     1950.000000     0.000000     0.000000      0.000000      0.000000   \n",
       "25%     1967.000000     0.000000     0.000000      0.000000      0.000000   \n",
       "50%     1994.000000   383.500000     0.000000      0.000000      0.000000   \n",
       "75%     2004.000000   712.250000     0.000000      1.000000      0.000000   \n",
       "max     2010.000000  5644.000000  1474.000000      3.000000      2.000000   \n",
       "\n",
       "          FullBath     HalfBath  BedroomAbvGr  KitchenAbvGr  TotRmsAbvGrd  \\\n",
       "count  1460.000000  1460.000000   1460.000000   1460.000000   1460.000000   \n",
       "mean      1.565068     0.382877      2.866438      1.046575      6.517808   \n",
       "std       0.550916     0.502885      0.815778      0.220338      1.625393   \n",
       "min       0.000000     0.000000      0.000000      0.000000      2.000000   \n",
       "25%       1.000000     0.000000      2.000000      1.000000      5.000000   \n",
       "50%       2.000000     0.000000      3.000000      1.000000      6.000000   \n",
       "75%       2.000000     1.000000      3.000000      1.000000      7.000000   \n",
       "max       3.000000     2.000000      8.000000      3.000000     14.000000   \n",
       "\n",
       "        Fireplaces  GarageYrBlt   GarageCars  EnclosedPorch    3SsnPorch  \\\n",
       "count  1460.000000  1379.000000  1460.000000    1460.000000  1460.000000   \n",
       "mean      0.613014  1978.506164     1.767123      21.954110     3.409589   \n",
       "std       0.644666    24.689725     0.747315      61.119149    29.317331   \n",
       "min       0.000000  1900.000000     0.000000       0.000000     0.000000   \n",
       "25%       0.000000  1961.000000     1.000000       0.000000     0.000000   \n",
       "50%       1.000000  1980.000000     2.000000       0.000000     0.000000   \n",
       "75%       1.000000  2002.000000     2.000000       0.000000     0.000000   \n",
       "max       3.000000  2010.000000     4.000000     552.000000   508.000000   \n",
       "\n",
       "       ScreenPorch       MiscVal       YrSold      SalePrice    log_price  \n",
       "count  1460.000000   1460.000000  1460.000000    1460.000000  1460.000000  \n",
       "mean     15.060959     43.489041  2007.815753  180921.195890    12.024051  \n",
       "std      55.757415    496.123024     1.328095   79442.502883     0.399452  \n",
       "min       0.000000      0.000000  2006.000000   34900.000000    10.460242  \n",
       "25%       0.000000      0.000000  2007.000000  129975.000000    11.775097  \n",
       "50%       0.000000      0.000000  2008.000000  163000.000000    12.001505  \n",
       "75%       0.000000      0.000000  2009.000000  214000.000000    12.273731  \n",
       "max     480.000000  15500.000000  2010.000000  755000.000000    13.534473  "
      ]
     },
     "execution_count": 110,
     "metadata": {},
     "output_type": "execute_result"
    }
   ],
   "source": [
    "other_numerics.describe()"
   ]
  },
  {
   "cell_type": "code",
   "execution_count": 221,
   "id": "d466baa5",
   "metadata": {},
   "outputs": [],
   "source": [
    "# housing.info()"
   ]
  },
  {
   "cell_type": "markdown",
   "id": "63deda99",
   "metadata": {},
   "source": [
    "x=\"OverallQual\", y=\"SalePrice\""
   ]
  },
  {
   "cell_type": "markdown",
   "id": "584e67e0",
   "metadata": {},
   "source": [
    "# it1 "
   ]
  },
  {
   "cell_type": "code",
   "execution_count": 217,
   "id": "26c7f581",
   "metadata": {},
   "outputs": [],
   "source": [
    "it1 = ['log_GrLivArea', 'has_pool','log_LotArea', 'log_MasVnrArea', 'bc_LotArea','yeo_TotalBsmtSF', 'yeo_GarageArea', 'yeo_WoodDeckSF','yeo_OpenPorchSF','log_price']\n",
    "it1 = housing[it1]      "
   ]
  },
  {
   "cell_type": "code",
   "execution_count": 218,
   "id": "f24444d4",
   "metadata": {},
   "outputs": [],
   "source": [
    "it1.to_csv(r'C:\\Users\\dgarb\\OneDrive\\Documents\\Data Science Bootcamp August\\Machine Learning Project\\iteration files\\it1.csv')"
   ]
  },
  {
   "cell_type": "markdown",
   "id": "2e5aaf84",
   "metadata": {},
   "source": [
    "# it2"
   ]
  },
  {
   "cell_type": "code",
   "execution_count": 310,
   "id": "0c6b1898",
   "metadata": {},
   "outputs": [],
   "source": [
    "it2 =['log_GrLivArea', 'log_LotArea', 'log_MasVnrArea', 'bc_LotArea','yeo_TotalBsmtSF', 'yeo_GarageArea', 'log_WoodDeckSF','log_OpenPorchSF','log_price']\n",
    "\n",
    "it2a = it2 + ['log_first_FlrSF',\"OverallQual\",\"OverallCond\",'BsmtFinSF1','YearBuilt','YearRemodAdd','BsmtFullBath','BsmtHalfBath', 'FullBath', 'HalfBath', 'BedroomAbvGr', 'KitchenAbvGr', 'TotRmsAbvGrd','Fireplaces']\n",
    "\n"
   ]
  },
  {
   "cell_type": "code",
   "execution_count": 311,
   "id": "0435d060",
   "metadata": {},
   "outputs": [],
   "source": [
    "it2 = housing[it2a]\n",
    "\n",
    "it2.to_csv(r'C:\\Users\\dgarb\\OneDrive\\Documents\\Data Science Bootcamp August\\Machine Learning Project\\iteration files\\it2.csv')"
   ]
  },
  {
   "cell_type": "code",
   "execution_count": 209,
   "id": "0b303082",
   "metadata": {},
   "outputs": [
    {
     "data": {
      "text/plain": [
       "Index(['Id', 'MSSubClass', 'MSZoning', 'LotFrontage', 'LotArea', 'Street',\n",
       "       'Alley', 'LotShape', 'LandContour', 'Utilities', 'LotConfig',\n",
       "       'LandSlope', 'Neighborhood', 'Condition1', 'Condition2', 'BldgType',\n",
       "       'HouseStyle', 'OverallQual', 'OverallCond', 'YearBuilt', 'YearRemodAdd',\n",
       "       'RoofStyle', 'RoofMatl', 'Exterior1st', 'Exterior2nd', 'MasVnrType',\n",
       "       'MasVnrArea', 'ExterQual', 'ExterCond', 'Foundation', 'BsmtQual',\n",
       "       'BsmtCond', 'BsmtExposure', 'BsmtFinType1', 'BsmtFinSF1',\n",
       "       'BsmtFinType2', 'BsmtFinSF2', 'BsmtUnfSF', 'TotalBsmtSF', 'Heating',\n",
       "       'HeatingQC', 'CentralAir', 'Electrical', '1stFlrSF', '2ndFlrSF',\n",
       "       'LowQualFinSF', 'GrLivArea', 'BsmtFullBath', 'BsmtHalfBath', 'FullBath',\n",
       "       'HalfBath', 'BedroomAbvGr', 'KitchenAbvGr', 'KitchenQual',\n",
       "       'TotRmsAbvGrd', 'Functional', 'Fireplaces', 'FireplaceQu', 'GarageType',\n",
       "       'GarageYrBlt', 'GarageFinish', 'GarageCars', 'GarageArea', 'GarageQual',\n",
       "       'GarageCond', 'PavedDrive', 'WoodDeckSF', 'OpenPorchSF',\n",
       "       'EnclosedPorch', '3SsnPorch', 'ScreenPorch', 'PoolArea', 'PoolQC',\n",
       "       'Fence', 'MiscFeature', 'MiscVal', 'MoSold', 'YrSold', 'SaleType',\n",
       "       'SaleCondition', 'SalePrice', 'log_GrLivArea', 'log_price', 'has_pool',\n",
       "       'log_LotArea', 'log_MasVnrArea', 'bc_LotArea', 'yeo_MasVnrArea',\n",
       "       'bc_GrLivArea', 'yeo_TotalBsmtSF', 'yeo_GarageArea', 'yeo_WoodDeckSF',\n",
       "       'yeo_OpenPorchSF'],\n",
       "      dtype='object')"
      ]
     },
     "execution_count": 209,
     "metadata": {},
     "output_type": "execute_result"
    }
   ],
   "source": [
    "housing.columns"
   ]
  },
  {
   "cell_type": "markdown",
   "id": "95391dcb",
   "metadata": {},
   "source": [
    "# OverallQual"
   ]
  },
  {
   "cell_type": "code",
   "execution_count": 213,
   "id": "69c5787e",
   "metadata": {},
   "outputs": [
    {
     "data": {
      "image/png": "[encoded data removed]",
      "text/plain": [
       "<Figure size 432x288 with 1 Axes>"
      ]
     },
     "metadata": {},
     "output_type": "display_data"
    }
   ],
   "source": [
    "\n",
    "sns.set_theme(style='darkgrid')\n",
    "\n",
    "# tips = sns.load_dataset(\"tips\")\n",
    "ax = sns.barplot(x=\"OverallQual\", y=\"SalePrice\", data=housing, color='skyblue', ci=None)"
   ]
  },
  {
   "cell_type": "markdown",
   "id": "b426f1b8",
   "metadata": {},
   "source": [
    "x=\"OverallQual\", y=\"log_price\""
   ]
  },
  {
   "cell_type": "code",
   "execution_count": 113,
   "id": "336a7cf9",
   "metadata": {},
   "outputs": [
    {
     "data": {
      "image/png": "[encoded data removed]",
      "text/plain": [
       "<Figure size 432x288 with 1 Axes>"
      ]
     },
     "metadata": {},
     "output_type": "display_data"
    }
   ],
   "source": [
    "sns.set_theme(style='darkgrid')\n",
    "\n",
    "# tips = sns.load_dataset(\"tips\")\n",
    "ax = sns.barplot(x=\"OverallQual\", y=\"log_price\", data=other_numerics, color='skyblue', ci=None)"
   ]
  },
  {
   "cell_type": "markdown",
   "id": "35f3b7fc",
   "metadata": {},
   "source": [
    "x=\"OverallCond\", y=\"SalePrice\""
   ]
  },
  {
   "cell_type": "markdown",
   "id": "05f0105e",
   "metadata": {},
   "source": [
    "# OverallCond"
   ]
  },
  {
   "cell_type": "code",
   "execution_count": 116,
   "id": "3300f2fe",
   "metadata": {},
   "outputs": [
    {
     "data": {
      "image/png": "[encoded data removed]",
      "text/plain": [
       "<Figure size 432x288 with 1 Axes>"
      ]
     },
     "metadata": {},
     "output_type": "display_data"
    }
   ],
   "source": [
    "ax = sns.barplot(x=\"OverallCond\", y=\"SalePrice\", data=other_numerics, color='skyblue' ,ci=None)"
   ]
  },
  {
   "cell_type": "code",
   "execution_count": 114,
   "id": "bc2fbb4b",
   "metadata": {},
   "outputs": [
    {
     "data": {
      "image/png": "[encoded data removed]",
      "text/plain": [
       "<Figure size 432x288 with 1 Axes>"
      ]
     },
     "metadata": {},
     "output_type": "display_data"
    }
   ],
   "source": [
    "sns.set_theme(style='darkgrid')\n",
    "\n",
    "# tips = sns.load_dataset(\"tips\")\n",
    "ax = sns.barplot(x=\"OverallCond\", y=\"log_price\", data=other_numerics, color='skyblue' ,ci=None)"
   ]
  },
  {
   "cell_type": "markdown",
   "id": "46bdad5e",
   "metadata": {},
   "source": [
    "# YearBuilt  correation 0.5866"
   ]
  },
  {
   "cell_type": "code",
   "execution_count": 106,
   "id": "3b406c43",
   "metadata": {},
   "outputs": [
    {
     "name": "stderr",
     "output_type": "stream",
     "text": [
      "*c* argument looks like a single numeric RGB or RGBA sequence, which should be avoided as value-mapping will have precedence in case its length matches with *x* & *y*.  Please use the *color* keyword-argument or provide a 2D array with a single row if you intend to specify the same RGB or RGBA value for all points.\n"
     ]
    },
    {
     "data": {
      "text/plain": [
       "<AxesSubplot:xlabel='YearBuilt', ylabel='SalePrice'>"
      ]
     },
     "execution_count": 106,
     "metadata": {},
     "output_type": "execute_result"
    },
    {
     "data": {
      "image/png": "[encoded data removed]",
      "text/plain": [
       "<Figure size 432x288 with 1 Axes>"
      ]
     },
     "metadata": {},
     "output_type": "display_data"
    }
   ],
   "source": [
    "housing[['YearBuilt', 'SalePrice']].plot(kind='scatter', x='YearBuilt', y='SalePrice',  logy=True) #logx=True,"
   ]
  },
  {
   "cell_type": "code",
   "execution_count": 238,
   "id": "02008f64",
   "metadata": {},
   "outputs": [
    {
     "data": {
      "text/plain": [
       "0.5865702403842267"
      ]
     },
     "execution_count": 238,
     "metadata": {},
     "output_type": "execute_result"
    }
   ],
   "source": [
    "log_price.corr(housing['YearBuilt'])"
   ]
  },
  {
   "cell_type": "code",
   "execution_count": 240,
   "id": "777f0add",
   "metadata": {},
   "outputs": [
    {
     "data": {
      "text/plain": [
       "0.5928549763436503"
      ]
     },
     "execution_count": 240,
     "metadata": {},
     "output_type": "execute_result"
    }
   ],
   "source": [
    "housing['YearBuilt'].corr(housing['YearRemodAdd'])"
   ]
  },
  {
   "cell_type": "markdown",
   "id": "08ffe4dc",
   "metadata": {},
   "source": [
    "# YearRemodAdd  correlation 0.5656"
   ]
  },
  {
   "cell_type": "code",
   "execution_count": 108,
   "id": "29085a01",
   "metadata": {},
   "outputs": [
    {
     "name": "stderr",
     "output_type": "stream",
     "text": [
      "*c* argument looks like a single numeric RGB or RGBA sequence, which should be avoided as value-mapping will have precedence in case its length matches with *x* & *y*.  Please use the *color* keyword-argument or provide a 2D array with a single row if you intend to specify the same RGB or RGBA value for all points.\n"
     ]
    },
    {
     "data": {
      "text/plain": [
       "<AxesSubplot:xlabel='YearRemodAdd', ylabel='SalePrice'>"
      ]
     },
     "execution_count": 108,
     "metadata": {},
     "output_type": "execute_result"
    },
    {
     "data": {
      "image/png": "[encoded data removed]",
      "text/plain": [
       "<Figure size 432x288 with 1 Axes>"
      ]
     },
     "metadata": {},
     "output_type": "display_data"
    }
   ],
   "source": [
    "# YearRemodAdd\n",
    "\n",
    "housing[['YearRemodAdd', 'SalePrice']].plot(kind='scatter', x='YearRemodAdd', y='SalePrice',  logy=True) #logx=True,"
   ]
  },
  {
   "cell_type": "code",
   "execution_count": 214,
   "id": "8337bc81",
   "metadata": {},
   "outputs": [],
   "source": [
    "# sns.heatmap(other_numerics.corr(), cmap=\"Blues\", center=0); #cmap=\"Blues\", cmap='RdBu',\n",
    "# log_price.corr(housing['YearRemodAdd'])"
   ]
  },
  {
   "cell_type": "markdown",
   "id": "adbc3a6e",
   "metadata": {},
   "source": [
    "# BsmtFinSF1: Type 1 finished square feet"
   ]
  },
  {
   "cell_type": "code",
   "execution_count": 215,
   "id": "edb318e5",
   "metadata": {},
   "outputs": [
    {
     "name": "stderr",
     "output_type": "stream",
     "text": [
      "*c* argument looks like a single numeric RGB or RGBA sequence, which should be avoided as value-mapping will have precedence in case its length matches with *x* & *y*.  Please use the *color* keyword-argument or provide a 2D array with a single row if you intend to specify the same RGB or RGBA value for all points.\n"
     ]
    },
    {
     "data": {
      "text/plain": [
       "<AxesSubplot:xlabel='BsmtFinSF1', ylabel='SalePrice'>"
      ]
     },
     "execution_count": 215,
     "metadata": {},
     "output_type": "execute_result"
    },
    {
     "data": {
      "image/png": "[encoded data removed]",
      "text/plain": [
       "<Figure size 432x288 with 1 Axes>"
      ]
     },
     "metadata": {},
     "output_type": "display_data"
    }
   ],
   "source": [
    "# BsmtFinSF1\n",
    "\n",
    "# sns.set_theme(style='darkgrid')\n",
    "\n",
    "# ax = sns.barplot(x=\"BsmtFinSF1\", y=\"SalePrice\", data=other_numerics, color='skyblue' ,ci=None)\n",
    "\n",
    "housing[['BsmtFinSF1', 'SalePrice']].plot(kind='scatter', x='BsmtFinSF1', y='SalePrice', logx=True, logy=True) #,"
   ]
  },
  {
   "cell_type": "code",
   "execution_count": 216,
   "id": "a43401b6",
   "metadata": {},
   "outputs": [],
   "source": [
    "\n",
    "housing['yeo_BsmtFinSF1'],_  = stats.yeojohnson(housing['BsmtFinSF1'])"
   ]
  },
  {
   "cell_type": "code",
   "execution_count": 217,
   "id": "6d2121db",
   "metadata": {},
   "outputs": [],
   "source": [
    "housing['log_BsmtFinSF1'] = np.log(housing['BsmtFinSF1']+1)"
   ]
  },
  {
   "cell_type": "code",
   "execution_count": 218,
   "id": "f0dd29c2",
   "metadata": {},
   "outputs": [
    {
     "data": {
      "text/plain": [
       "0.44595696856925227"
      ]
     },
     "execution_count": 218,
     "metadata": {},
     "output_type": "execute_result"
    }
   ],
   "source": [
    "log_price.corr(housing['BsmtFinSF1'])"
   ]
  },
  {
   "cell_type": "code",
   "execution_count": 219,
   "id": "caff50e0",
   "metadata": {},
   "outputs": [
    {
     "data": {
      "text/plain": [
       "0.31639511827558753"
      ]
     },
     "execution_count": 219,
     "metadata": {},
     "output_type": "execute_result"
    }
   ],
   "source": [
    "log_price.corr(housing['yeo_BsmtFinSF1'])"
   ]
  },
  {
   "cell_type": "code",
   "execution_count": 220,
   "id": "a2ec0e66",
   "metadata": {},
   "outputs": [
    {
     "data": {
      "text/plain": [
       "0.2599589171094316"
      ]
     },
     "execution_count": 220,
     "metadata": {},
     "output_type": "execute_result"
    }
   ],
   "source": [
    "log_price.corr(housing['log_BsmtFinSF1'])"
   ]
  },
  {
   "cell_type": "code",
   "execution_count": 284,
   "id": "16d9db51",
   "metadata": {},
   "outputs": [
    {
     "name": "stderr",
     "output_type": "stream",
     "text": [
      "*c* argument looks like a single numeric RGB or RGBA sequence, which should be avoided as value-mapping will have precedence in case its length matches with *x* & *y*.  Please use the *color* keyword-argument or provide a 2D array with a single row if you intend to specify the same RGB or RGBA value for all points.\n"
     ]
    },
    {
     "data": {
      "text/plain": [
       "<AxesSubplot:xlabel='BsmtFinSF2', ylabel='SalePrice'>"
      ]
     },
     "execution_count": 284,
     "metadata": {},
     "output_type": "execute_result"
    },
    {
     "data": {
      "image/png": "[encoded data removed]",
      "text/plain": [
       "<Figure size 432x288 with 1 Axes>"
      ]
     },
     "metadata": {
      "needs_background": "light"
     },
     "output_type": "display_data"
    }
   ],
   "source": [
    "housing[['BsmtFinSF2', 'SalePrice']].plot(kind='scatter', x='BsmtFinSF2', y='SalePrice', logx=True, logy=True) #,, 'SalePrice']].plot(kind='scatter', x='BsmtFinSF1', y='SalePrice', logx=True, logy=True) #,"
   ]
  },
  {
   "cell_type": "code",
   "execution_count": 285,
   "id": "97bc1fc1",
   "metadata": {},
   "outputs": [
    {
     "name": "stderr",
     "output_type": "stream",
     "text": [
      "*c* argument looks like a single numeric RGB or RGBA sequence, which should be avoided as value-mapping will have precedence in case its length matches with *x* & *y*.  Please use the *color* keyword-argument or provide a 2D array with a single row if you intend to specify the same RGB or RGBA value for all points.\n"
     ]
    },
    {
     "data": {
      "text/plain": [
       "<AxesSubplot:xlabel='BsmtUnfSF', ylabel='SalePrice'>"
      ]
     },
     "execution_count": 285,
     "metadata": {},
     "output_type": "execute_result"
    },
    {
     "data": {
      "image/png": "[encoded data removed]",
      "text/plain": [
       "<Figure size 432x288 with 1 Axes>"
      ]
     },
     "metadata": {
      "needs_background": "light"
     },
     "output_type": "display_data"
    }
   ],
   "source": [
    "# BsmtUnfSF  \n",
    "housing[['BsmtUnfSF', 'SalePrice']].plot(kind='scatter', x='BsmtUnfSF', y='SalePrice', logx=True, logy=True) #,, 'SalePrice']].plot(kind='scatter', x='BsmtFinSF1', y='SalePrice', logx=True, logy=True) #,"
   ]
  },
  {
   "cell_type": "code",
   "execution_count": 221,
   "id": "2bc99f67",
   "metadata": {},
   "outputs": [
    {
     "data": {
      "text/plain": [
       "0.18871901469879349"
      ]
     },
     "execution_count": 221,
     "metadata": {},
     "output_type": "execute_result"
    }
   ],
   "source": [
    "log_price.corr(np.log(housing['BsmtUnfSF']+1))"
   ]
  },
  {
   "cell_type": "code",
   "execution_count": 222,
   "id": "927e7aeb",
   "metadata": {},
   "outputs": [
    {
     "data": {
      "text/plain": [
       "0.18871901469879349"
      ]
     },
     "execution_count": 222,
     "metadata": {},
     "output_type": "execute_result"
    }
   ],
   "source": [
    "log_price.corr(np.log(housing['BsmtUnfSF']+1))"
   ]
  },
  {
   "cell_type": "code",
   "execution_count": 223,
   "id": "269bb808",
   "metadata": {},
   "outputs": [
    {
     "data": {
      "text/plain": [
       "-0.01534682200976212"
      ]
     },
     "execution_count": 223,
     "metadata": {},
     "output_type": "execute_result"
    }
   ],
   "source": [
    "yeo_BsmtUnfSF,_ = pd.Series(stats.yeojohnson(housing['BsmtUnfSF']))\n",
    "# log_price.corr(yeo_BsmtUnfSF)\n",
    "yeo_BsmtUnfSF = pd.Series(yeo_BsmtUnfSF)\n",
    "type(yeo_BsmtUnfSF)\n",
    "log_price.corr(yeo_BsmtUnfSF)"
   ]
  },
  {
   "cell_type": "code",
   "execution_count": 224,
   "id": "c8d26544",
   "metadata": {},
   "outputs": [
    {
     "name": "stderr",
     "output_type": "stream",
     "text": [
      "*c* argument looks like a single numeric RGB or RGBA sequence, which should be avoided as value-mapping will have precedence in case its length matches with *x* & *y*.  Please use the *color* keyword-argument or provide a 2D array with a single row if you intend to specify the same RGB or RGBA value for all points.\n"
     ]
    },
    {
     "data": {
      "text/plain": [
       "<AxesSubplot:xlabel='EnclosedPorch', ylabel='SalePrice'>"
      ]
     },
     "execution_count": 224,
     "metadata": {},
     "output_type": "execute_result"
    },
    {
     "data": {
      "image/png": "[encoded data removed]",
      "text/plain": [
       "<Figure size 432x288 with 1 Axes>"
      ]
     },
     "metadata": {},
     "output_type": "display_data"
    }
   ],
   "source": [
    "# EnclosedPorch \n",
    "\n",
    "housing[['EnclosedPorch', 'SalePrice']].plot(kind='scatter', x='EnclosedPorch', y='SalePrice', logx=True, logy=True) #logx=True,    ,, 'SalePrice']].plot(kind='scatter', x='BsmtFinSF1', y='SalePrice', logx=True, logy=True) #,"
   ]
  },
  {
   "cell_type": "code",
   "execution_count": 225,
   "id": "7f097a0c",
   "metadata": {},
   "outputs": [
    {
     "data": {
      "text/plain": [
       "-0.20273959134649117"
      ]
     },
     "execution_count": 225,
     "metadata": {},
     "output_type": "execute_result"
    }
   ],
   "source": [
    "log_price.corr(np.log(housing['EnclosedPorch']+1))"
   ]
  },
  {
   "cell_type": "code",
   "execution_count": 226,
   "id": "9aa14e93",
   "metadata": {},
   "outputs": [
    {
     "data": {
      "text/plain": [
       "0.0324239457537654"
      ]
     },
     "execution_count": 226,
     "metadata": {},
     "output_type": "execute_result"
    }
   ],
   "source": [
    "yeo_EnclosedPorch,_ = pd.Series(stats.yeojohnson(housing['EnclosedPorch']))\n",
    "yeo_EnclosedPorch =pd.Series(yeo_EnclosedPorch)\n",
    "log_price.corr(yeo_EnclosedPorch)"
   ]
  },
  {
   "cell_type": "code",
   "execution_count": 295,
   "id": "12779a9d",
   "metadata": {},
   "outputs": [
    {
     "name": "stderr",
     "output_type": "stream",
     "text": [
      "*c* argument looks like a single numeric RGB or RGBA sequence, which should be avoided as value-mapping will have precedence in case its length matches with *x* & *y*.  Please use the *color* keyword-argument or provide a 2D array with a single row if you intend to specify the same RGB or RGBA value for all points.\n"
     ]
    },
    {
     "data": {
      "text/plain": [
       "<AxesSubplot:xlabel='BsmtFullBath', ylabel='SalePrice'>"
      ]
     },
     "execution_count": 295,
     "metadata": {},
     "output_type": "execute_result"
    },
    {
     "data": {
      "image/png": "[encoded data removed]",
      "text/plain": [
       "<Figure size 432x288 with 1 Axes>"
      ]
     },
     "metadata": {
      "needs_background": "light"
     },
     "output_type": "display_data"
    }
   ],
   "source": [
    "# BsmtFullBath \n",
    "housing[['BsmtFullBath', 'SalePrice']].plot(kind='scatter', x='BsmtFullBath', y='SalePrice',  logy=True) #logx=True,    ,, 'SalePrice']].plot(kind='scatter', x='BsmtFinSF1', y='SalePrice', logx=True, logy=True) #,"
   ]
  },
  {
   "cell_type": "code",
   "execution_count": 296,
   "id": "e426aacc",
   "metadata": {
    "scrolled": true
   },
   "outputs": [
    {
     "name": "stderr",
     "output_type": "stream",
     "text": [
      "*c* argument looks like a single numeric RGB or RGBA sequence, which should be avoided as value-mapping will have precedence in case its length matches with *x* & *y*.  Please use the *color* keyword-argument or provide a 2D array with a single row if you intend to specify the same RGB or RGBA value for all points.\n"
     ]
    },
    {
     "data": {
      "text/plain": [
       "<AxesSubplot:xlabel='BsmtHalfBath', ylabel='SalePrice'>"
      ]
     },
     "execution_count": 296,
     "metadata": {},
     "output_type": "execute_result"
    },
    {
     "data": {
      "image/png": "[encoded data removed]",
      "text/plain": [
       "<Figure size 432x288 with 1 Axes>"
      ]
     },
     "metadata": {
      "needs_background": "light"
     },
     "output_type": "display_data"
    }
   ],
   "source": [
    "# BsmtHalfBath \n",
    "housing[['BsmtHalfBath', 'SalePrice']].plot(kind='scatter', x='BsmtHalfBath', y='SalePrice',  logy=True) #logx=True,    ,, 'SalePrice']].plot(kind='scatter', x='BsmtFinSF1', y='SalePrice', logx=True, logy=True) #,"
   ]
  },
  {
   "cell_type": "code",
   "execution_count": 297,
   "id": "d0b54aef",
   "metadata": {},
   "outputs": [
    {
     "name": "stderr",
     "output_type": "stream",
     "text": [
      "*c* argument looks like a single numeric RGB or RGBA sequence, which should be avoided as value-mapping will have precedence in case its length matches with *x* & *y*.  Please use the *color* keyword-argument or provide a 2D array with a single row if you intend to specify the same RGB or RGBA value for all points.\n"
     ]
    },
    {
     "data": {
      "text/plain": [
       "<AxesSubplot:xlabel='FullBath', ylabel='SalePrice'>"
      ]
     },
     "execution_count": 297,
     "metadata": {},
     "output_type": "execute_result"
    },
    {
     "data": {
      "image/png": "[encoded data removed]",
      "text/plain": [
       "<Figure size 432x288 with 1 Axes>"
      ]
     },
     "metadata": {
      "needs_background": "light"
     },
     "output_type": "display_data"
    }
   ],
   "source": [
    "# FullBath\n",
    "\n",
    "housing[['FullBath', 'SalePrice']].plot(kind='scatter', x='FullBath', y='SalePrice',  logy=True) #logx=True,    ,, 'SalePrice']].plot(kind='scatter', x='BsmtFinSF1', y='SalePrice', logx=True, logy=True) #,"
   ]
  },
  {
   "cell_type": "code",
   "execution_count": 298,
   "id": "67136bee",
   "metadata": {},
   "outputs": [],
   "source": [
    "def scatter_it(var):\n",
    "    return housing[[var, 'SalePrice']].plot(kind='scatter', x=var, y='SalePrice',  logy=True)\n",
    "   "
   ]
  },
  {
   "cell_type": "code",
   "execution_count": 299,
   "id": "67c0b382",
   "metadata": {},
   "outputs": [
    {
     "name": "stderr",
     "output_type": "stream",
     "text": [
      "*c* argument looks like a single numeric RGB or RGBA sequence, which should be avoided as value-mapping will have precedence in case its length matches with *x* & *y*.  Please use the *color* keyword-argument or provide a 2D array with a single row if you intend to specify the same RGB or RGBA value for all points.\n"
     ]
    },
    {
     "data": {
      "text/plain": [
       "<AxesSubplot:xlabel='HalfBath', ylabel='SalePrice'>"
      ]
     },
     "execution_count": 299,
     "metadata": {},
     "output_type": "execute_result"
    },
    {
     "data": {
      "image/png": "[encoded data removed]",
      "text/plain": [
       "<Figure size 432x288 with 1 Axes>"
      ]
     },
     "metadata": {
      "needs_background": "light"
     },
     "output_type": "display_data"
    }
   ],
   "source": [
    "# HalfBath \n",
    "\n",
    "scatter_it('HalfBath')"
   ]
  },
  {
   "cell_type": "markdown",
   "id": "d8858dda",
   "metadata": {},
   "source": [
    "# Based on Analysis Transformations to be used for modeling"
   ]
  },
  {
   "cell_type": "code",
   "execution_count": null,
   "id": "77d3c3fc",
   "metadata": {},
   "outputs": [],
   "source": [
    "housing['bc_GrLivArea'],_ = stats.boxcox(housing.GrLivArea)\n",
    "housing['log_LotArea'] = np.log(housing['LotArea'])\n",
    "housing['log_MasVnrArea'] = np.log(housing['MasVnrArea'] + 1)\n",
    "housing['yeo_TotalBsmtSF'],_ = stats.yeojohnson(housing['TotalBsmtSF'])\n",
    "\n",
    "housing['log_first_FlrSF'] = np.log(housing['1stFlrSF'])\n",
    "\n",
    "housing['yeo_GarageArea'],_  = stats.yeojohnson(housing['GarageArea'] )\n",
    "housing['log_WoodDeckSF'] = np.log(housing['WoodDeckSF'] + 1)\n",
    "\n",
    "housing['log_OpenPorchSF'] = np.log(housing['OpenPorchSF'] + 1)\n",
    "\n",
    "housing['has_pool'] = housing['PoolArea'] != 0\n",
    "\n",
    "housing['log_BsmtFinSF1'] = np.log(housing['BsmtFinSF1']+1)\n"
   ]
  },
  {
   "cell_type": "code",
   "execution_count": 229,
   "id": "9cf69325",
   "metadata": {},
   "outputs": [],
   "source": [
    "#write out train data with transformations\n",
    "\n",
    "housing.to_csv(r'C:\\Users\\dgarb\\OneDrive\\Documents\\Data Science Bootcamp August\\Machine Learning Project\\data\\train_transformed.csv')"
   ]
  },
  {
   "cell_type": "code",
   "execution_count": null,
   "id": "e63a320a",
   "metadata": {},
   "outputs": [],
   "source": [
    "# code transformations for test data"
   ]
  },
  {
   "cell_type": "code",
   "execution_count": 230,
   "id": "46517c3f",
   "metadata": {},
   "outputs": [],
   "source": [
    "x_test['bc_GrLivArea'],_ = stats.boxcox(x_test.GrLivArea)\n",
    "x_test['log_LotArea'] = np.log(x_test['LotArea'])\n",
    "x_test['log_MasVnrArea'] = np.log(x_test['MasVnrArea'] + 1)\n",
    "x_test['yeo_TotalBsmtSF'],_ = stats.yeojohnson(x_test['TotalBsmtSF'])\n",
    "\n",
    "x_test['log_first_FlrSF'] = np.log(x_test['1stFlrSF'])\n",
    "\n",
    "x_test['yeo_GarageArea'],_  = stats.yeojohnson(x_test['GarageArea'] )\n",
    "x_test['log_WoodDeckSF'] = np.log(x_test['WoodDeckSF'] + 1)\n",
    "\n",
    "x_test['log_OpenPorchSF'] = np.log(x_test['OpenPorchSF'] + 1)\n",
    "\n",
    "x_test['has_pool'] = x_test['PoolArea'] != 0\n",
    "\n",
    "x_test['log_BsmtFinSF1'] = np.log(x_test['BsmtFinSF1']+1)\n"
   ]
  },
  {
   "cell_type": "code",
   "execution_count": 231,
   "id": "60d5cba2",
   "metadata": {},
   "outputs": [],
   "source": [
    "#write out test data with transformatio;ns\n",
    "\n",
    "x_test.to_csv(r'C:\\Users\\dgarb\\OneDrive\\Documents\\Data Science Bootcamp August\\Machine Learning Project\\data\\test_transformed.csv')"
   ]
  },
  {
   "cell_type": "code",
   "execution_count": null,
   "id": "8d3515bd",
   "metadata": {},
   "outputs": [],
   "source": [
    "# IGNORE OLD\n",
    "\n",
    "# housing['log_GrLivArea'] = np.log(housing.GrLivArea)\n",
    "\n",
    "# housing['log_LotArea'] = np.log(housing['LotArea'])\n",
    "\n",
    "# from scipy import stats\n",
    "\n",
    "# housing['yeo_TotalBsmtSF'],_ = stats.yeojohnson(housing['TotalBsmtSF'])\n",
    "\n",
    "# housing['log_first_FlrSF'] = np.log(housing['1stFlrSF'])\n",
    "\n",
    "# housing['yeo_GarageArea'],_  = stats.yeojohnson(housing['GarageArea'] )\n",
    "\n",
    "# housing['log_WoodDeckSF'] = np.log(housing['WoodDeckSF'] + 1)\n",
    "\n",
    "# housing['log_OpenPorchSF'] = np.log(housing['OpenPorchSF'] + 1)\n",
    "\n",
    "# housing['has_pool'] = housing['PoolArea'] != 0\n",
    "\n",
    "\n",
    "# housing['log_BsmtFinSF1'] = np.log(housing['BsmtFinSF1']+1)\n",
    "\n",
    "# housing['log_MasVnrArea'] = np.log(size_related['MasVnrArea'] + 1)"
   ]
  }
 ],
 "metadata": {
  "kernelspec": {
   "display_name": "Python 3 (ipykernel)",
   "language": "python",
   "name": "python3"
  },
  "language_info": {
   "codemirror_mode": {
    "name": "ipython",
    "version": 3
   },
   "file_extension": ".py",
   "mimetype": "text/x-python",
   "name": "python",
   "nbconvert_exporter": "python",
   "pygments_lexer": "ipython3",
   "version": "3.9.7"
  }
 },
 "nbformat": 4,
 "nbformat_minor": 5
}
