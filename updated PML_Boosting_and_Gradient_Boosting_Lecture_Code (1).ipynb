{
 "cells": [
  {
   "cell_type": "markdown",
   "metadata": {},
   "source": [
    "## Boosting and Gradient Boosting\n",
    "- **scikit-learn** implements gradient boosting algorithm for both regression and classification.\n",
    "They are \n",
    "- GradientBoostingRegressor\n",
    "- GradientBoostingClassifier\n",
    "\n",
    ", both in the ensemble sub-package"
   ]
  },
  {
   "cell_type": "code",
   "execution_count": 1,
   "metadata": {},
   "outputs": [],
   "source": [
    "import numpy as np\n",
    "import pandas as pd\n",
    "import sklearn.ensemble\n",
    "%matplotlib inline\n",
    "import matplotlib.pyplot as plt\n",
    "plt.style.use('ggplot')"
   ]
  },
  {
   "cell_type": "code",
   "execution_count": 2,
   "metadata": {},
   "outputs": [],
   "source": [
    "from sklearn.ensemble import GradientBoostingClassifier, GradientBoostingRegressor"
   ]
  },
  {
   "cell_type": "markdown",
   "metadata": {},
   "source": [
    "# In the following, we discuss GradientBoostingRegressor first\n",
    "- We use the **Boston** housing data set to train our gradient boosting model\n",
    "- We have discussed **Boston** dataset in the multiple linear regression lecture code"
   ]
  },
  {
   "cell_type": "code",
   "execution_count": 3,
   "metadata": {},
   "outputs": [],
   "source": [
    "from sklearn import datasets\n",
    "boston = datasets.load_boston()\n",
    "\n",
    "X = pd.DataFrame(boston.data, columns=boston.feature_names)\n",
    "Y = pd.Series(boston.target, name='price')"
   ]
  },
  {
   "cell_type": "code",
   "execution_count": 4,
   "metadata": {},
   "outputs": [
    {
     "data": {
      "text/html": [
       "<div>\n",
       "<style scoped>\n",
       "    .dataframe tbody tr th:only-of-type {\n",
       "        vertical-align: middle;\n",
       "    }\n",
       "\n",
       "    .dataframe tbody tr th {\n",
       "        vertical-align: top;\n",
       "    }\n",
       "\n",
       "    .dataframe thead th {\n",
       "        text-align: right;\n",
       "    }\n",
       "</style>\n",
       "<table border=\"1\" class=\"dataframe\">\n",
       "  <thead>\n",
       "    <tr style=\"text-align: right;\">\n",
       "      <th></th>\n",
       "      <th>CRIM</th>\n",
       "      <th>ZN</th>\n",
       "      <th>INDUS</th>\n",
       "      <th>CHAS</th>\n",
       "      <th>NOX</th>\n",
       "      <th>RM</th>\n",
       "      <th>AGE</th>\n",
       "      <th>DIS</th>\n",
       "      <th>RAD</th>\n",
       "      <th>TAX</th>\n",
       "      <th>PTRATIO</th>\n",
       "      <th>B</th>\n",
       "      <th>LSTAT</th>\n",
       "    </tr>\n",
       "  </thead>\n",
       "  <tbody>\n",
       "    <tr>\n",
       "      <th>0</th>\n",
       "      <td>0.00632</td>\n",
       "      <td>18.0</td>\n",
       "      <td>2.31</td>\n",
       "      <td>0.0</td>\n",
       "      <td>0.538</td>\n",
       "      <td>6.575</td>\n",
       "      <td>65.2</td>\n",
       "      <td>4.0900</td>\n",
       "      <td>1.0</td>\n",
       "      <td>296.0</td>\n",
       "      <td>15.3</td>\n",
       "      <td>396.90</td>\n",
       "      <td>4.98</td>\n",
       "    </tr>\n",
       "    <tr>\n",
       "      <th>1</th>\n",
       "      <td>0.02731</td>\n",
       "      <td>0.0</td>\n",
       "      <td>7.07</td>\n",
       "      <td>0.0</td>\n",
       "      <td>0.469</td>\n",
       "      <td>6.421</td>\n",
       "      <td>78.9</td>\n",
       "      <td>4.9671</td>\n",
       "      <td>2.0</td>\n",
       "      <td>242.0</td>\n",
       "      <td>17.8</td>\n",
       "      <td>396.90</td>\n",
       "      <td>9.14</td>\n",
       "    </tr>\n",
       "    <tr>\n",
       "      <th>2</th>\n",
       "      <td>0.02729</td>\n",
       "      <td>0.0</td>\n",
       "      <td>7.07</td>\n",
       "      <td>0.0</td>\n",
       "      <td>0.469</td>\n",
       "      <td>7.185</td>\n",
       "      <td>61.1</td>\n",
       "      <td>4.9671</td>\n",
       "      <td>2.0</td>\n",
       "      <td>242.0</td>\n",
       "      <td>17.8</td>\n",
       "      <td>392.83</td>\n",
       "      <td>4.03</td>\n",
       "    </tr>\n",
       "    <tr>\n",
       "      <th>3</th>\n",
       "      <td>0.03237</td>\n",
       "      <td>0.0</td>\n",
       "      <td>2.18</td>\n",
       "      <td>0.0</td>\n",
       "      <td>0.458</td>\n",
       "      <td>6.998</td>\n",
       "      <td>45.8</td>\n",
       "      <td>6.0622</td>\n",
       "      <td>3.0</td>\n",
       "      <td>222.0</td>\n",
       "      <td>18.7</td>\n",
       "      <td>394.63</td>\n",
       "      <td>2.94</td>\n",
       "    </tr>\n",
       "    <tr>\n",
       "      <th>4</th>\n",
       "      <td>0.06905</td>\n",
       "      <td>0.0</td>\n",
       "      <td>2.18</td>\n",
       "      <td>0.0</td>\n",
       "      <td>0.458</td>\n",
       "      <td>7.147</td>\n",
       "      <td>54.2</td>\n",
       "      <td>6.0622</td>\n",
       "      <td>3.0</td>\n",
       "      <td>222.0</td>\n",
       "      <td>18.7</td>\n",
       "      <td>396.90</td>\n",
       "      <td>5.33</td>\n",
       "    </tr>\n",
       "  </tbody>\n",
       "</table>\n",
       "</div>"
      ],
      "text/plain": [
       "      CRIM    ZN  INDUS  CHAS    NOX     RM   AGE     DIS  RAD    TAX  \\\n",
       "0  0.00632  18.0   2.31   0.0  0.538  6.575  65.2  4.0900  1.0  296.0   \n",
       "1  0.02731   0.0   7.07   0.0  0.469  6.421  78.9  4.9671  2.0  242.0   \n",
       "2  0.02729   0.0   7.07   0.0  0.469  7.185  61.1  4.9671  2.0  242.0   \n",
       "3  0.03237   0.0   2.18   0.0  0.458  6.998  45.8  6.0622  3.0  222.0   \n",
       "4  0.06905   0.0   2.18   0.0  0.458  7.147  54.2  6.0622  3.0  222.0   \n",
       "\n",
       "   PTRATIO       B  LSTAT  \n",
       "0     15.3  396.90   4.98  \n",
       "1     17.8  396.90   9.14  \n",
       "2     17.8  392.83   4.03  \n",
       "3     18.7  394.63   2.94  \n",
       "4     18.7  396.90   5.33  "
      ]
     },
     "execution_count": 4,
     "metadata": {},
     "output_type": "execute_result"
    }
   ],
   "source": [
    "X.head()"
   ]
  },
  {
   "cell_type": "code",
   "execution_count": 4,
   "metadata": {},
   "outputs": [
    {
     "data": {
      "text/plain": [
       "0    24.0\n",
       "1    21.6\n",
       "2    34.7\n",
       "3    33.4\n",
       "4    36.2\n",
       "Name: price, dtype: float64"
      ]
     },
     "execution_count": 4,
     "metadata": {},
     "output_type": "execute_result"
    }
   ],
   "source": [
    "Y.head()"
   ]
  },
  {
   "cell_type": "code",
   "execution_count": 5,
   "metadata": {},
   "outputs": [],
   "source": [
    "gbm = GradientBoostingRegressor()"
   ]
  },
  {
   "cell_type": "markdown",
   "metadata": {},
   "source": [
    "## The Hyperparameters of Gradient Boosting Model\n",
    "A boosting tree is an ensemble of trees, thus it inherits all the hyperparameters of decision trees\n",
    "\n",
    "- max_depth: max tree height, default value 3\n",
    "- max_leaf_nodes\n",
    "- min_samples_leaf\n",
    "- min_samples_split\n",
    "- min_impurity_decrease\n",
    "- min_impurity_split\n",
    "- criterion: the criterion for tree splitting, defaulted to **friedman_mse**.    **friedman_mse** is the same as \n",
    "    **mse** (mean square error) when the loss function is chosen to be **ls** (least square)\n",
    "\n",
    "As with all tree based model, boosting trees output \n",
    "- feature\\_importances\\_\n",
    "\n",
    "On the other hand, there are **ensemble**-specific hyperparameters\n",
    "- n_estimators: the number of trees, default value 100\n",
    "- learning_rate: the shrinkage/discount factor, default value 0.1\n",
    "- subsamples: the sample count in term of percentage used for a single tree training\n",
    "- max_features: the integer or percentage count of the number of random feature selected for one tree node\n",
    "    \n",
    "Besides the regular **predict** method, the boosting tree has its own\n",
    "- staged_predict: this method returns a generator. After kth next function call on the generator, \n",
    "    it spits out the predicted values after k-th boosting iteration\n",
    "- estimators_: it stores all the n_estimators trees used in building the boosting tree ensemble    \n",
    "                                                                                                            "
   ]
  },
  {
   "cell_type": "code",
   "execution_count": null,
   "metadata": {},
   "outputs": [],
   "source": [
    "#dpg stopping rules\n",
    "\n",
    "#the ensemble specific hpyerparamaters are the hyperparamaters unique to gradient boosting ??\n",
    "\n",
    "#max leaf nodes tells if size of node is not smaller than this number you keep splitting\n",
    "\n",
    "\n",
    "\n",
    "# max_depth: max tree height, default value 3 #dpg how big want tree to be\n",
    "    \n",
    "# min_impurity_decrease #dpg must decreases for a certain amount for tree to split\n",
    "\n",
    "# min_impurity_split #dpg make sure not too big #\n",
    "\n",
    "\n",
    "# criterion  #dpg although for regression it's MSE \n",
    "#            #dpg for classification it is something other than gini or deviance\n",
    "#if do classification go with friedman MSE which is the impurity "
   ]
  },
  {
   "cell_type": "code",
   "execution_count": null,
   "metadata": {},
   "outputs": [],
   "source": [
    "#from Luke\n",
    "\n",
    "#  min_impurity_decrease ->>  impurity has to be reduced by a certain amount otherwise learning process stopped ; \n",
    "#  If you set this to be too big, your learning process will stop; be careful\n",
    "\n",
    "#  min_impurity_split ->> make sure that this is not too big so that splitting will happen\n",
    "\n",
    "# feature importance pretty much how much reduces error same basic idea\n",
    "\n",
    "# can do cross validation to determine number of trees, learning rate, subsamples \n",
    "\n",
    "# subsample can specify percentage that you would like to use like in bagging\n",
    "\n",
    "# max features how many random features like in random forest"
   ]
  },
  {
   "cell_type": "code",
   "execution_count": 6,
   "metadata": {},
   "outputs": [
    {
     "data": {
      "text/plain": [
       "GradientBoostingRegressor()"
      ]
     },
     "execution_count": 6,
     "metadata": {},
     "output_type": "execute_result"
    }
   ],
   "source": [
    "gbm.fit(X,Y)"
   ]
  },
  {
   "cell_type": "code",
   "execution_count": 8,
   "metadata": {},
   "outputs": [
    {
     "data": {
      "text/plain": [
       "0.9761405838418584"
      ]
     },
     "execution_count": 8,
     "metadata": {},
     "output_type": "execute_result"
    }
   ],
   "source": [
    "# R^2 of the fit\n",
    "gbm.score(X,Y)"
   ]
  },
  {
   "cell_type": "markdown",
   "metadata": {},
   "source": [
    "- To visualize the iterative process, we can turn on the verbose parameter"
   ]
  },
  {
   "cell_type": "code",
   "execution_count": 7,
   "metadata": {},
   "outputs": [
    {
     "data": {
      "text/plain": [
       "GradientBoostingRegressor(verbose=1)"
      ]
     },
     "execution_count": 7,
     "metadata": {},
     "output_type": "execute_result"
    }
   ],
   "source": [
    "gbm.set_params(verbose=1)"
   ]
  },
  {
   "cell_type": "code",
   "execution_count": 8,
   "metadata": {},
   "outputs": [
    {
     "name": "stdout",
     "output_type": "stream",
     "text": [
      "      Iter       Train Loss   Remaining Time \n",
      "         1          71.3024            0.15s\n",
      "         2          60.6243            0.18s\n",
      "         3          51.6694            0.19s\n",
      "         4          44.3657            0.17s\n",
      "         5          38.2831            0.17s\n",
      "         6          33.2863            0.15s\n",
      "         7          28.9190            0.14s\n",
      "         8          25.2967            0.13s\n",
      "         9          22.2587            0.14s\n",
      "        10          19.6923            0.13s\n",
      "        20           8.3119            0.06s\n",
      "        30           5.4763            0.07s\n",
      "        40           4.1906            0.07s\n",
      "        50           3.4663            0.05s\n",
      "        60           3.0437            0.04s\n",
      "        70           2.6753            0.03s\n",
      "        80           2.4451            0.02s\n",
      "        90           2.2376            0.01s\n",
      "       100           2.0142            0.00s\n"
     ]
    },
    {
     "data": {
      "text/plain": [
       "GradientBoostingRegressor(verbose=1)"
      ]
     },
     "execution_count": 8,
     "metadata": {},
     "output_type": "execute_result"
    }
   ],
   "source": [
    "gbm.fit(X,Y)"
   ]
  },
  {
   "cell_type": "markdown",
   "metadata": {},
   "source": [
    "## Tuning"
   ]
  },
  {
   "cell_type": "code",
   "execution_count": 9,
   "metadata": {},
   "outputs": [],
   "source": [
    "from sklearn.model_selection import train_test_split\n",
    "from sklearn.metrics import mean_squared_error\n",
    "\n",
    "X_train_reg, X_test_reg, Y_train_reg, Y_test_reg = train_test_split(X,Y, test_size=0.3, random_state=0)"
   ]
  },
  {
   "cell_type": "code",
   "execution_count": 11,
   "metadata": {},
   "outputs": [],
   "source": [
    "def tune_gbm(learning_rate, max_depth):  #luke learnign rate(lambda) to control how aggressive learning is and control depth\n",
    "    gbm = GradientBoostingRegressor(\n",
    "        learning_rate=learning_rate, n_estimators=10000, max_depth=max_depth)\n",
    "    gbm.fit(X_train_reg,Y_train_reg)\n",
    "    \n",
    "    return gbm\n",
    "\n",
    "\n",
    "def demo_gbm_tuning(model, start=0, end=10000, training_curve=True):\n",
    "    gen_train = model.staged_predict(X_train_reg)\n",
    "    gen_test  = model.staged_predict(X_test_reg)  #dpg why is this a generator??\n",
    "\n",
    "    trainMSE = []\n",
    "    testMSE  = []\n",
    "    steps   = range(1,10001)\n",
    "    for n in steps:  #luke want to get learning curve\n",
    "        y_pred_train = next(gen_train)\n",
    "        y_pred_test  = next(gen_test)\n",
    "        trainMSE.append(mean_squared_error(y_pred_train, Y_train_reg))\n",
    "        testMSE.append(mean_squared_error(y_pred_test, Y_test_reg))\n",
    "    \n",
    "    print(\"The best test score is {:.2f} at the step {}\".format(\n",
    "        min(testMSE), np.argmin(testMSE)+1))  #testMSE is a list that you get the minimum value of\n",
    "    print('-'*50)                             #np.argmin is giving you the index of smallest mse\n",
    "    plt.plot(range(start, end), testMSE[start:end])\n",
    "    if training_curve:\n",
    "        plt.plot(range(start, end), trainMSE[start:end])"
   ]
  },
  {
   "cell_type": "code",
   "execution_count": 12,
   "metadata": {},
   "outputs": [],
   "source": [
    "learning_rate=0.001\n",
    "max_depth=4  #dpg default is 3\n",
    "\n",
    "model1 = tune_gbm(learning_rate, max_depth)"
   ]
  },
  {
   "cell_type": "code",
   "execution_count": 14,
   "metadata": {},
   "outputs": [
    {
     "name": "stdout",
     "output_type": "stream",
     "text": [
      "The best test score is 14.12 at the step 10000\n",
      "--------------------------------------------------\n"
     ]
    },
    {
     "data": {
      "image/png": "[encoded data removed]",
      "text/plain": [
       "<Figure size 432x288 with 1 Axes>"
      ]
     },
     "metadata": {},
     "output_type": "display_data"
    }
   ],
   "source": [
    "start = 0\n",
    "end = 10000 # You may change start and end to zoom in\n",
    "\n",
    "demo_gbm_tuning(model1, start, end)"
   ]
  },
  {
   "cell_type": "code",
   "execution_count": null,
   "metadata": {},
   "outputs": [],
   "source": [
    "#from Luke about above graph\n",
    "\n",
    "#learning curve is the blue one \n",
    "#haven't hit the sweet spot we are underfitting use bigger learning rate \n",
    "\n",
    "#dpg -  how do you know that you are overfitting or underfitting?\n",
    "\n",
    "\n",
    "\n",
    "\n",
    "#as an aside #if overfitting to reduce learning rate reduce max depth"
   ]
  },
  {
   "cell_type": "code",
   "execution_count": 15,
   "metadata": {},
   "outputs": [],
   "source": [
    "learning_rate=0.05\n",
    "max_depth=4\n",
    "\n",
    "model2 = tune_gbm(learning_rate, max_depth)"
   ]
  },
  {
   "cell_type": "code",
   "execution_count": 16,
   "metadata": {},
   "outputs": [
    {
     "name": "stdout",
     "output_type": "stream",
     "text": [
      "The best test score is 13.38 at the step 873\n",
      "--------------------------------------------------\n"
     ]
    },
    {
     "data": {
      "image/png": "[encoded data removed]",
      "text/plain": [
       "<Figure size 432x288 with 1 Axes>"
      ]
     },
     "metadata": {},
     "output_type": "display_data"
    }
   ],
   "source": [
    "start = 0\n",
    "end = 10000\n",
    "# You may change start and end to zoom in\n",
    "\n",
    "demo_gbm_tuning(model2, start, end)"
   ]
  },
  {
   "cell_type": "code",
   "execution_count": null,
   "metadata": {},
   "outputs": [],
   "source": [
    "#from Luke about above graph\n",
    "\n",
    "#learning rate is higher at 0.05, \n",
    "\n",
    "# less steps and test score is lower - that means that we hit the sweet spot"
   ]
  },
  {
   "cell_type": "code",
   "execution_count": 13,
   "metadata": {},
   "outputs": [
    {
     "name": "stdout",
     "output_type": "stream",
     "text": [
      "The best test score is 12.96 at the step 559\n",
      "--------------------------------------------------\n"
     ]
    },
    {
     "data": {
      "image/png": "[encoded data removed]",
      "text/plain": [
       "<Figure size 432x288 with 1 Axes>"
      ]
     },
     "metadata": {},
     "output_type": "display_data"
    }
   ],
   "source": [
    "learning_rate=0.062\n",
    "max_depth=4\n",
    "\n",
    "model3 = tune_gbm(learning_rate, max_depth)\n",
    "\n",
    "start = 0\n",
    "end = 10000\n",
    "# You may change start and end to zoom in\n",
    "\n",
    "demo_gbm_tuning(model3, start, end)"
   ]
  },
  {
   "cell_type": "code",
   "execution_count": 15,
   "metadata": {},
   "outputs": [
    {
     "name": "stdout",
     "output_type": "stream",
     "text": [
      "The best test score is 12.96 at the step 559\n",
      "--------------------------------------------------\n"
     ]
    },
    {
     "data": {
      "image/png": "[encoded data removed]",
      "text/plain": [
       "<Figure size 432x288 with 1 Axes>"
      ]
     },
     "metadata": {},
     "output_type": "display_data"
    }
   ],
   "source": [
    "demo_gbm_tuning(model3, 50, 2000, training_curve=False)"
   ]
  },
  {
   "cell_type": "markdown",
   "metadata": {},
   "source": [
    "- We can investigate the feature importance of gbm with 10,000 trees."
   ]
  },
  {
   "cell_type": "code",
   "execution_count": 16,
   "metadata": {},
   "outputs": [
    {
     "data": {
      "text/plain": [
       "[('RM', 0.41091106864140403),\n",
       " ('LSTAT', 0.37273669393240677),\n",
       " ('DIS', 0.08267492567880567),\n",
       " ('NOX', 0.036393400471139335),\n",
       " ('PTRATIO', 0.03469488936746957),\n",
       " ('CRIM', 0.026870068664422684),\n",
       " ('TAX', 0.011800232240179885),\n",
       " ('B', 0.01042491443306994),\n",
       " ('AGE', 0.008926920992508523),\n",
       " ('INDUS', 0.002057522111308502),\n",
       " ('RAD', 0.0013027694210627613),\n",
       " ('CHAS', 0.0008727466610932129),\n",
       " ('ZN', 0.0003338473851290125)]"
      ]
     },
     "execution_count": 16,
     "metadata": {},
     "output_type": "execute_result"
    }
   ],
   "source": [
    "sorted_importance = sorted(zip(boston.feature_names, gbm.feature_importances_), key=lambda t:t[1], reverse=True)\n",
    "sorted_importance"
   ]
  },
  {
   "cell_type": "code",
   "execution_count": 20,
   "metadata": {},
   "outputs": [
    {
     "data": {
      "text/plain": [
       "Text(0.5, 1.0, 'Feature Importance Plot of 500-Tree GBM')"
      ]
     },
     "execution_count": 20,
     "metadata": {},
     "output_type": "execute_result"
    },
    {
     "data": {
      "image/png": "[encoded data removed]",
      "text/plain": [
       "<Figure size 432x288 with 1 Axes>"
      ]
     },
     "metadata": {},
     "output_type": "display_data"
    }
   ],
   "source": [
    "a, b = zip(*sorted_importance) # this splits the list of tuples into two lists\n",
    "pd.DataFrame({'feature_name':a, 'importance_score':b}).plot.bar(x='feature_name',y='importance_score', legend=None)\n",
    "plt.title('Feature Importance Plot of 500-Tree GBM')"
   ]
  },
  {
   "cell_type": "markdown",
   "metadata": {},
   "source": [
    "## The Feature Importance Varying Against the Number of Trees\n",
    "- In the above analysis, we only investigate the feature importance scores for the final model\n",
    "- It would be interesting to investigate the variations of these feature importances against the growth of number of trees\n",
    "- We will need to store the intermidiate gbm models when we vary the n_estimators\n",
    "- To do so properly, we will need to use the package **copy** and its **deepcopy** function"
   ]
  },
  {
   "cell_type": "code",
   "execution_count": 21,
   "metadata": {},
   "outputs": [
    {
     "name": "stdout",
     "output_type": "stream",
     "text": [
      "      Iter       Train Loss   Remaining Time \n",
      "         1          71.0569            0.00s\n",
      "      Iter       Train Loss   Remaining Time \n",
      "         2          60.1108            0.05s\n",
      "         3          51.0972            0.05s\n",
      "         4          43.4785            0.05s\n",
      "         5          37.2485            0.05s\n",
      "         6          32.0757            0.05s\n",
      "         7          27.7741            0.05s\n",
      "         8          24.2563            0.05s\n",
      "         9          21.1532            0.05s\n",
      "        10          18.4675            0.05s\n",
      "        11          16.3522            0.04s\n",
      "        21           6.5138            0.04s\n",
      "        31           4.0656            0.02s\n",
      "        41           2.9189            0.01s\n",
      "        51           2.3874            0.00s\n",
      "      Iter       Train Loss   Remaining Time \n",
      "        52           2.3556            0.05s\n",
      "        53           2.3312            0.05s\n",
      "        54           2.2886            0.05s\n",
      "        55           2.2502            0.05s\n",
      "        56           2.2261            0.05s\n",
      "        57           2.1883            0.05s\n",
      "        58           2.1435            0.05s\n",
      "        59           2.1232            0.05s\n",
      "        60           2.0916            0.05s\n",
      "        61           2.0603            0.05s\n",
      "        71           1.7719            0.03s\n",
      "        81           1.5692            0.02s\n",
      "        91           1.4018            0.01s\n",
      "       101           1.2441            0.00s\n",
      "      Iter       Train Loss   Remaining Time \n",
      "       102           1.2346            0.05s\n",
      "       103           1.2177            0.05s\n",
      "       104           1.2096            0.05s\n",
      "       105           1.1875            0.05s\n",
      "       106           1.1840            0.05s\n",
      "       107           1.1769            0.05s\n",
      "       108           1.1589            0.04s\n",
      "       109           1.1515            0.04s\n",
      "       110           1.1348            0.04s\n",
      "       111           1.1277            0.04s\n",
      "       121           1.0300            0.03s\n",
      "       131           0.9364            0.02s\n",
      "       141           0.8552            0.01s\n",
      "       151           0.7950            0.00s\n",
      "      Iter       Train Loss   Remaining Time \n",
      "       152           0.7902            0.09s\n",
      "       153           0.7869            0.08s\n",
      "       154           0.7758            0.07s\n",
      "       155           0.7673            0.07s\n",
      "       156           0.7586            0.06s\n",
      "       157           0.7445            0.06s\n",
      "       158           0.7325            0.06s\n",
      "       159           0.7254            0.06s\n",
      "       160           0.7130            0.05s\n",
      "       161           0.7030            0.05s\n",
      "       171           0.6516            0.03s\n",
      "       181           0.5940            0.02s\n",
      "       191           0.5303            0.01s\n",
      "       201           0.4753            0.00s\n",
      "      Iter       Train Loss   Remaining Time \n",
      "       202           0.4687            0.05s\n",
      "       203           0.4632            0.05s\n",
      "       204           0.4609            0.06s\n",
      "       205           0.4558            0.06s\n",
      "       206           0.4484            0.06s\n",
      "       207           0.4446            0.07s\n",
      "       208           0.4397            0.06s\n",
      "       209           0.4311            0.06s\n",
      "       210           0.4265            0.06s\n",
      "       211           0.4220            0.06s\n",
      "       221           0.3885            0.04s\n",
      "       231           0.3512            0.02s\n",
      "       241           0.3196            0.01s\n",
      "       251           0.2878            0.00s\n",
      "      Iter       Train Loss   Remaining Time \n",
      "       252           0.2839            0.05s\n",
      "       253           0.2809            0.05s\n",
      "       254           0.2781            0.05s\n",
      "       255           0.2772            0.06s\n",
      "       256           0.2769            0.06s\n",
      "       257           0.2740            0.05s\n",
      "       258           0.2717            0.05s\n",
      "       259           0.2692            0.05s\n",
      "       260           0.2679            0.05s\n",
      "       261           0.2649            0.05s\n",
      "       271           0.2437            0.03s\n",
      "       281           0.2225            0.02s\n",
      "       291           0.2013            0.01s\n",
      "       301           0.1838            0.00s\n",
      "      Iter       Train Loss   Remaining Time \n",
      "       302           0.1814            0.05s\n",
      "       303           0.1797            0.05s\n",
      "       304           0.1786            0.05s\n",
      "       305           0.1783            0.05s\n",
      "       306           0.1760            0.05s\n",
      "       307           0.1749            0.05s\n",
      "       308           0.1746            0.05s\n",
      "       309           0.1732            0.04s\n",
      "       310           0.1724            0.05s\n",
      "       311           0.1708            0.05s\n",
      "       321           0.1549            0.04s\n",
      "       331           0.1422            0.03s\n",
      "       341           0.1310            0.01s\n",
      "       351           0.1195            0.00s\n",
      "      Iter       Train Loss   Remaining Time \n",
      "       352           0.1190            0.08s\n",
      "       353           0.1178            0.10s\n",
      "       354           0.1173            0.09s\n",
      "       355           0.1158            0.09s\n",
      "       356           0.1147            0.09s\n",
      "       357           0.1140            0.08s\n",
      "       358           0.1134            0.08s\n",
      "       359           0.1117            0.08s\n",
      "       360           0.1105            0.08s\n",
      "       361           0.1090            0.07s\n",
      "       371           0.0980            0.05s\n",
      "       381           0.0899            0.03s\n",
      "       391           0.0818            0.02s\n",
      "       401           0.0750            0.00s\n",
      "      Iter       Train Loss   Remaining Time \n",
      "       402           0.0747            0.06s\n",
      "       403           0.0744            0.06s\n",
      "       404           0.0743            0.07s\n",
      "       405           0.0739            0.07s\n",
      "       406           0.0738            0.06s\n",
      "       407           0.0731            0.06s\n",
      "       408           0.0725            0.06s\n",
      "       409           0.0721            0.06s\n",
      "       410           0.0715            0.06s\n",
      "       411           0.0708            0.05s\n",
      "       421           0.0655            0.04s\n",
      "       431           0.0600            0.03s\n",
      "       441           0.0548            0.01s\n",
      "       451           0.0492            0.00s\n"
     ]
    }
   ],
   "source": [
    "from copy import deepcopy\n",
    "\n",
    "gbm_models   = []\n",
    "warm_start   = False\n",
    "steps        = list(range(1,501,50))\n",
    "\n",
    "for n_estimators in steps:\n",
    "    gbm.set_params(n_estimators=n_estimators, learning_rate=0.1, warm_start=warm_start)\n",
    "    gbm_models.append(deepcopy(gbm.fit(X_train_reg, Y_train_reg))) \n",
    "    warm_start = True"
   ]
  },
  {
   "cell_type": "code",
   "execution_count": 22,
   "metadata": {},
   "outputs": [
    {
     "data": {
      "text/html": [
       "<div>\n",
       "<style scoped>\n",
       "    .dataframe tbody tr th:only-of-type {\n",
       "        vertical-align: middle;\n",
       "    }\n",
       "\n",
       "    .dataframe tbody tr th {\n",
       "        vertical-align: top;\n",
       "    }\n",
       "\n",
       "    .dataframe thead th {\n",
       "        text-align: right;\n",
       "    }\n",
       "</style>\n",
       "<table border=\"1\" class=\"dataframe\">\n",
       "  <thead>\n",
       "    <tr style=\"text-align: right;\">\n",
       "      <th></th>\n",
       "      <th>CRIM</th>\n",
       "      <th>ZN</th>\n",
       "      <th>INDUS</th>\n",
       "      <th>CHAS</th>\n",
       "      <th>NOX</th>\n",
       "      <th>RM</th>\n",
       "      <th>AGE</th>\n",
       "      <th>DIS</th>\n",
       "      <th>RAD</th>\n",
       "      <th>TAX</th>\n",
       "      <th>PTRATIO</th>\n",
       "      <th>B</th>\n",
       "      <th>LSTAT</th>\n",
       "    </tr>\n",
       "  </thead>\n",
       "  <tbody>\n",
       "    <tr>\n",
       "      <th>1</th>\n",
       "      <td>0.073302</td>\n",
       "      <td>0.000000</td>\n",
       "      <td>0.000000</td>\n",
       "      <td>0.000000</td>\n",
       "      <td>0.000000</td>\n",
       "      <td>0.666492</td>\n",
       "      <td>0.000000</td>\n",
       "      <td>0.057862</td>\n",
       "      <td>0.000000</td>\n",
       "      <td>0.000000</td>\n",
       "      <td>0.022394</td>\n",
       "      <td>0.000000</td>\n",
       "      <td>0.179949</td>\n",
       "    </tr>\n",
       "    <tr>\n",
       "      <th>51</th>\n",
       "      <td>0.042198</td>\n",
       "      <td>0.000000</td>\n",
       "      <td>0.004862</td>\n",
       "      <td>0.000524</td>\n",
       "      <td>0.011856</td>\n",
       "      <td>0.448684</td>\n",
       "      <td>0.003086</td>\n",
       "      <td>0.052409</td>\n",
       "      <td>0.002403</td>\n",
       "      <td>0.014441</td>\n",
       "      <td>0.051643</td>\n",
       "      <td>0.008371</td>\n",
       "      <td>0.359523</td>\n",
       "    </tr>\n",
       "    <tr>\n",
       "      <th>101</th>\n",
       "      <td>0.043022</td>\n",
       "      <td>0.000029</td>\n",
       "      <td>0.005473</td>\n",
       "      <td>0.000686</td>\n",
       "      <td>0.013092</td>\n",
       "      <td>0.444948</td>\n",
       "      <td>0.005055</td>\n",
       "      <td>0.053530</td>\n",
       "      <td>0.002629</td>\n",
       "      <td>0.014922</td>\n",
       "      <td>0.051222</td>\n",
       "      <td>0.009550</td>\n",
       "      <td>0.355840</td>\n",
       "    </tr>\n",
       "    <tr>\n",
       "      <th>151</th>\n",
       "      <td>0.043633</td>\n",
       "      <td>0.000052</td>\n",
       "      <td>0.005584</td>\n",
       "      <td>0.000706</td>\n",
       "      <td>0.013570</td>\n",
       "      <td>0.443337</td>\n",
       "      <td>0.006107</td>\n",
       "      <td>0.053727</td>\n",
       "      <td>0.002707</td>\n",
       "      <td>0.015014</td>\n",
       "      <td>0.051083</td>\n",
       "      <td>0.009967</td>\n",
       "      <td>0.354513</td>\n",
       "    </tr>\n",
       "    <tr>\n",
       "      <th>201</th>\n",
       "      <td>0.044210</td>\n",
       "      <td>0.000095</td>\n",
       "      <td>0.005592</td>\n",
       "      <td>0.000713</td>\n",
       "      <td>0.013750</td>\n",
       "      <td>0.442190</td>\n",
       "      <td>0.006729</td>\n",
       "      <td>0.053902</td>\n",
       "      <td>0.002756</td>\n",
       "      <td>0.015092</td>\n",
       "      <td>0.050975</td>\n",
       "      <td>0.010435</td>\n",
       "      <td>0.353561</td>\n",
       "    </tr>\n",
       "    <tr>\n",
       "      <th>251</th>\n",
       "      <td>0.044494</td>\n",
       "      <td>0.000120</td>\n",
       "      <td>0.005682</td>\n",
       "      <td>0.000712</td>\n",
       "      <td>0.013820</td>\n",
       "      <td>0.441497</td>\n",
       "      <td>0.007011</td>\n",
       "      <td>0.054082</td>\n",
       "      <td>0.002778</td>\n",
       "      <td>0.015116</td>\n",
       "      <td>0.050875</td>\n",
       "      <td>0.010769</td>\n",
       "      <td>0.353044</td>\n",
       "    </tr>\n",
       "    <tr>\n",
       "      <th>301</th>\n",
       "      <td>0.044626</td>\n",
       "      <td>0.000131</td>\n",
       "      <td>0.005729</td>\n",
       "      <td>0.000711</td>\n",
       "      <td>0.013860</td>\n",
       "      <td>0.441145</td>\n",
       "      <td>0.007159</td>\n",
       "      <td>0.054189</td>\n",
       "      <td>0.002812</td>\n",
       "      <td>0.015138</td>\n",
       "      <td>0.050823</td>\n",
       "      <td>0.010868</td>\n",
       "      <td>0.352808</td>\n",
       "    </tr>\n",
       "    <tr>\n",
       "      <th>351</th>\n",
       "      <td>0.044771</td>\n",
       "      <td>0.000136</td>\n",
       "      <td>0.005737</td>\n",
       "      <td>0.000711</td>\n",
       "      <td>0.013878</td>\n",
       "      <td>0.440985</td>\n",
       "      <td>0.007232</td>\n",
       "      <td>0.054220</td>\n",
       "      <td>0.002827</td>\n",
       "      <td>0.015143</td>\n",
       "      <td>0.050797</td>\n",
       "      <td>0.010946</td>\n",
       "      <td>0.352617</td>\n",
       "    </tr>\n",
       "    <tr>\n",
       "      <th>401</th>\n",
       "      <td>0.044840</td>\n",
       "      <td>0.000152</td>\n",
       "      <td>0.005741</td>\n",
       "      <td>0.000713</td>\n",
       "      <td>0.013897</td>\n",
       "      <td>0.440838</td>\n",
       "      <td>0.007292</td>\n",
       "      <td>0.054261</td>\n",
       "      <td>0.002829</td>\n",
       "      <td>0.015159</td>\n",
       "      <td>0.050783</td>\n",
       "      <td>0.010979</td>\n",
       "      <td>0.352516</td>\n",
       "    </tr>\n",
       "    <tr>\n",
       "      <th>451</th>\n",
       "      <td>0.044872</td>\n",
       "      <td>0.000156</td>\n",
       "      <td>0.005742</td>\n",
       "      <td>0.000713</td>\n",
       "      <td>0.013915</td>\n",
       "      <td>0.440753</td>\n",
       "      <td>0.007336</td>\n",
       "      <td>0.054295</td>\n",
       "      <td>0.002829</td>\n",
       "      <td>0.015168</td>\n",
       "      <td>0.050774</td>\n",
       "      <td>0.011002</td>\n",
       "      <td>0.352444</td>\n",
       "    </tr>\n",
       "  </tbody>\n",
       "</table>\n",
       "</div>"
      ],
      "text/plain": [
       "         CRIM        ZN     INDUS      CHAS       NOX        RM       AGE  \\\n",
       "1    0.073302  0.000000  0.000000  0.000000  0.000000  0.666492  0.000000   \n",
       "51   0.042198  0.000000  0.004862  0.000524  0.011856  0.448684  0.003086   \n",
       "101  0.043022  0.000029  0.005473  0.000686  0.013092  0.444948  0.005055   \n",
       "151  0.043633  0.000052  0.005584  0.000706  0.013570  0.443337  0.006107   \n",
       "201  0.044210  0.000095  0.005592  0.000713  0.013750  0.442190  0.006729   \n",
       "251  0.044494  0.000120  0.005682  0.000712  0.013820  0.441497  0.007011   \n",
       "301  0.044626  0.000131  0.005729  0.000711  0.013860  0.441145  0.007159   \n",
       "351  0.044771  0.000136  0.005737  0.000711  0.013878  0.440985  0.007232   \n",
       "401  0.044840  0.000152  0.005741  0.000713  0.013897  0.440838  0.007292   \n",
       "451  0.044872  0.000156  0.005742  0.000713  0.013915  0.440753  0.007336   \n",
       "\n",
       "          DIS       RAD       TAX   PTRATIO         B     LSTAT  \n",
       "1    0.057862  0.000000  0.000000  0.022394  0.000000  0.179949  \n",
       "51   0.052409  0.002403  0.014441  0.051643  0.008371  0.359523  \n",
       "101  0.053530  0.002629  0.014922  0.051222  0.009550  0.355840  \n",
       "151  0.053727  0.002707  0.015014  0.051083  0.009967  0.354513  \n",
       "201  0.053902  0.002756  0.015092  0.050975  0.010435  0.353561  \n",
       "251  0.054082  0.002778  0.015116  0.050875  0.010769  0.353044  \n",
       "301  0.054189  0.002812  0.015138  0.050823  0.010868  0.352808  \n",
       "351  0.054220  0.002827  0.015143  0.050797  0.010946  0.352617  \n",
       "401  0.054261  0.002829  0.015159  0.050783  0.010979  0.352516  \n",
       "451  0.054295  0.002829  0.015168  0.050774  0.011002  0.352444  "
      ]
     },
     "execution_count": 22,
     "metadata": {},
     "output_type": "execute_result"
    }
   ],
   "source": [
    "boston_importance = pd.DataFrame([model.feature_importances_ for model in gbm_models], index=steps, columns=X_train_reg.columns)\n",
    "boston_importance"
   ]
  },
  {
   "cell_type": "code",
   "execution_count": 23,
   "metadata": {},
   "outputs": [
    {
     "data": {
      "text/plain": [
       "Text(0, 0.5, 'feature importance')"
      ]
     },
     "execution_count": 23,
     "metadata": {},
     "output_type": "execute_result"
    },
    {
     "data": {
      "image/png": "[encoded data removed]",
      "text/plain": [
       "<Figure size 720x1080 with 1 Axes>"
      ]
     },
     "metadata": {},
     "output_type": "display_data"
    }
   ],
   "source": [
    "plt.rcParams['figure.figsize'] = (10,15)\n",
    "for feature in boston_importance.columns:\n",
    "    plt.plot(boston_importance.index, boston_importance[feature], label=feature)\n",
    "plt.legend(loc=1)    \n",
    "plt.xlabel('n_estimators')\n",
    "plt.ylabel('feature importance')"
   ]
  },
  {
   "cell_type": "markdown",
   "metadata": {},
   "source": [
    "## Gradient Boosting Classifier\n",
    "- Besides all the hyperparameters/methods with regression boosting trees, it has its own\n",
    "**staged_predict_proba** to output the per-class probabilities as a generator\n",
    "- We will demonstrate the usage of gbm classifier using UCI credit-card default prediction data"
   ]
  },
  {
   "cell_type": "code",
   "execution_count": 18,
   "metadata": {},
   "outputs": [],
   "source": [
    "cards = pd.read_csv('./UCI_Credit_Card.csv')"
   ]
  },
  {
   "cell_type": "code",
   "execution_count": 19,
   "metadata": {},
   "outputs": [
    {
     "name": "stdout",
     "output_type": "stream",
     "text": [
      "Index(['ID', 'LIMIT_BAL', 'SEX', 'EDUCATION', 'MARRIAGE', 'AGE', 'PAY_0',\n",
      "       'PAY_2', 'PAY_3', 'PAY_4', 'PAY_5', 'PAY_6', 'BILL_AMT1', 'BILL_AMT2',\n",
      "       'BILL_AMT3', 'BILL_AMT4', 'BILL_AMT5', 'BILL_AMT6', 'PAY_AMT1',\n",
      "       'PAY_AMT2', 'PAY_AMT3', 'PAY_AMT4', 'PAY_AMT5', 'PAY_AMT6',\n",
      "       'default.payment.next.month'],\n",
      "      dtype='object')\n"
     ]
    },
    {
     "data": {
      "text/html": [
       "<div>\n",
       "<style scoped>\n",
       "    .dataframe tbody tr th:only-of-type {\n",
       "        vertical-align: middle;\n",
       "    }\n",
       "\n",
       "    .dataframe tbody tr th {\n",
       "        vertical-align: top;\n",
       "    }\n",
       "\n",
       "    .dataframe thead th {\n",
       "        text-align: right;\n",
       "    }\n",
       "</style>\n",
       "<table border=\"1\" class=\"dataframe\">\n",
       "  <thead>\n",
       "    <tr style=\"text-align: right;\">\n",
       "      <th></th>\n",
       "      <th>ID</th>\n",
       "      <th>LIMIT_BAL</th>\n",
       "      <th>SEX</th>\n",
       "      <th>EDUCATION</th>\n",
       "      <th>MARRIAGE</th>\n",
       "      <th>AGE</th>\n",
       "      <th>PAY_0</th>\n",
       "      <th>PAY_2</th>\n",
       "      <th>PAY_3</th>\n",
       "      <th>PAY_4</th>\n",
       "      <th>...</th>\n",
       "      <th>BILL_AMT4</th>\n",
       "      <th>BILL_AMT5</th>\n",
       "      <th>BILL_AMT6</th>\n",
       "      <th>PAY_AMT1</th>\n",
       "      <th>PAY_AMT2</th>\n",
       "      <th>PAY_AMT3</th>\n",
       "      <th>PAY_AMT4</th>\n",
       "      <th>PAY_AMT5</th>\n",
       "      <th>PAY_AMT6</th>\n",
       "      <th>default.payment.next.month</th>\n",
       "    </tr>\n",
       "  </thead>\n",
       "  <tbody>\n",
       "    <tr>\n",
       "      <th>0</th>\n",
       "      <td>1</td>\n",
       "      <td>20000.0</td>\n",
       "      <td>2</td>\n",
       "      <td>2</td>\n",
       "      <td>1</td>\n",
       "      <td>24</td>\n",
       "      <td>2</td>\n",
       "      <td>2</td>\n",
       "      <td>-1</td>\n",
       "      <td>-1</td>\n",
       "      <td>...</td>\n",
       "      <td>0.0</td>\n",
       "      <td>0.0</td>\n",
       "      <td>0.0</td>\n",
       "      <td>0.0</td>\n",
       "      <td>689.0</td>\n",
       "      <td>0.0</td>\n",
       "      <td>0.0</td>\n",
       "      <td>0.0</td>\n",
       "      <td>0.0</td>\n",
       "      <td>1</td>\n",
       "    </tr>\n",
       "    <tr>\n",
       "      <th>1</th>\n",
       "      <td>2</td>\n",
       "      <td>120000.0</td>\n",
       "      <td>2</td>\n",
       "      <td>2</td>\n",
       "      <td>2</td>\n",
       "      <td>26</td>\n",
       "      <td>-1</td>\n",
       "      <td>2</td>\n",
       "      <td>0</td>\n",
       "      <td>0</td>\n",
       "      <td>...</td>\n",
       "      <td>3272.0</td>\n",
       "      <td>3455.0</td>\n",
       "      <td>3261.0</td>\n",
       "      <td>0.0</td>\n",
       "      <td>1000.0</td>\n",
       "      <td>1000.0</td>\n",
       "      <td>1000.0</td>\n",
       "      <td>0.0</td>\n",
       "      <td>2000.0</td>\n",
       "      <td>1</td>\n",
       "    </tr>\n",
       "    <tr>\n",
       "      <th>2</th>\n",
       "      <td>3</td>\n",
       "      <td>90000.0</td>\n",
       "      <td>2</td>\n",
       "      <td>2</td>\n",
       "      <td>2</td>\n",
       "      <td>34</td>\n",
       "      <td>0</td>\n",
       "      <td>0</td>\n",
       "      <td>0</td>\n",
       "      <td>0</td>\n",
       "      <td>...</td>\n",
       "      <td>14331.0</td>\n",
       "      <td>14948.0</td>\n",
       "      <td>15549.0</td>\n",
       "      <td>1518.0</td>\n",
       "      <td>1500.0</td>\n",
       "      <td>1000.0</td>\n",
       "      <td>1000.0</td>\n",
       "      <td>1000.0</td>\n",
       "      <td>5000.0</td>\n",
       "      <td>0</td>\n",
       "    </tr>\n",
       "    <tr>\n",
       "      <th>3</th>\n",
       "      <td>4</td>\n",
       "      <td>50000.0</td>\n",
       "      <td>2</td>\n",
       "      <td>2</td>\n",
       "      <td>1</td>\n",
       "      <td>37</td>\n",
       "      <td>0</td>\n",
       "      <td>0</td>\n",
       "      <td>0</td>\n",
       "      <td>0</td>\n",
       "      <td>...</td>\n",
       "      <td>28314.0</td>\n",
       "      <td>28959.0</td>\n",
       "      <td>29547.0</td>\n",
       "      <td>2000.0</td>\n",
       "      <td>2019.0</td>\n",
       "      <td>1200.0</td>\n",
       "      <td>1100.0</td>\n",
       "      <td>1069.0</td>\n",
       "      <td>1000.0</td>\n",
       "      <td>0</td>\n",
       "    </tr>\n",
       "    <tr>\n",
       "      <th>4</th>\n",
       "      <td>5</td>\n",
       "      <td>50000.0</td>\n",
       "      <td>1</td>\n",
       "      <td>2</td>\n",
       "      <td>1</td>\n",
       "      <td>57</td>\n",
       "      <td>-1</td>\n",
       "      <td>0</td>\n",
       "      <td>-1</td>\n",
       "      <td>0</td>\n",
       "      <td>...</td>\n",
       "      <td>20940.0</td>\n",
       "      <td>19146.0</td>\n",
       "      <td>19131.0</td>\n",
       "      <td>2000.0</td>\n",
       "      <td>36681.0</td>\n",
       "      <td>10000.0</td>\n",
       "      <td>9000.0</td>\n",
       "      <td>689.0</td>\n",
       "      <td>679.0</td>\n",
       "      <td>0</td>\n",
       "    </tr>\n",
       "  </tbody>\n",
       "</table>\n",
       "<p>5 rows × 25 columns</p>\n",
       "</div>"
      ],
      "text/plain": [
       "   ID  LIMIT_BAL  SEX  EDUCATION  MARRIAGE  AGE  PAY_0  PAY_2  PAY_3  PAY_4  \\\n",
       "0   1    20000.0    2          2         1   24      2      2     -1     -1   \n",
       "1   2   120000.0    2          2         2   26     -1      2      0      0   \n",
       "2   3    90000.0    2          2         2   34      0      0      0      0   \n",
       "3   4    50000.0    2          2         1   37      0      0      0      0   \n",
       "4   5    50000.0    1          2         1   57     -1      0     -1      0   \n",
       "\n",
       "   ...  BILL_AMT4  BILL_AMT5  BILL_AMT6  PAY_AMT1  PAY_AMT2  PAY_AMT3  \\\n",
       "0  ...        0.0        0.0        0.0       0.0     689.0       0.0   \n",
       "1  ...     3272.0     3455.0     3261.0       0.0    1000.0    1000.0   \n",
       "2  ...    14331.0    14948.0    15549.0    1518.0    1500.0    1000.0   \n",
       "3  ...    28314.0    28959.0    29547.0    2000.0    2019.0    1200.0   \n",
       "4  ...    20940.0    19146.0    19131.0    2000.0   36681.0   10000.0   \n",
       "\n",
       "   PAY_AMT4  PAY_AMT5  PAY_AMT6  default.payment.next.month  \n",
       "0       0.0       0.0       0.0                           1  \n",
       "1    1000.0       0.0    2000.0                           1  \n",
       "2    1000.0    1000.0    5000.0                           0  \n",
       "3    1100.0    1069.0    1000.0                           0  \n",
       "4    9000.0     689.0     679.0                           0  \n",
       "\n",
       "[5 rows x 25 columns]"
      ]
     },
     "execution_count": 19,
     "metadata": {},
     "output_type": "execute_result"
    }
   ],
   "source": [
    "print(cards.columns)\n",
    "cards.head()"
   ]
  },
  {
   "cell_type": "markdown",
   "metadata": {},
   "source": [
    "## The columns of the UCI credit card default data\n",
    "- ID: sample id\n",
    "- LIMIT_BAL: credit limit\n",
    "- SEX: gender\n",
    "- EDUCATION: 1-6, 1 for graduate school, lower means higher education\n",
    "- MARRIAGE: 1/married, 2/single, 3/others\n",
    "- AGE\n",
    "- PAY_i: the months of past due, -1 for paying on time\n",
    "- BILL_AMTi: the bill of the previous ith month\n",
    "- PAY_AMTi: the payment of the previous ith month\n",
    "- default.payment.next.month: whether the card holder defaults the next month, this is the target\n",
    "    \n",
    "the data was collected in 2005 in Taiwan for half a year duration. It has 30000 sample points, which is highly imbalanced.    "
   ]
  },
  {
   "cell_type": "code",
   "execution_count": 20,
   "metadata": {},
   "outputs": [
    {
     "data": {
      "text/plain": [
       "0    23364\n",
       "1     6636\n",
       "Name: default.payment.next.month, dtype: int64"
      ]
     },
     "execution_count": 20,
     "metadata": {},
     "output_type": "execute_result"
    }
   ],
   "source": [
    "cards['default.payment.next.month'].value_counts()  # default vs non-default is about 1:4"
   ]
  },
  {
   "cell_type": "code",
   "execution_count": 21,
   "metadata": {},
   "outputs": [
    {
     "data": {
      "text/plain": [
       "0.8249666666666666"
      ]
     },
     "execution_count": 21,
     "metadata": {},
     "output_type": "execute_result"
    }
   ],
   "source": [
    "X = cards.drop('default.payment.next.month', axis=1)\n",
    "Y = cards['default.payment.next.month']\n",
    "gbm_c = GradientBoostingClassifier()\n",
    "gbm_c.fit(X,Y)\n",
    "gbm_c.score(X,Y)"
   ]
  },
  {
   "cell_type": "markdown",
   "metadata": {},
   "source": [
    "- The high accuracy mostly comes from predicting the majority class, which is trivial"
   ]
  },
  {
   "cell_type": "code",
   "execution_count": 22,
   "metadata": {},
   "outputs": [
    {
     "data": {
      "text/plain": [
       "array([[22262,  1102],\n",
       "       [ 4149,  2487]], dtype=int64)"
      ]
     },
     "execution_count": 22,
     "metadata": {},
     "output_type": "execute_result"
    }
   ],
   "source": [
    "from sklearn.metrics import confusion_matrix\n",
    "confusion_matrix(Y, gbm_c.predict(X))"
   ]
  },
  {
   "cell_type": "markdown",
   "metadata": {},
   "source": [
    "## Up-Sampling the Minority Class\n",
    "- One technique to train an imbalanced classification model is to fabricate synthesized minority class data, knowning as\n",
    "**up-sampling**. Up-sampling bootstraps only the minority class samples to make the major:minor ratio more balanced"
   ]
  },
  {
   "cell_type": "code",
   "execution_count": 23,
   "metadata": {},
   "outputs": [
    {
     "data": {
      "text/plain": [
       "array([    1,     2,    14, ..., 29998, 29999, 30000], dtype=int64)"
      ]
     },
     "execution_count": 23,
     "metadata": {},
     "output_type": "execute_result"
    }
   ],
   "source": [
    "from sklearn.utils import resample\n",
    "minorIndex = cards[cards['default.payment.next.month']==1].ID.values\n",
    "minorIndex"
   ]
  },
  {
   "cell_type": "code",
   "execution_count": 37,
   "metadata": {},
   "outputs": [
    {
     "data": {
      "text/plain": [
       "(46728, 1)"
      ]
     },
     "execution_count": 37,
     "metadata": {},
     "output_type": "execute_result"
    }
   ],
   "source": [
    "resampled = resample(minorIndex, n_samples = 23364-6636)\n",
    "LEFT = pd.DataFrame(list(cards.ID) + list(resampled), columns=['INDEX'])\n",
    "LEFT.shape"
   ]
  },
  {
   "cell_type": "code",
   "execution_count": 27,
   "metadata": {},
   "outputs": [],
   "source": [
    "cards2 = pd.merge(LEFT, cards, how='left', left_on ='INDEX', right_on='ID')"
   ]
  },
  {
   "cell_type": "code",
   "execution_count": 28,
   "metadata": {},
   "outputs": [],
   "source": [
    "X = cards2.drop(['default.payment.next.month','ID','INDEX'],axis=1)\n",
    "Y = cards2['default.payment.next.month']"
   ]
  },
  {
   "cell_type": "code",
   "execution_count": 30,
   "metadata": {},
   "outputs": [],
   "source": [
    "X_train, X_test, Y_train, Y_test = train_test_split(X, Y, test_size=0.3)"
   ]
  },
  {
   "cell_type": "code",
   "execution_count": 31,
   "metadata": {},
   "outputs": [
    {
     "name": "stdout",
     "output_type": "stream",
     "text": [
      "Training Accuracy 0.73\n",
      "Testing Accuracy 0.72\n"
     ]
    }
   ],
   "source": [
    "np.random.seed(50)\n",
    "gbm_c.set_params(learning_rate=0.01, n_estimators=3000, max_depth=2, subsample=0.3, max_features=3, verbose=0)\n",
    "gbm_c.fit(X_train, Y_train)\n",
    "print('Training Accuracy %.2f' %(gbm_c.score(X_train, Y_train)))\n",
    "print('Testing Accuracy %.2f' %(gbm_c.score(X_test, Y_test)))"
   ]
  },
  {
   "cell_type": "code",
   "execution_count": 34,
   "metadata": {},
   "outputs": [
    {
     "name": "stdout",
     "output_type": "stream",
     "text": [
      "[[13010  3311]\n",
      " [ 5650 10738]]\n"
     ]
    }
   ],
   "source": [
    "print(confusion_matrix(Y_train, gbm_c.predict(X_train)))"
   ]
  },
  {
   "cell_type": "code",
   "execution_count": 36,
   "metadata": {},
   "outputs": [
    {
     "name": "stdout",
     "output_type": "stream",
     "text": [
      "[[5569 1474]\n",
      " [2464 4512]]\n"
     ]
    }
   ],
   "source": [
    "print(confusion_matrix(Y_test, gbm_c.predict(X_test)))"
   ]
  },
  {
   "cell_type": "markdown",
   "metadata": {},
   "source": [
    "## Barplot of Feature Importance"
   ]
  },
  {
   "cell_type": "code",
   "execution_count": 37,
   "metadata": {},
   "outputs": [],
   "source": [
    "importance = sorted(list(zip(X_train.columns, list(gbm_c.feature_importances_))), key=lambda t:t[1], reverse=True)"
   ]
  },
  {
   "cell_type": "code",
   "execution_count": 38,
   "metadata": {},
   "outputs": [
    {
     "data": {
      "text/plain": [
       "Text(0.5, 1.0, 'feature importance of a gbm classifier')"
      ]
     },
     "execution_count": 38,
     "metadata": {},
     "output_type": "execute_result"
    },
    {
     "data": {
      "image/png": "[encoded data removed]",
      "text/plain": [
       "<Figure size 720x1080 with 1 Axes>"
      ]
     },
     "metadata": {},
     "output_type": "display_data"
    }
   ],
   "source": [
    "a, b = zip(*importance)\n",
    "importance_score = pd.DataFrame({'feature':a, 'score':b})\n",
    "importance_score.plot.bar(x='feature', y='score', legend=None)\n",
    "plt.title('feature importance of a gbm classifier')"
   ]
  },
  {
   "cell_type": "markdown",
   "metadata": {},
   "source": [
    "## How Well Do the Boosting Trees Estimate the Probabilities?\n",
    "- We may compare the output from staged predict_proba to the sample probabilities of class 1 (when the classes are 0 and 1, the \n",
    "expectation value/average is equal to class 1 probability)"
   ]
  },
  {
   "cell_type": "code",
   "execution_count": 39,
   "metadata": {},
   "outputs": [],
   "source": [
    "steps = [1, 50, 100, 200, 400, gbm_c.n_estimators]\n",
    "gen_proba = gbm_c.staged_predict_proba(X)\n",
    "\n",
    "totalFrame = None\n",
    "\n",
    "for n_estimators in range(1, steps[-1]+1):\n",
    "    probs = next(gen_proba)[:,1]\n",
    "    if n_estimators not in steps: continue\n",
    "    prob_bin = pd.cut(probs, 50, labels=False)\n",
    "    df    = pd.DataFrame({'prob_bin':prob_bin, 'probs':probs, 'target':Y})\n",
    "    ans   = df.groupby('prob_bin').mean()\n",
    "    ans['n_estimators'] = np.ones(ans.shape[0], dtype=np.int32) * n_estimators\n",
    "    totalFrame = ans.copy() if totalFrame is None else \\\n",
    "    pd.concat([totalFrame, ans], axis=0)                  "
   ]
  },
  {
   "cell_type": "code",
   "execution_count": 40,
   "metadata": {},
   "outputs": [
    {
     "data": {
      "text/html": [
       "<div>\n",
       "<style scoped>\n",
       "    .dataframe tbody tr th:only-of-type {\n",
       "        vertical-align: middle;\n",
       "    }\n",
       "\n",
       "    .dataframe tbody tr th {\n",
       "        vertical-align: top;\n",
       "    }\n",
       "\n",
       "    .dataframe thead th {\n",
       "        text-align: right;\n",
       "    }\n",
       "</style>\n",
       "<table border=\"1\" class=\"dataframe\">\n",
       "  <thead>\n",
       "    <tr style=\"text-align: right;\">\n",
       "      <th></th>\n",
       "      <th>probs</th>\n",
       "      <th>target</th>\n",
       "      <th>n_estimators</th>\n",
       "    </tr>\n",
       "    <tr>\n",
       "      <th>prob_bin</th>\n",
       "      <th></th>\n",
       "      <th></th>\n",
       "      <th></th>\n",
       "    </tr>\n",
       "  </thead>\n",
       "  <tbody>\n",
       "    <tr>\n",
       "      <th>0</th>\n",
       "      <td>0.500161</td>\n",
       "      <td>0.408858</td>\n",
       "      <td>1</td>\n",
       "    </tr>\n",
       "    <tr>\n",
       "      <th>15</th>\n",
       "      <td>0.501533</td>\n",
       "      <td>0.538373</td>\n",
       "      <td>1</td>\n",
       "    </tr>\n",
       "    <tr>\n",
       "      <th>40</th>\n",
       "      <td>0.503705</td>\n",
       "      <td>0.775425</td>\n",
       "      <td>1</td>\n",
       "    </tr>\n",
       "    <tr>\n",
       "      <th>49</th>\n",
       "      <td>0.504502</td>\n",
       "      <td>0.841090</td>\n",
       "      <td>1</td>\n",
       "    </tr>\n",
       "    <tr>\n",
       "      <th>0</th>\n",
       "      <td>0.439660</td>\n",
       "      <td>0.230224</td>\n",
       "      <td>50</td>\n",
       "    </tr>\n",
       "  </tbody>\n",
       "</table>\n",
       "</div>"
      ],
      "text/plain": [
       "             probs    target  n_estimators\n",
       "prob_bin                                  \n",
       "0         0.500161  0.408858             1\n",
       "15        0.501533  0.538373             1\n",
       "40        0.503705  0.775425             1\n",
       "49        0.504502  0.841090             1\n",
       "0         0.439660  0.230224            50"
      ]
     },
     "execution_count": 40,
     "metadata": {},
     "output_type": "execute_result"
    }
   ],
   "source": [
    "totalFrame.head()"
   ]
  },
  {
   "cell_type": "code",
   "execution_count": 41,
   "metadata": {
    "scrolled": false
   },
   "outputs": [
    {
     "data": {
      "image/png": "[encoded data removed]",
      "text/plain": [
       "<Figure size 216x1296 with 6 Axes>"
      ]
     },
     "metadata": {},
     "output_type": "display_data"
    }
   ],
   "source": [
    "plt.rcParams['figure.figsize'] = (3,3)\n",
    "import seaborn as sns \n",
    "totalFrame.columns = ['predicted prob', 'sample prob', 'n_estimators']\n",
    "g = sns.FacetGrid(data=totalFrame, row = 'n_estimators', hue = 'n_estimators')\n",
    "g.map(sns.regplot, 'predicted prob', 'sample prob')\n",
    "plt.rcParams['figure.figsize'] = (8,8)"
   ]
  },
  {
   "cell_type": "markdown",
   "metadata": {},
   "source": [
    "- The above motion picture demonstrates that at the beginning (n_estimators = 1) the model estimates the probabilities poorly\n",
    "- As we add more and more trees to the boosted model, the slopes of sample probabilities vs estimated probabilities approach 1\n",
    "- We also notice that the range of estimated probabilities grow from a small range near 0.5 to the full range (0,1)"
   ]
  },
  {
   "cell_type": "markdown",
   "metadata": {
    "collapsed": true
   },
   "source": [
    "### Partial Dependence Plot\n",
    "- One can use the sklearn's built-in **partial-dependence plot** function to investigate the feature's infleuences on the default probabilities or the interactions of pairs of features on the default rates."
   ]
  },
  {
   "cell_type": "code",
   "execution_count": 42,
   "metadata": {},
   "outputs": [],
   "source": [
    "version = sklearn.__version__\n",
    "if version[:4]<'0.21':\n",
    "     from sklearn.ensemble.partial_dependence import plot_partial_dependence\n",
    "     # will be removed after sklearn '0.23'\n",
    "else:\n",
    "     from sklearn.inspection import plot_partial_dependence"
   ]
  },
  {
   "cell_type": "code",
   "execution_count": 43,
   "metadata": {},
   "outputs": [
    {
     "data": {
      "text/plain": [
       "[('PAY_0', 0.2650907876835829),\n",
       " ('PAY_2', 0.12242247820364374),\n",
       " ('PAY_3', 0.07565885273891042),\n",
       " ('PAY_4', 0.051240941820537934),\n",
       " ('LIMIT_BAL', 0.0492836012246305),\n",
       " ('PAY_AMT1', 0.04727686147770452),\n",
       " ('PAY_5', 0.04590123144713079),\n",
       " ('PAY_AMT2', 0.03916099827939664),\n",
       " ('BILL_AMT1', 0.03695111123423296),\n",
       " ('PAY_6', 0.03441389682719953),\n",
       " ('PAY_AMT3', 0.032227000576878814),\n",
       " ('PAY_AMT4', 0.02832225718373593),\n",
       " ('BILL_AMT2', 0.0250814920777287),\n",
       " ('BILL_AMT3', 0.023110063111650907),\n",
       " ('PAY_AMT5', 0.019834550548227563),\n",
       " ('PAY_AMT6', 0.018841330100350766),\n",
       " ('BILL_AMT5', 0.0187239421624236),\n",
       " ('BILL_AMT4', 0.01791360129844614),\n",
       " ('BILL_AMT6', 0.015640932491088836),\n",
       " ('AGE', 0.012366179384111805),\n",
       " ('EDUCATION', 0.010288631006344588),\n",
       " ('MARRIAGE', 0.006660093858823113),\n",
       " ('SEX', 0.0035891652632192156)]"
      ]
     },
     "execution_count": 43,
     "metadata": {},
     "output_type": "execute_result"
    }
   ],
   "source": [
    "sorted(zip(X.columns, gbm_c.feature_importances_), key=lambda t:t[1], reverse=True)"
   ]
  },
  {
   "cell_type": "code",
   "execution_count": 44,
   "metadata": {
    "scrolled": false
   },
   "outputs": [
    {
     "data": {
      "text/plain": [
       "<sklearn.inspection._plot.partial_dependence.PartialDependenceDisplay at 0x156f5efa0>"
      ]
     },
     "execution_count": 44,
     "metadata": {},
     "output_type": "execute_result"
    },
    {
     "data": {
      "image/png": "[encoded data removed]",
      "text/plain": [
       "<Figure size 576x576 with 3 Axes>"
      ]
     },
     "metadata": {},
     "output_type": "display_data"
    }
   ],
   "source": [
    "features = ['LIMIT_BAL', ('PAY_0', 'LIMIT_BAL')]\n",
    "plot_partial_dependence(gbm_c, X, features, feature_names=X.columns.tolist())"
   ]
  },
  {
   "cell_type": "markdown",
   "metadata": {},
   "source": [
    "### Remark\n",
    "- In running **pdp**, we assume that the feature we focus on (**LIMIT_BAL** in our case)\n",
    "has no correlations with all the other features.\n",
    "- The plot on the left indicates the dependence of default probabilities\n",
    "to the continuous feature **LIMIT_BAL**.\n",
    "- The plot does show a decreasing trend where the default rates continue to drop\n",
    "with increasing credit limit.\n",
    "- The **PDP** also catures correctly the slowing down of the decrease.\n",
    "- Both are consistent with our own analysis.\n",
    "- A bonus of **pdp** is that the barcode at the bottom left corner indicates\n",
    "the density of the **LIMIT_BAL** distribution, which helps us to prevent\n",
    "over-interpreting the plot when the samples are sparse in the particular range.\n",
    "- What is counter-intuitive is that the **pdp** allows the default rate to\n",
    "drop below 0, which is impossible.\n",
    "- This is because that **pdp** makes use of the gradient boosting **predict_proba**\n",
    "function on sythesized samples which are far away from the domain of the train set.\n",
    "- The right hand side contour plot shows the interaction pattern of the two features we specify, \n",
    "**LIMIT_BAL** and **PAY_0**.\n"
   ]
  },
  {
   "cell_type": "markdown",
   "metadata": {},
   "source": [
    "### Pros and Cons of PDP\n",
    "- Easy and intuitive to use. Can study the interaction between features.\n",
    "- Do not need to write customized code.\n",
    "\n",
    "\n",
    "- Can produce counter-intuitive result when the features have strong inter-correlation."
   ]
  }
 ],
 "metadata": {
  "kernelspec": {
   "display_name": "Python 3 (ipykernel)",
   "language": "python",
   "name": "python3"
  },
  "language_info": {
   "codemirror_mode": {
    "name": "ipython",
    "version": 3
   },
   "file_extension": ".py",
   "mimetype": "text/x-python",
   "name": "python",
   "nbconvert_exporter": "python",
   "pygments_lexer": "ipython3",
   "version": "3.9.7"
  }
 },
 "nbformat": 4,
 "nbformat_minor": 2
}
