{
 "cells": [
  {
   "cell_type": "code",
   "execution_count": null,
   "id": "31b59792",
   "metadata": {},
   "outputs": [],
   "source": [
    "ss = StandardScaler()\n",
    "X = ss.fit_transform(it1[lasso_it1])\n",
    "\n",
    "lasso = Lasso(max_iter=3000)\n",
    "\n",
    "params = {\"alpha\": [0.0001, 0.001, 0.01, 0.1, 1, 10]}\n",
    "gs = GridSearchCV(lasso, params, cv=5, return_train_score=True, refit=True)\n",
    "\n",
    "gs.fit(X,log_price)\n",
    "gs.best_params_\n",
    "\n",
    "gs.score(X,log_price)\n",
    "\n",
    "lasso_pred = gs.best_estimator_.predict(X)\n",
    "print('RMSE: ' + str(mean_squared_error(lasso_pred,log_price)**0.5))\n",
    "\n",
    "residuals = log_price - lasso_pred\n"
   ]
  },
  {
   "cell_type": "code",
   "execution_count": null,
   "id": "0ee92b40",
   "metadata": {},
   "outputs": [],
   "source": [
    "def lasso_reg(df=None, varlist=None, y=None, gs=None, m_iter=None, model=None):\n",
    "    \n",
    "    ss = StandardScaler()\n",
    "    X = ss.fit_transform(df[varlist])\n",
    "\n",
    "    y_hat = y\n",
    "    \n",
    "    model = Lasso(max_iter = m_iter)\n",
    "    \n",
    "    params = {\"alpha\": [0.0001, 0.001, 0.01, 0.1, 1, 10]}\n",
    "    gs = GridSearchCV(lasso, params, cv=5, return_train_score=True, refit=True)\n",
    "\n",
    "    gs.fit(X, y_hat)\n",
    "    \n",
    "    return gs\n",
    "    \n",
    "    \n",
    "    "
   ]
  },
  {
   "cell_type": "code",
   "execution_count": null,
   "id": "fdd43e2f",
   "metadata": {},
   "outputs": [],
   "source": [
    "#denise: by setting the default to None we get what we expect\n",
    "#the None value clears it\n",
    "#dont't use mutable objects as default arguments as your ; if must set to None\n",
    "def f(a, L=None):\n",
    "    if L is None:\n",
    "        L = []\n",
    "    L.append(a)\n",
    "    return L\n",
    "\n",
    "print(f(1))\n",
    "print(f(2))\n",
    "print(f(3))"
   ]
  }
 ],
 "metadata": {
  "kernelspec": {
   "display_name": "Python 3 (ipykernel)",
   "language": "python",
   "name": "python3"
  },
  "language_info": {
   "codemirror_mode": {
    "name": "ipython",
    "version": 3
   },
   "file_extension": ".py",
   "mimetype": "text/x-python",
   "name": "python",
   "nbconvert_exporter": "python",
   "pygments_lexer": "ipython3",
   "version": "3.9.7"
  }
 },
 "nbformat": 4,
 "nbformat_minor": 5
}
