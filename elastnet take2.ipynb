{
 "cells": [
  {
   "cell_type": "code",
   "execution_count": 1,
   "id": "75e2c408",
   "metadata": {},
   "outputs": [],
   "source": [
    "from sklearn.linear_model import Lasso\n",
    "from sklearn.metrics import mean_squared_error\n",
    "from sklearn.preprocessing import StandardScaler \n",
    "from sklearn.model_selection import GridSearchCV"
   ]
  },
  {
   "cell_type": "code",
   "execution_count": 2,
   "id": "7b2ad38c",
   "metadata": {},
   "outputs": [],
   "source": [
    "import matplotlib.pyplot as plt\n",
    "import seaborn as sns\n",
    "import numpy as np\n",
    "import pandas as pd\n",
    "%matplotlib inline\n",
    "from scipy import stats\n",
    "from sklearn.linear_model import Ridge, Lasso, ElasticNet"
   ]
  },
  {
   "cell_type": "code",
   "execution_count": 3,
   "id": "aadce157",
   "metadata": {},
   "outputs": [],
   "source": [
    "model_vars_data = pd.read_csv(r'C:\\Users\\dgarb\\OneDrive\\Documents\\Data Science Bootcamp August\\Machine Learning Project\\data\\model_vars_data_n.csv',index_col=0)\n",
    "\n",
    "test_vars_data = pd.read_csv(r'C:\\Users\\dgarb\\OneDrive\\Documents\\Data Science Bootcamp August\\Machine Learning Project\\data\\test_vars_data_n.csv',index_col=0)\n",
    "\n",
    "price_train = pd.read_csv(r'C:\\Users\\dgarb\\OneDrive\\Documents\\Data Science Bootcamp August\\Machine Learning Project\\data\\ny_train.csv',index_col=0)\n",
    "\n",
    "price_test = pd.read_csv(r'C:\\Users\\dgarb\\OneDrive\\Documents\\Data Science Bootcamp August\\Machine Learning Project\\data\\ny_test.csv',index_col=0)"
   ]
  },
  {
   "cell_type": "code",
   "execution_count": 4,
   "id": "a74b48cb",
   "metadata": {},
   "outputs": [],
   "source": [
    "# list(model_vars_data.columns) \n",
    "model_vars_data = model_vars_data.drop(['MoSold','MSSubClass','LotArea'], axis = 1)\n",
    "test_vars_data = test_vars_data.drop(['MoSold','MSSubClass','LotArea'], axis = 1) \n",
    "#there is a transformed version of LotArea\n"
   ]
  },
  {
   "cell_type": "code",
   "execution_count": 5,
   "id": "2c719d1c",
   "metadata": {},
   "outputs": [],
   "source": [
    "# Fucntion returns dictionary\n",
    "\n",
    "def regx3(\n",
    "model=  None,\n",
    "x_train = None,\n",
    "x_test = None,\n",
    "y_train = None,\n",
    "y_test =  None,\n",
    "params = None,\n",
    "cv_ = 5,\n",
    "linear_reg = True,\n",
    "tree_based = False):\n",
    "######################################\n",
    "#########################################\n",
    "\n",
    "    features = list(x_train.columns)\n",
    "\n",
    "    ss = StandardScaler()\n",
    "    x_train = pd.DataFrame(ss.fit_transform(x_train), columns = features)\n",
    "    x_test = pd.DataFrame(ss.fit_transform(x_test), columns = features)\n",
    "\n",
    "    #     print('train ',x_train.head())\n",
    "    #     print(' ')\n",
    "    #     print('test ', x_test.head())\n",
    "\n",
    "\n",
    "    gs = GridSearchCV(model, params, cv=cv_, return_train_score=True, refit=True)\n",
    "    gs.fit(x_train,y_train)\n",
    "    gs.best_params_\n",
    "\n",
    "    reg_dict = {}\n",
    "    model= gs.best_estimator_\n",
    "    reg_dict['mod'] = model\n",
    "    ###################################    \n",
    "\n",
    "    print('best params: ',gs.best_params_)\n",
    "    reg_dict['best params'] = gs.best_params_\n",
    "\n",
    "    print('score: ',gs.score(x_train,y_train))\n",
    "    reg_dict['score'] = gs.score(x_train,y_train)\n",
    "\n",
    "    print('  ')\n",
    "    print('test score: ',gs.score(x_test,y_test))\n",
    "    reg_dict['test score'] = gs.score(x_test,y_test)\n",
    "\n",
    "    if linear_reg:\n",
    "        adj_r2 = 1-(1-gs.score(x_train,y_train))*(x_train.shape[0] - 1) / (x_train.shape[0] - x_train.shape[1] - 1)\n",
    "        print('adj_r2: ', adj_r2)\n",
    "        reg_dict['adj_r2'] = adj_r2\n",
    "\n",
    "        adj_r2_test = 1-(1-gs.score(x_test,y_test))*(x_test.shape[0] - 1) / (x_test.shape[0] - x_test.shape[1] - 1)\n",
    "        print('  ')\n",
    "        print('adj_r2_test: ',adj_r2_test)\n",
    "        reg_dict['adj_r2_test'] = adj_r2_test\n",
    "\n",
    "        print(' ')\n",
    "\n",
    "    train_pred = gs.best_estimator_.predict(x_train)\n",
    "    print('train RMSE: ' + str(mean_squared_error(train_pred,y_train)**0.5))\n",
    "    print('  ')\n",
    "    reg_dict['train RMSE'] = mean_squared_error(train_pred,y_train)**0.5\n",
    "\n",
    "    test_pred = gs.best_estimator_.predict(x_test)\n",
    "    print('test RMSE: ' + str(mean_squared_error(test_pred,y_test)**0.5))\n",
    "    ###\n",
    "    reg_dict['test RMSE'] = mean_squared_error(test_pred,y_test)**0.5\n",
    "\n",
    "    if linear_reg:\n",
    "\n",
    "        coefs = pd.Series(gs.best_estimator_.coef_, name = 'coef' )\n",
    "\n",
    "        varnames = pd.Series(features, name = 'features')\n",
    "\n",
    "        pd.set_option('display.max_rows', None) # or 1000.\n",
    "\n",
    "        abs_coefs = pd.Series(np.abs(coefs),name = 'abs_val')\n",
    "\n",
    "        coefs_ = pd.concat([varnames,coefs, abs_coefs], axis=1)\n",
    "\n",
    "        #return:\n",
    "        model_importances = coefs_.sort_values(by=['abs_val'], ascending=False)\n",
    "        model_importances.index=(range(model_importances.shape[0]))\n",
    "        model_importances\n",
    "        reg_dict['model_importances'] = model_importances\n",
    "\n",
    "        print(model_importances)\n",
    "        print(' ')\n",
    "\n",
    "    elif tree_based:\n",
    "        pd.set_option('display.max_rows', None) # or 1000.\n",
    "\n",
    "        #return\n",
    "        varnames = pd.Series(features, name = 'features')\n",
    "\n",
    "        importances_ = pd.Series(model.feature_importances_, name = 'importances')\n",
    "\n",
    "        df = pd.concat([varnames,importances_], axis=1)\n",
    "\n",
    "        model_importances = df.sort_values(by=['importances'], ascending=False)\n",
    "\n",
    "        model_importances.index=(range(model_importances.shape[0]))\n",
    "\n",
    "        reg_dict['model_importances'] = model_importances\n",
    "\n",
    "\n",
    "\n",
    "    #         model_importances = pd.Series(model.feature_importances_, index = features).sort_values(ascending=False)\n",
    "\n",
    "        print(model_importances)\n",
    "\n",
    "\n",
    "    if linear_reg:\n",
    "        residuals = y_train - train_pred\n",
    "        print('skewness: ',stats.skew(residuals))\n",
    "        print(' ')\n",
    "        sns.set_theme(style='darkgrid')\n",
    "        sns.histplot(residuals, bins=20);\n",
    "\n",
    "    print('model_importances.shape: ',model_importances.shape)\n",
    "    \n",
    "    return reg_dict\n"
   ]
  },
  {
   "cell_type": "code",
   "execution_count": 6,
   "id": "c05656ed",
   "metadata": {},
   "outputs": [],
   "source": [
    "def to_keep(mod, amt):\n",
    "    mod = mod['model_importances']\n",
    "    keeps1 = mod.loc[mod['abs_val'] > amt,['features']]\n",
    "    list_keeps1 = list(keeps1.features)\n",
    "    return list_keeps1\n"
   ]
  },
  {
   "cell_type": "markdown",
   "id": "3bbe55ac",
   "metadata": {},
   "source": [
    "remove due to mulicollinearity - see Correlations Analysis notebook"
   ]
  },
  {
   "cell_type": "code",
   "execution_count": 7,
   "id": "58ed5c18",
   "metadata": {},
   "outputs": [],
   "source": [
    "remove = ['log_first_FlrSF','BsmtFinSF1', 'BsmtUnfSF','yeo_GarageArea','GarageCars',\n",
    "          'yeo_LotFrontage', 'BsmtFinSF2' ] #remove due to mulicollinearity #drop GarageYrBlt\n",
    "#see Correlations Analysis notebook"
   ]
  },
  {
   "cell_type": "code",
   "execution_count": null,
   "id": "28ec8515",
   "metadata": {},
   "outputs": [],
   "source": []
  },
  {
   "cell_type": "code",
   "execution_count": 8,
   "id": "36fa782a",
   "metadata": {},
   "outputs": [],
   "source": [
    "keeps_set = set(model_vars_data.columns) - set(remove)\n",
    "keeps_set\n",
    "keeps = list(keeps_set)"
   ]
  },
  {
   "cell_type": "code",
   "execution_count": 9,
   "id": "1d14f3f1",
   "metadata": {},
   "outputs": [
    {
     "name": "stdout",
     "output_type": "stream",
     "text": [
      "best params:  {'alpha': 0.01, 'l1_ratio': 0.5, 'tol': 0.1}\n",
      "score:  0.9325723379337563\n",
      "  \n",
      "test score:  0.9202996016024988\n",
      "adj_r2:  0.9240533660997394\n",
      "  \n",
      "adj_r2_test:  0.8920370489792714\n",
      " \n",
      "train RMSE: 0.0980156868205935\n",
      "  \n",
      "test RMSE: 0.10521691891504273\n",
      "                                              features      coef   abs_val\n",
      "0                                         bc_GrLivArea  0.142141  0.142141\n",
      "1                                          OverallQual  0.079042  0.079042\n",
      "2                                          GarageYrBlt  0.052978  0.052978\n",
      "3                                      log_OpenPorchSF  0.043930  0.043930\n",
      "4                                          OverallCond  0.041340  0.041340\n",
      "5                                      yeo_TotalBsmtSF  0.039010  0.039010\n",
      "6                                        has_openporch -0.036435  0.036435\n",
      "7         Neighborhood_NoRidge_NridgHt_Veenker_StoneBr  0.035461  0.035461\n",
      "8                                           bc_LotArea  0.032794  0.032794\n",
      "9                                           Fireplaces  0.023768  0.023768\n",
      "10                                         KitchenQual  0.023473  0.023473\n",
      "11                                        BsmtFullBath  0.020733  0.020733\n",
      "12                                           HeatingQC  0.019285  0.019285\n",
      "13                         Neighborhood_Somerst_Timber  0.017560  0.017560\n",
      "14                                        BsmtFinType1  0.016386  0.016386\n",
      "15                                        BsmtExposure  0.016012  0.016012\n",
      "16                                         MSZoning_RM -0.013470  0.013470\n",
      "17                                          house_age_ -0.012285  0.012285\n",
      "18                                        CentralAir_Y  0.012229  0.012229\n",
      "19                                          Functional  0.011768  0.011768\n",
      "20                Neighborhood_ClearCr_CollgCr_Crawfor  0.011395  0.011395\n",
      "21                                SaleCondition_Family -0.010373  0.010373\n",
      "22                                     Condition1_Norm  0.009484  0.009484\n",
      "23                                 Exterior1st_BrkFace  0.009324  0.009324\n",
      "24                                     MasVnrType_None -0.007850  0.007850\n",
      "25                                         ScreenPorch  0.007366  0.007366\n",
      "26                                       MSSubClass_20  0.006995  0.006995\n",
      "27                                      MSSubClass_160 -0.005607  0.005607\n",
      "28                                        KitchenAbvGr -0.005287  0.005287\n",
      "29                               SaleCondition_Partial  0.004810  0.004810\n",
      "30                                       GarageType_No -0.004763  0.004763\n",
      "31                                     LandContour_HLS  0.004756  0.004756\n",
      "32                                   GarageType_Detchd -0.004468  0.004468\n",
      "33                                       MSSubClass_85  0.004407  0.004407\n",
      "34                                          GarageCond  0.004267  0.004267\n",
      "35                                    Foundation_PConc  0.004131  0.004131\n",
      "36                                      BldgType_Twnhs -0.004034  0.004034\n",
      "37                                    Condition2_Feedr -0.003713  0.003713\n",
      "38                                     Condition1_PosN  0.003072  0.003072\n",
      "39                                        BedroomAbvGr -0.002933  0.002933\n",
      "40                                          GarageQual  0.002814  0.002814\n",
      "41                                      MSSubClass_190 -0.002333  0.002333\n",
      "42                                 Exterior1st_PreCast  0.002161  0.002161\n",
      "43                                        BsmtHalfBath  0.001947  0.001947\n",
      "44                                 Exterior2nd_PreCast  0.001910  0.001910\n",
      "45                                    GarageFinish_RFn -0.001672  0.001672\n",
      "46                                            MoSold_7  0.001572  0.001572\n",
      "47                                        PavedDrive_P -0.001442  0.001442\n",
      "48                                       MSSubClass_50 -0.001393  0.001393\n",
      "49                        Neighborhood_Mitchel_NPkVill  0.001043  0.001043\n",
      "50                                           LandSlope -0.000992  0.000992\n",
      "51                                        LowQualFinSF -0.000877  0.000877\n",
      "52                                      log_WoodDeckSF  0.000742  0.000742\n",
      "53                                     Condition1_PosA  0.000602  0.000602\n",
      "54                                   has_EnclosedPorch -0.000494  0.000494\n",
      "55                                 Exterior1st_MetalSd  0.000329  0.000329\n",
      "56                                   RoofStyle_Mansard -0.000153  0.000153\n",
      "57                                        has_basement -0.000137  0.000137\n",
      "58                                     has_miscfeature -0.000000  0.000000\n",
      "59                                  Exterior2nd_CBlock  0.000000  0.000000\n",
      "60                                       MSSubClass_60 -0.000000  0.000000\n",
      "61                                 Exterior1st_Plywood -0.000000  0.000000\n",
      "62                                   HouseStyle_1.5Unf  0.000000  0.000000\n",
      "63                                     Condition1_RRAe -0.000000  0.000000\n",
      "64                                  Exterior2nd_Stucco -0.000000  0.000000\n",
      "65                                SaleCondition_Normal  0.000000  0.000000\n",
      "66                                       LotConfig_FR3 -0.000000  0.000000\n",
      "67   Neighborhood_BrkSide_Edwards_Blueste_OldTown_I... -0.000000  0.000000\n",
      "68                                            MoSold_9 -0.000000  0.000000\n",
      "69                                    RoofMatl_WdShngl  0.000000  0.000000\n",
      "70                                     LandContour_Lvl -0.000000  0.000000\n",
      "71                                        BsmtFinType2 -0.000000  0.000000\n",
      "72                                     Foundation_Wood -0.000000  0.000000\n",
      "73                                 Exterior1st_HdBoard -0.000000  0.000000\n",
      "74                                            BsmtQual  0.000000  0.000000\n",
      "75                                            LotShape -0.000000  0.000000\n",
      "76                         Neighborhood_Gilbert_NWAmes  0.000000  0.000000\n",
      "77                                            MoSold_2 -0.000000  0.000000\n",
      "78                                          Fence_MnWw -0.000000  0.000000\n",
      "79                                   HouseStyle_1Story  0.000000  0.000000\n",
      "80                                      RoofStyle_Shed  0.000000  0.000000\n",
      "81                                     Condition1_RRAn -0.000000  0.000000\n",
      "82                                 Exterior1st_CemntBd -0.000000  0.000000\n",
      "83                                        TotRmsAbvGrd -0.000000  0.000000\n",
      "84                                   Exterior2nd_Stone  0.000000  0.000000\n",
      "85                                            MoSold_8  0.000000  0.000000\n",
      "86                                 Exterior1st_WdShing -0.000000  0.000000\n",
      "87                                           ExterQual  0.000000  0.000000\n",
      "88                                    Electrical_FuseP -0.000000  0.000000\n",
      "89                                 Exterior2nd_MetalSd  0.000000  0.000000\n",
      "90                                         FireplaceQu  0.000000  0.000000\n",
      "91                                           3SsnPorch  0.000000  0.000000\n",
      "92                                   LotConfig_CulDSac  0.000000  0.000000\n",
      "93                                    Utilities_NoSewr  0.000000  0.000000\n",
      "94                                            has_pool  0.000000  0.000000\n",
      "95                              years_since_remodeled_ -0.000000  0.000000\n",
      "96                                    RoofMatl_Tar&Grv  0.000000  0.000000\n",
      "97                                       RoofMatl_Roll -0.000000  0.000000\n",
      "98                                       MSSubClass_70  0.000000  0.000000\n",
      "99                                       MSSubClass_40 -0.000000  0.000000\n",
      "100                                   GarageFinish_Unf  0.000000  0.000000\n",
      "101                                    BldgType_Duplex -0.000000  0.000000\n",
      "102                                Exterior1st_VinylSd -0.000000  0.000000\n",
      "103                                  GarageType_Attchd -0.000000  0.000000\n",
      "104                                      RoofStyle_Hip  0.000000  0.000000\n",
      "105                                           Fence_No -0.000000  0.000000\n",
      "106                                Exterior2nd_HdBoard  0.000000  0.000000\n",
      "107                                Exterior2nd_VinylSd -0.000000  0.000000\n",
      "108                                       PavedDrive_Y  0.000000  0.000000\n",
      "109                                       Heating_OthW -0.000000  0.000000\n",
      "110                                      LotConfig_FR2 -0.000000  0.000000\n",
      "111                                          MoSold_12 -0.000000  0.000000\n",
      "112                                    GarageFinish_No -0.000000  0.000000\n",
      "113                                  HouseStyle_2.5Unf  0.000000  0.000000\n",
      "114                                    Condition2_Norm -0.000000  0.000000\n",
      "115                                  HouseStyle_SFoyer  0.000000  0.000000\n",
      "116                                Exterior1st_Wd Sdng -0.000000  0.000000\n",
      "117                                Exterior2nd_Brk Cmn  0.000000  0.000000\n",
      "118                                   Electrical_FuseF  0.000000  0.000000\n",
      "119                                       alley_access -0.000000  0.000000\n",
      "120                                 MasVnrType_BrkFace -0.000000  0.000000\n",
      "121                                      MSSubClass_90 -0.000000  0.000000\n",
      "122                                    Foundation_Slab  0.000000  0.000000\n",
      "123                                Exterior2nd_AsphShn  0.000000  0.000000\n",
      "124                                        MSZoning_RH -0.000000  0.000000\n",
      "125                                      MSSubClass_80  0.000000  0.000000\n",
      "126                                 Exterior1st_CBlock -0.000000  0.000000\n",
      "127                                 Exterior1st_Stucco -0.000000  0.000000\n",
      "128                                   RoofMatl_Membran  0.000000  0.000000\n",
      "129                                        Street_Pave  0.000000  0.000000\n",
      "130                                        Fence_MnPrv -0.000000  0.000000\n",
      "131                                Exterior2nd_Wd Sdng -0.000000  0.000000\n",
      "132                                           2ndFlrSF  0.000000  0.000000\n",
      "133                                   Condition1_Feedr -0.000000  0.000000\n",
      "134                                Exterior2nd_ImStucc  0.000000  0.000000\n",
      "135                                    LandContour_Low  0.000000  0.000000\n",
      "136                                           MoSold_4 -0.000000  0.000000\n",
      "137                                       Heating_Wall  0.000000  0.000000\n",
      "138                                    Condition2_PosA  0.000000  0.000000\n",
      "139                                Exterior2nd_Wd Shng -0.000000  0.000000\n",
      "140                                           MoSold_5  0.000000  0.000000\n",
      "141                                    Condition2_PosN  0.000000  0.000000\n",
      "142                                          MoSold_11 -0.000000  0.000000\n",
      "143                                 GarageType_CarPort  0.000000  0.000000\n",
      "144                                   MasVnrType_Stone -0.000000  0.000000\n",
      "145                                Exterior2nd_BrkFace  0.000000  0.000000\n",
      "146                             has_finsished_basement -0.000000  0.000000\n",
      "147                                         Fence_GdWo  0.000000  0.000000\n",
      "148                                  HouseStyle_2Story -0.000000  0.000000\n",
      "149                                      MSSubClass_30  0.000000  0.000000\n",
      "150                                Exterior2nd_CmentBd -0.000000  0.000000\n",
      "151                                    Condition1_RRNe  0.000000  0.000000\n",
      "152                                           MoSold_6  0.000000  0.000000\n",
      "153                                           FullBath -0.000000  0.000000\n",
      "154                                  Foundation_CBlock -0.000000  0.000000\n",
      "155                                 GarageType_BuiltIn  0.000000  0.000000\n",
      "156                                 GarageType_Basment -0.000000  0.000000\n",
      "157                Neighborhood_Greens_SawyerW_Blmngtn -0.000000  0.000000\n",
      "158                                      MSSubClass_75  0.000000  0.000000\n",
      "159                              SaleCondition_AdjLand -0.000000  0.000000\n",
      "160                               Neighborhood_SawyerW -0.000000  0.000000\n",
      "161                                Exterior1st_AsphShn  0.000000  0.000000\n",
      "162                                    BldgType_TwnhsE -0.000000  0.000000\n",
      "163                                Exterior1st_ImStucc  0.000000  0.000000\n",
      "164                    Neighborhood_NAmes_SWISU_Sawyer -0.000000  0.000000\n",
      "165                                     has_wood_deck   0.000000  0.000000\n",
      "166                                   Electrical_SBrkr  0.000000  0.000000\n",
      "167                                        MSZoning_RL  0.000000  0.000000\n",
      "168                                    BldgType_2fmCon -0.000000  0.000000\n",
      "169                                    Condition2_RRAn -0.000000  0.000000\n",
      "170                                      MSSubClass_45  0.000000  0.000000\n",
      "171                                    Condition2_RRNn  0.000000  0.000000\n",
      "172                                    RoofStyle_Gable -0.000000  0.000000\n",
      "173                                           HalfBath  0.000000  0.000000\n",
      "174                                   Foundation_Stone  0.000000  0.000000\n",
      "175                                   LotConfig_Inside  0.000000  0.000000\n",
      "176                                    HouseStyle_SLvl  0.000000  0.000000\n",
      "177                                     log_MasVnrArea  0.000000  0.000000\n",
      "178                                          MoSold_10 -0.000000  0.000000\n",
      "179                                     MSSubClass_180 -0.000000  0.000000\n",
      "180                                  HouseStyle_2.5Fin -0.000000  0.000000\n",
      "181                                           MoSold_3 -0.000000  0.000000\n",
      "182                                  RoofStyle_Gambrel -0.000000  0.000000\n",
      "183                                   Electrical_Mixed  0.000000  0.000000\n",
      "184                                  log_EnclosedPorch -0.000000  0.000000\n",
      "185                                           PoolArea  0.000000  0.000000\n",
      "186                                     RoofMatl_Metal  0.000000  0.000000\n",
      "187                                          ExterCond  0.000000  0.000000\n",
      "188                                            MiscVal -0.000000  0.000000\n",
      "189                                Exterior1st_BrkComm  0.000000  0.000000\n",
      "190                                       Heating_GasA  0.000000  0.000000\n",
      "191                                Exterior2nd_Plywood -0.000000  0.000000\n",
      "192                                    Condition1_RRNn  0.000000  0.000000\n",
      "193                                    Condition2_RRAe  0.000000  0.000000\n",
      "194                                   RoofMatl_WdShake  0.000000  0.000000\n",
      "195                                       Heating_GasW  0.000000  0.000000\n",
      "196                                           BsmtCond  0.000000  0.000000\n",
      "197                                       Heating_Grav -0.000000  0.000000\n",
      "198                               SaleCondition_Alloca -0.000000  0.000000\n",
      "199                                     MSSubClass_150 -0.000000  0.000000\n",
      " \n",
      "skewness:  -0.38271459277668596\n",
      " \n",
      "model_importances.shape:  (200, 3)\n"
     ]
    },
    {
     "data": {
      "image/png": "[encoded data removed]",
      "text/plain": [
       "<Figure size 432x288 with 1 Axes>"
      ]
     },
     "metadata": {},
     "output_type": "display_data"
    }
   ],
   "source": [
    "##### 'l1_ratio':[0,0.25,0.5,0.75,1]\n",
    "elast1 = regx3(model= ElasticNet(max_iter=80000), #max_iter=10000000000000\n",
    "x_train = model_vars_data[keeps],\n",
    "x_test = test_vars_data[keeps],\n",
    "y_train = np.log(price_train.SalePrice),\n",
    "y_test = np.log(price_test.SalePrice),\n",
    "params = {'alpha':[0.00001,0.0001, 0.001, 0.01, 0.1, 1, 10],'l1_ratio':[0.25,0.5,0.75,1],'tol':[0.1]},\n",
    "cv_ = 5,\n",
    "linear_reg = True,\n",
    "tree_based = False)"
   ]
  },
  {
   "cell_type": "code",
   "execution_count": 10,
   "id": "b37aa69f",
   "metadata": {},
   "outputs": [
    {
     "data": {
      "text/plain": [
       "<AxesSubplot:ylabel='Density'>"
      ]
     },
     "execution_count": 10,
     "metadata": {},
     "output_type": "execute_result"
    },
    {
     "data": {
      "image/png": "[encoded data removed]",
      "text/plain": [
       "<Figure size 432x288 with 1 Axes>"
      ]
     },
     "metadata": {},
     "output_type": "display_data"
    }
   ],
   "source": [
    "elast1['model_importances'].plot.kde() #0.03"
   ]
  },
  {
   "cell_type": "code",
   "execution_count": 11,
   "id": "37d69686",
   "metadata": {},
   "outputs": [
    {
     "data": {
      "text/plain": [
       "<AxesSubplot:ylabel='Density'>"
      ]
     },
     "execution_count": 11,
     "metadata": {},
     "output_type": "execute_result"
    },
    {
     "data": {
      "image/png": "[encoded data removed]",
      "text/plain": [
       "<Figure size 432x288 with 1 Axes>"
      ]
     },
     "metadata": {},
     "output_type": "display_data"
    }
   ],
   "source": [
    "elast1['model_importances'].plot.kde(y='abs_val',xlim=[0.0,0.025]) "
   ]
  },
  {
   "cell_type": "code",
   "execution_count": 12,
   "id": "7ca674d4",
   "metadata": {},
   "outputs": [
    {
     "data": {
      "text/plain": [
       "<AxesSubplot:ylabel='Density'>"
      ]
     },
     "execution_count": 12,
     "metadata": {},
     "output_type": "execute_result"
    },
    {
     "data": {
      "image/png": "[encoded data removed]",
      "text/plain": [
       "<Figure size 432x288 with 1 Axes>"
      ]
     },
     "metadata": {},
     "output_type": "display_data"
    }
   ],
   "source": [
    "elast1['model_importances'].plot.kde(y='abs_val',xlim=[0.0,0.010]) #drop > 0.003"
   ]
  },
  {
   "cell_type": "code",
   "execution_count": 13,
   "id": "47c0d870",
   "metadata": {},
   "outputs": [
    {
     "data": {
      "text/plain": [
       "<AxesSubplot:ylabel='Density'>"
      ]
     },
     "execution_count": 13,
     "metadata": {},
     "output_type": "execute_result"
    },
    {
     "data": {
      "image/png": "[encoded data removed]",
      "text/plain": [
       "<Figure size 432x288 with 1 Axes>"
      ]
     },
     "metadata": {},
     "output_type": "display_data"
    }
   ],
   "source": [
    "elast1['model_importances'].plot.kde(y='abs_val',xlim=[0.0,0.004]) #0.0005"
   ]
  },
  {
   "cell_type": "code",
   "execution_count": 14,
   "id": "4453abef",
   "metadata": {},
   "outputs": [],
   "source": [
    "\n",
    "keeps = to_keep(elast1,0.0005)"
   ]
  },
  {
   "cell_type": "code",
   "execution_count": 15,
   "id": "07e8a9d5",
   "metadata": {},
   "outputs": [],
   "source": [
    "# np.arange(0, 1, 0.01)"
   ]
  },
  {
   "cell_type": "code",
   "execution_count": 16,
   "id": "eff6473a",
   "metadata": {},
   "outputs": [
    {
     "name": "stdout",
     "output_type": "stream",
     "text": [
      "best params:  {'alpha': 0.01, 'l1_ratio': 0.1, 'tol': 0.1}\n",
      "score:  0.9353377102890922\n",
      "  \n",
      "test score:  0.9220741179069171\n",
      "adj_r2:  0.9333181824438701\n",
      "  \n",
      "adj_r2_test:  0.9161473606773023\n",
      " \n",
      "train RMSE: 0.09598471422842911\n",
      "  \n",
      "test RMSE: 0.10403900677767612\n",
      "                                        features      coef   abs_val\n",
      "0                                   bc_GrLivArea  0.140164  0.140164\n",
      "1                                    OverallQual  0.084574  0.084574\n",
      "2                                    GarageYrBlt  0.053426  0.053426\n",
      "3                                yeo_TotalBsmtSF  0.045600  0.045600\n",
      "4                                    OverallCond  0.040474  0.040474\n",
      "5                                     bc_LotArea  0.038573  0.038573\n",
      "6   Neighborhood_NoRidge_NridgHt_Veenker_StoneBr  0.034666  0.034666\n",
      "7                                     Fireplaces  0.024558  0.024558\n",
      "8                                    KitchenQual  0.021099  0.021099\n",
      "9                                   BsmtFullBath  0.020694  0.020694\n",
      "10                   Neighborhood_Somerst_Timber  0.019998  0.019998\n",
      "11                                     HeatingQC  0.019207  0.019207\n",
      "12                                    house_age_ -0.016397  0.016397\n",
      "13                                   MSZoning_RM -0.016391  0.016391\n",
      "14                                    Functional  0.016041  0.016041\n",
      "15          Neighborhood_ClearCr_CollgCr_Crawfor  0.015106  0.015106\n",
      "16                                  BsmtFinType1  0.015093  0.015093\n",
      "17                               Condition1_Norm  0.014883  0.014883\n",
      "18                          SaleCondition_Family -0.013857  0.013857\n",
      "19                                  BsmtExposure  0.012712  0.012712\n",
      "20                           Exterior1st_BrkFace  0.011536  0.011536\n",
      "21                               log_OpenPorchSF  0.010113  0.010113\n",
      "22                                   ScreenPorch  0.009969  0.009969\n",
      "23                         SaleCondition_Partial  0.009557  0.009557\n",
      "24                                  CentralAir_Y  0.009318  0.009318\n",
      "25                                 GarageType_No -0.007970  0.007970\n",
      "26                               Condition1_PosN  0.007861  0.007861\n",
      "27                                 MSSubClass_85  0.007482  0.007482\n",
      "28                                    GarageCond  0.007260  0.007260\n",
      "29                               LandContour_HLS  0.007258  0.007258\n",
      "30                           Exterior1st_PreCast  0.007173  0.007173\n",
      "31                                  KitchenAbvGr -0.006792  0.006792\n",
      "32                                  BedroomAbvGr -0.006785  0.006785\n",
      "33                              GarageFinish_RFn -0.006680  0.006680\n",
      "34                               Condition1_PosA  0.005994  0.005994\n",
      "35                                BldgType_Twnhs -0.005848  0.005848\n",
      "36                                MSSubClass_160 -0.005783  0.005783\n",
      "37                              Condition2_Feedr -0.005704  0.005704\n",
      "38                                  BsmtHalfBath  0.005158  0.005158\n",
      "39                                      MoSold_7  0.004760  0.004760\n",
      "40                  Neighborhood_Mitchel_NPkVill  0.004751  0.004751\n",
      "41                                  PavedDrive_P -0.004706  0.004706\n",
      "42                                 MSSubClass_20  0.004268  0.004268\n",
      "43                                    GarageQual -0.003849  0.003849\n",
      "44                                  LowQualFinSF -0.003730  0.003730\n",
      "45                                     LandSlope -0.003039  0.003039\n",
      "46                               MasVnrType_None -0.002253  0.002253\n",
      "47                              Foundation_PConc -0.001904  0.001904\n",
      "48                                MSSubClass_190 -0.001616  0.001616\n",
      "49                           Exterior2nd_PreCast  0.000384  0.000384\n",
      "50                                 MSSubClass_50 -0.000000  0.000000\n",
      "51                                 has_openporch -0.000000  0.000000\n",
      "52                             GarageType_Detchd  0.000000  0.000000\n",
      "53                                log_WoodDeckSF  0.000000  0.000000\n",
      " \n",
      "skewness:  -0.40588130737118777\n",
      " \n",
      "model_importances.shape:  (54, 3)\n"
     ]
    },
    {
     "data": {
      "image/png": "[encoded data removed]",
      "text/plain": [
       "<Figure size 432x288 with 1 Axes>"
      ]
     },
     "metadata": {},
     "output_type": "display_data"
    }
   ],
   "source": [
    "elast2 = regx3(model= ElasticNet(max_iter=40000), #max_iter=10000000000000\n",
    "x_train = model_vars_data[keeps],\n",
    "x_test = test_vars_data[keeps],\n",
    "y_train = np.log(price_train.SalePrice),\n",
    "y_test = np.log(price_test.SalePrice),\n",
    "params = {'alpha':[0.00001,0.0001, 0.001, 0.01, 0.1, 1, 10],'l1_ratio':[0.1,0.25,0.5,0.75,1],'tol':[0.1]},cv_ = 5,\n",
    "linear_reg = True,\n",
    "tree_based = False)"
   ]
  },
  {
   "cell_type": "code",
   "execution_count": 17,
   "id": "ad7f1661",
   "metadata": {},
   "outputs": [],
   "source": [
    "keeps = to_keep(elast2,0.00003,)"
   ]
  },
  {
   "cell_type": "code",
   "execution_count": 18,
   "id": "444c6d80",
   "metadata": {},
   "outputs": [
    {
     "name": "stdout",
     "output_type": "stream",
     "text": [
      "best params:  {'alpha': 0.01, 'l1_ratio': 0.1, 'tol': 0.1}\n",
      "score:  0.9358528066669153\n",
      "  \n",
      "test score:  0.922610140279871\n",
      "adj_r2:  0.9340020509446681\n",
      "  \n",
      "adj_r2_test:  0.9171906823162765\n",
      " \n",
      "train RMSE: 0.09560164524933214\n",
      "  \n",
      "test RMSE: 0.10368056703067009\n",
      "                                        features      coef   abs_val\n",
      "0                                   bc_GrLivArea  0.140394  0.140394\n",
      "1                                    OverallQual  0.083917  0.083917\n",
      "2                                    GarageYrBlt  0.049774  0.049774\n",
      "3                                yeo_TotalBsmtSF  0.046092  0.046092\n",
      "4                                     bc_LotArea  0.043554  0.043554\n",
      "5                                    OverallCond  0.041795  0.041795\n",
      "6   Neighborhood_NoRidge_NridgHt_Veenker_StoneBr  0.035005  0.035005\n",
      "7                                     Fireplaces  0.025777  0.025777\n",
      "8                                     house_age_ -0.024803  0.024803\n",
      "9                                    KitchenQual  0.022535  0.022535\n",
      "10                                  BsmtFullBath  0.021725  0.021725\n",
      "11                   Neighborhood_Somerst_Timber  0.021035  0.021035\n",
      "12                                     HeatingQC  0.019835  0.019835\n",
      "13                                    Functional  0.016631  0.016631\n",
      "14          Neighborhood_ClearCr_CollgCr_Crawfor  0.015067  0.015067\n",
      "15                               Condition1_Norm  0.014952  0.014952\n",
      "16                          SaleCondition_Family -0.014268  0.014268\n",
      "17                                  BsmtFinType1  0.012834  0.012834\n",
      "18                                   MSZoning_RM -0.012616  0.012616\n",
      "19                           Exterior1st_BrkFace  0.011058  0.011058\n",
      "20                                  BsmtExposure  0.010647  0.010647\n",
      "21                                   ScreenPorch  0.009951  0.009951\n",
      "22                         SaleCondition_Partial  0.009119  0.009119\n",
      "23                                 MSSubClass_85  0.008147  0.008147\n",
      "24                               Condition1_PosN  0.007727  0.007727\n",
      "25                               LandContour_HLS  0.007558  0.007558\n",
      "26                                  CentralAir_Y  0.007437  0.007437\n",
      "27                                  BedroomAbvGr -0.006782  0.006782\n",
      "28                                  KitchenAbvGr -0.006626  0.006626\n",
      "29                                 GarageType_No -0.005817  0.005817\n",
      "30                               Condition1_PosA  0.005814  0.005814\n",
      "31                                    GarageCond  0.005557  0.005557\n",
      "32                                MSSubClass_160 -0.005556  0.005556\n",
      "33                           Exterior1st_PreCast  0.005455  0.005455\n",
      "34                                  BsmtHalfBath  0.005344  0.005344\n",
      "35                              Condition2_Feedr -0.005217  0.005217\n",
      "36                              GarageFinish_RFn -0.004909  0.004909\n",
      "37                                  PavedDrive_P -0.004625  0.004625\n",
      "38                                      MoSold_7  0.004592  0.004592\n",
      "39                  Neighborhood_Mitchel_NPkVill  0.004562  0.004562\n",
      "40                                  LowQualFinSF -0.003921  0.003921\n",
      "41                                 MSSubClass_20  0.003919  0.003919\n",
      "42                                BldgType_Twnhs -0.003250  0.003250\n",
      "43                                     LandSlope -0.002573  0.002573\n",
      "44                           Exterior2nd_PreCast  0.002156  0.002156\n",
      "45                                MSSubClass_190 -0.001829  0.001829\n",
      "46                               log_OpenPorchSF  0.001343  0.001343\n",
      "47                              Foundation_PConc -0.000831  0.000831\n",
      "48                               MasVnrType_None -0.000770  0.000770\n",
      "49                                    GarageQual -0.000000  0.000000\n",
      " \n",
      "skewness:  -0.415108952277178\n",
      " \n",
      "model_importances.shape:  (50, 3)\n"
     ]
    },
    {
     "data": {
      "image/png": "[encoded data removed]",
      "text/plain": [
       "<Figure size 432x288 with 1 Axes>"
      ]
     },
     "metadata": {},
     "output_type": "display_data"
    }
   ],
   "source": [
    "elast3 = regx3(model= ElasticNet(max_iter=40000), #max_iter=10000000000000\n",
    "x_train = model_vars_data[keeps],\n",
    "x_test = test_vars_data[keeps],\n",
    "y_train = np.log(price_train.SalePrice),\n",
    "y_test = np.log(price_test.SalePrice),\n",
    "params = {'alpha':[0.00001,0.0001, 0.001, 0.01, 0.1, 1, 10],'l1_ratio':[0.1,0.25,0.5,0.75,1],'tol':[0.1]},cv_ = 5,\n",
    "linear_reg = True,\n",
    "tree_based = False)"
   ]
  },
  {
   "cell_type": "code",
   "execution_count": 19,
   "id": "e4758147",
   "metadata": {},
   "outputs": [],
   "source": [
    "keeps = to_keep(elast3,0.0001)"
   ]
  },
  {
   "cell_type": "code",
   "execution_count": 20,
   "id": "2f7642e9",
   "metadata": {},
   "outputs": [
    {
     "name": "stdout",
     "output_type": "stream",
     "text": [
      "best params:  {'alpha': 0.01, 'l1_ratio': 0.25, 'tol': 0.1}\n",
      "score:  0.9356136973826609\n",
      "  \n",
      "test score:  0.924760796403958\n",
      "adj_r2:  0.9337942459246161\n",
      "  \n",
      "adj_r2_test:  0.9196045432903831\n",
      " \n",
      "train RMSE: 0.09577965754715388\n",
      "  \n",
      "test RMSE: 0.102229780646121\n",
      "                                        features      coef   abs_val\n",
      "0                                   bc_GrLivArea  0.136043  0.136043\n",
      "1                                    OverallQual  0.083314  0.083314\n",
      "2                                yeo_TotalBsmtSF  0.049244  0.049244\n",
      "3                                     bc_LotArea  0.045430  0.045430\n",
      "4                                    OverallCond  0.044848  0.044848\n",
      "5                                     house_age_ -0.042945  0.042945\n",
      "6                                    GarageYrBlt  0.040338  0.040338\n",
      "7   Neighborhood_NoRidge_NridgHt_Veenker_StoneBr  0.032789  0.032789\n",
      "8                                     Fireplaces  0.026632  0.026632\n",
      "9                                   BsmtFullBath  0.020114  0.020114\n",
      "10                                   KitchenQual  0.019050  0.019050\n",
      "11                   Neighborhood_Somerst_Timber  0.017567  0.017567\n",
      "12                                     HeatingQC  0.016188  0.016188\n",
      "13                                    Functional  0.014775  0.014775\n",
      "14                               Condition1_Norm  0.013155  0.013155\n",
      "15          Neighborhood_ClearCr_CollgCr_Crawfor  0.013055  0.013055\n",
      "16                          SaleCondition_Family -0.012915  0.012915\n",
      "17                                  BsmtFinType1  0.012296  0.012296\n",
      "18                                  BsmtExposure  0.010500  0.010500\n",
      "19                           Exterior1st_BrkFace  0.010397  0.010397\n",
      "20                                   MSZoning_RM -0.009769  0.009769\n",
      "21                                  KitchenAbvGr -0.008959  0.008959\n",
      "22                                   ScreenPorch  0.008952  0.008952\n",
      "23                         SaleCondition_Partial  0.008139  0.008139\n",
      "24                               LandContour_HLS  0.007093  0.007093\n",
      "25                               Condition1_PosN  0.005986  0.005986\n",
      "26                                 MSSubClass_85  0.005973  0.005973\n",
      "27                                  CentralAir_Y  0.005970  0.005970\n",
      "28                                 GarageType_No -0.005854  0.005854\n",
      "29                           Exterior1st_PreCast  0.005572  0.005572\n",
      "30                                    GarageCond  0.004566  0.004566\n",
      "31                                MSSubClass_160 -0.004359  0.004359\n",
      "32                               Condition1_PosA  0.003988  0.003988\n",
      "33                                  BedroomAbvGr -0.003969  0.003969\n",
      "34                              Condition2_Feedr -0.003765  0.003765\n",
      "35                                BldgType_Twnhs -0.003560  0.003560\n",
      "36                                  BsmtHalfBath  0.003069  0.003069\n",
      "37                                      MoSold_7  0.003047  0.003047\n",
      "38                              GarageFinish_RFn -0.002791  0.002791\n",
      "39                                  PavedDrive_P -0.002491  0.002491\n",
      "40                  Neighborhood_Mitchel_NPkVill  0.002252  0.002252\n",
      "41                                  LowQualFinSF -0.001510  0.001510\n",
      "42                                     LandSlope -0.001326  0.001326\n",
      "43                                MSSubClass_190 -0.000722  0.000722\n",
      "44                                 MSSubClass_20  0.000379  0.000379\n",
      "45                           Exterior2nd_PreCast  0.000238  0.000238\n",
      "46                               log_OpenPorchSF  0.000000  0.000000\n",
      "47                              Foundation_PConc  0.000000  0.000000\n",
      "48                               MasVnrType_None -0.000000  0.000000\n",
      " \n",
      "skewness:  -0.41059935589166163\n",
      " \n",
      "model_importances.shape:  (49, 3)\n"
     ]
    },
    {
     "data": {
      "image/png": "[encoded data removed]",
      "text/plain": [
       "<Figure size 432x288 with 1 Axes>"
      ]
     },
     "metadata": {},
     "output_type": "display_data"
    }
   ],
   "source": [
    "elast4 = regx3(model= ElasticNet(max_iter=40000), #max_iter=10000000000000\n",
    "x_train = model_vars_data[keeps],\n",
    "x_test = test_vars_data[keeps],\n",
    "y_train = np.log(price_train.SalePrice),\n",
    "y_test = np.log(price_test.SalePrice),\n",
    "params = {'alpha':[0.00001,0.0001, 0.001, 0.01, 0.1, 1, 10],'l1_ratio':[0.1,0.25,0.5,0.75,1],'tol':[0.1]},cv_ = 5,\n",
    "linear_reg = True,\n",
    "tree_based = False)"
   ]
  },
  {
   "cell_type": "code",
   "execution_count": 21,
   "id": "55c9380a",
   "metadata": {},
   "outputs": [],
   "source": [
    "keeps = to_keep(elast4,0.0003)"
   ]
  },
  {
   "cell_type": "code",
   "execution_count": 22,
   "id": "db88abe3",
   "metadata": {},
   "outputs": [
    {
     "name": "stdout",
     "output_type": "stream",
     "text": [
      "best params:  {'alpha': 0.01, 'l1_ratio': 0.1, 'tol': 0.1}\n",
      "score:  0.9352822948245355\n",
      "  \n",
      "test score:  0.9242698062236049\n",
      "adj_r2:  0.9336066350242502\n",
      "  \n",
      "adj_r2_test:  0.9195300861680586\n",
      " \n",
      "train RMSE: 0.09602583478292677\n",
      "  \n",
      "test RMSE: 0.10256279983299427\n",
      "                                        features      coef   abs_val\n",
      "0                                   bc_GrLivArea  0.154290  0.154290\n",
      "1                                    OverallQual  0.090986  0.090986\n",
      "2                                     house_age_ -0.078574  0.078574\n",
      "3                                    OverallCond  0.053237  0.053237\n",
      "4                                     bc_LotArea  0.046700  0.046700\n",
      "5                                yeo_TotalBsmtSF  0.046522  0.046522\n",
      "6   Neighborhood_NoRidge_NridgHt_Veenker_StoneBr  0.028988  0.028988\n",
      "7                                   BsmtFullBath  0.024426  0.024426\n",
      "8                                     Fireplaces  0.020597  0.020597\n",
      "9                                    GarageYrBlt  0.017390  0.017390\n",
      "10                   Neighborhood_Somerst_Timber  0.016318  0.016318\n",
      "11                                    Functional  0.016079  0.016079\n",
      "12                               Condition1_Norm  0.014512  0.014512\n",
      "13                          SaleCondition_Family -0.014278  0.014278\n",
      "14                                  BedroomAbvGr -0.013892  0.013892\n",
      "15                                     HeatingQC  0.013789  0.013789\n",
      "16                                   KitchenQual  0.012819  0.012819\n",
      "17          Neighborhood_ClearCr_CollgCr_Crawfor  0.012157  0.012157\n",
      "18                           Exterior1st_BrkFace  0.011717  0.011717\n",
      "19                                 MSSubClass_85  0.009831  0.009831\n",
      "20                                   ScreenPorch  0.009761  0.009761\n",
      "21                                  KitchenAbvGr -0.008427  0.008427\n",
      "22                              GarageFinish_RFn -0.008037  0.008037\n",
      "23                                MSSubClass_160 -0.007795  0.007795\n",
      "24                               LandContour_HLS  0.007421  0.007421\n",
      "25                                  BsmtFinType1  0.007236  0.007236\n",
      "26                               Condition1_PosN  0.007130  0.007130\n",
      "27                           Exterior1st_PreCast  0.007063  0.007063\n",
      "28                         SaleCondition_Partial  0.006922  0.006922\n",
      "29                                    GarageCond  0.006381  0.006381\n",
      "30                                  BsmtHalfBath  0.006092  0.006092\n",
      "31                                  BsmtExposure  0.006001  0.006001\n",
      "32                              Condition2_Feedr -0.004788  0.004788\n",
      "33                                 MSSubClass_20  0.004662  0.004662\n",
      "34                                 GarageType_No -0.004427  0.004427\n",
      "35                                      MoSold_7  0.004151  0.004151\n",
      "36                                   MSZoning_RM -0.004055  0.004055\n",
      "37                                BldgType_Twnhs -0.003903  0.003903\n",
      "38                               Condition1_PosA  0.003890  0.003890\n",
      "39                  Neighborhood_Mitchel_NPkVill  0.002868  0.002868\n",
      "40                                     LandSlope -0.002776  0.002776\n",
      "41                                  CentralAir_Y  0.002733  0.002733\n",
      "42                                  PavedDrive_P -0.002059  0.002059\n",
      "43                                  LowQualFinSF -0.001509  0.001509\n",
      "44                                MSSubClass_190 -0.000579  0.000579\n",
      " \n",
      "skewness:  -0.2909456783972446\n",
      " \n",
      "model_importances.shape:  (45, 3)\n"
     ]
    },
    {
     "data": {
      "image/png": "[encoded data removed]",
      "text/plain": [
       "<Figure size 432x288 with 1 Axes>"
      ]
     },
     "metadata": {},
     "output_type": "display_data"
    }
   ],
   "source": [
    "elast5 = regx3(model= ElasticNet(max_iter=40000), #max_iter=10000000000000\n",
    "x_train = model_vars_data[keeps],\n",
    "x_test = test_vars_data[keeps],\n",
    "y_train = np.log(price_train.SalePrice),\n",
    "y_test = np.log(price_test.SalePrice),\n",
    "params = {'alpha':[0.00001,0.0001, 0.001, 0.01, 0.1, 1, 10],'l1_ratio':[0.1,0.25,0.5,0.75,1],'tol':[0.1]},cv_ = 5,\n",
    "linear_reg = True,\n",
    "tree_based = False)"
   ]
  },
  {
   "cell_type": "code",
   "execution_count": 23,
   "id": "94a36895",
   "metadata": {},
   "outputs": [
    {
     "data": {
      "text/plain": [
       "['SaleCondition_Family',\n",
       " 'Exterior1st_BrkFace',\n",
       " 'MSSubClass_85',\n",
       " 'MSSubClass_160',\n",
       " 'LandContour_HLS',\n",
       " 'Condition1_PosN',\n",
       " 'Exterior1st_PreCast',\n",
       " 'SaleCondition_Partial',\n",
       " 'Condition2_Feedr',\n",
       " 'BldgType_Twnhs',\n",
       " 'Condition1_PosA',\n",
       " 'PavedDrive_P',\n",
       " 'MSSubClass_190']"
      ]
     },
     "execution_count": 23,
     "metadata": {},
     "output_type": "execute_result"
    }
   ],
   "source": [
    "features5 = to_keep(elast5,0)\n",
    "dummies=[]\n",
    "for f in features5:\n",
    "    if model_vars_data[f].max() == 1:\n",
    "        dummies.append(f)\n",
    "\n",
    "\n",
    "dummy_drops = []\n",
    "for feature in dummies:\n",
    "    if round(model_vars_data[feature].mean(),2) < 0.05:\n",
    "        dummy_drops.append(feature)\n",
    "dummy_drops"
   ]
  },
  {
   "cell_type": "code",
   "execution_count": 24,
   "id": "2c6fa560",
   "metadata": {},
   "outputs": [],
   "source": [
    "#remove dummies with less than 5% coverage to reduce noise"
   ]
  },
  {
   "cell_type": "code",
   "execution_count": 25,
   "id": "1b372732",
   "metadata": {},
   "outputs": [],
   "source": [
    "keep_set = set(features5) - set(dummy_drops)\n",
    "keeps = list(keep_set)"
   ]
  },
  {
   "cell_type": "code",
   "execution_count": 26,
   "id": "c404268d",
   "metadata": {},
   "outputs": [
    {
     "name": "stdout",
     "output_type": "stream",
     "text": [
      "best params:  {'alpha': 0.01, 'l1_ratio': 0.1, 'tol': 0.1}\n",
      "score:  0.9298420027720047\n",
      "  \n",
      "test score:  0.9214132959092535\n",
      "adj_r2:  0.9285598463406536\n",
      "  \n",
      "adj_r2_test:  0.9179778115774175\n",
      " \n",
      "train RMSE: 0.09998045944356358\n",
      "  \n",
      "test RMSE: 0.10447920791628212\n",
      "                                        features      coef   abs_val\n",
      "0                                   bc_GrLivArea  0.144570  0.144570\n",
      "1                                    OverallQual  0.083196  0.083196\n",
      "2                                     house_age_ -0.065489  0.065489\n",
      "3                                yeo_TotalBsmtSF  0.046779  0.046779\n",
      "4                                    OverallCond  0.046113  0.046113\n",
      "5                                     bc_LotArea  0.044185  0.044185\n",
      "6   Neighborhood_NoRidge_NridgHt_Veenker_StoneBr  0.036255  0.036255\n",
      "7                                    KitchenQual  0.032054  0.032054\n",
      "8                                   BsmtFullBath  0.024525  0.024525\n",
      "9                    Neighborhood_Somerst_Timber  0.020994  0.020994\n",
      "10                                    Fireplaces  0.018962  0.018962\n",
      "11          Neighborhood_ClearCr_CollgCr_Crawfor  0.017659  0.017659\n",
      "12                                    Functional  0.017375  0.017375\n",
      "13                                  BsmtExposure  0.016196  0.016196\n",
      "14                                   MSZoning_RM -0.015858  0.015858\n",
      "15                                    GarageCond  0.013063  0.013063\n",
      "16                               Condition1_Norm  0.012365  0.012365\n",
      "17                                  CentralAir_Y  0.012320  0.012320\n",
      "18                                     HeatingQC  0.011371  0.011371\n",
      "19                                   ScreenPorch  0.010024  0.010024\n",
      "20                                  KitchenAbvGr -0.009139  0.009139\n",
      "21                                  BedroomAbvGr -0.008526  0.008526\n",
      "22                                  BsmtHalfBath  0.006174  0.006174\n",
      "23                                  BsmtFinType1  0.005727  0.005727\n",
      "24                  Neighborhood_Mitchel_NPkVill  0.004717  0.004717\n",
      "25                                      MoSold_7  0.004116  0.004116\n",
      "26                                 MSSubClass_20  0.003401  0.003401\n",
      "27                              GarageFinish_RFn -0.003379  0.003379\n",
      "28                                  LowQualFinSF -0.002816  0.002816\n",
      "29                                   GarageYrBlt  0.002369  0.002369\n",
      "30                                     LandSlope -0.002253  0.002253\n",
      "31                                 GarageType_No -0.001698  0.001698\n",
      " \n",
      "skewness:  -0.5115981399821161\n",
      " \n",
      "model_importances.shape:  (32, 3)\n"
     ]
    },
    {
     "data": {
      "image/png": "[encoded data removed]",
      "text/plain": [
       "<Figure size 432x288 with 1 Axes>"
      ]
     },
     "metadata": {},
     "output_type": "display_data"
    }
   ],
   "source": [
    "elast6 = regx3(model= ElasticNet(max_iter=40000), #max_iter=10000000000000\n",
    "x_train = model_vars_data[keeps],\n",
    "x_test = test_vars_data[keeps],\n",
    "y_train = np.log(price_train.SalePrice),\n",
    "y_test = np.log(price_test.SalePrice),\n",
    "params = {'alpha':[0.00001,0.0001, 0.001, 0.01, 0.1, 1, 10],'l1_ratio':[0.1,0.25,0.5,0.75,1],'tol':[0.1]},cv_ = 5,\n",
    "linear_reg = True,\n",
    "tree_based = False)"
   ]
  },
  {
   "cell_type": "code",
   "execution_count": 27,
   "id": "8f16880d",
   "metadata": {},
   "outputs": [],
   "source": [
    "keeps = to_keep(elast6,0.0003)"
   ]
  },
  {
   "cell_type": "code",
   "execution_count": 28,
   "id": "e2139fe1",
   "metadata": {},
   "outputs": [
    {
     "name": "stdout",
     "output_type": "stream",
     "text": [
      "best params:  {'alpha': 0.01, 'l1_ratio': 0.25, 'tol': 0.1}\n",
      "score:  0.9286937560249676\n",
      "  \n",
      "test score:  0.9223429626483216\n",
      "adj_r2:  0.9273906150728254\n",
      "  \n",
      "adj_r2_test:  0.9189481194854067\n",
      " \n",
      "train RMSE: 0.1007953081906239\n",
      "  \n",
      "test RMSE: 0.10385938413315637\n",
      "                                        features      coef   abs_val\n",
      "0                                   bc_GrLivArea  0.150567  0.150567\n",
      "1                                    OverallQual  0.091038  0.091038\n",
      "2                                     house_age_ -0.085952  0.085952\n",
      "3                                     bc_LotArea  0.051286  0.051286\n",
      "4                                    OverallCond  0.050899  0.050899\n",
      "5                                yeo_TotalBsmtSF  0.046395  0.046395\n",
      "6   Neighborhood_NoRidge_NridgHt_Veenker_StoneBr  0.027416  0.027416\n",
      "7                                   BsmtFullBath  0.020309  0.020309\n",
      "8                                    KitchenQual  0.019235  0.019235\n",
      "9                                     Fireplaces  0.019169  0.019169\n",
      "10                                     HeatingQC  0.016176  0.016176\n",
      "11                                    Functional  0.015019  0.015019\n",
      "12                   Neighborhood_Somerst_Timber  0.014792  0.014792\n",
      "13                                  BedroomAbvGr -0.014480  0.014480\n",
      "14                                    GarageCond  0.013718  0.013718\n",
      "15                                  BsmtExposure  0.013155  0.013155\n",
      "16          Neighborhood_ClearCr_CollgCr_Crawfor  0.011484  0.011484\n",
      "17                               Condition1_Norm  0.010734  0.010734\n",
      "18                                  BsmtFinType1  0.010523  0.010523\n",
      "19                                   MSZoning_RM -0.008985  0.008985\n",
      "20                                   ScreenPorch  0.008668  0.008668\n",
      "21                                  KitchenAbvGr -0.005749  0.005749\n",
      "22                              GarageFinish_RFn -0.004804  0.004804\n",
      "23                                  CentralAir_Y  0.004058  0.004058\n",
      "24                                 MSSubClass_20  0.003716  0.003716\n",
      "25                                  BsmtHalfBath  0.003367  0.003367\n",
      "26                                      MoSold_7  0.003127  0.003127\n",
      "27                  Neighborhood_Mitchel_NPkVill  0.001966  0.001966\n",
      "28                                   GarageYrBlt -0.000851  0.000851\n",
      "29                                  LowQualFinSF -0.000817  0.000817\n",
      "30                                     LandSlope -0.000606  0.000606\n",
      "31                                 GarageType_No -0.000000  0.000000\n",
      " \n",
      "skewness:  -0.4940386443277027\n",
      " \n",
      "model_importances.shape:  (32, 3)\n"
     ]
    },
    {
     "data": {
      "image/png": "[encoded data removed]",
      "text/plain": [
       "<Figure size 432x288 with 1 Axes>"
      ]
     },
     "metadata": {},
     "output_type": "display_data"
    }
   ],
   "source": [
    "elast7 = regx3(model= ElasticNet(max_iter=40000), #max_iter=10000000000000\n",
    "x_train = model_vars_data[keeps],\n",
    "x_test = test_vars_data[keeps],\n",
    "y_train = np.log(price_train.SalePrice),\n",
    "y_test = np.log(price_test.SalePrice),\n",
    "params = {'alpha':[0.00001,0.0001, 0.001, 0.01, 0.1, 1, 10],'l1_ratio':[0.1,0.25,0.5,0.75,1],'tol':[0.1]},cv_ = 5,\n",
    "linear_reg = True,\n",
    "tree_based = False)"
   ]
  },
  {
   "cell_type": "code",
   "execution_count": 29,
   "id": "03f9cf77",
   "metadata": {},
   "outputs": [],
   "source": [
    "keeps = to_keep(elast7,0) #change hyperparameter for l1_ratio"
   ]
  },
  {
   "cell_type": "code",
   "execution_count": 30,
   "id": "0f862d0d",
   "metadata": {},
   "outputs": [
    {
     "name": "stdout",
     "output_type": "stream",
     "text": [
      "best params:  {'alpha': 0.01, 'l1_ratio': 0.25, 'tol': 0.1}\n",
      "score:  0.9284000524944964\n",
      "  \n",
      "test score:  0.9220213802917122\n",
      "adj_r2:  0.9271331584461684\n",
      "  \n",
      "adj_r2_test:  0.9187235123367914\n",
      " \n",
      "train RMSE: 0.10100267794466587\n",
      "  \n",
      "test RMSE: 0.10407420587300364\n",
      "                                        features      coef   abs_val\n",
      "0                                   bc_GrLivArea  0.150458  0.150458\n",
      "1                                    OverallQual  0.092751  0.092751\n",
      "2                                     house_age_ -0.087086  0.087086\n",
      "3                                     bc_LotArea  0.053852  0.053852\n",
      "4                                    OverallCond  0.049620  0.049620\n",
      "5                                yeo_TotalBsmtSF  0.044170  0.044170\n",
      "6   Neighborhood_NoRidge_NridgHt_Veenker_StoneBr  0.025725  0.025725\n",
      "7                                   BsmtFullBath  0.023024  0.023024\n",
      "8                                     Fireplaces  0.019290  0.019290\n",
      "9                                    KitchenQual  0.018956  0.018956\n",
      "10                                     HeatingQC  0.017891  0.017891\n",
      "11                                    Functional  0.015887  0.015887\n",
      "12                                  BsmtExposure  0.014162  0.014162\n",
      "13                   Neighborhood_Somerst_Timber  0.013672  0.013672\n",
      "14                                    GarageCond  0.013636  0.013636\n",
      "15                                  BedroomAbvGr -0.013424  0.013424\n",
      "16                               Condition1_Norm  0.011324  0.011324\n",
      "17          Neighborhood_ClearCr_CollgCr_Crawfor  0.010306  0.010306\n",
      "18                                  BsmtFinType1  0.009174  0.009174\n",
      "19                                   ScreenPorch  0.008582  0.008582\n",
      "20                                  KitchenAbvGr -0.008229  0.008229\n",
      "21                                   MSZoning_RM -0.005911  0.005911\n",
      "22                              GarageFinish_RFn -0.005547  0.005547\n",
      "23                                 MSSubClass_20  0.004261  0.004261\n",
      "24                                  BsmtHalfBath  0.004011  0.004011\n",
      "25                                      MoSold_7  0.003148  0.003148\n",
      "26                  Neighborhood_Mitchel_NPkVill  0.002237  0.002237\n",
      "27                                  CentralAir_Y  0.002177  0.002177\n",
      "28                                   GarageYrBlt -0.001110  0.001110\n",
      "29                                  LowQualFinSF -0.000575  0.000575\n",
      "30                                     LandSlope -0.000026  0.000026\n",
      " \n",
      "skewness:  -0.49136186002536963\n",
      " \n",
      "model_importances.shape:  (31, 3)\n"
     ]
    },
    {
     "data": {
      "image/png": "[encoded data removed]",
      "text/plain": [
       "<Figure size 432x288 with 1 Axes>"
      ]
     },
     "metadata": {},
     "output_type": "display_data"
    }
   ],
   "source": [
    "elast8 = regx3(model= ElasticNet(max_iter=40000), #max_iter=10000000000000\n",
    "x_train = model_vars_data[keeps],\n",
    "x_test = test_vars_data[keeps],\n",
    "y_train = np.log(price_train.SalePrice),\n",
    "y_test = np.log(price_test.SalePrice),\n",
    "params = {'alpha':[0.00001,0.0001, 0.001, 0.01, 0.1, 1, 10],'l1_ratio':[0.001,0.01,0.1,0.25,0.5,0.75,1],'tol':[0.1]},cv_ = 5,\n",
    "linear_reg = True,\n",
    "tree_based = False)"
   ]
  },
  {
   "cell_type": "code",
   "execution_count": 31,
   "id": "cac0be12",
   "metadata": {},
   "outputs": [],
   "source": [
    "keeps = to_keep(elast8, 0.008)"
   ]
  },
  {
   "cell_type": "code",
   "execution_count": 32,
   "id": "5c877ce4",
   "metadata": {},
   "outputs": [
    {
     "name": "stdout",
     "output_type": "stream",
     "text": [
      "best params:  {'alpha': 0.01, 'l1_ratio': 0.1, 'tol': 0.1}\n",
      "score:  0.9266251649454196\n",
      "  \n",
      "test score:  0.9203912244466926\n",
      "adj_r2:  0.925750663506063\n",
      "  \n",
      "adj_r2_test:  0.9181411783005022\n",
      " \n",
      "train RMSE: 0.10224688965881329\n",
      "  \n",
      "test RMSE: 0.10515642332312446\n",
      "                                        features      coef   abs_val\n",
      "0                                   bc_GrLivArea  0.143924  0.143924\n",
      "1                                    OverallQual  0.091279  0.091279\n",
      "2                                     house_age_ -0.090928  0.090928\n",
      "3                                     bc_LotArea  0.060146  0.060146\n",
      "4                                    OverallCond  0.055110  0.055110\n",
      "5                                yeo_TotalBsmtSF  0.052578  0.052578\n",
      "6   Neighborhood_NoRidge_NridgHt_Veenker_StoneBr  0.027540  0.027540\n",
      "7                                     Fireplaces  0.022702  0.022702\n",
      "8                                   BsmtFullBath  0.022270  0.022270\n",
      "9                                      HeatingQC  0.016382  0.016382\n",
      "10                                    Functional  0.015876  0.015876\n",
      "11                   Neighborhood_Somerst_Timber  0.015790  0.015790\n",
      "12                                   KitchenQual  0.013865  0.013865\n",
      "13                                  BedroomAbvGr -0.013412  0.013412\n",
      "14                               Condition1_Norm  0.012858  0.012858\n",
      "15                                    GarageCond  0.012525  0.012525\n",
      "16          Neighborhood_ClearCr_CollgCr_Crawfor  0.011414  0.011414\n",
      "17                                  BsmtExposure  0.010726  0.010726\n",
      "18                                  KitchenAbvGr -0.009735  0.009735\n",
      "19                                   ScreenPorch  0.009649  0.009649\n",
      "20                                  BsmtFinType1  0.009133  0.009133\n",
      " \n",
      "skewness:  -0.4804993937543665\n",
      " \n",
      "model_importances.shape:  (21, 3)\n"
     ]
    },
    {
     "data": {
      "image/png": "[encoded data removed]",
      "text/plain": [
       "<Figure size 432x288 with 1 Axes>"
      ]
     },
     "metadata": {},
     "output_type": "display_data"
    }
   ],
   "source": [
    "elast9 = regx3(model= ElasticNet(max_iter=40000), #max_iter=10000000000000\n",
    "x_train = model_vars_data[keeps],\n",
    "x_test = test_vars_data[keeps],\n",
    "y_train = np.log(price_train.SalePrice),\n",
    "y_test = np.log(price_test.SalePrice),\n",
    "params = {'alpha':[0.00001,0.0001, 0.001, 0.01, 0.1, 1, 10],'l1_ratio':[0.001,0.01,0.1,0.25,0.5,0.75,1],'tol':[0.1]},cv_ = 5,\n",
    "linear_reg = True,\n",
    "tree_based = False)"
   ]
  },
  {
   "cell_type": "code",
   "execution_count": 33,
   "id": "bad58202",
   "metadata": {},
   "outputs": [],
   "source": [
    "keeps = to_keep(elast9, 0.01) "
   ]
  },
  {
   "cell_type": "code",
   "execution_count": 34,
   "id": "53ba9341",
   "metadata": {},
   "outputs": [
    {
     "name": "stdout",
     "output_type": "stream",
     "text": [
      "best params:  {'alpha': 0.01, 'l1_ratio': 0.1, 'tol': 0.1}\n",
      "score:  0.923757486173079\n",
      "  \n",
      "test score:  0.9149312213128056\n",
      "adj_r2:  0.9229799421227194\n",
      "  \n",
      "adj_r2_test:  0.9128786234356346\n",
      " \n",
      "train RMSE: 0.10422577671878976\n",
      "  \n",
      "test RMSE: 0.10870272539817942\n",
      "                                        features      coef   abs_val\n",
      "0                                   bc_GrLivArea  0.138976  0.138976\n",
      "1                                    OverallQual  0.094401  0.094401\n",
      "2                                     house_age_ -0.093671  0.093671\n",
      "3                                     bc_LotArea  0.061505  0.061505\n",
      "4                                    OverallCond  0.057526  0.057526\n",
      "5                                yeo_TotalBsmtSF  0.054990  0.054990\n",
      "6   Neighborhood_NoRidge_NridgHt_Veenker_StoneBr  0.027731  0.027731\n",
      "7                                     Fireplaces  0.026685  0.026685\n",
      "8                                   BsmtFullBath  0.024546  0.024546\n",
      "9                                      HeatingQC  0.021932  0.021932\n",
      "10                   Neighborhood_Somerst_Timber  0.017231  0.017231\n",
      "11                                    Functional  0.015546  0.015546\n",
      "12                                  BedroomAbvGr -0.015447  0.015447\n",
      "13                                    GarageCond  0.014960  0.014960\n",
      "14                               Condition1_Norm  0.013841  0.013841\n",
      "15                                  BsmtExposure  0.011875  0.011875\n",
      "16          Neighborhood_ClearCr_CollgCr_Crawfor  0.011603  0.011603\n",
      "17                                   KitchenQual  0.008697  0.008697\n",
      " \n",
      "skewness:  -0.43258068072992945\n",
      " \n",
      "model_importances.shape:  (18, 3)\n"
     ]
    },
    {
     "data": {
      "image/png": "[encoded data removed]",
      "text/plain": [
       "<Figure size 432x288 with 1 Axes>"
      ]
     },
     "metadata": {},
     "output_type": "display_data"
    }
   ],
   "source": [
    "elast10 = regx3(model= ElasticNet(max_iter=40000), #max_iter=10000000000000\n",
    "x_train = model_vars_data[keeps],\n",
    "x_test = test_vars_data[keeps],\n",
    "y_train = np.log(price_train.SalePrice),\n",
    "y_test = np.log(price_test.SalePrice),\n",
    "params = {'alpha':[0.00001,0.0001, 0.001, 0.01, 0.1, 1, 10],'l1_ratio':[0.001,0.01,0.1,0.25,0.5,0.75,1],'tol':[0.1]},cv_ = 5,\n",
    "linear_reg = True,\n",
    "tree_based = False)"
   ]
  },
  {
   "cell_type": "code",
   "execution_count": 11,
   "id": "d7158592",
   "metadata": {},
   "outputs": [],
   "source": [
    "#COPY BEST MODEL elast7 and lower tolerance to see if get lower RMSE\n",
    "\n",
    "# keeps = to_keep(elast7,0) #change hyperparameter for l1_ratio from #7 #change tol\n",
    "\n",
    "keeps_11 =['bc_GrLivArea',\n",
    " 'OverallQual',\n",
    " 'house_age_',\n",
    " 'bc_LotArea',\n",
    " 'OverallCond',\n",
    " 'yeo_TotalBsmtSF',\n",
    " 'Neighborhood_NoRidge_NridgHt_Veenker_StoneBr',\n",
    " 'BsmtFullBath',\n",
    " 'KitchenQual',\n",
    " 'Fireplaces',\n",
    " 'HeatingQC',\n",
    " 'Functional',\n",
    " 'Neighborhood_Somerst_Timber',\n",
    " 'BedroomAbvGr',\n",
    " 'GarageCond',\n",
    " 'BsmtExposure',\n",
    " 'Neighborhood_ClearCr_CollgCr_Crawfor',\n",
    " 'Condition1_Norm',\n",
    " 'BsmtFinType1',\n",
    " 'MSZoning_RM',\n",
    " 'ScreenPorch',\n",
    " 'KitchenAbvGr',\n",
    " 'GarageFinish_RFn',\n",
    " 'CentralAir_Y',\n",
    " 'MSSubClass_20',\n",
    " 'BsmtHalfBath',\n",
    " 'MoSold_7',\n",
    " 'Neighborhood_Mitchel_NPkVill',\n",
    " 'GarageYrBlt',\n",
    " 'LowQualFinSF',\n",
    " 'LandSlope']\n",
    "\n",
    "\n",
    "\n"
   ]
  },
  {
   "cell_type": "markdown",
   "id": "16053369",
   "metadata": {},
   "source": [
    "# best model elast 11"
   ]
  },
  {
   "cell_type": "code",
   "execution_count": 36,
   "id": "6ada8490",
   "metadata": {},
   "outputs": [
    {
     "name": "stdout",
     "output_type": "stream",
     "text": [
      "best params:  {'alpha': 0.01, 'l1_ratio': 0.001, 'tol': 0.02}\n",
      "score:  0.9321012285652457\n",
      "  \n",
      "test score:  0.9242924505262095\n",
      "adj_r2:  0.9308998233629184\n",
      "  \n",
      "adj_r2_test:  0.9210906305621065\n",
      " \n",
      "train RMSE: 0.09835750300298263\n",
      "  \n",
      "test RMSE: 0.10254746488799335\n",
      "                                        features      coef   abs_val\n",
      "0                                   bc_GrLivArea  0.151078  0.151078\n",
      "1                                    OverallQual  0.073532  0.073532\n",
      "2                                     house_age_ -0.051836  0.051836\n",
      "3                                    OverallCond  0.049366  0.049366\n",
      "4                                     bc_LotArea  0.045503  0.045503\n",
      "5                                yeo_TotalBsmtSF  0.041228  0.041228\n",
      "6   Neighborhood_NoRidge_NridgHt_Veenker_StoneBr  0.035099  0.035099\n",
      "7                                     Fireplaces  0.023315  0.023315\n",
      "8                                    KitchenQual  0.023251  0.023251\n",
      "9                                   BsmtFullBath  0.022003  0.022003\n",
      "10                   Neighborhood_Somerst_Timber  0.021946  0.021946\n",
      "11                                     HeatingQC  0.019913  0.019913\n",
      "12                                   GarageYrBlt  0.019902  0.019902\n",
      "13                                  BsmtExposure  0.019806  0.019806\n",
      "14                                    Functional  0.018172  0.018172\n",
      "15          Neighborhood_ClearCr_CollgCr_Crawfor  0.015954  0.015954\n",
      "16                                   MSZoning_RM -0.015698  0.015698\n",
      "17                                    GarageCond  0.014946  0.014946\n",
      "18                                  BsmtFinType1  0.013326  0.013326\n",
      "19                                  BedroomAbvGr -0.012724  0.012724\n",
      "20                               Condition1_Norm  0.012656  0.012656\n",
      "21                                   ScreenPorch  0.011173  0.011173\n",
      "22                                  KitchenAbvGr -0.009713  0.009713\n",
      "23                                 MSSubClass_20  0.007618  0.007618\n",
      "24                                  CentralAir_Y  0.006932  0.006932\n",
      "25                              GarageFinish_RFn -0.006566  0.006566\n",
      "26                  Neighborhood_Mitchel_NPkVill  0.005141  0.005141\n",
      "27                                      MoSold_7  0.004963  0.004963\n",
      "28                                  LowQualFinSF -0.004864  0.004864\n",
      "29                                  BsmtHalfBath  0.004854  0.004854\n",
      "30                                     LandSlope -0.000873  0.000873\n",
      " \n",
      "skewness:  -0.5425851378634268\n",
      " \n",
      "model_importances.shape:  (31, 3)\n"
     ]
    },
    {
     "data": {
      "image/png": "[encoded data removed]",
      "text/plain": [
       "<Figure size 432x288 with 1 Axes>"
      ]
     },
     "metadata": {},
     "output_type": "display_data"
    }
   ],
   "source": [
    "elast11 = regx3(model= ElasticNet(max_iter=40000), #max_iter=10000000000000\n",
    "x_train = model_vars_data[keeps],\n",
    "x_test = test_vars_data[keeps],\n",
    "y_train = np.log(price_train.SalePrice),\n",
    "y_test = np.log(price_test.SalePrice),\n",
    "params = {'alpha':[0.00001,0.0001, 0.001, 0.01, 0.1, 1, 10],'l1_ratio':[0.001,0.01,0.1,0.25,0.5,0.75,1],'tol':[0.02]},cv_ = 5,\n",
    "linear_reg = True,\n",
    "tree_based = False)"
   ]
  },
  {
   "cell_type": "code",
   "execution_count": 37,
   "id": "b8d34b6e",
   "metadata": {},
   "outputs": [],
   "source": [
    "features = list(model_vars_data[keeps].columns)\n",
    "ss = StandardScaler()\n",
    "\n",
    "x_train = pd.DataFrame(ss.fit_transform(model_vars_data[keeps]), columns = features)\n",
    "x_test = pd.DataFrame(ss.fit_transform(test_vars_data[keeps]), columns = features)\n"
   ]
  },
  {
   "cell_type": "markdown",
   "id": "225e9b8b",
   "metadata": {},
   "source": [
    "Calcualte average price difference for test data and train data"
   ]
  },
  {
   "cell_type": "code",
   "execution_count": 95,
   "id": "4c541510",
   "metadata": {},
   "outputs": [],
   "source": [
    "import math\n",
    "\n",
    "predict_train = elast11['mod'].predict(x_train).reshape((-1,1)) # -1 however many rows it takes; 1 means 1 column\n",
    "predict_test = elast11['mod'].predict(x_test).reshape((-1,1))\n",
    "\n",
    "\n",
    "predicted_price_test = pd.Series(list(map(math.exp,predict_test)), name = 'predicted_price_test')\n",
    "predicted_price_train = pd.Series(list(map(math.exp,predict_train)), name = 'predicted_price_train')\n"
   ]
  },
  {
   "cell_type": "code",
   "execution_count": 96,
   "id": "5a3b7caf",
   "metadata": {},
   "outputs": [],
   "source": [
    "price_compare_test = pd.concat([predicted_price_test,price_test.reset_index()], axis=1)\n",
    "\n",
    "price_compare_test['price_difference'] =   price_compare_test['SalePrice'] - price_compare_test['predicted_price_test']\n"
   ]
  },
  {
   "cell_type": "markdown",
   "id": "d3a70ae6",
   "metadata": {},
   "source": [
    "average difference test data"
   ]
  },
  {
   "cell_type": "code",
   "execution_count": 97,
   "id": "2a9b4de4",
   "metadata": {},
   "outputs": [
    {
     "data": {
      "text/plain": [
       "13315.455763826081"
      ]
     },
     "execution_count": 97,
     "metadata": {},
     "output_type": "execute_result"
    }
   ],
   "source": [
    "\n",
    "price_compare_test.price_difference.abs().mean()"
   ]
  },
  {
   "cell_type": "code",
   "execution_count": 99,
   "id": "79d46a63",
   "metadata": {},
   "outputs": [],
   "source": [
    "price_compare_train = pd.concat([predicted_price_train,price_train.reset_index()], axis=1)\n",
    "\n",
    "price_compare_train['price_difference'] =   price_compare_train['SalePrice'] - price_compare_train['predicted_price_train']\n"
   ]
  },
  {
   "cell_type": "markdown",
   "id": "1f862c25",
   "metadata": {},
   "source": [
    "average difference train data"
   ]
  },
  {
   "cell_type": "code",
   "execution_count": 100,
   "id": "3985b1a3",
   "metadata": {},
   "outputs": [
    {
     "data": {
      "text/plain": [
       "13080.411919418215"
      ]
     },
     "execution_count": 100,
     "metadata": {},
     "output_type": "execute_result"
    }
   ],
   "source": [
    "price_compare_train.price_difference.abs().mean()"
   ]
  },
  {
   "cell_type": "code",
   "execution_count": 12,
   "id": "1004a2fc",
   "metadata": {},
   "outputs": [
    {
     "name": "stdout",
     "output_type": "stream",
     "text": [
      "best params:  {'alpha': 0.01, 'l1_ratio': 0.001, 'tol': 0.02}\n",
      "score:  0.9321012285652457\n",
      "  \n",
      "test score:  0.9242924505262095\n",
      "adj_r2:  0.9308998233629184\n",
      "  \n",
      "adj_r2_test:  0.9210906305621065\n",
      " \n",
      "train RMSE: 0.09835750300298263\n",
      "  \n",
      "test RMSE: 0.10254746488799335\n",
      "                                        features      coef   abs_val\n",
      "0                                   bc_GrLivArea  0.151078  0.151078\n",
      "1                                    OverallQual  0.073532  0.073532\n",
      "2                                     house_age_ -0.051836  0.051836\n",
      "3                                    OverallCond  0.049366  0.049366\n",
      "4                                     bc_LotArea  0.045503  0.045503\n",
      "5                                yeo_TotalBsmtSF  0.041228  0.041228\n",
      "6   Neighborhood_NoRidge_NridgHt_Veenker_StoneBr  0.035099  0.035099\n",
      "7                                     Fireplaces  0.023315  0.023315\n",
      "8                                    KitchenQual  0.023251  0.023251\n",
      "9                                   BsmtFullBath  0.022003  0.022003\n",
      "10                   Neighborhood_Somerst_Timber  0.021946  0.021946\n",
      "11                                     HeatingQC  0.019913  0.019913\n",
      "12                                   GarageYrBlt  0.019902  0.019902\n",
      "13                                  BsmtExposure  0.019806  0.019806\n",
      "14                                    Functional  0.018172  0.018172\n",
      "15          Neighborhood_ClearCr_CollgCr_Crawfor  0.015954  0.015954\n",
      "16                                   MSZoning_RM -0.015698  0.015698\n",
      "17                                    GarageCond  0.014946  0.014946\n",
      "18                                  BsmtFinType1  0.013326  0.013326\n",
      "19                                  BedroomAbvGr -0.012724  0.012724\n",
      "20                               Condition1_Norm  0.012656  0.012656\n",
      "21                                   ScreenPorch  0.011173  0.011173\n",
      "22                                  KitchenAbvGr -0.009713  0.009713\n",
      "23                                 MSSubClass_20  0.007618  0.007618\n",
      "24                                  CentralAir_Y  0.006932  0.006932\n",
      "25                              GarageFinish_RFn -0.006566  0.006566\n",
      "26                  Neighborhood_Mitchel_NPkVill  0.005141  0.005141\n",
      "27                                      MoSold_7  0.004963  0.004963\n",
      "28                                  LowQualFinSF -0.004864  0.004864\n",
      "29                                  BsmtHalfBath  0.004854  0.004854\n",
      "30                                     LandSlope -0.000873  0.000873\n",
      " \n",
      "skewness:  -0.5425851378634268\n",
      " \n",
      "model_importances.shape:  (31, 3)\n"
     ]
    },
    {
     "data": {
      "image/png": "[encoded data removed]",
      "text/plain": [
       "<Figure size 432x288 with 1 Axes>"
      ]
     },
     "metadata": {},
     "output_type": "display_data"
    }
   ],
   "source": [
    "elast11 = regx3(model= ElasticNet(max_iter=40000), #max_iter=10000000000000\n",
    "x_train = model_vars_data[keeps_11],\n",
    "x_test = test_vars_data[keeps_11.\n",
    "                       ],\n",
    "y_train = np.log(price_train.SalePrice),\n",
    "y_test = np.log(price_test.SalePrice),\n",
    "params = {'alpha':[0.00001,0.0001, 0.001, 0.01, 0.1, 1, 10],'l1_ratio':[0.001,0.01,0.1,0.25,0.5,0.75,1],'tol':[0.02]},cv_ = 5,\n",
    "linear_reg = True,\n",
    "tree_based = False)"
   ]
  }
 ],
 "metadata": {
  "kernelspec": {
   "display_name": "Python 3 (ipykernel)",
   "language": "python",
   "name": "python3"
  },
  "language_info": {
   "codemirror_mode": {
    "name": "ipython",
    "version": 3
   },
   "file_extension": ".py",
   "mimetype": "text/x-python",
   "name": "python",
   "nbconvert_exporter": "python",
   "pygments_lexer": "ipython3",
   "version": "3.9.7"
  }
 },
 "nbformat": 4,
 "nbformat_minor": 5
}
