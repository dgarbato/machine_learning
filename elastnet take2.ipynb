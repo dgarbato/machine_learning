{
 "cells": [
  {
   "cell_type": "code",
   "execution_count": 2,
   "id": "75e2c408",
   "metadata": {},
   "outputs": [],
   "source": [
    "from sklearn.linear_model import Lasso\n",
    "from sklearn.metrics import mean_squared_error\n",
    "from sklearn.preprocessing import StandardScaler \n",
    "from sklearn.model_selection import GridSearchCV"
   ]
  },
  {
   "cell_type": "code",
   "execution_count": 3,
   "id": "7b2ad38c",
   "metadata": {},
   "outputs": [],
   "source": [
    "import matplotlib.pyplot as plt\n",
    "import seaborn as sns\n",
    "import numpy as np\n",
    "import pandas as pd\n",
    "%matplotlib inline\n",
    "from scipy import stats\n",
    "from sklearn.linear_model import Ridge, Lasso, ElasticNet"
   ]
  },
  {
   "cell_type": "code",
   "execution_count": 4,
   "id": "aadce157",
   "metadata": {},
   "outputs": [],
   "source": [
    "model_vars_data = pd.read_csv(r'C:\\Users\\dgarb\\OneDrive\\Documents\\Data Science Bootcamp August\\Machine Learning Project\\data\\model_vars_data_n.csv',index_col=0)\n",
    "\n",
    "test_vars_data = pd.read_csv(r'C:\\Users\\dgarb\\OneDrive\\Documents\\Data Science Bootcamp August\\Machine Learning Project\\data\\test_vars_data_n.csv',index_col=0)\n",
    "\n",
    "price_train = pd.read_csv(r'C:\\Users\\dgarb\\OneDrive\\Documents\\Data Science Bootcamp August\\Machine Learning Project\\data\\ny_train.csv',index_col=0)\n",
    "\n",
    "price_test = pd.read_csv(r'C:\\Users\\dgarb\\OneDrive\\Documents\\Data Science Bootcamp August\\Machine Learning Project\\data\\ny_test.csv',index_col=0)"
   ]
  },
  {
   "cell_type": "code",
   "execution_count": 5,
   "id": "a74b48cb",
   "metadata": {},
   "outputs": [],
   "source": [
    "# list(model_vars_data.columns) \n",
    "model_vars_data = model_vars_data.drop(['MoSold','MSSubClass','LotArea'], axis = 1)\n",
    "test_vars_data = test_vars_data.drop(['MoSold','MSSubClass','LotArea'], axis = 1) \n",
    "#there is a transformed version of LotArea\n"
   ]
  },
  {
   "cell_type": "code",
   "execution_count": 6,
   "id": "2c719d1c",
   "metadata": {},
   "outputs": [],
   "source": [
    "# Fucntion returns dictionary\n",
    "\n",
    "def regx3(\n",
    "model=  None,\n",
    "x_train = None,\n",
    "x_test = None,\n",
    "y_train = None,\n",
    "y_test =  None,\n",
    "params = None,\n",
    "cv_ = 5,\n",
    "linear_reg = True,\n",
    "tree_based = False):\n",
    "######################################\n",
    "#########################################\n",
    "\n",
    "    features = list(x_train.columns)\n",
    "\n",
    "    ss = StandardScaler()\n",
    "    x_train = pd.DataFrame(ss.fit_transform(x_train), columns = features)\n",
    "    x_test = pd.DataFrame(ss.fit_transform(x_test), columns = features)\n",
    "\n",
    "    #     print('train ',x_train.head())\n",
    "    #     print(' ')\n",
    "    #     print('test ', x_test.head())\n",
    "\n",
    "\n",
    "    gs = GridSearchCV(model, params, cv=cv_, return_train_score=True, refit=True)\n",
    "    gs.fit(x_train,y_train)\n",
    "    gs.best_params_\n",
    "\n",
    "    reg_dict = {}\n",
    "    model= gs.best_estimator_\n",
    "    reg_dict['mod'] = model\n",
    "    ###################################    \n",
    "\n",
    "    print('best params: ',gs.best_params_)\n",
    "    reg_dict['best params'] = gs.best_params_\n",
    "\n",
    "    print('score: ',gs.score(x_train,y_train))\n",
    "    reg_dict['score'] = gs.score(x_train,y_train)\n",
    "\n",
    "    print('  ')\n",
    "    print('test score: ',gs.score(x_test,y_test))\n",
    "    reg_dict['test score'] = gs.score(x_test,y_test)\n",
    "\n",
    "    if linear_reg:\n",
    "        adj_r2 = 1-(1-gs.score(x_train,y_train))*(x_train.shape[0] - 1) / (x_train.shape[0] - x_train.shape[1] - 1)\n",
    "        print('adj_r2: ', adj_r2)\n",
    "        reg_dict['adj_r2'] = adj_r2\n",
    "\n",
    "        adj_r2_test = 1-(1-gs.score(x_test,y_test))*(x_test.shape[0] - 1) / (x_test.shape[0] - x_test.shape[1] - 1)\n",
    "        print('  ')\n",
    "        print('adj_r2_test: ',adj_r2_test)\n",
    "        reg_dict['adj_r2_test'] = adj_r2_test\n",
    "\n",
    "        print(' ')\n",
    "\n",
    "    train_pred = gs.best_estimator_.predict(x_train)\n",
    "    print('train RMSE: ' + str(mean_squared_error(train_pred,y_train)**0.5))\n",
    "    print('  ')\n",
    "    reg_dict['train RMSE'] = mean_squared_error(train_pred,y_train)**0.5\n",
    "\n",
    "    test_pred = gs.best_estimator_.predict(x_test)\n",
    "    print('test RMSE: ' + str(mean_squared_error(test_pred,y_test)**0.5))\n",
    "    ###\n",
    "    reg_dict['test RMSE'] = mean_squared_error(test_pred,y_test)**0.5\n",
    "\n",
    "    if linear_reg:\n",
    "\n",
    "        coefs = pd.Series(gs.best_estimator_.coef_, name = 'coef' )\n",
    "\n",
    "        varnames = pd.Series(features, name = 'features')\n",
    "\n",
    "        pd.set_option('display.max_rows', None) # or 1000.\n",
    "\n",
    "        abs_coefs = pd.Series(np.abs(coefs),name = 'abs_val')\n",
    "\n",
    "        coefs_ = pd.concat([varnames,coefs, abs_coefs], axis=1)\n",
    "\n",
    "        #return:\n",
    "        model_importances = coefs_.sort_values(by=['abs_val'], ascending=False)\n",
    "        model_importances.index=(range(model_importances.shape[0]))\n",
    "        model_importances\n",
    "        reg_dict['model_importances'] = model_importances\n",
    "\n",
    "        print(model_importances)\n",
    "        print(' ')\n",
    "\n",
    "    elif tree_based:\n",
    "        pd.set_option('display.max_rows', None) # or 1000.\n",
    "\n",
    "        #return\n",
    "        varnames = pd.Series(features, name = 'features')\n",
    "\n",
    "        importances_ = pd.Series(model.feature_importances_, name = 'importances')\n",
    "\n",
    "        df = pd.concat([varnames,importances_], axis=1)\n",
    "\n",
    "        model_importances = df.sort_values(by=['importances'], ascending=False)\n",
    "\n",
    "        model_importances.index=(range(model_importances.shape[0]))\n",
    "\n",
    "        reg_dict['model_importances'] = model_importances\n",
    "\n",
    "\n",
    "\n",
    "    #         model_importances = pd.Series(model.feature_importances_, index = features).sort_values(ascending=False)\n",
    "\n",
    "        print(model_importances)\n",
    "\n",
    "\n",
    "    if linear_reg:\n",
    "        residuals = y_train - train_pred\n",
    "        print('skewness: ',stats.skew(residuals))\n",
    "        print(' ')\n",
    "        sns.set_theme(style='darkgrid')\n",
    "        sns.histplot(residuals, bins=20);\n",
    "\n",
    "    print('model_importances.shape: ',model_importances.shape)\n",
    "    \n",
    "    return reg_dict\n"
   ]
  },
  {
   "cell_type": "code",
   "execution_count": 7,
   "id": "c05656ed",
   "metadata": {},
   "outputs": [],
   "source": [
    "def to_keep(mod, amt):\n",
    "    mod = mod['model_importances']\n",
    "    keeps1 = mod.loc[mod['abs_val'] > amt,['features']]\n",
    "    list_keeps1 = list(keeps1.features)\n",
    "    return list_keeps1\n"
   ]
  },
  {
   "cell_type": "markdown",
   "id": "3bbe55ac",
   "metadata": {},
   "source": [
    "remove due to mulicollinearity - see Correlations Analysis notebook"
   ]
  },
  {
   "cell_type": "code",
   "execution_count": 8,
   "id": "58ed5c18",
   "metadata": {},
   "outputs": [],
   "source": [
    "remove = ['log_first_FlrSF','BsmtFinSF1', 'BsmtUnfSF','yeo_GarageArea','GarageCars',\n",
    "          'yeo_LotFrontage', 'BsmtFinSF2' ] #remove due to mulicollinearity #drop GarageYrBlt\n",
    "#see Correlations Analysis notebook"
   ]
  },
  {
   "cell_type": "code",
   "execution_count": null,
   "id": "28ec8515",
   "metadata": {},
   "outputs": [],
   "source": []
  },
  {
   "cell_type": "code",
   "execution_count": 9,
   "id": "36fa782a",
   "metadata": {},
   "outputs": [],
   "source": [
    "keeps_set = set(model_vars_data.columns) - set(remove)\n",
    "keeps_set\n",
    "keeps = list(keeps_set)"
   ]
  },
  {
   "cell_type": "code",
   "execution_count": 10,
   "id": "84b99a88",
   "metadata": {},
   "outputs": [
    {
     "name": "stdout",
     "output_type": "stream",
     "text": [
      "best params:  {'alpha': 0.01, 'l1_ratio': 0.25, 'tol': 0.1}\n",
      "score:  0.9360228853405353\n",
      "  \n",
      "test score:  0.9169573421624991\n",
      "adj_r2:  0.9279398639053534\n",
      "  \n",
      "adj_r2_test:  0.8875095911562931\n",
      " \n",
      "train RMSE: 0.09547482291916036\n",
      "  \n",
      "test RMSE: 0.1074004137106466\n",
      "                                              features      coef   abs_val\n",
      "0                                         bc_GrLivArea  0.117968  0.117968\n",
      "1                                           house_age_ -0.096351  0.096351\n",
      "2                                          OverallQual  0.078579  0.078579\n",
      "3                                           GarageCond  0.044607  0.044607\n",
      "4                                             2ndFlrSF  0.043083  0.043083\n",
      "5                                           bc_LotArea  0.042317  0.042317\n",
      "6                                          OverallCond  0.042032  0.042032\n",
      "7                                    HouseStyle_2Story -0.033774  0.033774\n",
      "8                                           Fireplaces  0.032070  0.032070\n",
      "9                                      yeo_TotalBsmtSF  0.031197  0.031197\n",
      "10                                       GarageType_No  0.026464  0.026464\n",
      "11                                      log_MasVnrArea  0.026194  0.026194\n",
      "12                                   GarageType_Attchd  0.022300  0.022300\n",
      "13                                   GarageType_Detchd  0.021436  0.021436\n",
      "14                                           HeatingQC  0.021267  0.021267\n",
      "15                                        BsmtFullBath  0.020827  0.020827\n",
      "16                                         KitchenQual  0.020795  0.020795\n",
      "17                                     log_OpenPorchSF  0.017633  0.017633\n",
      "18                                       MSSubClass_70  0.017103  0.017103\n",
      "19                                        BsmtExposure  0.016519  0.016519\n",
      "20                                          Functional  0.015985  0.015985\n",
      "21                                   HouseStyle_1Story  0.015378  0.015378\n",
      "22                                 Exterior1st_BrkFace  0.014334  0.014334\n",
      "23                                     Condition1_Norm  0.014249  0.014249\n",
      "24                                     MasVnrType_None  0.013055  0.013055\n",
      "25                         Neighborhood_Gilbert_NWAmes -0.011466  0.011466\n",
      "26                                SaleCondition_Family -0.011399  0.011399\n",
      "27                                        BsmtFinType1  0.011112  0.011112\n",
      "28                                 Exterior1st_VinylSd  0.010534  0.010534\n",
      "29                                            FullBath  0.009796  0.009796\n",
      "30                                            HalfBath  0.009389  0.009389\n",
      "31                                Neighborhood_SawyerW -0.009005  0.009005\n",
      "32                                         ScreenPorch  0.008950  0.008950\n",
      "33                                     LandContour_HLS  0.008910  0.008910\n",
      "34                                     GarageFinish_No  0.008752  0.008752\n",
      "35        Neighborhood_NoRidge_NridgHt_Veenker_StoneBr  0.008586  0.008586\n",
      "36                                         GarageYrBlt  0.008240  0.008240\n",
      "37                               SaleCondition_Partial  0.008178  0.008178\n",
      "38                                 Exterior2nd_MetalSd  0.007904  0.007904\n",
      "39                                       MSSubClass_85  0.007713  0.007713\n",
      "40                                           ExterQual  0.007484  0.007484\n",
      "41                                         MSZoning_RL  0.007476  0.007476\n",
      "42                                     Condition1_PosN  0.007187  0.007187\n",
      "43                                      BldgType_Twnhs -0.007065  0.007065\n",
      "44                                            BsmtQual  0.006657  0.006657\n",
      "45                                   has_EnclosedPorch  0.006461  0.006461\n",
      "46                                     Condition1_PosA  0.006006  0.006006\n",
      "47                                  MasVnrType_BrkFace -0.005800  0.005800\n",
      "48                                 Exterior1st_PreCast  0.005389  0.005389\n",
      "49                                       has_openporch -0.005384  0.005384\n",
      "50                                        BsmtHalfBath  0.004427  0.004427\n",
      "51                                     BldgType_Duplex -0.004353  0.004353\n",
      "52                                       RoofStyle_Hip  0.004106  0.004106\n",
      "53                                     BldgType_TwnhsE -0.003981  0.003981\n",
      "54                              years_since_remodeled_ -0.003413  0.003413\n",
      "55                                 Exterior2nd_Wd Sdng  0.003298  0.003298\n",
      "56                                 Exterior2nd_Brk Cmn  0.003193  0.003193\n",
      "57                                    RoofMatl_WdShngl  0.002615  0.002615\n",
      "58                                 Exterior1st_CemntBd  0.002564  0.002564\n",
      "59                                     Condition1_RRAe -0.002543  0.002543\n",
      "60                                     Condition2_PosA  0.002437  0.002437\n",
      "61                         Neighborhood_Somerst_Timber  0.002416  0.002416\n",
      "62                                 Exterior2nd_VinylSd -0.002396  0.002396\n",
      "63                                        Heating_Grav -0.002381  0.002381\n",
      "64                                    Condition2_Feedr -0.002306  0.002306\n",
      "65                                        TotRmsAbvGrd  0.002229  0.002229\n",
      "66                                   RoofStyle_Mansard -0.002211  0.002211\n",
      "67                                 Exterior1st_Wd Sdng  0.002151  0.002151\n",
      "68                 Neighborhood_Greens_SawyerW_Blmngtn -0.002120  0.002120\n",
      "69                                            MoSold_7  0.001954  0.001954\n",
      "70                                           3SsnPorch  0.001728  0.001728\n",
      "71                                     LandContour_Low  0.001705  0.001705\n",
      "72                                 Exterior2nd_PreCast  0.001694  0.001694\n",
      "73                                         MSZoning_RM -0.001611  0.001611\n",
      "74                                      MSSubClass_150 -0.001599  0.001599\n",
      "75                                       MSSubClass_45  0.001590  0.001590\n",
      "76                                        BedroomAbvGr -0.001469  0.001469\n",
      "77                                 Exterior1st_MetalSd  0.001454  0.001454\n",
      "78                                        PavedDrive_P -0.001429  0.001429\n",
      "79                                       MSSubClass_60  0.001395  0.001395\n",
      "80                                            Fence_No -0.001260  0.001260\n",
      "81                                  GarageType_BuiltIn  0.001194  0.001194\n",
      "82                                        has_basement -0.001134  0.001134\n",
      "83                                 Exterior1st_HdBoard  0.001126  0.001126\n",
      "84                                   HouseStyle_1.5Unf  0.001124  0.001124\n",
      "85                                   HouseStyle_SFoyer  0.001106  0.001106\n",
      "86                                    GarageFinish_Unf  0.001102  0.001102\n",
      "87                                        KitchenAbvGr -0.001082  0.001082\n",
      "88                                      MSSubClass_160 -0.001072  0.001072\n",
      "89                     Neighborhood_NAmes_SWISU_Sawyer -0.001060  0.001060\n",
      "90                                    RoofMatl_Tar&Grv  0.000880  0.000880\n",
      "91                                        alley_access -0.000815  0.000815\n",
      "92                                            has_pool  0.000814  0.000814\n",
      "93                                         MSZoning_RH -0.000756  0.000756\n",
      "94                                            LotShape  0.000649  0.000649\n",
      "95                                  Exterior2nd_CBlock  0.000589  0.000589\n",
      "96                                    RoofMatl_Membran  0.000537  0.000537\n",
      "97                                            MoSold_3 -0.000528  0.000528\n",
      "98                                       LotConfig_FR2 -0.000527  0.000527\n",
      "99                                       MSSubClass_50  0.000505  0.000505\n",
      "100                                   Foundation_Stone  0.000463  0.000463\n",
      "101                                      MSSubClass_20  0.000457  0.000457\n",
      "102                                       CentralAir_Y  0.000422  0.000422\n",
      "103                                         GarageQual  0.000397  0.000397\n",
      "104                                    Foundation_Slab -0.000376  0.000376\n",
      "105                                    Foundation_Wood -0.000343  0.000343\n",
      "106                                          MoSold_12 -0.000115  0.000115\n",
      "107                               SaleCondition_Normal  0.000012  0.000012\n",
      "108                                           MoSold_6  0.000004  0.000004\n",
      "109                                    Condition2_RRAe  0.000000  0.000000\n",
      "110                             has_finsished_basement -0.000000  0.000000\n",
      "111                                Exterior2nd_ImStucc  0.000000  0.000000\n",
      "112                                          MoSold_11 -0.000000  0.000000\n",
      "113                                    Condition2_RRAn -0.000000  0.000000\n",
      "114                                      MSSubClass_90 -0.000000  0.000000\n",
      "115                                         Fence_GdWo  0.000000  0.000000\n",
      "116                                    Condition1_RRAn -0.000000  0.000000\n",
      "117                                     has_wood_deck   0.000000  0.000000\n",
      "118                                           PoolArea  0.000000  0.000000\n",
      "119                                    Condition2_Norm -0.000000  0.000000\n",
      "120                                   Utilities_NoSewr  0.000000  0.000000\n",
      "121                                       Heating_GasW  0.000000  0.000000\n",
      "122                                       Heating_GasA -0.000000  0.000000\n",
      "123                                Exterior2nd_BrkFace -0.000000  0.000000\n",
      "124                              SaleCondition_AdjLand  0.000000  0.000000\n",
      "125                                        Street_Pave  0.000000  0.000000\n",
      "126                                Exterior2nd_CmentBd  0.000000  0.000000\n",
      "127                                    Condition2_RRNn  0.000000  0.000000\n",
      "128                                    BldgType_2fmCon -0.000000  0.000000\n",
      "129               Neighborhood_ClearCr_CollgCr_Crawfor -0.000000  0.000000\n",
      "130                                           MoSold_9 -0.000000  0.000000\n",
      "131                                 GarageType_CarPort  0.000000  0.000000\n",
      "132                                 GarageType_Basment  0.000000  0.000000\n",
      "133                                  Foundation_CBlock -0.000000  0.000000\n",
      "134                                           MoSold_2 -0.000000  0.000000\n",
      "135                                      RoofMatl_Roll  0.000000  0.000000\n",
      "136                                     log_WoodDeckSF  0.000000  0.000000\n",
      "137                                   Electrical_FuseF -0.000000  0.000000\n",
      "138                                     RoofMatl_Metal  0.000000  0.000000\n",
      "139                                   Electrical_SBrkr  0.000000  0.000000\n",
      "140                               SaleCondition_Alloca  0.000000  0.000000\n",
      "141  Neighborhood_BrkSide_Edwards_Blueste_OldTown_I... -0.000000  0.000000\n",
      "142                                        FireplaceQu  0.000000  0.000000\n",
      "143                                       Heating_OthW -0.000000  0.000000\n",
      "144                                Exterior1st_ImStucc  0.000000  0.000000\n",
      "145                                          LandSlope -0.000000  0.000000\n",
      "146                                    Condition1_RRNn  0.000000  0.000000\n",
      "147                                 Exterior1st_Stucco  0.000000  0.000000\n",
      "148                                           BsmtCond  0.000000  0.000000\n",
      "149                                    RoofStyle_Gable -0.000000  0.000000\n",
      "150                       Neighborhood_Mitchel_NPkVill  0.000000  0.000000\n",
      "151                                Exterior1st_Plywood  0.000000  0.000000\n",
      "152                                   GarageFinish_RFn -0.000000  0.000000\n",
      "153                                           MoSold_4 -0.000000  0.000000\n",
      "154                                 Exterior2nd_Stucco  0.000000  0.000000\n",
      "155                                      MSSubClass_30 -0.000000  0.000000\n",
      "156                                   RoofMatl_WdShake  0.000000  0.000000\n",
      "157                                  log_EnclosedPorch -0.000000  0.000000\n",
      "158                                   LotConfig_Inside  0.000000  0.000000\n",
      "159                                    HouseStyle_SLvl  0.000000  0.000000\n",
      "160                                  RoofStyle_Gambrel -0.000000  0.000000\n",
      "161                                           MoSold_5  0.000000  0.000000\n",
      "162                                         Fence_MnWw -0.000000  0.000000\n",
      "163                                Exterior2nd_HdBoard  0.000000  0.000000\n",
      "164                                Exterior2nd_Wd Shng  0.000000  0.000000\n",
      "165                                     MSSubClass_180 -0.000000  0.000000\n",
      "166                                            MiscVal -0.000000  0.000000\n",
      "167                                    LandContour_Lvl  0.000000  0.000000\n",
      "168                                 Exterior1st_CBlock -0.000000  0.000000\n",
      "169                                   MasVnrType_Stone  0.000000  0.000000\n",
      "170                                    Condition2_PosN  0.000000  0.000000\n",
      "171                                        Fence_MnPrv -0.000000  0.000000\n",
      "172                                       PavedDrive_Y -0.000000  0.000000\n",
      "173                                      MSSubClass_80 -0.000000  0.000000\n",
      "174                                  Exterior2nd_Stone  0.000000  0.000000\n",
      "175                                Exterior2nd_AsphShn  0.000000  0.000000\n",
      "176                                           MoSold_8  0.000000  0.000000\n",
      "177                                    has_miscfeature  0.000000  0.000000\n",
      "178                                     MSSubClass_190 -0.000000  0.000000\n",
      "179                                          MoSold_10 -0.000000  0.000000\n",
      "180                                   Electrical_FuseP -0.000000  0.000000\n",
      "181                                Exterior1st_BrkComm  0.000000  0.000000\n",
      "182                                       BsmtFinType2  0.000000  0.000000\n",
      "183                                Exterior2nd_Plywood -0.000000  0.000000\n",
      "184                                   Foundation_PConc  0.000000  0.000000\n",
      "185                                       LowQualFinSF -0.000000  0.000000\n",
      "186                                  HouseStyle_2.5Unf  0.000000  0.000000\n",
      "187                                          ExterCond  0.000000  0.000000\n",
      "188                                   Condition1_Feedr -0.000000  0.000000\n",
      "189                                  LotConfig_CulDSac  0.000000  0.000000\n",
      "190                                    Condition1_RRNe  0.000000  0.000000\n",
      "191                                      MSSubClass_40 -0.000000  0.000000\n",
      "192                                   Electrical_Mixed  0.000000  0.000000\n",
      "193                                Exterior1st_WdShing  0.000000  0.000000\n",
      "194                                      LotConfig_FR3 -0.000000  0.000000\n",
      "195                                       Heating_Wall  0.000000  0.000000\n",
      "196                                      MSSubClass_75  0.000000  0.000000\n",
      "197                                  HouseStyle_2.5Fin -0.000000  0.000000\n",
      "198                                Exterior1st_AsphShn  0.000000  0.000000\n",
      "199                                     RoofStyle_Shed -0.000000  0.000000\n",
      " \n",
      "skewness:  -0.31793098263488934\n",
      " \n",
      "model_importances.shape:  (200, 3)\n"
     ]
    },
    {
     "data": {
      "image/png": "[encoded data removed]",
      "text/plain": [
       "<Figure size 432x288 with 1 Axes>"
      ]
     },
     "metadata": {},
     "output_type": "display_data"
    }
   ],
   "source": [
    "# 'l1_ratio':[0,0.25,0.5,0.75,1]\n",
    "elast1 = regx3(model= ElasticNet(max_iter=80000), #max_iter=10000000000000\n",
    "x_train = model_vars_data[keeps],\n",
    "x_test = test_vars_data[keeps],\n",
    "y_train = np.log(price_train.SalePrice),\n",
    "y_test = np.log(price_test.SalePrice),\n",
    "params = {'alpha':[0.00001,0.0001, 0.001, 0.01, 0.1, 1, 10],'l1_ratio':[0.25,0.5,0.75,1],'tol':[0.1]},\n",
    "cv_ = 5,\n",
    "linear_reg = True,\n",
    "tree_based = False)"
   ]
  },
  {
   "cell_type": "code",
   "execution_count": 11,
   "id": "b37aa69f",
   "metadata": {},
   "outputs": [
    {
     "data": {
      "text/plain": [
       "<AxesSubplot:ylabel='Density'>"
      ]
     },
     "execution_count": 11,
     "metadata": {},
     "output_type": "execute_result"
    },
    {
     "data": {
      "image/png": "[encoded data removed]",
      "text/plain": [
       "<Figure size 432x288 with 1 Axes>"
      ]
     },
     "metadata": {},
     "output_type": "display_data"
    }
   ],
   "source": [
    "elast1['model_importances'].plot.kde() #0.03"
   ]
  },
  {
   "cell_type": "code",
   "execution_count": 12,
   "id": "37d69686",
   "metadata": {},
   "outputs": [
    {
     "data": {
      "text/plain": [
       "<AxesSubplot:ylabel='Density'>"
      ]
     },
     "execution_count": 12,
     "metadata": {},
     "output_type": "execute_result"
    },
    {
     "data": {
      "image/png": "[encoded data removed]",
      "text/plain": [
       "<Figure size 432x288 with 1 Axes>"
      ]
     },
     "metadata": {},
     "output_type": "display_data"
    }
   ],
   "source": [
    "elast1['model_importances'].plot.kde(y='abs_val',xlim=[0.0,0.025]) "
   ]
  },
  {
   "cell_type": "code",
   "execution_count": 13,
   "id": "7ca674d4",
   "metadata": {},
   "outputs": [
    {
     "data": {
      "text/plain": [
       "<AxesSubplot:ylabel='Density'>"
      ]
     },
     "execution_count": 13,
     "metadata": {},
     "output_type": "execute_result"
    },
    {
     "data": {
      "image/png": "[encoded data removed]",
      "text/plain": [
       "<Figure size 432x288 with 1 Axes>"
      ]
     },
     "metadata": {},
     "output_type": "display_data"
    }
   ],
   "source": [
    "elast1['model_importances'].plot.kde(y='abs_val',xlim=[0.0,0.010]) #drop > 0.003"
   ]
  },
  {
   "cell_type": "code",
   "execution_count": 14,
   "id": "47c0d870",
   "metadata": {},
   "outputs": [
    {
     "data": {
      "text/plain": [
       "<AxesSubplot:ylabel='Density'>"
      ]
     },
     "execution_count": 14,
     "metadata": {},
     "output_type": "execute_result"
    },
    {
     "data": {
      "image/png": "[encoded data removed]",
      "text/plain": [
       "<Figure size 432x288 with 1 Axes>"
      ]
     },
     "metadata": {},
     "output_type": "display_data"
    }
   ],
   "source": [
    "elast1['model_importances'].plot.kde(y='abs_val',xlim=[0.0,0.004]) #0.0005"
   ]
  },
  {
   "cell_type": "code",
   "execution_count": 15,
   "id": "4453abef",
   "metadata": {},
   "outputs": [],
   "source": [
    "\n",
    "keeps = to_keep(elast1,0.0005)"
   ]
  },
  {
   "cell_type": "code",
   "execution_count": 16,
   "id": "07e8a9d5",
   "metadata": {},
   "outputs": [],
   "source": [
    "# np.arange(0, 1, 0.01)"
   ]
  },
  {
   "cell_type": "code",
   "execution_count": 17,
   "id": "eff6473a",
   "metadata": {},
   "outputs": [
    {
     "name": "stdout",
     "output_type": "stream",
     "text": [
      "best params:  {'alpha': 0.01, 'l1_ratio': 1, 'tol': 0.1}\n",
      "score:  0.9232465211782322\n",
      "  \n",
      "test score:  0.9186080788395725\n",
      "adj_r2:  0.9186860055025479\n",
      "  \n",
      "adj_r2_test:  0.9063502593877009\n",
      " \n",
      "train RMSE: 0.10457444566169947\n",
      "  \n",
      "test RMSE: 0.10632759328693318\n",
      "                                        features      coef   abs_val\n",
      "0                                   bc_GrLivArea  0.127526  0.127526\n",
      "1                                    OverallQual  0.101897  0.101897\n",
      "2                                     house_age_ -0.072543  0.072543\n",
      "3                                     bc_LotArea  0.048510  0.048510\n",
      "4                                yeo_TotalBsmtSF  0.046794  0.046794\n",
      "5                                    OverallCond  0.037005  0.037005\n",
      "6                                     Fireplaces  0.023527  0.023527\n",
      "7                                      HeatingQC  0.020668  0.020668\n",
      "8                                    KitchenQual  0.020258  0.020258\n",
      "9                                   BsmtFullBath  0.016285  0.016285\n",
      "10                                    GarageCond  0.013832  0.013832\n",
      "11                                  BsmtFinType1  0.013560  0.013560\n",
      "12                                  BsmtExposure  0.013494  0.013494\n",
      "13  Neighborhood_NoRidge_NridgHt_Veenker_StoneBr  0.013328  0.013328\n",
      "14                                    Functional  0.008146  0.008146\n",
      "15                                   MSZoning_RM -0.007398  0.007398\n",
      "16                               Condition1_Norm  0.006733  0.006733\n",
      "17                          SaleCondition_Family -0.006306  0.006306\n",
      "18                                     ExterQual  0.005956  0.005956\n",
      "19                         SaleCondition_Partial  0.003715  0.003715\n",
      "20                           Exterior1st_BrkFace  0.003326  0.003326\n",
      "21                                   ScreenPorch  0.003318  0.003318\n",
      "22                                  KitchenAbvGr -0.002725  0.002725\n",
      "23                               LandContour_HLS  0.001999  0.001999\n",
      "24                        years_since_remodeled_ -0.001897  0.001897\n",
      "25                   Neighborhood_Somerst_Timber  0.001422  0.001422\n",
      "26                                   GarageYrBlt  0.000317  0.000317\n",
      "27                                MSSubClass_160 -0.000000  0.000000\n",
      "28                                  BedroomAbvGr -0.000000  0.000000\n",
      "29                                MSSubClass_150 -0.000000  0.000000\n",
      "30                              RoofMatl_Membran  0.000000  0.000000\n",
      "31                           Exterior2nd_PreCast  0.000000  0.000000\n",
      "32                                      MoSold_3 -0.000000  0.000000\n",
      "33                               LandContour_Low  0.000000  0.000000\n",
      "34                                     3SsnPorch  0.000000  0.000000\n",
      "35                                      MoSold_7  0.000000  0.000000\n",
      "36                                 LotConfig_FR2 -0.000000  0.000000\n",
      "37           Neighborhood_Greens_SawyerW_Blmngtn -0.000000  0.000000\n",
      "38                           Exterior1st_Wd Sdng -0.000000  0.000000\n",
      "39                             RoofStyle_Mansard -0.000000  0.000000\n",
      "40                                  TotRmsAbvGrd  0.000000  0.000000\n",
      "41                              Condition2_Feedr -0.000000  0.000000\n",
      "42                                  Heating_Grav -0.000000  0.000000\n",
      "43                                 MSSubClass_45  0.000000  0.000000\n",
      "44                           Exterior1st_MetalSd  0.000000  0.000000\n",
      "45               Neighborhood_NAmes_SWISU_Sawyer -0.000000  0.000000\n",
      "46                           Exterior1st_HdBoard -0.000000  0.000000\n",
      "47                              RoofMatl_Tar&Grv  0.000000  0.000000\n",
      "48                              GarageFinish_Unf -0.000000  0.000000\n",
      "49                             HouseStyle_SFoyer  0.000000  0.000000\n",
      "50                           Exterior2nd_VinylSd  0.000000  0.000000\n",
      "51                                  alley_access -0.000000  0.000000\n",
      "52                                      has_pool  0.000000  0.000000\n",
      "53                                   MSZoning_RH -0.000000  0.000000\n",
      "54                                  PavedDrive_P -0.000000  0.000000\n",
      "55                                      LotShape -0.000000  0.000000\n",
      "56                                  has_basement -0.000000  0.000000\n",
      "57                            GarageType_BuiltIn  0.000000  0.000000\n",
      "58                            Exterior2nd_CBlock  0.000000  0.000000\n",
      "59                                      Fence_No -0.000000  0.000000\n",
      "60                                 MSSubClass_60 -0.000000  0.000000\n",
      "61                             HouseStyle_1.5Unf  0.000000  0.000000\n",
      "62                                  BsmtHalfBath  0.000000  0.000000\n",
      "63                               Condition2_PosA  0.000000  0.000000\n",
      "64                           Exterior2nd_MetalSd  0.000000  0.000000\n",
      "65                          Neighborhood_SawyerW -0.000000  0.000000\n",
      "66                                      HalfBath  0.000000  0.000000\n",
      "67                                      FullBath  0.000000  0.000000\n",
      "68                           Exterior1st_VinylSd  0.000000  0.000000\n",
      "69                   Neighborhood_Gilbert_NWAmes -0.000000  0.000000\n",
      "70                               MasVnrType_None -0.000000  0.000000\n",
      "71                             HouseStyle_1Story  0.000000  0.000000\n",
      "72                                 MSSubClass_70  0.000000  0.000000\n",
      "73                               log_OpenPorchSF  0.000000  0.000000\n",
      "74                             GarageType_Detchd -0.000000  0.000000\n",
      "75                             GarageType_Attchd  0.000000  0.000000\n",
      "76                                log_MasVnrArea  0.000000  0.000000\n",
      "77                                 GarageType_No -0.000000  0.000000\n",
      "78                             HouseStyle_2Story -0.000000  0.000000\n",
      "79                                      2ndFlrSF  0.000000  0.000000\n",
      "80                               GarageFinish_No -0.000000  0.000000\n",
      "81                                 MSSubClass_85  0.000000  0.000000\n",
      "82                               Condition1_RRAe -0.000000  0.000000\n",
      "83                                   MSZoning_RL  0.000000  0.000000\n",
      "84                           Exterior1st_CemntBd  0.000000  0.000000\n",
      "85                              RoofMatl_WdShngl  0.000000  0.000000\n",
      "86                           Exterior2nd_Brk Cmn  0.000000  0.000000\n",
      "87                           Exterior2nd_Wd Sdng -0.000000  0.000000\n",
      "88                               BldgType_TwnhsE -0.000000  0.000000\n",
      "89                                 RoofStyle_Hip  0.000000  0.000000\n",
      "90                               BldgType_Duplex -0.000000  0.000000\n",
      "91                                 has_openporch  0.000000  0.000000\n",
      "92                           Exterior1st_PreCast  0.000000  0.000000\n",
      "93                            MasVnrType_BrkFace  0.000000  0.000000\n",
      "94                               Condition1_PosA  0.000000  0.000000\n",
      "95                             has_EnclosedPorch -0.000000  0.000000\n",
      "96                                      BsmtQual  0.000000  0.000000\n",
      "97                                BldgType_Twnhs -0.000000  0.000000\n",
      "98                               Condition1_PosN  0.000000  0.000000\n",
      "99                                 MSSubClass_50 -0.000000  0.000000\n",
      " \n",
      "skewness:  -0.45463520517849904\n",
      " \n",
      "model_importances.shape:  (100, 3)\n"
     ]
    },
    {
     "data": {
      "image/png": "[encoded data removed]",
      "text/plain": [
       "<Figure size 432x288 with 1 Axes>"
      ]
     },
     "metadata": {},
     "output_type": "display_data"
    }
   ],
   "source": [
    "elast2 = regx3(model= ElasticNet(max_iter=40000), #max_iter=10000000000000\n",
    "x_train = model_vars_data[keeps],\n",
    "x_test = test_vars_data[keeps],\n",
    "y_train = np.log(price_train.SalePrice),\n",
    "y_test = np.log(price_test.SalePrice),\n",
    "params = {'alpha':[0.00001,0.0001, 0.001, 0.01, 0.1, 1, 10],'l1_ratio':[0.1,0.25,0.5,0.75,1],'tol':[0.1]},cv_ = 5,\n",
    "linear_reg = True,\n",
    "tree_based = False)"
   ]
  },
  {
   "cell_type": "code",
   "execution_count": 18,
   "id": "ad7f1661",
   "metadata": {},
   "outputs": [],
   "source": [
    "keeps = to_keep(elast2,0.00003,)"
   ]
  },
  {
   "cell_type": "code",
   "execution_count": 19,
   "id": "444c6d80",
   "metadata": {},
   "outputs": [
    {
     "name": "stdout",
     "output_type": "stream",
     "text": [
      "best params:  {'alpha': 0.01, 'l1_ratio': 0.1, 'tol': 0.1}\n",
      "score:  0.9303973606706714\n",
      "  \n",
      "test score:  0.9193757538335711\n",
      "adj_r2:  0.9293271606354254\n",
      "  \n",
      "adj_r2_test:  0.9164220840282881\n",
      " \n",
      "train RMSE: 0.09958395969696054\n",
      "  \n",
      "test RMSE: 0.10582497327966973\n",
      "                                        features      coef   abs_val\n",
      "0                                   bc_GrLivArea  0.123077  0.123077\n",
      "1                                     house_age_ -0.086552  0.086552\n",
      "2                                    OverallQual  0.079032  0.079032\n",
      "3                                     bc_LotArea  0.053858  0.053858\n",
      "4                                    OverallCond  0.050356  0.050356\n",
      "5                                yeo_TotalBsmtSF  0.050088  0.050088\n",
      "6                                     Fireplaces  0.028373  0.028373\n",
      "7                                      HeatingQC  0.027583  0.027583\n",
      "8                                    KitchenQual  0.026051  0.026051\n",
      "9   Neighborhood_NoRidge_NridgHt_Veenker_StoneBr  0.023721  0.023721\n",
      "10                                    GarageCond  0.020510  0.020510\n",
      "11                                  BsmtFullBath  0.019952  0.019952\n",
      "12                                  BsmtExposure  0.017484  0.017484\n",
      "13                                  BsmtFinType1  0.015156  0.015156\n",
      "14                                    Functional  0.015113  0.015113\n",
      "15                               Condition1_Norm  0.014222  0.014222\n",
      "16                          SaleCondition_Family -0.013785  0.013785\n",
      "17                   Neighborhood_Somerst_Timber  0.012394  0.012394\n",
      "18                           Exterior1st_BrkFace  0.011792  0.011792\n",
      "19                         SaleCondition_Partial  0.010076  0.010076\n",
      "20                               LandContour_HLS  0.009860  0.009860\n",
      "21                                   ScreenPorch  0.009803  0.009803\n",
      "22                                   MSZoning_RM -0.009616  0.009616\n",
      "23                                   GarageYrBlt -0.008122  0.008122\n",
      "24                                     ExterQual  0.007577  0.007577\n",
      "25                                  KitchenAbvGr -0.006369  0.006369\n",
      "26                        years_since_remodeled_ -0.002233  0.002233\n",
      " \n",
      "skewness:  -0.2586515198057541\n",
      " \n",
      "model_importances.shape:  (27, 3)\n"
     ]
    },
    {
     "data": {
      "image/png": "[encoded data removed]",
      "text/plain": [
       "<Figure size 432x288 with 1 Axes>"
      ]
     },
     "metadata": {},
     "output_type": "display_data"
    }
   ],
   "source": [
    "elast3 = regx3(model= ElasticNet(max_iter=40000), #max_iter=10000000000000\n",
    "x_train = model_vars_data[keeps],\n",
    "x_test = test_vars_data[keeps],\n",
    "y_train = np.log(price_train.SalePrice),\n",
    "y_test = np.log(price_test.SalePrice),\n",
    "params = {'alpha':[0.00001,0.0001, 0.001, 0.01, 0.1, 1, 10],'l1_ratio':[0.1,0.25,0.5,0.75,1],'tol':[0.1]},cv_ = 5,\n",
    "linear_reg = True,\n",
    "tree_based = False)"
   ]
  },
  {
   "cell_type": "code",
   "execution_count": 20,
   "id": "e4758147",
   "metadata": {},
   "outputs": [],
   "source": [
    "keeps = to_keep(elast3,0.0001)"
   ]
  },
  {
   "cell_type": "code",
   "execution_count": 21,
   "id": "2f7642e9",
   "metadata": {},
   "outputs": [
    {
     "name": "stdout",
     "output_type": "stream",
     "text": [
      "best params:  {'alpha': 0.01, 'l1_ratio': 0.25, 'tol': 0.1}\n",
      "score:  0.9316580742583013\n",
      "  \n",
      "test score:  0.922585416929976\n",
      "adj_r2:  0.9306072587713845\n",
      "  \n",
      "adj_r2_test:  0.919749333154005\n",
      " \n",
      "train RMSE: 0.0986779554992861\n",
      "  \n",
      "test RMSE: 0.10369712686327844\n",
      "                                        features      coef   abs_val\n",
      "0                                   bc_GrLivArea  0.124997  0.124997\n",
      "1                                    OverallQual  0.087919  0.087919\n",
      "2                                     house_age_ -0.067761  0.067761\n",
      "3                                     bc_LotArea  0.051198  0.051198\n",
      "4                                yeo_TotalBsmtSF  0.046886  0.046886\n",
      "5                                    OverallCond  0.045967  0.045967\n",
      "6                                     Fireplaces  0.026148  0.026148\n",
      "7                                      HeatingQC  0.025882  0.025882\n",
      "8                                    KitchenQual  0.024300  0.024300\n",
      "9   Neighborhood_NoRidge_NridgHt_Veenker_StoneBr  0.024160  0.024160\n",
      "10                                  BsmtFullBath  0.019004  0.019004\n",
      "11                                    GarageCond  0.018805  0.018805\n",
      "12                                  BsmtExposure  0.018204  0.018204\n",
      "13                                  BsmtFinType1  0.016205  0.016205\n",
      "14                                    Functional  0.014182  0.014182\n",
      "15                   Neighborhood_Somerst_Timber  0.013569  0.013569\n",
      "16                               Condition1_Norm  0.013553  0.013553\n",
      "17                                   MSZoning_RM -0.012889  0.012889\n",
      "18                          SaleCondition_Family -0.012862  0.012862\n",
      "19                           Exterior1st_BrkFace  0.010524  0.010524\n",
      "20                         SaleCondition_Partial  0.010199  0.010199\n",
      "21                                   ScreenPorch  0.009023  0.009023\n",
      "22                               LandContour_HLS  0.008614  0.008614\n",
      "23                                  KitchenAbvGr -0.005927  0.005927\n",
      "24                                   GarageYrBlt  0.004281  0.004281\n",
      "25                                     ExterQual  0.002816  0.002816\n",
      "26                        years_since_remodeled_ -0.001749  0.001749\n",
      " \n",
      "skewness:  -0.3611783152378167\n",
      " \n",
      "model_importances.shape:  (27, 3)\n"
     ]
    },
    {
     "data": {
      "image/png": "[encoded data removed]",
      "text/plain": [
       "<Figure size 432x288 with 1 Axes>"
      ]
     },
     "metadata": {},
     "output_type": "display_data"
    }
   ],
   "source": [
    "elast4 = regx3(model= ElasticNet(max_iter=40000), #max_iter=10000000000000\n",
    "x_train = model_vars_data[keeps],\n",
    "x_test = test_vars_data[keeps],\n",
    "y_train = np.log(price_train.SalePrice),\n",
    "y_test = np.log(price_test.SalePrice),\n",
    "params = {'alpha':[0.00001,0.0001, 0.001, 0.01, 0.1, 1, 10],'l1_ratio':[0.1,0.25,0.5,0.75,1],'tol':[0.1]},cv_ = 5,\n",
    "linear_reg = True,\n",
    "tree_based = False)"
   ]
  },
  {
   "cell_type": "code",
   "execution_count": 22,
   "id": "55c9380a",
   "metadata": {},
   "outputs": [],
   "source": [
    "keeps = to_keep(elast4,0.0003)"
   ]
  },
  {
   "cell_type": "code",
   "execution_count": 23,
   "id": "db88abe3",
   "metadata": {},
   "outputs": [
    {
     "name": "stdout",
     "output_type": "stream",
     "text": [
      "best params:  {'alpha': 0.01, 'l1_ratio': 0.1, 'tol': 0.1}\n",
      "score:  0.9304647478126231\n",
      "  \n",
      "test score:  0.9197847521041917\n",
      "adj_r2:  0.9293955839122477\n",
      "  \n",
      "adj_r2_test:  0.9168460659533276\n",
      " \n",
      "train RMSE: 0.0995357409544822\n",
      "  \n",
      "test RMSE: 0.10555621255111906\n",
      "                                        features      coef   abs_val\n",
      "0                                   bc_GrLivArea  0.122193  0.122193\n",
      "1                                     house_age_ -0.083875  0.083875\n",
      "2                                    OverallQual  0.077436  0.077436\n",
      "3                                     bc_LotArea  0.054380  0.054380\n",
      "4                                    OverallCond  0.051442  0.051442\n",
      "5                                yeo_TotalBsmtSF  0.051286  0.051286\n",
      "6                                     Fireplaces  0.029488  0.029488\n",
      "7                                      HeatingQC  0.027748  0.027748\n",
      "8                                    KitchenQual  0.027435  0.027435\n",
      "9   Neighborhood_NoRidge_NridgHt_Veenker_StoneBr  0.025987  0.025987\n",
      "10                                  BsmtFullBath  0.019816  0.019816\n",
      "11                                    GarageCond  0.019165  0.019165\n",
      "12                                  BsmtExposure  0.017404  0.017404\n",
      "13                   Neighborhood_Somerst_Timber  0.015208  0.015208\n",
      "14                                    Functional  0.015099  0.015099\n",
      "15                               Condition1_Norm  0.014067  0.014067\n",
      "16                          SaleCondition_Family -0.013779  0.013779\n",
      "17                                  BsmtFinType1  0.013341  0.013341\n",
      "18                           Exterior1st_BrkFace  0.011801  0.011801\n",
      "19                               LandContour_HLS  0.010342  0.010342\n",
      "20                         SaleCondition_Partial  0.010250  0.010250\n",
      "21                                   ScreenPorch  0.009815  0.009815\n",
      "22                                   MSZoning_RM -0.008889  0.008889\n",
      "23                                  KitchenAbvGr -0.007003  0.007003\n",
      "24                                     ExterQual  0.001895  0.001895\n",
      "25                                   GarageYrBlt -0.000000  0.000000\n",
      "26                        years_since_remodeled_ -0.000000  0.000000\n",
      " \n",
      "skewness:  -0.2660427820542462\n",
      " \n",
      "model_importances.shape:  (27, 3)\n"
     ]
    },
    {
     "data": {
      "image/png": "[encoded data removed]",
      "text/plain": [
       "<Figure size 432x288 with 1 Axes>"
      ]
     },
     "metadata": {},
     "output_type": "display_data"
    }
   ],
   "source": [
    "elast5 = regx3(model= ElasticNet(max_iter=40000), #max_iter=10000000000000\n",
    "x_train = model_vars_data[keeps],\n",
    "x_test = test_vars_data[keeps],\n",
    "y_train = np.log(price_train.SalePrice),\n",
    "y_test = np.log(price_test.SalePrice),\n",
    "params = {'alpha':[0.00001,0.0001, 0.001, 0.01, 0.1, 1, 10],'l1_ratio':[0.1,0.25,0.5,0.75,1],'tol':[0.1]},cv_ = 5,\n",
    "linear_reg = True,\n",
    "tree_based = False)"
   ]
  },
  {
   "cell_type": "code",
   "execution_count": 24,
   "id": "94a36895",
   "metadata": {},
   "outputs": [
    {
     "data": {
      "text/plain": [
       "['SaleCondition_Family',\n",
       " 'Exterior1st_BrkFace',\n",
       " 'LandContour_HLS',\n",
       " 'SaleCondition_Partial']"
      ]
     },
     "execution_count": 24,
     "metadata": {},
     "output_type": "execute_result"
    }
   ],
   "source": [
    "features5 = to_keep(elast5,0)\n",
    "dummies=[]\n",
    "for f in features5:\n",
    "    if model_vars_data[f].max() == 1:\n",
    "        dummies.append(f)\n",
    "\n",
    "\n",
    "dummy_drops = []\n",
    "for feature in dummies:\n",
    "    if round(model_vars_data[feature].mean(),2) < 0.05:\n",
    "        dummy_drops.append(feature)\n",
    "dummy_drops"
   ]
  },
  {
   "cell_type": "code",
   "execution_count": 25,
   "id": "2c6fa560",
   "metadata": {},
   "outputs": [],
   "source": [
    "#remove dummies with less than 5% coverage to reduce noise"
   ]
  },
  {
   "cell_type": "code",
   "execution_count": 26,
   "id": "1b372732",
   "metadata": {},
   "outputs": [],
   "source": [
    "keep_set = set(features5) - set(dummy_drops)\n",
    "keeps = list(keep_set)"
   ]
  },
  {
   "cell_type": "code",
   "execution_count": 27,
   "id": "c404268d",
   "metadata": {},
   "outputs": [
    {
     "name": "stdout",
     "output_type": "stream",
     "text": [
      "best params:  {'alpha': 0.01, 'l1_ratio': 0.25, 'tol': 0.1}\n",
      "score:  0.9256994244921498\n",
      "  \n",
      "test score:  0.9210864985093584\n",
      "adj_r2:  0.9248138898237815\n",
      "  \n",
      "adj_r2_test:  0.9188561034470388\n",
      " \n",
      "train RMSE: 0.10288987166710997\n",
      "  \n",
      "test RMSE: 0.10469621734309048\n",
      "                                        features      coef   abs_val\n",
      "0                                   bc_GrLivArea  0.142891  0.142891\n",
      "1                                    OverallQual  0.078731  0.078731\n",
      "2                                     house_age_ -0.057987  0.057987\n",
      "3                                yeo_TotalBsmtSF  0.054760  0.054760\n",
      "4                                     bc_LotArea  0.041106  0.041106\n",
      "5                                    OverallCond  0.040793  0.040793\n",
      "6                                    KitchenQual  0.031215  0.031215\n",
      "7   Neighborhood_NoRidge_NridgHt_Veenker_StoneBr  0.030036  0.030036\n",
      "8                                   BsmtExposure  0.025428  0.025428\n",
      "9                                     GarageCond  0.021350  0.021350\n",
      "10                                     HeatingQC  0.020421  0.020421\n",
      "11                                    Fireplaces  0.019689  0.019689\n",
      "12                   Neighborhood_Somerst_Timber  0.019215  0.019215\n",
      "13                                  BsmtFinType1  0.018361  0.018361\n",
      "14                                   MSZoning_RM -0.017380  0.017380\n",
      "15                                    Functional  0.016677  0.016677\n",
      "16                                  BsmtFullBath  0.014594  0.014594\n",
      "17                               Condition1_Norm  0.013646  0.013646\n",
      "18                                  KitchenAbvGr -0.010404  0.010404\n",
      "19                                   ScreenPorch  0.009061  0.009061\n",
      "20                                     ExterQual -0.000000  0.000000\n",
      " \n",
      "skewness:  -0.5273074449071109\n",
      " \n",
      "model_importances.shape:  (21, 3)\n"
     ]
    },
    {
     "data": {
      "image/png": "[encoded data removed]",
      "text/plain": [
       "<Figure size 432x288 with 1 Axes>"
      ]
     },
     "metadata": {},
     "output_type": "display_data"
    }
   ],
   "source": [
    "elast6 = regx3(model= ElasticNet(max_iter=40000), #max_iter=10000000000000\n",
    "x_train = model_vars_data[keeps],\n",
    "x_test = test_vars_data[keeps],\n",
    "y_train = np.log(price_train.SalePrice),\n",
    "y_test = np.log(price_test.SalePrice),\n",
    "params = {'alpha':[0.00001,0.0001, 0.001, 0.01, 0.1, 1, 10],'l1_ratio':[0.1,0.25,0.5,0.75,1],'tol':[0.1]},cv_ = 5,\n",
    "linear_reg = True,\n",
    "tree_based = False)"
   ]
  },
  {
   "cell_type": "code",
   "execution_count": 28,
   "id": "8f16880d",
   "metadata": {},
   "outputs": [],
   "source": [
    "keeps = to_keep(elast6,0.0003)"
   ]
  },
  {
   "cell_type": "code",
   "execution_count": 29,
   "id": "e2139fe1",
   "metadata": {},
   "outputs": [
    {
     "name": "stdout",
     "output_type": "stream",
     "text": [
      "best params:  {'alpha': 0.01, 'l1_ratio': 0.1, 'tol': 0.1}\n",
      "score:  0.9242117974899572\n",
      "  \n",
      "test score:  0.9183348878831694\n",
      "adj_r2:  0.9233520334229119\n",
      "  \n",
      "adj_r2_test:  0.9161395891703514\n",
      " \n",
      "train RMSE: 0.10391478422424576\n",
      "  \n",
      "test RMSE: 0.10650588741440059\n",
      "                                        features      coef   abs_val\n",
      "0                                   bc_GrLivArea  0.132783  0.132783\n",
      "1                                    OverallQual  0.105071  0.105071\n",
      "2                                     house_age_ -0.085000  0.085000\n",
      "3                                     bc_LotArea  0.054743  0.054743\n",
      "4                                    OverallCond  0.053715  0.053715\n",
      "5                                yeo_TotalBsmtSF  0.052874  0.052874\n",
      "6                                   BsmtFullBath  0.022949  0.022949\n",
      "7                                    KitchenQual  0.021062  0.021062\n",
      "8   Neighborhood_NoRidge_NridgHt_Veenker_StoneBr  0.018893  0.018893\n",
      "9                                     Fireplaces  0.017342  0.017342\n",
      "10                                     HeatingQC  0.016876  0.016876\n",
      "11                                  BsmtExposure  0.015628  0.015628\n",
      "12                                    GarageCond  0.015105  0.015105\n",
      "13                               Condition1_Norm  0.013935  0.013935\n",
      "14                                    Functional  0.012520  0.012520\n",
      "15                                   ScreenPorch  0.010664  0.010664\n",
      "16                   Neighborhood_Somerst_Timber  0.010485  0.010485\n",
      "17                                  KitchenAbvGr -0.010257  0.010257\n",
      "18                                   MSZoning_RM -0.008498  0.008498\n",
      "19                                  BsmtFinType1  0.005567  0.005567\n",
      " \n",
      "skewness:  -0.40089534723514725\n",
      " \n",
      "model_importances.shape:  (20, 3)\n"
     ]
    },
    {
     "data": {
      "image/png": "[encoded data removed]",
      "text/plain": [
       "<Figure size 432x288 with 1 Axes>"
      ]
     },
     "metadata": {},
     "output_type": "display_data"
    }
   ],
   "source": [
    "elast7 = regx3(model= ElasticNet(max_iter=40000), #max_iter=10000000000000\n",
    "x_train = model_vars_data[keeps],\n",
    "x_test = test_vars_data[keeps],\n",
    "y_train = np.log(price_train.SalePrice),\n",
    "y_test = np.log(price_test.SalePrice),\n",
    "params = {'alpha':[0.00001,0.0001, 0.001, 0.01, 0.1, 1, 10],'l1_ratio':[0.1,0.25,0.5,0.75,1],'tol':[0.1]},cv_ = 5,\n",
    "linear_reg = True,\n",
    "tree_based = False)"
   ]
  },
  {
   "cell_type": "code",
   "execution_count": 34,
   "id": "03f9cf77",
   "metadata": {},
   "outputs": [],
   "source": [
    "keeps = to_keep(elast7,0) #change hyperparameter for l1_ratio"
   ]
  },
  {
   "cell_type": "code",
   "execution_count": 35,
   "id": "0f862d0d",
   "metadata": {},
   "outputs": [
    {
     "name": "stdout",
     "output_type": "stream",
     "text": [
      "best params:  {'alpha': 0.01, 'l1_ratio': 0.01, 'tol': 0.1}\n",
      "score:  0.9264267891143879\n",
      "  \n",
      "test score:  0.9187363970945627\n",
      "adj_r2:  0.9255921525756969\n",
      "  \n",
      "adj_r2_test:  0.9165518916401154\n",
      " \n",
      "train RMSE: 0.10238501344967395\n",
      "  \n",
      "test RMSE: 0.10624374495904741\n",
      "                                        features      coef   abs_val\n",
      "0                                   bc_GrLivArea  0.124541  0.124541\n",
      "1                                    OverallQual  0.084386  0.084386\n",
      "2                                     house_age_ -0.083008  0.083008\n",
      "3                                     bc_LotArea  0.055413  0.055413\n",
      "4                                    OverallCond  0.053849  0.053849\n",
      "5                                yeo_TotalBsmtSF  0.050626  0.050626\n",
      "6                                    KitchenQual  0.029032  0.029032\n",
      "7                                     Fireplaces  0.027465  0.027465\n",
      "8   Neighborhood_NoRidge_NridgHt_Veenker_StoneBr  0.027449  0.027449\n",
      "9                                   BsmtFullBath  0.025095  0.025095\n",
      "10                                     HeatingQC  0.021616  0.021616\n",
      "11                                    GarageCond  0.017426  0.017426\n",
      "12                                  BsmtExposure  0.017317  0.017317\n",
      "13                   Neighborhood_Somerst_Timber  0.016372  0.016372\n",
      "14                                    Functional  0.015187  0.015187\n",
      "15                               Condition1_Norm  0.014943  0.014943\n",
      "16                                   ScreenPorch  0.011099  0.011099\n",
      "17                                   MSZoning_RM -0.010000  0.010000\n",
      "18                                  KitchenAbvGr -0.008664  0.008664\n",
      "19                                  BsmtFinType1  0.007947  0.007947\n",
      " \n",
      "skewness:  -0.39681277145925625\n",
      " \n",
      "model_importances.shape:  (20, 3)\n"
     ]
    },
    {
     "data": {
      "image/png": "[encoded data removed]",
      "text/plain": [
       "<Figure size 432x288 with 1 Axes>"
      ]
     },
     "metadata": {},
     "output_type": "display_data"
    }
   ],
   "source": [
    "elast8 = regx3(model= ElasticNet(max_iter=40000), #max_iter=10000000000000\n",
    "x_train = model_vars_data[keeps],\n",
    "x_test = test_vars_data[keeps],\n",
    "y_train = np.log(price_train.SalePrice),\n",
    "y_test = np.log(price_test.SalePrice),\n",
    "params = {'alpha':[0.00001,0.0001, 0.001, 0.01, 0.1, 1, 10],'l1_ratio':[0.001,0.01,0.1,0.25,0.5,0.75,1],'tol':[0.1]},cv_ = 5,\n",
    "linear_reg = True,\n",
    "tree_based = False)"
   ]
  },
  {
   "cell_type": "code",
   "execution_count": 40,
   "id": "cac0be12",
   "metadata": {},
   "outputs": [],
   "source": [
    "keeps = to_keep(elast8, 0.008)"
   ]
  },
  {
   "cell_type": "code",
   "execution_count": 41,
   "id": "5c877ce4",
   "metadata": {},
   "outputs": [
    {
     "name": "stdout",
     "output_type": "stream",
     "text": [
      "best params:  {'alpha': 0.01, 'l1_ratio': 0.001, 'tol': 0.1}\n",
      "score:  0.9257087055127882\n",
      "  \n",
      "test score:  0.9177072630459275\n",
      "adj_r2:  0.9249085158329372\n",
      "  \n",
      "adj_r2_test:  0.9156085221034747\n",
      " \n",
      "train RMSE: 0.10288344538549608\n",
      "  \n",
      "test RMSE: 0.10691437150566677\n",
      "                                        features      coef   abs_val\n",
      "0                                   bc_GrLivArea  0.124207  0.124207\n",
      "1                                    OverallQual  0.085575  0.085575\n",
      "2                                     house_age_ -0.085257  0.085257\n",
      "3                                     bc_LotArea  0.054655  0.054655\n",
      "4                                    OverallCond  0.054586  0.054586\n",
      "5                                yeo_TotalBsmtSF  0.052923  0.052923\n",
      "6                                    KitchenQual  0.028623  0.028623\n",
      "7                                     Fireplaces  0.028418  0.028418\n",
      "8                                   BsmtFullBath  0.025894  0.025894\n",
      "9   Neighborhood_NoRidge_NridgHt_Veenker_StoneBr  0.025618  0.025618\n",
      "10                                     HeatingQC  0.021151  0.021151\n",
      "11                                  BsmtExposure  0.017970  0.017970\n",
      "12                                    GarageCond  0.017278  0.017278\n",
      "13                   Neighborhood_Somerst_Timber  0.015741  0.015741\n",
      "14                                    Functional  0.015311  0.015311\n",
      "15                               Condition1_Norm  0.015087  0.015087\n",
      "16                                   ScreenPorch  0.010950  0.010950\n",
      "17                                   MSZoning_RM -0.010149  0.010149\n",
      "18                                  KitchenAbvGr -0.009101  0.009101\n",
      " \n",
      "skewness:  -0.37636546007444055\n",
      " \n",
      "model_importances.shape:  (19, 3)\n"
     ]
    },
    {
     "data": {
      "image/png": "[encoded data removed]",
      "text/plain": [
       "<Figure size 432x288 with 1 Axes>"
      ]
     },
     "metadata": {},
     "output_type": "display_data"
    }
   ],
   "source": [
    "elast9 = regx3(model= ElasticNet(max_iter=40000), #max_iter=10000000000000\n",
    "x_train = model_vars_data[keeps],\n",
    "x_test = test_vars_data[keeps],\n",
    "y_train = np.log(price_train.SalePrice),\n",
    "y_test = np.log(price_test.SalePrice),\n",
    "params = {'alpha':[0.00001,0.0001, 0.001, 0.01, 0.1, 1, 10],'l1_ratio':[0.001,0.01,0.1,0.25,0.5,0.75,1],'tol':[0.1]},cv_ = 5,\n",
    "linear_reg = True,\n",
    "tree_based = False)"
   ]
  },
  {
   "cell_type": "code",
   "execution_count": 42,
   "id": "bad58202",
   "metadata": {},
   "outputs": [],
   "source": [
    "keeps = to_keep(elast9, 0.01) "
   ]
  },
  {
   "cell_type": "code",
   "execution_count": 43,
   "id": "53ba9341",
   "metadata": {},
   "outputs": [
    {
     "name": "stdout",
     "output_type": "stream",
     "text": [
      "best params:  {'alpha': 0.01, 'l1_ratio': 0.001, 'tol': 0.1}\n",
      "score:  0.9247034819546918\n",
      "  \n",
      "test score:  0.9156530792894018\n",
      "adj_r2:  0.9239355854533798\n",
      "  \n",
      "adj_r2_test:  0.9136178988969208\n",
      " \n",
      "train RMSE: 0.10357715632423864\n",
      "  \n",
      "test RMSE: 0.10824053996344252\n",
      "                                        features      coef   abs_val\n",
      "0                                   bc_GrLivArea  0.118353  0.118353\n",
      "1                                    OverallQual  0.087091  0.087091\n",
      "2                                     house_age_ -0.085064  0.085064\n",
      "3                                     bc_LotArea  0.055315  0.055315\n",
      "4                                    OverallCond  0.055037  0.055037\n",
      "5                                yeo_TotalBsmtSF  0.052346  0.052346\n",
      "6                                     Fireplaces  0.030465  0.030465\n",
      "7                                    KitchenQual  0.029594  0.029594\n",
      "8   Neighborhood_NoRidge_NridgHt_Veenker_StoneBr  0.026404  0.026404\n",
      "9                                   BsmtFullBath  0.026184  0.026184\n",
      "10                                     HeatingQC  0.022767  0.022767\n",
      "11                                    GarageCond  0.018722  0.018722\n",
      "12                                  BsmtExposure  0.017776  0.017776\n",
      "13                   Neighborhood_Somerst_Timber  0.016151  0.016151\n",
      "14                               Condition1_Norm  0.015417  0.015417\n",
      "15                                    Functional  0.014404  0.014404\n",
      "16                                   ScreenPorch  0.011465  0.011465\n",
      "17                                   MSZoning_RM -0.010389  0.010389\n",
      " \n",
      "skewness:  -0.37026141727312994\n",
      " \n",
      "model_importances.shape:  (18, 3)\n"
     ]
    },
    {
     "data": {
      "image/png": "[encoded data removed]",
      "text/plain": [
       "<Figure size 432x288 with 1 Axes>"
      ]
     },
     "metadata": {},
     "output_type": "display_data"
    }
   ],
   "source": [
    "elast10 = regx3(model= ElasticNet(max_iter=40000), #max_iter=10000000000000\n",
    "x_train = model_vars_data[keeps],\n",
    "x_test = test_vars_data[keeps],\n",
    "y_train = np.log(price_train.SalePrice),\n",
    "y_test = np.log(price_test.SalePrice),\n",
    "params = {'alpha':[0.00001,0.0001, 0.001, 0.01, 0.1, 1, 10],'l1_ratio':[0.001,0.01,0.1,0.25,0.5,0.75,1],'tol':[0.1]},cv_ = 5,\n",
    "linear_reg = True,\n",
    "tree_based = False)"
   ]
  },
  {
   "cell_type": "code",
   "execution_count": 44,
   "id": "d7158592",
   "metadata": {},
   "outputs": [],
   "source": [
    "keeps = to_keep(elast7,0) #change hyperparameter for l1_ratio from #7 #change tol"
   ]
  },
  {
   "cell_type": "code",
   "execution_count": 45,
   "id": "6ada8490",
   "metadata": {},
   "outputs": [
    {
     "name": "stdout",
     "output_type": "stream",
     "text": [
      "best params:  {'alpha': 0.01, 'l1_ratio': 0.01, 'tol': 0.02}\n",
      "score:  0.92798125947084\n",
      "  \n",
      "test score:  0.9214605024859138\n",
      "adj_r2:  0.9271642573094201\n",
      "  \n",
      "adj_r2_test:  0.9193492256710191\n",
      " \n",
      "train RMSE: 0.10129763307968465\n",
      "  \n",
      "test RMSE: 0.10444782317576307\n",
      "                                        features      coef   abs_val\n",
      "0                                   bc_GrLivArea  0.138665  0.138665\n",
      "1                                    OverallQual  0.077781  0.077781\n",
      "2                                     house_age_ -0.071244  0.071244\n",
      "3                                    OverallCond  0.051519  0.051519\n",
      "4                                     bc_LotArea  0.049013  0.049013\n",
      "5                                yeo_TotalBsmtSF  0.044772  0.044772\n",
      "6   Neighborhood_NoRidge_NridgHt_Veenker_StoneBr  0.029160  0.029160\n",
      "7                                    KitchenQual  0.024499  0.024499\n",
      "8                                      HeatingQC  0.024026  0.024026\n",
      "9                                     Fireplaces  0.023996  0.023996\n",
      "10                                  BsmtExposure  0.022074  0.022074\n",
      "11                                  BsmtFullBath  0.020842  0.020842\n",
      "12                                    GarageCond  0.019195  0.019195\n",
      "13                   Neighborhood_Somerst_Timber  0.018331  0.018331\n",
      "14                                    Functional  0.017205  0.017205\n",
      "15                                   MSZoning_RM -0.015982  0.015982\n",
      "16                                  BsmtFinType1  0.015448  0.015448\n",
      "17                               Condition1_Norm  0.015332  0.015332\n",
      "18                                  KitchenAbvGr -0.011354  0.011354\n",
      "19                                   ScreenPorch  0.011216  0.011216\n",
      " \n",
      "skewness:  -0.46388481314754404\n",
      " \n",
      "model_importances.shape:  (20, 3)\n"
     ]
    },
    {
     "data": {
      "image/png": "[encoded data removed]",
      "text/plain": [
       "<Figure size 432x288 with 1 Axes>"
      ]
     },
     "metadata": {},
     "output_type": "display_data"
    }
   ],
   "source": [
    "elast11 = regx3(model= ElasticNet(max_iter=40000), #max_iter=10000000000000\n",
    "x_train = model_vars_data[keeps],\n",
    "x_test = test_vars_data[keeps],\n",
    "y_train = np.log(price_train.SalePrice),\n",
    "y_test = np.log(price_test.SalePrice),\n",
    "params = {'alpha':[0.00001,0.0001, 0.001, 0.01, 0.1, 1, 10],'l1_ratio':[0.001,0.01,0.1,0.25,0.5,0.75,1],'tol':[0.02]},cv_ = 5,\n",
    "linear_reg = True,\n",
    "tree_based = False)"
   ]
  },
  {
   "cell_type": "markdown",
   "id": "9b2bb5e2",
   "metadata": {},
   "source": [
    "### error starting to go up - best model elast11"
   ]
  }
 ],
 "metadata": {
  "kernelspec": {
   "display_name": "Python 3 (ipykernel)",
   "language": "python",
   "name": "python3"
  },
  "language_info": {
   "codemirror_mode": {
    "name": "ipython",
    "version": 3
   },
   "file_extension": ".py",
   "mimetype": "text/x-python",
   "name": "python",
   "nbconvert_exporter": "python",
   "pygments_lexer": "ipython3",
   "version": "3.9.7"
  }
 },
 "nbformat": 4,
 "nbformat_minor": 5
}
