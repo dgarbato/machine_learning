{
 "cells": [
  {
   "cell_type": "code",
   "execution_count": 1,
   "id": "383232a3",
   "metadata": {},
   "outputs": [],
   "source": [
    "## from sklearn.linear_model import LinearRegression\n",
    "from sklearn.linear_model import Lasso\n",
    "import matplotlib.pyplot as plt\n",
    "import seaborn as sns\n",
    "\n",
    "import numpy as np\n",
    "import pandas as pd\n",
    "%matplotlib inline"
   ]
  },
  {
   "cell_type": "code",
   "execution_count": 2,
   "id": "d27f6fec",
   "metadata": {},
   "outputs": [],
   "source": [
    "from sklearn.metrics import mean_squared_error"
   ]
  },
  {
   "cell_type": "code",
   "execution_count": 3,
   "id": "00e06e09",
   "metadata": {},
   "outputs": [],
   "source": [
    "import matplotlib.pyplot as plt\n",
    "import seaborn as sns"
   ]
  },
  {
   "cell_type": "code",
   "execution_count": 4,
   "id": "5538bc43",
   "metadata": {},
   "outputs": [],
   "source": [
    "it1 = pd.read_csv(r'C:\\Users\\dgarb\\OneDrive\\Documents\\Data Science Bootcamp August\\Machine Learning Project\\iteration files\\it1.csv',index_col=0)"
   ]
  },
  {
   "cell_type": "code",
   "execution_count": 5,
   "id": "8117ffe7",
   "metadata": {},
   "outputs": [
    {
     "data": {
      "text/html": [
       "<div>\n",
       "<style scoped>\n",
       "    .dataframe tbody tr th:only-of-type {\n",
       "        vertical-align: middle;\n",
       "    }\n",
       "\n",
       "    .dataframe tbody tr th {\n",
       "        vertical-align: top;\n",
       "    }\n",
       "\n",
       "    .dataframe thead th {\n",
       "        text-align: right;\n",
       "    }\n",
       "</style>\n",
       "<table border=\"1\" class=\"dataframe\">\n",
       "  <thead>\n",
       "    <tr style=\"text-align: right;\">\n",
       "      <th></th>\n",
       "      <th>log_GrLivArea</th>\n",
       "      <th>has_pool</th>\n",
       "      <th>log_LotArea</th>\n",
       "      <th>log_MasVnrArea</th>\n",
       "      <th>bc_LotArea</th>\n",
       "      <th>yeo_TotalBsmtSF</th>\n",
       "      <th>yeo_GarageArea</th>\n",
       "      <th>yeo_WoodDeckSF</th>\n",
       "      <th>yeo_OpenPorchSF</th>\n",
       "      <th>log_price</th>\n",
       "    </tr>\n",
       "  </thead>\n",
       "  <tbody>\n",
       "    <tr>\n",
       "      <th>0</th>\n",
       "      <td>7.444249</td>\n",
       "      <td>False</td>\n",
       "      <td>9.041922</td>\n",
       "      <td>5.283204</td>\n",
       "      <td>10.433680</td>\n",
       "      <td>198.284295</td>\n",
       "      <td>204.517915</td>\n",
       "      <td>-0.000000</td>\n",
       "      <td>4.227899</td>\n",
       "      <td>12.247694</td>\n",
       "    </tr>\n",
       "    <tr>\n",
       "      <th>1</th>\n",
       "      <td>7.140453</td>\n",
       "      <td>False</td>\n",
       "      <td>9.169518</td>\n",
       "      <td>0.000000</td>\n",
       "      <td>10.602809</td>\n",
       "      <td>264.601145</td>\n",
       "      <td>177.329636</td>\n",
       "      <td>4.594581</td>\n",
       "      <td>0.000000</td>\n",
       "      <td>12.109011</td>\n",
       "    </tr>\n",
       "    <tr>\n",
       "      <th>2</th>\n",
       "      <td>7.487734</td>\n",
       "      <td>False</td>\n",
       "      <td>9.328123</td>\n",
       "      <td>5.093750</td>\n",
       "      <td>10.813973</td>\n",
       "      <td>209.206786</td>\n",
       "      <td>222.579733</td>\n",
       "      <td>-0.000000</td>\n",
       "      <td>3.844769</td>\n",
       "      <td>12.317167</td>\n",
       "    </tr>\n",
       "    <tr>\n",
       "      <th>3</th>\n",
       "      <td>7.448334</td>\n",
       "      <td>False</td>\n",
       "      <td>9.164296</td>\n",
       "      <td>0.000000</td>\n",
       "      <td>10.595874</td>\n",
       "      <td>180.779930</td>\n",
       "      <td>232.664362</td>\n",
       "      <td>-0.000000</td>\n",
       "      <td>3.659326</td>\n",
       "      <td>11.849398</td>\n",
       "    </tr>\n",
       "    <tr>\n",
       "      <th>4</th>\n",
       "      <td>7.695303</td>\n",
       "      <td>False</td>\n",
       "      <td>9.565214</td>\n",
       "      <td>5.860786</td>\n",
       "      <td>11.131570</td>\n",
       "      <td>246.150776</td>\n",
       "      <td>288.451992</td>\n",
       "      <td>4.310041</td>\n",
       "      <td>4.559556</td>\n",
       "      <td>12.429216</td>\n",
       "    </tr>\n",
       "  </tbody>\n",
       "</table>\n",
       "</div>"
      ],
      "text/plain": [
       "   log_GrLivArea  has_pool  log_LotArea  log_MasVnrArea  bc_LotArea  \\\n",
       "0       7.444249     False     9.041922        5.283204   10.433680   \n",
       "1       7.140453     False     9.169518        0.000000   10.602809   \n",
       "2       7.487734     False     9.328123        5.093750   10.813973   \n",
       "3       7.448334     False     9.164296        0.000000   10.595874   \n",
       "4       7.695303     False     9.565214        5.860786   11.131570   \n",
       "\n",
       "   yeo_TotalBsmtSF  yeo_GarageArea  yeo_WoodDeckSF  yeo_OpenPorchSF  log_price  \n",
       "0       198.284295      204.517915       -0.000000         4.227899  12.247694  \n",
       "1       264.601145      177.329636        4.594581         0.000000  12.109011  \n",
       "2       209.206786      222.579733       -0.000000         3.844769  12.317167  \n",
       "3       180.779930      232.664362       -0.000000         3.659326  11.849398  \n",
       "4       246.150776      288.451992        4.310041         4.559556  12.429216  "
      ]
     },
     "execution_count": 5,
     "metadata": {},
     "output_type": "execute_result"
    }
   ],
   "source": [
    "it1.head()"
   ]
  },
  {
   "cell_type": "code",
   "execution_count": 6,
   "id": "23447627",
   "metadata": {},
   "outputs": [],
   "source": [
    "from sklearn.preprocessing import StandardScaler\n",
    "from sklearn.model_selection import GridSearchCV"
   ]
  },
  {
   "cell_type": "code",
   "execution_count": 7,
   "id": "79a0b467",
   "metadata": {},
   "outputs": [
    {
     "data": {
      "text/plain": [
       "Index(['log_GrLivArea', 'has_pool', 'log_LotArea', 'log_MasVnrArea',\n",
       "       'bc_LotArea', 'yeo_TotalBsmtSF', 'yeo_GarageArea', 'yeo_WoodDeckSF',\n",
       "       'yeo_OpenPorchSF', 'log_price'],\n",
       "      dtype='object')"
      ]
     },
     "execution_count": 7,
     "metadata": {},
     "output_type": "execute_result"
    }
   ],
   "source": [
    "# on attaining buddhahood in this lifetime\n",
    "it1.columns"
   ]
  },
  {
   "cell_type": "code",
   "execution_count": null,
   "id": "81d087a1",
   "metadata": {},
   "outputs": [],
   "source": []
  },
  {
   "cell_type": "code",
   "execution_count": 8,
   "id": "32f5c33c",
   "metadata": {},
   "outputs": [],
   "source": [
    "lasso_it1 = ['log_GrLivArea', 'log_LotArea','log_MasVnrArea', 'bc_LotArea', 'yeo_TotalBsmtSF', 'yeo_GarageArea','yeo_WoodDeckSF', 'yeo_OpenPorchSF']\n",
    "\n",
    "# lasso_it1= it1[lasso_it1]\n",
    "\n",
    "log_price = it1['log_price']"
   ]
  },
  {
   "cell_type": "code",
   "execution_count": 9,
   "id": "c77e8507",
   "metadata": {},
   "outputs": [],
   "source": [
    "ss = StandardScaler()\n",
    "X = ss.fit_transform(it1[lasso_it1])"
   ]
  },
  {
   "cell_type": "code",
   "execution_count": 10,
   "id": "0baa5468",
   "metadata": {},
   "outputs": [],
   "source": [
    "lasso = Lasso(max_iter=3000)"
   ]
  },
  {
   "cell_type": "code",
   "execution_count": 11,
   "id": "0aba6c4d",
   "metadata": {},
   "outputs": [],
   "source": [
    "params = {\"alpha\": [0.0001, 0.001, 0.01, 0.1, 1, 10]}\n",
    "gs = GridSearchCV(lasso, params, cv=5, return_train_score=True, refit=True)"
   ]
  },
  {
   "cell_type": "code",
   "execution_count": 12,
   "id": "1fedc307",
   "metadata": {},
   "outputs": [
    {
     "data": {
      "text/plain": [
       "{'alpha': 0.001}"
      ]
     },
     "execution_count": 12,
     "metadata": {},
     "output_type": "execute_result"
    }
   ],
   "source": [
    "gs.fit(X,log_price)\n",
    "gs.best_params_"
   ]
  },
  {
   "cell_type": "code",
   "execution_count": 13,
   "id": "991ba68f",
   "metadata": {},
   "outputs": [
    {
     "data": {
      "text/plain": [
       "0.7402846709901738"
      ]
     },
     "execution_count": 13,
     "metadata": {},
     "output_type": "execute_result"
    }
   ],
   "source": [
    "gs.score(X,log_price)"
   ]
  },
  {
   "cell_type": "code",
   "execution_count": 14,
   "id": "a3e1972c",
   "metadata": {},
   "outputs": [
    {
     "data": {
      "text/plain": [
       "(1460, 8)"
      ]
     },
     "execution_count": 14,
     "metadata": {},
     "output_type": "execute_result"
    }
   ],
   "source": [
    "X.shape"
   ]
  },
  {
   "cell_type": "code",
   "execution_count": 15,
   "id": "f75fc435",
   "metadata": {},
   "outputs": [
    {
     "data": {
      "text/plain": [
       "0.7388527463643443"
      ]
     },
     "execution_count": 15,
     "metadata": {},
     "output_type": "execute_result"
    }
   ],
   "source": [
    "#Adj r2 = 1-(1-R2)*(n-1)/(n-p-1)\n",
    "\n",
    "adj_r2 = 1-(1-gs.score(X,log_price))*(X.shape[0] - 1) / (X.shape[0] - X.shape[1] - 1)\n",
    "adj_r2"
   ]
  },
  {
   "cell_type": "code",
   "execution_count": 16,
   "id": "430e3e20",
   "metadata": {},
   "outputs": [
    {
     "name": "stdout",
     "output_type": "stream",
     "text": [
      "RMSE: 0.20350002481057688\n"
     ]
    }
   ],
   "source": [
    "lasso_pred = gs.best_estimator_.predict(X)\n",
    "print('RMSE: ' + str(mean_squared_error(lasso_pred,log_price)**0.5))"
   ]
  },
  {
   "cell_type": "code",
   "execution_count": 17,
   "id": "a9d94aa9",
   "metadata": {},
   "outputs": [],
   "source": [
    "residuals = log_price - lasso_pred"
   ]
  },
  {
   "cell_type": "code",
   "execution_count": 18,
   "id": "d3bf6f31",
   "metadata": {},
   "outputs": [
    {
     "data": {
      "text/plain": [
       "-1.7036682889828907"
      ]
     },
     "execution_count": 18,
     "metadata": {},
     "output_type": "execute_result"
    }
   ],
   "source": [
    "import scipy\n",
    "scipy.stats.skew(residuals)"
   ]
  },
  {
   "cell_type": "code",
   "execution_count": 19,
   "id": "e036a3dc",
   "metadata": {},
   "outputs": [
    {
     "data": {
      "image/png": "[encoded data removed]",
      "text/plain": [
       "<Figure size 432x288 with 1 Axes>"
      ]
     },
     "metadata": {},
     "output_type": "display_data"
    }
   ],
   "source": [
    "sns.set_theme(style='darkgrid')\n",
    "sns.histplot(residuals, bins=20);"
   ]
  },
  {
   "cell_type": "code",
   "execution_count": 20,
   "id": "d09805f5",
   "metadata": {},
   "outputs": [
    {
     "data": {
      "text/plain": [
       "[0.16165347190976712,\n",
       " 0.021276734069581263,\n",
       " 0.03029291938270315,\n",
       " 0.0,\n",
       " 0.09098678769681486,\n",
       " 0.09781443815919923,\n",
       " 0.04463718686947238,\n",
       " 0.04574362898884545]"
      ]
     },
     "execution_count": 20,
     "metadata": {},
     "output_type": "execute_result"
    }
   ],
   "source": [
    "coefs = list(gs.best_estimator_.coef_)\n",
    "coefs"
   ]
  },
  {
   "cell_type": "code",
   "execution_count": 21,
   "id": "b254d8db",
   "metadata": {},
   "outputs": [
    {
     "data": {
      "text/plain": [
       "[('log_GrLivArea', 0.16165347190976712),\n",
       " ('yeo_GarageArea', 0.09781443815919923),\n",
       " ('yeo_TotalBsmtSF', 0.09098678769681486),\n",
       " ('yeo_OpenPorchSF', 0.04574362898884545),\n",
       " ('yeo_WoodDeckSF', 0.04463718686947238),\n",
       " ('log_MasVnrArea', 0.03029291938270315),\n",
       " ('log_LotArea', 0.021276734069581263),\n",
       " ('bc_LotArea', 0.0)]"
      ]
     },
     "execution_count": 21,
     "metadata": {},
     "output_type": "execute_result"
    }
   ],
   "source": [
    "sorted(list(zip(lasso_it1,coefs)),reverse=True, key=lambda x: x[1])"
   ]
  },
  {
   "cell_type": "markdown",
   "id": "2ce4ca55",
   "metadata": {},
   "source": [
    "# iteration 2"
   ]
  },
  {
   "cell_type": "code",
   "execution_count": 53,
   "id": "b2b72b22",
   "metadata": {},
   "outputs": [],
   "source": [
    "it2 = pd.read_csv(r'C:\\Users\\dgarb\\OneDrive\\Documents\\Data Science Bootcamp August\\Machine Learning Project\\iteration files\\it2.csv')"
   ]
  },
  {
   "cell_type": "code",
   "execution_count": 54,
   "id": "78370ca3",
   "metadata": {},
   "outputs": [
    {
     "data": {
      "text/plain": [
       "['Unnamed: 0',\n",
       " 'log_GrLivArea',\n",
       " 'log_LotArea',\n",
       " 'log_MasVnrArea',\n",
       " 'bc_LotArea',\n",
       " 'yeo_TotalBsmtSF',\n",
       " 'yeo_GarageArea',\n",
       " 'log_WoodDeckSF',\n",
       " 'log_OpenPorchSF',\n",
       " 'log_first_FlrSF',\n",
       " 'OverallQual',\n",
       " 'OverallCond',\n",
       " 'BsmtFinSF1',\n",
       " 'YearBuilt',\n",
       " 'YearRemodAdd',\n",
       " 'BsmtFullBath',\n",
       " 'BsmtHalfBath',\n",
       " 'FullBath',\n",
       " 'HalfBath',\n",
       " 'BedroomAbvGr',\n",
       " 'KitchenAbvGr',\n",
       " 'TotRmsAbvGrd',\n",
       " 'Fireplaces']"
      ]
     },
     "execution_count": 54,
     "metadata": {},
     "output_type": "execute_result"
    }
   ],
   "source": [
    "#lasso_it2 = [x != 'log_price' for x in it2.columns]\n",
    "lasso_it2 = list(filter(lambda x: x != 'log_price', it2.columns))\n",
    "lasso_it2                 "
   ]
  },
  {
   "cell_type": "code",
   "execution_count": 56,
   "id": "f1adeac6",
   "metadata": {},
   "outputs": [],
   "source": [
    "ss = StandardScaler()\n",
    "X = ss.fit_transform(it2[lasso_it2])\n"
   ]
  },
  {
   "cell_type": "code",
   "execution_count": 25,
   "id": "b35883ea",
   "metadata": {},
   "outputs": [],
   "source": [
    "def lasso_reg(df=None, varlist=None, y=None, gs=None, m_iter=None, model=None):\n",
    "    \n",
    "    ss = StandardScaler()\n",
    "    X = ss.fit_transform(df[varlist])\n",
    "\n",
    "    y_hat = y\n",
    "    \n",
    "    model = Lasso(max_iter = m_iter)\n",
    "    \n",
    "    params = {\"alpha\": [0.0001, 0.001, 0.01, 0.1, 1, 10]}\n",
    "    gs = GridSearchCV(lasso, params, cv=5, return_train_score=True, refit=True)\n",
    "\n",
    "    gs.fit(X, y_hat)\n",
    "    \n",
    "    return gs\n",
    "    \n",
    "    \n",
    "    "
   ]
  },
  {
   "cell_type": "code",
   "execution_count": null,
   "id": "088f9c2b",
   "metadata": {},
   "outputs": [],
   "source": []
  },
  {
   "cell_type": "code",
   "execution_count": 57,
   "id": "1ff5a639",
   "metadata": {},
   "outputs": [],
   "source": [
    "lasso2 = Lasso(max_iter=15000)"
   ]
  },
  {
   "cell_type": "code",
   "execution_count": 58,
   "id": "59968991",
   "metadata": {},
   "outputs": [],
   "source": [
    "params = {\"alpha\": [0.0001, 0.001, 0.01, 0.1, 1, 10]}\n",
    "gs2 = GridSearchCV(lasso2, params, cv=5, return_train_score=True, refit=True)\n"
   ]
  },
  {
   "cell_type": "code",
   "execution_count": 59,
   "id": "d5d7cbd4",
   "metadata": {},
   "outputs": [
    {
     "data": {
      "text/plain": [
       "{'alpha': 0.001}"
      ]
     },
     "execution_count": 59,
     "metadata": {},
     "output_type": "execute_result"
    }
   ],
   "source": [
    "gs2.fit(X,log_price)\n",
    "gs2.best_params_\n"
   ]
  },
  {
   "cell_type": "code",
   "execution_count": 60,
   "id": "b6f2b056",
   "metadata": {},
   "outputs": [
    {
     "data": {
      "text/plain": [
       "0.8774691246337702"
      ]
     },
     "execution_count": 60,
     "metadata": {},
     "output_type": "execute_result"
    }
   ],
   "source": [
    "gs2.score(X,log_price)"
   ]
  },
  {
   "cell_type": "code",
   "execution_count": 61,
   "id": "71d50405",
   "metadata": {},
   "outputs": [
    {
     "name": "stdout",
     "output_type": "stream",
     "text": [
      "RMSE: 0.1397778779303385\n"
     ]
    }
   ],
   "source": [
    "lasso_pred = gs2.best_estimator_.predict(X)\n",
    "print('RMSE: ' + str(mean_squared_error(lasso_pred,log_price)**0.5))\n"
   ]
  },
  {
   "cell_type": "code",
   "execution_count": 62,
   "id": "841b790a",
   "metadata": {},
   "outputs": [],
   "source": [
    "residuals = log_price - lasso_pred\n"
   ]
  },
  {
   "cell_type": "code",
   "execution_count": 63,
   "id": "b94900e1",
   "metadata": {},
   "outputs": [
    {
     "name": "stdout",
     "output_type": "stream",
     "text": [
      "RMSE: 37031.44883752671\n"
     ]
    }
   ],
   "source": [
    "lasso_pred_real_dollars = np.exp(lasso_pred)\n",
    "price_real_dollars = np.exp(log_price)\n",
    "\n",
    "print('RMSE: ' + str(mean_squared_error(lasso_pred_real_dollars,price_real_dollars)**0.5))"
   ]
  },
  {
   "cell_type": "code",
   "execution_count": 64,
   "id": "de3c4f4b",
   "metadata": {},
   "outputs": [
    {
     "data": {
      "text/plain": [
       "-2.7747496671142025"
      ]
     },
     "execution_count": 64,
     "metadata": {},
     "output_type": "execute_result"
    }
   ],
   "source": [
    "scipy.stats.skew(residuals)"
   ]
  },
  {
   "cell_type": "code",
   "execution_count": 65,
   "id": "5b4cb3cb",
   "metadata": {},
   "outputs": [
    {
     "data": {
      "image/png": "[encoded data removed]",
      "text/plain": [
       "<Figure size 432x288 with 1 Axes>"
      ]
     },
     "metadata": {},
     "output_type": "display_data"
    }
   ],
   "source": [
    "sns.set_theme(style='darkgrid')\n",
    "sns.histplot(residuals, bins=20);"
   ]
  },
  {
   "cell_type": "code",
   "execution_count": 67,
   "id": "2cda2f5a",
   "metadata": {},
   "outputs": [
    {
     "data": {
      "text/plain": [
       "[-0.0015348294749545084,\n",
       " 0.11064593509736563,\n",
       " 0.04317920155091236,\n",
       " -0.0,\n",
       " 0.0,\n",
       " 0.02451720536764365,\n",
       " 0.03627529900171721,\n",
       " 0.006149015535818426,\n",
       " 0.0,\n",
       " 0.027095765886379127,\n",
       " 0.1124831719788834,\n",
       " 0.05550987356746189,\n",
       " 0.008292932394501842,\n",
       " 0.0879899197613156,\n",
       " 0.021352533261457918,\n",
       " 0.026632563719270835,\n",
       " 0.0021467362719487246,\n",
       " 0.0161635690100097,\n",
       " 0.01154389820296116,\n",
       " -0.008558267311957255,\n",
       " -0.01976068127606827,\n",
       " 0.00954129505340381,\n",
       " 0.022769574316812802]"
      ]
     },
     "execution_count": 67,
     "metadata": {},
     "output_type": "execute_result"
    }
   ],
   "source": [
    "coefs2 = list(gs2.best_estimator_.coef_)\n",
    "coefs2"
   ]
  },
  {
   "cell_type": "code",
   "execution_count": 68,
   "id": "bc8cf83a",
   "metadata": {},
   "outputs": [
    {
     "data": {
      "image/png": "[encoded data removed]",
      "text/plain": [
       "<Figure size 432x288 with 1 Axes>"
      ]
     },
     "metadata": {},
     "output_type": "display_data"
    }
   ],
   "source": [
    "sns.set_theme(style='darkgrid')\n",
    "sns.histplot(np.absolute(coefs2), bins=20);"
   ]
  },
  {
   "cell_type": "code",
   "execution_count": 69,
   "id": "a8cc4a52",
   "metadata": {},
   "outputs": [
    {
     "data": {
      "text/plain": [
       "[('Unnamed: 0', -0.0015348294749545084),\n",
       " ('log_GrLivArea', 0.11064593509736563),\n",
       " ('log_LotArea', 0.04317920155091236),\n",
       " ('log_MasVnrArea', -0.0),\n",
       " ('bc_LotArea', 0.0),\n",
       " ('yeo_TotalBsmtSF', 0.02451720536764365),\n",
       " ('yeo_GarageArea', 0.03627529900171721),\n",
       " ('log_WoodDeckSF', 0.006149015535818426),\n",
       " ('log_OpenPorchSF', 0.0),\n",
       " ('log_first_FlrSF', 0.027095765886379127),\n",
       " ('OverallQual', 0.1124831719788834),\n",
       " ('OverallCond', 0.05550987356746189),\n",
       " ('BsmtFinSF1', 0.008292932394501842),\n",
       " ('YearBuilt', 0.0879899197613156),\n",
       " ('YearRemodAdd', 0.021352533261457918),\n",
       " ('BsmtFullBath', 0.026632563719270835),\n",
       " ('BsmtHalfBath', 0.0021467362719487246),\n",
       " ('FullBath', 0.0161635690100097),\n",
       " ('HalfBath', 0.01154389820296116),\n",
       " ('BedroomAbvGr', -0.008558267311957255),\n",
       " ('KitchenAbvGr', -0.01976068127606827),\n",
       " ('TotRmsAbvGrd', 0.00954129505340381),\n",
       " ('Fireplaces', 0.022769574316812802)]"
      ]
     },
     "execution_count": 69,
     "metadata": {},
     "output_type": "execute_result"
    }
   ],
   "source": [
    "list(zip(lasso_it2,coefs2))"
   ]
  },
  {
   "cell_type": "code",
   "execution_count": 70,
   "id": "f3b9fc17",
   "metadata": {},
   "outputs": [
    {
     "data": {
      "text/plain": [
       "[('OverallQual', 0.1124831719788834),\n",
       " ('log_GrLivArea', 0.11064593509736563),\n",
       " ('YearBuilt', 0.0879899197613156),\n",
       " ('OverallCond', 0.05550987356746189),\n",
       " ('log_LotArea', 0.04317920155091236),\n",
       " ('yeo_GarageArea', 0.03627529900171721),\n",
       " ('log_first_FlrSF', 0.027095765886379127),\n",
       " ('BsmtFullBath', 0.026632563719270835),\n",
       " ('yeo_TotalBsmtSF', 0.02451720536764365),\n",
       " ('Fireplaces', 0.022769574316812802),\n",
       " ('YearRemodAdd', 0.021352533261457918),\n",
       " ('FullBath', 0.0161635690100097),\n",
       " ('HalfBath', 0.01154389820296116),\n",
       " ('TotRmsAbvGrd', 0.00954129505340381),\n",
       " ('BsmtFinSF1', 0.008292932394501842),\n",
       " ('log_WoodDeckSF', 0.006149015535818426),\n",
       " ('BsmtHalfBath', 0.0021467362719487246),\n",
       " ('log_MasVnrArea', -0.0),\n",
       " ('bc_LotArea', 0.0),\n",
       " ('log_OpenPorchSF', 0.0),\n",
       " ('Unnamed: 0', -0.0015348294749545084),\n",
       " ('BedroomAbvGr', -0.008558267311957255),\n",
       " ('KitchenAbvGr', -0.01976068127606827)]"
      ]
     },
     "execution_count": 70,
     "metadata": {},
     "output_type": "execute_result"
    }
   ],
   "source": [
    "sorted(list(zip(lasso_it2,coefs2)),reverse=True, key=lambda x: x[1])"
   ]
  },
  {
   "cell_type": "code",
   "execution_count": null,
   "id": "719651f9",
   "metadata": {},
   "outputs": [],
   "source": []
  }
 ],
 "metadata": {
  "kernelspec": {
   "display_name": "Python 3 (ipykernel)",
   "language": "python",
   "name": "python3"
  },
  "language_info": {
   "codemirror_mode": {
    "name": "ipython",
    "version": 3
   },
   "file_extension": ".py",
   "mimetype": "text/x-python",
   "name": "python",
   "nbconvert_exporter": "python",
   "pygments_lexer": "ipython3",
   "version": "3.9.7"
  }
 },
 "nbformat": 4,
 "nbformat_minor": 5
}
