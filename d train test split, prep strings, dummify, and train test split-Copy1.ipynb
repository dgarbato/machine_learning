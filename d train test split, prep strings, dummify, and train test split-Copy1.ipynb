{
 "cells": [
  {
   "cell_type": "code",
   "execution_count": 1,
   "id": "2766a6bf",
   "metadata": {},
   "outputs": [],
   "source": [
    "import numpy as np\n",
    "import pandas as pd\n",
    "%matplotlib inline\n",
    "\n",
    "\n",
    "housing = pd.read_csv(r'C:\\Users\\dgarb\\OneDrive\\Documents\\Data Science Bootcamp August\\Machine Learning Project\\data\\Ames_HousePrice.csv')"
   ]
  },
  {
   "cell_type": "code",
   "execution_count": 2,
   "id": "3f9f8044",
   "metadata": {},
   "outputs": [],
   "source": [
    "from scipy import stats"
   ]
  },
  {
   "cell_type": "code",
   "execution_count": 3,
   "id": "8d07aae5",
   "metadata": {},
   "outputs": [
    {
     "data": {
      "text/plain": [
       "0"
      ]
     },
     "execution_count": 3,
     "metadata": {},
     "output_type": "execute_result"
    }
   ],
   "source": [
    "np.sum(housing.index.duplicated())"
   ]
  },
  {
   "cell_type": "markdown",
   "id": "f210785f",
   "metadata": {},
   "source": [
    "### convert from integer to string\n"
   ]
  },
  {
   "cell_type": "code",
   "execution_count": 4,
   "id": "69a46fed",
   "metadata": {},
   "outputs": [],
   "source": [
    "#change these categorical fields from integer to string\n",
    "\n",
    "convert_dict = {'MSSubClass':str,\n",
    "                \"MoSold\":str\n",
    "               }\n",
    "\n",
    "housing = housing.astype(convert_dict)"
   ]
  },
  {
   "cell_type": "code",
   "execution_count": 5,
   "id": "065e7042",
   "metadata": {},
   "outputs": [
    {
     "name": "stdout",
     "output_type": "stream",
     "text": [
      "<class 'pandas.core.frame.DataFrame'>\n",
      "RangeIndex: 2580 entries, 0 to 2579\n",
      "Data columns (total 82 columns):\n",
      " #   Column         Non-Null Count  Dtype  \n",
      "---  ------         --------------  -----  \n",
      " 0   Unnamed: 0     2580 non-null   int64  \n",
      " 1   PID            2580 non-null   int64  \n",
      " 2   GrLivArea      2580 non-null   int64  \n",
      " 3   SalePrice      2580 non-null   int64  \n",
      " 4   MSSubClass     2580 non-null   object \n",
      " 5   MSZoning       2580 non-null   object \n",
      " 6   LotFrontage    2118 non-null   float64\n",
      " 7   LotArea        2580 non-null   int64  \n",
      " 8   Street         2580 non-null   object \n",
      " 9   Alley          168 non-null    object \n",
      " 10  LotShape       2580 non-null   object \n",
      " 11  LandContour    2580 non-null   object \n",
      " 12  Utilities      2580 non-null   object \n",
      " 13  LotConfig      2580 non-null   object \n",
      " 14  LandSlope      2580 non-null   object \n",
      " 15  Neighborhood   2580 non-null   object \n",
      " 16  Condition1     2580 non-null   object \n",
      " 17  Condition2     2580 non-null   object \n",
      " 18  BldgType       2580 non-null   object \n",
      " 19  HouseStyle     2580 non-null   object \n",
      " 20  OverallQual    2580 non-null   int64  \n",
      " 21  OverallCond    2580 non-null   int64  \n",
      " 22  YearBuilt      2580 non-null   int64  \n",
      " 23  YearRemodAdd   2580 non-null   int64  \n",
      " 24  RoofStyle      2580 non-null   object \n",
      " 25  RoofMatl       2580 non-null   object \n",
      " 26  Exterior1st    2580 non-null   object \n",
      " 27  Exterior2nd    2580 non-null   object \n",
      " 28  MasVnrType     2566 non-null   object \n",
      " 29  MasVnrArea     2566 non-null   float64\n",
      " 30  ExterQual      2580 non-null   object \n",
      " 31  ExterCond      2580 non-null   object \n",
      " 32  Foundation     2580 non-null   object \n",
      " 33  BsmtQual       2511 non-null   object \n",
      " 34  BsmtCond       2511 non-null   object \n",
      " 35  BsmtExposure   2509 non-null   object \n",
      " 36  BsmtFinType1   2511 non-null   object \n",
      " 37  BsmtFinSF1     2579 non-null   float64\n",
      " 38  BsmtFinType2   2510 non-null   object \n",
      " 39  BsmtFinSF2     2579 non-null   float64\n",
      " 40  BsmtUnfSF      2579 non-null   float64\n",
      " 41  TotalBsmtSF    2579 non-null   float64\n",
      " 42  Heating        2580 non-null   object \n",
      " 43  HeatingQC      2580 non-null   object \n",
      " 44  CentralAir     2580 non-null   object \n",
      " 45  Electrical     2579 non-null   object \n",
      " 46  1stFlrSF       2580 non-null   int64  \n",
      " 47  2ndFlrSF       2580 non-null   int64  \n",
      " 48  LowQualFinSF   2580 non-null   int64  \n",
      " 49  BsmtFullBath   2578 non-null   float64\n",
      " 50  BsmtHalfBath   2578 non-null   float64\n",
      " 51  FullBath       2580 non-null   int64  \n",
      " 52  HalfBath       2580 non-null   int64  \n",
      " 53  BedroomAbvGr   2580 non-null   int64  \n",
      " 54  KitchenAbvGr   2580 non-null   int64  \n",
      " 55  KitchenQual    2580 non-null   object \n",
      " 56  TotRmsAbvGrd   2580 non-null   int64  \n",
      " 57  Functional     2580 non-null   object \n",
      " 58  Fireplaces     2580 non-null   int64  \n",
      " 59  FireplaceQu    1339 non-null   object \n",
      " 60  GarageType     2453 non-null   object \n",
      " 61  GarageYrBlt    2451 non-null   float64\n",
      " 62  GarageFinish   2451 non-null   object \n",
      " 63  GarageCars     2579 non-null   float64\n",
      " 64  GarageArea     2579 non-null   float64\n",
      " 65  GarageQual     2451 non-null   object \n",
      " 66  GarageCond     2451 non-null   object \n",
      " 67  PavedDrive     2580 non-null   object \n",
      " 68  WoodDeckSF     2580 non-null   int64  \n",
      " 69  OpenPorchSF    2580 non-null   int64  \n",
      " 70  EnclosedPorch  2580 non-null   int64  \n",
      " 71  3SsnPorch      2580 non-null   int64  \n",
      " 72  ScreenPorch    2580 non-null   int64  \n",
      " 73  PoolArea       2580 non-null   int64  \n",
      " 74  PoolQC         9 non-null      object \n",
      " 75  Fence          525 non-null    object \n",
      " 76  MiscFeature    97 non-null     object \n",
      " 77  MiscVal        2580 non-null   int64  \n",
      " 78  MoSold         2580 non-null   object \n",
      " 79  YrSold         2580 non-null   int64  \n",
      " 80  SaleType       2580 non-null   object \n",
      " 81  SaleCondition  2580 non-null   object \n",
      "dtypes: float64(11), int64(26), object(45)\n",
      "memory usage: 1.6+ MB\n"
     ]
    }
   ],
   "source": [
    "housing.info()"
   ]
  },
  {
   "cell_type": "code",
   "execution_count": 6,
   "id": "5f70cbef",
   "metadata": {},
   "outputs": [],
   "source": [
    "housing.drop(['PID','Unnamed: 0'],axis=1, inplace=True)"
   ]
  },
  {
   "cell_type": "markdown",
   "id": "1777cedf",
   "metadata": {},
   "source": [
    "#### delete outliers based on analysis in Outlier Check notebook"
   ]
  },
  {
   "cell_type": "code",
   "execution_count": 7,
   "id": "2ad8b620",
   "metadata": {},
   "outputs": [],
   "source": [
    "housing['log_price'] = np.log(housing['SalePrice']) "
   ]
  },
  {
   "cell_type": "code",
   "execution_count": 8,
   "id": "ddecb0d3",
   "metadata": {},
   "outputs": [],
   "source": [
    "#outlier deletions\n",
    "\n",
    "housing['bc_GrLivArea'],_ = stats.boxcox(housing.GrLivArea)\n",
    "\n",
    "sum(np.logical_and((housing['bc_GrLivArea'] < 8.5), (housing['log_price'] < 9.5)))\n",
    "\n",
    "filt = np.logical_and((housing['bc_GrLivArea'] < 8.5), (housing['log_price'] < 9.5))\n",
    "\n",
    "housing = housing[~ filt]\n",
    "\n",
    "#####################################\n",
    "\n",
    "filt2 = housing.LotArea > 100000\n",
    "\n",
    "housing = housing[~ filt2]\n",
    "\n",
    "#####################################\n",
    "\n",
    "mask = housing.GrLivArea > 4000\n",
    "housing = housing[~ mask]\n",
    "#####################################\n",
    "\n",
    "filt3 = housing['LotFrontage'] > 300\n",
    "housing = housing[~filt3]\n"
   ]
  },
  {
   "cell_type": "code",
   "execution_count": 9,
   "id": "640aeec9",
   "metadata": {},
   "outputs": [],
   "source": [
    "def proc_freq(df,variable_):  #Note variable_ must be given in quotes example: variable_ = 'xyz'\n",
    "    datax = df[variable_].value_counts().sort_index()\n",
    "    \n",
    "    datay = pd.DataFrame({\n",
    "        variable_: datax.index,\n",
    "        'Frequency': datax.values,\n",
    "        'Percent': ((datax.values/datax.values.sum())*100).round(2),\n",
    "        'Cumulative_Frequency': datax.values.cumsum(),\n",
    "        'Cumulative_Percent': ((datax.values.cumsum()/datax.values.sum())*100).round(2)   })\n",
    "    \n",
    "    #datay.set_index(variable_)\n",
    "    #return(datay.set_index(variable_))\n",
    "    return(datay)"
   ]
  },
  {
   "cell_type": "code",
   "execution_count": 10,
   "id": "cad7c3e7",
   "metadata": {},
   "outputs": [
    {
     "data": {
      "text/html": [
       "<div>\n",
       "<style scoped>\n",
       "    .dataframe tbody tr th:only-of-type {\n",
       "        vertical-align: middle;\n",
       "    }\n",
       "\n",
       "    .dataframe tbody tr th {\n",
       "        vertical-align: top;\n",
       "    }\n",
       "\n",
       "    .dataframe thead th {\n",
       "        text-align: right;\n",
       "    }\n",
       "</style>\n",
       "<table border=\"1\" class=\"dataframe\">\n",
       "  <thead>\n",
       "    <tr style=\"text-align: right;\">\n",
       "      <th></th>\n",
       "      <th>MSZoning</th>\n",
       "      <th>Frequency</th>\n",
       "      <th>Percent</th>\n",
       "      <th>Cumulative_Frequency</th>\n",
       "      <th>Cumulative_Percent</th>\n",
       "    </tr>\n",
       "  </thead>\n",
       "  <tbody>\n",
       "    <tr>\n",
       "      <th>0</th>\n",
       "      <td>A (agr)</td>\n",
       "      <td>1</td>\n",
       "      <td>0.04</td>\n",
       "      <td>1</td>\n",
       "      <td>0.04</td>\n",
       "    </tr>\n",
       "    <tr>\n",
       "      <th>1</th>\n",
       "      <td>C (all)</td>\n",
       "      <td>17</td>\n",
       "      <td>0.66</td>\n",
       "      <td>18</td>\n",
       "      <td>0.70</td>\n",
       "    </tr>\n",
       "    <tr>\n",
       "      <th>2</th>\n",
       "      <td>FV</td>\n",
       "      <td>113</td>\n",
       "      <td>4.39</td>\n",
       "      <td>131</td>\n",
       "      <td>5.09</td>\n",
       "    </tr>\n",
       "    <tr>\n",
       "      <th>3</th>\n",
       "      <td>I (all)</td>\n",
       "      <td>2</td>\n",
       "      <td>0.08</td>\n",
       "      <td>133</td>\n",
       "      <td>5.17</td>\n",
       "    </tr>\n",
       "    <tr>\n",
       "      <th>4</th>\n",
       "      <td>RH</td>\n",
       "      <td>21</td>\n",
       "      <td>0.82</td>\n",
       "      <td>154</td>\n",
       "      <td>5.99</td>\n",
       "    </tr>\n",
       "    <tr>\n",
       "      <th>5</th>\n",
       "      <td>RL</td>\n",
       "      <td>2001</td>\n",
       "      <td>77.80</td>\n",
       "      <td>2155</td>\n",
       "      <td>83.79</td>\n",
       "    </tr>\n",
       "    <tr>\n",
       "      <th>6</th>\n",
       "      <td>RM</td>\n",
       "      <td>417</td>\n",
       "      <td>16.21</td>\n",
       "      <td>2572</td>\n",
       "      <td>100.00</td>\n",
       "    </tr>\n",
       "  </tbody>\n",
       "</table>\n",
       "</div>"
      ],
      "text/plain": [
       "  MSZoning  Frequency  Percent  Cumulative_Frequency  Cumulative_Percent\n",
       "0  A (agr)          1     0.04                     1                0.04\n",
       "1  C (all)         17     0.66                    18                0.70\n",
       "2       FV        113     4.39                   131                5.09\n",
       "3  I (all)          2     0.08                   133                5.17\n",
       "4       RH         21     0.82                   154                5.99\n",
       "5       RL       2001    77.80                  2155               83.79\n",
       "6       RM        417    16.21                  2572              100.00"
      ]
     },
     "execution_count": 10,
     "metadata": {},
     "output_type": "execute_result"
    }
   ],
   "source": [
    "proc_freq(housing,'MSZoning')"
   ]
  },
  {
   "cell_type": "markdown",
   "id": "b48db9db",
   "metadata": {},
   "source": [
    "### keep only residential properties"
   ]
  },
  {
   "cell_type": "code",
   "execution_count": 11,
   "id": "845519a4",
   "metadata": {},
   "outputs": [],
   "source": [
    "mask = housing['MSZoning'].isin(['FV','RH', 'RL','RP', 'RM'])#there isn't a RP\n",
    "mask      \n",
    "housing = housing[mask]"
   ]
  },
  {
   "cell_type": "code",
   "execution_count": 12,
   "id": "dd0e4b6b",
   "metadata": {},
   "outputs": [
    {
     "data": {
      "text/html": [
       "<div>\n",
       "<style scoped>\n",
       "    .dataframe tbody tr th:only-of-type {\n",
       "        vertical-align: middle;\n",
       "    }\n",
       "\n",
       "    .dataframe tbody tr th {\n",
       "        vertical-align: top;\n",
       "    }\n",
       "\n",
       "    .dataframe thead th {\n",
       "        text-align: right;\n",
       "    }\n",
       "</style>\n",
       "<table border=\"1\" class=\"dataframe\">\n",
       "  <thead>\n",
       "    <tr style=\"text-align: right;\">\n",
       "      <th></th>\n",
       "      <th>MSZoning</th>\n",
       "      <th>Frequency</th>\n",
       "      <th>Percent</th>\n",
       "      <th>Cumulative_Frequency</th>\n",
       "      <th>Cumulative_Percent</th>\n",
       "    </tr>\n",
       "  </thead>\n",
       "  <tbody>\n",
       "    <tr>\n",
       "      <th>0</th>\n",
       "      <td>FV</td>\n",
       "      <td>113</td>\n",
       "      <td>4.43</td>\n",
       "      <td>113</td>\n",
       "      <td>4.43</td>\n",
       "    </tr>\n",
       "    <tr>\n",
       "      <th>1</th>\n",
       "      <td>RH</td>\n",
       "      <td>21</td>\n",
       "      <td>0.82</td>\n",
       "      <td>134</td>\n",
       "      <td>5.25</td>\n",
       "    </tr>\n",
       "    <tr>\n",
       "      <th>2</th>\n",
       "      <td>RL</td>\n",
       "      <td>2001</td>\n",
       "      <td>78.41</td>\n",
       "      <td>2135</td>\n",
       "      <td>83.66</td>\n",
       "    </tr>\n",
       "    <tr>\n",
       "      <th>3</th>\n",
       "      <td>RM</td>\n",
       "      <td>417</td>\n",
       "      <td>16.34</td>\n",
       "      <td>2552</td>\n",
       "      <td>100.00</td>\n",
       "    </tr>\n",
       "  </tbody>\n",
       "</table>\n",
       "</div>"
      ],
      "text/plain": [
       "  MSZoning  Frequency  Percent  Cumulative_Frequency  Cumulative_Percent\n",
       "0       FV        113     4.43                   113                4.43\n",
       "1       RH         21     0.82                   134                5.25\n",
       "2       RL       2001    78.41                  2135               83.66\n",
       "3       RM        417    16.34                  2552              100.00"
      ]
     },
     "execution_count": 12,
     "metadata": {},
     "output_type": "execute_result"
    }
   ],
   "source": [
    "proc_freq(housing,'MSZoning')"
   ]
  },
  {
   "cell_type": "markdown",
   "id": "b179514c",
   "metadata": {},
   "source": [
    "#### drop neighborhoods\n",
    "\n",
    "GrnHill is a private senior community and is not listed as a neighborhood in the data description and can be dropped.\n",
    "\n",
    "Landmrk is not listed as a neighborhood in the data description or online and can be dropped."
   ]
  },
  {
   "cell_type": "code",
   "execution_count": 13,
   "id": "1291b450",
   "metadata": {},
   "outputs": [],
   "source": [
    "vals = ['GrnHill','Landmrk']\n",
    "housing = housing[~housing['Neighborhood'].isin(vals)]"
   ]
  },
  {
   "cell_type": "code",
   "execution_count": 14,
   "id": "5a804f3a",
   "metadata": {},
   "outputs": [],
   "source": [
    "housing2 = housing.copy()"
   ]
  },
  {
   "cell_type": "markdown",
   "id": "e80bcaff",
   "metadata": {},
   "source": [
    "###  miss_cols"
   ]
  },
  {
   "cell_type": "code",
   "execution_count": 15,
   "id": "6806a5a8",
   "metadata": {},
   "outputs": [],
   "source": [
    "def miss_cols(df):\n",
    "    missing = np.sum(df.isnull(),axis=0)\n",
    "    \n",
    "    miss_ind = np.sum(df.isnull(),axis=0) > 0\n",
    "    \n",
    "    vals = pd.Series(filter(lambda x: x != 0,missing))\n",
    "     \n",
    "    cols_miss = df.columns[miss_ind]\n",
    "\n",
    "    L=list(zip(cols_miss,vals, round(vals/df.shape[0],4)))\n",
    "    \n",
    "    return sorted(L,reverse=True,key=lambda x: x[2])  "
   ]
  },
  {
   "cell_type": "markdown",
   "id": "8a2d64b5",
   "metadata": {},
   "source": [
    "# create a df and a list of numerics"
   ]
  },
  {
   "cell_type": "code",
   "execution_count": 16,
   "id": "d108a60b",
   "metadata": {},
   "outputs": [
    {
     "data": {
      "text/plain": [
       "['GrLivArea',\n",
       " 'SalePrice',\n",
       " 'LotFrontage',\n",
       " 'LotArea',\n",
       " 'OverallQual',\n",
       " 'OverallCond',\n",
       " 'YearBuilt',\n",
       " 'YearRemodAdd',\n",
       " 'MasVnrArea',\n",
       " 'BsmtFinSF1',\n",
       " 'BsmtFinSF2',\n",
       " 'BsmtUnfSF',\n",
       " 'TotalBsmtSF',\n",
       " '1stFlrSF',\n",
       " '2ndFlrSF',\n",
       " 'LowQualFinSF',\n",
       " 'BsmtFullBath',\n",
       " 'BsmtHalfBath',\n",
       " 'FullBath',\n",
       " 'HalfBath',\n",
       " 'BedroomAbvGr',\n",
       " 'KitchenAbvGr',\n",
       " 'TotRmsAbvGrd',\n",
       " 'Fireplaces',\n",
       " 'GarageYrBlt',\n",
       " 'GarageCars',\n",
       " 'GarageArea',\n",
       " 'WoodDeckSF',\n",
       " 'OpenPorchSF',\n",
       " 'EnclosedPorch',\n",
       " '3SsnPorch',\n",
       " 'ScreenPorch',\n",
       " 'PoolArea',\n",
       " 'MiscVal',\n",
       " 'YrSold',\n",
       " 'log_price',\n",
       " 'bc_GrLivArea']"
      ]
     },
     "execution_count": 16,
     "metadata": {},
     "output_type": "execute_result"
    }
   ],
   "source": [
    "df_num = housing.select_dtypes(include=['int64','float64'])\n",
    "# df_num.info()\n",
    "numerics = list(df_num.columns)\n",
    "numerics"
   ]
  },
  {
   "cell_type": "markdown",
   "id": "7ff119db",
   "metadata": {},
   "source": [
    "# create a df of columns that are not numeric and create a list of those columns"
   ]
  },
  {
   "cell_type": "code",
   "execution_count": 17,
   "id": "db4816c7",
   "metadata": {},
   "outputs": [
    {
     "name": "stdout",
     "output_type": "stream",
     "text": [
      "<class 'pandas.core.frame.DataFrame'>\n",
      "Int64Index: 2549 entries, 0 to 2579\n",
      "Data columns (total 45 columns):\n",
      " #   Column         Non-Null Count  Dtype \n",
      "---  ------         --------------  ----- \n",
      " 0   MSSubClass     2549 non-null   object\n",
      " 1   MSZoning       2549 non-null   object\n",
      " 2   Street         2549 non-null   object\n",
      " 3   Alley          166 non-null    object\n",
      " 4   LotShape       2549 non-null   object\n",
      " 5   LandContour    2549 non-null   object\n",
      " 6   Utilities      2549 non-null   object\n",
      " 7   LotConfig      2549 non-null   object\n",
      " 8   LandSlope      2549 non-null   object\n",
      " 9   Neighborhood   2549 non-null   object\n",
      " 10  Condition1     2549 non-null   object\n",
      " 11  Condition2     2549 non-null   object\n",
      " 12  BldgType       2549 non-null   object\n",
      " 13  HouseStyle     2549 non-null   object\n",
      " 14  RoofStyle      2549 non-null   object\n",
      " 15  RoofMatl       2549 non-null   object\n",
      " 16  Exterior1st    2549 non-null   object\n",
      " 17  Exterior2nd    2549 non-null   object\n",
      " 18  MasVnrType     2535 non-null   object\n",
      " 19  ExterQual      2549 non-null   object\n",
      " 20  ExterCond      2549 non-null   object\n",
      " 21  Foundation     2549 non-null   object\n",
      " 22  BsmtQual       2483 non-null   object\n",
      " 23  BsmtCond       2483 non-null   object\n",
      " 24  BsmtExposure   2481 non-null   object\n",
      " 25  BsmtFinType1   2483 non-null   object\n",
      " 26  BsmtFinType2   2482 non-null   object\n",
      " 27  Heating        2549 non-null   object\n",
      " 28  HeatingQC      2549 non-null   object\n",
      " 29  CentralAir     2549 non-null   object\n",
      " 30  Electrical     2548 non-null   object\n",
      " 31  KitchenQual    2549 non-null   object\n",
      " 32  Functional     2549 non-null   object\n",
      " 33  FireplaceQu    1328 non-null   object\n",
      " 34  GarageType     2428 non-null   object\n",
      " 35  GarageFinish   2426 non-null   object\n",
      " 36  GarageQual     2426 non-null   object\n",
      " 37  GarageCond     2426 non-null   object\n",
      " 38  PavedDrive     2549 non-null   object\n",
      " 39  PoolQC         9 non-null      object\n",
      " 40  Fence          522 non-null    object\n",
      " 41  MiscFeature    94 non-null     object\n",
      " 42  MoSold         2549 non-null   object\n",
      " 43  SaleType       2549 non-null   object\n",
      " 44  SaleCondition  2549 non-null   object\n",
      "dtypes: object(45)\n",
      "memory usage: 916.0+ KB\n"
     ]
    }
   ],
   "source": [
    "df_obj= housing.select_dtypes(exclude=['int64','float64'])\n",
    "\n",
    "object_cols = df_obj.columns\n",
    "\n",
    "df_obj.info()"
   ]
  },
  {
   "cell_type": "markdown",
   "id": "e8ed1e61",
   "metadata": {},
   "source": [
    "# string fields with missing values\n",
    "\n"
   ]
  },
  {
   "cell_type": "code",
   "execution_count": 18,
   "id": "30111e3e",
   "metadata": {},
   "outputs": [
    {
     "data": {
      "text/plain": [
       "[('PoolQC', 2540, 0.9965),\n",
       " ('MiscFeature', 2455, 0.9631),\n",
       " ('Alley', 2383, 0.9349),\n",
       " ('Fence', 2027, 0.7952),\n",
       " ('FireplaceQu', 1221, 0.479),\n",
       " ('GarageFinish', 123, 0.0483),\n",
       " ('GarageQual', 123, 0.0483),\n",
       " ('GarageCond', 123, 0.0483),\n",
       " ('GarageType', 121, 0.0475),\n",
       " ('BsmtExposure', 68, 0.0267),\n",
       " ('BsmtFinType2', 67, 0.0263),\n",
       " ('BsmtQual', 66, 0.0259),\n",
       " ('BsmtCond', 66, 0.0259),\n",
       " ('BsmtFinType1', 66, 0.0259),\n",
       " ('MasVnrType', 14, 0.0055),\n",
       " ('Electrical', 1, 0.0004)]"
      ]
     },
     "execution_count": 18,
     "metadata": {},
     "output_type": "execute_result"
    }
   ],
   "source": [
    "miss_cols(df_obj) #string fields with missing values"
   ]
  },
  {
   "cell_type": "markdown",
   "id": "46c821a7",
   "metadata": {},
   "source": [
    "###  create flags where poor coverage for categorical features"
   ]
  },
  {
   "cell_type": "markdown",
   "id": "cae7bbd4",
   "metadata": {},
   "source": [
    "### to drop: 'PoolQC','MiscFeature', 'Alley'"
   ]
  },
  {
   "cell_type": "code",
   "execution_count": 19,
   "id": "01497032",
   "metadata": {},
   "outputs": [],
   "source": [
    "# PoolQC - will create pool dummy \n",
    "housing['has_pool'] = housing.PoolQC.notnull()\n",
    "\n",
    "# MiscFeature : data description says NA means \"no misc feature\"\n",
    "housing['has_miscfeature'] = housing.MiscFeature.notnull()\n",
    "\n",
    "# Alley : data description says NA means \"no alley access\"\n",
    "housing['alley_access'] = housing.Alley.notnull()\n",
    "\n",
    "\n",
    "# housing['has_pool']"
   ]
  },
  {
   "cell_type": "markdown",
   "id": "6f06982f",
   "metadata": {},
   "source": [
    "###  impute strings where appropriate"
   ]
  },
  {
   "cell_type": "code",
   "execution_count": 20,
   "id": "59970c23",
   "metadata": {},
   "outputs": [
    {
     "data": {
      "text/plain": [
       "[('PoolQC', 2540, 0.9965),\n",
       " ('MiscFeature', 2455, 0.9631),\n",
       " ('Alley', 2383, 0.9349),\n",
       " ('Fence', 2027, 0.7952),\n",
       " ('FireplaceQu', 1221, 0.479),\n",
       " ('GarageFinish', 123, 0.0483),\n",
       " ('GarageQual', 123, 0.0483),\n",
       " ('GarageCond', 123, 0.0483),\n",
       " ('GarageType', 121, 0.0475),\n",
       " ('BsmtExposure', 68, 0.0267),\n",
       " ('BsmtFinType2', 67, 0.0263),\n",
       " ('BsmtQual', 66, 0.0259),\n",
       " ('BsmtCond', 66, 0.0259),\n",
       " ('BsmtFinType1', 66, 0.0259),\n",
       " ('MasVnrType', 14, 0.0055),\n",
       " ('Electrical', 1, 0.0004)]"
      ]
     },
     "execution_count": 20,
     "metadata": {},
     "output_type": "execute_result"
    }
   ],
   "source": [
    "miss_cols(df_obj) \n"
   ]
  },
  {
   "cell_type": "code",
   "execution_count": 21,
   "id": "e94cb881",
   "metadata": {},
   "outputs": [],
   "source": [
    "# data description says NA means \"no fence\"\n",
    "housing.Fence = housing.Fence.fillna('No')\n",
    "\n",
    "# FireplaceQu : data description says NA means \"no fireplace\"\n",
    "housing.FireplaceQu = housing.FireplaceQu.fillna('No')\n",
    "\n",
    "# data description says NA for garage features is \"no garage\"\n",
    "housing.GarageType = housing.GarageType.fillna('No')\n",
    "\n",
    "housing.GarageFinish = housing.GarageFinish.fillna('No')\n",
    "\n",
    "housing.GarageQual = housing.GarageQual.fillna('No') \n",
    "\n",
    "housing.GarageCond = housing.GarageCond.fillna('No')\n",
    "\n",
    "# data description says NA for basement features is \"no basement\"\n",
    "housing.BsmtExposure = housing.BsmtExposure.fillna('No')\n",
    "\n",
    "housing.BsmtFinType2 = housing.BsmtFinType2.fillna('No')\n",
    "\n",
    "housing.BsmtQual = housing.BsmtQual.fillna('No')\n",
    "\n",
    "housing.BsmtCond = housing.BsmtCond.fillna('No')\n",
    "\n",
    "housing.BsmtFinType2 = housing.BsmtFinType2.fillna('No')\n",
    "\n",
    "housing.BsmtFinType1 = housing.BsmtFinType1.fillna('No')\n",
    "\n",
    "# MasVnrType : NA probably means no veneer\n",
    "housing.MasVnrType = housing.MasVnrType.fillna('None')\n",
    "\n",
    "#Since only 1 missing value, based on the description Mixed is a good guess\n",
    "housing.Electrical = housing.Electrical.fillna('Mixed')\n"
   ]
  },
  {
   "cell_type": "code",
   "execution_count": 22,
   "id": "f7b2f954",
   "metadata": {},
   "outputs": [
    {
     "data": {
      "text/plain": [
       "[('PoolQC', 2540, 0.9965),\n",
       " ('MiscFeature', 2455, 0.9631),\n",
       " ('Alley', 2383, 0.9349)]"
      ]
     },
     "execution_count": 22,
     "metadata": {},
     "output_type": "execute_result"
    }
   ],
   "source": [
    "df_obj2= housing.select_dtypes(exclude=['int64','float64'])\n",
    "miss_cols(df_obj2)"
   ]
  },
  {
   "cell_type": "markdown",
   "id": "6c7f58eb",
   "metadata": {},
   "source": [
    "### create ordinals where appropriate"
   ]
  },
  {
   "cell_type": "code",
   "execution_count": 23,
   "id": "747de5a3",
   "metadata": {},
   "outputs": [
    {
     "name": "stdout",
     "output_type": "stream",
     "text": [
      "  ExterQual  Frequency  Percent  Cumulative_Frequency  Cumulative_Percent\n",
      "0        Ex         71     2.79                    71                2.79\n",
      "1        Fa         26     1.02                    97                3.81\n",
      "2        Gd        837    32.84                   934               36.64\n",
      "3        TA       1615    63.36                  2549              100.00\n",
      "  ExterCond  Frequency  Percent  Cumulative_Frequency  Cumulative_Percent\n",
      "0        Ex         11     0.43                    11                0.43\n",
      "1        Fa         50     1.96                    61                2.39\n",
      "2        Gd        277    10.87                   338               13.26\n",
      "3        Po          2     0.08                   340               13.34\n",
      "4        TA       2209    86.66                  2549              100.00\n",
      "  BsmtQual  Frequency  Percent  Cumulative_Frequency  Cumulative_Percent\n",
      "0       Ex        186     7.30                   186                7.30\n",
      "1       Fa         75     2.94                   261               10.24\n",
      "2       Gd       1071    42.02                  1332               52.26\n",
      "3       No         66     2.59                  1398               54.85\n",
      "4       TA       1151    45.15                  2549              100.00\n",
      "  BsmtCond  Frequency  Percent  Cumulative_Frequency  Cumulative_Percent\n",
      "0       Ex          3     0.12                     3                0.12\n",
      "1       Fa         82     3.22                    85                3.33\n",
      "2       Gd        101     3.96                   186                7.30\n",
      "3       No         66     2.59                   252                9.89\n",
      "4       Po          3     0.12                   255               10.00\n",
      "5       TA       2294    90.00                  2549              100.00\n",
      "  BsmtExposure  Frequency  Percent  Cumulative_Frequency  Cumulative_Percent\n",
      "0           Av        343    13.46                   343               13.46\n",
      "1           Gd        235     9.22                   578               22.68\n",
      "2           Mn        212     8.32                   790               30.99\n",
      "3           No       1759    69.01                  2549              100.00\n",
      "  BsmtFinType1  Frequency  Percent  Cumulative_Frequency  Cumulative_Percent\n",
      "0          ALQ        394    15.46                   394               15.46\n",
      "1          BLQ        250     9.81                   644               25.26\n",
      "2          GLQ        747    29.31                  1391               54.57\n",
      "3          LwQ        139     5.45                  1530               60.02\n",
      "4           No         66     2.59                  1596               62.61\n",
      "5          Rec        261    10.24                  1857               72.85\n",
      "6          Unf        692    27.15                  2549              100.00\n",
      "  BsmtFinType2  Frequency  Percent  Cumulative_Frequency  Cumulative_Percent\n",
      "0          ALQ         52     2.04                    52                2.04\n",
      "1          BLQ         63     2.47                   115                4.51\n",
      "2          GLQ         32     1.26                   147                5.77\n",
      "3          LwQ         84     3.30                   231                9.06\n",
      "4           No         67     2.63                   298               11.69\n",
      "5          Rec         96     3.77                   394               15.46\n",
      "6          Unf       2155    84.54                  2549              100.00\n",
      "  HeatingQC  Frequency  Percent  Cumulative_Frequency  Cumulative_Percent\n",
      "0        Ex       1281    50.26                  1281               50.26\n",
      "1        Fa         80     3.14                  1361               53.39\n",
      "2        Gd        431    16.91                  1792               70.30\n",
      "3        Po          1     0.04                  1793               70.34\n",
      "4        TA        756    29.66                  2549              100.00\n",
      "  KitchenQual  Frequency  Percent  Cumulative_Frequency  Cumulative_Percent\n",
      "0          Ex        140     5.49                   140                5.49\n",
      "1          Fa         60     2.35                   200                7.85\n",
      "2          Gd       1011    39.66                  1211               47.51\n",
      "3          Po          1     0.04                  1212               47.55\n",
      "4          TA       1337    52.45                  2549              100.00\n",
      "  Functional  Frequency  Percent  Cumulative_Frequency  Cumulative_Percent\n",
      "0       Maj1         17     0.67                    17                0.67\n",
      "1       Maj2          7     0.27                    24                0.94\n",
      "2       Min1         56     2.20                    80                3.14\n",
      "3       Min2         64     2.51                   144                5.65\n",
      "4        Mod         31     1.22                   175                6.87\n",
      "5        Sal          1     0.04                   176                6.90\n",
      "6        Typ       2373    93.10                  2549              100.00\n",
      "  FireplaceQu  Frequency  Percent  Cumulative_Frequency  Cumulative_Percent\n",
      "0          Ex         34     1.33                    34                1.33\n",
      "1          Fa         70     2.75                   104                4.08\n",
      "2          Gd        612    24.01                   716               28.09\n",
      "3          No       1221    47.90                  1937               75.99\n",
      "4          Po         43     1.69                  1980               77.68\n",
      "5          TA        569    22.32                  2549              100.00\n",
      "  GarageQual  Frequency  Percent  Cumulative_Frequency  Cumulative_Percent\n",
      "0         Ex          3     0.12                     3                0.12\n",
      "1         Fa        106     4.16                   109                4.28\n",
      "2         Gd         22     0.86                   131                5.14\n",
      "3         No        123     4.83                   254                9.96\n",
      "4         Po          3     0.12                   257               10.08\n",
      "5         TA       2292    89.92                  2549              100.00\n",
      "  GarageCond  Frequency  Percent  Cumulative_Frequency  Cumulative_Percent\n",
      "0         Ex          3     0.12                     3                0.12\n",
      "1         Fa         62     2.43                    65                2.55\n",
      "2         Gd         14     0.55                    79                3.10\n",
      "3         No        123     4.83                   202                7.92\n",
      "4         Po         10     0.39                   212                8.32\n",
      "5         TA       2337    91.68                  2549              100.00\n",
      "  SaleCondition  Frequency  Percent  Cumulative_Frequency  Cumulative_Percent\n",
      "0       Abnorml         56     2.20                    56                2.20\n",
      "1       AdjLand          2     0.08                    58                2.28\n",
      "2        Alloca          4     0.16                    62                2.43\n",
      "3        Family         17     0.67                    79                3.10\n",
      "4        Normal       2389    93.72                  2468               96.82\n",
      "5       Partial         81     3.18                  2549              100.00\n",
      "  LotShape  Frequency  Percent  Cumulative_Frequency  Cumulative_Percent\n",
      "0      IR1        848    33.27                   848               33.27\n",
      "1      IR2         68     2.67                   916               35.94\n",
      "2      IR3         12     0.47                   928               36.41\n",
      "3      Reg       1621    63.59                  2549              100.00\n",
      "  PavedDrive  Frequency  Percent  Cumulative_Frequency  Cumulative_Percent\n",
      "0          N        170     6.67                   170                6.67\n",
      "1          P         60     2.35                   230                9.02\n",
      "2          Y       2319    90.98                  2549              100.00\n",
      "  Street  Frequency  Percent  Cumulative_Frequency  Cumulative_Percent\n",
      "0   Grvl          5      0.2                     5                 0.2\n",
      "1   Pave       2544     99.8                  2549               100.0\n",
      "  Utilities  Frequency  Percent  Cumulative_Frequency  Cumulative_Percent\n",
      "0    AllPub       2548    99.96                  2548               99.96\n",
      "1    NoSewr          1     0.04                  2549              100.00\n"
     ]
    }
   ],
   "source": [
    "ordinals = ['ExterQual', 'ExterCond', 'BsmtQual', 'BsmtCond', 'BsmtExposure', 'BsmtFinType1', 'BsmtFinType2', \\\n",
    "            'HeatingQC', 'KitchenQual' , 'Functional', 'FireplaceQu' ,'GarageQual', 'GarageCond', 'SaleCondition',\\\n",
    "            \"LotShape\", \"PavedDrive\", \"Street\", \"Utilities\"]\n",
    " \n",
    " \n",
    "for feature in ordinals:\n",
    "    print(proc_freq(housing,feature))"
   ]
  },
  {
   "cell_type": "code",
   "execution_count": 24,
   "id": "7dbbb33c",
   "metadata": {},
   "outputs": [],
   "source": [
    "housing = housing.replace({\n",
    "    \"BsmtCond\" : {\"No\" : 0, \"Po\" : 1, \"Fa\" : 2, \"TA\" : 3, \"Gd\" : 4, \"Ex\" : 5},\n",
    "    \"BsmtExposure\" : {\"No\" : 0, \"Mn\" : 1, \"Av\": 2, \"Gd\" : 3},\n",
    "    \"BsmtFinType1\" : {\"No\" : 0, \"Unf\" : 1, \"LwQ\": 2, \"Rec\" : 3, \"BLQ\" : 4, \n",
    "                                         \"ALQ\" : 5, \"GLQ\" : 6},\n",
    "    \"BsmtFinType2\" : {\"No\" : 0, \"Unf\" : 1, \"LwQ\": 2, \"Rec\" : 3, \"BLQ\" : 4, \n",
    "                                         \"ALQ\" : 5, \"GLQ\" : 6},\n",
    "    \"BsmtQual\" : {\"No\" : 0, \"Po\" : 1, \"Fa\" : 2, \"TA\": 3, \"Gd\" : 4, \"Ex\" : 5},\n",
    "    \"ExterCond\" : {\"Po\" : 1, \"Fa\" : 2, \"TA\": 3, \"Gd\": 4, \"Ex\" : 5},\n",
    "    \"ExterQual\" : {\"Po\" : 1, \"Fa\" : 2, \"TA\": 3, \"Gd\": 4, \"Ex\" : 5},\n",
    "    \"FireplaceQu\" : {\"No\" : 0, \"Po\" : 1, \"Fa\" : 2, \"TA\" : 3, \"Gd\" : 4, \"Ex\" : 5},\n",
    "    \"Functional\" : {\"Sal\" : 1, \"Sev\" : 2, \"Maj2\" : 3, \"Maj1\" : 4, \"Mod\": 5, \n",
    "                                       \"Min2\" : 6, \"Min1\" : 7, \"Typ\" : 8},\n",
    "    \"GarageCond\" : {\"No\" : 0, \"Po\" : 1, \"Fa\" : 2, \"TA\" : 3, \"Gd\" : 4, \"Ex\" : 5},\n",
    "    \"GarageQual\" : {\"No\" : 0, \"Po\" : 1, \"Fa\" : 2, \"TA\" : 3, \"Gd\" : 4, \"Ex\" : 5},\n",
    "    \"HeatingQC\" : {\"Po\" : 1, \"Fa\" : 2, \"TA\" : 3, \"Gd\" : 4, \"Ex\" : 5},\n",
    "    \"KitchenQual\" : {\"Po\" : 1, \"Fa\" : 2, \"TA\" : 3, \"Gd\" : 4, \"Ex\" : 5},\n",
    "    \"LandSlope\" : {\"Sev\" : 1, \"Mod\" : 2, \"Gtl\" : 3},\n",
    "    \"LotShape\" : {\"IR3\" : 1, \"IR2\" : 2, \"IR1\" : 3, \"Reg\" : 4},\n",
    "    \n",
    "}\n",
    ")"
   ]
  },
  {
   "cell_type": "code",
   "execution_count": 25,
   "id": "a9d3607d",
   "metadata": {},
   "outputs": [],
   "source": [
    "check = housing[['BsmtCond']]\n",
    "# housing.info()"
   ]
  },
  {
   "cell_type": "code",
   "execution_count": null,
   "id": "18a0b4a1",
   "metadata": {},
   "outputs": [],
   "source": []
  },
  {
   "cell_type": "markdown",
   "id": "06423999",
   "metadata": {},
   "source": [
    "# Categoricals"
   ]
  },
  {
   "cell_type": "code",
   "execution_count": 26,
   "id": "fa0484b4",
   "metadata": {},
   "outputs": [
    {
     "name": "stdout",
     "output_type": "stream",
     "text": [
      "   MSSubClass  Frequency  Percent  Cumulative_Frequency  Cumulative_Percent\n",
      "0         120        167     6.55                   167                6.55\n",
      "1         150          1     0.04                   168                6.59\n",
      "2         160        119     4.67                   287               11.26\n",
      "3         180         15     0.59                   302               11.85\n",
      "4         190         49     1.92                   351               13.77\n",
      "5          20        934    36.64                  1285               50.41\n",
      "6          30        116     4.55                  1401               54.96\n",
      "7          40          6     0.24                  1407               55.20\n",
      "8          45         17     0.67                  1424               55.87\n",
      "9          50        253     9.93                  1677               65.79\n",
      "10         60        500    19.62                  2177               85.41\n",
      "11         70        112     4.39                  2289               89.80\n",
      "12         75         21     0.82                  2310               90.62\n",
      "13         80        109     4.28                  2419               94.90\n",
      "14         85         43     1.69                  2462               96.59\n",
      "15         90         87     3.41                  2549              100.00\n",
      "  MSZoning  Frequency  Percent  Cumulative_Frequency  Cumulative_Percent\n",
      "0       FV        113     4.43                   113                4.43\n",
      "1       RH         20     0.78                   133                5.22\n",
      "2       RL       2001    78.50                  2134               83.72\n",
      "3       RM        415    16.28                  2549              100.00\n",
      "  Street  Frequency  Percent  Cumulative_Frequency  Cumulative_Percent\n",
      "0   Grvl          5      0.2                     5                 0.2\n",
      "1   Pave       2544     99.8                  2549               100.0\n",
      "  LandContour  Frequency  Percent  Cumulative_Frequency  Cumulative_Percent\n",
      "0         Bnk         92     3.61                    92                3.61\n",
      "1         HLS         94     3.69                   186                7.30\n",
      "2         Low         46     1.80                   232                9.10\n",
      "3         Lvl       2317    90.90                  2549              100.00\n",
      "  Utilities  Frequency  Percent  Cumulative_Frequency  Cumulative_Percent\n",
      "0    AllPub       2548    99.96                  2548               99.96\n",
      "1    NoSewr          1     0.04                  2549              100.00\n",
      "  LotConfig  Frequency  Percent  Cumulative_Frequency  Cumulative_Percent\n",
      "0    Corner        433    16.99                   433               16.99\n",
      "1   CulDSac        162     6.36                   595               23.34\n",
      "2       FR2         78     3.06                   673               26.40\n",
      "3       FR3         13     0.51                   686               26.91\n",
      "4    Inside       1863    73.09                  2549              100.00\n",
      "   Neighborhood  Frequency  Percent  Cumulative_Frequency  Cumulative_Percent\n",
      "0       Blmngtn         23     0.90                    23                0.90\n",
      "1       Blueste         10     0.39                    33                1.29\n",
      "2        BrDale         29     1.14                    62                2.43\n",
      "3       BrkSide        103     4.04                   165                6.47\n",
      "4       ClearCr         38     1.49                   203                7.96\n",
      "5       CollgCr        236     9.26                   439               17.22\n",
      "6       Crawfor         93     3.65                   532               20.87\n",
      "7       Edwards        164     6.43                   696               27.30\n",
      "8       Gilbert        143     5.61                   839               32.91\n",
      "9        Greens          8     0.31                   847               33.23\n",
      "10       IDOTRR         59     2.31                   906               35.54\n",
      "11      MeadowV         34     1.33                   940               36.88\n",
      "12      Mitchel        103     4.04                  1043               40.92\n",
      "13        NAmes        409    16.05                  1452               56.96\n",
      "14      NPkVill         22     0.86                  1474               57.83\n",
      "15       NWAmes        123     4.83                  1597               62.65\n",
      "16      NoRidge         66     2.59                  1663               65.24\n",
      "17      NridgHt        121     4.75                  1784               69.99\n",
      "18      OldTown        210     8.24                  1994               78.23\n",
      "19        SWISU         42     1.65                  2036               79.87\n",
      "20       Sawyer        139     5.45                  2175               85.33\n",
      "21      SawyerW        113     4.43                  2288               89.76\n",
      "22      Somerst        143     5.61                  2431               95.37\n",
      "23      StoneBr         43     1.69                  2474               97.06\n",
      "24       Timber         52     2.04                  2526               99.10\n",
      "25      Veenker         23     0.90                  2549              100.00\n",
      "  Condition1  Frequency  Percent  Cumulative_Frequency  Cumulative_Percent\n",
      "0     Artery         80     3.14                    80                3.14\n",
      "1      Feedr        133     5.22                   213                8.36\n",
      "2       Norm       2204    86.47                  2417               94.82\n",
      "3       PosA         18     0.71                  2435               95.53\n",
      "4       PosN         36     1.41                  2471               96.94\n",
      "5       RRAe         26     1.02                  2497               97.96\n",
      "6       RRAn         40     1.57                  2537               99.53\n",
      "7       RRNe          4     0.16                  2541               99.69\n",
      "8       RRNn          8     0.31                  2549              100.00\n",
      "  Condition2  Frequency  Percent  Cumulative_Frequency  Cumulative_Percent\n",
      "0     Artery          3     0.12                     3                0.12\n",
      "1      Feedr         12     0.47                    15                0.59\n",
      "2       Norm       2525    99.06                  2540               99.65\n",
      "3       PosA          3     0.12                  2543               99.76\n",
      "4       PosN          2     0.08                  2545               99.84\n",
      "5       RRAe          1     0.04                  2546               99.88\n",
      "6       RRAn          1     0.04                  2547               99.92\n",
      "7       RRNn          2     0.08                  2549              100.00\n",
      "  BldgType  Frequency  Percent  Cumulative_Frequency  Cumulative_Percent\n",
      "0     1Fam       2115    82.97                  2115               82.97\n",
      "1   2fmCon         50     1.96                  2165               84.94\n",
      "2   Duplex         87     3.41                  2252               88.35\n",
      "3    Twnhs         97     3.81                  2349               92.15\n",
      "4   TwnhsE        200     7.85                  2549              100.00\n",
      "  HouseStyle  Frequency  Percent  Cumulative_Frequency  Cumulative_Percent\n",
      "0     1.5Fin        277    10.87                   277               10.87\n",
      "1     1.5Unf         18     0.71                   295               11.57\n",
      "2     1Story       1274    49.98                  1569               61.55\n",
      "3     2.5Fin          6     0.24                  1575               61.79\n",
      "4     2.5Unf         20     0.78                  1595               62.57\n",
      "5     2Story        766    30.05                  2361               92.62\n",
      "6     SFoyer         70     2.75                  2431               95.37\n",
      "7       SLvl        118     4.63                  2549              100.00\n",
      "  RoofStyle  Frequency  Percent  Cumulative_Frequency  Cumulative_Percent\n",
      "0      Flat         15     0.59                    15                0.59\n",
      "1     Gable       2035    79.84                  2050               80.42\n",
      "2   Gambrel         17     0.67                  2067               81.09\n",
      "3       Hip        468    18.36                  2535               99.45\n",
      "4   Mansard         10     0.39                  2545               99.84\n",
      "5      Shed          4     0.16                  2549              100.00\n",
      "  RoofMatl  Frequency  Percent  Cumulative_Frequency  Cumulative_Percent\n",
      "0  CompShg       2515    98.67                  2515               98.67\n",
      "1  Membran          1     0.04                  2516               98.71\n",
      "2    Metal          1     0.04                  2517               98.74\n",
      "3     Roll          1     0.04                  2518               98.78\n",
      "4  Tar&Grv         17     0.67                  2535               99.45\n",
      "5  WdShake          8     0.31                  2543               99.76\n",
      "6  WdShngl          6     0.24                  2549              100.00\n",
      "   Exterior1st  Frequency  Percent  Cumulative_Frequency  Cumulative_Percent\n",
      "0      AsbShng         32     1.26                    32                1.26\n",
      "1      AsphShn          2     0.08                    34                1.33\n",
      "2      BrkComm          5     0.20                    39                1.53\n",
      "3      BrkFace         77     3.02                   116                4.55\n",
      "4       CBlock          1     0.04                   117                4.59\n",
      "5      CemntBd         96     3.77                   213                8.36\n",
      "6      HdBoard        415    16.28                   628               24.64\n",
      "7      ImStucc          1     0.04                   629               24.68\n",
      "8      MetalSd        399    15.65                  1028               40.33\n",
      "9      Plywood        191     7.49                  1219               47.82\n",
      "10     PreCast          1     0.04                  1220               47.86\n",
      "11      Stucco         36     1.41                  1256               49.27\n",
      "12     VinylSd        866    33.97                  2122               83.25\n",
      "13     Wd Sdng        377    14.79                  2499               98.04\n",
      "14     WdShing         50     1.96                  2549              100.00\n",
      "   Exterior2nd  Frequency  Percent  Cumulative_Frequency  Cumulative_Percent\n",
      "0      AsbShng         29     1.14                    29                1.14\n",
      "1      AsphShn          4     0.16                    33                1.29\n",
      "2      Brk Cmn         21     0.82                    54                2.12\n",
      "3      BrkFace         44     1.73                    98                3.84\n",
      "4       CBlock          3     0.12                   101                3.96\n",
      "5      CmentBd         96     3.77                   197                7.73\n",
      "6      HdBoard        378    14.83                   575               22.56\n",
      "7      ImStucc         13     0.51                   588               23.07\n",
      "8      MetalSd        396    15.54                   984               38.60\n",
      "9      Plywood        235     9.22                  1219               47.82\n",
      "10     PreCast          1     0.04                  1220               47.86\n",
      "11       Stone          4     0.16                  1224               48.02\n",
      "12      Stucco         36     1.41                  1260               49.43\n",
      "13     VinylSd        853    33.46                  2113               82.90\n",
      "14     Wd Sdng        361    14.16                  2474               97.06\n",
      "15     Wd Shng         75     2.94                  2549              100.00\n",
      "  MasVnrType  Frequency  Percent  Cumulative_Frequency  Cumulative_Percent\n",
      "0     BrkCmn         19     0.75                    19                0.75\n",
      "1    BrkFace        802    31.46                   821               32.21\n",
      "2       None       1547    60.69                  2368               92.90\n",
      "3      Stone        181     7.10                  2549              100.00\n",
      "  Foundation  Frequency  Percent  Cumulative_Frequency  Cumulative_Percent\n",
      "0     BrkTil        270    10.59                   270               10.59\n",
      "1     CBlock       1125    44.13                  1395               54.73\n",
      "2      PConc       1099    43.11                  2494               97.84\n",
      "3       Slab         42     1.65                  2536               99.49\n",
      "4      Stone          8     0.31                  2544               99.80\n",
      "5       Wood          5     0.20                  2549              100.00\n",
      "  Heating  Frequency  Percent  Cumulative_Frequency  Cumulative_Percent\n",
      "0   Floor          1     0.04                     1                0.04\n",
      "1    GasA       2511    98.51                  2512               98.55\n",
      "2    GasW         23     0.90                  2535               99.45\n",
      "3    Grav          7     0.27                  2542               99.73\n",
      "4    OthW          2     0.08                  2544               99.80\n",
      "5    Wall          5     0.20                  2549              100.00\n",
      "  CentralAir  Frequency  Percent  Cumulative_Frequency  Cumulative_Percent\n",
      "0          N        150     5.88                   150                5.88\n",
      "1          Y       2399    94.12                  2549              100.00\n",
      "  Electrical  Frequency  Percent  Cumulative_Frequency  Cumulative_Percent\n",
      "0      FuseA        162     6.36                   162                6.36\n",
      "1      FuseF         39     1.53                   201                7.89\n",
      "2      FuseP          5     0.20                   206                8.08\n",
      "3      Mixed          1     0.04                   207                8.12\n",
      "4      SBrkr       2342    91.88                  2549              100.00\n",
      "  GarageType  Frequency  Percent  Cumulative_Frequency  Cumulative_Percent\n",
      "0     2Types         21     0.82                    21                0.82\n",
      "1     Attchd       1518    59.55                  1539               60.38\n",
      "2    Basment         27     1.06                  1566               61.44\n",
      "3    BuiltIn        152     5.96                  1718               67.40\n",
      "4    CarPort          8     0.31                  1726               67.71\n",
      "5     Detchd        702    27.54                  2428               95.25\n",
      "6         No        121     4.75                  2549              100.00\n",
      "  GarageFinish  Frequency  Percent  Cumulative_Frequency  Cumulative_Percent\n",
      "0          Fin        616    24.17                   616               24.17\n",
      "1           No        123     4.83                   739               28.99\n",
      "2          RFn        713    27.97                  1452               56.96\n",
      "3          Unf       1097    43.04                  2549              100.00\n",
      "  PavedDrive  Frequency  Percent  Cumulative_Frequency  Cumulative_Percent\n",
      "0          N        170     6.67                   170                6.67\n",
      "1          P         60     2.35                   230                9.02\n",
      "2          Y       2319    90.98                  2549              100.00\n",
      "   Fence  Frequency  Percent  Cumulative_Frequency  Cumulative_Percent\n",
      "0  GdPrv        111     4.35                   111                4.35\n",
      "1   GdWo        102     4.00                   213                8.36\n",
      "2  MnPrv        299    11.73                   512               20.09\n",
      "3   MnWw         10     0.39                   522               20.48\n",
      "4     No       2027    79.52                  2549              100.00\n",
      "   MoSold  Frequency  Percent  Cumulative_Frequency  Cumulative_Percent\n",
      "0       1         99     3.88                    99                3.88\n",
      "1      10        144     5.65                   243                9.53\n",
      "2      11        112     4.39                   355               13.93\n",
      "3      12         86     3.37                   441               17.30\n",
      "4       2        121     4.75                   562               22.05\n",
      "5       3        208     8.16                   770               30.21\n",
      "6       4        250     9.81                  1020               40.02\n",
      "7       5        360    14.12                  1380               54.14\n",
      "8       6        451    17.69                  1831               71.83\n",
      "9       7        398    15.61                  2229               87.45\n",
      "10      8        191     7.49                  2420               94.94\n",
      "11      9        129     5.06                  2549              100.00\n",
      "  SaleCondition  Frequency  Percent  Cumulative_Frequency  Cumulative_Percent\n",
      "0       Abnorml         56     2.20                    56                2.20\n",
      "1       AdjLand          2     0.08                    58                2.28\n",
      "2        Alloca          4     0.16                    62                2.43\n",
      "3        Family         17     0.67                    79                3.10\n",
      "4        Normal       2389    93.72                  2468               96.82\n",
      "5       Partial         81     3.18                  2549              100.00\n"
     ]
    }
   ],
   "source": [
    "dummifys = ['MSSubClass','MSZoning','Street', 'LandContour', 'Utilities', 'LotConfig', 'Neighborhood', \\\n",
    "           'Condition1', 'Condition2', 'BldgType', 'HouseStyle', 'RoofStyle', 'RoofMatl', 'Exterior1st', \\\n",
    "           'Exterior2nd', 'MasVnrType', 'Foundation', 'Heating', 'CentralAir', 'Electrical', 'GarageType', \\\n",
    "           'GarageFinish', 'PavedDrive', 'Fence', 'MoSold', 'SaleCondition' ]\n",
    "\n",
    "for feature in dummifys:\n",
    "    print(proc_freq(housing,feature))"
   ]
  },
  {
   "cell_type": "code",
   "execution_count": 27,
   "id": "f00b9a05",
   "metadata": {},
   "outputs": [],
   "source": [
    "#"
   ]
  },
  {
   "cell_type": "code",
   "execution_count": 28,
   "id": "6a213ecd",
   "metadata": {},
   "outputs": [
    {
     "data": {
      "text/html": [
       "<div>\n",
       "<style scoped>\n",
       "    .dataframe tbody tr th:only-of-type {\n",
       "        vertical-align: middle;\n",
       "    }\n",
       "\n",
       "    .dataframe tbody tr th {\n",
       "        vertical-align: top;\n",
       "    }\n",
       "\n",
       "    .dataframe thead th {\n",
       "        text-align: right;\n",
       "    }\n",
       "</style>\n",
       "<table border=\"1\" class=\"dataframe\">\n",
       "  <thead>\n",
       "    <tr style=\"text-align: right;\">\n",
       "      <th></th>\n",
       "      <th>MSSubClass</th>\n",
       "      <th>MSZoning</th>\n",
       "      <th>Street</th>\n",
       "      <th>LandContour</th>\n",
       "      <th>Utilities</th>\n",
       "      <th>LotConfig</th>\n",
       "      <th>Neighborhood</th>\n",
       "      <th>Condition1</th>\n",
       "      <th>Condition2</th>\n",
       "      <th>BldgType</th>\n",
       "      <th>...</th>\n",
       "      <th>Foundation</th>\n",
       "      <th>Heating</th>\n",
       "      <th>CentralAir</th>\n",
       "      <th>Electrical</th>\n",
       "      <th>GarageType</th>\n",
       "      <th>GarageFinish</th>\n",
       "      <th>PavedDrive</th>\n",
       "      <th>Fence</th>\n",
       "      <th>MoSold</th>\n",
       "      <th>SaleCondition</th>\n",
       "    </tr>\n",
       "  </thead>\n",
       "  <tbody>\n",
       "    <tr>\n",
       "      <th>0</th>\n",
       "      <td>30</td>\n",
       "      <td>RL</td>\n",
       "      <td>Pave</td>\n",
       "      <td>Lvl</td>\n",
       "      <td>AllPub</td>\n",
       "      <td>Corner</td>\n",
       "      <td>SWISU</td>\n",
       "      <td>Norm</td>\n",
       "      <td>Norm</td>\n",
       "      <td>1Fam</td>\n",
       "      <td>...</td>\n",
       "      <td>CBlock</td>\n",
       "      <td>GasA</td>\n",
       "      <td>Y</td>\n",
       "      <td>SBrkr</td>\n",
       "      <td>Detchd</td>\n",
       "      <td>Unf</td>\n",
       "      <td>Y</td>\n",
       "      <td>No</td>\n",
       "      <td>3</td>\n",
       "      <td>Normal</td>\n",
       "    </tr>\n",
       "    <tr>\n",
       "      <th>1</th>\n",
       "      <td>120</td>\n",
       "      <td>RL</td>\n",
       "      <td>Pave</td>\n",
       "      <td>Lvl</td>\n",
       "      <td>AllPub</td>\n",
       "      <td>Inside</td>\n",
       "      <td>Edwards</td>\n",
       "      <td>Norm</td>\n",
       "      <td>Norm</td>\n",
       "      <td>TwnhsE</td>\n",
       "      <td>...</td>\n",
       "      <td>CBlock</td>\n",
       "      <td>GasA</td>\n",
       "      <td>Y</td>\n",
       "      <td>SBrkr</td>\n",
       "      <td>Attchd</td>\n",
       "      <td>Fin</td>\n",
       "      <td>Y</td>\n",
       "      <td>No</td>\n",
       "      <td>2</td>\n",
       "      <td>Normal</td>\n",
       "    </tr>\n",
       "    <tr>\n",
       "      <th>3</th>\n",
       "      <td>70</td>\n",
       "      <td>RL</td>\n",
       "      <td>Pave</td>\n",
       "      <td>Lvl</td>\n",
       "      <td>AllPub</td>\n",
       "      <td>Corner</td>\n",
       "      <td>OldTown</td>\n",
       "      <td>Norm</td>\n",
       "      <td>Norm</td>\n",
       "      <td>1Fam</td>\n",
       "      <td>...</td>\n",
       "      <td>BrkTil</td>\n",
       "      <td>GasA</td>\n",
       "      <td>Y</td>\n",
       "      <td>SBrkr</td>\n",
       "      <td>Detchd</td>\n",
       "      <td>Unf</td>\n",
       "      <td>N</td>\n",
       "      <td>No</td>\n",
       "      <td>5</td>\n",
       "      <td>Normal</td>\n",
       "    </tr>\n",
       "  </tbody>\n",
       "</table>\n",
       "<p>3 rows × 26 columns</p>\n",
       "</div>"
      ],
      "text/plain": [
       "  MSSubClass MSZoning Street LandContour Utilities LotConfig Neighborhood  \\\n",
       "0         30       RL   Pave         Lvl    AllPub    Corner        SWISU   \n",
       "1        120       RL   Pave         Lvl    AllPub    Inside      Edwards   \n",
       "3         70       RL   Pave         Lvl    AllPub    Corner      OldTown   \n",
       "\n",
       "  Condition1 Condition2 BldgType  ... Foundation Heating CentralAir  \\\n",
       "0       Norm       Norm     1Fam  ...     CBlock    GasA          Y   \n",
       "1       Norm       Norm   TwnhsE  ...     CBlock    GasA          Y   \n",
       "3       Norm       Norm     1Fam  ...     BrkTil    GasA          Y   \n",
       "\n",
       "  Electrical GarageType GarageFinish PavedDrive Fence MoSold SaleCondition  \n",
       "0      SBrkr     Detchd          Unf          Y    No      3        Normal  \n",
       "1      SBrkr     Attchd          Fin          Y    No      2        Normal  \n",
       "3      SBrkr     Detchd          Unf          N    No      5        Normal  \n",
       "\n",
       "[3 rows x 26 columns]"
      ]
     },
     "execution_count": 28,
     "metadata": {},
     "output_type": "execute_result"
    }
   ],
   "source": [
    "\n",
    "df_dummy = housing[dummifys]\n",
    "df_dummy.head(3)"
   ]
  },
  {
   "cell_type": "markdown",
   "id": "3fbf4312",
   "metadata": {},
   "source": [
    "# Create DataFrame of Dummies"
   ]
  },
  {
   "cell_type": "code",
   "execution_count": 29,
   "id": "c43c3ca7",
   "metadata": {},
   "outputs": [
    {
     "data": {
      "text/html": [
       "<div>\n",
       "<style scoped>\n",
       "    .dataframe tbody tr th:only-of-type {\n",
       "        vertical-align: middle;\n",
       "    }\n",
       "\n",
       "    .dataframe tbody tr th {\n",
       "        vertical-align: top;\n",
       "    }\n",
       "\n",
       "    .dataframe thead th {\n",
       "        text-align: right;\n",
       "    }\n",
       "</style>\n",
       "<table border=\"1\" class=\"dataframe\">\n",
       "  <thead>\n",
       "    <tr style=\"text-align: right;\">\n",
       "      <th></th>\n",
       "      <th>MSSubClass_150</th>\n",
       "      <th>MSSubClass_160</th>\n",
       "      <th>MSSubClass_180</th>\n",
       "      <th>MSSubClass_190</th>\n",
       "      <th>MSSubClass_20</th>\n",
       "      <th>MSSubClass_30</th>\n",
       "      <th>MSSubClass_40</th>\n",
       "      <th>MSSubClass_45</th>\n",
       "      <th>MSSubClass_50</th>\n",
       "      <th>MSSubClass_60</th>\n",
       "      <th>...</th>\n",
       "      <th>MoSold_5</th>\n",
       "      <th>MoSold_6</th>\n",
       "      <th>MoSold_7</th>\n",
       "      <th>MoSold_8</th>\n",
       "      <th>MoSold_9</th>\n",
       "      <th>SaleCondition_AdjLand</th>\n",
       "      <th>SaleCondition_Alloca</th>\n",
       "      <th>SaleCondition_Family</th>\n",
       "      <th>SaleCondition_Normal</th>\n",
       "      <th>SaleCondition_Partial</th>\n",
       "    </tr>\n",
       "  </thead>\n",
       "  <tbody>\n",
       "    <tr>\n",
       "      <th>0</th>\n",
       "      <td>0</td>\n",
       "      <td>0</td>\n",
       "      <td>0</td>\n",
       "      <td>0</td>\n",
       "      <td>0</td>\n",
       "      <td>1</td>\n",
       "      <td>0</td>\n",
       "      <td>0</td>\n",
       "      <td>0</td>\n",
       "      <td>0</td>\n",
       "      <td>...</td>\n",
       "      <td>0</td>\n",
       "      <td>0</td>\n",
       "      <td>0</td>\n",
       "      <td>0</td>\n",
       "      <td>0</td>\n",
       "      <td>0</td>\n",
       "      <td>0</td>\n",
       "      <td>0</td>\n",
       "      <td>1</td>\n",
       "      <td>0</td>\n",
       "    </tr>\n",
       "    <tr>\n",
       "      <th>1</th>\n",
       "      <td>0</td>\n",
       "      <td>0</td>\n",
       "      <td>0</td>\n",
       "      <td>0</td>\n",
       "      <td>0</td>\n",
       "      <td>0</td>\n",
       "      <td>0</td>\n",
       "      <td>0</td>\n",
       "      <td>0</td>\n",
       "      <td>0</td>\n",
       "      <td>...</td>\n",
       "      <td>0</td>\n",
       "      <td>0</td>\n",
       "      <td>0</td>\n",
       "      <td>0</td>\n",
       "      <td>0</td>\n",
       "      <td>0</td>\n",
       "      <td>0</td>\n",
       "      <td>0</td>\n",
       "      <td>1</td>\n",
       "      <td>0</td>\n",
       "    </tr>\n",
       "    <tr>\n",
       "      <th>3</th>\n",
       "      <td>0</td>\n",
       "      <td>0</td>\n",
       "      <td>0</td>\n",
       "      <td>0</td>\n",
       "      <td>0</td>\n",
       "      <td>0</td>\n",
       "      <td>0</td>\n",
       "      <td>0</td>\n",
       "      <td>0</td>\n",
       "      <td>0</td>\n",
       "      <td>...</td>\n",
       "      <td>1</td>\n",
       "      <td>0</td>\n",
       "      <td>0</td>\n",
       "      <td>0</td>\n",
       "      <td>0</td>\n",
       "      <td>0</td>\n",
       "      <td>0</td>\n",
       "      <td>0</td>\n",
       "      <td>1</td>\n",
       "      <td>0</td>\n",
       "    </tr>\n",
       "    <tr>\n",
       "      <th>4</th>\n",
       "      <td>0</td>\n",
       "      <td>0</td>\n",
       "      <td>0</td>\n",
       "      <td>0</td>\n",
       "      <td>0</td>\n",
       "      <td>0</td>\n",
       "      <td>0</td>\n",
       "      <td>0</td>\n",
       "      <td>0</td>\n",
       "      <td>1</td>\n",
       "      <td>...</td>\n",
       "      <td>0</td>\n",
       "      <td>0</td>\n",
       "      <td>0</td>\n",
       "      <td>0</td>\n",
       "      <td>0</td>\n",
       "      <td>0</td>\n",
       "      <td>0</td>\n",
       "      <td>0</td>\n",
       "      <td>1</td>\n",
       "      <td>0</td>\n",
       "    </tr>\n",
       "    <tr>\n",
       "      <th>5</th>\n",
       "      <td>0</td>\n",
       "      <td>0</td>\n",
       "      <td>0</td>\n",
       "      <td>0</td>\n",
       "      <td>0</td>\n",
       "      <td>0</td>\n",
       "      <td>0</td>\n",
       "      <td>0</td>\n",
       "      <td>0</td>\n",
       "      <td>0</td>\n",
       "      <td>...</td>\n",
       "      <td>0</td>\n",
       "      <td>0</td>\n",
       "      <td>1</td>\n",
       "      <td>0</td>\n",
       "      <td>0</td>\n",
       "      <td>0</td>\n",
       "      <td>0</td>\n",
       "      <td>0</td>\n",
       "      <td>1</td>\n",
       "      <td>0</td>\n",
       "    </tr>\n",
       "  </tbody>\n",
       "</table>\n",
       "<p>5 rows × 167 columns</p>\n",
       "</div>"
      ],
      "text/plain": [
       "   MSSubClass_150  MSSubClass_160  MSSubClass_180  MSSubClass_190  \\\n",
       "0               0               0               0               0   \n",
       "1               0               0               0               0   \n",
       "3               0               0               0               0   \n",
       "4               0               0               0               0   \n",
       "5               0               0               0               0   \n",
       "\n",
       "   MSSubClass_20  MSSubClass_30  MSSubClass_40  MSSubClass_45  MSSubClass_50  \\\n",
       "0              0              1              0              0              0   \n",
       "1              0              0              0              0              0   \n",
       "3              0              0              0              0              0   \n",
       "4              0              0              0              0              0   \n",
       "5              0              0              0              0              0   \n",
       "\n",
       "   MSSubClass_60  ...  MoSold_5  MoSold_6  MoSold_7  MoSold_8  MoSold_9  \\\n",
       "0              0  ...         0         0         0         0         0   \n",
       "1              0  ...         0         0         0         0         0   \n",
       "3              0  ...         1         0         0         0         0   \n",
       "4              1  ...         0         0         0         0         0   \n",
       "5              0  ...         0         0         1         0         0   \n",
       "\n",
       "   SaleCondition_AdjLand  SaleCondition_Alloca  SaleCondition_Family  \\\n",
       "0                      0                     0                     0   \n",
       "1                      0                     0                     0   \n",
       "3                      0                     0                     0   \n",
       "4                      0                     0                     0   \n",
       "5                      0                     0                     0   \n",
       "\n",
       "   SaleCondition_Normal  SaleCondition_Partial  \n",
       "0                     1                      0  \n",
       "1                     1                      0  \n",
       "3                     1                      0  \n",
       "4                     1                      0  \n",
       "5                     1                      0  \n",
       "\n",
       "[5 rows x 167 columns]"
      ]
     },
     "execution_count": 29,
     "metadata": {},
     "output_type": "execute_result"
    }
   ],
   "source": [
    "df_dummies = pd.get_dummies(df_dummy, drop_first=True)\n",
    "df_dummies.head()"
   ]
  },
  {
   "cell_type": "code",
   "execution_count": 30,
   "id": "537a91e4",
   "metadata": {},
   "outputs": [],
   "source": [
    "df_dummies.to_csv(r'C:\\Users\\dgarb\\OneDrive\\Documents\\Data Science Bootcamp August\\Machine Learning Project\\data\\df_dummies.csv')"
   ]
  },
  {
   "cell_type": "code",
   "execution_count": 31,
   "id": "cf8faf50",
   "metadata": {
    "scrolled": false
   },
   "outputs": [],
   "source": [
    "dummy_vars = list(df_dummies.columns)\n",
    "# dummy_vars"
   ]
  },
  {
   "cell_type": "code",
   "execution_count": null,
   "id": "f4869e3d",
   "metadata": {},
   "outputs": [],
   "source": []
  },
  {
   "cell_type": "code",
   "execution_count": 32,
   "id": "017eaa1a",
   "metadata": {},
   "outputs": [
    {
     "data": {
      "text/plain": [
       "(2549, 85)"
      ]
     },
     "execution_count": 32,
     "metadata": {},
     "output_type": "execute_result"
    }
   ],
   "source": [
    "housing.shape"
   ]
  },
  {
   "cell_type": "code",
   "execution_count": 33,
   "id": "c0b8e58e",
   "metadata": {},
   "outputs": [],
   "source": [
    "size_related = housing.filter(regex='SF$|Area$')#filter out columns that end with SF or that end with Area\n",
    "size_related_cols =list(size_related.columns)"
   ]
  },
  {
   "cell_type": "code",
   "execution_count": 34,
   "id": "e830dbe7",
   "metadata": {},
   "outputs": [
    {
     "data": {
      "text/plain": [
       "['GrLivArea',\n",
       " 'LotArea',\n",
       " 'MasVnrArea',\n",
       " 'BsmtUnfSF',\n",
       " 'TotalBsmtSF',\n",
       " '1stFlrSF',\n",
       " '2ndFlrSF',\n",
       " 'LowQualFinSF',\n",
       " 'GarageArea',\n",
       " 'WoodDeckSF',\n",
       " 'OpenPorchSF',\n",
       " 'PoolArea',\n",
       " 'bc_GrLivArea']"
      ]
     },
     "execution_count": 34,
     "metadata": {},
     "output_type": "execute_result"
    }
   ],
   "source": [
    "size_related_cols"
   ]
  },
  {
   "cell_type": "code",
   "execution_count": 35,
   "id": "3ac93e3e",
   "metadata": {},
   "outputs": [
    {
     "data": {
      "text/plain": [
       "['GrLivArea',\n",
       " 'SalePrice',\n",
       " 'LotFrontage',\n",
       " 'LotArea',\n",
       " 'LotShape',\n",
       " 'LandSlope',\n",
       " 'OverallQual',\n",
       " 'OverallCond',\n",
       " 'YearBuilt',\n",
       " 'YearRemodAdd',\n",
       " 'MasVnrArea',\n",
       " 'ExterQual',\n",
       " 'ExterCond',\n",
       " 'BsmtQual',\n",
       " 'BsmtCond',\n",
       " 'BsmtExposure',\n",
       " 'BsmtFinType1',\n",
       " 'BsmtFinSF1',\n",
       " 'BsmtFinType2',\n",
       " 'BsmtFinSF2',\n",
       " 'BsmtUnfSF',\n",
       " 'TotalBsmtSF',\n",
       " 'HeatingQC',\n",
       " '1stFlrSF',\n",
       " '2ndFlrSF',\n",
       " 'LowQualFinSF',\n",
       " 'BsmtFullBath',\n",
       " 'BsmtHalfBath',\n",
       " 'FullBath',\n",
       " 'HalfBath',\n",
       " 'BedroomAbvGr',\n",
       " 'KitchenAbvGr',\n",
       " 'KitchenQual',\n",
       " 'TotRmsAbvGrd',\n",
       " 'Functional',\n",
       " 'Fireplaces',\n",
       " 'FireplaceQu',\n",
       " 'GarageYrBlt',\n",
       " 'GarageCars',\n",
       " 'GarageArea',\n",
       " 'GarageQual',\n",
       " 'GarageCond',\n",
       " 'WoodDeckSF',\n",
       " 'OpenPorchSF',\n",
       " 'EnclosedPorch',\n",
       " '3SsnPorch',\n",
       " 'ScreenPorch',\n",
       " 'PoolArea',\n",
       " 'MiscVal',\n",
       " 'YrSold',\n",
       " 'log_price',\n",
       " 'bc_GrLivArea']"
      ]
     },
     "execution_count": 35,
     "metadata": {},
     "output_type": "execute_result"
    }
   ],
   "source": [
    "df_num2 = housing.select_dtypes(include=['int64','float64'])\n",
    "# df_num2.info()\n",
    "numerics2 = list(df_num2.columns)\n",
    "numerics2"
   ]
  },
  {
   "cell_type": "code",
   "execution_count": 36,
   "id": "a4200c44",
   "metadata": {},
   "outputs": [
    {
     "data": {
      "text/plain": [
       "['GarageYrBlt',\n",
       " 'GarageQual',\n",
       " 'YrSold',\n",
       " 'KitchenAbvGr',\n",
       " 'FireplaceQu',\n",
       " 'ScreenPorch',\n",
       " 'GarageCars',\n",
       " 'BsmtFinType1',\n",
       " 'ExterQual',\n",
       " 'YearBuilt',\n",
       " 'HalfBath',\n",
       " 'LotFrontage',\n",
       " 'OverallQual',\n",
       " 'YearRemodAdd',\n",
       " 'KitchenQual',\n",
       " 'BsmtQual',\n",
       " 'Functional',\n",
       " 'TotRmsAbvGrd',\n",
       " 'log_price',\n",
       " 'GarageCond',\n",
       " 'OverallCond',\n",
       " 'BsmtFinSF1',\n",
       " 'BsmtExposure',\n",
       " 'BedroomAbvGr',\n",
       " 'LotShape',\n",
       " 'LandSlope',\n",
       " 'BsmtFinType2',\n",
       " 'BsmtHalfBath',\n",
       " 'BsmtFinSF2',\n",
       " 'FullBath',\n",
       " 'EnclosedPorch',\n",
       " 'BsmtFullBath',\n",
       " 'ExterCond',\n",
       " 'Fireplaces',\n",
       " 'SalePrice',\n",
       " 'BsmtCond',\n",
       " 'HeatingQC']"
      ]
     },
     "execution_count": 36,
     "metadata": {},
     "output_type": "execute_result"
    }
   ],
   "source": [
    "#get list of numerics other than those in size related\n",
    "s1 = set(size_related_cols)\n",
    "s2 = set(numerics2)\n",
    "\n",
    "s3 = s2 - s1\n",
    "s3\n",
    "s4 = s3 - set(['Unnamed: 0', 'PID', '3SsnPorch', 'MiscVal']) #'3SsnPorch' not in description\n",
    "\n",
    "#s4 is a set of the numeric variables other than those transformed or the dummy variables\n",
    "not_size_related = list(s4)\n",
    "not_size_related"
   ]
  },
  {
   "cell_type": "markdown",
   "id": "c90aaeac",
   "metadata": {},
   "source": [
    "### concat housing3 with df_dummies"
   ]
  },
  {
   "cell_type": "code",
   "execution_count": 37,
   "id": "b85693b2",
   "metadata": {},
   "outputs": [
    {
     "data": {
      "text/plain": [
       "(2549, 252)"
      ]
     },
     "execution_count": 37,
     "metadata": {},
     "output_type": "execute_result"
    }
   ],
   "source": [
    "# df_dummies = df_dummies[['BldgType_2fmCon', 'BldgType_Duplex', 'BldgType_Twnhs', 'BldgType_TwnhsE','HouseStyle_1.5Unf', \\\n",
    "#          'HouseStyle_1Story', 'HouseStyle_2.5Fin', 'HouseStyle_2.5Unf',  'HouseStyle_2Story', \\\n",
    "#          'HouseStyle_SFoyer', 'HouseStyle_SLvl','PavedDrive_P', 'PavedDrive_Y','MoSold_10', 'MoSold_11', \\\n",
    "#          'MoSold_12', 'MoSold_2', 'MoSold_3', 'MoSold_4', 'MoSold_5', 'MoSold_6', 'MoSold_7', 'MoSold_8',\\\n",
    "#          'MoSold_9','MSSubClass_60', 'MSSubClass_50',  'MSSubClass_30']]\n",
    "housing3 = pd.concat([housing, df_dummies], axis=1)\n",
    "housing3.shape"
   ]
  },
  {
   "cell_type": "code",
   "execution_count": 38,
   "id": "10367435",
   "metadata": {},
   "outputs": [],
   "source": [
    "housing3 = housing3.drop(['PoolQC','MiscFeature', 'Alley'], axis = 1) #dropped because created flags above"
   ]
  },
  {
   "cell_type": "code",
   "execution_count": null,
   "id": "48a196d3",
   "metadata": {},
   "outputs": [],
   "source": []
  },
  {
   "cell_type": "code",
   "execution_count": null,
   "id": "b3c49b93",
   "metadata": {},
   "outputs": [],
   "source": []
  },
  {
   "cell_type": "code",
   "execution_count": 39,
   "id": "057caa56",
   "metadata": {},
   "outputs": [],
   "source": [
    "SalePrice_label = housing3['SalePrice']"
   ]
  },
  {
   "cell_type": "markdown",
   "id": "0e07f84b",
   "metadata": {},
   "source": [
    "### Train Test Split"
   ]
  },
  {
   "cell_type": "code",
   "execution_count": 40,
   "id": "71ec5296",
   "metadata": {},
   "outputs": [],
   "source": [
    "from sklearn.model_selection import train_test_split\n",
    "\n",
    "x_train, x_test, y_train, y_test = train_test_split(\n",
    "    housing3, SalePrice_label, test_size=0.3, random_state=0)#random state make sure we all get same result\n",
    "\n",
    "\n"
   ]
  },
  {
   "cell_type": "code",
   "execution_count": 41,
   "id": "a35546d7",
   "metadata": {},
   "outputs": [
    {
     "data": {
      "text/plain": [
       "(1784, 249)"
      ]
     },
     "execution_count": 41,
     "metadata": {},
     "output_type": "execute_result"
    }
   ],
   "source": [
    "x_train.shape"
   ]
  },
  {
   "cell_type": "code",
   "execution_count": 42,
   "id": "50dc6894",
   "metadata": {},
   "outputs": [
    {
     "data": {
      "text/plain": [
       "(765, 249)"
      ]
     },
     "execution_count": 42,
     "metadata": {},
     "output_type": "execute_result"
    }
   ],
   "source": [
    "x_test.shape"
   ]
  },
  {
   "cell_type": "code",
   "execution_count": null,
   "id": "f541a651",
   "metadata": {},
   "outputs": [],
   "source": []
  },
  {
   "cell_type": "markdown",
   "id": "324a4e26",
   "metadata": {},
   "source": [
    "Export for EDA"
   ]
  },
  {
   "cell_type": "code",
   "execution_count": 43,
   "id": "2f12bdb9",
   "metadata": {},
   "outputs": [],
   "source": [
    "x_train.to_csv(r'C:\\Users\\dgarb\\OneDrive\\Documents\\Data Science Bootcamp August\\Machine Learning Project\\data\\nx_train.csv')\n",
    "\n"
   ]
  },
  {
   "cell_type": "code",
   "execution_count": 44,
   "id": "7432576d",
   "metadata": {},
   "outputs": [],
   "source": [
    "x_test.to_csv(r'C:\\Users\\dgarb\\OneDrive\\Documents\\Data Science Bootcamp August\\Machine Learning Project\\data\\nx_test.csv')\n",
    "\n",
    "y_train.to_csv(r'C:\\Users\\dgarb\\OneDrive\\Documents\\Data Science Bootcamp August\\Machine Learning Project\\data\\ny_train.csv')\n",
    "\n",
    "y_test.to_csv(r'C:\\Users\\dgarb\\OneDrive\\Documents\\Data Science Bootcamp August\\Machine Learning Project\\data\\ny_test.csv')"
   ]
  },
  {
   "cell_type": "code",
   "execution_count": 45,
   "id": "e1eacab7",
   "metadata": {},
   "outputs": [
    {
     "ename": "NameError",
     "evalue": "name 'STOP' is not defined",
     "output_type": "error",
     "traceback": [
      "\u001b[1;31m---------------------------------------------------------------------------\u001b[0m",
      "\u001b[1;31mNameError\u001b[0m                                 Traceback (most recent call last)",
      "\u001b[1;32m~\\AppData\\Local\\Temp/ipykernel_4776/2165152129.py\u001b[0m in \u001b[0;36m<module>\u001b[1;34m\u001b[0m\n\u001b[1;32m----> 1\u001b[1;33m \u001b[0mSTOP\u001b[0m\u001b[1;33m\u001b[0m\u001b[1;33m\u001b[0m\u001b[0m\n\u001b[0m",
      "\u001b[1;31mNameError\u001b[0m: name 'STOP' is not defined"
     ]
    }
   ],
   "source": [
    "STOP"
   ]
  },
  {
   "cell_type": "code",
   "execution_count": null,
   "id": "6e5db005",
   "metadata": {},
   "outputs": [],
   "source": [
    "#read in transformed train and test data \n",
    "\n",
    "# train_trans = pd.read_csv(r'C:\\Users\\dgarb\\OneDrive\\Documents\\Data Science Bootcamp August\\Machine Learning Project\\data\\train_transformed.csv',index_col=0)\n",
    "\n",
    "# test_trans = pd.read_csv(r'C:\\Users\\dgarb\\OneDrive\\Documents\\Data Science Bootcamp August\\Machine Learning Project\\data\\test_transformed.csv',index_col=0)"
   ]
  },
  {
   "cell_type": "markdown",
   "id": "3218f22d",
   "metadata": {},
   "source": [
    "### Read data back in so can add imputations and transformations based on EDA"
   ]
  },
  {
   "cell_type": "code",
   "execution_count": null,
   "id": "8da9dd27",
   "metadata": {},
   "outputs": [],
   "source": [
    "# train_trans = pd.read_csv(r'C:\\Users\\dgarb\\OneDrive\\Documents\\Data Science Bootcamp August\\Machine Learning Project\\data\\x_train.csv')"
   ]
  },
  {
   "cell_type": "code",
   "execution_count": null,
   "id": "823d12d2",
   "metadata": {},
   "outputs": [],
   "source": [
    "# test_trans = pd.read_csv(r'C:\\Users\\dgarb\\OneDrive\\Documents\\Data Science Bootcamp August\\Machine Learning Project\\data\\x_text.csv')"
   ]
  },
  {
   "cell_type": "code",
   "execution_count": null,
   "id": "3534bf25",
   "metadata": {},
   "outputs": [],
   "source": [
    "# train_trans = x_train.copy()\n",
    "# test_trans = x_test.copy()"
   ]
  },
  {
   "cell_type": "markdown",
   "id": "e7c76e08",
   "metadata": {},
   "source": [
    "Impute based on analysis in EDA Machine Learning Notebook"
   ]
  },
  {
   "cell_type": "code",
   "execution_count": null,
   "id": "715f6ea1",
   "metadata": {},
   "outputs": [],
   "source": [
    "# MasVnrType: Masonry veneer type\n",
    "# impute with zero as not every home has a Masonry veneer type\n",
    "train_trans.MasVnrArea = train_trans.MasVnrArea.fillna(0)\n",
    "\n",
    "# Impute with median as it doesn't make sense that a house wouldn't have any \n",
    "train_trans.LotFrontage = train_trans.LotFrontage.fillna(train_trans.LotFrontage.median())\n",
    "\n",
    "train_trans.BsmtFullBath = train_trans.BsmtFullBath.fillna(0)\n",
    "\n",
    "train_trans.BsmtHalfBath = train_trans.BsmtHalfBath.fillna(0)\n",
    "\n",
    "train_trans.BsmtFinSF1 = train_trans.BsmtFinSF1.fillna(0)\n",
    "\n",
    "train_trans.BsmtFinSF2 = train_trans.BsmtFinSF2.fillna(0)\n",
    "\n",
    "train_trans.BsmtUnfSF = train_trans.BsmtUnfSF.fillna(0)\n",
    "\n",
    "train_trans.TotalBsmtSF = train_trans.TotalBsmtSF.fillna(0)\n",
    "\n",
    "train_trans.GarageCars = train_trans.GarageCars.fillna(0)\n",
    "\n",
    "train_trans.GarageArea = train_trans.GarageArea.fillna(0)\n",
    "\n",
    "train_trans.loc[train_trans['GarageYrBlt'].isnull(),'GarageYrBlt'] = train_trans['YearBuilt']"
   ]
  },
  {
   "cell_type": "code",
   "execution_count": null,
   "id": "2f8eacb5",
   "metadata": {},
   "outputs": [],
   "source": [
    "test_trans.MasVnrArea = test_trans.MasVnrArea.fillna(0)\n",
    "# MasVnrType: Masonry veneer type\n",
    "\n",
    "test_trans.LotFrontage = test_trans.LotFrontage.fillna(housing.LotFrontage.median())\n",
    "\n",
    "test_trans.BsmtFullBath = test_trans.BsmtFullBath.fillna(0)\n",
    "\n",
    "test_trans.BsmtHalfBath = test_trans.BsmtHalfBath.fillna(0)\n",
    "\n",
    "test_trans.BsmtFinSF1 = test_trans.BsmtFinSF1.fillna(0)\n",
    "\n",
    "test_trans.BsmtFinSF2 = test_trans.BsmtFinSF2.fillna(0)\n",
    "\n",
    "test_trans.BsmtUnfSF = test_trans.BsmtUnfSF.fillna(0)\n",
    "\n",
    "test_trans.TotalBsmtSF = test_trans.TotalBsmtSF.fillna(0)\n",
    "\n",
    "test_trans.GarageCars = test_trans.GarageCars.fillna(0)\n",
    "\n",
    "test_trans.GarageArea = test_trans.GarageArea.fillna(0)\n",
    "\n",
    "test_trans.loc[test_trans['GarageYrBlt'].isnull(),'GarageYrBlt'] = test_trans['YearBuilt']\n"
   ]
  },
  {
   "cell_type": "markdown",
   "id": "4af37878",
   "metadata": {},
   "source": [
    "Transformations based on EDA Machine Learning Notebook"
   ]
  },
  {
   "cell_type": "code",
   "execution_count": null,
   "id": "e93b46ce",
   "metadata": {},
   "outputs": [],
   "source": [
    "train_trans['bc_GrLivArea'],_ = stats.boxcox(train_trans.GrLivArea)\n",
    "train_trans['log_LotArea'] = np.log(train_trans['LotArea'])\n",
    "train_trans['log_MasVnrArea'] = np.log(train_trans['MasVnrArea'] + 1)\n",
    "train_trans['yeo_TotalBsmtSF'],_ = stats.yeojohnson(train_trans['TotalBsmtSF'])\n",
    "\n",
    "train_trans['log_first_FlrSF'] = np.log(train_trans['1stFlrSF'])\n",
    "\n",
    "train_trans['yeo_GarageArea'],_  = stats.yeojohnson(train_trans['GarageArea'] )\n",
    "train_trans['log_WoodDeckSF'] = np.log(train_trans['WoodDeckSF'] + 1)\n",
    "\n",
    "train_trans['log_OpenPorchSF'] = np.log(train_trans['OpenPorchSF'] + 1)\n",
    "\n",
    "train_trans['has_pool'] = train_trans['PoolArea'] != 0\n",
    "\n",
    "train_trans['log_BsmtFinSF1'] = np.log(train_trans['BsmtFinSF1']+1)\n",
    "\n",
    "#################################################################\n",
    "train_trans['log_2ndFlrSF'] =np.log(train_trans['2ndFlrSF']+1)\n",
    "\n",
    "train_trans['log_LotFrontage']=np.log(train_trans['LotFrontage'] + 1)\n",
    "\n",
    "train_trans['log_BsmtUnfSF'] = np.log(train_trans['BsmtUnfSF']+1)\n",
    "\n",
    "train_trans['log_EnclosedPorch'] = np.log(train_trans['EnclosedPorch']+1)\n"
   ]
  },
  {
   "cell_type": "code",
   "execution_count": null,
   "id": "ef24ae90",
   "metadata": {},
   "outputs": [],
   "source": [
    "test_trans['bc_GrLivArea'],_ = stats.boxcox(test_trans.GrLivArea)\n",
    "test_trans['log_LotArea'] = np.log(test_trans['LotArea'])\n",
    "test_trans['log_MasVnrArea'] = np.log(test_trans['MasVnrArea'] + 1)\n",
    "test_trans['yeo_TotalBsmtSF'],_ = stats.yeojohnson(test_trans['TotalBsmtSF'])\n",
    "\n",
    "test_trans['log_first_FlrSF'] = np.log(test_trans['1stFlrSF'])\n",
    "\n",
    "test_trans['yeo_GarageArea'],_  = stats.yeojohnson(test_trans['GarageArea'] )\n",
    "test_trans['log_WoodDeckSF'] = np.log(test_trans['WoodDeckSF'] + 1)\n",
    "\n",
    "test_trans['log_OpenPorchSF'] = np.log(test_trans['OpenPorchSF'] + 1)\n",
    "\n",
    "test_trans['has_pool'] = test_trans['PoolArea'] != 0\n",
    "\n",
    "test_trans['log_BsmtFinSF1'] = np.log(test_trans['BsmtFinSF1']+1)\n",
    "\n",
    "#################################################################\n",
    "test_trans['log_2ndFlrSF'] =np.log(test_trans['2ndFlrSF']+1)\n",
    "\n",
    "test_trans['log_LotFrontage']=np.log(test_trans['LotFrontage'] + 1)\n",
    "\n",
    "test_trans['log_BsmtUnfSF'] = np.log(test_trans['BsmtUnfSF']+1)\n",
    "\n",
    "test_trans['log_EnclosedPorch'] = np.log(test_trans['EnclosedPorch']+1)\n",
    "\n"
   ]
  },
  {
   "cell_type": "code",
   "execution_count": null,
   "id": "d5719a4c",
   "metadata": {},
   "outputs": [],
   "source": []
  },
  {
   "cell_type": "code",
   "execution_count": null,
   "id": "2b3cab24",
   "metadata": {},
   "outputs": [],
   "source": [
    "trans_vars = ['bc_GrLivArea','log_LotArea','log_MasVnrArea', 'yeo_TotalBsmtSF', 'log_first_FlrSF',  \\\n",
    "              'yeo_GarageArea', 'log_WoodDeckSF', 'log_OpenPorchSF', 'has_pool', 'log_BsmtFinSF1',\\\n",
    "             'log_2ndFlrSF','log_LotFrontage','log_BsmtUnfSF','log_EnclosedPorch']"
   ]
  },
  {
   "cell_type": "code",
   "execution_count": null,
   "id": "4867d1a6",
   "metadata": {},
   "outputs": [],
   "source": [
    "'bc_GrLivArea' , 'log_LotArea', 'log_MasVnrArea', 'yeo_TotalBsmtSF','yeo_GarageArea','log_LotFrontage','log_OpenPorchSF'"
   ]
  },
  {
   "cell_type": "code",
   "execution_count": null,
   "id": "09adb4bb",
   "metadata": {},
   "outputs": [],
   "source": [
    "# from old data set\n",
    "# 'log_GrLivArea', 'log_LotArea','log_MasVnrArea', 'bc_LotArea', 'yeo_TotalBsmtSF', 'yeo_GarageArea','yeo_WoodDeckSF', 'yeo_OpenPorchSF']"
   ]
  },
  {
   "cell_type": "code",
   "execution_count": null,
   "id": "f56c035d",
   "metadata": {},
   "outputs": [],
   "source": [
    "#s4 is a set of numeric variables other than dummies or transformed data\n",
    "\n",
    "\n",
    "other_numerics = list(s4)\n",
    "\n",
    "other_numerics2 = list(filter(lambda x: x != 'SalePrice',other_numerics))\n",
    "\n",
    "var_list = trans_vars + other_numerics2 +  dummy_vars \n",
    "\n",
    "type(other_numerics2)"
   ]
  },
  {
   "cell_type": "code",
   "execution_count": null,
   "id": "1835f7e1",
   "metadata": {},
   "outputs": [],
   "source": [
    "# other_numerics2"
   ]
  },
  {
   "cell_type": "code",
   "execution_count": null,
   "id": "fa3fadea",
   "metadata": {},
   "outputs": [],
   "source": [
    "testit =  train_trans[var_list]"
   ]
  },
  {
   "cell_type": "code",
   "execution_count": null,
   "id": "f8ce649e",
   "metadata": {},
   "outputs": [],
   "source": [
    "# dummy_vars "
   ]
  },
  {
   "cell_type": "code",
   "execution_count": null,
   "id": "0a3784d7",
   "metadata": {},
   "outputs": [],
   "source": [
    "# list(enumerate(var_list2))\n",
    "var_list"
   ]
  },
  {
   "cell_type": "code",
   "execution_count": null,
   "id": "f48a4e9a",
   "metadata": {},
   "outputs": [],
   "source": [
    "model_vars_data = train_trans[var_list]\n",
    "# model_vars_data = model_vars_data.drop(['SalePrice'], axis=1)"
   ]
  },
  {
   "cell_type": "code",
   "execution_count": null,
   "id": "351ad4e2",
   "metadata": {},
   "outputs": [],
   "source": [
    "# model_vars_data.SalePrice"
   ]
  },
  {
   "cell_type": "code",
   "execution_count": null,
   "id": "2a41d2b3",
   "metadata": {},
   "outputs": [],
   "source": [
    "model_vars_data.to_csv(r'C:\\Users\\dgarb\\OneDrive\\Documents\\Data Science Bootcamp August\\Machine Learning Project\\data\\model_vars_data.csv')"
   ]
  },
  {
   "cell_type": "code",
   "execution_count": null,
   "id": "0c3342be",
   "metadata": {},
   "outputs": [],
   "source": [
    "test_vars_data = test_trans[var_list]\n",
    "# test_vars_data = test_vars_data.drop(['SalePrice'], axis=1) "
   ]
  },
  {
   "cell_type": "code",
   "execution_count": null,
   "id": "c707788a",
   "metadata": {},
   "outputs": [],
   "source": [
    "# test_vars_data.SalePrice"
   ]
  },
  {
   "cell_type": "code",
   "execution_count": null,
   "id": "6e58192b",
   "metadata": {},
   "outputs": [],
   "source": [
    "test_vars_data.to_csv(r'C:\\Users\\dgarb\\OneDrive\\Documents\\Data Science Bootcamp August\\Machine Learning Project\\data\\test_vars_data.csv')"
   ]
  }
 ],
 "metadata": {
  "kernelspec": {
   "display_name": "Python 3 (ipykernel)",
   "language": "python",
   "name": "python3"
  },
  "language_info": {
   "codemirror_mode": {
    "name": "ipython",
    "version": 3
   },
   "file_extension": ".py",
   "mimetype": "text/x-python",
   "name": "python",
   "nbconvert_exporter": "python",
   "pygments_lexer": "ipython3",
   "version": "3.9.7"
  }
 },
 "nbformat": 4,
 "nbformat_minor": 5
}
