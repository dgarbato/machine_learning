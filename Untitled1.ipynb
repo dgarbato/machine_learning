{
 "cells": [
  {
   "cell_type": "code",
   "execution_count": null,
   "id": "ab677b71",
   "metadata": {},
   "outputs": [],
   "source": [
    "sns.set_theme(style='darkgrid')\n",
    "sns.set(rc = {'figure.figsize':(15,8)})\n",
    "\n",
    "# tips = sns.load_dataset(\"tips\")\n",
    "ax = sns.barplot(x=\"Neighborhood\", y='LotFrontage', data=housing.dropna(subset=['LotFrontage']), color='skyblue', ci=None )#ci=None\n",
    "locs, labels = plt.xticks()\n",
    "plt.setp(labels, rotation=45)"
   ]
  },
  {
   "cell_type": "code",
   "execution_count": null,
   "id": "afe60ec0",
   "metadata": {},
   "outputs": [],
   "source": [
    "imputation_dict = housing_2.groupby([\"Neighborhood\"]).median().to_dict()\n",
    "imputation_dict['LotFrontage']"
   ]
  },
  {
   "cell_type": "code",
   "execution_count": null,
   "id": "b1dc54d4",
   "metadata": {},
   "outputs": [],
   "source": [
    "housing_copy =housing.copy()\n",
    "impute_index = housing.LotFrontage.isnull()\n",
    "housing_copy.loc[impute_index,'LotFrontage'] = housing_copy[impute_index].apply(lambda x:imputation_dict['LotFrontage'][x[0]], axis=1)"
   ]
  }
 ],
 "metadata": {
  "kernelspec": {
   "display_name": "Python 3 (ipykernel)",
   "language": "python",
   "name": "python3"
  },
  "language_info": {
   "codemirror_mode": {
    "name": "ipython",
    "version": 3
   },
   "file_extension": ".py",
   "mimetype": "text/x-python",
   "name": "python",
   "nbconvert_exporter": "python",
   "pygments_lexer": "ipython3",
   "version": "3.9.7"
  }
 },
 "nbformat": 4,
 "nbformat_minor": 5
}
