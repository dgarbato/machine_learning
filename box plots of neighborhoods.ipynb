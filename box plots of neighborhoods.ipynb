{
 "cells": [
  {
   "cell_type": "code",
   "execution_count": 1,
   "id": "68042e0b",
   "metadata": {},
   "outputs": [],
   "source": [
    "import numpy as np\n",
    "import pandas as pd\n",
    "%matplotlib inline\n",
    "import matplotlib.pyplot as plt\n",
    "import seaborn as sns"
   ]
  },
  {
   "cell_type": "code",
   "execution_count": 2,
   "id": "dd4bbcec",
   "metadata": {},
   "outputs": [],
   "source": [
    "housing = pd.read_csv(r'C:\\Users\\dgarb\\OneDrive\\Documents\\Data Science Bootcamp August\\Machine Learning Project\\data\\nx_train.csv',index_col=0)\n"
   ]
  },
  {
   "cell_type": "code",
   "execution_count": 4,
   "id": "d2c2fd56",
   "metadata": {},
   "outputs": [],
   "source": [
    "neigh_dict = {'NoRidge':'NoRidge_NridgHt_Veenker_StoneBr', \n",
    "             'NridgHt':'NoRidge_NridgHt_Veenker_StoneBr',\n",
    "              'Veenker':'NoRidge_NridgHt_Veenker_StoneBr',\n",
    "              'StoneBr':'NoRidge_NridgHt_Veenker_StoneBr',\n",
    "              \n",
    "              'Somerst':'Somerst_Timber',\n",
    "              'Timber':'Neighborhood_Somerst_Timber',\n",
    "              \n",
    "              'ClearCr':'ClearCr_CollgCr_Crawfor',\n",
    "              'CollgCr':'ClearCr_CollgCr_Crawfor',\n",
    "              'Crawfor':'ClearCr_CollgCr_Crawfor',\n",
    "              \n",
    "              'Greens':'Greens_SawyerW_Blmngtn',\n",
    "              'SawyerW':'Greens_SawyerW_Blmngtn',\n",
    "              'Blmngtn':'Greens_SawyerW_Blmngtn',\n",
    "              \n",
    "              'Gilbert':'Gilbert_NWAmes',\n",
    "              'NWAmes':'Gilbert_NWAmes',\n",
    "              \n",
    "              'Mitchel':'Mitchel_NPkVill',\n",
    "              'NPkVill':'Mitchel_NPkVill',\n",
    "              \n",
    "              'NAmes':'NAmes_SWISU_Sawyer',\n",
    "              'SWISU':'NAmes_SWISU_Sawyer',\n",
    "              'Sawyer':'NAmes_SWISU_Sawyer',\n",
    "              \n",
    "              'BrkSide':'BrkSide_Edwards_Blueste_OldTown_IDOTRR',\n",
    "              'Edwards':'BrkSide_Edwards_Blueste_OldTown_IDOTRR',\n",
    "              'Blueste':'BrkSide_Edwards_Blueste_OldTown_IDOTRR',\n",
    "              'OldTown':'BrkSide_Edwards_Blueste_OldTown_IDOTRR',\n",
    "              'IDOTRR':'BrkSide_Edwards_Blueste_OldTown_IDOTRR'\n",
    "             }"
   ]
  },
  {
   "cell_type": "code",
   "execution_count": 6,
   "id": "fc38f482",
   "metadata": {},
   "outputs": [],
   "source": [
    "housing['Neighborhood_mapped'] = housing['Neighborhood'].map(neigh_dict)"
   ]
  },
  {
   "cell_type": "code",
   "execution_count": 7,
   "id": "8a896922",
   "metadata": {},
   "outputs": [],
   "source": [
    "def proc_freq(df,variable_):  #Note variable_ must be given in quotes example: variable_ = 'xyz'\n",
    "    datax = df[variable_].value_counts().sort_index()\n",
    "    \n",
    "    datay = pd.DataFrame({\n",
    "        variable_: datax.index,\n",
    "        'Frequency': datax.values,\n",
    "        'Percent': ((datax.values/datax.values.sum())*100).round(2),\n",
    "        'Cumulative_Frequency': datax.values.cumsum(),\n",
    "        'Cumulative_Percent': ((datax.values.cumsum()/datax.values.sum())*100).round(2)   })\n",
    "    \n",
    "    #datay.set_index(variable_)\n",
    "    #return(datay.set_index(variable_))\n",
    "    return(datay)"
   ]
  },
  {
   "cell_type": "code",
   "execution_count": 8,
   "id": "8ca34c79",
   "metadata": {},
   "outputs": [
    {
     "data": {
      "text/html": [
       "<div>\n",
       "<style scoped>\n",
       "    .dataframe tbody tr th:only-of-type {\n",
       "        vertical-align: middle;\n",
       "    }\n",
       "\n",
       "    .dataframe tbody tr th {\n",
       "        vertical-align: top;\n",
       "    }\n",
       "\n",
       "    .dataframe thead th {\n",
       "        text-align: right;\n",
       "    }\n",
       "</style>\n",
       "<table border=\"1\" class=\"dataframe\">\n",
       "  <thead>\n",
       "    <tr style=\"text-align: right;\">\n",
       "      <th></th>\n",
       "      <th>Neighborhood_mapped</th>\n",
       "      <th>Frequency</th>\n",
       "      <th>Percent</th>\n",
       "      <th>Cumulative_Frequency</th>\n",
       "      <th>Cumulative_Percent</th>\n",
       "    </tr>\n",
       "  </thead>\n",
       "  <tbody>\n",
       "    <tr>\n",
       "      <th>0</th>\n",
       "      <td>BrkSide_Edwards_Blueste_OldTown_IDOTRR</td>\n",
       "      <td>382</td>\n",
       "      <td>21.98</td>\n",
       "      <td>382</td>\n",
       "      <td>21.98</td>\n",
       "    </tr>\n",
       "    <tr>\n",
       "      <th>1</th>\n",
       "      <td>ClearCr_CollgCr_Crawfor</td>\n",
       "      <td>271</td>\n",
       "      <td>15.59</td>\n",
       "      <td>653</td>\n",
       "      <td>37.57</td>\n",
       "    </tr>\n",
       "    <tr>\n",
       "      <th>2</th>\n",
       "      <td>Gilbert_NWAmes</td>\n",
       "      <td>177</td>\n",
       "      <td>10.18</td>\n",
       "      <td>830</td>\n",
       "      <td>47.76</td>\n",
       "    </tr>\n",
       "    <tr>\n",
       "      <th>3</th>\n",
       "      <td>Greens_SawyerW_Blmngtn</td>\n",
       "      <td>96</td>\n",
       "      <td>5.52</td>\n",
       "      <td>926</td>\n",
       "      <td>53.28</td>\n",
       "    </tr>\n",
       "    <tr>\n",
       "      <th>4</th>\n",
       "      <td>Mitchel_NPkVill</td>\n",
       "      <td>85</td>\n",
       "      <td>4.89</td>\n",
       "      <td>1011</td>\n",
       "      <td>58.17</td>\n",
       "    </tr>\n",
       "    <tr>\n",
       "      <th>5</th>\n",
       "      <td>NAmes_SWISU_Sawyer</td>\n",
       "      <td>417</td>\n",
       "      <td>23.99</td>\n",
       "      <td>1428</td>\n",
       "      <td>82.16</td>\n",
       "    </tr>\n",
       "    <tr>\n",
       "      <th>6</th>\n",
       "      <td>Neighborhood_Somerst_Timber</td>\n",
       "      <td>32</td>\n",
       "      <td>1.84</td>\n",
       "      <td>1460</td>\n",
       "      <td>84.00</td>\n",
       "    </tr>\n",
       "    <tr>\n",
       "      <th>7</th>\n",
       "      <td>NoRidge_NridgHt_Veenker_StoneBr</td>\n",
       "      <td>180</td>\n",
       "      <td>10.36</td>\n",
       "      <td>1640</td>\n",
       "      <td>94.36</td>\n",
       "    </tr>\n",
       "    <tr>\n",
       "      <th>8</th>\n",
       "      <td>Somerst_Timber</td>\n",
       "      <td>98</td>\n",
       "      <td>5.64</td>\n",
       "      <td>1738</td>\n",
       "      <td>100.00</td>\n",
       "    </tr>\n",
       "  </tbody>\n",
       "</table>\n",
       "</div>"
      ],
      "text/plain": [
       "                      Neighborhood_mapped  Frequency  Percent  \\\n",
       "0  BrkSide_Edwards_Blueste_OldTown_IDOTRR        382    21.98   \n",
       "1                 ClearCr_CollgCr_Crawfor        271    15.59   \n",
       "2                          Gilbert_NWAmes        177    10.18   \n",
       "3                  Greens_SawyerW_Blmngtn         96     5.52   \n",
       "4                         Mitchel_NPkVill         85     4.89   \n",
       "5                      NAmes_SWISU_Sawyer        417    23.99   \n",
       "6             Neighborhood_Somerst_Timber         32     1.84   \n",
       "7         NoRidge_NridgHt_Veenker_StoneBr        180    10.36   \n",
       "8                          Somerst_Timber         98     5.64   \n",
       "\n",
       "   Cumulative_Frequency  Cumulative_Percent  \n",
       "0                   382               21.98  \n",
       "1                   653               37.57  \n",
       "2                   830               47.76  \n",
       "3                   926               53.28  \n",
       "4                  1011               58.17  \n",
       "5                  1428               82.16  \n",
       "6                  1460               84.00  \n",
       "7                  1640               94.36  \n",
       "8                  1738              100.00  "
      ]
     },
     "execution_count": 8,
     "metadata": {},
     "output_type": "execute_result"
    }
   ],
   "source": [
    "proc_freq(housing,'Neighborhood_mapped')"
   ]
  },
  {
   "cell_type": "code",
   "execution_count": 12,
   "id": "3140a3e6",
   "metadata": {},
   "outputs": [
    {
     "data": {
      "text/plain": [
       "[Text(0, 0, 'Gilbert_NWAmes'),\n",
       " Text(1, 0, 'NAmes_SWISU_Sawyer'),\n",
       " Text(2, 0, 'NoRidge_NridgHt_Veenker_StoneBr'),\n",
       " Text(3, 0, 'BrkSide_Edwards_Blueste_OldTown_IDOTRR'),\n",
       " Text(4, 0, 'ClearCr_CollgCr_Crawfor'),\n",
       " Text(5, 0, 'Mitchel_NPkVill'),\n",
       " Text(6, 0, 'Somerst_Timber'),\n",
       " Text(7, 0, 'Greens_SawyerW_Blmngtn'),\n",
       " Text(8, 0, 'Neighborhood_Somerst_Timber')]"
      ]
     },
     "execution_count": 12,
     "metadata": {},
     "output_type": "execute_result"
    },
    {
     "data": {
      "image/png": "[encoded data removed]",
      "text/plain": [
       "<Figure size 1080x576 with 1 Axes>"
      ]
     },
     "metadata": {},
     "output_type": "display_data"
    }
   ],
   "source": [
    "sns.set(rc = {'figure.figsize':(15,8)})\n",
    "box = sns.boxplot(x='Neighborhood_mapped', y='SalePrice', data=housing, palette='Blues')\n",
    "\n",
    "box.set_xlabel(\"Neighborhood Groups\",fontsize=15)\n",
    "box.set_ylabel(\"SalePrice\",fontsize=15)\n",
    "                 \n",
    "#hue=\"smoker\", palette=[\"m\", \"g\"],\n",
    "#sns.despine(offset=10,trim=False)\n",
    "sns.despine()\n",
    "# box.set_title('Number Of Words In Pet Narrative',fontsize=20)\n",
    "box.set_xticklabels(box.get_xticklabels(),rotation = 30)\n",
    "\n"
   ]
  },
  {
   "cell_type": "code",
   "execution_count": 16,
   "id": "79c430f7",
   "metadata": {},
   "outputs": [
    {
     "data": {
      "text/html": [
       "<div>\n",
       "<style scoped>\n",
       "    .dataframe tbody tr th:only-of-type {\n",
       "        vertical-align: middle;\n",
       "    }\n",
       "\n",
       "    .dataframe tbody tr th {\n",
       "        vertical-align: top;\n",
       "    }\n",
       "\n",
       "    .dataframe thead th {\n",
       "        text-align: right;\n",
       "    }\n",
       "</style>\n",
       "<table border=\"1\" class=\"dataframe\">\n",
       "  <thead>\n",
       "    <tr style=\"text-align: right;\">\n",
       "      <th></th>\n",
       "      <th>Neighborhood_mapped</th>\n",
       "      <th>SalePrice</th>\n",
       "    </tr>\n",
       "  </thead>\n",
       "  <tbody>\n",
       "    <tr>\n",
       "      <th>1232</th>\n",
       "      <td>Gilbert_NWAmes</td>\n",
       "      <td>162900</td>\n",
       "    </tr>\n",
       "    <tr>\n",
       "      <th>2381</th>\n",
       "      <td>NAmes_SWISU_Sawyer</td>\n",
       "      <td>133000</td>\n",
       "    </tr>\n",
       "    <tr>\n",
       "      <th>810</th>\n",
       "      <td>Gilbert_NWAmes</td>\n",
       "      <td>189000</td>\n",
       "    </tr>\n",
       "    <tr>\n",
       "      <th>863</th>\n",
       "      <td>NoRidge_NridgHt_Veenker_StoneBr</td>\n",
       "      <td>290000</td>\n",
       "    </tr>\n",
       "    <tr>\n",
       "      <th>1346</th>\n",
       "      <td>BrkSide_Edwards_Blueste_OldTown_IDOTRR</td>\n",
       "      <td>143000</td>\n",
       "    </tr>\n",
       "  </tbody>\n",
       "</table>\n",
       "</div>"
      ],
      "text/plain": [
       "                         Neighborhood_mapped  SalePrice\n",
       "1232                          Gilbert_NWAmes     162900\n",
       "2381                      NAmes_SWISU_Sawyer     133000\n",
       "810                           Gilbert_NWAmes     189000\n",
       "863          NoRidge_NridgHt_Veenker_StoneBr     290000\n",
       "1346  BrkSide_Edwards_Blueste_OldTown_IDOTRR     143000"
      ]
     },
     "execution_count": 16,
     "metadata": {},
     "output_type": "execute_result"
    }
   ],
   "source": [
    "df = housing[['Neighborhood_mapped','SalePrice']]\n",
    "df.sort_values"
   ]
  },
  {
   "cell_type": "code",
   "execution_count": null,
   "id": "0f5edd80",
   "metadata": {},
   "outputs": [],
   "source": [
    "df2 "
   ]
  },
  {
   "cell_type": "code",
   "execution_count": 39,
   "id": "d03bd520",
   "metadata": {},
   "outputs": [
    {
     "name": "stdout",
     "output_type": "stream",
     "text": [
      "  Brand  Price  Year\n",
      "3    AA  35000  2018\n",
      "2    FF  27000  2018\n",
      "0    HH  22000  2015\n",
      "1    TT  25000  2013\n"
     ]
    }
   ],
   "source": [
    "data = {'Brand': ['HH','TT','FF','AA'],\n",
    "        'Price': [22000,25000,27000,35000],\n",
    "        'Year': [2015,2013,2018,2018]\n",
    "        }\n",
    " \n",
    "df = pd.DataFrame(data, columns=['Brand','Price','Year'])\n",
    "\n",
    "# sort Brand in an ascending order\n",
    "df.sort_values(by=['Brand'], inplace=True)\n",
    "\n",
    "print (df)"
   ]
  },
  {
   "cell_type": "code",
   "execution_count": null,
   "id": "06279d20",
   "metadata": {},
   "outputs": [],
   "source": []
  },
  {
   "cell_type": "code",
   "execution_count": 37,
   "id": "c0441dba",
   "metadata": {},
   "outputs": [
    {
     "data": {
      "text/plain": [
       "(1784,)"
      ]
     },
     "execution_count": 37,
     "metadata": {},
     "output_type": "execute_result"
    }
   ],
   "source": [
    "grouped.shape"
   ]
  },
  {
   "cell_type": "code",
   "execution_count": 31,
   "id": "c37b8f9d",
   "metadata": {},
   "outputs": [
    {
     "data": {
      "text/plain": [
       "(1784, 250)"
      ]
     },
     "execution_count": 31,
     "metadata": {},
     "output_type": "execute_result"
    }
   ],
   "source": [
    "housing.shape"
   ]
  },
  {
   "cell_type": "code",
   "execution_count": 42,
   "id": "22e55cf5",
   "metadata": {},
   "outputs": [],
   "source": [
    "# sns.boxplot(data=df_sorted_desc)\n",
    "# plt.xlabel(\"Neighborhood Group\", size=18)\n",
    "# plt.ylabel(\"Sale Price\", size=18)"
   ]
  }
 ],
 "metadata": {
  "kernelspec": {
   "display_name": "Python 3 (ipykernel)",
   "language": "python",
   "name": "python3"
  },
  "language_info": {
   "codemirror_mode": {
    "name": "ipython",
    "version": 3
   },
   "file_extension": ".py",
   "mimetype": "text/x-python",
   "name": "python",
   "nbconvert_exporter": "python",
   "pygments_lexer": "ipython3",
   "version": "3.9.7"
  }
 },
 "nbformat": 4,
 "nbformat_minor": 5
}
