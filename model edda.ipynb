{
 "cells": [
  {
   "cell_type": "code",
   "execution_count": 1,
   "id": "45a9aa98",
   "metadata": {},
   "outputs": [],
   "source": [
    "import numpy as np\n",
    "import pandas as pd\n",
    "from scipy import stats"
   ]
  },
  {
   "cell_type": "code",
   "execution_count": null,
   "id": "95f0b851",
   "metadata": {},
   "outputs": [],
   "source": []
  },
  {
   "cell_type": "code",
   "execution_count": 2,
   "id": "be30d275",
   "metadata": {},
   "outputs": [],
   "source": [
    "model_vars_data = pd.read_csv(r'C:\\Users\\dgarb\\OneDrive\\Documents\\Data Science Bootcamp August\\Machine Learning Project\\data\\model_vars_data_n.csv',index_col=0)\n",
    "\n",
    "test_vars_data = pd.read_csv(r'C:\\Users\\dgarb\\OneDrive\\Documents\\Data Science Bootcamp August\\Machine Learning Project\\data\\test_vars_data_n.csv',index_col=0)\n",
    "\n",
    "price_train = pd.read_csv(r'C:\\Users\\dgarb\\OneDrive\\Documents\\Data Science Bootcamp August\\Machine Learning Project\\data\\ny_train.csv',index_col=0)\n",
    "\n",
    "price_test = pd.read_csv(r'C:\\Users\\dgarb\\OneDrive\\Documents\\Data Science Bootcamp August\\Machine Learning Project\\data\\ny_test.csv',index_col=0)"
   ]
  },
  {
   "cell_type": "code",
   "execution_count": 3,
   "id": "1cecba3e",
   "metadata": {},
   "outputs": [],
   "source": [
    "combine = pd.concat([price_train, model_vars_data], axis=1)\n",
    "combine['log_price'] = np.log(combine.SalePrice)\n"
   ]
  },
  {
   "cell_type": "code",
   "execution_count": 4,
   "id": "4ab47ba6",
   "metadata": {},
   "outputs": [],
   "source": [
    "def categ_check(\n",
    "df_name = None,\n",
    "target_median = None,\n",
    "categ_feature = None,\n",
    "target = None):\n",
    "\n",
    "    df1 = df_name.groupby([categ_feature])[target].median().reset_index()\n",
    "    df1 = df1.rename(columns={target:'median_of_target'})\n",
    "\n",
    "    df1['index'] = (df1['median_of_target']/target_median*100).astype(int)\n",
    "\n",
    "    df2= df_name[[categ_feature,target]]\n",
    "    df2 = df2.groupby([categ_feature]).count().reset_index()\n",
    "    df2 = df2.rename(columns={target:'category_freq'})\n",
    "\n",
    "    df2['pct_total'] = df2['category_freq']/df_name.shape[0]*100\n",
    "\n",
    "    df3 = pd.merge(df2,df1)\n",
    "\n",
    "    df4 = df3.sort_values(by=['index'], ascending=False).reset_index()\n",
    "    df4 = df4.drop(columns=['level_0'])\n",
    "    return df4"
   ]
  },
  {
   "cell_type": "code",
   "execution_count": 5,
   "id": "d93e283c",
   "metadata": {},
   "outputs": [],
   "source": [
    "def categ_mean(\n",
    "df_name = None,\n",
    "target_mean = None,\n",
    "categ_feature = None,\n",
    "target = None):\n",
    "\n",
    "    df1 = df_name.groupby([categ_feature])[target].mean().reset_index()\n",
    "    df1 = df1.rename(columns={target:'mean_of_target'})\n",
    "\n",
    "    df1['index'] = (df1['mean_of_target']/target_mean*100).astype(int)\n",
    "\n",
    "    df2= df_name[[categ_feature,target]]\n",
    "    df2 = df2.groupby([categ_feature]).count().reset_index()\n",
    "    df2 = df2.rename(columns={target:'category_freq'})\n",
    "\n",
    "    df2['pct_total'] = df2['category_freq']/df_name.shape[0]*100\n",
    "\n",
    "    df3 = pd.merge(df2,df1)\n",
    "\n",
    "    df4 = df3.sort_values(by=['index'], ascending=False).reset_index()\n",
    "    df4 = df4.drop(columns=['level_0'])\n",
    "    return df4"
   ]
  },
  {
   "cell_type": "code",
   "execution_count": null,
   "id": "58c9d7ef",
   "metadata": {},
   "outputs": [],
   "source": []
  },
  {
   "cell_type": "code",
   "execution_count": 6,
   "id": "c1c07fc4",
   "metadata": {},
   "outputs": [
    {
     "ename": "NameError",
     "evalue": "name 'new_dummies' is not defined",
     "output_type": "error",
     "traceback": [
      "\u001b[1;31m---------------------------------------------------------------------------\u001b[0m",
      "\u001b[1;31mNameError\u001b[0m                                 Traceback (most recent call last)",
      "\u001b[1;32m~\\AppData\\Local\\Temp/ipykernel_9200/1170987367.py\u001b[0m in \u001b[0;36m<module>\u001b[1;34m\u001b[0m\n\u001b[1;32m----> 1\u001b[1;33m \u001b[1;32mfor\u001b[0m \u001b[0mfeature\u001b[0m \u001b[1;32min\u001b[0m \u001b[0mnew_dummies\u001b[0m\u001b[1;33m:\u001b[0m\u001b[1;33m\u001b[0m\u001b[1;33m\u001b[0m\u001b[0m\n\u001b[0m\u001b[0;32m      2\u001b[0m     df = categ_mean(\n\u001b[0;32m      3\u001b[0m     \u001b[0mdf_name\u001b[0m \u001b[1;33m=\u001b[0m \u001b[0mhousing\u001b[0m\u001b[1;33m,\u001b[0m\u001b[1;33m\u001b[0m\u001b[1;33m\u001b[0m\u001b[0m\n\u001b[0;32m      4\u001b[0m     \u001b[0mtarget_mean\u001b[0m \u001b[1;33m=\u001b[0m \u001b[0mhousing\u001b[0m\u001b[1;33m.\u001b[0m\u001b[0mSalePrice\u001b[0m\u001b[1;33m.\u001b[0m\u001b[0mmean\u001b[0m\u001b[1;33m(\u001b[0m\u001b[1;33m)\u001b[0m\u001b[1;33m,\u001b[0m\u001b[1;33m\u001b[0m\u001b[1;33m\u001b[0m\u001b[0m\n\u001b[0;32m      5\u001b[0m     \u001b[0mcateg_feature\u001b[0m \u001b[1;33m=\u001b[0m \u001b[0mfeature\u001b[0m\u001b[1;33m,\u001b[0m\u001b[1;33m\u001b[0m\u001b[1;33m\u001b[0m\u001b[0m\n",
      "\u001b[1;31mNameError\u001b[0m: name 'new_dummies' is not defined"
     ]
    }
   ],
   "source": [
    "for feature in new_dummies:    \n",
    "    df = categ_mean(\n",
    "    df_name = housing,\n",
    "    target_mean = housing.SalePrice.mean(),\n",
    "    categ_feature = feature,\n",
    "    target = 'SalePrice')\n",
    "    print(df)\n",
    "    print(' ')\n",
    "    \n",
    "    df2 = categ_check(\n",
    "    df_name = housing,\n",
    "    target_median = housing.SalePrice.median(),\n",
    "    categ_feature = feature,\n",
    "    target = 'SalePrice')\n",
    "    print(df2)\n",
    "    print(' ')"
   ]
  },
  {
   "cell_type": "code",
   "execution_count": null,
   "id": "9441b777",
   "metadata": {},
   "outputs": [],
   "source": [
    "# df_obj= housing.select_dtypes(exclude=['int64','float64'])"
   ]
  },
  {
   "cell_type": "code",
   "execution_count": null,
   "id": "fc292627",
   "metadata": {},
   "outputs": [],
   "source": [
    "df_bool= combine.select_dtypes(include=['bool'])\n",
    "list(df_bool.columns)"
   ]
  },
  {
   "cell_type": "code",
   "execution_count": null,
   "id": "322ca3ec",
   "metadata": {},
   "outputs": [],
   "source": [
    "pd.set_option('display.max_rows', None)\n",
    "\n",
    "print(\"look at correlations with target\")\n",
    "corr = nums.corr()\n",
    "corr.sort_values([\"log_price\"], ascending = False, inplace = True)\n",
    "\n",
    "\n",
    "# # type(corr.SalePrice)\n",
    "# # # type(corr)\n",
    "print(corr.log_price)"
   ]
  }
 ],
 "metadata": {
  "kernelspec": {
   "display_name": "Python 3 (ipykernel)",
   "language": "python",
   "name": "python3"
  },
  "language_info": {
   "codemirror_mode": {
    "name": "ipython",
    "version": 3
   },
   "file_extension": ".py",
   "mimetype": "text/x-python",
   "name": "python",
   "nbconvert_exporter": "python",
   "pygments_lexer": "ipython3",
   "version": "3.9.7"
  }
 },
 "nbformat": 4,
 "nbformat_minor": 5
}
