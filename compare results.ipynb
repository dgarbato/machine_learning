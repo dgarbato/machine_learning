{
 "cells": [
  {
   "cell_type": "code",
   "execution_count": 4,
   "id": "031286d7",
   "metadata": {},
   "outputs": [],
   "source": [
    "import numpy as np\n",
    "import math"
   ]
  },
  {
   "cell_type": "code",
   "execution_count": 8,
   "id": "81c215a5",
   "metadata": {},
   "outputs": [
    {
     "name": "stdout",
     "output_type": "stream",
     "text": [
      "train error:   1.1066059552921637\n",
      "test error:   1.1100974709944842\n"
     ]
    }
   ],
   "source": [
    "#elastic net it 11\n",
    "\n",
    "# score:  0.92798125947084\n",
    "  \n",
    "# test score:  0.9214605024859138\n",
    "\n",
    "# train RMSE: 0.10129763307968465\n",
    "  \n",
    "# test RMSE: 0.10444782317576307\n",
    "\n",
    "print('train error:  ',math.exp(0.10129763307968465))\n",
    "\n",
    "print('test error:  ',math.exp(0.10444782317576307))"
   ]
  },
  {
   "cell_type": "code",
   "execution_count": 9,
   "id": "995459b5",
   "metadata": {},
   "outputs": [
    {
     "name": "stdout",
     "output_type": "stream",
     "text": [
      "train error:   1.1006332471774125\n",
      "test error:   1.1089914884170058\n"
     ]
    }
   ],
   "source": [
    "#lasso it 11\n",
    "\n",
    "# score:  0.9354710567232569\n",
    "  \n",
    "# test score:  0.9229524207725474\n",
    "\n",
    "# train RMSE: 0.09588569341678453\n",
    "  \n",
    "# test RMSE: 0.10345103333156846\n",
    "\n",
    "print('train error:  ',math.exp(0.09588569341678453))\n",
    "\n",
    "print('test error:  ',math.exp(0.10345103333156846))"
   ]
  },
  {
   "cell_type": "code",
   "execution_count": 16,
   "id": "d774d7ab",
   "metadata": {},
   "outputs": [
    {
     "name": "stdout",
     "output_type": "stream",
     "text": [
      "train error:   1.0997787490016349\n",
      "test error:   1.1083836540674792\n"
     ]
    }
   ],
   "source": [
    "#ridge 13\n",
    "\n",
    "# score:  0.9365121878523259\n",
    "  \n",
    "# test score:  0.9237668960675699\n",
    "    \n",
    "# train RMSE: 0.09510902230227007\n",
    "  \n",
    "# test RMSE: 0.10290278657520728\n",
    "\n",
    "print('train error:  ',math.exp(0.09510902230227007))\n",
    "\n",
    "print('test error:  ',math.exp(0.10290278657520728))"
   ]
  },
  {
   "cell_type": "code",
   "execution_count": 14,
   "id": "8dee5891",
   "metadata": {},
   "outputs": [
    {
     "name": "stdout",
     "output_type": "stream",
     "text": [
      "train error:   1.0675714020697809\n",
      "test error:   1.1260879781908817\n"
     ]
    }
   ],
   "source": [
    "#random forest\n",
    "\n",
    "# score:  0.9699931000344741\n",
    "    \n",
    "# test score:  0.8984794219118339\n",
    "    \n",
    "# train RMSE: 0.06538635106860088\n",
    " \n",
    "# test RMSE: 0.1187496600496867\n",
    "\n",
    "print('train error:  ',math.exp(0.06538635106860088))\n",
    "\n",
    "print('test error:  ',math.exp(0.1187496600496867))"
   ]
  },
  {
   "cell_type": "code",
   "execution_count": 11,
   "id": "b313ca43",
   "metadata": {},
   "outputs": [
    {
     "name": "stdout",
     "output_type": "stream",
     "text": [
      "train error:   1.0796059048370652\n",
      "test error:   1.106873960159618\n"
     ]
    }
   ],
   "source": [
    "#gradient boosting\n",
    "\n",
    "# score:  0.9588225053289916\n",
    "  \n",
    "# test score:  0.9257730091285431\n",
    " \n",
    "# train RMSE: 0.07659607161421071\n",
    "  \n",
    "# test RMSE: 0.10153979011656877\n",
    "\n",
    "print('train error:  ',math.exp(0.07659607161421071))\n",
    "\n",
    "print('test error:  ',math.exp(0.10153979011656877))"
   ]
  }
 ],
 "metadata": {
  "kernelspec": {
   "display_name": "Python 3 (ipykernel)",
   "language": "python",
   "name": "python3"
  },
  "language_info": {
   "codemirror_mode": {
    "name": "ipython",
    "version": 3
   },
   "file_extension": ".py",
   "mimetype": "text/x-python",
   "name": "python",
   "nbconvert_exporter": "python",
   "pygments_lexer": "ipython3",
   "version": "3.9.7"
  }
 },
 "nbformat": 4,
 "nbformat_minor": 5
}
