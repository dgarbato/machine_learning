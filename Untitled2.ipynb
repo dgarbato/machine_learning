{
 "cells": [
  {
   "cell_type": "code",
   "execution_count": 1,
   "id": "84dbf82d",
   "metadata": {},
   "outputs": [],
   "source": [
    "import matplotlib.pyplot as plt\n",
    "import seaborn as sns\n",
    "import numpy as np\n",
    "import pandas as pd\n",
    "%matplotlib inline\n",
    "from scipy import stats"
   ]
  },
  {
   "cell_type": "code",
   "execution_count": 3,
   "id": "dc87fc11",
   "metadata": {},
   "outputs": [],
   "source": [
    "from sklearn.linear_model import Lasso\n",
    "from sklearn.metrics import mean_squared_error\n",
    "from sklearn.preprocessing import StandardScaler\n",
    "from sklearn.model_selection import GridSearchCV"
   ]
  },
  {
   "cell_type": "code",
   "execution_count": 4,
   "id": "1f203fbf",
   "metadata": {},
   "outputs": [],
   "source": [
    "from sklearn.linear_model import Ridge, Lasso, ElasticNet"
   ]
  },
  {
   "cell_type": "code",
   "execution_count": 5,
   "id": "26e8bf2b",
   "metadata": {},
   "outputs": [],
   "source": [
    "from regression_function import regx2"
   ]
  },
  {
   "cell_type": "code",
   "execution_count": 6,
   "id": "6dbe5521",
   "metadata": {},
   "outputs": [],
   "source": [
    "model_vars_data = pd.read_csv(r'C:\\Users\\dgarb\\OneDrive\\Documents\\Data Science Bootcamp August\\Machine Learning Project\\data\\model_vars_data.csv',index_col=0)\n",
    "\n",
    "test_vars_data = pd.read_csv(r'C:\\Users\\dgarb\\OneDrive\\Documents\\Data Science Bootcamp August\\Machine Learning Project\\data\\test_vars_data.csv',index_col=0)\n",
    "\n",
    "price_train = pd.read_csv(r'C:\\Users\\dgarb\\OneDrive\\Documents\\Data Science Bootcamp August\\Machine Learning Project\\data\\y_train.csv',index_col=0)\n",
    "\n",
    "price_test = pd.read_csv(r'C:\\Users\\dgarb\\OneDrive\\Documents\\Data Science Bootcamp August\\Machine Learning Project\\data\\y_test.csv',index_col=0)"
   ]
  },
  {
   "cell_type": "code",
   "execution_count": 7,
   "id": "0e3de55f",
   "metadata": {},
   "outputs": [],
   "source": [
    "def miss_cols(df):\n",
    "    missing = np.sum(df.isnull(),axis=0)\n",
    "    \n",
    "    miss_ind = np.sum(df.isnull(),axis=0) > 0\n",
    "    \n",
    "    vals = pd.Series(filter(lambda x: x != 0,missing))\n",
    "     \n",
    "    cols_miss = df.columns[miss_ind]\n",
    "\n",
    "    L=list(zip(cols_miss,vals, round(vals/df.shape[0],4)))\n",
    "    \n",
    "    return sorted(L,reverse=True,key=lambda x: x[2])  "
   ]
  },
  {
   "cell_type": "code",
   "execution_count": 10,
   "id": "79af0a98",
   "metadata": {},
   "outputs": [],
   "source": [
    "model_vars_data.drop(['GarageYrBlt'],axis=1, inplace = True)\n",
    "# miss_cols(model_vars_data)"
   ]
  },
  {
   "cell_type": "code",
   "execution_count": 11,
   "id": "ecd4553f",
   "metadata": {},
   "outputs": [
    {
     "data": {
      "text/plain": [
       "[]"
      ]
     },
     "execution_count": 11,
     "metadata": {},
     "output_type": "execute_result"
    }
   ],
   "source": [
    "miss_cols(model_vars_data)"
   ]
  },
  {
   "cell_type": "code",
   "execution_count": 9,
   "id": "7830188d",
   "metadata": {},
   "outputs": [
    {
     "data": {
      "text/plain": [
       "[]"
      ]
     },
     "execution_count": 9,
     "metadata": {},
     "output_type": "execute_result"
    }
   ],
   "source": [
    "test_vars_data.drop(['GarageYrBlt'],axis=1, inplace = True)\n",
    "miss_cols(test_vars_data)"
   ]
  },
  {
   "cell_type": "code",
   "execution_count": 12,
   "id": "ecad318b",
   "metadata": {},
   "outputs": [],
   "source": [
    "def to_keep(it_lasso, amt):\n",
    "    keeps1 = it_lasso.loc[it_lasso['abs_val'] > amt,['features']]\n",
    "    list_keeps1 = list(keeps1.features)\n",
    "    return list_keeps1"
   ]
  },
  {
   "cell_type": "code",
   "execution_count": 13,
   "id": "ca16e3d4",
   "metadata": {},
   "outputs": [
    {
     "ename": "NameError",
     "evalue": "name 'StandardScaler' is not defined",
     "output_type": "error",
     "traceback": [
      "\u001b[1;31m---------------------------------------------------------------------------\u001b[0m",
      "\u001b[1;31mNameError\u001b[0m                                 Traceback (most recent call last)",
      "\u001b[1;32m~\\AppData\\Local\\Temp/ipykernel_28988/3904577709.py\u001b[0m in \u001b[0;36m<module>\u001b[1;34m\u001b[0m\n\u001b[1;32m----> 1\u001b[1;33m it1_ridge = regx2(model= Ridge(max_iter=3000),\n\u001b[0m\u001b[0;32m      2\u001b[0m \u001b[0mx_train\u001b[0m \u001b[1;33m=\u001b[0m \u001b[0mmodel_vars_data\u001b[0m\u001b[1;33m,\u001b[0m\u001b[1;33m\u001b[0m\u001b[1;33m\u001b[0m\u001b[0m\n\u001b[0;32m      3\u001b[0m \u001b[0mx_test\u001b[0m \u001b[1;33m=\u001b[0m \u001b[0mtest_vars_data\u001b[0m\u001b[1;33m,\u001b[0m\u001b[1;33m\u001b[0m\u001b[1;33m\u001b[0m\u001b[0m\n\u001b[0;32m      4\u001b[0m \u001b[0my_train\u001b[0m \u001b[1;33m=\u001b[0m \u001b[0mnp\u001b[0m\u001b[1;33m.\u001b[0m\u001b[0mlog\u001b[0m\u001b[1;33m(\u001b[0m\u001b[0mprice_train\u001b[0m\u001b[1;33m.\u001b[0m\u001b[0mSalePrice\u001b[0m\u001b[1;33m)\u001b[0m\u001b[1;33m,\u001b[0m\u001b[1;33m\u001b[0m\u001b[1;33m\u001b[0m\u001b[0m\n\u001b[0;32m      5\u001b[0m \u001b[0my_test\u001b[0m \u001b[1;33m=\u001b[0m \u001b[0mnp\u001b[0m\u001b[1;33m.\u001b[0m\u001b[0mlog\u001b[0m\u001b[1;33m(\u001b[0m\u001b[0mprice_test\u001b[0m\u001b[1;33m.\u001b[0m\u001b[0mSalePrice\u001b[0m\u001b[1;33m)\u001b[0m\u001b[1;33m,\u001b[0m\u001b[1;33m\u001b[0m\u001b[1;33m\u001b[0m\u001b[0m\n",
      "\u001b[1;32m~\\OneDrive\\Documents\\Data Science Bootcamp August\\Machine Learning Project\\regression_function.py\u001b[0m in \u001b[0;36mregx2\u001b[1;34m(model, x_train, x_test, y_train, y_test, params, cv_, linear_reg, tree_based)\u001b[0m\n\u001b[0;32m     13\u001b[0m     \u001b[0mfeatures\u001b[0m \u001b[1;33m=\u001b[0m \u001b[0mlist\u001b[0m\u001b[1;33m(\u001b[0m\u001b[0mx_train\u001b[0m\u001b[1;33m.\u001b[0m\u001b[0mcolumns\u001b[0m\u001b[1;33m)\u001b[0m\u001b[1;33m\u001b[0m\u001b[1;33m\u001b[0m\u001b[0m\n\u001b[0;32m     14\u001b[0m \u001b[1;33m\u001b[0m\u001b[0m\n\u001b[1;32m---> 15\u001b[1;33m     \u001b[0mss\u001b[0m \u001b[1;33m=\u001b[0m \u001b[0mStandardScaler\u001b[0m\u001b[1;33m(\u001b[0m\u001b[1;33m)\u001b[0m\u001b[1;33m\u001b[0m\u001b[1;33m\u001b[0m\u001b[0m\n\u001b[0m\u001b[0;32m     16\u001b[0m     \u001b[0mx_train\u001b[0m \u001b[1;33m=\u001b[0m \u001b[0mss\u001b[0m\u001b[1;33m.\u001b[0m\u001b[0mfit_transform\u001b[0m\u001b[1;33m(\u001b[0m\u001b[0mx_train\u001b[0m\u001b[1;33m)\u001b[0m\u001b[1;33m\u001b[0m\u001b[1;33m\u001b[0m\u001b[0m\n\u001b[0;32m     17\u001b[0m     \u001b[0mx_test\u001b[0m \u001b[1;33m=\u001b[0m \u001b[0mss\u001b[0m\u001b[1;33m.\u001b[0m\u001b[0mtransform\u001b[0m\u001b[1;33m(\u001b[0m\u001b[0mx_test\u001b[0m\u001b[1;33m)\u001b[0m\u001b[1;33m\u001b[0m\u001b[1;33m\u001b[0m\u001b[0m\n",
      "\u001b[1;31mNameError\u001b[0m: name 'StandardScaler' is not defined"
     ]
    }
   ],
   "source": [
    "ridge1 = regx2(model= Ridge(max_iter=3000),\n",
    "x_train = model_vars_data,\n",
    "x_test = test_vars_data,\n",
    "y_train = np.log(price_train.SalePrice),\n",
    "y_test = np.log(price_test.SalePrice),\n",
    "params = {\"alpha\": [0.0001, 0.001, 0.01, 0.1, 1, 10, 100, 1000]},\n",
    "cv_ = 5,\n",
    "linear_reg = True,\n",
    "tree_based = False)"
   ]
  }
 ],
 "metadata": {
  "kernelspec": {
   "display_name": "Python 3 (ipykernel)",
   "language": "python",
   "name": "python3"
  },
  "language_info": {
   "codemirror_mode": {
    "name": "ipython",
    "version": 3
   },
   "file_extension": ".py",
   "mimetype": "text/x-python",
   "name": "python",
   "nbconvert_exporter": "python",
   "pygments_lexer": "ipython3",
   "version": "3.9.7"
  }
 },
 "nbformat": 4,
 "nbformat_minor": 5
}
