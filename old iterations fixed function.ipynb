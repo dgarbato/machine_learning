{
 "cells": [
  {
   "cell_type": "code",
   "execution_count": 1,
   "id": "60b03301",
   "metadata": {},
   "outputs": [],
   "source": [
    "from sklearn.linear_model import Lasso\n",
    "from sklearn.metrics import mean_squared_error\n",
    "from sklearn.preprocessing import StandardScaler \n",
    "from sklearn.model_selection import GridSearchCV"
   ]
  },
  {
   "cell_type": "code",
   "execution_count": 2,
   "id": "f4eaad01",
   "metadata": {},
   "outputs": [],
   "source": [
    "import matplotlib.pyplot as plt\n",
    "import seaborn as sns\n",
    "import numpy as np\n",
    "import pandas as pd\n",
    "%matplotlib inline\n",
    "from scipy import stats"
   ]
  },
  {
   "cell_type": "code",
   "execution_count": 3,
   "id": "b53f2d63",
   "metadata": {},
   "outputs": [],
   "source": [
    "from sklearn.linear_model import Ridge, Lasso, ElasticNet"
   ]
  },
  {
   "cell_type": "code",
   "execution_count": 4,
   "id": "8f393e91",
   "metadata": {},
   "outputs": [],
   "source": [
    "from regression_function_fix import regx3"
   ]
  },
  {
   "cell_type": "code",
   "execution_count": 5,
   "id": "64f803a3",
   "metadata": {},
   "outputs": [],
   "source": [
    "model_vars_data = pd.read_csv(r'C:\\Users\\dgarb\\OneDrive\\Documents\\Data Science Bootcamp August\\Machine Learning Project\\data\\model_vars_data.csv',index_col=0)\n",
    "\n",
    "test_vars_data = pd.read_csv(r'C:\\Users\\dgarb\\OneDrive\\Documents\\Data Science Bootcamp August\\Machine Learning Project\\data\\test_vars_data.csv',index_col=0)\n",
    "\n",
    "price_train = pd.read_csv(r'C:\\Users\\dgarb\\OneDrive\\Documents\\Data Science Bootcamp August\\Machine Learning Project\\data\\y_train.csv',index_col=0)\n",
    "\n",
    "price_test = pd.read_csv(r'C:\\Users\\dgarb\\OneDrive\\Documents\\Data Science Bootcamp August\\Machine Learning Project\\data\\y_test.csv',index_col=0)"
   ]
  },
  {
   "cell_type": "code",
   "execution_count": 6,
   "id": "5639bf9d",
   "metadata": {},
   "outputs": [],
   "source": [
    "def miss_cols(df):\n",
    "    missing = np.sum(df.isnull(),axis=0)\n",
    "    \n",
    "    miss_ind = np.sum(df.isnull(),axis=0) > 0\n",
    "    \n",
    "    vals = pd.Series(filter(lambda x: x != 0,missing))\n",
    "     \n",
    "    cols_miss = df.columns[miss_ind]\n",
    "\n",
    "    L=list(zip(cols_miss,vals, round(vals/df.shape[0],4)))\n",
    "    12\n",
    "    return sorted(L,reverse=True,key=lambda x: x[2])  "
   ]
  },
  {
   "cell_type": "code",
   "execution_count": 7,
   "id": "3bcb0253",
   "metadata": {},
   "outputs": [
    {
     "data": {
      "text/plain": [
       "[]"
      ]
     },
     "execution_count": 7,
     "metadata": {},
     "output_type": "execute_result"
    }
   ],
   "source": [
    "model_vars_data.drop(['GarageYrBlt'],axis=1, inplace = True)\n",
    "miss_cols(model_vars_data)"
   ]
  },
  {
   "cell_type": "code",
   "execution_count": 8,
   "id": "0c8760e2",
   "metadata": {},
   "outputs": [
    {
     "data": {
      "text/plain": [
       "[]"
      ]
     },
     "execution_count": 8,
     "metadata": {},
     "output_type": "execute_result"
    }
   ],
   "source": [
    "test_vars_data.drop(['GarageYrBlt'],axis=1, inplace = True)\n",
    "miss_cols(test_vars_data)"
   ]
  },
  {
   "cell_type": "code",
   "execution_count": 9,
   "id": "2e4f602b",
   "metadata": {},
   "outputs": [],
   "source": [
    "\n",
    "def to_keep(mod, amt):\n",
    "    mod = mod['model_importances']\n",
    "    keeps1 = mod.loc[mod['abs_val'] > amt,['features']]\n",
    "    list_keeps1 = list(keeps1.features)\n",
    "    return list_keeps1\n",
    "\n",
    "# def to_keep(mod, amt):\n",
    "#     keeps1 = mod.loc[mod['abs_val'] > amt,['features']]\n",
    "#     list_keeps1 = list(keeps1.features)\n",
    "#     return list_keeps1"
   ]
  },
  {
   "cell_type": "code",
   "execution_count": 10,
   "id": "59f43e36",
   "metadata": {},
   "outputs": [],
   "source": [
    "# def regx2(model= None,\n",
    "# x_train = None,\n",
    "# x_test = None,\n",
    "# y_train = None,\n",
    "# y_test = None,\n",
    "# params = None, #put dictionary of params\n",
    "# cv_ = 5,\n",
    "# linear_reg = True,\n",
    "# tree_based = False) :\n",
    "# ######################################\n",
    "# #########################################\n",
    "\n",
    "#     features = list(x_train.columns)\n",
    "\n",
    "#     ss = StandardScaler()\n",
    "#     x_train = pd.DataFrame(ss.fit_transform(x_train), columns = features)\n",
    "#     x_test = pd.DataFrame(ss.fit_transform(x_test), columns = features)\n",
    "    \n",
    "# #     print('train ',x_train.head())\n",
    "# #     print(' ')\n",
    "# #     print('test ', x_test.head())\n",
    "    \n",
    "    \n",
    "#     gs = GridSearchCV(model, params, cv=cv_, return_train_score=True, refit=True)\n",
    "#     gs.fit(x_train,y_train)\n",
    "#     gs.best_params_\n",
    "\n",
    "#     model= gs.best_estimator_\n",
    "#     ###################################    \n",
    "\n",
    "#     print('best params: ',gs.best_params_)\n",
    "#     print('score: ',gs.score(x_train,y_train))\n",
    "#     print('  ')\n",
    "#     print('test score: ',gs.score(x_test,y_test))\n",
    "\n",
    "\n",
    "#     if linear_reg:\n",
    "#         adj_r2 = 1-(1-gs.score(x_train,y_train))*(x_train.shape[0] - 1) / (x_train.shape[0] - x_train.shape[1] - 1)\n",
    "#         print('adj_r2: ', adj_r2)\n",
    "#         adj_r2_test = 1-(1-gs.score(x_test,y_test))*(x_test.shape[0] - 1) / (x_test.shape[0] - x_test.shape[1] - 1)\n",
    "#         print('  ')\n",
    "#         print('adj_r2_test: ',adj_r2_test)\n",
    "#         print(' ')\n",
    "\n",
    "\n",
    "#     train_pred = gs.best_estimator_.predict(x_train)\n",
    "#     print('train RMSE: ' + str(mean_squared_error(train_pred,y_train)**0.5))\n",
    "#     print('  ')\n",
    "\n",
    "#     test_pred = gs.best_estimator_.predict(x_test)\n",
    "#     print('test RMSE: ' + str(mean_squared_error(test_pred,y_test)**0.5))\n",
    "\n",
    "#     if linear_reg:\n",
    "\n",
    "#         coefs = pd.Series(gs.best_estimator_.coef_, name = 'coef' )\n",
    "\n",
    "#         varnames = pd.Series(features, name = 'features')\n",
    "\n",
    "#         pd.set_option('display.max_rows', None) # or 1000.\n",
    "\n",
    "#         abs_coefs = pd.Series(np.abs(coefs),name = 'abs_val')\n",
    "\n",
    "#         coefs_ = pd.concat([varnames,coefs, abs_coefs], axis=1)\n",
    "\n",
    "#         #return:\n",
    "#         model_importances = coefs_.sort_values(by=['abs_val'], ascending=False)\n",
    "\n",
    "#         print(model_importances)\n",
    "#         print(' ')\n",
    "\n",
    "#     elif tree_based:\n",
    "#         pd.set_option('display.max_rows', None) # or 1000.\n",
    "\n",
    "#         #return\n",
    "#         varnames = pd.Series(features, name = 'features')\n",
    "\n",
    "#         importances_ = pd.Series(model.feature_importances_, name = 'importances')\n",
    "\n",
    "#         df = pd.concat([varnames,importances_], axis=1)\n",
    "\n",
    "#         model_importances = df.sort_values(by=['importances'], ascending=False)\n",
    "\n",
    "\n",
    "\n",
    "#     #         model_importances = pd.Series(model.feature_importances_, index = features).sort_values(ascending=False)\n",
    "\n",
    "#         print(model_importances)\n",
    "\n",
    "\n",
    "#     if linear_reg:\n",
    "#         residuals = y_train - train_pred\n",
    "#         print('skewness: ',stats.skew(residuals))\n",
    "#         print(' ')\n",
    "#         sns.set_theme(style='darkgrid')\n",
    "#         sns.histplot(residuals, bins=20);\n",
    "    \n",
    "#     print('model_importances.shape: ',model_importances.shape)\n",
    "#     return model_importances"
   ]
  },
  {
   "cell_type": "code",
   "execution_count": 11,
   "id": "ebd53e54",
   "metadata": {},
   "outputs": [],
   "source": [
    "# def regx3(model= None,\n",
    "# x_train = None,\n",
    "# x_test = None,\n",
    "# y_train = None,\n",
    "# y_test = None,\n",
    "# params = None, #put dictionary of params\n",
    "# cv_ = 5,\n",
    "# linear_reg = True,\n",
    "# tree_based = False) :\n",
    "# ######################################\n",
    "# #########################################\n",
    "\n",
    "#     features = list(x_train.columns)\n",
    "\n",
    "#     ss = StandardScaler()\n",
    "#     x_train = pd.DataFrame(ss.fit_transform(x_train), columns = features)\n",
    "#     x_test = pd.DataFrame(ss.fit_transform(x_test), columns = features)\n",
    "    \n",
    "# #     print('train ',x_train.head())\n",
    "# #     print(' ')\n",
    "# #     print('test ', x_test.head())\n",
    "    \n",
    "    \n",
    "#     gs = GridSearchCV(model, params, cv=cv_, return_train_score=True, refit=True)\n",
    "#     gs.fit(x_train,y_train)\n",
    "#     gs.best_params_\n",
    "\n",
    "#     model= gs.best_estimator_\n",
    "#     ###################################    \n",
    "\n",
    "#     print('best params: ',gs.best_params_)\n",
    "#     print('score: ',gs.score(x_train,y_train))\n",
    "#     print('  ')\n",
    "#     print('test score: ',gs.score(x_test,y_test))\n",
    "\n",
    "\n",
    "#     if linear_reg:\n",
    "#         adj_r2 = 1-(1-gs.score(x_train,y_train))*(x_train.shape[0] - 1) / (x_train.shape[0] - x_train.shape[1] - 1)\n",
    "#         print('adj_r2: ', adj_r2)\n",
    "#         adj_r2_test = 1-(1-gs.score(x_test,y_test))*(x_test.shape[0] - 1) / (x_test.shape[0] - x_test.shape[1] - 1)\n",
    "#         print('  ')\n",
    "#         print('adj_r2_test: ',adj_r2_test)\n",
    "#         print(' ')\n",
    "\n",
    "\n",
    "#     train_pred = gs.best_estimator_.predict(x_train)\n",
    "#     print('train RMSE: ' + str(mean_squared_error(train_pred,y_train)**0.5))\n",
    "#     print('  ')\n",
    "\n",
    "#     test_pred = gs.best_estimator_.predict(x_test)\n",
    "#     print('test RMSE: ' + str(mean_squared_error(test_pred,y_test)**0.5))\n",
    "\n",
    "#     if linear_reg:\n",
    "\n",
    "#         coefs = pd.Series(gs.best_estimator_.coef_, name = 'coef' )\n",
    "\n",
    "#         varnames = pd.Series(features, name = 'features')\n",
    "\n",
    "#         pd.set_option('display.max_rows', None) # or 1000.\n",
    "\n",
    "#         abs_coefs = pd.Series(np.abs(coefs),name = 'abs_val')\n",
    "\n",
    "#         coefs_ = pd.concat([varnames,coefs, abs_coefs], axis=1)\n",
    "\n",
    "#         #return:\n",
    "#         model_importances = coefs_.sort_values(by=['abs_val'], ascending=False)\n",
    "\n",
    "#         print(model_importances)\n",
    "#         print(' ')\n",
    "\n",
    "#     elif tree_based:\n",
    "#         pd.set_option('display.max_rows', None) # or 1000.\n",
    "\n",
    "#         #return\n",
    "#         varnames = pd.Series(features, name = 'features')\n",
    "\n",
    "#         importances_ = pd.Series(model.feature_importances_, name = 'importances')\n",
    "\n",
    "#         df = pd.concat([varnames,importances_], axis=1)\n",
    "\n",
    "#         model_importances = df.sort_values(by=['importances'], ascending=False)\n",
    "\n",
    "\n",
    "\n",
    "#     #         model_importances = pd.Series(model.feature_importances_, index = features).sort_values(ascending=False)\n",
    "\n",
    "#         print(model_importances)\n",
    "\n",
    "\n",
    "#     if linear_reg:\n",
    "#         residuals = y_train - train_pred\n",
    "#         print('skewness: ',stats.skew(residuals))\n",
    "#         print(' ')\n",
    "#         sns.set_theme(style='darkgrid')\n",
    "#         sns.histplot(residuals, bins=20);\n",
    "    \n",
    "#     print('model_importances.shape: ',model_importances.shape)\n",
    "#     return model_importances"
   ]
  },
  {
   "cell_type": "code",
   "execution_count": 12,
   "id": "1c3dba9b",
   "metadata": {},
   "outputs": [],
   "source": [
    "# Fucntion returns dictionary\n",
    "\n",
    "def regx3(\n",
    "model=  None,\n",
    "x_train = None,\n",
    "x_test = None,\n",
    "y_train = None,\n",
    "y_test =  None,\n",
    "params = None,\n",
    "cv_ = 5,\n",
    "linear_reg = True,\n",
    "tree_based = False):\n",
    "######################################\n",
    "#########################################\n",
    "\n",
    "    features = list(x_train.columns)\n",
    "\n",
    "    ss = StandardScaler()\n",
    "    x_train = pd.DataFrame(ss.fit_transform(x_train), columns = features)\n",
    "    x_test = pd.DataFrame(ss.fit_transform(x_test), columns = features)\n",
    "\n",
    "    #     print('train ',x_train.head())\n",
    "    #     print(' ')\n",
    "    #     print('test ', x_test.head())\n",
    "\n",
    "\n",
    "    gs = GridSearchCV(model, params, cv=cv_, return_train_score=True, refit=True)\n",
    "    gs.fit(x_train,y_train)\n",
    "    gs.best_params_\n",
    "\n",
    "    reg_dict = {}\n",
    "    model= gs.best_estimator_\n",
    "    reg_dict['mod'] = model\n",
    "    ###################################    \n",
    "\n",
    "    print('best params: ',gs.best_params_)\n",
    "    reg_dict['best params'] = gs.best_params_\n",
    "\n",
    "    print('score: ',gs.score(x_train,y_train))\n",
    "    reg_dict['score'] = gs.score(x_train,y_train)\n",
    "\n",
    "    print('  ')\n",
    "    print('test score: ',gs.score(x_test,y_test))\n",
    "    reg_dict['test score'] = gs.score(x_test,y_test)\n",
    "\n",
    "    if linear_reg:\n",
    "        adj_r2 = 1-(1-gs.score(x_train,y_train))*(x_train.shape[0] - 1) / (x_train.shape[0] - x_train.shape[1] - 1)\n",
    "        print('adj_r2: ', adj_r2)\n",
    "        reg_dict['adj_r2'] = adj_r2\n",
    "\n",
    "        adj_r2_test = 1-(1-gs.score(x_test,y_test))*(x_test.shape[0] - 1) / (x_test.shape[0] - x_test.shape[1] - 1)\n",
    "        print('  ')\n",
    "        print('adj_r2_test: ',adj_r2_test)\n",
    "        reg_dict['adj_r2_test'] = adj_r2_test\n",
    "\n",
    "        print(' ')\n",
    "\n",
    "    train_pred = gs.best_estimator_.predict(x_train)\n",
    "    print('train RMSE: ' + str(mean_squared_error(train_pred,y_train)**0.5))\n",
    "    print('  ')\n",
    "    reg_dict['train RMSE'] = mean_squared_error(train_pred,y_train)**0.5\n",
    "\n",
    "    test_pred = gs.best_estimator_.predict(x_test)\n",
    "    print('test RMSE: ' + str(mean_squared_error(test_pred,y_test)**0.5))\n",
    "    ###\n",
    "    reg_dict['test RMSE'] = mean_squared_error(test_pred,y_test)**0.5\n",
    "\n",
    "    if linear_reg:\n",
    "\n",
    "        coefs = pd.Series(gs.best_estimator_.coef_, name = 'coef' )\n",
    "\n",
    "        varnames = pd.Series(features, name = 'features')\n",
    "\n",
    "        pd.set_option('display.max_rows', None) # or 1000.\n",
    "\n",
    "        abs_coefs = pd.Series(np.abs(coefs),name = 'abs_val')\n",
    "\n",
    "        coefs_ = pd.concat([varnames,coefs, abs_coefs], axis=1)\n",
    "\n",
    "        #return:\n",
    "        model_importances = coefs_.sort_values(by=['abs_val'], ascending=False)\n",
    "        model_importances.index=(range(model_importances.shape[0]))\n",
    "        model_importances\n",
    "        reg_dict['model_importances'] = model_importances\n",
    "\n",
    "        print(model_importances)\n",
    "        print(' ')\n",
    "\n",
    "    elif tree_based:\n",
    "        pd.set_option('display.max_rows', None) # or 1000.\n",
    "\n",
    "        #return\n",
    "        varnames = pd.Series(features, name = 'features')\n",
    "\n",
    "        importances_ = pd.Series(model.feature_importances_, name = 'importances')\n",
    "\n",
    "        df = pd.concat([varnames,importances_], axis=1)\n",
    "\n",
    "        model_importances = df.sort_values(by=['importances'], ascending=False)\n",
    "\n",
    "        model_importances.index=(range(model_importances.shape[0]))\n",
    "\n",
    "        reg_dict['model_importances'] = model_importances\n",
    "\n",
    "\n",
    "\n",
    "    #         model_importances = pd.Series(model.feature_importances_, index = features).sort_values(ascending=False)\n",
    "\n",
    "        print(model_importances)\n",
    "\n",
    "\n",
    "    if linear_reg:\n",
    "        residuals = y_train - train_pred\n",
    "        print('skewness: ',stats.skew(residuals))\n",
    "        print(' ')\n",
    "        sns.set_theme(style='darkgrid')\n",
    "        sns.histplot(residuals, bins=20);\n",
    "\n",
    "    print('model_importances.shape: ',model_importances.shape)\n",
    "    \n",
    "    return reg_dict\n"
   ]
  },
  {
   "cell_type": "code",
   "execution_count": 13,
   "id": "e45bd0b9",
   "metadata": {},
   "outputs": [
    {
     "ename": "ValueError",
     "evalue": "Found input variables with inconsistent numbers of samples: [1806, 1792]",
     "output_type": "error",
     "traceback": [
      "\u001b[1;31m---------------------------------------------------------------------------\u001b[0m",
      "\u001b[1;31mValueError\u001b[0m                                Traceback (most recent call last)",
      "\u001b[1;32m~\\AppData\\Local\\Temp/ipykernel_1824/2936387202.py\u001b[0m in \u001b[0;36m<module>\u001b[1;34m\u001b[0m\n\u001b[1;32m----> 1\u001b[1;33m ridge1 = regx3(model= Ridge(max_iter=3000),\n\u001b[0m\u001b[0;32m      2\u001b[0m \u001b[0mx_train\u001b[0m \u001b[1;33m=\u001b[0m \u001b[0mmodel_vars_data\u001b[0m\u001b[1;33m,\u001b[0m\u001b[1;33m\u001b[0m\u001b[1;33m\u001b[0m\u001b[0m\n\u001b[0;32m      3\u001b[0m \u001b[0mx_test\u001b[0m \u001b[1;33m=\u001b[0m \u001b[0mtest_vars_data\u001b[0m\u001b[1;33m,\u001b[0m\u001b[1;33m\u001b[0m\u001b[1;33m\u001b[0m\u001b[0m\n\u001b[0;32m      4\u001b[0m \u001b[0my_train\u001b[0m \u001b[1;33m=\u001b[0m \u001b[0mnp\u001b[0m\u001b[1;33m.\u001b[0m\u001b[0mlog\u001b[0m\u001b[1;33m(\u001b[0m\u001b[0mprice_train\u001b[0m\u001b[1;33m.\u001b[0m\u001b[0mSalePrice\u001b[0m\u001b[1;33m)\u001b[0m\u001b[1;33m,\u001b[0m\u001b[1;33m\u001b[0m\u001b[1;33m\u001b[0m\u001b[0m\n\u001b[0;32m      5\u001b[0m \u001b[0my_test\u001b[0m \u001b[1;33m=\u001b[0m \u001b[0mnp\u001b[0m\u001b[1;33m.\u001b[0m\u001b[0mlog\u001b[0m\u001b[1;33m(\u001b[0m\u001b[0mprice_test\u001b[0m\u001b[1;33m.\u001b[0m\u001b[0mSalePrice\u001b[0m\u001b[1;33m)\u001b[0m\u001b[1;33m,\u001b[0m\u001b[1;33m\u001b[0m\u001b[1;33m\u001b[0m\u001b[0m\n",
      "\u001b[1;32m~\\AppData\\Local\\Temp/ipykernel_1824/721646126.py\u001b[0m in \u001b[0;36mregx3\u001b[1;34m(model, x_train, x_test, y_train, y_test, params, cv_, linear_reg, tree_based)\u001b[0m\n\u001b[0;32m     26\u001b[0m \u001b[1;33m\u001b[0m\u001b[0m\n\u001b[0;32m     27\u001b[0m     \u001b[0mgs\u001b[0m \u001b[1;33m=\u001b[0m \u001b[0mGridSearchCV\u001b[0m\u001b[1;33m(\u001b[0m\u001b[0mmodel\u001b[0m\u001b[1;33m,\u001b[0m \u001b[0mparams\u001b[0m\u001b[1;33m,\u001b[0m \u001b[0mcv\u001b[0m\u001b[1;33m=\u001b[0m\u001b[0mcv_\u001b[0m\u001b[1;33m,\u001b[0m \u001b[0mreturn_train_score\u001b[0m\u001b[1;33m=\u001b[0m\u001b[1;32mTrue\u001b[0m\u001b[1;33m,\u001b[0m \u001b[0mrefit\u001b[0m\u001b[1;33m=\u001b[0m\u001b[1;32mTrue\u001b[0m\u001b[1;33m)\u001b[0m\u001b[1;33m\u001b[0m\u001b[1;33m\u001b[0m\u001b[0m\n\u001b[1;32m---> 28\u001b[1;33m     \u001b[0mgs\u001b[0m\u001b[1;33m.\u001b[0m\u001b[0mfit\u001b[0m\u001b[1;33m(\u001b[0m\u001b[0mx_train\u001b[0m\u001b[1;33m,\u001b[0m\u001b[0my_train\u001b[0m\u001b[1;33m)\u001b[0m\u001b[1;33m\u001b[0m\u001b[1;33m\u001b[0m\u001b[0m\n\u001b[0m\u001b[0;32m     29\u001b[0m     \u001b[0mgs\u001b[0m\u001b[1;33m.\u001b[0m\u001b[0mbest_params_\u001b[0m\u001b[1;33m\u001b[0m\u001b[1;33m\u001b[0m\u001b[0m\n\u001b[0;32m     30\u001b[0m \u001b[1;33m\u001b[0m\u001b[0m\n",
      "\u001b[1;32m~\\anaconda3_reinstall\\lib\\site-packages\\sklearn\\utils\\validation.py\u001b[0m in \u001b[0;36minner_f\u001b[1;34m(*args, **kwargs)\u001b[0m\n\u001b[0;32m     61\u001b[0m             \u001b[0mextra_args\u001b[0m \u001b[1;33m=\u001b[0m \u001b[0mlen\u001b[0m\u001b[1;33m(\u001b[0m\u001b[0margs\u001b[0m\u001b[1;33m)\u001b[0m \u001b[1;33m-\u001b[0m \u001b[0mlen\u001b[0m\u001b[1;33m(\u001b[0m\u001b[0mall_args\u001b[0m\u001b[1;33m)\u001b[0m\u001b[1;33m\u001b[0m\u001b[1;33m\u001b[0m\u001b[0m\n\u001b[0;32m     62\u001b[0m             \u001b[1;32mif\u001b[0m \u001b[0mextra_args\u001b[0m \u001b[1;33m<=\u001b[0m \u001b[1;36m0\u001b[0m\u001b[1;33m:\u001b[0m\u001b[1;33m\u001b[0m\u001b[1;33m\u001b[0m\u001b[0m\n\u001b[1;32m---> 63\u001b[1;33m                 \u001b[1;32mreturn\u001b[0m \u001b[0mf\u001b[0m\u001b[1;33m(\u001b[0m\u001b[1;33m*\u001b[0m\u001b[0margs\u001b[0m\u001b[1;33m,\u001b[0m \u001b[1;33m**\u001b[0m\u001b[0mkwargs\u001b[0m\u001b[1;33m)\u001b[0m\u001b[1;33m\u001b[0m\u001b[1;33m\u001b[0m\u001b[0m\n\u001b[0m\u001b[0;32m     64\u001b[0m \u001b[1;33m\u001b[0m\u001b[0m\n\u001b[0;32m     65\u001b[0m             \u001b[1;31m# extra_args > 0\u001b[0m\u001b[1;33m\u001b[0m\u001b[1;33m\u001b[0m\u001b[0m\n",
      "\u001b[1;32m~\\anaconda3_reinstall\\lib\\site-packages\\sklearn\\model_selection\\_search.py\u001b[0m in \u001b[0;36mfit\u001b[1;34m(self, X, y, groups, **fit_params)\u001b[0m\n\u001b[0;32m    757\u001b[0m             \u001b[0mrefit_metric\u001b[0m \u001b[1;33m=\u001b[0m \u001b[0mself\u001b[0m\u001b[1;33m.\u001b[0m\u001b[0mrefit\u001b[0m\u001b[1;33m\u001b[0m\u001b[1;33m\u001b[0m\u001b[0m\n\u001b[0;32m    758\u001b[0m \u001b[1;33m\u001b[0m\u001b[0m\n\u001b[1;32m--> 759\u001b[1;33m         \u001b[0mX\u001b[0m\u001b[1;33m,\u001b[0m \u001b[0my\u001b[0m\u001b[1;33m,\u001b[0m \u001b[0mgroups\u001b[0m \u001b[1;33m=\u001b[0m \u001b[0mindexable\u001b[0m\u001b[1;33m(\u001b[0m\u001b[0mX\u001b[0m\u001b[1;33m,\u001b[0m \u001b[0my\u001b[0m\u001b[1;33m,\u001b[0m \u001b[0mgroups\u001b[0m\u001b[1;33m)\u001b[0m\u001b[1;33m\u001b[0m\u001b[1;33m\u001b[0m\u001b[0m\n\u001b[0m\u001b[0;32m    760\u001b[0m         \u001b[0mfit_params\u001b[0m \u001b[1;33m=\u001b[0m \u001b[0m_check_fit_params\u001b[0m\u001b[1;33m(\u001b[0m\u001b[0mX\u001b[0m\u001b[1;33m,\u001b[0m \u001b[0mfit_params\u001b[0m\u001b[1;33m)\u001b[0m\u001b[1;33m\u001b[0m\u001b[1;33m\u001b[0m\u001b[0m\n\u001b[0;32m    761\u001b[0m \u001b[1;33m\u001b[0m\u001b[0m\n",
      "\u001b[1;32m~\\anaconda3_reinstall\\lib\\site-packages\\sklearn\\utils\\validation.py\u001b[0m in \u001b[0;36mindexable\u001b[1;34m(*iterables)\u001b[0m\n\u001b[0;32m    354\u001b[0m     \"\"\"\n\u001b[0;32m    355\u001b[0m     \u001b[0mresult\u001b[0m \u001b[1;33m=\u001b[0m \u001b[1;33m[\u001b[0m\u001b[0m_make_indexable\u001b[0m\u001b[1;33m(\u001b[0m\u001b[0mX\u001b[0m\u001b[1;33m)\u001b[0m \u001b[1;32mfor\u001b[0m \u001b[0mX\u001b[0m \u001b[1;32min\u001b[0m \u001b[0miterables\u001b[0m\u001b[1;33m]\u001b[0m\u001b[1;33m\u001b[0m\u001b[1;33m\u001b[0m\u001b[0m\n\u001b[1;32m--> 356\u001b[1;33m     \u001b[0mcheck_consistent_length\u001b[0m\u001b[1;33m(\u001b[0m\u001b[1;33m*\u001b[0m\u001b[0mresult\u001b[0m\u001b[1;33m)\u001b[0m\u001b[1;33m\u001b[0m\u001b[1;33m\u001b[0m\u001b[0m\n\u001b[0m\u001b[0;32m    357\u001b[0m     \u001b[1;32mreturn\u001b[0m \u001b[0mresult\u001b[0m\u001b[1;33m\u001b[0m\u001b[1;33m\u001b[0m\u001b[0m\n\u001b[0;32m    358\u001b[0m \u001b[1;33m\u001b[0m\u001b[0m\n",
      "\u001b[1;32m~\\anaconda3_reinstall\\lib\\site-packages\\sklearn\\utils\\validation.py\u001b[0m in \u001b[0;36mcheck_consistent_length\u001b[1;34m(*arrays)\u001b[0m\n\u001b[0;32m    317\u001b[0m     \u001b[0muniques\u001b[0m \u001b[1;33m=\u001b[0m \u001b[0mnp\u001b[0m\u001b[1;33m.\u001b[0m\u001b[0munique\u001b[0m\u001b[1;33m(\u001b[0m\u001b[0mlengths\u001b[0m\u001b[1;33m)\u001b[0m\u001b[1;33m\u001b[0m\u001b[1;33m\u001b[0m\u001b[0m\n\u001b[0;32m    318\u001b[0m     \u001b[1;32mif\u001b[0m \u001b[0mlen\u001b[0m\u001b[1;33m(\u001b[0m\u001b[0muniques\u001b[0m\u001b[1;33m)\u001b[0m \u001b[1;33m>\u001b[0m \u001b[1;36m1\u001b[0m\u001b[1;33m:\u001b[0m\u001b[1;33m\u001b[0m\u001b[1;33m\u001b[0m\u001b[0m\n\u001b[1;32m--> 319\u001b[1;33m         raise ValueError(\"Found input variables with inconsistent numbers of\"\n\u001b[0m\u001b[0;32m    320\u001b[0m                          \" samples: %r\" % [int(l) for l in lengths])\n\u001b[0;32m    321\u001b[0m \u001b[1;33m\u001b[0m\u001b[0m\n",
      "\u001b[1;31mValueError\u001b[0m: Found input variables with inconsistent numbers of samples: [1806, 1792]"
     ]
    }
   ],
   "source": [
    "ridge1 = regx3(model= Ridge(max_iter=3000),\n",
    "x_train = model_vars_data,\n",
    "x_test = test_vars_data,\n",
    "y_train = np.log(price_train.SalePrice),\n",
    "y_test = np.log(price_test.SalePrice),\n",
    "params = {\"alpha\": [0.0001, 0.001, 0.01, 0.1, 1, 10, 100, 1000]},\n",
    "cv_ = 5,\n",
    "linear_reg = True,\n",
    "tree_based = False)"
   ]
  },
  {
   "cell_type": "code",
   "execution_count": null,
   "id": "6a00ff36",
   "metadata": {},
   "outputs": [],
   "source": [
    "lasso1 = regx3(model= Lasso(max_iter=3000),\n",
    "x_train = model_vars_data,\n",
    "x_test = test_vars_data,\n",
    "y_train = np.log(price_train.SalePrice),\n",
    "y_test = np.log(price_test.SalePrice),\n",
    "params = {\"alpha\": [0.0001, 0.001, 0.01, 0.1, 1, 10, 100, 1000]},\n",
    "cv_ = 5,\n",
    "linear_reg = True,\n",
    "tree_based = False)"
   ]
  },
  {
   "cell_type": "code",
   "execution_count": null,
   "id": "d925a68f",
   "metadata": {},
   "outputs": [],
   "source": [
    "keeps = to_keep(lasso1,0.000064)"
   ]
  },
  {
   "cell_type": "code",
   "execution_count": null,
   "id": "cbea7c57",
   "metadata": {},
   "outputs": [],
   "source": [
    "def to_keep(mod, amt):\n",
    "    mod = mod['model_importances']\n",
    "    keeps1 = mod.loc[mod['abs_val'] > amt,['features']]\n",
    "    list_keeps1 = list(keeps1.features)\n",
    "    return list_keeps1"
   ]
  },
  {
   "cell_type": "code",
   "execution_count": null,
   "id": "9c0d5f4a",
   "metadata": {},
   "outputs": [],
   "source": [
    "# to_keep(lasso1,0.000064)"
   ]
  },
  {
   "cell_type": "code",
   "execution_count": null,
   "id": "7def4ae1",
   "metadata": {},
   "outputs": [],
   "source": [
    "# lasso1.items()\n"
   ]
  },
  {
   "cell_type": "code",
   "execution_count": null,
   "id": "56cc344c",
   "metadata": {},
   "outputs": [],
   "source": [
    "lasso2 = regx3(model= Lasso(max_iter=3000),\n",
    "x_train = model_vars_data[keeps],\n",
    "x_test = test_vars_data[keeps],\n",
    "y_train = np.log(price_train.SalePrice),\n",
    "y_test = np.log(price_test.SalePrice),\n",
    "params = {\"alpha\": [0.0001, 0.001, 0.01, 0.1, 1, 10, 100, 1000]},\n",
    "cv_ = 5,\n",
    "linear_reg = True,\n",
    "tree_based = False)"
   ]
  },
  {
   "cell_type": "code",
   "execution_count": null,
   "id": "dc5fc039",
   "metadata": {},
   "outputs": [],
   "source": [
    "keeps = to_keep(lasso2,0.0006)"
   ]
  },
  {
   "cell_type": "code",
   "execution_count": null,
   "id": "455c5c75",
   "metadata": {},
   "outputs": [],
   "source": [
    "lasso3 = regx3(model= Lasso(max_iter=3000),\n",
    "x_train = model_vars_data[keeps],\n",
    "x_test = test_vars_data[keeps],\n",
    "y_train = np.log(price_train.SalePrice),\n",
    "y_test = np.log(price_test.SalePrice),\n",
    "params = {\"alpha\": [0.0001, 0.001, 0.01, 0.1, 1, 10, 100, 1000]},\n",
    "cv_ = 5,\n",
    "linear_reg = True,\n",
    "tree_based = False)"
   ]
  },
  {
   "cell_type": "code",
   "execution_count": null,
   "id": "bcb3534e",
   "metadata": {},
   "outputs": [],
   "source": [
    "keeps = to_keep(lasso3,0.001)"
   ]
  },
  {
   "cell_type": "code",
   "execution_count": null,
   "id": "af322a20",
   "metadata": {},
   "outputs": [],
   "source": [
    "lasso4 = regx3(model= Lasso(max_iter=3000),\n",
    "x_train = model_vars_data[keeps],\n",
    "x_test = test_vars_data[keeps],\n",
    "y_train = np.log(price_train.SalePrice),\n",
    "y_test = np.log(price_test.SalePrice),\n",
    "params = {\"alpha\": [0.0001, 0.001, 0.01, 0.1, 1, 10, 100, 1000]},\n",
    "cv_ = 5,\n",
    "linear_reg = True,\n",
    "tree_based = False)"
   ]
  },
  {
   "cell_type": "code",
   "execution_count": null,
   "id": "56bbd8f6",
   "metadata": {},
   "outputs": [],
   "source": [
    "keeps = to_keep(lasso4,0.002)"
   ]
  },
  {
   "cell_type": "code",
   "execution_count": null,
   "id": "f6adcc27",
   "metadata": {},
   "outputs": [],
   "source": [
    "lasso5 = regx3(model= Lasso(max_iter=3000),\n",
    "x_train = model_vars_data[keeps],\n",
    "x_test = test_vars_data[keeps],\n",
    "y_train = np.log(price_train.SalePrice),\n",
    "y_test = np.log(price_test.SalePrice),\n",
    "params = {\"alpha\": [0.0001, 0.001, 0.01, 0.1, 1, 10, 100, 1000]},\n",
    "cv_ = 5,\n",
    "linear_reg = True,\n",
    "tree_based = False)"
   ]
  },
  {
   "cell_type": "code",
   "execution_count": null,
   "id": "55e44ed5",
   "metadata": {},
   "outputs": [],
   "source": [
    "lasso6 = regx3(model= Lasso(max_iter=3000),\n",
    "x_train = model_vars_data[keeps],\n",
    "x_test = test_vars_data[keeps],\n",
    "y_train = np.log(price_train.SalePrice),\n",
    "y_test = np.log(price_test.SalePrice),\n",
    "params = {\"alpha\": [0.0001, 0.001, 0.002, 0.01, 0.1, 1, 10, 100, 1000]},\n",
    "cv_ = 5,\n",
    "linear_reg = True,\n",
    "tree_based = False)"
   ]
  },
  {
   "cell_type": "code",
   "execution_count": null,
   "id": "e1989795",
   "metadata": {},
   "outputs": [],
   "source": [
    "lasso7 = regx3(model= Lasso(max_iter=3000),\n",
    "x_train = model_vars_data[keeps],\n",
    "x_test = test_vars_data[keeps],\n",
    "y_train = np.log(price_train.SalePrice),\n",
    "y_test = np.log(price_test.SalePrice),\n",
    "params = {\"alpha\": [0.0001, 0.0002,   0.001, 0.002, 0.01, 0.1, 1, 10, 100, 1000]},\n",
    "cv_ = 5,\n",
    "linear_reg = True,\n",
    "tree_based = False)"
   ]
  },
  {
   "cell_type": "code",
   "execution_count": null,
   "id": "439bfd55",
   "metadata": {
    "scrolled": false
   },
   "outputs": [],
   "source": [
    "lasso8 = regx3(model= Lasso(max_iter=3000),\n",
    "x_train = model_vars_data[keeps],\n",
    "x_test = test_vars_data[keeps],\n",
    "y_train = np.log(price_train.SalePrice),\n",
    "y_test = np.log(price_test.SalePrice),\n",
    "params = {\"alpha\": [0.0001, 0.0002, 0.0003, 0.001, 0.002, 0.01, 0.1, 1, 10, 100, 1000]},\n",
    "cv_ = 5,\n",
    "linear_reg = True,\n",
    "tree_based = False)"
   ]
  },
  {
   "cell_type": "code",
   "execution_count": null,
   "id": "c3b6420b",
   "metadata": {},
   "outputs": [],
   "source": [
    "lasso9 = regx3(model= Lasso(max_iter=3000),\n",
    "x_train = model_vars_data[keeps],\n",
    "x_test = test_vars_data[keeps],\n",
    "y_train = np.log(price_train.SalePrice),\n",
    "y_test = np.log(price_test.SalePrice),\n",
    "params = {\"alpha\": [0.0001, 0.0002, 0.0003, 0.0004, 0.0005, 0.001, 0.002, 0.01, 0.1, 1, 10, 100, 1000]},\n",
    "cv_ = 5,\n",
    "linear_reg = True,\n",
    "tree_based = False)"
   ]
  },
  {
   "cell_type": "code",
   "execution_count": null,
   "id": "509a5106",
   "metadata": {},
   "outputs": [],
   "source": [
    "keeps= to_keep(lasso9,0.002)"
   ]
  },
  {
   "cell_type": "code",
   "execution_count": null,
   "id": "673bb717",
   "metadata": {
    "scrolled": false
   },
   "outputs": [],
   "source": [
    "\n",
    "lasso10 = regx3(model= Lasso(max_iter=3000),\n",
    "x_train = model_vars_data[keeps],\n",
    "x_test = test_vars_data[keeps],\n",
    "y_train = np.log(price_train.SalePrice),\n",
    "y_test = np.log(price_test.SalePrice),\n",
    "params = {\"alpha\": [0.0001, 0.0002, 0.0003, 0.0004, 0.0005, 0.001, 0.002, 0.01, 0.1, 1, 10, 100, 1000]},\n",
    "cv_ = 5,\n",
    "linear_reg = True,\n",
    "tree_based = False)"
   ]
  },
  {
   "cell_type": "code",
   "execution_count": null,
   "id": "d831cb28",
   "metadata": {},
   "outputs": [],
   "source": [
    "leeps=to_keep(lasso10, 0.003)"
   ]
  },
  {
   "cell_type": "code",
   "execution_count": null,
   "id": "7cc07088",
   "metadata": {
    "scrolled": false
   },
   "outputs": [],
   "source": [
    "lasso11 = regx3(model= Lasso(max_iter=3000),\n",
    "x_train = model_vars_data[keeps],\n",
    "x_test = test_vars_data[keeps],\n",
    "y_train = np.log(price_train.SalePrice),\n",
    "y_test = np.log(price_test.SalePrice),\n",
    "params = {\"alpha\": [0.0001, 0.0002, 0.0003, 0.0004, 0.0005, 0.001, 0.002, 0.01, 0.1, 1, 10, 100, 1000]},\n",
    "cv_ = 5,\n",
    "linear_reg = True,\n",
    "tree_based = False)"
   ]
  },
  {
   "cell_type": "code",
   "execution_count": null,
   "id": "d2ce912a",
   "metadata": {},
   "outputs": [],
   "source": [
    "keeps = to_keep(lasso11,0.004)"
   ]
  },
  {
   "cell_type": "code",
   "execution_count": null,
   "id": "4d3b3b9e",
   "metadata": {
    "scrolled": false
   },
   "outputs": [],
   "source": [
    "lasso12 = regx3(model= Lasso(max_iter=3000),\n",
    "x_train = model_vars_data[keeps],\n",
    "x_test = test_vars_data[keeps],\n",
    "y_train = np.log(price_train.SalePrice),\n",
    "y_test = np.log(price_test.SalePrice),\n",
    "params = {\"alpha\": [0.0001, 0.0002, 0.0003, 0.0004, 0.0005, 0.001, 0.002, 0.01, 0.1, 1, 10, 100, 1000]},\n",
    "cv_ = 5,\n",
    "linear_reg = True,\n",
    "tree_based = False)"
   ]
  },
  {
   "cell_type": "markdown",
   "id": "d1afaf78",
   "metadata": {},
   "source": [
    "### lasso 13 best model after that the train mse and test mse start going up"
   ]
  },
  {
   "cell_type": "code",
   "execution_count": null,
   "id": "b5de3903",
   "metadata": {},
   "outputs": [],
   "source": [
    "keeps = to_keep(lasso12,0.005)"
   ]
  },
  {
   "cell_type": "code",
   "execution_count": null,
   "id": "59658a96",
   "metadata": {
    "scrolled": false
   },
   "outputs": [],
   "source": [
    "lasso13 = regx3(model= Lasso(max_iter=3000),\n",
    "x_train = model_vars_data[keeps],\n",
    "x_test = test_vars_data[keeps],\n",
    "y_train = np.log(price_train.SalePrice),\n",
    "y_test = np.log(price_test.SalePrice),\n",
    "params = {\"alpha\": [0.00001,  0.0001,  0.00015, 0.0002, 0.0003, 0.0004, 0.0005, 0.001, 0.002, 0.01, 0.1, 1, 10, 100, 1000]},\n",
    "cv_ = 5,\n",
    "linear_reg = True,\n",
    "tree_based = False)"
   ]
  },
  {
   "cell_type": "code",
   "execution_count": null,
   "id": "3ef139ef",
   "metadata": {},
   "outputs": [],
   "source": [
    "keeps = to_keep(lasso13,0.006)"
   ]
  },
  {
   "cell_type": "code",
   "execution_count": null,
   "id": "49bb6a40",
   "metadata": {
    "scrolled": true
   },
   "outputs": [],
   "source": [
    "lasso14 = regx3(model= Lasso(max_iter=3000),\n",
    "x_train = model_vars_data[keeps],\n",
    "x_test = test_vars_data[keeps],\n",
    "y_train = np.log(price_train.SalePrice),\n",
    "y_test = np.log(price_test.SalePrice),\n",
    "params = {\"alpha\": [0.00001,  0.0001,  0.00015, 0.0002, 0.0003, 0.0004, 0.0005, 0.001, 0.002, 0.01, 0.1, 1, 10, 100, 1000]},\n",
    "cv_ = 5,\n",
    "linear_reg = True,\n",
    "tree_based = False)"
   ]
  },
  {
   "cell_type": "code",
   "execution_count": null,
   "id": "62f052db",
   "metadata": {},
   "outputs": [],
   "source": [
    "keeps = to_keep(lasso13,0.006) #change alpha"
   ]
  },
  {
   "cell_type": "code",
   "execution_count": null,
   "id": "0bec0f3d",
   "metadata": {},
   "outputs": [],
   "source": []
  },
  {
   "cell_type": "code",
   "execution_count": null,
   "id": "5015dcad",
   "metadata": {},
   "outputs": [],
   "source": [
    "lasso15 = regx3(model= Lasso(max_iter=3000),\n",
    "x_train = model_vars_data[keeps],\n",
    "x_test = test_vars_data[keeps],\n",
    "y_train = np.log(price_train.SalePrice),\n",
    "y_test = np.log(price_test.SalePrice),\n",
    "params = {'alpha':[1e-15,1e-10,1e-8,1e-3,1e-2,1,5,10,20,30,35,40,45.50,55,100]},\n",
    "cv_ = 5,\n",
    "linear_reg = True,\n",
    "tree_based = False)"
   ]
  },
  {
   "cell_type": "code",
   "execution_count": null,
   "id": "dd8b4265",
   "metadata": {},
   "outputs": [],
   "source": [
    "keeps = to_keep(lasso15,0.007) #change alpha"
   ]
  },
  {
   "cell_type": "code",
   "execution_count": null,
   "id": "ccafb20d",
   "metadata": {},
   "outputs": [],
   "source": [
    "lasso1 = regx3(model= Lasso(max_iter=12000),\n",
    "x_train = model_vars_data[keeps],\n",
    "x_test = test_vars_data[keeps],\n",
    "y_train = np.log(price_train.SalePrice),\n",
    "y_test = np.log(price_test.SalePrice),\n",
    "params = {'alpha':[1e-19,1e-18,1e-17,1e-16,1e-15,1e-10,1e-8,1e-3,1e-2,1,5,10,20,30,35,40,45.50,55,100]},\n",
    "cv_ = 5,\n",
    "linear_reg = True,\n",
    "tree_based = False)"
   ]
  },
  {
   "cell_type": "code",
   "execution_count": null,
   "id": "2db7956e",
   "metadata": {},
   "outputs": [],
   "source": []
  }
 ],
 "metadata": {
  "kernelspec": {
   "display_name": "Python 3 (ipykernel)",
   "language": "python",
   "name": "python3"
  },
  "language_info": {
   "codemirror_mode": {
    "name": "ipython",
    "version": 3
   },
   "file_extension": ".py",
   "mimetype": "text/x-python",
   "name": "python",
   "nbconvert_exporter": "python",
   "pygments_lexer": "ipython3",
   "version": "3.9.7"
  }
 },
 "nbformat": 4,
 "nbformat_minor": 5
}
