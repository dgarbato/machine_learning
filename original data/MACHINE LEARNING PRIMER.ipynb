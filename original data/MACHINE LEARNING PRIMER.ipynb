{
 "cells": [
  {
   "cell_type": "markdown",
   "id": "8e2b08a0",
   "metadata": {},
   "source": [
    "Kaggle has a whole bunch of dataset\n",
    "Train to get highest prediction accuracy\n",
    "Ames is a college town\n",
    "Each obs is a house\n",
    "\n",
    "Goal:\n",
    "•\tPerform descriptive data analysis to gain business (i.e. housing market) insights\n",
    "•\tBuild descriptive machine learning models to understand local housing market\n",
    "•\tBuild predictive machine learning models for the local house price prediction\n",
    "\n",
    "Close to house \n",
    "\n",
    "Areas of house renovated\n",
    "Role:\n",
    "•\tYou’re a housing market consultant\n",
    "•\tData sceintis for online real estate database sompnay which provides house price estimation \n",
    "\n",
    "Want to understand the local housing market in a data driven way\n",
    "\n",
    "Key idea to understand the local housing market\n",
    "\n",
    "Tools you are expected to use:\n",
    "•\tData analysis and missing value imputation: pandas dyplyr and the accompanying visualization tools, some linear regression or logistic regression\n",
    "•\tDescriptive models: feature selection, feature engineering, multiple linear regression, Python statsmodels, penalized linear regression, stepwise regression (AIC,BIC, etc.)  some gridsearchCV, KNN, SVR, Random Forest, Gradient Boosting and potentially other models\n",
    "•\tPredictive models:  feature selection, feature engineering , gridsearchCV, multiple/penalized linear regression, gridsearch, Gradient Boosting and potentially other models.\n",
    "\n",
    "You can use machine learning models beyond those we list above, but don’t make these optional models your first priority.  Doing this would limit your time spend on the more fundamental part of the project.  This is not wise!\n",
    "\n",
    "The art of feature engineering includes generating new features, or selecting optimal features to feed into the machine learning models.  If your goal is to improve accuracy, then the optimal features would mean the feature combination that offers the highest predictive accuracy.  However, if your goal is to fit an optimal descriptive model for the purpose of improving business efficiency/profitability, the most accurate model might not give you the insights you want. \n",
    "\n",
    "As a modeler, you need to gauge which is most appropriate based on your objectives.\n",
    "Clever ideas for feature generation are often inspired by high quality data analysis.  Thus, we will suggest a few research questions to point you in the right direction.  Chronologically, your team should work on data analysis and modeling simultaneously.  Do not wait to start modeling until after you complete your data analysis phase, you will be pressed for time.\n",
    "\n",
    "Focus on linear models\n",
    "\n",
    "Use address to get long lat to calculate distances from various places use geopy. \n",
    "Range of dates 2006 to 2010 \n",
    "Calculate price per square foot as a feature\n",
    "Sale \n",
    "\n"
   ]
  },
  {
   "cell_type": "code",
   "execution_count": 3,
   "id": "b07b2051",
   "metadata": {},
   "outputs": [],
   "source": [
    "import numpy as np\n",
    "import pandas as pd\n",
    "%matplotlib inline\n",
    "\n",
    "train = pd.read_csv(r'C:\\Users\\dgarb\\OneDrive\\Documents\\Data Science Bootcamp August\\Machine Learning Project\\original data\\train.csv') \n",
    "test = pd.read_csv(r'C:\\Users\\dgarb\\OneDrive\\Documents\\Data Science Bootcamp August\\Machine Learning Project\\original data\\test.csv') \n",
    "\n",
    "#need to predict SalePrice which isn't here"
   ]
  },
  {
   "cell_type": "code",
   "execution_count": 4,
   "id": "418e6d22",
   "metadata": {},
   "outputs": [
    {
     "data": {
      "text/html": [
       "<div>\n",
       "<style scoped>\n",
       "    .dataframe tbody tr th:only-of-type {\n",
       "        vertical-align: middle;\n",
       "    }\n",
       "\n",
       "    .dataframe tbody tr th {\n",
       "        vertical-align: top;\n",
       "    }\n",
       "\n",
       "    .dataframe thead th {\n",
       "        text-align: right;\n",
       "    }\n",
       "</style>\n",
       "<table border=\"1\" class=\"dataframe\">\n",
       "  <thead>\n",
       "    <tr style=\"text-align: right;\">\n",
       "      <th></th>\n",
       "      <th>Id</th>\n",
       "      <th>MSSubClass</th>\n",
       "      <th>MSZoning</th>\n",
       "      <th>LotFrontage</th>\n",
       "      <th>LotArea</th>\n",
       "      <th>Street</th>\n",
       "      <th>Alley</th>\n",
       "      <th>LotShape</th>\n",
       "      <th>LandContour</th>\n",
       "      <th>Utilities</th>\n",
       "      <th>...</th>\n",
       "      <th>PoolArea</th>\n",
       "      <th>PoolQC</th>\n",
       "      <th>Fence</th>\n",
       "      <th>MiscFeature</th>\n",
       "      <th>MiscVal</th>\n",
       "      <th>MoSold</th>\n",
       "      <th>YrSold</th>\n",
       "      <th>SaleType</th>\n",
       "      <th>SaleCondition</th>\n",
       "      <th>SalePrice</th>\n",
       "    </tr>\n",
       "  </thead>\n",
       "  <tbody>\n",
       "    <tr>\n",
       "      <th>0</th>\n",
       "      <td>1</td>\n",
       "      <td>60</td>\n",
       "      <td>RL</td>\n",
       "      <td>65.0</td>\n",
       "      <td>8450</td>\n",
       "      <td>Pave</td>\n",
       "      <td>NaN</td>\n",
       "      <td>Reg</td>\n",
       "      <td>Lvl</td>\n",
       "      <td>AllPub</td>\n",
       "      <td>...</td>\n",
       "      <td>0</td>\n",
       "      <td>NaN</td>\n",
       "      <td>NaN</td>\n",
       "      <td>NaN</td>\n",
       "      <td>0</td>\n",
       "      <td>2</td>\n",
       "      <td>2008</td>\n",
       "      <td>WD</td>\n",
       "      <td>Normal</td>\n",
       "      <td>208500</td>\n",
       "    </tr>\n",
       "    <tr>\n",
       "      <th>1</th>\n",
       "      <td>2</td>\n",
       "      <td>20</td>\n",
       "      <td>RL</td>\n",
       "      <td>80.0</td>\n",
       "      <td>9600</td>\n",
       "      <td>Pave</td>\n",
       "      <td>NaN</td>\n",
       "      <td>Reg</td>\n",
       "      <td>Lvl</td>\n",
       "      <td>AllPub</td>\n",
       "      <td>...</td>\n",
       "      <td>0</td>\n",
       "      <td>NaN</td>\n",
       "      <td>NaN</td>\n",
       "      <td>NaN</td>\n",
       "      <td>0</td>\n",
       "      <td>5</td>\n",
       "      <td>2007</td>\n",
       "      <td>WD</td>\n",
       "      <td>Normal</td>\n",
       "      <td>181500</td>\n",
       "    </tr>\n",
       "    <tr>\n",
       "      <th>2</th>\n",
       "      <td>3</td>\n",
       "      <td>60</td>\n",
       "      <td>RL</td>\n",
       "      <td>68.0</td>\n",
       "      <td>11250</td>\n",
       "      <td>Pave</td>\n",
       "      <td>NaN</td>\n",
       "      <td>IR1</td>\n",
       "      <td>Lvl</td>\n",
       "      <td>AllPub</td>\n",
       "      <td>...</td>\n",
       "      <td>0</td>\n",
       "      <td>NaN</td>\n",
       "      <td>NaN</td>\n",
       "      <td>NaN</td>\n",
       "      <td>0</td>\n",
       "      <td>9</td>\n",
       "      <td>2008</td>\n",
       "      <td>WD</td>\n",
       "      <td>Normal</td>\n",
       "      <td>223500</td>\n",
       "    </tr>\n",
       "    <tr>\n",
       "      <th>3</th>\n",
       "      <td>4</td>\n",
       "      <td>70</td>\n",
       "      <td>RL</td>\n",
       "      <td>60.0</td>\n",
       "      <td>9550</td>\n",
       "      <td>Pave</td>\n",
       "      <td>NaN</td>\n",
       "      <td>IR1</td>\n",
       "      <td>Lvl</td>\n",
       "      <td>AllPub</td>\n",
       "      <td>...</td>\n",
       "      <td>0</td>\n",
       "      <td>NaN</td>\n",
       "      <td>NaN</td>\n",
       "      <td>NaN</td>\n",
       "      <td>0</td>\n",
       "      <td>2</td>\n",
       "      <td>2006</td>\n",
       "      <td>WD</td>\n",
       "      <td>Abnorml</td>\n",
       "      <td>140000</td>\n",
       "    </tr>\n",
       "    <tr>\n",
       "      <th>4</th>\n",
       "      <td>5</td>\n",
       "      <td>60</td>\n",
       "      <td>RL</td>\n",
       "      <td>84.0</td>\n",
       "      <td>14260</td>\n",
       "      <td>Pave</td>\n",
       "      <td>NaN</td>\n",
       "      <td>IR1</td>\n",
       "      <td>Lvl</td>\n",
       "      <td>AllPub</td>\n",
       "      <td>...</td>\n",
       "      <td>0</td>\n",
       "      <td>NaN</td>\n",
       "      <td>NaN</td>\n",
       "      <td>NaN</td>\n",
       "      <td>0</td>\n",
       "      <td>12</td>\n",
       "      <td>2008</td>\n",
       "      <td>WD</td>\n",
       "      <td>Normal</td>\n",
       "      <td>250000</td>\n",
       "    </tr>\n",
       "  </tbody>\n",
       "</table>\n",
       "<p>5 rows × 81 columns</p>\n",
       "</div>"
      ],
      "text/plain": [
       "   Id  MSSubClass MSZoning  LotFrontage  LotArea Street Alley LotShape  \\\n",
       "0   1          60       RL         65.0     8450   Pave   NaN      Reg   \n",
       "1   2          20       RL         80.0     9600   Pave   NaN      Reg   \n",
       "2   3          60       RL         68.0    11250   Pave   NaN      IR1   \n",
       "3   4          70       RL         60.0     9550   Pave   NaN      IR1   \n",
       "4   5          60       RL         84.0    14260   Pave   NaN      IR1   \n",
       "\n",
       "  LandContour Utilities  ... PoolArea PoolQC Fence MiscFeature MiscVal MoSold  \\\n",
       "0         Lvl    AllPub  ...        0    NaN   NaN         NaN       0      2   \n",
       "1         Lvl    AllPub  ...        0    NaN   NaN         NaN       0      5   \n",
       "2         Lvl    AllPub  ...        0    NaN   NaN         NaN       0      9   \n",
       "3         Lvl    AllPub  ...        0    NaN   NaN         NaN       0      2   \n",
       "4         Lvl    AllPub  ...        0    NaN   NaN         NaN       0     12   \n",
       "\n",
       "  YrSold  SaleType  SaleCondition  SalePrice  \n",
       "0   2008        WD         Normal     208500  \n",
       "1   2007        WD         Normal     181500  \n",
       "2   2008        WD         Normal     223500  \n",
       "3   2006        WD        Abnorml     140000  \n",
       "4   2008        WD         Normal     250000  \n",
       "\n",
       "[5 rows x 81 columns]"
      ]
     },
     "execution_count": 4,
     "metadata": {},
     "output_type": "execute_result"
    }
   ],
   "source": [
    "train.head()\n"
   ]
  },
  {
   "cell_type": "code",
   "execution_count": 5,
   "id": "4120598b",
   "metadata": {},
   "outputs": [
    {
     "data": {
      "text/plain": [
       "Index(['Id', 'MSSubClass', 'MSZoning', 'LotFrontage', 'LotArea', 'Street',\n",
       "       'Alley', 'LotShape', 'LandContour', 'Utilities', 'LotConfig',\n",
       "       'LandSlope', 'Neighborhood', 'Condition1', 'Condition2', 'BldgType',\n",
       "       'HouseStyle', 'OverallQual', 'OverallCond', 'YearBuilt', 'YearRemodAdd',\n",
       "       'RoofStyle', 'RoofMatl', 'Exterior1st', 'Exterior2nd', 'MasVnrType',\n",
       "       'MasVnrArea', 'ExterQual', 'ExterCond', 'Foundation', 'BsmtQual',\n",
       "       'BsmtCond', 'BsmtExposure', 'BsmtFinType1', 'BsmtFinSF1',\n",
       "       'BsmtFinType2', 'BsmtFinSF2', 'BsmtUnfSF', 'TotalBsmtSF', 'Heating',\n",
       "       'HeatingQC', 'CentralAir', 'Electrical', '1stFlrSF', '2ndFlrSF',\n",
       "       'LowQualFinSF', 'GrLivArea', 'BsmtFullBath', 'BsmtHalfBath', 'FullBath',\n",
       "       'HalfBath', 'BedroomAbvGr', 'KitchenAbvGr', 'KitchenQual',\n",
       "       'TotRmsAbvGrd', 'Functional', 'Fireplaces', 'FireplaceQu', 'GarageType',\n",
       "       'GarageYrBlt', 'GarageFinish', 'GarageCars', 'GarageArea', 'GarageQual',\n",
       "       'GarageCond', 'PavedDrive', 'WoodDeckSF', 'OpenPorchSF',\n",
       "       'EnclosedPorch', '3SsnPorch', 'ScreenPorch', 'PoolArea', 'PoolQC',\n",
       "       'Fence', 'MiscFeature', 'MiscVal', 'MoSold', 'YrSold', 'SaleType',\n",
       "       'SaleCondition', 'SalePrice'],\n",
       "      dtype='object')"
      ]
     },
     "execution_count": 5,
     "metadata": {},
     "output_type": "execute_result"
    }
   ],
   "source": [
    "train.columns"
   ]
  },
  {
   "cell_type": "code",
   "execution_count": 1,
   "id": "e220b69b",
   "metadata": {},
   "outputs": [
    {
     "ename": "NameError",
     "evalue": "name 'train' is not defined",
     "output_type": "error",
     "traceback": [
      "\u001b[1;31m---------------------------------------------------------------------------\u001b[0m",
      "\u001b[1;31mNameError\u001b[0m                                 Traceback (most recent call last)",
      "\u001b[1;32m~\\AppData\\Local\\Temp/ipykernel_9952/3738184054.py\u001b[0m in \u001b[0;36m<module>\u001b[1;34m\u001b[0m\n\u001b[1;32m----> 1\u001b[1;33m \u001b[0mmissing\u001b[0m \u001b[1;33m=\u001b[0m \u001b[0mtrain\u001b[0m\u001b[1;33m.\u001b[0m\u001b[0misnull\u001b[0m\u001b[1;33m(\u001b[0m\u001b[1;33m)\u001b[0m\u001b[1;33m.\u001b[0m\u001b[0msum\u001b[0m\u001b[1;33m(\u001b[0m\u001b[0maxis\u001b[0m\u001b[1;33m=\u001b[0m\u001b[1;36m0\u001b[0m\u001b[1;33m)\u001b[0m\u001b[1;33m\u001b[0m\u001b[1;33m\u001b[0m\u001b[0m\n\u001b[0m",
      "\u001b[1;31mNameError\u001b[0m: name 'train' is not defined"
     ]
    }
   ],
   "source": [
    "missing = train.isnull().sum(axis=0)\n"
   ]
  },
  {
   "cell_type": "code",
   "execution_count": 24,
   "id": "e0aad08f",
   "metadata": {},
   "outputs": [
    {
     "data": {
      "text/html": [
       "<div>\n",
       "<style scoped>\n",
       "    .dataframe tbody tr th:only-of-type {\n",
       "        vertical-align: middle;\n",
       "    }\n",
       "\n",
       "    .dataframe tbody tr th {\n",
       "        vertical-align: top;\n",
       "    }\n",
       "\n",
       "    .dataframe thead th {\n",
       "        text-align: right;\n",
       "    }\n",
       "</style>\n",
       "<table border=\"1\" class=\"dataframe\">\n",
       "  <thead>\n",
       "    <tr style=\"text-align: right;\">\n",
       "      <th></th>\n",
       "      <th>LotArea</th>\n",
       "      <th>MasVnrArea</th>\n",
       "      <th>BsmtFinSF1</th>\n",
       "      <th>BsmtFinSF2</th>\n",
       "      <th>BsmtUnfSF</th>\n",
       "      <th>TotalBsmtSF</th>\n",
       "      <th>1stFlrSF</th>\n",
       "      <th>2ndFlrSF</th>\n",
       "      <th>LowQualFinSF</th>\n",
       "      <th>GrLivArea</th>\n",
       "      <th>GarageArea</th>\n",
       "      <th>WoodDeckSF</th>\n",
       "      <th>OpenPorchSF</th>\n",
       "      <th>PoolArea</th>\n",
       "    </tr>\n",
       "  </thead>\n",
       "  <tbody>\n",
       "    <tr>\n",
       "      <th>0</th>\n",
       "      <td>8450</td>\n",
       "      <td>196.0</td>\n",
       "      <td>706</td>\n",
       "      <td>0</td>\n",
       "      <td>150</td>\n",
       "      <td>856</td>\n",
       "      <td>856</td>\n",
       "      <td>854</td>\n",
       "      <td>0</td>\n",
       "      <td>1710</td>\n",
       "      <td>548</td>\n",
       "      <td>0</td>\n",
       "      <td>61</td>\n",
       "      <td>0</td>\n",
       "    </tr>\n",
       "    <tr>\n",
       "      <th>1</th>\n",
       "      <td>9600</td>\n",
       "      <td>0.0</td>\n",
       "      <td>978</td>\n",
       "      <td>0</td>\n",
       "      <td>284</td>\n",
       "      <td>1262</td>\n",
       "      <td>1262</td>\n",
       "      <td>0</td>\n",
       "      <td>0</td>\n",
       "      <td>1262</td>\n",
       "      <td>460</td>\n",
       "      <td>298</td>\n",
       "      <td>0</td>\n",
       "      <td>0</td>\n",
       "    </tr>\n",
       "    <tr>\n",
       "      <th>2</th>\n",
       "      <td>11250</td>\n",
       "      <td>162.0</td>\n",
       "      <td>486</td>\n",
       "      <td>0</td>\n",
       "      <td>434</td>\n",
       "      <td>920</td>\n",
       "      <td>920</td>\n",
       "      <td>866</td>\n",
       "      <td>0</td>\n",
       "      <td>1786</td>\n",
       "      <td>608</td>\n",
       "      <td>0</td>\n",
       "      <td>42</td>\n",
       "      <td>0</td>\n",
       "    </tr>\n",
       "    <tr>\n",
       "      <th>3</th>\n",
       "      <td>9550</td>\n",
       "      <td>0.0</td>\n",
       "      <td>216</td>\n",
       "      <td>0</td>\n",
       "      <td>540</td>\n",
       "      <td>756</td>\n",
       "      <td>961</td>\n",
       "      <td>756</td>\n",
       "      <td>0</td>\n",
       "      <td>1717</td>\n",
       "      <td>642</td>\n",
       "      <td>0</td>\n",
       "      <td>35</td>\n",
       "      <td>0</td>\n",
       "    </tr>\n",
       "    <tr>\n",
       "      <th>4</th>\n",
       "      <td>14260</td>\n",
       "      <td>350.0</td>\n",
       "      <td>655</td>\n",
       "      <td>0</td>\n",
       "      <td>490</td>\n",
       "      <td>1145</td>\n",
       "      <td>1145</td>\n",
       "      <td>1053</td>\n",
       "      <td>0</td>\n",
       "      <td>2198</td>\n",
       "      <td>836</td>\n",
       "      <td>192</td>\n",
       "      <td>84</td>\n",
       "      <td>0</td>\n",
       "    </tr>\n",
       "  </tbody>\n",
       "</table>\n",
       "</div>"
      ],
      "text/plain": [
       "   LotArea  MasVnrArea  BsmtFinSF1  BsmtFinSF2  BsmtUnfSF  TotalBsmtSF  \\\n",
       "0     8450       196.0         706           0        150          856   \n",
       "1     9600         0.0         978           0        284         1262   \n",
       "2    11250       162.0         486           0        434          920   \n",
       "3     9550         0.0         216           0        540          756   \n",
       "4    14260       350.0         655           0        490         1145   \n",
       "\n",
       "   1stFlrSF  2ndFlrSF  LowQualFinSF  GrLivArea  GarageArea  WoodDeckSF  \\\n",
       "0       856       854             0       1710         548           0   \n",
       "1      1262         0             0       1262         460         298   \n",
       "2       920       866             0       1786         608           0   \n",
       "3       961       756             0       1717         642           0   \n",
       "4      1145      1053             0       2198         836         192   \n",
       "\n",
       "   OpenPorchSF  PoolArea  \n",
       "0           61         0  \n",
       "1            0         0  \n",
       "2           42         0  \n",
       "3           35         0  \n",
       "4           84         0  "
      ]
     },
     "execution_count": 24,
     "metadata": {},
     "output_type": "execute_result"
    }
   ],
   "source": [
    "price = train['SalePrice']\n",
    "size_related = train.filter(regex = 'SF|Area$') #all columns with Sf or Area\n",
    "size_related.head()"
   ]
  },
  {
   "cell_type": "code",
   "execution_count": 25,
   "id": "1b9352bb",
   "metadata": {},
   "outputs": [
    {
     "data": {
      "text/plain": [
       "LotArea         0\n",
       "MasVnrArea      8\n",
       "BsmtFinSF1      0\n",
       "BsmtFinSF2      0\n",
       "BsmtUnfSF       0\n",
       "TotalBsmtSF     0\n",
       "1stFlrSF        0\n",
       "2ndFlrSF        0\n",
       "LowQualFinSF    0\n",
       "GrLivArea       0\n",
       "GarageArea      0\n",
       "WoodDeckSF      0\n",
       "OpenPorchSF     0\n",
       "PoolArea        0\n",
       "dtype: int64"
      ]
     },
     "execution_count": 25,
     "metadata": {},
     "output_type": "execute_result"
    }
   ],
   "source": [
    "size_related.isnull().sum(axis=0)  #this isn't right #Masonary Veneer "
   ]
  },
  {
   "cell_type": "code",
   "execution_count": 42,
   "id": "00356417",
   "metadata": {},
   "outputs": [
    {
     "data": {
      "text/plain": [
       "<AxesSubplot:>"
      ]
     },
     "execution_count": 42,
     "metadata": {},
     "output_type": "execute_result"
    },
    {
     "data": {
      "image/png": "[encoded data removed]",
      "text/plain": [
       "<Figure size 432x288 with 1 Axes>"
      ]
     },
     "metadata": {
      "needs_background": "light"
     },
     "output_type": "display_data"
    }
   ],
   "source": [
    "size_related.PoolArea.hist(bins=30)"
   ]
  },
  {
   "cell_type": "code",
   "execution_count": 37,
   "id": "68047b00",
   "metadata": {},
   "outputs": [],
   "source": [
    "#set missing value of MasVnrArea to zero for simplicity\n",
    "size_related = size_related.fillna(0.0)"
   ]
  },
  {
   "cell_type": "markdown",
   "id": "a55f15bb",
   "metadata": {},
   "source": [
    "#Performing Unary Feature Selection\n",
    "\n",
    "#We can use F-test to see which feature are most importand (using their p-value).  This inspects the strength of Pearson correlations of the geatures with SalePrice"
   ]
  },
  {
   "cell_type": "code",
   "execution_count": 38,
   "id": "cdbccd4a",
   "metadata": {},
   "outputs": [
    {
     "data": {
      "text/plain": [
       "GrLivArea       4.518034e-223\n",
       "GarageArea      5.265038e-158\n",
       "TotalBsmtSF     9.484229e-152\n",
       "1stFlrSF        5.394711e-147\n",
       "MasVnrArea       4.100461e-82\n",
       "BsmtFinSF1       3.394110e-53\n",
       "WoodDeckSF       3.972217e-37\n",
       "2ndFlrSF         5.764335e-36\n",
       "OpenPorchSF      3.493374e-35\n",
       "LotArea          1.123139e-24\n",
       "BsmtUnfSF        1.182976e-16\n",
       "PoolArea         4.073490e-04\n",
       "LowQualFinSF     3.282073e-01\n",
       "BsmtFinSF2       6.639987e-01\n",
       "dtype: float64"
      ]
     },
     "execution_count": 38,
     "metadata": {},
     "output_type": "execute_result"
    }
   ],
   "source": [
    "#size_related = size_related.fillna(0.0) #We fill very minor missing values by 0.0\n",
    "from sklearn.feature_selection import f_regression\n",
    "F_values,p_values = f_regression(size_related, train['SalePrice'])\n",
    "\n",
    "pd.Series(p_values, index = size_related.columns).sort_values()"
   ]
  },
  {
   "cell_type": "code",
   "execution_count": 43,
   "id": "ed44673a",
   "metadata": {},
   "outputs": [
    {
     "data": {
      "text/plain": [
       "<AxesSubplot:>"
      ]
     },
     "execution_count": 43,
     "metadata": {},
     "output_type": "execute_result"
    },
    {
     "data": {
      "image/png": "[encoded data removed]",
      "text/plain": [
       "<Figure size 432x288 with 2 Axes>"
      ]
     },
     "metadata": {
      "needs_background": "light"
     },
     "output_type": "display_data"
    }
   ],
   "source": [
    "from matplotlib import pyplot as plt\n",
    "import seaborn as sns\n",
    "corr = pd.concat([size_related, train['SalePrice']], axis=1).corr()\n",
    "sns.heatmap(corr)"
   ]
  },
  {
   "cell_type": "markdown",
   "id": "7f720305",
   "metadata": {},
   "source": [
    "GRLivArea\n",
    "\n",
    "Most of the size-related columns have significant p-values on their correlations with SalePrice.  The Gross Living Area(GrLivArea) has a vanishing p-value, which indicates a very strong statistical relationship.  We will focus our research on GrLivArea."
   ]
  },
  {
   "cell_type": "code",
   "execution_count": 16,
   "id": "3f339490",
   "metadata": {},
   "outputs": [
    {
     "data": {
      "text/plain": [
       "<AxesSubplot:xlabel='GrLivArea', ylabel='SalePrice'>"
      ]
     },
     "execution_count": 16,
     "metadata": {},
     "output_type": "execute_result"
    },
    {
     "data": {
      "image/png": "[encoded data removed]",
      "text/plain": [
       "<Figure size 432x288 with 1 Axes>"
      ]
     },
     "metadata": {
      "needs_background": "light"
     },
     "output_type": "display_data"
    }
   ],
   "source": [
    "train[['GrLivArea','SalePrice']].plot(kind = 'scatter', x='GrLivArea', y = 'SalePrice')#ground floor living area\n",
    "#see if can check leverage in Python"
   ]
  },
  {
   "cell_type": "markdown",
   "id": "5e8ccffd",
   "metadata": {},
   "source": [
    "A Large Variation in Price/SqrFt\n",
    "\n",
    "The scatterplot above displays a fan-like structure which widens for larger and more expensive houses.  Considering straight lines through the origin, the slopes of these lines indicate the price per square-foot.\n",
    "\n",
    "The above pliot suggest a wide range of  price/foot^2 among the houses in Ames.  If we fit a naive simple linear model, the constant assumportion of simple linear regression would be seriously violated.\n",
    "\n",
    "The question is: how do we model this effectively?  Luckily, pandas scatterplot has logx and logy arguments which give us an important hint"
   ]
  },
  {
   "cell_type": "code",
   "execution_count": 44,
   "id": "b53b4380",
   "metadata": {},
   "outputs": [
    {
     "data": {
      "text/plain": [
       "Text(0.5, 0, 'log(GrLivArea)')"
      ]
     },
     "execution_count": 44,
     "metadata": {},
     "output_type": "execute_result"
    },
    {
     "data": {
      "image/png": "[encoded data removed]",
      "text/plain": [
       "<Figure size 432x288 with 1 Axes>"
      ]
     },
     "metadata": {
      "needs_background": "light"
     },
     "output_type": "display_data"
    }
   ],
   "source": [
    "from matplotlib import pyplot as plt\n",
    "train[['GrLivArea','SalePrice']].plot(kind ='scatter',x='GrLivArea', y = 'SalePrice', logx=True, logy=True)\n",
    "plt.ylim(1e4,1e6) #1 * 10^4\n",
    "plt.xlim(1e2,1e4)\n",
    "plt.ylabel(('log(SalePrice'))\n",
    "plt.xlabel('log(GrLivArea)')"
   ]
  },
  {
   "cell_type": "markdown",
   "id": "cec25467",
   "metadata": {},
   "source": [
    "#After taking the log-log scatterplot, the fan-like structure disappears and the scatterplot can be approximated by a parallel family of line segments.\n",
    "\n",
    "    log(SalePrice) ~ Beta * log(SF) + gamma + epsilon\n",
    "\n",
    "Gmma is intercept, epsilon is the residuals or error.\n",
    "\n",
    "By using these two idenetities :\n",
    "\n",
    "        log(ab) = log(a) + log(b)\n",
    "        Beta * log(a) = log(a^Beta)\n",
    "\n",
    "We can recast the relationship into a multiplicative relationship between the price and sqare footage:\n",
    "\n",
    "        Price ~ e^gamma * SF^Beta * e^epsilon\n",
    "\n",
    "The log-log relationship between the house price and square footage suggests that house price follows a power relationship with respect to square footage.\n",
    "\n",
    "We can divide Sf from both sides of the wquation to give us:\n",
    "\n",
    "    Price/SF = Const * SF^(beta-1) * e^epsilon\n",
    "\n",
    "This tells us that price/sqrft appears naturallyy in our derivation.  This should be your focat point from the theoretical point of view.  This is usually a metric used to gauge the housing market.  Even people without data sccience training can identify this as an impotant factor.\n",
    "\n",
    "**insert graph\n",
    "\n",
    "If Beta is greater than 1, the price will increase exponentially as the square footage increases.  If Beta is less than 1, the price will eventually taper off as the square footage increases.\n",
    "\n"
   ]
  },
  {
   "cell_type": "code",
   "execution_count": 30,
   "id": "a8401b30",
   "metadata": {},
   "outputs": [],
   "source": [
    "from sklearn.linear_model import LinearRegression\n",
    "\n",
    "lm = LinearRegression()\n",
    "GrvLivArea = size_related[['GrLivArea']]\n"
   ]
  },
  {
   "cell_type": "code",
   "execution_count": 33,
   "id": "3a25a7c7",
   "metadata": {},
   "outputs": [
    {
     "data": {
      "text/plain": [
       "0.5021486502718042"
      ]
     },
     "execution_count": 33,
     "metadata": {},
     "output_type": "execute_result"
    }
   ],
   "source": [
    "lm.fit((GrvLivArea),(price))\n",
    "lm.score((GrvLivArea), (price))"
   ]
  },
  {
   "cell_type": "code",
   "execution_count": 45,
   "id": "2412e811",
   "metadata": {},
   "outputs": [
    {
     "data": {
      "text/plain": [
       "0.5332721476985478"
      ]
     },
     "execution_count": 45,
     "metadata": {},
     "output_type": "execute_result"
    }
   ],
   "source": [
    "lm.fit(np.log(GrvLivArea), np.log(price))\n",
    "lm.score(np.log(GrvLivArea), np.log(price))"
   ]
  },
  {
   "cell_type": "markdown",
   "id": "8cd59da8",
   "metadata": {},
   "source": [
    "The Meaning of the Log-Log Linear Model\n",
    "\n",
    "From model goodness of fit standpoin, the log-log linear model offers a slightly better description of the data.  We would like to study the meaning of the model.\n",
    "\n",
    "What are ther interpretations of the model intercept and slope?  Unlike the original linear model which depicts thatt the sale price is proportional to the house gross living area, the log-log linear model offers totally different insights"
   ]
  },
  {
   "cell_type": "code",
   "execution_count": 36,
   "id": "4c0c733d",
   "metadata": {},
   "outputs": [
    {
     "data": {
      "text/plain": [
       "(5.668124685984315, array([2.01369225]))"
      ]
     },
     "execution_count": 36,
     "metadata": {},
     "output_type": "execute_result"
    }
   ],
   "source": [
    "lm.intercept_, lm.coef_  #intercept has evertything else is the remainder is all the other features\n",
    "#intercept is the sales price when all features are zero"
   ]
  },
  {
   "cell_type": "markdown",
   "id": "1f50e217",
   "metadata": {},
   "source": [
    "Schematically, the above log-log linear regression can be expressed as \n",
    "    \n",
    "    log(price) = Beta_zero + Beta_one * log(area) + epsilon\n",
    "\n",
    "or eequivalently,\n",
    "\n",
    "    price = price =  ^Beta_zero * area^Beta_one * 10^epsilon\n",
    "    \n",
    "which we can then use to plug in our values \n",
    "\n",
    "    price/area = 10^2.44 * area^-0.12 * 10^epsilon\n",
    "    \n",
    "This suggests an approximate formulat for price/f^2, which has been the yard-stick for all the housing transactions.  Note that the negative exponent -0.12 above the area variable is Beta_one - 1.  The above formula suggests that price/ft^2 would drop for larger houses.  In your data analytics, you should investigate a plausible reason for this price drop.\n",
    "    \n",
    "    "
   ]
  },
  {
   "cell_type": "code",
   "execution_count": 48,
   "id": "6c205749",
   "metadata": {},
   "outputs": [],
   "source": [
    "Nbr_quantile = train.groupby('Neighborhood')['GrLivArea'].quantile(0.8)\n",
    "joint_Nbr_quantile = pd.merge(train[['Neighborhood']], Nbr_quantile, how='left', left_on ='Neighborhood', right_index=True)"
   ]
  },
  {
   "cell_type": "code",
   "execution_count": 57,
   "id": "b827d2a4",
   "metadata": {},
   "outputs": [
    {
     "data": {
      "text/plain": [
       "(2.1315792711305583, array([0.98403959]))"
      ]
     },
     "execution_count": 57,
     "metadata": {},
     "output_type": "execute_result"
    }
   ],
   "source": [
    "smaller_home = GrvLivArea.GrLivArea < joint_Nbr_quantile.GrLivArea#style guide for Python pep 8\n",
    "lm.fit(np.log10(GrvLivArea)[smaller_home], np.log10(price)[smaller_home])\n",
    "lm.intercept_, lm.coef_"
   ]
  },
  {
   "cell_type": "code",
   "execution_count": 58,
   "id": "83468662",
   "metadata": {},
   "outputs": [
    {
     "data": {
      "text/plain": [
       "0.5501449046768988"
      ]
     },
     "execution_count": 58,
     "metadata": {},
     "output_type": "execute_result"
    }
   ],
   "source": [
    "lm.score(np.log10(GrvLivArea)[smaller_home], np.log10(price)[smaller_home])"
   ]
  },
  {
   "cell_type": "markdown",
   "id": "faaae03e",
   "metadata": {},
   "source": [
    "The above suggests that, for smaller homes (the bottom 80% according to GrLivArea),the relationship between price and area is constant (independent of area)."
   ]
  },
  {
   "cell_type": "code",
   "execution_count": 60,
   "id": "cd5c89cc",
   "metadata": {},
   "outputs": [
    {
     "data": {
      "text/plain": [
       "(1.6560349214226115, array([1.10483474]))"
      ]
     },
     "execution_count": 60,
     "metadata": {},
     "output_type": "execute_result"
    }
   ],
   "source": [
    "lm.fit(np.log10(GrvLivArea)[~smaller_home],np.log10(price)[~smaller_home])\n",
    "lm.intercept_, lm.coef_"
   ]
  },
  {
   "cell_type": "code",
   "execution_count": 61,
   "id": "4820a938",
   "metadata": {},
   "outputs": [
    {
     "data": {
      "text/plain": [
       "0.38781415593486823"
      ]
     },
     "execution_count": 61,
     "metadata": {},
     "output_type": "execute_result"
    }
   ],
   "source": [
    "lm.score(np.log10(GrvLivArea)[~smaller_home],np.log10(price)[~smaller_home]) #doesn't have the same linear relationship \n",
    "#doesn't have as strong of a linear relationship as the smaller homes"
   ]
  },
  {
   "cell_type": "code",
   "execution_count": 68,
   "id": "33d7f110",
   "metadata": {},
   "outputs": [],
   "source": [
    "GrvLivArea['ratio'] = price/GrvLivArea['GrLivArea']\n",
    "#not that valuable"
   ]
  },
  {
   "cell_type": "code",
   "execution_count": 69,
   "id": "d86f9fcd",
   "metadata": {},
   "outputs": [
    {
     "data": {
      "text/plain": [
       "<AxesSubplot:xlabel='GrLivArea', ylabel='ratio'>"
      ]
     },
     "execution_count": 69,
     "metadata": {},
     "output_type": "execute_result"
    },
    {
     "data": {
      "image/png": "[encoded data removed]",
      "text/plain": [
       "<Figure size 432x288 with 1 Axes>"
      ]
     },
     "metadata": {
      "needs_background": "light"
     },
     "output_type": "display_data"
    }
   ],
   "source": [
    "GrvLivArea[['GrLivArea','ratio']].plot(kind = 'scatter', x='GrLivArea', y = 'ratio')#ground floor living area.\n",
    "#not showing anything at all"
   ]
  },
  {
   "cell_type": "code",
   "execution_count": 64,
   "id": "fcf98d70",
   "metadata": {},
   "outputs": [
    {
     "data": {
      "text/plain": [
       "pandas.core.frame.DataFrame"
      ]
     },
     "execution_count": 64,
     "metadata": {},
     "output_type": "execute_result"
    }
   ],
   "source": [
    "type(GrvLivArea)"
   ]
  },
  {
   "cell_type": "code",
   "execution_count": 65,
   "id": "b59c159c",
   "metadata": {},
   "outputs": [
    {
     "data": {
      "text/plain": [
       "Index(['GrLivArea'], dtype='object')"
      ]
     },
     "execution_count": 65,
     "metadata": {},
     "output_type": "execute_result"
    }
   ],
   "source": [
    "GrvLivArea.columns"
   ]
  },
  {
   "cell_type": "markdown",
   "id": "15018654",
   "metadata": {},
   "source": [
    "For larger homes(the remainging 20%) the relationship changes.  We see that the square footage will have diminishing retruns on the price.\n",
    "\n",
    "**insert graph  #the price per square foot for larger homes is lower"
   ]
  },
  {
   "cell_type": "markdown",
   "id": "95c5064c",
   "metadata": {},
   "source": [
    "#The Price Pressure On Larger Homes\n",
    "\n",
    "The homes with living areas below the 80% quantile on average follow a very simple relationsip \n",
    "        \n",
    "    price/area ~ 29.5 * area^0.16\n",
    "    \n",
    "which is about $105 for a 25OO square-foot home.\n",
    "\n",
    "This discount, or price pressure on larger homes is why Beta_one ~ 0.88 if we aggregate all the homes toghather.  In your data analysis, you should provide some clues about the origin of this price discount."
   ]
  },
  {
   "cell_type": "markdown",
   "id": "cb164231",
   "metadata": {},
   "source": [
    "#A Reflection on the Various Choices in Modeling and Model Interpretation\n",
    "\n",
    "Machine learning models help us to formulate Ames house prices schematicalyy as price = \n",
    "\n",
    "    F(feature1,feature2,...epsion)\n",
    "    \n",
    "where epsio represents the residuals.  As a modeler, you shape your model by deciding the features involved and the form of the function F. is the relationship in the data linear or highly non-llinear?\n",
    "\n",
    "Naively, we may try to model the house price in terms of \n",
    "\n",
    "    price ~ Beta_one * area + Beta_aero + epsilon\n",
    "    \n",
    "Within this context, Beta_one has the meaning of price. square foot and Beta_zero is the residual value (land, pavement, deck, pool, etc.) of the house when the building disappears.\n",
    "\n",
    "The expanding fan-like structure of the scatter plot implies very large residuals for larger homes.  This makes the model a good approximation of the reality only when the house is very small.\n",
    "\n",
    "On the other hand, we could fit either:\n",
    "    \n",
    "    log(price) ~ Beta_one * area + Beta_zero + espsilon)\n",
    "    log(price) ~ Beta_one * log(area) + Beta_zero + espsilon)"
   ]
  },
  {
   "cell_type": "markdown",
   "id": "e0ad8bfd",
   "metadata": {},
   "source": [
    "What are the Major Implications of These Model Choices?\n",
    "\n",
    "The former suggests :        \n",
    "    \n",
    "    price ~ e^Beta_one * area(e^(epsilon + Beta_zero).)\n",
    "    \n",
    "which treats the area (GrLivArea attribute as as a dispensible attribaute of a house.  Even if area = 0, the home price fluctuates around a fixed residual value.  The latter suggests:\n",
    "\n",
    "    price ~ area^Beta_son\n",
    "\n",
    "which implies that the house value vanishes if the house has NO gross living area at all.\n",
    "\n",
    "This suggests a general principle of interpretation:\n",
    "\n",
    "If we we run a simple linear regression of a feature (after suitable feature engineering),\n",
    "\n",
    "    log(price) ~ Beta * feature + Beta_aero + epsion \n",
    "    \n",
    "would imply \n",
    "\n",
    "    price~e^(Beta*feature) * (e^(Beta_zero + epsilon)\n",
    "    \n",
    "    \n",
    "which treats the feature as an optional attribute of the house.\n",
    "\n",
    "SEE PICTURE\n",
    "    \n",
    "if beta_one = o then the interceopt is the property "
   ]
  },
  {
   "cell_type": "markdown",
   "id": "357da636",
   "metadata": {},
   "source": [
    "In modeling Ames house prices using linear regression, your model design should be built upon your solid rationale for the dynamics of the local housing market.  This observation suggests that for the sake of simplicity of interpreation, it is better to group multiple highly correlated features together instead of treating them as separate features.  This in perfect agreement with the need to drop the feature dimension to reduce multi-collinearity (in the Ames data set, we have over 80 features)."
   ]
  },
  {
   "cell_type": "code",
   "execution_count": null,
   "id": "6f75a175",
   "metadata": {},
   "outputs": [],
   "source": [
    "suggest getting focus on both predicting and descripive R^2 of 0.6 or 0.7 RMse 0.2"
   ]
  },
  {
   "cell_type": "code",
   "execution_count": null,
   "id": "563e3ba4",
   "metadata": {},
   "outputs": [],
   "source": [
    "don't spend too much on gridsearch"
   ]
  },
  {
   "cell_type": "code",
   "execution_count": null,
   "id": "7432ad1e",
   "metadata": {},
   "outputs": [],
   "source": [
    "see pictures\n",
    "\n"
   ]
  },
  {
   "cell_type": "code",
   "execution_count": null,
   "id": "a3a7ded6",
   "metadata": {},
   "outputs": [],
   "source": []
  },
  {
   "cell_type": "markdown",
   "id": "64f4378b",
   "metadata": {},
   "source": [
    "Downloading the Lat-Long Coordinates with geopy\n",
    "\n",
    "* pip install geopy\n",
    "* Use rate_limiter to slow down the download speed"
   ]
  },
  {
   "cell_type": "code",
   "execution_count": 71,
   "id": "d6e5cf51",
   "metadata": {},
   "outputs": [
    {
     "name": "stdout",
     "output_type": "stream",
     "text": [
      "Collecting geopyNote: you may need to restart the kernel to use updated packages.\n",
      "\n",
      "  Downloading geopy-2.2.0-py3-none-any.whl (118 kB)\n",
      "Collecting geographiclib<2,>=1.49\n",
      "  Downloading geographiclib-1.52-py3-none-any.whl (38 kB)\n",
      "Installing collected packages: geographiclib, geopy\n",
      "Successfully installed geographiclib-1.52 geopy-2.2.0\n"
     ]
    }
   ],
   "source": [
    "# pip install geopy"
   ]
  },
  {
   "cell_type": "code",
   "execution_count": 74,
   "id": "ca753895",
   "metadata": {},
   "outputs": [],
   "source": [
    "\n",
    "import geopy\n",
    "from geopy import Nominatim\n",
    "from geopy.extra.rate_limiter import RateLimiter\n",
    "\n",
    "locator = Nominatim(user_agent=\"myGeocoder\")\n",
    "#location = locator.geocode(\"Champ de Mars, Paris, France\")"
   ]
  },
  {
   "cell_type": "markdown",
   "id": "129fc502",
   "metadata": {},
   "source": [
    "Wrap the raw geocoder in a rate-limiter to prevent it from being blocked"
   ]
  },
  {
   "cell_type": "code",
   "execution_count": 75,
   "id": "8e2eab81",
   "metadata": {},
   "outputs": [],
   "source": [
    "geocode = RateLimiter(locator.geocode, min_delay_seconds=1.5)"
   ]
  },
  {
   "cell_type": "code",
   "execution_count": 77,
   "id": "a28f2fd7",
   "metadata": {},
   "outputs": [],
   "source": [
    "# location = geocode('1531 Curtiss Ave, Ames, USA')  #DID NOT WORK"
   ]
  },
  {
   "cell_type": "markdown",
   "id": "5ac18926",
   "metadata": {},
   "source": [
    "Given a list (or series of street addresses or NaN values) in Ames Iowa:"
   ]
  },
  {
   "cell_type": "code",
   "execution_count": null,
   "id": "0761844e",
   "metadata": {},
   "outputs": [],
   "source": [
    "locations = [geocode(addr', Ames, USA') if type(addr)==str else None for addr in stree_addresses]"
   ]
  }
 ],
 "metadata": {
  "kernelspec": {
   "display_name": "Python 3 (ipykernel)",
   "language": "python",
   "name": "python3"
  },
  "language_info": {
   "codemirror_mode": {
    "name": "ipython",
    "version": 3
   },
   "file_extension": ".py",
   "mimetype": "text/x-python",
   "name": "python",
   "nbconvert_exporter": "python",
   "pygments_lexer": "ipython3",
   "version": "3.9.7"
  }
 },
 "nbformat": 4,
 "nbformat_minor": 5
}
