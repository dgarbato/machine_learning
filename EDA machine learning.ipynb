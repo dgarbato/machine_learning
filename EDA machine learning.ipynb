{
 "cells": [
  {
   "cell_type": "code",
   "execution_count": 2,
   "id": "3fb04938",
   "metadata": {},
   "outputs": [],
   "source": [
    "from sklearn.linear_model import LinearRegression\n",
    "import matplotlib.pyplot as plt\n",
    "import seaborn as sns"
   ]
  },
  {
   "cell_type": "code",
   "execution_count": 3,
   "id": "23275d2d",
   "metadata": {},
   "outputs": [],
   "source": [
    "import numpy as np\n",
    "import pandas as pd\n",
    "%matplotlib inline\n",
    "\n",
    "housing = pd.read_csv(r'C:\\Users\\dgarb\\OneDrive\\Documents\\Data Science Bootcamp August\\Machine Learning Project\\original data\\train.csv',dtype={'MSSubClass':str,\"MoSold\":str}) \n",
    "\n"
   ]
  },
  {
   "cell_type": "code",
   "execution_count": 4,
   "id": "9e05af40",
   "metadata": {},
   "outputs": [],
   "source": [
    "test = pd.read_csv(r'C:\\Users\\dgarb\\OneDrive\\Documents\\Data Science Bootcamp August\\Machine Learning Project\\original data\\test.csv') "
   ]
  },
  {
   "cell_type": "code",
   "execution_count": 5,
   "id": "58e705d1",
   "metadata": {},
   "outputs": [
    {
     "data": {
      "text/html": [
       "<div>\n",
       "<style scoped>\n",
       "    .dataframe tbody tr th:only-of-type {\n",
       "        vertical-align: middle;\n",
       "    }\n",
       "\n",
       "    .dataframe tbody tr th {\n",
       "        vertical-align: top;\n",
       "    }\n",
       "\n",
       "    .dataframe thead th {\n",
       "        text-align: right;\n",
       "    }\n",
       "</style>\n",
       "<table border=\"1\" class=\"dataframe\">\n",
       "  <thead>\n",
       "    <tr style=\"text-align: right;\">\n",
       "      <th></th>\n",
       "      <th>Id</th>\n",
       "      <th>MSSubClass</th>\n",
       "      <th>MSZoning</th>\n",
       "      <th>LotFrontage</th>\n",
       "      <th>LotArea</th>\n",
       "      <th>Street</th>\n",
       "      <th>Alley</th>\n",
       "      <th>LotShape</th>\n",
       "      <th>LandContour</th>\n",
       "      <th>Utilities</th>\n",
       "      <th>...</th>\n",
       "      <th>ScreenPorch</th>\n",
       "      <th>PoolArea</th>\n",
       "      <th>PoolQC</th>\n",
       "      <th>Fence</th>\n",
       "      <th>MiscFeature</th>\n",
       "      <th>MiscVal</th>\n",
       "      <th>MoSold</th>\n",
       "      <th>YrSold</th>\n",
       "      <th>SaleType</th>\n",
       "      <th>SaleCondition</th>\n",
       "    </tr>\n",
       "  </thead>\n",
       "  <tbody>\n",
       "    <tr>\n",
       "      <th>0</th>\n",
       "      <td>1461</td>\n",
       "      <td>20</td>\n",
       "      <td>RH</td>\n",
       "      <td>80.0</td>\n",
       "      <td>11622</td>\n",
       "      <td>Pave</td>\n",
       "      <td>NaN</td>\n",
       "      <td>Reg</td>\n",
       "      <td>Lvl</td>\n",
       "      <td>AllPub</td>\n",
       "      <td>...</td>\n",
       "      <td>120</td>\n",
       "      <td>0</td>\n",
       "      <td>NaN</td>\n",
       "      <td>MnPrv</td>\n",
       "      <td>NaN</td>\n",
       "      <td>0</td>\n",
       "      <td>6</td>\n",
       "      <td>2010</td>\n",
       "      <td>WD</td>\n",
       "      <td>Normal</td>\n",
       "    </tr>\n",
       "    <tr>\n",
       "      <th>1</th>\n",
       "      <td>1462</td>\n",
       "      <td>20</td>\n",
       "      <td>RL</td>\n",
       "      <td>81.0</td>\n",
       "      <td>14267</td>\n",
       "      <td>Pave</td>\n",
       "      <td>NaN</td>\n",
       "      <td>IR1</td>\n",
       "      <td>Lvl</td>\n",
       "      <td>AllPub</td>\n",
       "      <td>...</td>\n",
       "      <td>0</td>\n",
       "      <td>0</td>\n",
       "      <td>NaN</td>\n",
       "      <td>NaN</td>\n",
       "      <td>Gar2</td>\n",
       "      <td>12500</td>\n",
       "      <td>6</td>\n",
       "      <td>2010</td>\n",
       "      <td>WD</td>\n",
       "      <td>Normal</td>\n",
       "    </tr>\n",
       "    <tr>\n",
       "      <th>2</th>\n",
       "      <td>1463</td>\n",
       "      <td>60</td>\n",
       "      <td>RL</td>\n",
       "      <td>74.0</td>\n",
       "      <td>13830</td>\n",
       "      <td>Pave</td>\n",
       "      <td>NaN</td>\n",
       "      <td>IR1</td>\n",
       "      <td>Lvl</td>\n",
       "      <td>AllPub</td>\n",
       "      <td>...</td>\n",
       "      <td>0</td>\n",
       "      <td>0</td>\n",
       "      <td>NaN</td>\n",
       "      <td>MnPrv</td>\n",
       "      <td>NaN</td>\n",
       "      <td>0</td>\n",
       "      <td>3</td>\n",
       "      <td>2010</td>\n",
       "      <td>WD</td>\n",
       "      <td>Normal</td>\n",
       "    </tr>\n",
       "  </tbody>\n",
       "</table>\n",
       "<p>3 rows × 80 columns</p>\n",
       "</div>"
      ],
      "text/plain": [
       "     Id  MSSubClass MSZoning  LotFrontage  LotArea Street Alley LotShape  \\\n",
       "0  1461          20       RH         80.0    11622   Pave   NaN      Reg   \n",
       "1  1462          20       RL         81.0    14267   Pave   NaN      IR1   \n",
       "2  1463          60       RL         74.0    13830   Pave   NaN      IR1   \n",
       "\n",
       "  LandContour Utilities  ... ScreenPorch PoolArea PoolQC  Fence MiscFeature  \\\n",
       "0         Lvl    AllPub  ...         120        0    NaN  MnPrv         NaN   \n",
       "1         Lvl    AllPub  ...           0        0    NaN    NaN        Gar2   \n",
       "2         Lvl    AllPub  ...           0        0    NaN  MnPrv         NaN   \n",
       "\n",
       "  MiscVal MoSold  YrSold  SaleType  SaleCondition  \n",
       "0       0      6    2010        WD         Normal  \n",
       "1   12500      6    2010        WD         Normal  \n",
       "2       0      3    2010        WD         Normal  \n",
       "\n",
       "[3 rows x 80 columns]"
      ]
     },
     "execution_count": 5,
     "metadata": {},
     "output_type": "execute_result"
    }
   ],
   "source": [
    "test.head(3)"
   ]
  },
  {
   "cell_type": "code",
   "execution_count": 243,
   "id": "7056bff1",
   "metadata": {},
   "outputs": [
    {
     "data": {
      "text/html": [
       "<div>\n",
       "<style scoped>\n",
       "    .dataframe tbody tr th:only-of-type {\n",
       "        vertical-align: middle;\n",
       "    }\n",
       "\n",
       "    .dataframe tbody tr th {\n",
       "        vertical-align: top;\n",
       "    }\n",
       "\n",
       "    .dataframe thead th {\n",
       "        text-align: right;\n",
       "    }\n",
       "</style>\n",
       "<table border=\"1\" class=\"dataframe\">\n",
       "  <thead>\n",
       "    <tr style=\"text-align: right;\">\n",
       "      <th></th>\n",
       "      <th>Id</th>\n",
       "      <th>MSSubClass</th>\n",
       "      <th>MSZoning</th>\n",
       "      <th>LotFrontage</th>\n",
       "      <th>LotArea</th>\n",
       "      <th>Street</th>\n",
       "      <th>Alley</th>\n",
       "      <th>LotShape</th>\n",
       "      <th>LandContour</th>\n",
       "      <th>Utilities</th>\n",
       "      <th>LotConfig</th>\n",
       "      <th>LandSlope</th>\n",
       "      <th>Neighborhood</th>\n",
       "      <th>Condition1</th>\n",
       "      <th>Condition2</th>\n",
       "      <th>BldgType</th>\n",
       "      <th>HouseStyle</th>\n",
       "      <th>OverallQual</th>\n",
       "      <th>OverallCond</th>\n",
       "      <th>YearBuilt</th>\n",
       "      <th>YearRemodAdd</th>\n",
       "      <th>RoofStyle</th>\n",
       "      <th>RoofMatl</th>\n",
       "      <th>Exterior1st</th>\n",
       "      <th>Exterior2nd</th>\n",
       "      <th>MasVnrType</th>\n",
       "      <th>MasVnrArea</th>\n",
       "      <th>ExterQual</th>\n",
       "      <th>ExterCond</th>\n",
       "      <th>Foundation</th>\n",
       "      <th>BsmtQual</th>\n",
       "      <th>BsmtCond</th>\n",
       "      <th>BsmtExposure</th>\n",
       "      <th>BsmtFinType1</th>\n",
       "      <th>BsmtFinSF1</th>\n",
       "      <th>BsmtFinType2</th>\n",
       "      <th>BsmtFinSF2</th>\n",
       "      <th>BsmtUnfSF</th>\n",
       "      <th>TotalBsmtSF</th>\n",
       "      <th>Heating</th>\n",
       "      <th>HeatingQC</th>\n",
       "      <th>CentralAir</th>\n",
       "      <th>Electrical</th>\n",
       "      <th>1stFlrSF</th>\n",
       "      <th>2ndFlrSF</th>\n",
       "      <th>LowQualFinSF</th>\n",
       "      <th>GrLivArea</th>\n",
       "      <th>BsmtFullBath</th>\n",
       "      <th>BsmtHalfBath</th>\n",
       "      <th>FullBath</th>\n",
       "      <th>HalfBath</th>\n",
       "      <th>BedroomAbvGr</th>\n",
       "      <th>KitchenAbvGr</th>\n",
       "      <th>KitchenQual</th>\n",
       "      <th>TotRmsAbvGrd</th>\n",
       "      <th>Functional</th>\n",
       "      <th>Fireplaces</th>\n",
       "      <th>FireplaceQu</th>\n",
       "      <th>GarageType</th>\n",
       "      <th>GarageYrBlt</th>\n",
       "      <th>GarageFinish</th>\n",
       "      <th>GarageCars</th>\n",
       "      <th>GarageArea</th>\n",
       "      <th>GarageQual</th>\n",
       "      <th>GarageCond</th>\n",
       "      <th>PavedDrive</th>\n",
       "      <th>WoodDeckSF</th>\n",
       "      <th>OpenPorchSF</th>\n",
       "      <th>EnclosedPorch</th>\n",
       "      <th>3SsnPorch</th>\n",
       "      <th>ScreenPorch</th>\n",
       "      <th>PoolArea</th>\n",
       "      <th>PoolQC</th>\n",
       "      <th>Fence</th>\n",
       "      <th>MiscFeature</th>\n",
       "      <th>MiscVal</th>\n",
       "      <th>MoSold</th>\n",
       "      <th>YrSold</th>\n",
       "      <th>SaleType</th>\n",
       "      <th>SaleCondition</th>\n",
       "      <th>SalePrice</th>\n",
       "    </tr>\n",
       "  </thead>\n",
       "  <tbody>\n",
       "    <tr>\n",
       "      <th>0</th>\n",
       "      <td>1</td>\n",
       "      <td>60</td>\n",
       "      <td>RL</td>\n",
       "      <td>65.0</td>\n",
       "      <td>8450</td>\n",
       "      <td>Pave</td>\n",
       "      <td>NaN</td>\n",
       "      <td>Reg</td>\n",
       "      <td>Lvl</td>\n",
       "      <td>AllPub</td>\n",
       "      <td>Inside</td>\n",
       "      <td>Gtl</td>\n",
       "      <td>CollgCr</td>\n",
       "      <td>Norm</td>\n",
       "      <td>Norm</td>\n",
       "      <td>1Fam</td>\n",
       "      <td>2Story</td>\n",
       "      <td>7</td>\n",
       "      <td>5</td>\n",
       "      <td>2003</td>\n",
       "      <td>2003</td>\n",
       "      <td>Gable</td>\n",
       "      <td>CompShg</td>\n",
       "      <td>VinylSd</td>\n",
       "      <td>VinylSd</td>\n",
       "      <td>BrkFace</td>\n",
       "      <td>196.0</td>\n",
       "      <td>Gd</td>\n",
       "      <td>TA</td>\n",
       "      <td>PConc</td>\n",
       "      <td>Gd</td>\n",
       "      <td>TA</td>\n",
       "      <td>No</td>\n",
       "      <td>GLQ</td>\n",
       "      <td>706</td>\n",
       "      <td>Unf</td>\n",
       "      <td>0</td>\n",
       "      <td>150</td>\n",
       "      <td>856</td>\n",
       "      <td>GasA</td>\n",
       "      <td>Ex</td>\n",
       "      <td>Y</td>\n",
       "      <td>SBrkr</td>\n",
       "      <td>856</td>\n",
       "      <td>854</td>\n",
       "      <td>0</td>\n",
       "      <td>1710</td>\n",
       "      <td>1</td>\n",
       "      <td>0</td>\n",
       "      <td>2</td>\n",
       "      <td>1</td>\n",
       "      <td>3</td>\n",
       "      <td>1</td>\n",
       "      <td>Gd</td>\n",
       "      <td>8</td>\n",
       "      <td>Typ</td>\n",
       "      <td>0</td>\n",
       "      <td>NaN</td>\n",
       "      <td>Attchd</td>\n",
       "      <td>2003.0</td>\n",
       "      <td>RFn</td>\n",
       "      <td>2</td>\n",
       "      <td>548</td>\n",
       "      <td>TA</td>\n",
       "      <td>TA</td>\n",
       "      <td>Y</td>\n",
       "      <td>0</td>\n",
       "      <td>61</td>\n",
       "      <td>0</td>\n",
       "      <td>0</td>\n",
       "      <td>0</td>\n",
       "      <td>0</td>\n",
       "      <td>NaN</td>\n",
       "      <td>NaN</td>\n",
       "      <td>NaN</td>\n",
       "      <td>0</td>\n",
       "      <td>2</td>\n",
       "      <td>2008</td>\n",
       "      <td>WD</td>\n",
       "      <td>Normal</td>\n",
       "      <td>208500</td>\n",
       "    </tr>\n",
       "    <tr>\n",
       "      <th>1</th>\n",
       "      <td>2</td>\n",
       "      <td>20</td>\n",
       "      <td>RL</td>\n",
       "      <td>80.0</td>\n",
       "      <td>9600</td>\n",
       "      <td>Pave</td>\n",
       "      <td>NaN</td>\n",
       "      <td>Reg</td>\n",
       "      <td>Lvl</td>\n",
       "      <td>AllPub</td>\n",
       "      <td>FR2</td>\n",
       "      <td>Gtl</td>\n",
       "      <td>Veenker</td>\n",
       "      <td>Feedr</td>\n",
       "      <td>Norm</td>\n",
       "      <td>1Fam</td>\n",
       "      <td>1Story</td>\n",
       "      <td>6</td>\n",
       "      <td>8</td>\n",
       "      <td>1976</td>\n",
       "      <td>1976</td>\n",
       "      <td>Gable</td>\n",
       "      <td>CompShg</td>\n",
       "      <td>MetalSd</td>\n",
       "      <td>MetalSd</td>\n",
       "      <td>None</td>\n",
       "      <td>0.0</td>\n",
       "      <td>TA</td>\n",
       "      <td>TA</td>\n",
       "      <td>CBlock</td>\n",
       "      <td>Gd</td>\n",
       "      <td>TA</td>\n",
       "      <td>Gd</td>\n",
       "      <td>ALQ</td>\n",
       "      <td>978</td>\n",
       "      <td>Unf</td>\n",
       "      <td>0</td>\n",
       "      <td>284</td>\n",
       "      <td>1262</td>\n",
       "      <td>GasA</td>\n",
       "      <td>Ex</td>\n",
       "      <td>Y</td>\n",
       "      <td>SBrkr</td>\n",
       "      <td>1262</td>\n",
       "      <td>0</td>\n",
       "      <td>0</td>\n",
       "      <td>1262</td>\n",
       "      <td>0</td>\n",
       "      <td>1</td>\n",
       "      <td>2</td>\n",
       "      <td>0</td>\n",
       "      <td>3</td>\n",
       "      <td>1</td>\n",
       "      <td>TA</td>\n",
       "      <td>6</td>\n",
       "      <td>Typ</td>\n",
       "      <td>1</td>\n",
       "      <td>TA</td>\n",
       "      <td>Attchd</td>\n",
       "      <td>1976.0</td>\n",
       "      <td>RFn</td>\n",
       "      <td>2</td>\n",
       "      <td>460</td>\n",
       "      <td>TA</td>\n",
       "      <td>TA</td>\n",
       "      <td>Y</td>\n",
       "      <td>298</td>\n",
       "      <td>0</td>\n",
       "      <td>0</td>\n",
       "      <td>0</td>\n",
       "      <td>0</td>\n",
       "      <td>0</td>\n",
       "      <td>NaN</td>\n",
       "      <td>NaN</td>\n",
       "      <td>NaN</td>\n",
       "      <td>0</td>\n",
       "      <td>5</td>\n",
       "      <td>2007</td>\n",
       "      <td>WD</td>\n",
       "      <td>Normal</td>\n",
       "      <td>181500</td>\n",
       "    </tr>\n",
       "    <tr>\n",
       "      <th>2</th>\n",
       "      <td>3</td>\n",
       "      <td>60</td>\n",
       "      <td>RL</td>\n",
       "      <td>68.0</td>\n",
       "      <td>11250</td>\n",
       "      <td>Pave</td>\n",
       "      <td>NaN</td>\n",
       "      <td>IR1</td>\n",
       "      <td>Lvl</td>\n",
       "      <td>AllPub</td>\n",
       "      <td>Inside</td>\n",
       "      <td>Gtl</td>\n",
       "      <td>CollgCr</td>\n",
       "      <td>Norm</td>\n",
       "      <td>Norm</td>\n",
       "      <td>1Fam</td>\n",
       "      <td>2Story</td>\n",
       "      <td>7</td>\n",
       "      <td>5</td>\n",
       "      <td>2001</td>\n",
       "      <td>2002</td>\n",
       "      <td>Gable</td>\n",
       "      <td>CompShg</td>\n",
       "      <td>VinylSd</td>\n",
       "      <td>VinylSd</td>\n",
       "      <td>BrkFace</td>\n",
       "      <td>162.0</td>\n",
       "      <td>Gd</td>\n",
       "      <td>TA</td>\n",
       "      <td>PConc</td>\n",
       "      <td>Gd</td>\n",
       "      <td>TA</td>\n",
       "      <td>Mn</td>\n",
       "      <td>GLQ</td>\n",
       "      <td>486</td>\n",
       "      <td>Unf</td>\n",
       "      <td>0</td>\n",
       "      <td>434</td>\n",
       "      <td>920</td>\n",
       "      <td>GasA</td>\n",
       "      <td>Ex</td>\n",
       "      <td>Y</td>\n",
       "      <td>SBrkr</td>\n",
       "      <td>920</td>\n",
       "      <td>866</td>\n",
       "      <td>0</td>\n",
       "      <td>1786</td>\n",
       "      <td>1</td>\n",
       "      <td>0</td>\n",
       "      <td>2</td>\n",
       "      <td>1</td>\n",
       "      <td>3</td>\n",
       "      <td>1</td>\n",
       "      <td>Gd</td>\n",
       "      <td>6</td>\n",
       "      <td>Typ</td>\n",
       "      <td>1</td>\n",
       "      <td>TA</td>\n",
       "      <td>Attchd</td>\n",
       "      <td>2001.0</td>\n",
       "      <td>RFn</td>\n",
       "      <td>2</td>\n",
       "      <td>608</td>\n",
       "      <td>TA</td>\n",
       "      <td>TA</td>\n",
       "      <td>Y</td>\n",
       "      <td>0</td>\n",
       "      <td>42</td>\n",
       "      <td>0</td>\n",
       "      <td>0</td>\n",
       "      <td>0</td>\n",
       "      <td>0</td>\n",
       "      <td>NaN</td>\n",
       "      <td>NaN</td>\n",
       "      <td>NaN</td>\n",
       "      <td>0</td>\n",
       "      <td>9</td>\n",
       "      <td>2008</td>\n",
       "      <td>WD</td>\n",
       "      <td>Normal</td>\n",
       "      <td>223500</td>\n",
       "    </tr>\n",
       "    <tr>\n",
       "      <th>3</th>\n",
       "      <td>4</td>\n",
       "      <td>70</td>\n",
       "      <td>RL</td>\n",
       "      <td>60.0</td>\n",
       "      <td>9550</td>\n",
       "      <td>Pave</td>\n",
       "      <td>NaN</td>\n",
       "      <td>IR1</td>\n",
       "      <td>Lvl</td>\n",
       "      <td>AllPub</td>\n",
       "      <td>Corner</td>\n",
       "      <td>Gtl</td>\n",
       "      <td>Crawfor</td>\n",
       "      <td>Norm</td>\n",
       "      <td>Norm</td>\n",
       "      <td>1Fam</td>\n",
       "      <td>2Story</td>\n",
       "      <td>7</td>\n",
       "      <td>5</td>\n",
       "      <td>1915</td>\n",
       "      <td>1970</td>\n",
       "      <td>Gable</td>\n",
       "      <td>CompShg</td>\n",
       "      <td>Wd Sdng</td>\n",
       "      <td>Wd Shng</td>\n",
       "      <td>None</td>\n",
       "      <td>0.0</td>\n",
       "      <td>TA</td>\n",
       "      <td>TA</td>\n",
       "      <td>BrkTil</td>\n",
       "      <td>TA</td>\n",
       "      <td>Gd</td>\n",
       "      <td>No</td>\n",
       "      <td>ALQ</td>\n",
       "      <td>216</td>\n",
       "      <td>Unf</td>\n",
       "      <td>0</td>\n",
       "      <td>540</td>\n",
       "      <td>756</td>\n",
       "      <td>GasA</td>\n",
       "      <td>Gd</td>\n",
       "      <td>Y</td>\n",
       "      <td>SBrkr</td>\n",
       "      <td>961</td>\n",
       "      <td>756</td>\n",
       "      <td>0</td>\n",
       "      <td>1717</td>\n",
       "      <td>1</td>\n",
       "      <td>0</td>\n",
       "      <td>1</td>\n",
       "      <td>0</td>\n",
       "      <td>3</td>\n",
       "      <td>1</td>\n",
       "      <td>Gd</td>\n",
       "      <td>7</td>\n",
       "      <td>Typ</td>\n",
       "      <td>1</td>\n",
       "      <td>Gd</td>\n",
       "      <td>Detchd</td>\n",
       "      <td>1998.0</td>\n",
       "      <td>Unf</td>\n",
       "      <td>3</td>\n",
       "      <td>642</td>\n",
       "      <td>TA</td>\n",
       "      <td>TA</td>\n",
       "      <td>Y</td>\n",
       "      <td>0</td>\n",
       "      <td>35</td>\n",
       "      <td>272</td>\n",
       "      <td>0</td>\n",
       "      <td>0</td>\n",
       "      <td>0</td>\n",
       "      <td>NaN</td>\n",
       "      <td>NaN</td>\n",
       "      <td>NaN</td>\n",
       "      <td>0</td>\n",
       "      <td>2</td>\n",
       "      <td>2006</td>\n",
       "      <td>WD</td>\n",
       "      <td>Abnorml</td>\n",
       "      <td>140000</td>\n",
       "    </tr>\n",
       "    <tr>\n",
       "      <th>4</th>\n",
       "      <td>5</td>\n",
       "      <td>60</td>\n",
       "      <td>RL</td>\n",
       "      <td>84.0</td>\n",
       "      <td>14260</td>\n",
       "      <td>Pave</td>\n",
       "      <td>NaN</td>\n",
       "      <td>IR1</td>\n",
       "      <td>Lvl</td>\n",
       "      <td>AllPub</td>\n",
       "      <td>FR2</td>\n",
       "      <td>Gtl</td>\n",
       "      <td>NoRidge</td>\n",
       "      <td>Norm</td>\n",
       "      <td>Norm</td>\n",
       "      <td>1Fam</td>\n",
       "      <td>2Story</td>\n",
       "      <td>8</td>\n",
       "      <td>5</td>\n",
       "      <td>2000</td>\n",
       "      <td>2000</td>\n",
       "      <td>Gable</td>\n",
       "      <td>CompShg</td>\n",
       "      <td>VinylSd</td>\n",
       "      <td>VinylSd</td>\n",
       "      <td>BrkFace</td>\n",
       "      <td>350.0</td>\n",
       "      <td>Gd</td>\n",
       "      <td>TA</td>\n",
       "      <td>PConc</td>\n",
       "      <td>Gd</td>\n",
       "      <td>TA</td>\n",
       "      <td>Av</td>\n",
       "      <td>GLQ</td>\n",
       "      <td>655</td>\n",
       "      <td>Unf</td>\n",
       "      <td>0</td>\n",
       "      <td>490</td>\n",
       "      <td>1145</td>\n",
       "      <td>GasA</td>\n",
       "      <td>Ex</td>\n",
       "      <td>Y</td>\n",
       "      <td>SBrkr</td>\n",
       "      <td>1145</td>\n",
       "      <td>1053</td>\n",
       "      <td>0</td>\n",
       "      <td>2198</td>\n",
       "      <td>1</td>\n",
       "      <td>0</td>\n",
       "      <td>2</td>\n",
       "      <td>1</td>\n",
       "      <td>4</td>\n",
       "      <td>1</td>\n",
       "      <td>Gd</td>\n",
       "      <td>9</td>\n",
       "      <td>Typ</td>\n",
       "      <td>1</td>\n",
       "      <td>TA</td>\n",
       "      <td>Attchd</td>\n",
       "      <td>2000.0</td>\n",
       "      <td>RFn</td>\n",
       "      <td>3</td>\n",
       "      <td>836</td>\n",
       "      <td>TA</td>\n",
       "      <td>TA</td>\n",
       "      <td>Y</td>\n",
       "      <td>192</td>\n",
       "      <td>84</td>\n",
       "      <td>0</td>\n",
       "      <td>0</td>\n",
       "      <td>0</td>\n",
       "      <td>0</td>\n",
       "      <td>NaN</td>\n",
       "      <td>NaN</td>\n",
       "      <td>NaN</td>\n",
       "      <td>0</td>\n",
       "      <td>12</td>\n",
       "      <td>2008</td>\n",
       "      <td>WD</td>\n",
       "      <td>Normal</td>\n",
       "      <td>250000</td>\n",
       "    </tr>\n",
       "  </tbody>\n",
       "</table>\n",
       "</div>"
      ],
      "text/plain": [
       "   Id MSSubClass MSZoning  LotFrontage  LotArea Street Alley LotShape  \\\n",
       "0   1         60       RL         65.0     8450   Pave   NaN      Reg   \n",
       "1   2         20       RL         80.0     9600   Pave   NaN      Reg   \n",
       "2   3         60       RL         68.0    11250   Pave   NaN      IR1   \n",
       "3   4         70       RL         60.0     9550   Pave   NaN      IR1   \n",
       "4   5         60       RL         84.0    14260   Pave   NaN      IR1   \n",
       "\n",
       "  LandContour Utilities LotConfig LandSlope Neighborhood Condition1  \\\n",
       "0         Lvl    AllPub    Inside       Gtl      CollgCr       Norm   \n",
       "1         Lvl    AllPub       FR2       Gtl      Veenker      Feedr   \n",
       "2         Lvl    AllPub    Inside       Gtl      CollgCr       Norm   \n",
       "3         Lvl    AllPub    Corner       Gtl      Crawfor       Norm   \n",
       "4         Lvl    AllPub       FR2       Gtl      NoRidge       Norm   \n",
       "\n",
       "  Condition2 BldgType HouseStyle  OverallQual  OverallCond  YearBuilt  \\\n",
       "0       Norm     1Fam     2Story            7            5       2003   \n",
       "1       Norm     1Fam     1Story            6            8       1976   \n",
       "2       Norm     1Fam     2Story            7            5       2001   \n",
       "3       Norm     1Fam     2Story            7            5       1915   \n",
       "4       Norm     1Fam     2Story            8            5       2000   \n",
       "\n",
       "   YearRemodAdd RoofStyle RoofMatl Exterior1st Exterior2nd MasVnrType  \\\n",
       "0          2003     Gable  CompShg     VinylSd     VinylSd    BrkFace   \n",
       "1          1976     Gable  CompShg     MetalSd     MetalSd       None   \n",
       "2          2002     Gable  CompShg     VinylSd     VinylSd    BrkFace   \n",
       "3          1970     Gable  CompShg     Wd Sdng     Wd Shng       None   \n",
       "4          2000     Gable  CompShg     VinylSd     VinylSd    BrkFace   \n",
       "\n",
       "   MasVnrArea ExterQual ExterCond Foundation BsmtQual BsmtCond BsmtExposure  \\\n",
       "0       196.0        Gd        TA      PConc       Gd       TA           No   \n",
       "1         0.0        TA        TA     CBlock       Gd       TA           Gd   \n",
       "2       162.0        Gd        TA      PConc       Gd       TA           Mn   \n",
       "3         0.0        TA        TA     BrkTil       TA       Gd           No   \n",
       "4       350.0        Gd        TA      PConc       Gd       TA           Av   \n",
       "\n",
       "  BsmtFinType1  BsmtFinSF1 BsmtFinType2  BsmtFinSF2  BsmtUnfSF  TotalBsmtSF  \\\n",
       "0          GLQ         706          Unf           0        150          856   \n",
       "1          ALQ         978          Unf           0        284         1262   \n",
       "2          GLQ         486          Unf           0        434          920   \n",
       "3          ALQ         216          Unf           0        540          756   \n",
       "4          GLQ         655          Unf           0        490         1145   \n",
       "\n",
       "  Heating HeatingQC CentralAir Electrical  1stFlrSF  2ndFlrSF  LowQualFinSF  \\\n",
       "0    GasA        Ex          Y      SBrkr       856       854             0   \n",
       "1    GasA        Ex          Y      SBrkr      1262         0             0   \n",
       "2    GasA        Ex          Y      SBrkr       920       866             0   \n",
       "3    GasA        Gd          Y      SBrkr       961       756             0   \n",
       "4    GasA        Ex          Y      SBrkr      1145      1053             0   \n",
       "\n",
       "   GrLivArea  BsmtFullBath  BsmtHalfBath  FullBath  HalfBath  BedroomAbvGr  \\\n",
       "0       1710             1             0         2         1             3   \n",
       "1       1262             0             1         2         0             3   \n",
       "2       1786             1             0         2         1             3   \n",
       "3       1717             1             0         1         0             3   \n",
       "4       2198             1             0         2         1             4   \n",
       "\n",
       "   KitchenAbvGr KitchenQual  TotRmsAbvGrd Functional  Fireplaces FireplaceQu  \\\n",
       "0             1          Gd             8        Typ           0         NaN   \n",
       "1             1          TA             6        Typ           1          TA   \n",
       "2             1          Gd             6        Typ           1          TA   \n",
       "3             1          Gd             7        Typ           1          Gd   \n",
       "4             1          Gd             9        Typ           1          TA   \n",
       "\n",
       "  GarageType  GarageYrBlt GarageFinish  GarageCars  GarageArea GarageQual  \\\n",
       "0     Attchd       2003.0          RFn           2         548         TA   \n",
       "1     Attchd       1976.0          RFn           2         460         TA   \n",
       "2     Attchd       2001.0          RFn           2         608         TA   \n",
       "3     Detchd       1998.0          Unf           3         642         TA   \n",
       "4     Attchd       2000.0          RFn           3         836         TA   \n",
       "\n",
       "  GarageCond PavedDrive  WoodDeckSF  OpenPorchSF  EnclosedPorch  3SsnPorch  \\\n",
       "0         TA          Y           0           61              0          0   \n",
       "1         TA          Y         298            0              0          0   \n",
       "2         TA          Y           0           42              0          0   \n",
       "3         TA          Y           0           35            272          0   \n",
       "4         TA          Y         192           84              0          0   \n",
       "\n",
       "   ScreenPorch  PoolArea PoolQC Fence MiscFeature  MiscVal MoSold  YrSold  \\\n",
       "0            0         0    NaN   NaN         NaN        0      2    2008   \n",
       "1            0         0    NaN   NaN         NaN        0      5    2007   \n",
       "2            0         0    NaN   NaN         NaN        0      9    2008   \n",
       "3            0         0    NaN   NaN         NaN        0      2    2006   \n",
       "4            0         0    NaN   NaN         NaN        0     12    2008   \n",
       "\n",
       "  SaleType SaleCondition  SalePrice  \n",
       "0       WD        Normal     208500  \n",
       "1       WD        Normal     181500  \n",
       "2       WD        Normal     223500  \n",
       "3       WD       Abnorml     140000  \n",
       "4       WD        Normal     250000  "
      ]
     },
     "execution_count": 243,
     "metadata": {},
     "output_type": "execute_result"
    }
   ],
   "source": [
    "pd.set_option('display.max_columns', None)\n",
    "\n",
    "housing.head()"
   ]
  },
  {
   "cell_type": "code",
   "execution_count": null,
   "id": "f4a82b53",
   "metadata": {},
   "outputs": [],
   "source": []
  },
  {
   "cell_type": "code",
   "execution_count": 3,
   "id": "6a207b8e",
   "metadata": {},
   "outputs": [
    {
     "data": {
      "text/plain": [
       "(1460, 81)"
      ]
     },
     "execution_count": 3,
     "metadata": {},
     "output_type": "execute_result"
    }
   ],
   "source": [
    "housing.shape"
   ]
  },
  {
   "cell_type": "code",
   "execution_count": 132,
   "id": "ac46586f",
   "metadata": {},
   "outputs": [
    {
     "data": {
      "image/png": "[encoded data removed]",
      "text/plain": [
       "<Figure size 432x288 with 1 Axes>"
      ]
     },
     "metadata": {},
     "output_type": "display_data"
    }
   ],
   "source": [
    "sns.histplot(data=housing, x='SalePrice', bins=20);"
   ]
  },
  {
   "cell_type": "code",
   "execution_count": 244,
   "id": "c1b2ed30",
   "metadata": {},
   "outputs": [],
   "source": [
    "housing['log_price'] = np.log(housing['SalePrice'])"
   ]
  },
  {
   "cell_type": "code",
   "execution_count": 137,
   "id": "298d5002",
   "metadata": {},
   "outputs": [
    {
     "data": {
      "image/png": "[encoded data removed]",
      "text/plain": [
       "<Figure size 432x288 with 1 Axes>"
      ]
     },
     "metadata": {},
     "output_type": "display_data"
    }
   ],
   "source": [
    "sns.histplot(data=housing, x='log_price', bins=20);"
   ]
  },
  {
   "cell_type": "code",
   "execution_count": 140,
   "id": "91a942e2",
   "metadata": {},
   "outputs": [],
   "source": [
    "# housing.info()"
   ]
  },
  {
   "cell_type": "code",
   "execution_count": null,
   "id": "225d0d0b",
   "metadata": {},
   "outputs": [],
   "source": [
    "sns.histplot(data=housing, x='SalePrice', bins=20);"
   ]
  },
  {
   "cell_type": "code",
   "execution_count": 117,
   "id": "eac94757",
   "metadata": {},
   "outputs": [],
   "source": [
    "# housing.info()"
   ]
  },
  {
   "cell_type": "code",
   "execution_count": 4,
   "id": "1b0d7181",
   "metadata": {},
   "outputs": [
    {
     "data": {
      "text/plain": [
       "Index(['Id', 'MSSubClass', 'MSZoning', 'LotFrontage', 'LotArea', 'Street',\n",
       "       'Alley', 'LotShape', 'LandContour', 'Utilities', 'LotConfig',\n",
       "       'LandSlope', 'Neighborhood', 'Condition1', 'Condition2', 'BldgType',\n",
       "       'HouseStyle', 'OverallQual', 'OverallCond', 'YearBuilt', 'YearRemodAdd',\n",
       "       'RoofStyle', 'RoofMatl', 'Exterior1st', 'Exterior2nd', 'MasVnrType',\n",
       "       'MasVnrArea', 'ExterQual', 'ExterCond', 'Foundation', 'BsmtQual',\n",
       "       'BsmtCond', 'BsmtExposure', 'BsmtFinType1', 'BsmtFinSF1',\n",
       "       'BsmtFinType2', 'BsmtFinSF2', 'BsmtUnfSF', 'TotalBsmtSF', 'Heating',\n",
       "       'HeatingQC', 'CentralAir', 'Electrical', '1stFlrSF', '2ndFlrSF',\n",
       "       'LowQualFinSF', 'GrLivArea', 'BsmtFullBath', 'BsmtHalfBath', 'FullBath',\n",
       "       'HalfBath', 'BedroomAbvGr', 'KitchenAbvGr', 'KitchenQual',\n",
       "       'TotRmsAbvGrd', 'Functional', 'Fireplaces', 'FireplaceQu', 'GarageType',\n",
       "       'GarageYrBlt', 'GarageFinish', 'GarageCars', 'GarageArea', 'GarageQual',\n",
       "       'GarageCond', 'PavedDrive', 'WoodDeckSF', 'OpenPorchSF',\n",
       "       'EnclosedPorch', '3SsnPorch', 'ScreenPorch', 'PoolArea', 'PoolQC',\n",
       "       'Fence', 'MiscFeature', 'MiscVal', 'MoSold', 'YrSold', 'SaleType',\n",
       "       'SaleCondition', 'SalePrice'],\n",
       "      dtype='object')"
      ]
     },
     "execution_count": 4,
     "metadata": {},
     "output_type": "execute_result"
    }
   ],
   "source": [
    "housing.columns"
   ]
  },
  {
   "cell_type": "code",
   "execution_count": 5,
   "id": "af0f04ef",
   "metadata": {},
   "outputs": [],
   "source": [
    "def miss_cols(df):\n",
    "    missing = np.sum(df.isnull(),axis=0)\n",
    "    \n",
    "    miss_ind = np.sum(df.isnull(),axis=0) > 0\n",
    "    \n",
    "    vals = pd.Series(filter(lambda x: x != 0,missing))\n",
    "     \n",
    "    cols_miss = df.columns[miss_ind]\n",
    "\n",
    "    L=list(zip(cols_miss,vals, round(vals/df.shape[0],4)))\n",
    "    \n",
    "    return sorted(L,reverse=True,key=lambda x: x[2])  "
   ]
  },
  {
   "cell_type": "code",
   "execution_count": 120,
   "id": "d6c420b4",
   "metadata": {},
   "outputs": [
    {
     "data": {
      "text/plain": [
       "[('PoolQC', 1453, 0.9952),\n",
       " ('MiscFeature', 1406, 0.963),\n",
       " ('Alley', 1369, 0.9377),\n",
       " ('Fence', 1179, 0.8075),\n",
       " ('FireplaceQu', 690, 0.4726),\n",
       " ('LotFrontage', 259, 0.1774),\n",
       " ('GarageType', 81, 0.0555),\n",
       " ('GarageYrBlt', 81, 0.0555),\n",
       " ('GarageFinish', 81, 0.0555),\n",
       " ('GarageQual', 81, 0.0555),\n",
       " ('GarageCond', 81, 0.0555),\n",
       " ('BsmtExposure', 38, 0.026),\n",
       " ('BsmtFinType2', 38, 0.026),\n",
       " ('BsmtQual', 37, 0.0253),\n",
       " ('BsmtCond', 37, 0.0253),\n",
       " ('BsmtFinType1', 37, 0.0253),\n",
       " ('MasVnrType', 8, 0.0055),\n",
       " ('MasVnrArea', 8, 0.0055),\n",
       " ('Electrical', 1, 0.0007)]"
      ]
     },
     "execution_count": 120,
     "metadata": {},
     "output_type": "execute_result"
    }
   ],
   "source": [
    "miss_cols(housing) #list of columns with missing values and the quantity of missing values for housing df"
   ]
  },
  {
   "cell_type": "code",
   "execution_count": 357,
   "id": "ad2873fd",
   "metadata": {},
   "outputs": [],
   "source": [
    "def proc_freq(df,variable_):  #Note variable_ must be given in quotes example: variable_ = 'xyz'\n",
    "    datax = df[variable_].value_counts().sort_index()\n",
    "    \n",
    "    datay = pd.DataFrame({\n",
    "        variable_: datax.index,\n",
    "        'Frequency': datax.values,\n",
    "        'Percent': ((datax.values/datax.values.sum())*100).round(2),\n",
    "        'Cumulative_Frequency': datax.values.cumsum(),\n",
    "        'Cumulative_Percent': ((datax.values.cumsum()/datax.values.sum())*100).round(2)   })\n",
    "    \n",
    "    #datay.set_index(variable_)\n",
    "    #return(datay.set_index(variable_))\n",
    "    return(datay)"
   ]
  },
  {
   "cell_type": "code",
   "execution_count": 361,
   "id": "7c9e67a7",
   "metadata": {},
   "outputs": [],
   "source": [
    "housing2 = housing.copy()"
   ]
  },
  {
   "cell_type": "code",
   "execution_count": 383,
   "id": "f77234d7",
   "metadata": {},
   "outputs": [],
   "source": [
    "def  dummify(feature):\n",
    "    dummy_name = 'd_' + feature\n",
    "    dummy_name = pd.get_dummies( housing2, prefix = feature, prefix_sep='__', columns=[feature], drop_first=True)\n",
    "    #gets rid of first occurence;  By default drop_first = False\n",
    "    return(dummy_name)\n",
    "\n",
    "# function doesn't work it overwrites the previous"
   ]
  },
  {
   "cell_type": "code",
   "execution_count": 388,
   "id": "fa5c6cef",
   "metadata": {},
   "outputs": [],
   "source": [
    " "
   ]
  },
  {
   "cell_type": "markdown",
   "id": "1b4555ce",
   "metadata": {},
   "source": [
    "# Identify numeric features"
   ]
  },
  {
   "cell_type": "code",
   "execution_count": 319,
   "id": "aaeab407",
   "metadata": {},
   "outputs": [
    {
     "name": "stdout",
     "output_type": "stream",
     "text": [
      "<class 'pandas.core.frame.DataFrame'>\n",
      "RangeIndex: 1460 entries, 0 to 1459\n",
      "Data columns (total 49 columns):\n",
      " #   Column           Non-Null Count  Dtype  \n",
      "---  ------           --------------  -----  \n",
      " 0   Id               1460 non-null   int64  \n",
      " 1   LotFrontage      1460 non-null   float64\n",
      " 2   LotArea          1460 non-null   int64  \n",
      " 3   OverallQual      1460 non-null   int64  \n",
      " 4   OverallCond      1460 non-null   int64  \n",
      " 5   YearBuilt        1460 non-null   int64  \n",
      " 6   YearRemodAdd     1460 non-null   int64  \n",
      " 7   MasVnrArea       1460 non-null   float64\n",
      " 8   BsmtFinSF1       1460 non-null   int64  \n",
      " 9   BsmtFinSF2       1460 non-null   int64  \n",
      " 10  BsmtUnfSF        1460 non-null   int64  \n",
      " 11  TotalBsmtSF      1460 non-null   int64  \n",
      " 12  1stFlrSF         1460 non-null   int64  \n",
      " 13  2ndFlrSF         1460 non-null   int64  \n",
      " 14  LowQualFinSF     1460 non-null   int64  \n",
      " 15  GrLivArea        1460 non-null   int64  \n",
      " 16  BsmtFullBath     1460 non-null   int64  \n",
      " 17  BsmtHalfBath     1460 non-null   int64  \n",
      " 18  FullBath         1460 non-null   int64  \n",
      " 19  HalfBath         1460 non-null   int64  \n",
      " 20  BedroomAbvGr     1460 non-null   int64  \n",
      " 21  KitchenAbvGr     1460 non-null   int64  \n",
      " 22  TotRmsAbvGrd     1460 non-null   int64  \n",
      " 23  Fireplaces       1460 non-null   int64  \n",
      " 24  GarageYrBlt      1379 non-null   float64\n",
      " 25  GarageCars       1460 non-null   int64  \n",
      " 26  GarageArea       1460 non-null   int64  \n",
      " 27  WoodDeckSF       1460 non-null   int64  \n",
      " 28  OpenPorchSF      1460 non-null   int64  \n",
      " 29  EnclosedPorch    1460 non-null   int64  \n",
      " 30  3SsnPorch        1460 non-null   int64  \n",
      " 31  ScreenPorch      1460 non-null   int64  \n",
      " 32  PoolArea         1460 non-null   int64  \n",
      " 33  MiscVal          1460 non-null   int64  \n",
      " 34  YrSold           1460 non-null   int64  \n",
      " 35  SalePrice        1460 non-null   int64  \n",
      " 36  log_price        1460 non-null   float64\n",
      " 37  log_GrLivArea    1460 non-null   float64\n",
      " 38  bc_GrLivArea     1460 non-null   float64\n",
      " 39  log_LotArea      1460 non-null   float64\n",
      " 40  bc_LotArea       1460 non-null   float64\n",
      " 41  log_MasVnrArea   1460 non-null   float64\n",
      " 42  yeo_TotalBsmtSF  1460 non-null   float64\n",
      " 43  log_first_FlrSF  1460 non-null   float64\n",
      " 44  yeo_GarageArea   1460 non-null   float64\n",
      " 45  yeo_BsmtFinSF1   1460 non-null   float64\n",
      " 46  log_BsmtFinSF1   1460 non-null   float64\n",
      " 47  log_WoodDeckSF   1460 non-null   float64\n",
      " 48  log_OpenPorchSF  1460 non-null   float64\n",
      "dtypes: float64(16), int64(33)\n",
      "memory usage: 559.0 KB\n"
     ]
    }
   ],
   "source": [
    "df_num = housing.select_dtypes(include=['int64','float64'])\n",
    "df_num.info()\n"
   ]
  },
  {
   "cell_type": "code",
   "execution_count": 313,
   "id": "b0e285ef",
   "metadata": {},
   "outputs": [
    {
     "data": {
      "text/plain": [
       "[('LotFrontage', 259, 0.1774),\n",
       " ('GarageYrBlt', 81, 0.0555),\n",
       " ('MasVnrArea', 8, 0.0055)]"
      ]
     },
     "execution_count": 313,
     "metadata": {},
     "output_type": "execute_result"
    }
   ],
   "source": [
    "miss_cols(df_num) #numeric cols with missing values"
   ]
  },
  {
   "cell_type": "markdown",
   "id": "189dcd5d",
   "metadata": {},
   "source": [
    "# impute numerics"
   ]
  },
  {
   "cell_type": "code",
   "execution_count": 321,
   "id": "7da6db38",
   "metadata": {},
   "outputs": [],
   "source": [
    "housing.MasVnrArea = housing.MasVnrArea.fillna(0)\n",
    "\n",
    "housing.LotFrontage = housing.LotFrontage.fillna(0)"
   ]
  },
  {
   "cell_type": "code",
   "execution_count": 320,
   "id": "f70279e5",
   "metadata": {},
   "outputs": [
    {
     "data": {
      "text/plain": [
       "[('GarageYrBlt', 81, 0.0555)]"
      ]
     },
     "execution_count": 320,
     "metadata": {},
     "output_type": "execute_result"
    }
   ],
   "source": [
    "miss_cols(df_num)"
   ]
  },
  {
   "cell_type": "code",
   "execution_count": 245,
   "id": "1d648d62",
   "metadata": {},
   "outputs": [
    {
     "data": {
      "text/html": [
       "<div>\n",
       "<style scoped>\n",
       "    .dataframe tbody tr th:only-of-type {\n",
       "        vertical-align: middle;\n",
       "    }\n",
       "\n",
       "    .dataframe tbody tr th {\n",
       "        vertical-align: top;\n",
       "    }\n",
       "\n",
       "    .dataframe thead th {\n",
       "        text-align: right;\n",
       "    }\n",
       "</style>\n",
       "<table border=\"1\" class=\"dataframe\">\n",
       "  <thead>\n",
       "    <tr style=\"text-align: right;\">\n",
       "      <th></th>\n",
       "      <th>LotArea</th>\n",
       "      <th>MasVnrArea</th>\n",
       "      <th>BsmtUnfSF</th>\n",
       "      <th>TotalBsmtSF</th>\n",
       "      <th>1stFlrSF</th>\n",
       "      <th>2ndFlrSF</th>\n",
       "      <th>LowQualFinSF</th>\n",
       "      <th>GrLivArea</th>\n",
       "      <th>GarageArea</th>\n",
       "      <th>WoodDeckSF</th>\n",
       "      <th>OpenPorchSF</th>\n",
       "      <th>PoolArea</th>\n",
       "    </tr>\n",
       "  </thead>\n",
       "  <tbody>\n",
       "    <tr>\n",
       "      <th>0</th>\n",
       "      <td>8450</td>\n",
       "      <td>196.0</td>\n",
       "      <td>150</td>\n",
       "      <td>856</td>\n",
       "      <td>856</td>\n",
       "      <td>854</td>\n",
       "      <td>0</td>\n",
       "      <td>1710</td>\n",
       "      <td>548</td>\n",
       "      <td>0</td>\n",
       "      <td>61</td>\n",
       "      <td>0</td>\n",
       "    </tr>\n",
       "    <tr>\n",
       "      <th>1</th>\n",
       "      <td>9600</td>\n",
       "      <td>0.0</td>\n",
       "      <td>284</td>\n",
       "      <td>1262</td>\n",
       "      <td>1262</td>\n",
       "      <td>0</td>\n",
       "      <td>0</td>\n",
       "      <td>1262</td>\n",
       "      <td>460</td>\n",
       "      <td>298</td>\n",
       "      <td>0</td>\n",
       "      <td>0</td>\n",
       "    </tr>\n",
       "    <tr>\n",
       "      <th>2</th>\n",
       "      <td>11250</td>\n",
       "      <td>162.0</td>\n",
       "      <td>434</td>\n",
       "      <td>920</td>\n",
       "      <td>920</td>\n",
       "      <td>866</td>\n",
       "      <td>0</td>\n",
       "      <td>1786</td>\n",
       "      <td>608</td>\n",
       "      <td>0</td>\n",
       "      <td>42</td>\n",
       "      <td>0</td>\n",
       "    </tr>\n",
       "    <tr>\n",
       "      <th>3</th>\n",
       "      <td>9550</td>\n",
       "      <td>0.0</td>\n",
       "      <td>540</td>\n",
       "      <td>756</td>\n",
       "      <td>961</td>\n",
       "      <td>756</td>\n",
       "      <td>0</td>\n",
       "      <td>1717</td>\n",
       "      <td>642</td>\n",
       "      <td>0</td>\n",
       "      <td>35</td>\n",
       "      <td>0</td>\n",
       "    </tr>\n",
       "    <tr>\n",
       "      <th>4</th>\n",
       "      <td>14260</td>\n",
       "      <td>350.0</td>\n",
       "      <td>490</td>\n",
       "      <td>1145</td>\n",
       "      <td>1145</td>\n",
       "      <td>1053</td>\n",
       "      <td>0</td>\n",
       "      <td>2198</td>\n",
       "      <td>836</td>\n",
       "      <td>192</td>\n",
       "      <td>84</td>\n",
       "      <td>0</td>\n",
       "    </tr>\n",
       "  </tbody>\n",
       "</table>\n",
       "</div>"
      ],
      "text/plain": [
       "   LotArea  MasVnrArea  BsmtUnfSF  TotalBsmtSF  1stFlrSF  2ndFlrSF  \\\n",
       "0     8450       196.0        150          856       856       854   \n",
       "1     9600         0.0        284         1262      1262         0   \n",
       "2    11250       162.0        434          920       920       866   \n",
       "3     9550         0.0        540          756       961       756   \n",
       "4    14260       350.0        490         1145      1145      1053   \n",
       "\n",
       "   LowQualFinSF  GrLivArea  GarageArea  WoodDeckSF  OpenPorchSF  PoolArea  \n",
       "0             0       1710         548           0           61         0  \n",
       "1             0       1262         460         298            0         0  \n",
       "2             0       1786         608           0           42         0  \n",
       "3             0       1717         642           0           35         0  \n",
       "4             0       2198         836         192           84         0  "
      ]
     },
     "execution_count": 245,
     "metadata": {},
     "output_type": "execute_result"
    }
   ],
   "source": [
    "price        = housing['SalePrice']\n",
    "size_related = housing.filter(regex='SF$|Area$')\n",
    "size_related.head()"
   ]
  },
  {
   "cell_type": "code",
   "execution_count": 246,
   "id": "409cfe21",
   "metadata": {},
   "outputs": [
    {
     "data": {
      "text/plain": [
       "LotArea         0\n",
       "MasVnrArea      8\n",
       "BsmtUnfSF       0\n",
       "TotalBsmtSF     0\n",
       "1stFlrSF        0\n",
       "2ndFlrSF        0\n",
       "LowQualFinSF    0\n",
       "GrLivArea       0\n",
       "GarageArea      0\n",
       "WoodDeckSF      0\n",
       "OpenPorchSF     0\n",
       "PoolArea        0\n",
       "dtype: int64"
      ]
     },
     "execution_count": 246,
     "metadata": {},
     "output_type": "execute_result"
    }
   ],
   "source": [
    "size_related.isnull().sum(axis=0)\n"
   ]
  },
  {
   "cell_type": "code",
   "execution_count": 247,
   "id": "7c2f02f2",
   "metadata": {},
   "outputs": [],
   "source": [
    "size_related = size_related.fillna(0.0)  \n",
    "# We fill the very minor missing values by 0.0 since if missing probably doesn't have a garage, masonry veneer, basement \n"
   ]
  },
  {
   "cell_type": "code",
   "execution_count": 248,
   "id": "1036a596",
   "metadata": {
    "scrolled": true
   },
   "outputs": [
    {
     "data": {
      "text/html": [
       "<div>\n",
       "<style scoped>\n",
       "    .dataframe tbody tr th:only-of-type {\n",
       "        vertical-align: middle;\n",
       "    }\n",
       "\n",
       "    .dataframe tbody tr th {\n",
       "        vertical-align: top;\n",
       "    }\n",
       "\n",
       "    .dataframe thead th {\n",
       "        text-align: right;\n",
       "    }\n",
       "</style>\n",
       "<table border=\"1\" class=\"dataframe\">\n",
       "  <thead>\n",
       "    <tr style=\"text-align: right;\">\n",
       "      <th></th>\n",
       "      <th>LotArea</th>\n",
       "      <th>MasVnrArea</th>\n",
       "      <th>BsmtUnfSF</th>\n",
       "      <th>TotalBsmtSF</th>\n",
       "      <th>1stFlrSF</th>\n",
       "      <th>2ndFlrSF</th>\n",
       "      <th>LowQualFinSF</th>\n",
       "      <th>GrLivArea</th>\n",
       "      <th>GarageArea</th>\n",
       "      <th>WoodDeckSF</th>\n",
       "      <th>OpenPorchSF</th>\n",
       "      <th>PoolArea</th>\n",
       "    </tr>\n",
       "  </thead>\n",
       "  <tbody>\n",
       "    <tr>\n",
       "      <th>count</th>\n",
       "      <td>1460.000000</td>\n",
       "      <td>1460.000000</td>\n",
       "      <td>1460.000000</td>\n",
       "      <td>1460.000000</td>\n",
       "      <td>1460.000000</td>\n",
       "      <td>1460.000000</td>\n",
       "      <td>1460.000000</td>\n",
       "      <td>1460.000000</td>\n",
       "      <td>1460.000000</td>\n",
       "      <td>1460.000000</td>\n",
       "      <td>1460.000000</td>\n",
       "      <td>1460.000000</td>\n",
       "    </tr>\n",
       "    <tr>\n",
       "      <th>mean</th>\n",
       "      <td>10516.828082</td>\n",
       "      <td>103.117123</td>\n",
       "      <td>567.240411</td>\n",
       "      <td>1057.429452</td>\n",
       "      <td>1162.626712</td>\n",
       "      <td>346.992466</td>\n",
       "      <td>5.844521</td>\n",
       "      <td>1515.463699</td>\n",
       "      <td>472.980137</td>\n",
       "      <td>94.244521</td>\n",
       "      <td>46.660274</td>\n",
       "      <td>2.758904</td>\n",
       "    </tr>\n",
       "    <tr>\n",
       "      <th>std</th>\n",
       "      <td>9981.264932</td>\n",
       "      <td>180.731373</td>\n",
       "      <td>441.866955</td>\n",
       "      <td>438.705324</td>\n",
       "      <td>386.587738</td>\n",
       "      <td>436.528436</td>\n",
       "      <td>48.623081</td>\n",
       "      <td>525.480383</td>\n",
       "      <td>213.804841</td>\n",
       "      <td>125.338794</td>\n",
       "      <td>66.256028</td>\n",
       "      <td>40.177307</td>\n",
       "    </tr>\n",
       "    <tr>\n",
       "      <th>min</th>\n",
       "      <td>1300.000000</td>\n",
       "      <td>0.000000</td>\n",
       "      <td>0.000000</td>\n",
       "      <td>0.000000</td>\n",
       "      <td>334.000000</td>\n",
       "      <td>0.000000</td>\n",
       "      <td>0.000000</td>\n",
       "      <td>334.000000</td>\n",
       "      <td>0.000000</td>\n",
       "      <td>0.000000</td>\n",
       "      <td>0.000000</td>\n",
       "      <td>0.000000</td>\n",
       "    </tr>\n",
       "    <tr>\n",
       "      <th>25%</th>\n",
       "      <td>7553.500000</td>\n",
       "      <td>0.000000</td>\n",
       "      <td>223.000000</td>\n",
       "      <td>795.750000</td>\n",
       "      <td>882.000000</td>\n",
       "      <td>0.000000</td>\n",
       "      <td>0.000000</td>\n",
       "      <td>1129.500000</td>\n",
       "      <td>334.500000</td>\n",
       "      <td>0.000000</td>\n",
       "      <td>0.000000</td>\n",
       "      <td>0.000000</td>\n",
       "    </tr>\n",
       "    <tr>\n",
       "      <th>50%</th>\n",
       "      <td>9478.500000</td>\n",
       "      <td>0.000000</td>\n",
       "      <td>477.500000</td>\n",
       "      <td>991.500000</td>\n",
       "      <td>1087.000000</td>\n",
       "      <td>0.000000</td>\n",
       "      <td>0.000000</td>\n",
       "      <td>1464.000000</td>\n",
       "      <td>480.000000</td>\n",
       "      <td>0.000000</td>\n",
       "      <td>25.000000</td>\n",
       "      <td>0.000000</td>\n",
       "    </tr>\n",
       "    <tr>\n",
       "      <th>75%</th>\n",
       "      <td>11601.500000</td>\n",
       "      <td>164.250000</td>\n",
       "      <td>808.000000</td>\n",
       "      <td>1298.250000</td>\n",
       "      <td>1391.250000</td>\n",
       "      <td>728.000000</td>\n",
       "      <td>0.000000</td>\n",
       "      <td>1776.750000</td>\n",
       "      <td>576.000000</td>\n",
       "      <td>168.000000</td>\n",
       "      <td>68.000000</td>\n",
       "      <td>0.000000</td>\n",
       "    </tr>\n",
       "    <tr>\n",
       "      <th>max</th>\n",
       "      <td>215245.000000</td>\n",
       "      <td>1600.000000</td>\n",
       "      <td>2336.000000</td>\n",
       "      <td>6110.000000</td>\n",
       "      <td>4692.000000</td>\n",
       "      <td>2065.000000</td>\n",
       "      <td>572.000000</td>\n",
       "      <td>5642.000000</td>\n",
       "      <td>1418.000000</td>\n",
       "      <td>857.000000</td>\n",
       "      <td>547.000000</td>\n",
       "      <td>738.000000</td>\n",
       "    </tr>\n",
       "  </tbody>\n",
       "</table>\n",
       "</div>"
      ],
      "text/plain": [
       "             LotArea   MasVnrArea    BsmtUnfSF  TotalBsmtSF     1stFlrSF  \\\n",
       "count    1460.000000  1460.000000  1460.000000  1460.000000  1460.000000   \n",
       "mean    10516.828082   103.117123   567.240411  1057.429452  1162.626712   \n",
       "std      9981.264932   180.731373   441.866955   438.705324   386.587738   \n",
       "min      1300.000000     0.000000     0.000000     0.000000   334.000000   \n",
       "25%      7553.500000     0.000000   223.000000   795.750000   882.000000   \n",
       "50%      9478.500000     0.000000   477.500000   991.500000  1087.000000   \n",
       "75%     11601.500000   164.250000   808.000000  1298.250000  1391.250000   \n",
       "max    215245.000000  1600.000000  2336.000000  6110.000000  4692.000000   \n",
       "\n",
       "          2ndFlrSF  LowQualFinSF    GrLivArea   GarageArea   WoodDeckSF  \\\n",
       "count  1460.000000   1460.000000  1460.000000  1460.000000  1460.000000   \n",
       "mean    346.992466      5.844521  1515.463699   472.980137    94.244521   \n",
       "std     436.528436     48.623081   525.480383   213.804841   125.338794   \n",
       "min       0.000000      0.000000   334.000000     0.000000     0.000000   \n",
       "25%       0.000000      0.000000  1129.500000   334.500000     0.000000   \n",
       "50%       0.000000      0.000000  1464.000000   480.000000     0.000000   \n",
       "75%     728.000000      0.000000  1776.750000   576.000000   168.000000   \n",
       "max    2065.000000    572.000000  5642.000000  1418.000000   857.000000   \n",
       "\n",
       "       OpenPorchSF     PoolArea  \n",
       "count  1460.000000  1460.000000  \n",
       "mean     46.660274     2.758904  \n",
       "std      66.256028    40.177307  \n",
       "min       0.000000     0.000000  \n",
       "25%       0.000000     0.000000  \n",
       "50%      25.000000     0.000000  \n",
       "75%      68.000000     0.000000  \n",
       "max     547.000000   738.000000  "
      ]
     },
     "execution_count": 248,
     "metadata": {},
     "output_type": "execute_result"
    }
   ],
   "source": [
    "size_related.describe()"
   ]
  },
  {
   "cell_type": "code",
   "execution_count": 249,
   "id": "f5e549d7",
   "metadata": {},
   "outputs": [],
   "source": [
    "housing['log_GrLivArea'] =np.log(housing.GrLivArea)"
   ]
  },
  {
   "cell_type": "code",
   "execution_count": 250,
   "id": "cdde7678",
   "metadata": {},
   "outputs": [
    {
     "name": "stderr",
     "output_type": "stream",
     "text": [
      "*c* argument looks like a single numeric RGB or RGBA sequence, which should be avoided as value-mapping will have precedence in case its length matches with *x* & *y*.  Please use the *color* keyword-argument or provide a 2D array with a single row if you intend to specify the same RGB or RGBA value for all points.\n"
     ]
    },
    {
     "data": {
      "text/plain": [
       "<AxesSubplot:xlabel='GrLivArea', ylabel='SalePrice'>"
      ]
     },
     "execution_count": 250,
     "metadata": {},
     "output_type": "execute_result"
    },
    {
     "data": {
      "image/png": "[encoded data removed]",
      "text/plain": [
       "<Figure size 432x288 with 1 Axes>"
      ]
     },
     "metadata": {
      "needs_background": "light"
     },
     "output_type": "display_data"
    }
   ],
   "source": [
    "housing[['GrLivArea', 'SalePrice']].plot(kind='scatter', x='GrLivArea', y='SalePrice')"
   ]
  },
  {
   "cell_type": "markdown",
   "id": "a84bcc18",
   "metadata": {},
   "source": [
    "# Correlation with GrLivArea is high at 0.73"
   ]
  },
  {
   "cell_type": "code",
   "execution_count": 251,
   "id": "eb2b9f6f",
   "metadata": {},
   "outputs": [
    {
     "name": "stderr",
     "output_type": "stream",
     "text": [
      "*c* argument looks like a single numeric RGB or RGBA sequence, which should be avoided as value-mapping will have precedence in case its length matches with *x* & *y*.  Please use the *color* keyword-argument or provide a 2D array with a single row if you intend to specify the same RGB or RGBA value for all points.\n"
     ]
    },
    {
     "data": {
      "text/plain": [
       "<AxesSubplot:xlabel='GrLivArea', ylabel='SalePrice'>"
      ]
     },
     "execution_count": 251,
     "metadata": {},
     "output_type": "execute_result"
    },
    {
     "data": {
      "image/png": "[encoded data removed]",
      "text/plain": [
       "<Figure size 432x288 with 1 Axes>"
      ]
     },
     "metadata": {
      "needs_background": "light"
     },
     "output_type": "display_data"
    }
   ],
   "source": [
    "housing[['GrLivArea', 'SalePrice']].plot(kind='scatter', x='GrLivArea', y='SalePrice', logx=True, logy=True)"
   ]
  },
  {
   "cell_type": "code",
   "execution_count": 61,
   "id": "fc11ff75",
   "metadata": {},
   "outputs": [
    {
     "data": {
      "text/plain": [
       "0.7302548511982291"
      ]
     },
     "execution_count": 61,
     "metadata": {},
     "output_type": "execute_result"
    }
   ],
   "source": [
    "log_price.corr(np.log(housing['GrLivArea']))"
   ]
  },
  {
   "cell_type": "code",
   "execution_count": 252,
   "id": "da84b910",
   "metadata": {},
   "outputs": [],
   "source": [
    "housing['log_GrLivArea'] = np.log(housing.GrLivArea)"
   ]
  },
  {
   "cell_type": "code",
   "execution_count": 253,
   "id": "de4b6648",
   "metadata": {},
   "outputs": [],
   "source": [
    "housing['bc_GrLivArea'],_ = stats.boxcox(housing.GrLivArea)\n"
   ]
  },
  {
   "cell_type": "code",
   "execution_count": 219,
   "id": "dd526fa2",
   "metadata": {},
   "outputs": [
    {
     "data": {
      "text/plain": [
       "0.7302393763247905"
      ]
     },
     "execution_count": 219,
     "metadata": {},
     "output_type": "execute_result"
    }
   ],
   "source": [
    "log_price.corr((housing['bc_GrLivArea']))"
   ]
  },
  {
   "cell_type": "code",
   "execution_count": 141,
   "id": "0fde7762",
   "metadata": {},
   "outputs": [
    {
     "data": {
      "image/png": "[encoded data removed]",
      "text/plain": [
       "<Figure size 432x288 with 1 Axes>"
      ]
     },
     "metadata": {},
     "output_type": "display_data"
    }
   ],
   "source": [
    "sns.histplot(data=housing, x='log_GrLivArea', bins=20);"
   ]
  },
  {
   "cell_type": "code",
   "execution_count": 193,
   "id": "041e2827",
   "metadata": {},
   "outputs": [
    {
     "data": {
      "image/png": "[encoded data removed]",
      "text/plain": [
       "<Figure size 432x288 with 1 Axes>"
      ]
     },
     "metadata": {},
     "output_type": "display_data"
    }
   ],
   "source": [
    "sns.histplot(data=housing, x='bc_GrLivArea', bins=20);"
   ]
  },
  {
   "cell_type": "code",
   "execution_count": 254,
   "id": "7bb10bd5",
   "metadata": {},
   "outputs": [],
   "source": [
    "housing['log_price'] = np.log(price)\n"
   ]
  },
  {
   "cell_type": "markdown",
   "id": "d4beba02",
   "metadata": {},
   "source": [
    "# 'LotArea'\n",
    "\n",
    "# log_price.corr(housing['bc_LotArea']) = 0.4002"
   ]
  },
  {
   "cell_type": "code",
   "execution_count": 40,
   "id": "a24c7f91",
   "metadata": {
    "scrolled": true
   },
   "outputs": [
    {
     "data": {
      "text/plain": [
       "<AxesSubplot:xlabel='LotArea', ylabel='SalePrice'>"
      ]
     },
     "execution_count": 40,
     "metadata": {},
     "output_type": "execute_result"
    },
    {
     "data": {
      "image/png": "[encoded data removed]",
      "text/plain": [
       "<Figure size 432x288 with 1 Axes>"
      ]
     },
     "metadata": {
      "needs_background": "light"
     },
     "output_type": "display_data"
    }
   ],
   "source": [
    "\n",
    "housing[['LotArea', 'SalePrice']].plot(kind='scatter', x='LotArea', y='SalePrice')"
   ]
  },
  {
   "cell_type": "code",
   "execution_count": 148,
   "id": "5103f162",
   "metadata": {},
   "outputs": [
    {
     "data": {
      "image/png": "[encoded data removed]",
      "text/plain": [
       "<Figure size 432x288 with 1 Axes>"
      ]
     },
     "metadata": {},
     "output_type": "display_data"
    }
   ],
   "source": [
    "sns.histplot(data=housing, x='LotArea', bins=20);"
   ]
  },
  {
   "cell_type": "code",
   "execution_count": 255,
   "id": "e18f9a46",
   "metadata": {},
   "outputs": [],
   "source": [
    "housing['log_LotArea'] = np.log(housing['LotArea'])"
   ]
  },
  {
   "cell_type": "code",
   "execution_count": 152,
   "id": "2110ade6",
   "metadata": {
    "scrolled": true
   },
   "outputs": [
    {
     "data": {
      "image/png": "[encoded data removed]",
      "text/plain": [
       "<Figure size 432x288 with 1 Axes>"
      ]
     },
     "metadata": {},
     "output_type": "display_data"
    }
   ],
   "source": [
    "sns.histplot(data=housing, x='log_LotArea', bins=20);"
   ]
  },
  {
   "cell_type": "code",
   "execution_count": 256,
   "id": "8d326f9d",
   "metadata": {},
   "outputs": [
    {
     "name": "stderr",
     "output_type": "stream",
     "text": [
      "*c* argument looks like a single numeric RGB or RGBA sequence, which should be avoided as value-mapping will have precedence in case its length matches with *x* & *y*.  Please use the *color* keyword-argument or provide a 2D array with a single row if you intend to specify the same RGB or RGBA value for all points.\n"
     ]
    },
    {
     "data": {
      "text/plain": [
       "<AxesSubplot:xlabel='LotArea', ylabel='SalePrice'>"
      ]
     },
     "execution_count": 256,
     "metadata": {},
     "output_type": "execute_result"
    },
    {
     "data": {
      "image/png": "[encoded data removed]",
      "text/plain": [
       "<Figure size 432x288 with 1 Axes>"
      ]
     },
     "metadata": {
      "needs_background": "light"
     },
     "output_type": "display_data"
    }
   ],
   "source": [
    "housing[['LotArea', 'SalePrice']].plot(kind='scatter', x='LotArea', y='SalePrice',logx=True, logy=True)"
   ]
  },
  {
   "cell_type": "code",
   "execution_count": 150,
   "id": "f82ffcb6",
   "metadata": {},
   "outputs": [
    {
     "data": {
      "text/plain": [
       "0.39991774112559053"
      ]
     },
     "execution_count": 150,
     "metadata": {},
     "output_type": "execute_result"
    }
   ],
   "source": [
    "log_price.corr(np.log(housing['LotArea'])) "
   ]
  },
  {
   "cell_type": "code",
   "execution_count": null,
   "id": "0f770a1a",
   "metadata": {},
   "outputs": [],
   "source": [
    "LotArea = housing[['LotArea']]"
   ]
  },
  {
   "cell_type": "code",
   "execution_count": 149,
   "id": "8635e708",
   "metadata": {},
   "outputs": [],
   "source": [
    "Nbr_quantile = housing.groupby('Neighborhood')['GrLivArea'].quantile(0.8)  #bottom 80 percent of gross living are\n",
    "joint_Nbr_quantile = pd.merge(housing[['Neighborhood']], Nbr_quantile, how='left', left_on='Neighborhood', right_index=True)"
   ]
  },
  {
   "cell_type": "code",
   "execution_count": 170,
   "id": "8221d181",
   "metadata": {},
   "outputs": [],
   "source": [
    "from scipy import stats\n",
    "\n",
    "import matplotlib.pyplot as plt"
   ]
  },
  {
   "cell_type": "markdown",
   "id": "88afdd0a",
   "metadata": {},
   "source": [
    "# stats.boxcox(x)"
   ]
  },
  {
   "cell_type": "code",
   "execution_count": 172,
   "id": "b94aa5a3",
   "metadata": {},
   "outputs": [],
   "source": [
    "# xt, _ = stats.boxcox(x)\n",
    "t_LotArea,_ = stats.boxcox(housing['LotArea']) #transformation that is robust to having zeros in the original data"
   ]
  },
  {
   "cell_type": "code",
   "execution_count": 257,
   "id": "87f8e962",
   "metadata": {},
   "outputs": [],
   "source": [
    "housing['bc_LotArea'],_ = stats.boxcox(housing['LotArea'])"
   ]
  },
  {
   "cell_type": "code",
   "execution_count": 178,
   "id": "3b30660f",
   "metadata": {},
   "outputs": [
    {
     "data": {
      "text/plain": [
       "0.40027265216573193"
      ]
     },
     "execution_count": 178,
     "metadata": {},
     "output_type": "execute_result"
    }
   ],
   "source": [
    "log_price.corr(housing['bc_LotArea']) "
   ]
  },
  {
   "cell_type": "markdown",
   "id": "92d58427",
   "metadata": {},
   "source": [
    "# MasVnrArea\n",
    "\n",
    "# correlation = 0.4133"
   ]
  },
  {
   "cell_type": "code",
   "execution_count": 183,
   "id": "48e0119b",
   "metadata": {},
   "outputs": [
    {
     "name": "stderr",
     "output_type": "stream",
     "text": [
      "*c* argument looks like a single numeric RGB or RGBA sequence, which should be avoided as value-mapping will have precedence in case its length matches with *x* & *y*.  Please use the *color* keyword-argument or provide a 2D array with a single row if you intend to specify the same RGB or RGBA value for all points.\n"
     ]
    },
    {
     "data": {
      "text/plain": [
       "<AxesSubplot:xlabel='MasVnrArea', ylabel='SalePrice'>"
      ]
     },
     "execution_count": 183,
     "metadata": {},
     "output_type": "execute_result"
    },
    {
     "data": {
      "image/png": "[encoded data removed]",
      "text/plain": [
       "<Figure size 432x288 with 1 Axes>"
      ]
     },
     "metadata": {},
     "output_type": "display_data"
    }
   ],
   "source": [
    "housing[['MasVnrArea', 'SalePrice']].plot(kind='scatter', x='MasVnrArea', y='SalePrice', logx=True, logy=True)"
   ]
  },
  {
   "cell_type": "code",
   "execution_count": 258,
   "id": "6ad93072",
   "metadata": {},
   "outputs": [],
   "source": [
    "housing['MasVnrArea'] = housing['MasVnrArea'].fillna(0.0) \n",
    "\n"
   ]
  },
  {
   "cell_type": "markdown",
   "id": "c4ade869",
   "metadata": {},
   "source": [
    "# YEO JOHNSON"
   ]
  },
  {
   "cell_type": "code",
   "execution_count": 188,
   "id": "fb9cf250",
   "metadata": {},
   "outputs": [],
   "source": [
    "housing['yeo_MasVnrArea'],_ = stats.yeojohnson(housing['MasVnrArea'])"
   ]
  },
  {
   "cell_type": "code",
   "execution_count": 159,
   "id": "2f487803",
   "metadata": {},
   "outputs": [
    {
     "data": {
      "text/plain": [
       "0.4133177535362966"
      ]
     },
     "execution_count": 159,
     "metadata": {},
     "output_type": "execute_result"
    }
   ],
   "source": [
    "log_price.corr(np.log(size_related['MasVnrArea'] + 1)) "
   ]
  },
  {
   "cell_type": "code",
   "execution_count": 259,
   "id": "9888bd71",
   "metadata": {},
   "outputs": [],
   "source": [
    "housing['log_MasVnrArea'] = np.log(size_related['MasVnrArea'] + 1)"
   ]
  },
  {
   "cell_type": "code",
   "execution_count": 189,
   "id": "dbe34c7e",
   "metadata": {},
   "outputs": [
    {
     "data": {
      "text/plain": [
       "0.3992756430388474"
      ]
     },
     "execution_count": 189,
     "metadata": {},
     "output_type": "execute_result"
    }
   ],
   "source": [
    "log_price.corr(housing['yeo_MasVnrArea']) "
   ]
  },
  {
   "cell_type": "code",
   "execution_count": 260,
   "id": "dfdf1804",
   "metadata": {},
   "outputs": [],
   "source": [
    "housing['log_MasVnrArea'] = np.log(size_related['MasVnrArea'] + 1)"
   ]
  },
  {
   "cell_type": "code",
   "execution_count": 138,
   "id": "9a24f591",
   "metadata": {},
   "outputs": [
    {
     "data": {
      "image/png": "[encoded data removed]",
      "text/plain": [
       "<Figure size 432x288 with 1 Axes>"
      ]
     },
     "metadata": {},
     "output_type": "display_data"
    }
   ],
   "source": [
    "sns.histplot(data=housing, x='MasVnrArea', bins=20);"
   ]
  },
  {
   "cell_type": "code",
   "execution_count": 195,
   "id": "d4847260",
   "metadata": {},
   "outputs": [
    {
     "data": {
      "image/png": "[encoded data removed]",
      "text/plain": [
       "<Figure size 432x288 with 1 Axes>"
      ]
     },
     "metadata": {},
     "output_type": "display_data"
    }
   ],
   "source": [
    "\n",
    "sns.histplot(data=housing, x='yeo_MasVnrArea', bins=20);"
   ]
  },
  {
   "cell_type": "code",
   "execution_count": 161,
   "id": "36f3b22e",
   "metadata": {},
   "outputs": [
    {
     "data": {
      "image/png": "[encoded data removed]",
      "text/plain": [
       "<Figure size 432x288 with 1 Axes>"
      ]
     },
     "metadata": {},
     "output_type": "display_data"
    }
   ],
   "source": [
    "sns.histplot(data=housing, x='log_MasVnrArea', bins=20);"
   ]
  },
  {
   "cell_type": "code",
   "execution_count": 166,
   "id": "d7e99adc",
   "metadata": {},
   "outputs": [],
   "source": [
    "MasVnrArea = np.log(size_related[['MasVnrArea']] +1)"
   ]
  },
  {
   "cell_type": "code",
   "execution_count": 168,
   "id": "f9b70115",
   "metadata": {},
   "outputs": [
    {
     "data": {
      "text/plain": [
       "0.1708315653882907"
      ]
     },
     "execution_count": 168,
     "metadata": {},
     "output_type": "execute_result"
    }
   ],
   "source": [
    "# can't take the log of zero so add 1\n",
    "lm.fit(MasVnrArea , np.log(price))\n",
    "lm.score(MasVnrArea, np.log(price)) #dpg "
   ]
  },
  {
   "cell_type": "markdown",
   "id": "57075fc7",
   "metadata": {},
   "source": [
    "# BsmtUnfSF low correlation = 0.2082"
   ]
  },
  {
   "cell_type": "code",
   "execution_count": 48,
   "id": "ef36c852",
   "metadata": {},
   "outputs": [
    {
     "data": {
      "text/plain": [
       "<AxesSubplot:xlabel='BsmtUnfSF', ylabel='SalePrice'>"
      ]
     },
     "execution_count": 48,
     "metadata": {},
     "output_type": "execute_result"
    },
    {
     "data": {
      "image/png": "[encoded data removed]",
      "text/plain": [
       "<Figure size 432x288 with 1 Axes>"
      ]
     },
     "metadata": {
      "needs_background": "light"
     },
     "output_type": "display_data"
    }
   ],
   "source": [
    "# BsmtUnfSF  \n",
    "housing[['BsmtUnfSF', 'SalePrice']].plot(kind='scatter', x='BsmtUnfSF', y='SalePrice', logx=True, logy=True)"
   ]
  },
  {
   "cell_type": "code",
   "execution_count": 169,
   "id": "12f95dba",
   "metadata": {},
   "outputs": [
    {
     "data": {
      "text/plain": [
       "0.20823308801287405"
      ]
     },
     "execution_count": 169,
     "metadata": {},
     "output_type": "execute_result"
    }
   ],
   "source": [
    "log_price.corr(np.log(housing['BsmtUnfSF']+1)) #correlation"
   ]
  },
  {
   "cell_type": "code",
   "execution_count": null,
   "id": "e9b83baf",
   "metadata": {},
   "outputs": [],
   "source": []
  },
  {
   "cell_type": "code",
   "execution_count": 161,
   "id": "324b4c8f",
   "metadata": {},
   "outputs": [
    {
     "data": {
      "text/plain": [
       "<AxesSubplot:xlabel='BsmtUnfSF', ylabel='SalePrice'>"
      ]
     },
     "execution_count": 161,
     "metadata": {},
     "output_type": "execute_result"
    },
    {
     "data": {
      "image/png": "[encoded data removed]",
      "text/plain": [
       "<Figure size 432x288 with 1 Axes>"
      ]
     },
     "metadata": {
      "needs_background": "light"
     },
     "output_type": "display_data"
    }
   ],
   "source": [
    "housing[['BsmtUnfSF', 'SalePrice']].plot(kind='scatter', x='BsmtUnfSF', y='SalePrice', logy=True)"
   ]
  },
  {
   "cell_type": "markdown",
   "id": "94e9934d",
   "metadata": {},
   "source": [
    "# Correlation for TotalBsmtSF is high at 0.6128, with yeo johnson"
   ]
  },
  {
   "cell_type": "code",
   "execution_count": 22,
   "id": "90831494",
   "metadata": {},
   "outputs": [
    {
     "data": {
      "text/plain": [
       "<AxesSubplot:xlabel='TotalBsmtSF', ylabel='SalePrice'>"
      ]
     },
     "execution_count": 22,
     "metadata": {},
     "output_type": "execute_result"
    },
    {
     "data": {
      "image/png": "[encoded data removed]",
      "text/plain": [
       "<Figure size 432x288 with 1 Axes>"
      ]
     },
     "metadata": {
      "needs_background": "light"
     },
     "output_type": "display_data"
    }
   ],
   "source": [
    "# TotalBsmtSF \n",
    "housing[['TotalBsmtSF', 'SalePrice']].plot(kind='scatter', x='TotalBsmtSF', y='SalePrice', logx=True, logy=True)"
   ]
  },
  {
   "cell_type": "code",
   "execution_count": 261,
   "id": "e5923e9f",
   "metadata": {},
   "outputs": [],
   "source": [
    "housing['yeo_TotalBsmtSF'],_ = stats.yeojohnson(housing['TotalBsmtSF'])"
   ]
  },
  {
   "cell_type": "code",
   "execution_count": 54,
   "id": "dbaa6853",
   "metadata": {},
   "outputs": [
    {
     "data": {
      "text/plain": [
       "0.37283785745815706"
      ]
     },
     "execution_count": 54,
     "metadata": {},
     "output_type": "execute_result"
    }
   ],
   "source": [
    "log_TotalBsmtSF = np.log(housing['TotalBsmtSF'] + 1)\n",
    "log_price = housing['log_price']\n",
    "\n",
    "log_price.corr(log_TotalBsmtSF) #correlation"
   ]
  },
  {
   "cell_type": "code",
   "execution_count": 262,
   "id": "ab76d17a",
   "metadata": {},
   "outputs": [
    {
     "data": {
      "text/plain": [
       "0.6128497876031074"
      ]
     },
     "execution_count": 262,
     "metadata": {},
     "output_type": "execute_result"
    }
   ],
   "source": [
    "log_price.corr(housing['yeo_TotalBsmtSF']) #correlation"
   ]
  },
  {
   "cell_type": "code",
   "execution_count": 198,
   "id": "e1fd1573",
   "metadata": {},
   "outputs": [
    {
     "data": {
      "image/png": "[encoded data removed]",
      "text/plain": [
       "<Figure size 432x288 with 1 Axes>"
      ]
     },
     "metadata": {},
     "output_type": "display_data"
    }
   ],
   "source": [
    "sns.histplot(data=housing, x='TotalBsmtSF', bins=20);"
   ]
  },
  {
   "cell_type": "code",
   "execution_count": 199,
   "id": "50d8de3c",
   "metadata": {},
   "outputs": [
    {
     "data": {
      "image/png": "[encoded data removed]",
      "text/plain": [
       "<Figure size 432x288 with 1 Axes>"
      ]
     },
     "metadata": {},
     "output_type": "display_data"
    }
   ],
   "source": [
    "sns.histplot(data=housing, x='yeo_TotalBsmtSF', bins=20);"
   ]
  },
  {
   "cell_type": "code",
   "execution_count": 55,
   "id": "340a1bda",
   "metadata": {},
   "outputs": [],
   "source": [
    "import numpy as np\n",
    "from scipy import stats\n",
    "\n",
    "# BC_TotalBsmtSF, fitted_lambda = stats.boxcox(housing['TotalBsmtSF'])"
   ]
  },
  {
   "cell_type": "markdown",
   "id": "26935eaa",
   "metadata": {},
   "source": [
    "# Correlation with 1stFlrSF is rather high at 0.61"
   ]
  },
  {
   "cell_type": "code",
   "execution_count": 186,
   "id": "da8c5324",
   "metadata": {},
   "outputs": [
    {
     "data": {
      "text/plain": [
       "<AxesSubplot:xlabel='1stFlrSF', ylabel='SalePrice'>"
      ]
     },
     "execution_count": 186,
     "metadata": {},
     "output_type": "execute_result"
    },
    {
     "data": {
      "image/png": "[encoded data removed]",
      "text/plain": [
       "<Figure size 432x288 with 1 Axes>"
      ]
     },
     "metadata": {
      "needs_background": "light"
     },
     "output_type": "display_data"
    }
   ],
   "source": [
    "# 1stFlrSF\n",
    "\n",
    "housing[['1stFlrSF', 'SalePrice']].plot(kind='scatter', x='1stFlrSF', y='SalePrice', logx=True, logy=True)"
   ]
  },
  {
   "cell_type": "code",
   "execution_count": 263,
   "id": "bb9f170f",
   "metadata": {},
   "outputs": [],
   "source": [
    "first_FlrSF = housing[['1stFlrSF']]\n",
    "log_first_FlrSF = np.log(housing['1stFlrSF'])"
   ]
  },
  {
   "cell_type": "markdown",
   "id": "97d641cc",
   "metadata": {},
   "source": [
    "# Correlation with 1stFlrSF is rather high at 0.61"
   ]
  },
  {
   "cell_type": "code",
   "execution_count": 267,
   "id": "70b8bee9",
   "metadata": {},
   "outputs": [
    {
     "data": {
      "text/plain": [
       "0.6089466549036314"
      ]
     },
     "execution_count": 267,
     "metadata": {},
     "output_type": "execute_result"
    }
   ],
   "source": [
    "# log_price.corr(log_TotalBsmtSF) #correlation\n",
    "log_price.corr(log_first_FlrSF)\n",
    "\n"
   ]
  },
  {
   "cell_type": "code",
   "execution_count": 266,
   "id": "f117b072",
   "metadata": {},
   "outputs": [],
   "source": [
    "housing['log_first_FlrSF'] = np.log(housing['1stFlrSF'])"
   ]
  },
  {
   "cell_type": "markdown",
   "id": "e3ee4399",
   "metadata": {},
   "source": [
    "# It appears that 2ndFlrSF may only be relevant for the more expensive homes.  The correlation is only 0.18"
   ]
  },
  {
   "cell_type": "code",
   "execution_count": 14,
   "id": "1539dada",
   "metadata": {},
   "outputs": [
    {
     "data": {
      "text/plain": [
       "<AxesSubplot:xlabel='2ndFlrSF', ylabel='SalePrice'>"
      ]
     },
     "execution_count": 14,
     "metadata": {},
     "output_type": "execute_result"
    },
    {
     "data": {
      "image/png": "[encoded data removed]",
      "text/plain": [
       "<Figure size 432x288 with 1 Axes>"
      ]
     },
     "metadata": {
      "needs_background": "light"
     },
     "output_type": "display_data"
    }
   ],
   "source": [
    "# 2ndFlrSF\n",
    "\n",
    "housing[['2ndFlrSF', 'SalePrice']].plot(kind='scatter', x='2ndFlrSF', y='SalePrice', logx=True, logy=True)"
   ]
  },
  {
   "cell_type": "code",
   "execution_count": 19,
   "id": "d31272dd",
   "metadata": {},
   "outputs": [
    {
     "data": {
      "text/plain": [
       "0.032680646643387656"
      ]
     },
     "execution_count": 19,
     "metadata": {},
     "output_type": "execute_result"
    }
   ],
   "source": [
    "S2ndFlrSF = housing[['2ndFlrSF']]\n",
    "\n",
    "lm.fit(np.log(S2ndFlrSF + 1), np.log(price))\n",
    "lm.score(np.log(S2ndFlrSF + 1), np.log(price)) "
   ]
  },
  {
   "cell_type": "code",
   "execution_count": 59,
   "id": "6a42f021",
   "metadata": {},
   "outputs": [
    {
     "data": {
      "text/plain": [
       "0.18077789312686338"
      ]
     },
     "execution_count": 59,
     "metadata": {},
     "output_type": "execute_result"
    }
   ],
   "source": [
    "log_price.corr(np.log(housing['2ndFlrSF'] + 1))"
   ]
  },
  {
   "cell_type": "code",
   "execution_count": 417,
   "id": "ab99e522",
   "metadata": {},
   "outputs": [],
   "source": [
    "housing['yeo_2ndFlrSF'],_ = stats.yeojohnson(housing['2ndFlrSF'])"
   ]
  },
  {
   "cell_type": "code",
   "execution_count": 419,
   "id": "f54bdec3",
   "metadata": {},
   "outputs": [
    {
     "data": {
      "text/plain": [
       "0.17002318436435637"
      ]
     },
     "execution_count": 419,
     "metadata": {},
     "output_type": "execute_result"
    }
   ],
   "source": [
    "log_price.corr(housing['yeo_2ndFlrSF'])"
   ]
  },
  {
   "cell_type": "code",
   "execution_count": 60,
   "id": "a5df7e71",
   "metadata": {},
   "outputs": [
    {
     "data": {
      "text/plain": [
       "<AxesSubplot:xlabel='LowQualFinSF', ylabel='SalePrice'>"
      ]
     },
     "execution_count": 60,
     "metadata": {},
     "output_type": "execute_result"
    },
    {
     "data": {
      "image/png": "[encoded data removed]",
      "text/plain": [
       "<Figure size 432x288 with 1 Axes>"
      ]
     },
     "metadata": {
      "needs_background": "light"
     },
     "output_type": "display_data"
    }
   ],
   "source": [
    "#LowQualFinSF: Low quality finished square feet (all floors)\n",
    "housing[['LowQualFinSF', 'SalePrice']].plot(kind='scatter', x='LowQualFinSF', y='SalePrice', logx=True, logy=True)\n"
   ]
  },
  {
   "cell_type": "markdown",
   "id": "e78e43ad",
   "metadata": {},
   "source": [
    "# Correlation with GarageArea is noteworthy at 0.455"
   ]
  },
  {
   "cell_type": "code",
   "execution_count": 62,
   "id": "5d2705c0",
   "metadata": {},
   "outputs": [
    {
     "data": {
      "text/plain": [
       "<AxesSubplot:xlabel='GarageArea', ylabel='SalePrice'>"
      ]
     },
     "execution_count": 62,
     "metadata": {},
     "output_type": "execute_result"
    },
    {
     "data": {
      "image/png": "[encoded data removed]",
      "text/plain": [
       "<Figure size 432x288 with 1 Axes>"
      ]
     },
     "metadata": {
      "needs_background": "light"
     },
     "output_type": "display_data"
    }
   ],
   "source": [
    "# GarageArea \n",
    "\n",
    "housing[['GarageArea', 'SalePrice']].plot(kind='scatter', x='GarageArea', y='SalePrice', logx=True, logy=True)"
   ]
  },
  {
   "cell_type": "code",
   "execution_count": 64,
   "id": "bd5be456",
   "metadata": {},
   "outputs": [
    {
     "data": {
      "text/plain": [
       "0.4548988247258096"
      ]
     },
     "execution_count": 64,
     "metadata": {},
     "output_type": "execute_result"
    }
   ],
   "source": [
    "log_price.corr(np.log(housing['GarageArea'] + 1))"
   ]
  },
  {
   "cell_type": "code",
   "execution_count": 268,
   "id": "f9652143",
   "metadata": {},
   "outputs": [],
   "source": [
    "housing['yeo_GarageArea'],_  = stats.yeojohnson(housing['GarageArea'] )"
   ]
  },
  {
   "cell_type": "code",
   "execution_count": 202,
   "id": "0e2c4f86",
   "metadata": {},
   "outputs": [
    {
     "data": {
      "text/plain": [
       "0.6474710410187536"
      ]
     },
     "execution_count": 202,
     "metadata": {},
     "output_type": "execute_result"
    }
   ],
   "source": [
    "log_price.corr(housing['yeo_GarageArea'])"
   ]
  },
  {
   "cell_type": "markdown",
   "id": "60a89834",
   "metadata": {},
   "source": [
    "# Correlation WoodDeckSF is 0.343 still could be taken into consideration for the model.  It may be important for the more expnsive homes."
   ]
  },
  {
   "cell_type": "code",
   "execution_count": 65,
   "id": "56e15cb6",
   "metadata": {},
   "outputs": [
    {
     "data": {
      "text/plain": [
       "<AxesSubplot:xlabel='WoodDeckSF', ylabel='SalePrice'>"
      ]
     },
     "execution_count": 65,
     "metadata": {},
     "output_type": "execute_result"
    },
    {
     "data": {
      "image/png": "[encoded data removed]",
      "text/plain": [
       "<Figure size 432x288 with 1 Axes>"
      ]
     },
     "metadata": {
      "needs_background": "light"
     },
     "output_type": "display_data"
    }
   ],
   "source": [
    "# WoodDeckSF \n",
    "housing[['WoodDeckSF', 'SalePrice']].plot(kind='scatter', x='WoodDeckSF', y='SalePrice', logx=True, logy=True)"
   ]
  },
  {
   "cell_type": "code",
   "execution_count": 66,
   "id": "2f994c5a",
   "metadata": {},
   "outputs": [
    {
     "data": {
      "text/plain": [
       "0.3430386097888988"
      ]
     },
     "execution_count": 66,
     "metadata": {},
     "output_type": "execute_result"
    }
   ],
   "source": [
    "log_price.corr(np.log(housing['WoodDeckSF'] + 1))"
   ]
  },
  {
   "cell_type": "code",
   "execution_count": 204,
   "id": "2a90ff83",
   "metadata": {},
   "outputs": [],
   "source": [
    "housing['yeo_WoodDeckSF'],_ = stats.yeojohnson(housing['WoodDeckSF'])"
   ]
  },
  {
   "cell_type": "code",
   "execution_count": 205,
   "id": "65b3a262",
   "metadata": {},
   "outputs": [
    {
     "data": {
      "text/plain": [
       "0.3399975829401936"
      ]
     },
     "execution_count": 205,
     "metadata": {},
     "output_type": "execute_result"
    }
   ],
   "source": [
    "log_price.corr(housing['yeo_WoodDeckSF'])"
   ]
  },
  {
   "cell_type": "code",
   "execution_count": 306,
   "id": "bcbe13bf",
   "metadata": {},
   "outputs": [],
   "source": [
    "housing['log_WoodDeckSF'] = np.log(housing['WoodDeckSF'] + 1)"
   ]
  },
  {
   "cell_type": "markdown",
   "id": "d6b3d972",
   "metadata": {},
   "source": [
    "# Correlation for OpenPorchSF is noteworthy at 0.46"
   ]
  },
  {
   "cell_type": "code",
   "execution_count": 67,
   "id": "b4930b9b",
   "metadata": {},
   "outputs": [
    {
     "data": {
      "text/plain": [
       "<AxesSubplot:xlabel='OpenPorchSF', ylabel='SalePrice'>"
      ]
     },
     "execution_count": 67,
     "metadata": {},
     "output_type": "execute_result"
    },
    {
     "data": {
      "image/png": "[encoded data removed]",
      "text/plain": [
       "<Figure size 432x288 with 1 Axes>"
      ]
     },
     "metadata": {
      "needs_background": "light"
     },
     "output_type": "display_data"
    }
   ],
   "source": [
    "# OpenPorchSF \n",
    "housing[['OpenPorchSF', 'SalePrice']].plot(kind='scatter', x='OpenPorchSF', y='SalePrice', logx=True, logy=True)"
   ]
  },
  {
   "cell_type": "code",
   "execution_count": 68,
   "id": "3ebdd91c",
   "metadata": {},
   "outputs": [
    {
     "data": {
      "text/plain": [
       "0.4599477512227987"
      ]
     },
     "execution_count": 68,
     "metadata": {},
     "output_type": "execute_result"
    }
   ],
   "source": [
    "log_price.corr(np.log(housing['OpenPorchSF'] + 1))"
   ]
  },
  {
   "cell_type": "code",
   "execution_count": 309,
   "id": "86a5238f",
   "metadata": {},
   "outputs": [],
   "source": [
    "housing['log_OpenPorchSF'] = np.log(housing['OpenPorchSF'] + 1)"
   ]
  },
  {
   "cell_type": "code",
   "execution_count": 206,
   "id": "2d552e87",
   "metadata": {},
   "outputs": [],
   "source": [
    "housing['yeo_OpenPorchSF'],_ = stats.yeojohnson(housing['OpenPorchSF'])"
   ]
  },
  {
   "cell_type": "code",
   "execution_count": 207,
   "id": "c0055278",
   "metadata": {},
   "outputs": [
    {
     "data": {
      "text/plain": [
       "0.45971732468273657"
      ]
     },
     "execution_count": 207,
     "metadata": {},
     "output_type": "execute_result"
    }
   ],
   "source": [
    "log_price.corr(housing['yeo_OpenPorchSF'])"
   ]
  },
  {
   "cell_type": "code",
   "execution_count": 82,
   "id": "d156942b",
   "metadata": {},
   "outputs": [],
   "source": [
    "housing['has_pool'] = housing['PoolArea'] != 0"
   ]
  },
  {
   "cell_type": "markdown",
   "id": "ff2fcae2",
   "metadata": {},
   "source": [
    "'LotFrontage' has missing values yet miminum not equal to zero"
   ]
  },
  {
   "cell_type": "code",
   "execution_count": 175,
   "id": "bd57d42c",
   "metadata": {},
   "outputs": [
    {
     "name": "stderr",
     "output_type": "stream",
     "text": [
      "*c* argument looks like a single numeric RGB or RGBA sequence, which should be avoided as value-mapping will have precedence in case its length matches with *x* & *y*.  Please use the *color* keyword-argument or provide a 2D array with a single row if you intend to specify the same RGB or RGBA value for all points.\n"
     ]
    },
    {
     "data": {
      "text/plain": [
       "<AxesSubplot:xlabel='LotFrontage', ylabel='SalePrice'>"
      ]
     },
     "execution_count": 175,
     "metadata": {},
     "output_type": "execute_result"
    },
    {
     "data": {
      "image/png": "[encoded data removed]",
      "text/plain": [
       "<Figure size 432x288 with 1 Axes>"
      ]
     },
     "metadata": {},
     "output_type": "display_data"
    }
   ],
   "source": [
    "\n",
    "\n",
    "\n",
    "housing[['LotFrontage', 'SalePrice']].plot(kind='scatter', x='LotFrontage', y='SalePrice', logx=True, logy=True)"
   ]
  },
  {
   "cell_type": "code",
   "execution_count": 225,
   "id": "233ce2f3",
   "metadata": {},
   "outputs": [],
   "source": [
    "housing['yeo_LotFrontage'],_ = stats.yeojohnson(housing['LotFrontage'])"
   ]
  },
  {
   "cell_type": "code",
   "execution_count": 228,
   "id": "e2382cbf",
   "metadata": {},
   "outputs": [
    {
     "data": {
      "text/plain": [
       "0.0184018868177392"
      ]
     },
     "execution_count": 228,
     "metadata": {},
     "output_type": "execute_result"
    }
   ],
   "source": [
    "log_price.corr(housing['yeo_LotFrontage'])"
   ]
  },
  {
   "cell_type": "code",
   "execution_count": 227,
   "id": "03a789b4",
   "metadata": {},
   "outputs": [
    {
     "data": {
      "text/plain": [
       "0.3646495489429208"
      ]
     },
     "execution_count": 227,
     "metadata": {},
     "output_type": "execute_result"
    }
   ],
   "source": [
    "log_price.corr(np.log(housing['LotFrontage'] + 1))"
   ]
  },
  {
   "cell_type": "code",
   "execution_count": 229,
   "id": "7e620e7b",
   "metadata": {},
   "outputs": [],
   "source": [
    "housing['log_LotFrontage']=np.log(housing['LotFrontage'] + 1)"
   ]
  },
  {
   "cell_type": "code",
   "execution_count": 420,
   "id": "0ae14b69",
   "metadata": {},
   "outputs": [],
   "source": [
    "housing['yeo_LotFrontage'],_ = stats.yeojohnson(housing['LotFrontage'])"
   ]
  },
  {
   "cell_type": "code",
   "execution_count": 421,
   "id": "56e73994",
   "metadata": {},
   "outputs": [
    {
     "data": {
      "text/plain": [
       "0.14306688951977706"
      ]
     },
     "execution_count": 421,
     "metadata": {},
     "output_type": "execute_result"
    }
   ],
   "source": [
    "log_price.corr(housing['yeo_LotFrontage'] )"
   ]
  },
  {
   "cell_type": "code",
   "execution_count": null,
   "id": "9a07f75a",
   "metadata": {},
   "outputs": [],
   "source": [
    "# seaborn scatter with reg line"
   ]
  },
  {
   "cell_type": "code",
   "execution_count": 230,
   "id": "0b290961",
   "metadata": {},
   "outputs": [
    {
     "data": {
      "text/plain": [
       "<seaborn.axisgrid.FacetGrid at 0x14649857a00>"
      ]
     },
     "execution_count": 230,
     "metadata": {},
     "output_type": "execute_result"
    },
    {
     "data": {
      "image/png": "[encoded data removed]",
      "text/plain": [
       "<Figure size 360x360 with 1 Axes>"
      ]
     },
     "metadata": {},
     "output_type": "display_data"
    }
   ],
   "source": [
    "sns.lmplot(data=housing, x='log_LotFrontage', y='log_price', fit_reg= True)"
   ]
  },
  {
   "cell_type": "code",
   "execution_count": 121,
   "id": "53ab6958",
   "metadata": {},
   "outputs": [],
   "source": [
    "size_related.columns\n",
    "df_num.columns\n",
    "\n",
    "other_numerics = list(filter(lambda x: x not in size_related.columns, df_num.columns ))"
   ]
  },
  {
   "cell_type": "code",
   "execution_count": 93,
   "id": "47da662d",
   "metadata": {},
   "outputs": [],
   "source": [
    "other_numerics = housing[other_numerics]"
   ]
  },
  {
   "cell_type": "code",
   "execution_count": 222,
   "id": "34edff58",
   "metadata": {},
   "outputs": [],
   "source": [
    "# other_numerics.info()"
   ]
  },
  {
   "cell_type": "code",
   "execution_count": 110,
   "id": "9991a183",
   "metadata": {},
   "outputs": [
    {
     "data": {
      "text/html": [
       "<div>\n",
       "<style scoped>\n",
       "    .dataframe tbody tr th:only-of-type {\n",
       "        vertical-align: middle;\n",
       "    }\n",
       "\n",
       "    .dataframe tbody tr th {\n",
       "        vertical-align: top;\n",
       "    }\n",
       "\n",
       "    .dataframe thead th {\n",
       "        text-align: right;\n",
       "    }\n",
       "</style>\n",
       "<table border=\"1\" class=\"dataframe\">\n",
       "  <thead>\n",
       "    <tr style=\"text-align: right;\">\n",
       "      <th></th>\n",
       "      <th>Id</th>\n",
       "      <th>LotFrontage</th>\n",
       "      <th>OverallQual</th>\n",
       "      <th>OverallCond</th>\n",
       "      <th>YearBuilt</th>\n",
       "      <th>YearRemodAdd</th>\n",
       "      <th>BsmtFinSF1</th>\n",
       "      <th>BsmtFinSF2</th>\n",
       "      <th>BsmtFullBath</th>\n",
       "      <th>BsmtHalfBath</th>\n",
       "      <th>FullBath</th>\n",
       "      <th>HalfBath</th>\n",
       "      <th>BedroomAbvGr</th>\n",
       "      <th>KitchenAbvGr</th>\n",
       "      <th>TotRmsAbvGrd</th>\n",
       "      <th>Fireplaces</th>\n",
       "      <th>GarageYrBlt</th>\n",
       "      <th>GarageCars</th>\n",
       "      <th>EnclosedPorch</th>\n",
       "      <th>3SsnPorch</th>\n",
       "      <th>ScreenPorch</th>\n",
       "      <th>MiscVal</th>\n",
       "      <th>YrSold</th>\n",
       "      <th>SalePrice</th>\n",
       "      <th>log_price</th>\n",
       "    </tr>\n",
       "  </thead>\n",
       "  <tbody>\n",
       "    <tr>\n",
       "      <th>count</th>\n",
       "      <td>1460.000000</td>\n",
       "      <td>1201.000000</td>\n",
       "      <td>1460.000000</td>\n",
       "      <td>1460.000000</td>\n",
       "      <td>1460.000000</td>\n",
       "      <td>1460.000000</td>\n",
       "      <td>1460.000000</td>\n",
       "      <td>1460.000000</td>\n",
       "      <td>1460.000000</td>\n",
       "      <td>1460.000000</td>\n",
       "      <td>1460.000000</td>\n",
       "      <td>1460.000000</td>\n",
       "      <td>1460.000000</td>\n",
       "      <td>1460.000000</td>\n",
       "      <td>1460.000000</td>\n",
       "      <td>1460.000000</td>\n",
       "      <td>1379.000000</td>\n",
       "      <td>1460.000000</td>\n",
       "      <td>1460.000000</td>\n",
       "      <td>1460.000000</td>\n",
       "      <td>1460.000000</td>\n",
       "      <td>1460.000000</td>\n",
       "      <td>1460.000000</td>\n",
       "      <td>1460.000000</td>\n",
       "      <td>1460.000000</td>\n",
       "    </tr>\n",
       "    <tr>\n",
       "      <th>mean</th>\n",
       "      <td>730.500000</td>\n",
       "      <td>70.049958</td>\n",
       "      <td>6.099315</td>\n",
       "      <td>5.575342</td>\n",
       "      <td>1971.267808</td>\n",
       "      <td>1984.865753</td>\n",
       "      <td>443.639726</td>\n",
       "      <td>46.549315</td>\n",
       "      <td>0.425342</td>\n",
       "      <td>0.057534</td>\n",
       "      <td>1.565068</td>\n",
       "      <td>0.382877</td>\n",
       "      <td>2.866438</td>\n",
       "      <td>1.046575</td>\n",
       "      <td>6.517808</td>\n",
       "      <td>0.613014</td>\n",
       "      <td>1978.506164</td>\n",
       "      <td>1.767123</td>\n",
       "      <td>21.954110</td>\n",
       "      <td>3.409589</td>\n",
       "      <td>15.060959</td>\n",
       "      <td>43.489041</td>\n",
       "      <td>2007.815753</td>\n",
       "      <td>180921.195890</td>\n",
       "      <td>12.024051</td>\n",
       "    </tr>\n",
       "    <tr>\n",
       "      <th>std</th>\n",
       "      <td>421.610009</td>\n",
       "      <td>24.284752</td>\n",
       "      <td>1.382997</td>\n",
       "      <td>1.112799</td>\n",
       "      <td>30.202904</td>\n",
       "      <td>20.645407</td>\n",
       "      <td>456.098091</td>\n",
       "      <td>161.319273</td>\n",
       "      <td>0.518911</td>\n",
       "      <td>0.238753</td>\n",
       "      <td>0.550916</td>\n",
       "      <td>0.502885</td>\n",
       "      <td>0.815778</td>\n",
       "      <td>0.220338</td>\n",
       "      <td>1.625393</td>\n",
       "      <td>0.644666</td>\n",
       "      <td>24.689725</td>\n",
       "      <td>0.747315</td>\n",
       "      <td>61.119149</td>\n",
       "      <td>29.317331</td>\n",
       "      <td>55.757415</td>\n",
       "      <td>496.123024</td>\n",
       "      <td>1.328095</td>\n",
       "      <td>79442.502883</td>\n",
       "      <td>0.399452</td>\n",
       "    </tr>\n",
       "    <tr>\n",
       "      <th>min</th>\n",
       "      <td>1.000000</td>\n",
       "      <td>21.000000</td>\n",
       "      <td>1.000000</td>\n",
       "      <td>1.000000</td>\n",
       "      <td>1872.000000</td>\n",
       "      <td>1950.000000</td>\n",
       "      <td>0.000000</td>\n",
       "      <td>0.000000</td>\n",
       "      <td>0.000000</td>\n",
       "      <td>0.000000</td>\n",
       "      <td>0.000000</td>\n",
       "      <td>0.000000</td>\n",
       "      <td>0.000000</td>\n",
       "      <td>0.000000</td>\n",
       "      <td>2.000000</td>\n",
       "      <td>0.000000</td>\n",
       "      <td>1900.000000</td>\n",
       "      <td>0.000000</td>\n",
       "      <td>0.000000</td>\n",
       "      <td>0.000000</td>\n",
       "      <td>0.000000</td>\n",
       "      <td>0.000000</td>\n",
       "      <td>2006.000000</td>\n",
       "      <td>34900.000000</td>\n",
       "      <td>10.460242</td>\n",
       "    </tr>\n",
       "    <tr>\n",
       "      <th>25%</th>\n",
       "      <td>365.750000</td>\n",
       "      <td>59.000000</td>\n",
       "      <td>5.000000</td>\n",
       "      <td>5.000000</td>\n",
       "      <td>1954.000000</td>\n",
       "      <td>1967.000000</td>\n",
       "      <td>0.000000</td>\n",
       "      <td>0.000000</td>\n",
       "      <td>0.000000</td>\n",
       "      <td>0.000000</td>\n",
       "      <td>1.000000</td>\n",
       "      <td>0.000000</td>\n",
       "      <td>2.000000</td>\n",
       "      <td>1.000000</td>\n",
       "      <td>5.000000</td>\n",
       "      <td>0.000000</td>\n",
       "      <td>1961.000000</td>\n",
       "      <td>1.000000</td>\n",
       "      <td>0.000000</td>\n",
       "      <td>0.000000</td>\n",
       "      <td>0.000000</td>\n",
       "      <td>0.000000</td>\n",
       "      <td>2007.000000</td>\n",
       "      <td>129975.000000</td>\n",
       "      <td>11.775097</td>\n",
       "    </tr>\n",
       "    <tr>\n",
       "      <th>50%</th>\n",
       "      <td>730.500000</td>\n",
       "      <td>69.000000</td>\n",
       "      <td>6.000000</td>\n",
       "      <td>5.000000</td>\n",
       "      <td>1973.000000</td>\n",
       "      <td>1994.000000</td>\n",
       "      <td>383.500000</td>\n",
       "      <td>0.000000</td>\n",
       "      <td>0.000000</td>\n",
       "      <td>0.000000</td>\n",
       "      <td>2.000000</td>\n",
       "      <td>0.000000</td>\n",
       "      <td>3.000000</td>\n",
       "      <td>1.000000</td>\n",
       "      <td>6.000000</td>\n",
       "      <td>1.000000</td>\n",
       "      <td>1980.000000</td>\n",
       "      <td>2.000000</td>\n",
       "      <td>0.000000</td>\n",
       "      <td>0.000000</td>\n",
       "      <td>0.000000</td>\n",
       "      <td>0.000000</td>\n",
       "      <td>2008.000000</td>\n",
       "      <td>163000.000000</td>\n",
       "      <td>12.001505</td>\n",
       "    </tr>\n",
       "    <tr>\n",
       "      <th>75%</th>\n",
       "      <td>1095.250000</td>\n",
       "      <td>80.000000</td>\n",
       "      <td>7.000000</td>\n",
       "      <td>6.000000</td>\n",
       "      <td>2000.000000</td>\n",
       "      <td>2004.000000</td>\n",
       "      <td>712.250000</td>\n",
       "      <td>0.000000</td>\n",
       "      <td>1.000000</td>\n",
       "      <td>0.000000</td>\n",
       "      <td>2.000000</td>\n",
       "      <td>1.000000</td>\n",
       "      <td>3.000000</td>\n",
       "      <td>1.000000</td>\n",
       "      <td>7.000000</td>\n",
       "      <td>1.000000</td>\n",
       "      <td>2002.000000</td>\n",
       "      <td>2.000000</td>\n",
       "      <td>0.000000</td>\n",
       "      <td>0.000000</td>\n",
       "      <td>0.000000</td>\n",
       "      <td>0.000000</td>\n",
       "      <td>2009.000000</td>\n",
       "      <td>214000.000000</td>\n",
       "      <td>12.273731</td>\n",
       "    </tr>\n",
       "    <tr>\n",
       "      <th>max</th>\n",
       "      <td>1460.000000</td>\n",
       "      <td>313.000000</td>\n",
       "      <td>10.000000</td>\n",
       "      <td>9.000000</td>\n",
       "      <td>2010.000000</td>\n",
       "      <td>2010.000000</td>\n",
       "      <td>5644.000000</td>\n",
       "      <td>1474.000000</td>\n",
       "      <td>3.000000</td>\n",
       "      <td>2.000000</td>\n",
       "      <td>3.000000</td>\n",
       "      <td>2.000000</td>\n",
       "      <td>8.000000</td>\n",
       "      <td>3.000000</td>\n",
       "      <td>14.000000</td>\n",
       "      <td>3.000000</td>\n",
       "      <td>2010.000000</td>\n",
       "      <td>4.000000</td>\n",
       "      <td>552.000000</td>\n",
       "      <td>508.000000</td>\n",
       "      <td>480.000000</td>\n",
       "      <td>15500.000000</td>\n",
       "      <td>2010.000000</td>\n",
       "      <td>755000.000000</td>\n",
       "      <td>13.534473</td>\n",
       "    </tr>\n",
       "  </tbody>\n",
       "</table>\n",
       "</div>"
      ],
      "text/plain": [
       "                Id  LotFrontage  OverallQual  OverallCond    YearBuilt  \\\n",
       "count  1460.000000  1201.000000  1460.000000  1460.000000  1460.000000   \n",
       "mean    730.500000    70.049958     6.099315     5.575342  1971.267808   \n",
       "std     421.610009    24.284752     1.382997     1.112799    30.202904   \n",
       "min       1.000000    21.000000     1.000000     1.000000  1872.000000   \n",
       "25%     365.750000    59.000000     5.000000     5.000000  1954.000000   \n",
       "50%     730.500000    69.000000     6.000000     5.000000  1973.000000   \n",
       "75%    1095.250000    80.000000     7.000000     6.000000  2000.000000   \n",
       "max    1460.000000   313.000000    10.000000     9.000000  2010.000000   \n",
       "\n",
       "       YearRemodAdd   BsmtFinSF1   BsmtFinSF2  BsmtFullBath  BsmtHalfBath  \\\n",
       "count   1460.000000  1460.000000  1460.000000   1460.000000   1460.000000   \n",
       "mean    1984.865753   443.639726    46.549315      0.425342      0.057534   \n",
       "std       20.645407   456.098091   161.319273      0.518911      0.238753   \n",
       "min     1950.000000     0.000000     0.000000      0.000000      0.000000   \n",
       "25%     1967.000000     0.000000     0.000000      0.000000      0.000000   \n",
       "50%     1994.000000   383.500000     0.000000      0.000000      0.000000   \n",
       "75%     2004.000000   712.250000     0.000000      1.000000      0.000000   \n",
       "max     2010.000000  5644.000000  1474.000000      3.000000      2.000000   \n",
       "\n",
       "          FullBath     HalfBath  BedroomAbvGr  KitchenAbvGr  TotRmsAbvGrd  \\\n",
       "count  1460.000000  1460.000000   1460.000000   1460.000000   1460.000000   \n",
       "mean      1.565068     0.382877      2.866438      1.046575      6.517808   \n",
       "std       0.550916     0.502885      0.815778      0.220338      1.625393   \n",
       "min       0.000000     0.000000      0.000000      0.000000      2.000000   \n",
       "25%       1.000000     0.000000      2.000000      1.000000      5.000000   \n",
       "50%       2.000000     0.000000      3.000000      1.000000      6.000000   \n",
       "75%       2.000000     1.000000      3.000000      1.000000      7.000000   \n",
       "max       3.000000     2.000000      8.000000      3.000000     14.000000   \n",
       "\n",
       "        Fireplaces  GarageYrBlt   GarageCars  EnclosedPorch    3SsnPorch  \\\n",
       "count  1460.000000  1379.000000  1460.000000    1460.000000  1460.000000   \n",
       "mean      0.613014  1978.506164     1.767123      21.954110     3.409589   \n",
       "std       0.644666    24.689725     0.747315      61.119149    29.317331   \n",
       "min       0.000000  1900.000000     0.000000       0.000000     0.000000   \n",
       "25%       0.000000  1961.000000     1.000000       0.000000     0.000000   \n",
       "50%       1.000000  1980.000000     2.000000       0.000000     0.000000   \n",
       "75%       1.000000  2002.000000     2.000000       0.000000     0.000000   \n",
       "max       3.000000  2010.000000     4.000000     552.000000   508.000000   \n",
       "\n",
       "       ScreenPorch       MiscVal       YrSold      SalePrice    log_price  \n",
       "count  1460.000000   1460.000000  1460.000000    1460.000000  1460.000000  \n",
       "mean     15.060959     43.489041  2007.815753  180921.195890    12.024051  \n",
       "std      55.757415    496.123024     1.328095   79442.502883     0.399452  \n",
       "min       0.000000      0.000000  2006.000000   34900.000000    10.460242  \n",
       "25%       0.000000      0.000000  2007.000000  129975.000000    11.775097  \n",
       "50%       0.000000      0.000000  2008.000000  163000.000000    12.001505  \n",
       "75%       0.000000      0.000000  2009.000000  214000.000000    12.273731  \n",
       "max     480.000000  15500.000000  2010.000000  755000.000000    13.534473  "
      ]
     },
     "execution_count": 110,
     "metadata": {},
     "output_type": "execute_result"
    }
   ],
   "source": [
    "other_numerics.describe()"
   ]
  },
  {
   "cell_type": "code",
   "execution_count": 221,
   "id": "d466baa5",
   "metadata": {},
   "outputs": [],
   "source": [
    "# housing.info()"
   ]
  },
  {
   "cell_type": "markdown",
   "id": "63deda99",
   "metadata": {},
   "source": [
    "x=\"OverallQual\", y=\"SalePrice\""
   ]
  },
  {
   "cell_type": "markdown",
   "id": "584e67e0",
   "metadata": {},
   "source": [
    "# it1 "
   ]
  },
  {
   "cell_type": "code",
   "execution_count": 217,
   "id": "26c7f581",
   "metadata": {},
   "outputs": [],
   "source": [
    "it1 = ['log_GrLivArea', 'has_pool','log_LotArea', 'log_MasVnrArea', 'bc_LotArea','yeo_TotalBsmtSF', 'yeo_GarageArea', 'yeo_WoodDeckSF','yeo_OpenPorchSF','log_price']\n",
    "it1 = housing[it1]      "
   ]
  },
  {
   "cell_type": "code",
   "execution_count": 218,
   "id": "f24444d4",
   "metadata": {},
   "outputs": [],
   "source": [
    "it1.to_csv(r'C:\\Users\\dgarb\\OneDrive\\Documents\\Data Science Bootcamp August\\Machine Learning Project\\iteration files\\it1.csv')"
   ]
  },
  {
   "cell_type": "markdown",
   "id": "2e5aaf84",
   "metadata": {},
   "source": [
    "# it2"
   ]
  },
  {
   "cell_type": "code",
   "execution_count": 310,
   "id": "0c6b1898",
   "metadata": {},
   "outputs": [],
   "source": [
    "it2 =['log_GrLivArea', 'log_LotArea', 'log_MasVnrArea', 'bc_LotArea','yeo_TotalBsmtSF', 'yeo_GarageArea', 'log_WoodDeckSF','log_OpenPorchSF','log_price']\n",
    "\n",
    "it2a = it2 + ['log_first_FlrSF',\"OverallQual\",\"OverallCond\",'BsmtFinSF1','YearBuilt','YearRemodAdd','BsmtFullBath','BsmtHalfBath', 'FullBath', 'HalfBath', 'BedroomAbvGr', 'KitchenAbvGr', 'TotRmsAbvGrd','Fireplaces']\n",
    "\n"
   ]
  },
  {
   "cell_type": "code",
   "execution_count": 311,
   "id": "0435d060",
   "metadata": {},
   "outputs": [],
   "source": [
    "it2 = housing[it2a]\n",
    "\n",
    "it2.to_csv(r'C:\\Users\\dgarb\\OneDrive\\Documents\\Data Science Bootcamp August\\Machine Learning Project\\iteration files\\it2.csv')"
   ]
  },
  {
   "cell_type": "code",
   "execution_count": 209,
   "id": "0b303082",
   "metadata": {},
   "outputs": [
    {
     "data": {
      "text/plain": [
       "Index(['Id', 'MSSubClass', 'MSZoning', 'LotFrontage', 'LotArea', 'Street',\n",
       "       'Alley', 'LotShape', 'LandContour', 'Utilities', 'LotConfig',\n",
       "       'LandSlope', 'Neighborhood', 'Condition1', 'Condition2', 'BldgType',\n",
       "       'HouseStyle', 'OverallQual', 'OverallCond', 'YearBuilt', 'YearRemodAdd',\n",
       "       'RoofStyle', 'RoofMatl', 'Exterior1st', 'Exterior2nd', 'MasVnrType',\n",
       "       'MasVnrArea', 'ExterQual', 'ExterCond', 'Foundation', 'BsmtQual',\n",
       "       'BsmtCond', 'BsmtExposure', 'BsmtFinType1', 'BsmtFinSF1',\n",
       "       'BsmtFinType2', 'BsmtFinSF2', 'BsmtUnfSF', 'TotalBsmtSF', 'Heating',\n",
       "       'HeatingQC', 'CentralAir', 'Electrical', '1stFlrSF', '2ndFlrSF',\n",
       "       'LowQualFinSF', 'GrLivArea', 'BsmtFullBath', 'BsmtHalfBath', 'FullBath',\n",
       "       'HalfBath', 'BedroomAbvGr', 'KitchenAbvGr', 'KitchenQual',\n",
       "       'TotRmsAbvGrd', 'Functional', 'Fireplaces', 'FireplaceQu', 'GarageType',\n",
       "       'GarageYrBlt', 'GarageFinish', 'GarageCars', 'GarageArea', 'GarageQual',\n",
       "       'GarageCond', 'PavedDrive', 'WoodDeckSF', 'OpenPorchSF',\n",
       "       'EnclosedPorch', '3SsnPorch', 'ScreenPorch', 'PoolArea', 'PoolQC',\n",
       "       'Fence', 'MiscFeature', 'MiscVal', 'MoSold', 'YrSold', 'SaleType',\n",
       "       'SaleCondition', 'SalePrice', 'log_GrLivArea', 'log_price', 'has_pool',\n",
       "       'log_LotArea', 'log_MasVnrArea', 'bc_LotArea', 'yeo_MasVnrArea',\n",
       "       'bc_GrLivArea', 'yeo_TotalBsmtSF', 'yeo_GarageArea', 'yeo_WoodDeckSF',\n",
       "       'yeo_OpenPorchSF'],\n",
       "      dtype='object')"
      ]
     },
     "execution_count": 209,
     "metadata": {},
     "output_type": "execute_result"
    }
   ],
   "source": [
    "housing.columns"
   ]
  },
  {
   "cell_type": "markdown",
   "id": "95391dcb",
   "metadata": {},
   "source": [
    "# OverallQual"
   ]
  },
  {
   "cell_type": "code",
   "execution_count": 115,
   "id": "69c5787e",
   "metadata": {},
   "outputs": [
    {
     "data": {
      "image/png": "[encoded data removed]",
      "text/plain": [
       "<Figure size 432x288 with 1 Axes>"
      ]
     },
     "metadata": {},
     "output_type": "display_data"
    }
   ],
   "source": [
    "\n",
    "sns.set_theme(style='darkgrid')\n",
    "\n",
    "# tips = sns.load_dataset(\"tips\")\n",
    "ax = sns.barplot(x=\"OverallQual\", y=\"SalePrice\", data=other_numerics, color='skyblue', ci=None)"
   ]
  },
  {
   "cell_type": "markdown",
   "id": "b426f1b8",
   "metadata": {},
   "source": [
    "x=\"OverallQual\", y=\"log_price\""
   ]
  },
  {
   "cell_type": "code",
   "execution_count": 113,
   "id": "336a7cf9",
   "metadata": {},
   "outputs": [
    {
     "data": {
      "image/png": "[encoded data removed]",
      "text/plain": [
       "<Figure size 432x288 with 1 Axes>"
      ]
     },
     "metadata": {},
     "output_type": "display_data"
    }
   ],
   "source": [
    "sns.set_theme(style='darkgrid')\n",
    "\n",
    "# tips = sns.load_dataset(\"tips\")\n",
    "ax = sns.barplot(x=\"OverallQual\", y=\"log_price\", data=other_numerics, color='skyblue', ci=None)"
   ]
  },
  {
   "cell_type": "markdown",
   "id": "35f3b7fc",
   "metadata": {},
   "source": [
    "x=\"OverallCond\", y=\"SalePrice\""
   ]
  },
  {
   "cell_type": "markdown",
   "id": "05f0105e",
   "metadata": {},
   "source": [
    "# OverallCond"
   ]
  },
  {
   "cell_type": "code",
   "execution_count": 116,
   "id": "3300f2fe",
   "metadata": {},
   "outputs": [
    {
     "data": {
      "image/png": "[encoded data removed]",
      "text/plain": [
       "<Figure size 432x288 with 1 Axes>"
      ]
     },
     "metadata": {},
     "output_type": "display_data"
    }
   ],
   "source": [
    "ax = sns.barplot(x=\"OverallCond\", y=\"SalePrice\", data=other_numerics, color='skyblue' ,ci=None)"
   ]
  },
  {
   "cell_type": "code",
   "execution_count": 114,
   "id": "bc2fbb4b",
   "metadata": {},
   "outputs": [
    {
     "data": {
      "image/png": "[encoded data removed]",
      "text/plain": [
       "<Figure size 432x288 with 1 Axes>"
      ]
     },
     "metadata": {},
     "output_type": "display_data"
    }
   ],
   "source": [
    "sns.set_theme(style='darkgrid')\n",
    "\n",
    "# tips = sns.load_dataset(\"tips\")\n",
    "ax = sns.barplot(x=\"OverallCond\", y=\"log_price\", data=other_numerics, color='skyblue' ,ci=None)"
   ]
  },
  {
   "cell_type": "markdown",
   "id": "46bdad5e",
   "metadata": {},
   "source": [
    "# YearBuilt  correation 0.5866"
   ]
  },
  {
   "cell_type": "code",
   "execution_count": 106,
   "id": "3b406c43",
   "metadata": {},
   "outputs": [
    {
     "name": "stderr",
     "output_type": "stream",
     "text": [
      "*c* argument looks like a single numeric RGB or RGBA sequence, which should be avoided as value-mapping will have precedence in case its length matches with *x* & *y*.  Please use the *color* keyword-argument or provide a 2D array with a single row if you intend to specify the same RGB or RGBA value for all points.\n"
     ]
    },
    {
     "data": {
      "text/plain": [
       "<AxesSubplot:xlabel='YearBuilt', ylabel='SalePrice'>"
      ]
     },
     "execution_count": 106,
     "metadata": {},
     "output_type": "execute_result"
    },
    {
     "data": {
      "image/png": "[encoded data removed]",
      "text/plain": [
       "<Figure size 432x288 with 1 Axes>"
      ]
     },
     "metadata": {},
     "output_type": "display_data"
    }
   ],
   "source": [
    "housing[['YearBuilt', 'SalePrice']].plot(kind='scatter', x='YearBuilt', y='SalePrice',  logy=True) #logx=True,"
   ]
  },
  {
   "cell_type": "code",
   "execution_count": 238,
   "id": "02008f64",
   "metadata": {},
   "outputs": [
    {
     "data": {
      "text/plain": [
       "0.5865702403842267"
      ]
     },
     "execution_count": 238,
     "metadata": {},
     "output_type": "execute_result"
    }
   ],
   "source": [
    "log_price.corr(housing['YearBuilt'])"
   ]
  },
  {
   "cell_type": "code",
   "execution_count": 240,
   "id": "777f0add",
   "metadata": {},
   "outputs": [
    {
     "data": {
      "text/plain": [
       "0.5928549763436503"
      ]
     },
     "execution_count": 240,
     "metadata": {},
     "output_type": "execute_result"
    }
   ],
   "source": [
    "housing['YearBuilt'].corr(housing['YearRemodAdd'])"
   ]
  },
  {
   "cell_type": "markdown",
   "id": "08ffe4dc",
   "metadata": {},
   "source": [
    "# YearRemodAdd  correlation 0.5656"
   ]
  },
  {
   "cell_type": "code",
   "execution_count": 108,
   "id": "29085a01",
   "metadata": {},
   "outputs": [
    {
     "name": "stderr",
     "output_type": "stream",
     "text": [
      "*c* argument looks like a single numeric RGB or RGBA sequence, which should be avoided as value-mapping will have precedence in case its length matches with *x* & *y*.  Please use the *color* keyword-argument or provide a 2D array with a single row if you intend to specify the same RGB or RGBA value for all points.\n"
     ]
    },
    {
     "data": {
      "text/plain": [
       "<AxesSubplot:xlabel='YearRemodAdd', ylabel='SalePrice'>"
      ]
     },
     "execution_count": 108,
     "metadata": {},
     "output_type": "execute_result"
    },
    {
     "data": {
      "image/png": "[encoded data removed]",
      "text/plain": [
       "<Figure size 432x288 with 1 Axes>"
      ]
     },
     "metadata": {},
     "output_type": "display_data"
    }
   ],
   "source": [
    "# YearRemodAdd\n",
    "\n",
    "housing[['YearRemodAdd', 'SalePrice']].plot(kind='scatter', x='YearRemodAdd', y='SalePrice',  logy=True) #logx=True,"
   ]
  },
  {
   "cell_type": "code",
   "execution_count": 239,
   "id": "8337bc81",
   "metadata": {},
   "outputs": [
    {
     "data": {
      "text/plain": [
       "0.5656078325911795"
      ]
     },
     "execution_count": 239,
     "metadata": {},
     "output_type": "execute_result"
    }
   ],
   "source": [
    "# sns.heatmap(other_numerics.corr(), cmap=\"Blues\", center=0); #cmap=\"Blues\", cmap='RdBu',\n",
    "log_price.corr(housing['YearRemodAdd'])"
   ]
  },
  {
   "cell_type": "markdown",
   "id": "adbc3a6e",
   "metadata": {},
   "source": [
    "# BsmtFinSF1: Type 1 finished square feet"
   ]
  },
  {
   "cell_type": "code",
   "execution_count": 127,
   "id": "edb318e5",
   "metadata": {},
   "outputs": [
    {
     "name": "stderr",
     "output_type": "stream",
     "text": [
      "*c* argument looks like a single numeric RGB or RGBA sequence, which should be avoided as value-mapping will have precedence in case its length matches with *x* & *y*.  Please use the *color* keyword-argument or provide a 2D array with a single row if you intend to specify the same RGB or RGBA value for all points.\n"
     ]
    },
    {
     "data": {
      "text/plain": [
       "<AxesSubplot:xlabel='BsmtFinSF1', ylabel='SalePrice'>"
      ]
     },
     "execution_count": 127,
     "metadata": {},
     "output_type": "execute_result"
    },
    {
     "data": {
      "image/png": "[encoded data removed]",
      "text/plain": [
       "<Figure size 432x288 with 1 Axes>"
      ]
     },
     "metadata": {},
     "output_type": "display_data"
    }
   ],
   "source": [
    "# BsmtFinSF1\n",
    "\n",
    "# sns.set_theme(style='darkgrid')\n",
    "\n",
    "# ax = sns.barplot(x=\"BsmtFinSF1\", y=\"SalePrice\", data=other_numerics, color='skyblue' ,ci=None)\n",
    "\n",
    "housing[['BsmtFinSF1', 'SalePrice']].plot(kind='scatter', x='BsmtFinSF1', y='SalePrice', logx=True, logy=True) #,"
   ]
  },
  {
   "cell_type": "code",
   "execution_count": 274,
   "id": "a43401b6",
   "metadata": {},
   "outputs": [],
   "source": [
    "housing['BsmtFinSF1'] = housing2['BsmtFinSF1']\n",
    "housing['yeo_BsmtFinSF1'],_  = stats.yeojohnson(housing['BsmtFinSF1'])"
   ]
  },
  {
   "cell_type": "code",
   "execution_count": 279,
   "id": "6d2121db",
   "metadata": {},
   "outputs": [],
   "source": [
    "housing['log_BsmtFinSF1'] = np.log(housing['BsmtFinSF1']+1)"
   ]
  },
  {
   "cell_type": "code",
   "execution_count": 275,
   "id": "f0dd29c2",
   "metadata": {},
   "outputs": [
    {
     "data": {
      "text/plain": [
       "0.37202307356708825"
      ]
     },
     "execution_count": 275,
     "metadata": {},
     "output_type": "execute_result"
    }
   ],
   "source": [
    "log_price.corr(housing['BsmtFinSF1'])"
   ]
  },
  {
   "cell_type": "code",
   "execution_count": 276,
   "id": "caff50e0",
   "metadata": {},
   "outputs": [
    {
     "data": {
      "text/plain": [
       "0.24929844918275668"
      ]
     },
     "execution_count": 276,
     "metadata": {},
     "output_type": "execute_result"
    }
   ],
   "source": [
    "log_price.corr(housing['yeo_BsmtFinSF1'])"
   ]
  },
  {
   "cell_type": "code",
   "execution_count": 280,
   "id": "a2ec0e66",
   "metadata": {},
   "outputs": [
    {
     "data": {
      "text/plain": [
       "0.20809886201668612"
      ]
     },
     "execution_count": 280,
     "metadata": {},
     "output_type": "execute_result"
    }
   ],
   "source": [
    "log_price.corr(housing['log_BsmtFinSF1'])"
   ]
  },
  {
   "cell_type": "code",
   "execution_count": 284,
   "id": "16d9db51",
   "metadata": {},
   "outputs": [
    {
     "name": "stderr",
     "output_type": "stream",
     "text": [
      "*c* argument looks like a single numeric RGB or RGBA sequence, which should be avoided as value-mapping will have precedence in case its length matches with *x* & *y*.  Please use the *color* keyword-argument or provide a 2D array with a single row if you intend to specify the same RGB or RGBA value for all points.\n"
     ]
    },
    {
     "data": {
      "text/plain": [
       "<AxesSubplot:xlabel='BsmtFinSF2', ylabel='SalePrice'>"
      ]
     },
     "execution_count": 284,
     "metadata": {},
     "output_type": "execute_result"
    },
    {
     "data": {
      "image/png": "[encoded data removed]",
      "text/plain": [
       "<Figure size 432x288 with 1 Axes>"
      ]
     },
     "metadata": {
      "needs_background": "light"
     },
     "output_type": "display_data"
    }
   ],
   "source": [
    "housing[['BsmtFinSF2', 'SalePrice']].plot(kind='scatter', x='BsmtFinSF2', y='SalePrice', logx=True, logy=True) #,, 'SalePrice']].plot(kind='scatter', x='BsmtFinSF1', y='SalePrice', logx=True, logy=True) #,"
   ]
  },
  {
   "cell_type": "code",
   "execution_count": 285,
   "id": "97bc1fc1",
   "metadata": {},
   "outputs": [
    {
     "name": "stderr",
     "output_type": "stream",
     "text": [
      "*c* argument looks like a single numeric RGB or RGBA sequence, which should be avoided as value-mapping will have precedence in case its length matches with *x* & *y*.  Please use the *color* keyword-argument or provide a 2D array with a single row if you intend to specify the same RGB or RGBA value for all points.\n"
     ]
    },
    {
     "data": {
      "text/plain": [
       "<AxesSubplot:xlabel='BsmtUnfSF', ylabel='SalePrice'>"
      ]
     },
     "execution_count": 285,
     "metadata": {},
     "output_type": "execute_result"
    },
    {
     "data": {
      "image/png": "[encoded data removed]",
      "text/plain": [
       "<Figure size 432x288 with 1 Axes>"
      ]
     },
     "metadata": {
      "needs_background": "light"
     },
     "output_type": "display_data"
    }
   ],
   "source": [
    "# BsmtUnfSF  \n",
    "housing[['BsmtUnfSF', 'SalePrice']].plot(kind='scatter', x='BsmtUnfSF', y='SalePrice', logx=True, logy=True) #,, 'SalePrice']].plot(kind='scatter', x='BsmtFinSF1', y='SalePrice', logx=True, logy=True) #,"
   ]
  },
  {
   "cell_type": "code",
   "execution_count": 287,
   "id": "2bc99f67",
   "metadata": {},
   "outputs": [
    {
     "data": {
      "text/plain": [
       "0.20823308801287405"
      ]
     },
     "execution_count": 287,
     "metadata": {},
     "output_type": "execute_result"
    }
   ],
   "source": [
    "log_price.corr(np.log(housing['BsmtUnfSF']+1))"
   ]
  },
  {
   "cell_type": "code",
   "execution_count": 423,
   "id": "927e7aeb",
   "metadata": {},
   "outputs": [
    {
     "data": {
      "text/plain": [
       "0.20823308801287405"
      ]
     },
     "execution_count": 423,
     "metadata": {},
     "output_type": "execute_result"
    }
   ],
   "source": [
    "log_price.corr(np.log(housing['BsmtUnfSF']+1))"
   ]
  },
  {
   "cell_type": "code",
   "execution_count": 346,
   "id": "269bb808",
   "metadata": {},
   "outputs": [
    {
     "data": {
      "text/plain": [
       "0.2129443544331991"
      ]
     },
     "execution_count": 346,
     "metadata": {},
     "output_type": "execute_result"
    }
   ],
   "source": [
    "yeo_BsmtUnfSF,_ = pd.Series(stats.yeojohnson(housing['BsmtUnfSF']))\n",
    "# log_price.corr(yeo_BsmtUnfSF)\n",
    "yeo_BsmtUnfSF = pd.Series(yeo_BsmtUnfSF)\n",
    "type(yeo_BsmtUnfSF)\n",
    "log_price.corr(yeo_BsmtUnfSF)"
   ]
  },
  {
   "cell_type": "code",
   "execution_count": 338,
   "id": "c8d26544",
   "metadata": {},
   "outputs": [
    {
     "name": "stderr",
     "output_type": "stream",
     "text": [
      "*c* argument looks like a single numeric RGB or RGBA sequence, which should be avoided as value-mapping will have precedence in case its length matches with *x* & *y*.  Please use the *color* keyword-argument or provide a 2D array with a single row if you intend to specify the same RGB or RGBA value for all points.\n"
     ]
    },
    {
     "data": {
      "text/plain": [
       "<AxesSubplot:xlabel='EnclosedPorch', ylabel='SalePrice'>"
      ]
     },
     "execution_count": 338,
     "metadata": {},
     "output_type": "execute_result"
    },
    {
     "data": {
      "image/png": "[encoded data removed]",
      "text/plain": [
       "<Figure size 432x288 with 1 Axes>"
      ]
     },
     "metadata": {
      "needs_background": "light"
     },
     "output_type": "display_data"
    }
   ],
   "source": [
    "# EnclosedPorch \n",
    "\n",
    "housing[['EnclosedPorch', 'SalePrice']].plot(kind='scatter', x='EnclosedPorch', y='SalePrice', logx=True, logy=True) #logx=True,    ,, 'SalePrice']].plot(kind='scatter', x='BsmtFinSF1', y='SalePrice', logx=True, logy=True) #,"
   ]
  },
  {
   "cell_type": "code",
   "execution_count": 340,
   "id": "7f097a0c",
   "metadata": {},
   "outputs": [
    {
     "data": {
      "text/plain": [
       "-0.20726326597694913"
      ]
     },
     "execution_count": 340,
     "metadata": {},
     "output_type": "execute_result"
    }
   ],
   "source": [
    "log_price.corr(np.log(housing['EnclosedPorch']+1))"
   ]
  },
  {
   "cell_type": "code",
   "execution_count": 356,
   "id": "9aa14e93",
   "metadata": {},
   "outputs": [
    {
     "data": {
      "text/plain": [
       "-0.21653634952791137"
      ]
     },
     "execution_count": 356,
     "metadata": {},
     "output_type": "execute_result"
    }
   ],
   "source": [
    "yeo_EnclosedPorch,_ = pd.Series(stats.yeojohnson(housing['EnclosedPorch']))\n",
    "yeo_EnclosedPorch =pd.Series(yeo_EnclosedPorch)\n",
    "log_price.corr(yeo_EnclosedPorch)"
   ]
  },
  {
   "cell_type": "code",
   "execution_count": 295,
   "id": "12779a9d",
   "metadata": {},
   "outputs": [
    {
     "name": "stderr",
     "output_type": "stream",
     "text": [
      "*c* argument looks like a single numeric RGB or RGBA sequence, which should be avoided as value-mapping will have precedence in case its length matches with *x* & *y*.  Please use the *color* keyword-argument or provide a 2D array with a single row if you intend to specify the same RGB or RGBA value for all points.\n"
     ]
    },
    {
     "data": {
      "text/plain": [
       "<AxesSubplot:xlabel='BsmtFullBath', ylabel='SalePrice'>"
      ]
     },
     "execution_count": 295,
     "metadata": {},
     "output_type": "execute_result"
    },
    {
     "data": {
      "image/png": "[encoded data removed]",
      "text/plain": [
       "<Figure size 432x288 with 1 Axes>"
      ]
     },
     "metadata": {
      "needs_background": "light"
     },
     "output_type": "display_data"
    }
   ],
   "source": [
    "# BsmtFullBath \n",
    "housing[['BsmtFullBath', 'SalePrice']].plot(kind='scatter', x='BsmtFullBath', y='SalePrice',  logy=True) #logx=True,    ,, 'SalePrice']].plot(kind='scatter', x='BsmtFinSF1', y='SalePrice', logx=True, logy=True) #,"
   ]
  },
  {
   "cell_type": "code",
   "execution_count": 296,
   "id": "e426aacc",
   "metadata": {
    "scrolled": true
   },
   "outputs": [
    {
     "name": "stderr",
     "output_type": "stream",
     "text": [
      "*c* argument looks like a single numeric RGB or RGBA sequence, which should be avoided as value-mapping will have precedence in case its length matches with *x* & *y*.  Please use the *color* keyword-argument or provide a 2D array with a single row if you intend to specify the same RGB or RGBA value for all points.\n"
     ]
    },
    {
     "data": {
      "text/plain": [
       "<AxesSubplot:xlabel='BsmtHalfBath', ylabel='SalePrice'>"
      ]
     },
     "execution_count": 296,
     "metadata": {},
     "output_type": "execute_result"
    },
    {
     "data": {
      "image/png": "[encoded data removed]",
      "text/plain": [
       "<Figure size 432x288 with 1 Axes>"
      ]
     },
     "metadata": {
      "needs_background": "light"
     },
     "output_type": "display_data"
    }
   ],
   "source": [
    "# BsmtHalfBath \n",
    "housing[['BsmtHalfBath', 'SalePrice']].plot(kind='scatter', x='BsmtHalfBath', y='SalePrice',  logy=True) #logx=True,    ,, 'SalePrice']].plot(kind='scatter', x='BsmtFinSF1', y='SalePrice', logx=True, logy=True) #,"
   ]
  },
  {
   "cell_type": "code",
   "execution_count": 297,
   "id": "d0b54aef",
   "metadata": {},
   "outputs": [
    {
     "name": "stderr",
     "output_type": "stream",
     "text": [
      "*c* argument looks like a single numeric RGB or RGBA sequence, which should be avoided as value-mapping will have precedence in case its length matches with *x* & *y*.  Please use the *color* keyword-argument or provide a 2D array with a single row if you intend to specify the same RGB or RGBA value for all points.\n"
     ]
    },
    {
     "data": {
      "text/plain": [
       "<AxesSubplot:xlabel='FullBath', ylabel='SalePrice'>"
      ]
     },
     "execution_count": 297,
     "metadata": {},
     "output_type": "execute_result"
    },
    {
     "data": {
      "image/png": "[encoded data removed]",
      "text/plain": [
       "<Figure size 432x288 with 1 Axes>"
      ]
     },
     "metadata": {
      "needs_background": "light"
     },
     "output_type": "display_data"
    }
   ],
   "source": [
    "# FullBath\n",
    "\n",
    "housing[['FullBath', 'SalePrice']].plot(kind='scatter', x='FullBath', y='SalePrice',  logy=True) #logx=True,    ,, 'SalePrice']].plot(kind='scatter', x='BsmtFinSF1', y='SalePrice', logx=True, logy=True) #,"
   ]
  },
  {
   "cell_type": "code",
   "execution_count": 298,
   "id": "67136bee",
   "metadata": {},
   "outputs": [],
   "source": [
    "def scatter_it(var):\n",
    "    return housing[[var, 'SalePrice']].plot(kind='scatter', x=var, y='SalePrice',  logy=True)\n",
    "   "
   ]
  },
  {
   "cell_type": "code",
   "execution_count": 299,
   "id": "67c0b382",
   "metadata": {},
   "outputs": [
    {
     "name": "stderr",
     "output_type": "stream",
     "text": [
      "*c* argument looks like a single numeric RGB or RGBA sequence, which should be avoided as value-mapping will have precedence in case its length matches with *x* & *y*.  Please use the *color* keyword-argument or provide a 2D array with a single row if you intend to specify the same RGB or RGBA value for all points.\n"
     ]
    },
    {
     "data": {
      "text/plain": [
       "<AxesSubplot:xlabel='HalfBath', ylabel='SalePrice'>"
      ]
     },
     "execution_count": 299,
     "metadata": {},
     "output_type": "execute_result"
    },
    {
     "data": {
      "image/png": "[encoded data removed]",
      "text/plain": [
       "<Figure size 432x288 with 1 Axes>"
      ]
     },
     "metadata": {
      "needs_background": "light"
     },
     "output_type": "display_data"
    }
   ],
   "source": [
    "# HalfBath \n",
    "\n",
    "scatter_it('HalfBath')"
   ]
  },
  {
   "cell_type": "code",
   "execution_count": 349,
   "id": "4768f651",
   "metadata": {},
   "outputs": [
    {
     "name": "stderr",
     "output_type": "stream",
     "text": [
      "*c* argument looks like a single numeric RGB or RGBA sequence, which should be avoided as value-mapping will have precedence in case its length matches with *x* & *y*.  Please use the *color* keyword-argument or provide a 2D array with a single row if you intend to specify the same RGB or RGBA value for all points.\n"
     ]
    },
    {
     "data": {
      "text/plain": [
       "<AxesSubplot:xlabel='LotFrontage', ylabel='SalePrice'>"
      ]
     },
     "execution_count": 349,
     "metadata": {},
     "output_type": "execute_result"
    },
    {
     "data": {
      "image/png": "[encoded data removed]",
      "text/plain": [
       "<Figure size 432x288 with 1 Axes>"
      ]
     },
     "metadata": {
      "needs_background": "light"
     },
     "output_type": "display_data"
    }
   ],
   "source": [
    "# LotFrontage \n",
    "scatter_it('LotFrontage')"
   ]
  },
  {
   "cell_type": "code",
   "execution_count": 353,
   "id": "3ca2e1bf",
   "metadata": {},
   "outputs": [
    {
     "name": "stderr",
     "output_type": "stream",
     "text": [
      "*c* argument looks like a single numeric RGB or RGBA sequence, which should be avoided as value-mapping will have precedence in case its length matches with *x* & *y*.  Please use the *color* keyword-argument or provide a 2D array with a single row if you intend to specify the same RGB or RGBA value for all points.\n"
     ]
    },
    {
     "data": {
      "text/plain": [
       "<AxesSubplot:xlabel='LotFrontage', ylabel='SalePrice'>"
      ]
     },
     "execution_count": 353,
     "metadata": {},
     "output_type": "execute_result"
    },
    {
     "data": {
      "image/png": "[encoded data removed]",
      "text/plain": [
       "<Figure size 432x288 with 1 Axes>"
      ]
     },
     "metadata": {
      "needs_background": "light"
     },
     "output_type": "display_data"
    }
   ],
   "source": [
    "housing[['LotFrontage', 'SalePrice']].plot(kind='scatter', x='LotFrontage', y='SalePrice', logx=True, logy=True)"
   ]
  },
  {
   "cell_type": "code",
   "execution_count": 354,
   "id": "809043f5",
   "metadata": {},
   "outputs": [
    {
     "data": {
      "text/plain": [
       "0.022464447574781672"
      ]
     },
     "execution_count": 354,
     "metadata": {},
     "output_type": "execute_result"
    }
   ],
   "source": [
    "log_price.corr(np.log(housing['LotFrontage']+1))"
   ]
  },
  {
   "cell_type": "markdown",
   "id": "d8858dda",
   "metadata": {},
   "source": [
    "# Based on Analysis Transformations to be used for modeling"
   ]
  },
  {
   "cell_type": "code",
   "execution_count": 424,
   "id": "8e8d4642",
   "metadata": {},
   "outputs": [],
   "source": [
    "housing['log_GrLivArea'] = np.log(housing.GrLivArea)\n",
    "\n",
    "housing['log_LotArea'] = np.log(housing['LotArea'])\n",
    "\n",
    "from scipy import stats\n",
    "\n",
    "housing['yeo_TotalBsmtSF'],_ = stats.yeojohnson(housing['TotalBsmtSF'])\n",
    "\n",
    "housing['log_first_FlrSF'] = np.log(housing['1stFlrSF'])\n",
    "\n",
    "housing['yeo_GarageArea'],_  = stats.yeojohnson(housing['GarageArea'] )\n",
    "\n",
    "housing['log_WoodDeckSF'] = np.log(housing['WoodDeckSF'] + 1)\n",
    "\n",
    "housing['log_OpenPorchSF'] = np.log(housing['OpenPorchSF'] + 1)\n",
    "\n",
    "housing['has_pool'] = housing['PoolArea'] != 0\n",
    "\n",
    "housing['log_LotFrontage']=np.log(housing['LotFrontage'] + 1)\n",
    "\n",
    "housing['log_BsmtFinSF1'] = np.log(housing['BsmtFinSF1']+1)\n",
    "\n",
    "housing['log_MasVnrArea'] = np.log(size_related['MasVnrArea'] + 1)"
   ]
  },
  {
   "cell_type": "code",
   "execution_count": null,
   "id": "77d3c3fc",
   "metadata": {},
   "outputs": [],
   "source": []
  }
 ],
 "metadata": {
  "kernelspec": {
   "display_name": "Python 3 (ipykernel)",
   "language": "python",
   "name": "python3"
  },
  "language_info": {
   "codemirror_mode": {
    "name": "ipython",
    "version": 3
   },
   "file_extension": ".py",
   "mimetype": "text/x-python",
   "name": "python",
   "nbconvert_exporter": "python",
   "pygments_lexer": "ipython3",
   "version": "3.9.7"
  }
 },
 "nbformat": 4,
 "nbformat_minor": 5
}
