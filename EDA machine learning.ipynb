{
 "cells": [
  {
   "cell_type": "code",
   "execution_count": 1,
   "id": "3fb04938",
   "metadata": {},
   "outputs": [],
   "source": [
    "\n",
    "import matplotlib.pyplot as plt\n",
    "import seaborn as sns"
   ]
  },
  {
   "cell_type": "code",
   "execution_count": 153,
   "id": "23275d2d",
   "metadata": {},
   "outputs": [],
   "source": [
    "import numpy as np\n",
    "import pandas as pd\n",
    "from scipy import stats\n",
    "%matplotlib inline\n",
    "\n",
    "#x_train is being read in as housing\n",
    "\n",
    "housing = pd.read_csv(r'C:\\Users\\dgarb\\OneDrive\\Documents\\Data Science Bootcamp August\\Machine Learning Project\\data\\x_train.csv',index_col=0)\n",
    "\n",
    "x_test = pd.read_csv(r'C:\\Users\\dgarb\\OneDrive\\Documents\\Data Science Bootcamp August\\Machine Learning Project\\data\\x_text.csv',index_col=0)\n",
    "\n",
    "y_train = pd.read_csv(r'C:\\Users\\dgarb\\OneDrive\\Documents\\Data Science Bootcamp August\\Machine Learning Project\\data\\y_train.csv',index_col=0)\n",
    "\n",
    "df_dummies = pd.read_csv(r'C:\\Users\\dgarb\\OneDrive\\Documents\\Data Science Bootcamp August\\Machine Learning Project\\data\\df_dummies.csv',index_col=0)\n",
    "# y_test.read_csv(r'C:\\Users\\dgarb\\OneDrive\\Documents\\Data Science Bootcamp August\\Machine Learning Project\\data\\y_test.csv',index_col=0)"
   ]
  },
  {
   "cell_type": "code",
   "execution_count": 3,
   "id": "3c5a02d8",
   "metadata": {},
   "outputs": [
    {
     "data": {
      "text/plain": [
       "(1784, 249)"
      ]
     },
     "execution_count": 3,
     "metadata": {},
     "output_type": "execute_result"
    }
   ],
   "source": [
    "housing.shape"
   ]
  },
  {
   "cell_type": "code",
   "execution_count": 4,
   "id": "f5bae5e6",
   "metadata": {},
   "outputs": [],
   "source": [
    "housing2 = housing.copy()"
   ]
  },
  {
   "cell_type": "code",
   "execution_count": 6,
   "id": "e56f4e61",
   "metadata": {},
   "outputs": [
    {
     "data": {
      "text/html": [
       "<div>\n",
       "<style scoped>\n",
       "    .dataframe tbody tr th:only-of-type {\n",
       "        vertical-align: middle;\n",
       "    }\n",
       "\n",
       "    .dataframe tbody tr th {\n",
       "        vertical-align: top;\n",
       "    }\n",
       "\n",
       "    .dataframe thead th {\n",
       "        text-align: right;\n",
       "    }\n",
       "</style>\n",
       "<table border=\"1\" class=\"dataframe\">\n",
       "  <thead>\n",
       "    <tr style=\"text-align: right;\">\n",
       "      <th></th>\n",
       "      <th>GrLivArea</th>\n",
       "      <th>SalePrice</th>\n",
       "      <th>MSSubClass</th>\n",
       "      <th>MSZoning</th>\n",
       "      <th>LotFrontage</th>\n",
       "      <th>LotArea</th>\n",
       "      <th>Street</th>\n",
       "      <th>LotShape</th>\n",
       "      <th>LandContour</th>\n",
       "      <th>Utilities</th>\n",
       "      <th>...</th>\n",
       "      <th>MoSold_5</th>\n",
       "      <th>MoSold_6</th>\n",
       "      <th>MoSold_7</th>\n",
       "      <th>MoSold_8</th>\n",
       "      <th>MoSold_9</th>\n",
       "      <th>SaleCondition_AdjLand</th>\n",
       "      <th>SaleCondition_Alloca</th>\n",
       "      <th>SaleCondition_Family</th>\n",
       "      <th>SaleCondition_Normal</th>\n",
       "      <th>SaleCondition_Partial</th>\n",
       "    </tr>\n",
       "  </thead>\n",
       "  <tbody>\n",
       "  </tbody>\n",
       "</table>\n",
       "<p>0 rows × 249 columns</p>\n",
       "</div>"
      ],
      "text/plain": [
       "Empty DataFrame\n",
       "Columns: [GrLivArea, SalePrice, MSSubClass, MSZoning, LotFrontage, LotArea, Street, LotShape, LandContour, Utilities, LotConfig, LandSlope, Neighborhood, Condition1, Condition2, BldgType, HouseStyle, OverallQual, OverallCond, YearBuilt, YearRemodAdd, RoofStyle, RoofMatl, Exterior1st, Exterior2nd, MasVnrType, MasVnrArea, ExterQual, ExterCond, Foundation, BsmtQual, BsmtCond, BsmtExposure, BsmtFinType1, BsmtFinSF1, BsmtFinType2, BsmtFinSF2, BsmtUnfSF, TotalBsmtSF, Heating, HeatingQC, CentralAir, Electrical, 1stFlrSF, 2ndFlrSF, LowQualFinSF, BsmtFullBath, BsmtHalfBath, FullBath, HalfBath, BedroomAbvGr, KitchenAbvGr, KitchenQual, TotRmsAbvGrd, Functional, Fireplaces, FireplaceQu, GarageType, GarageYrBlt, GarageFinish, GarageCars, GarageArea, GarageQual, GarageCond, PavedDrive, WoodDeckSF, OpenPorchSF, EnclosedPorch, 3SsnPorch, ScreenPorch, PoolArea, Fence, MiscVal, MoSold, YrSold, SaleType, SaleCondition, log_price, bc_GrLivArea, has_pool, has_miscfeature, alley_access, MSSubClass_150, MSSubClass_160, MSSubClass_180, MSSubClass_190, MSSubClass_20, MSSubClass_30, MSSubClass_40, MSSubClass_45, MSSubClass_50, MSSubClass_60, MSSubClass_70, MSSubClass_75, MSSubClass_80, MSSubClass_85, MSSubClass_90, MSZoning_RH, MSZoning_RL, MSZoning_RM, ...]\n",
       "Index: []\n",
       "\n",
       "[0 rows x 249 columns]"
      ]
     },
     "execution_count": 6,
     "metadata": {},
     "output_type": "execute_result"
    }
   ],
   "source": [
    "housing2.loc[housing2['Neighborhood']== 'GrnHill']"
   ]
  },
  {
   "cell_type": "code",
   "execution_count": 8,
   "id": "30af6a9c",
   "metadata": {},
   "outputs": [
    {
     "name": "stdout",
     "output_type": "stream",
     "text": [
      "<class 'pandas.core.frame.DataFrame'>\n",
      "Int64Index: 1784 entries, 1232 to 1679\n",
      "Columns: 249 entries, GrLivArea to SaleCondition_Partial\n",
      "dtypes: bool(3), float64(13), int64(208), object(25)\n",
      "memory usage: 3.4+ MB\n"
     ]
    }
   ],
   "source": [
    "housing.info()"
   ]
  },
  {
   "cell_type": "code",
   "execution_count": 9,
   "id": "1c9e7eb4",
   "metadata": {},
   "outputs": [
    {
     "data": {
      "text/html": [
       "<div>\n",
       "<style scoped>\n",
       "    .dataframe tbody tr th:only-of-type {\n",
       "        vertical-align: middle;\n",
       "    }\n",
       "\n",
       "    .dataframe tbody tr th {\n",
       "        vertical-align: top;\n",
       "    }\n",
       "\n",
       "    .dataframe thead th {\n",
       "        text-align: right;\n",
       "    }\n",
       "</style>\n",
       "<table border=\"1\" class=\"dataframe\">\n",
       "  <thead>\n",
       "    <tr style=\"text-align: right;\">\n",
       "      <th></th>\n",
       "      <th>GrLivArea</th>\n",
       "      <th>SalePrice</th>\n",
       "      <th>MSSubClass</th>\n",
       "      <th>MSZoning</th>\n",
       "      <th>LotFrontage</th>\n",
       "      <th>LotArea</th>\n",
       "      <th>Street</th>\n",
       "      <th>LotShape</th>\n",
       "      <th>LandContour</th>\n",
       "      <th>Utilities</th>\n",
       "      <th>LotConfig</th>\n",
       "      <th>LandSlope</th>\n",
       "      <th>Neighborhood</th>\n",
       "      <th>Condition1</th>\n",
       "      <th>Condition2</th>\n",
       "      <th>BldgType</th>\n",
       "      <th>HouseStyle</th>\n",
       "      <th>OverallQual</th>\n",
       "      <th>OverallCond</th>\n",
       "      <th>YearBuilt</th>\n",
       "      <th>YearRemodAdd</th>\n",
       "      <th>RoofStyle</th>\n",
       "      <th>RoofMatl</th>\n",
       "      <th>Exterior1st</th>\n",
       "      <th>Exterior2nd</th>\n",
       "      <th>MasVnrType</th>\n",
       "      <th>MasVnrArea</th>\n",
       "      <th>ExterQual</th>\n",
       "      <th>ExterCond</th>\n",
       "      <th>Foundation</th>\n",
       "      <th>BsmtQual</th>\n",
       "      <th>BsmtCond</th>\n",
       "      <th>BsmtExposure</th>\n",
       "      <th>BsmtFinType1</th>\n",
       "      <th>BsmtFinSF1</th>\n",
       "      <th>BsmtFinType2</th>\n",
       "      <th>BsmtFinSF2</th>\n",
       "      <th>BsmtUnfSF</th>\n",
       "      <th>TotalBsmtSF</th>\n",
       "      <th>Heating</th>\n",
       "      <th>HeatingQC</th>\n",
       "      <th>CentralAir</th>\n",
       "      <th>Electrical</th>\n",
       "      <th>1stFlrSF</th>\n",
       "      <th>2ndFlrSF</th>\n",
       "      <th>LowQualFinSF</th>\n",
       "      <th>BsmtFullBath</th>\n",
       "      <th>BsmtHalfBath</th>\n",
       "      <th>FullBath</th>\n",
       "      <th>HalfBath</th>\n",
       "      <th>BedroomAbvGr</th>\n",
       "      <th>KitchenAbvGr</th>\n",
       "      <th>KitchenQual</th>\n",
       "      <th>TotRmsAbvGrd</th>\n",
       "      <th>Functional</th>\n",
       "      <th>Fireplaces</th>\n",
       "      <th>FireplaceQu</th>\n",
       "      <th>GarageType</th>\n",
       "      <th>GarageYrBlt</th>\n",
       "      <th>GarageFinish</th>\n",
       "      <th>GarageCars</th>\n",
       "      <th>GarageArea</th>\n",
       "      <th>GarageQual</th>\n",
       "      <th>GarageCond</th>\n",
       "      <th>PavedDrive</th>\n",
       "      <th>WoodDeckSF</th>\n",
       "      <th>OpenPorchSF</th>\n",
       "      <th>EnclosedPorch</th>\n",
       "      <th>3SsnPorch</th>\n",
       "      <th>ScreenPorch</th>\n",
       "      <th>PoolArea</th>\n",
       "      <th>Fence</th>\n",
       "      <th>MiscVal</th>\n",
       "      <th>MoSold</th>\n",
       "      <th>YrSold</th>\n",
       "      <th>SaleType</th>\n",
       "      <th>SaleCondition</th>\n",
       "      <th>log_price</th>\n",
       "      <th>bc_GrLivArea</th>\n",
       "      <th>has_pool</th>\n",
       "      <th>has_miscfeature</th>\n",
       "      <th>alley_access</th>\n",
       "      <th>MSSubClass_150</th>\n",
       "      <th>MSSubClass_160</th>\n",
       "      <th>MSSubClass_180</th>\n",
       "      <th>MSSubClass_190</th>\n",
       "      <th>MSSubClass_20</th>\n",
       "      <th>MSSubClass_30</th>\n",
       "      <th>MSSubClass_40</th>\n",
       "      <th>MSSubClass_45</th>\n",
       "      <th>MSSubClass_50</th>\n",
       "      <th>MSSubClass_60</th>\n",
       "      <th>MSSubClass_70</th>\n",
       "      <th>MSSubClass_75</th>\n",
       "      <th>MSSubClass_80</th>\n",
       "      <th>MSSubClass_85</th>\n",
       "      <th>MSSubClass_90</th>\n",
       "      <th>MSZoning_RH</th>\n",
       "      <th>MSZoning_RL</th>\n",
       "      <th>MSZoning_RM</th>\n",
       "      <th>Street_Pave</th>\n",
       "      <th>LandContour_HLS</th>\n",
       "      <th>LandContour_Low</th>\n",
       "      <th>LandContour_Lvl</th>\n",
       "      <th>Utilities_NoSewr</th>\n",
       "      <th>LotConfig_CulDSac</th>\n",
       "      <th>LotConfig_FR2</th>\n",
       "      <th>LotConfig_FR3</th>\n",
       "      <th>LotConfig_Inside</th>\n",
       "      <th>Neighborhood_Blueste</th>\n",
       "      <th>Neighborhood_BrDale</th>\n",
       "      <th>Neighborhood_BrkSide</th>\n",
       "      <th>Neighborhood_ClearCr</th>\n",
       "      <th>Neighborhood_CollgCr</th>\n",
       "      <th>Neighborhood_Crawfor</th>\n",
       "      <th>Neighborhood_Edwards</th>\n",
       "      <th>Neighborhood_Gilbert</th>\n",
       "      <th>Neighborhood_Greens</th>\n",
       "      <th>Neighborhood_IDOTRR</th>\n",
       "      <th>Neighborhood_MeadowV</th>\n",
       "      <th>Neighborhood_Mitchel</th>\n",
       "      <th>Neighborhood_NAmes</th>\n",
       "      <th>Neighborhood_NPkVill</th>\n",
       "      <th>Neighborhood_NWAmes</th>\n",
       "      <th>Neighborhood_NoRidge</th>\n",
       "      <th>Neighborhood_NridgHt</th>\n",
       "      <th>Neighborhood_OldTown</th>\n",
       "      <th>Neighborhood_SWISU</th>\n",
       "      <th>Neighborhood_Sawyer</th>\n",
       "      <th>Neighborhood_SawyerW</th>\n",
       "      <th>Neighborhood_Somerst</th>\n",
       "      <th>Neighborhood_StoneBr</th>\n",
       "      <th>Neighborhood_Timber</th>\n",
       "      <th>Neighborhood_Veenker</th>\n",
       "      <th>Condition1_Feedr</th>\n",
       "      <th>Condition1_Norm</th>\n",
       "      <th>Condition1_PosA</th>\n",
       "      <th>Condition1_PosN</th>\n",
       "      <th>Condition1_RRAe</th>\n",
       "      <th>Condition1_RRAn</th>\n",
       "      <th>Condition1_RRNe</th>\n",
       "      <th>Condition1_RRNn</th>\n",
       "      <th>Condition2_Feedr</th>\n",
       "      <th>Condition2_Norm</th>\n",
       "      <th>Condition2_PosA</th>\n",
       "      <th>Condition2_PosN</th>\n",
       "      <th>Condition2_RRAe</th>\n",
       "      <th>Condition2_RRAn</th>\n",
       "      <th>Condition2_RRNn</th>\n",
       "      <th>BldgType_2fmCon</th>\n",
       "      <th>BldgType_Duplex</th>\n",
       "      <th>BldgType_Twnhs</th>\n",
       "      <th>BldgType_TwnhsE</th>\n",
       "      <th>HouseStyle_1.5Unf</th>\n",
       "      <th>HouseStyle_1Story</th>\n",
       "      <th>HouseStyle_2.5Fin</th>\n",
       "      <th>HouseStyle_2.5Unf</th>\n",
       "      <th>HouseStyle_2Story</th>\n",
       "      <th>HouseStyle_SFoyer</th>\n",
       "      <th>HouseStyle_SLvl</th>\n",
       "      <th>RoofStyle_Gable</th>\n",
       "      <th>RoofStyle_Gambrel</th>\n",
       "      <th>RoofStyle_Hip</th>\n",
       "      <th>RoofStyle_Mansard</th>\n",
       "      <th>RoofStyle_Shed</th>\n",
       "      <th>RoofMatl_Membran</th>\n",
       "      <th>RoofMatl_Metal</th>\n",
       "      <th>RoofMatl_Roll</th>\n",
       "      <th>RoofMatl_Tar&amp;Grv</th>\n",
       "      <th>RoofMatl_WdShake</th>\n",
       "      <th>RoofMatl_WdShngl</th>\n",
       "      <th>Exterior1st_AsphShn</th>\n",
       "      <th>Exterior1st_BrkComm</th>\n",
       "      <th>Exterior1st_BrkFace</th>\n",
       "      <th>Exterior1st_CBlock</th>\n",
       "      <th>Exterior1st_CemntBd</th>\n",
       "      <th>Exterior1st_HdBoard</th>\n",
       "      <th>Exterior1st_ImStucc</th>\n",
       "      <th>Exterior1st_MetalSd</th>\n",
       "      <th>Exterior1st_Plywood</th>\n",
       "      <th>Exterior1st_PreCast</th>\n",
       "      <th>Exterior1st_Stucco</th>\n",
       "      <th>Exterior1st_VinylSd</th>\n",
       "      <th>Exterior1st_Wd Sdng</th>\n",
       "      <th>Exterior1st_WdShing</th>\n",
       "      <th>Exterior2nd_AsphShn</th>\n",
       "      <th>Exterior2nd_Brk Cmn</th>\n",
       "      <th>Exterior2nd_BrkFace</th>\n",
       "      <th>Exterior2nd_CBlock</th>\n",
       "      <th>Exterior2nd_CmentBd</th>\n",
       "      <th>Exterior2nd_HdBoard</th>\n",
       "      <th>Exterior2nd_ImStucc</th>\n",
       "      <th>Exterior2nd_MetalSd</th>\n",
       "      <th>Exterior2nd_Plywood</th>\n",
       "      <th>Exterior2nd_PreCast</th>\n",
       "      <th>Exterior2nd_Stone</th>\n",
       "      <th>Exterior2nd_Stucco</th>\n",
       "      <th>Exterior2nd_VinylSd</th>\n",
       "      <th>Exterior2nd_Wd Sdng</th>\n",
       "      <th>Exterior2nd_Wd Shng</th>\n",
       "      <th>MasVnrType_BrkFace</th>\n",
       "      <th>MasVnrType_None</th>\n",
       "      <th>MasVnrType_Stone</th>\n",
       "      <th>Foundation_CBlock</th>\n",
       "      <th>Foundation_PConc</th>\n",
       "      <th>Foundation_Slab</th>\n",
       "      <th>Foundation_Stone</th>\n",
       "      <th>Foundation_Wood</th>\n",
       "      <th>Heating_GasA</th>\n",
       "      <th>Heating_GasW</th>\n",
       "      <th>Heating_Grav</th>\n",
       "      <th>Heating_OthW</th>\n",
       "      <th>Heating_Wall</th>\n",
       "      <th>CentralAir_Y</th>\n",
       "      <th>Electrical_FuseF</th>\n",
       "      <th>Electrical_FuseP</th>\n",
       "      <th>Electrical_Mixed</th>\n",
       "      <th>Electrical_SBrkr</th>\n",
       "      <th>GarageType_Attchd</th>\n",
       "      <th>GarageType_Basment</th>\n",
       "      <th>GarageType_BuiltIn</th>\n",
       "      <th>GarageType_CarPort</th>\n",
       "      <th>GarageType_Detchd</th>\n",
       "      <th>GarageType_No</th>\n",
       "      <th>GarageFinish_No</th>\n",
       "      <th>GarageFinish_RFn</th>\n",
       "      <th>GarageFinish_Unf</th>\n",
       "      <th>PavedDrive_P</th>\n",
       "      <th>PavedDrive_Y</th>\n",
       "      <th>Fence_GdWo</th>\n",
       "      <th>Fence_MnPrv</th>\n",
       "      <th>Fence_MnWw</th>\n",
       "      <th>Fence_No</th>\n",
       "      <th>MoSold_10</th>\n",
       "      <th>MoSold_11</th>\n",
       "      <th>MoSold_12</th>\n",
       "      <th>MoSold_2</th>\n",
       "      <th>MoSold_3</th>\n",
       "      <th>MoSold_4</th>\n",
       "      <th>MoSold_5</th>\n",
       "      <th>MoSold_6</th>\n",
       "      <th>MoSold_7</th>\n",
       "      <th>MoSold_8</th>\n",
       "      <th>MoSold_9</th>\n",
       "      <th>SaleCondition_AdjLand</th>\n",
       "      <th>SaleCondition_Alloca</th>\n",
       "      <th>SaleCondition_Family</th>\n",
       "      <th>SaleCondition_Normal</th>\n",
       "      <th>SaleCondition_Partial</th>\n",
       "    </tr>\n",
       "  </thead>\n",
       "  <tbody>\n",
       "    <tr>\n",
       "      <th>1232</th>\n",
       "      <td>1664</td>\n",
       "      <td>162900</td>\n",
       "      <td>60</td>\n",
       "      <td>RL</td>\n",
       "      <td>78.0</td>\n",
       "      <td>10140</td>\n",
       "      <td>Pave</td>\n",
       "      <td>4</td>\n",
       "      <td>Lvl</td>\n",
       "      <td>AllPub</td>\n",
       "      <td>Inside</td>\n",
       "      <td>3</td>\n",
       "      <td>NWAmes</td>\n",
       "      <td>Norm</td>\n",
       "      <td>Norm</td>\n",
       "      <td>1Fam</td>\n",
       "      <td>2Story</td>\n",
       "      <td>7</td>\n",
       "      <td>5</td>\n",
       "      <td>1976</td>\n",
       "      <td>1976</td>\n",
       "      <td>Gable</td>\n",
       "      <td>CompShg</td>\n",
       "      <td>HdBoard</td>\n",
       "      <td>HdBoard</td>\n",
       "      <td>None</td>\n",
       "      <td>0.0</td>\n",
       "      <td>3</td>\n",
       "      <td>3</td>\n",
       "      <td>PConc</td>\n",
       "      <td>4</td>\n",
       "      <td>3</td>\n",
       "      <td>0</td>\n",
       "      <td>6</td>\n",
       "      <td>194.0</td>\n",
       "      <td>1</td>\n",
       "      <td>0.0</td>\n",
       "      <td>638.0</td>\n",
       "      <td>832.0</td>\n",
       "      <td>GasA</td>\n",
       "      <td>3</td>\n",
       "      <td>Y</td>\n",
       "      <td>SBrkr</td>\n",
       "      <td>832</td>\n",
       "      <td>832</td>\n",
       "      <td>0</td>\n",
       "      <td>0.0</td>\n",
       "      <td>0.0</td>\n",
       "      <td>2</td>\n",
       "      <td>1</td>\n",
       "      <td>4</td>\n",
       "      <td>1</td>\n",
       "      <td>3</td>\n",
       "      <td>8</td>\n",
       "      <td>8</td>\n",
       "      <td>1</td>\n",
       "      <td>3</td>\n",
       "      <td>Attchd</td>\n",
       "      <td>1976.0</td>\n",
       "      <td>RFn</td>\n",
       "      <td>2.0</td>\n",
       "      <td>528.0</td>\n",
       "      <td>3</td>\n",
       "      <td>3</td>\n",
       "      <td>Y</td>\n",
       "      <td>0</td>\n",
       "      <td>28</td>\n",
       "      <td>0</td>\n",
       "      <td>0</td>\n",
       "      <td>259</td>\n",
       "      <td>0</td>\n",
       "      <td>GdWo</td>\n",
       "      <td>0</td>\n",
       "      <td>3</td>\n",
       "      <td>2006</td>\n",
       "      <td>WD</td>\n",
       "      <td>Normal</td>\n",
       "      <td>12.000892</td>\n",
       "      <td>9.303792</td>\n",
       "      <td>False</td>\n",
       "      <td>False</td>\n",
       "      <td>False</td>\n",
       "      <td>0</td>\n",
       "      <td>0</td>\n",
       "      <td>0</td>\n",
       "      <td>0</td>\n",
       "      <td>0</td>\n",
       "      <td>0</td>\n",
       "      <td>0</td>\n",
       "      <td>0</td>\n",
       "      <td>0</td>\n",
       "      <td>1</td>\n",
       "      <td>0</td>\n",
       "      <td>0</td>\n",
       "      <td>0</td>\n",
       "      <td>0</td>\n",
       "      <td>0</td>\n",
       "      <td>0</td>\n",
       "      <td>1</td>\n",
       "      <td>0</td>\n",
       "      <td>1</td>\n",
       "      <td>0</td>\n",
       "      <td>0</td>\n",
       "      <td>1</td>\n",
       "      <td>0</td>\n",
       "      <td>0</td>\n",
       "      <td>0</td>\n",
       "      <td>0</td>\n",
       "      <td>1</td>\n",
       "      <td>0</td>\n",
       "      <td>0</td>\n",
       "      <td>0</td>\n",
       "      <td>0</td>\n",
       "      <td>0</td>\n",
       "      <td>0</td>\n",
       "      <td>0</td>\n",
       "      <td>0</td>\n",
       "      <td>0</td>\n",
       "      <td>0</td>\n",
       "      <td>0</td>\n",
       "      <td>0</td>\n",
       "      <td>0</td>\n",
       "      <td>0</td>\n",
       "      <td>1</td>\n",
       "      <td>0</td>\n",
       "      <td>0</td>\n",
       "      <td>0</td>\n",
       "      <td>0</td>\n",
       "      <td>0</td>\n",
       "      <td>0</td>\n",
       "      <td>0</td>\n",
       "      <td>0</td>\n",
       "      <td>0</td>\n",
       "      <td>0</td>\n",
       "      <td>0</td>\n",
       "      <td>1</td>\n",
       "      <td>0</td>\n",
       "      <td>0</td>\n",
       "      <td>0</td>\n",
       "      <td>0</td>\n",
       "      <td>0</td>\n",
       "      <td>0</td>\n",
       "      <td>0</td>\n",
       "      <td>1</td>\n",
       "      <td>0</td>\n",
       "      <td>0</td>\n",
       "      <td>0</td>\n",
       "      <td>0</td>\n",
       "      <td>0</td>\n",
       "      <td>0</td>\n",
       "      <td>0</td>\n",
       "      <td>0</td>\n",
       "      <td>0</td>\n",
       "      <td>0</td>\n",
       "      <td>0</td>\n",
       "      <td>0</td>\n",
       "      <td>0</td>\n",
       "      <td>1</td>\n",
       "      <td>0</td>\n",
       "      <td>0</td>\n",
       "      <td>1</td>\n",
       "      <td>0</td>\n",
       "      <td>0</td>\n",
       "      <td>0</td>\n",
       "      <td>0</td>\n",
       "      <td>0</td>\n",
       "      <td>0</td>\n",
       "      <td>0</td>\n",
       "      <td>0</td>\n",
       "      <td>0</td>\n",
       "      <td>0</td>\n",
       "      <td>0</td>\n",
       "      <td>0</td>\n",
       "      <td>0</td>\n",
       "      <td>0</td>\n",
       "      <td>0</td>\n",
       "      <td>1</td>\n",
       "      <td>0</td>\n",
       "      <td>0</td>\n",
       "      <td>0</td>\n",
       "      <td>0</td>\n",
       "      <td>0</td>\n",
       "      <td>0</td>\n",
       "      <td>0</td>\n",
       "      <td>0</td>\n",
       "      <td>0</td>\n",
       "      <td>0</td>\n",
       "      <td>0</td>\n",
       "      <td>0</td>\n",
       "      <td>0</td>\n",
       "      <td>1</td>\n",
       "      <td>0</td>\n",
       "      <td>0</td>\n",
       "      <td>0</td>\n",
       "      <td>0</td>\n",
       "      <td>0</td>\n",
       "      <td>0</td>\n",
       "      <td>0</td>\n",
       "      <td>0</td>\n",
       "      <td>0</td>\n",
       "      <td>0</td>\n",
       "      <td>1</td>\n",
       "      <td>0</td>\n",
       "      <td>0</td>\n",
       "      <td>1</td>\n",
       "      <td>0</td>\n",
       "      <td>0</td>\n",
       "      <td>0</td>\n",
       "      <td>1</td>\n",
       "      <td>0</td>\n",
       "      <td>0</td>\n",
       "      <td>0</td>\n",
       "      <td>0</td>\n",
       "      <td>1</td>\n",
       "      <td>0</td>\n",
       "      <td>0</td>\n",
       "      <td>0</td>\n",
       "      <td>1</td>\n",
       "      <td>1</td>\n",
       "      <td>0</td>\n",
       "      <td>0</td>\n",
       "      <td>0</td>\n",
       "      <td>0</td>\n",
       "      <td>0</td>\n",
       "      <td>0</td>\n",
       "      <td>1</td>\n",
       "      <td>0</td>\n",
       "      <td>0</td>\n",
       "      <td>1</td>\n",
       "      <td>1</td>\n",
       "      <td>0</td>\n",
       "      <td>0</td>\n",
       "      <td>0</td>\n",
       "      <td>0</td>\n",
       "      <td>0</td>\n",
       "      <td>0</td>\n",
       "      <td>0</td>\n",
       "      <td>1</td>\n",
       "      <td>0</td>\n",
       "      <td>0</td>\n",
       "      <td>0</td>\n",
       "      <td>0</td>\n",
       "      <td>0</td>\n",
       "      <td>0</td>\n",
       "      <td>0</td>\n",
       "      <td>0</td>\n",
       "      <td>0</td>\n",
       "      <td>1</td>\n",
       "      <td>0</td>\n",
       "    </tr>\n",
       "    <tr>\n",
       "      <th>2381</th>\n",
       "      <td>1268</td>\n",
       "      <td>133000</td>\n",
       "      <td>40</td>\n",
       "      <td>RL</td>\n",
       "      <td>60.0</td>\n",
       "      <td>12144</td>\n",
       "      <td>Pave</td>\n",
       "      <td>4</td>\n",
       "      <td>Lvl</td>\n",
       "      <td>AllPub</td>\n",
       "      <td>Inside</td>\n",
       "      <td>3</td>\n",
       "      <td>NAmes</td>\n",
       "      <td>Norm</td>\n",
       "      <td>Norm</td>\n",
       "      <td>1Fam</td>\n",
       "      <td>1Story</td>\n",
       "      <td>5</td>\n",
       "      <td>7</td>\n",
       "      <td>1949</td>\n",
       "      <td>1950</td>\n",
       "      <td>Gable</td>\n",
       "      <td>CompShg</td>\n",
       "      <td>HdBoard</td>\n",
       "      <td>HdBoard</td>\n",
       "      <td>None</td>\n",
       "      <td>0.0</td>\n",
       "      <td>4</td>\n",
       "      <td>3</td>\n",
       "      <td>CBlock</td>\n",
       "      <td>3</td>\n",
       "      <td>3</td>\n",
       "      <td>0</td>\n",
       "      <td>3</td>\n",
       "      <td>375.0</td>\n",
       "      <td>1</td>\n",
       "      <td>0.0</td>\n",
       "      <td>457.0</td>\n",
       "      <td>832.0</td>\n",
       "      <td>GasA</td>\n",
       "      <td>4</td>\n",
       "      <td>Y</td>\n",
       "      <td>SBrkr</td>\n",
       "      <td>1036</td>\n",
       "      <td>0</td>\n",
       "      <td>232</td>\n",
       "      <td>0.0</td>\n",
       "      <td>0.0</td>\n",
       "      <td>1</td>\n",
       "      <td>0</td>\n",
       "      <td>3</td>\n",
       "      <td>1</td>\n",
       "      <td>3</td>\n",
       "      <td>6</td>\n",
       "      <td>8</td>\n",
       "      <td>1</td>\n",
       "      <td>4</td>\n",
       "      <td>Attchd</td>\n",
       "      <td>1949.0</td>\n",
       "      <td>Unf</td>\n",
       "      <td>1.0</td>\n",
       "      <td>288.0</td>\n",
       "      <td>3</td>\n",
       "      <td>3</td>\n",
       "      <td>Y</td>\n",
       "      <td>0</td>\n",
       "      <td>28</td>\n",
       "      <td>0</td>\n",
       "      <td>0</td>\n",
       "      <td>0</td>\n",
       "      <td>0</td>\n",
       "      <td>No</td>\n",
       "      <td>0</td>\n",
       "      <td>9</td>\n",
       "      <td>2009</td>\n",
       "      <td>WD</td>\n",
       "      <td>Normal</td>\n",
       "      <td>11.798104</td>\n",
       "      <td>8.886250</td>\n",
       "      <td>False</td>\n",
       "      <td>True</td>\n",
       "      <td>False</td>\n",
       "      <td>0</td>\n",
       "      <td>0</td>\n",
       "      <td>0</td>\n",
       "      <td>0</td>\n",
       "      <td>0</td>\n",
       "      <td>0</td>\n",
       "      <td>1</td>\n",
       "      <td>0</td>\n",
       "      <td>0</td>\n",
       "      <td>0</td>\n",
       "      <td>0</td>\n",
       "      <td>0</td>\n",
       "      <td>0</td>\n",
       "      <td>0</td>\n",
       "      <td>0</td>\n",
       "      <td>0</td>\n",
       "      <td>1</td>\n",
       "      <td>0</td>\n",
       "      <td>1</td>\n",
       "      <td>0</td>\n",
       "      <td>0</td>\n",
       "      <td>1</td>\n",
       "      <td>0</td>\n",
       "      <td>0</td>\n",
       "      <td>0</td>\n",
       "      <td>0</td>\n",
       "      <td>1</td>\n",
       "      <td>0</td>\n",
       "      <td>0</td>\n",
       "      <td>0</td>\n",
       "      <td>0</td>\n",
       "      <td>0</td>\n",
       "      <td>0</td>\n",
       "      <td>0</td>\n",
       "      <td>0</td>\n",
       "      <td>0</td>\n",
       "      <td>0</td>\n",
       "      <td>0</td>\n",
       "      <td>0</td>\n",
       "      <td>1</td>\n",
       "      <td>0</td>\n",
       "      <td>0</td>\n",
       "      <td>0</td>\n",
       "      <td>0</td>\n",
       "      <td>0</td>\n",
       "      <td>0</td>\n",
       "      <td>0</td>\n",
       "      <td>0</td>\n",
       "      <td>0</td>\n",
       "      <td>0</td>\n",
       "      <td>0</td>\n",
       "      <td>0</td>\n",
       "      <td>0</td>\n",
       "      <td>1</td>\n",
       "      <td>0</td>\n",
       "      <td>0</td>\n",
       "      <td>0</td>\n",
       "      <td>0</td>\n",
       "      <td>0</td>\n",
       "      <td>0</td>\n",
       "      <td>0</td>\n",
       "      <td>1</td>\n",
       "      <td>0</td>\n",
       "      <td>0</td>\n",
       "      <td>0</td>\n",
       "      <td>0</td>\n",
       "      <td>0</td>\n",
       "      <td>0</td>\n",
       "      <td>0</td>\n",
       "      <td>0</td>\n",
       "      <td>0</td>\n",
       "      <td>0</td>\n",
       "      <td>1</td>\n",
       "      <td>0</td>\n",
       "      <td>0</td>\n",
       "      <td>0</td>\n",
       "      <td>0</td>\n",
       "      <td>0</td>\n",
       "      <td>1</td>\n",
       "      <td>0</td>\n",
       "      <td>0</td>\n",
       "      <td>0</td>\n",
       "      <td>0</td>\n",
       "      <td>0</td>\n",
       "      <td>0</td>\n",
       "      <td>0</td>\n",
       "      <td>0</td>\n",
       "      <td>0</td>\n",
       "      <td>0</td>\n",
       "      <td>0</td>\n",
       "      <td>0</td>\n",
       "      <td>0</td>\n",
       "      <td>0</td>\n",
       "      <td>0</td>\n",
       "      <td>1</td>\n",
       "      <td>0</td>\n",
       "      <td>0</td>\n",
       "      <td>0</td>\n",
       "      <td>0</td>\n",
       "      <td>0</td>\n",
       "      <td>0</td>\n",
       "      <td>0</td>\n",
       "      <td>0</td>\n",
       "      <td>0</td>\n",
       "      <td>0</td>\n",
       "      <td>0</td>\n",
       "      <td>0</td>\n",
       "      <td>0</td>\n",
       "      <td>1</td>\n",
       "      <td>0</td>\n",
       "      <td>0</td>\n",
       "      <td>0</td>\n",
       "      <td>0</td>\n",
       "      <td>0</td>\n",
       "      <td>0</td>\n",
       "      <td>0</td>\n",
       "      <td>0</td>\n",
       "      <td>0</td>\n",
       "      <td>0</td>\n",
       "      <td>1</td>\n",
       "      <td>0</td>\n",
       "      <td>1</td>\n",
       "      <td>0</td>\n",
       "      <td>0</td>\n",
       "      <td>0</td>\n",
       "      <td>0</td>\n",
       "      <td>1</td>\n",
       "      <td>0</td>\n",
       "      <td>0</td>\n",
       "      <td>0</td>\n",
       "      <td>0</td>\n",
       "      <td>1</td>\n",
       "      <td>0</td>\n",
       "      <td>0</td>\n",
       "      <td>0</td>\n",
       "      <td>1</td>\n",
       "      <td>1</td>\n",
       "      <td>0</td>\n",
       "      <td>0</td>\n",
       "      <td>0</td>\n",
       "      <td>0</td>\n",
       "      <td>0</td>\n",
       "      <td>0</td>\n",
       "      <td>0</td>\n",
       "      <td>1</td>\n",
       "      <td>0</td>\n",
       "      <td>1</td>\n",
       "      <td>0</td>\n",
       "      <td>0</td>\n",
       "      <td>0</td>\n",
       "      <td>1</td>\n",
       "      <td>0</td>\n",
       "      <td>0</td>\n",
       "      <td>0</td>\n",
       "      <td>0</td>\n",
       "      <td>0</td>\n",
       "      <td>0</td>\n",
       "      <td>0</td>\n",
       "      <td>0</td>\n",
       "      <td>0</td>\n",
       "      <td>0</td>\n",
       "      <td>1</td>\n",
       "      <td>0</td>\n",
       "      <td>0</td>\n",
       "      <td>0</td>\n",
       "      <td>1</td>\n",
       "      <td>0</td>\n",
       "    </tr>\n",
       "    <tr>\n",
       "      <th>810</th>\n",
       "      <td>1628</td>\n",
       "      <td>189000</td>\n",
       "      <td>80</td>\n",
       "      <td>RL</td>\n",
       "      <td>60.0</td>\n",
       "      <td>8400</td>\n",
       "      <td>Pave</td>\n",
       "      <td>4</td>\n",
       "      <td>Lvl</td>\n",
       "      <td>AllPub</td>\n",
       "      <td>Inside</td>\n",
       "      <td>3</td>\n",
       "      <td>Gilbert</td>\n",
       "      <td>Norm</td>\n",
       "      <td>Norm</td>\n",
       "      <td>1Fam</td>\n",
       "      <td>SLvl</td>\n",
       "      <td>7</td>\n",
       "      <td>5</td>\n",
       "      <td>1996</td>\n",
       "      <td>1997</td>\n",
       "      <td>Gable</td>\n",
       "      <td>CompShg</td>\n",
       "      <td>HdBoard</td>\n",
       "      <td>HdBoard</td>\n",
       "      <td>BrkFace</td>\n",
       "      <td>32.0</td>\n",
       "      <td>3</td>\n",
       "      <td>3</td>\n",
       "      <td>PConc</td>\n",
       "      <td>4</td>\n",
       "      <td>3</td>\n",
       "      <td>0</td>\n",
       "      <td>6</td>\n",
       "      <td>284.0</td>\n",
       "      <td>1</td>\n",
       "      <td>0.0</td>\n",
       "      <td>100.0</td>\n",
       "      <td>384.0</td>\n",
       "      <td>GasA</td>\n",
       "      <td>4</td>\n",
       "      <td>Y</td>\n",
       "      <td>SBrkr</td>\n",
       "      <td>958</td>\n",
       "      <td>670</td>\n",
       "      <td>0</td>\n",
       "      <td>0.0</td>\n",
       "      <td>0.0</td>\n",
       "      <td>2</td>\n",
       "      <td>1</td>\n",
       "      <td>3</td>\n",
       "      <td>1</td>\n",
       "      <td>3</td>\n",
       "      <td>7</td>\n",
       "      <td>8</td>\n",
       "      <td>1</td>\n",
       "      <td>3</td>\n",
       "      <td>BuiltIn</td>\n",
       "      <td>1996.0</td>\n",
       "      <td>Fin</td>\n",
       "      <td>2.0</td>\n",
       "      <td>390.0</td>\n",
       "      <td>3</td>\n",
       "      <td>3</td>\n",
       "      <td>Y</td>\n",
       "      <td>48</td>\n",
       "      <td>72</td>\n",
       "      <td>0</td>\n",
       "      <td>0</td>\n",
       "      <td>0</td>\n",
       "      <td>0</td>\n",
       "      <td>No</td>\n",
       "      <td>490</td>\n",
       "      <td>6</td>\n",
       "      <td>2009</td>\n",
       "      <td>WD</td>\n",
       "      <td>Normal</td>\n",
       "      <td>12.149502</td>\n",
       "      <td>9.269942</td>\n",
       "      <td>False</td>\n",
       "      <td>True</td>\n",
       "      <td>False</td>\n",
       "      <td>0</td>\n",
       "      <td>0</td>\n",
       "      <td>0</td>\n",
       "      <td>0</td>\n",
       "      <td>0</td>\n",
       "      <td>0</td>\n",
       "      <td>0</td>\n",
       "      <td>0</td>\n",
       "      <td>0</td>\n",
       "      <td>0</td>\n",
       "      <td>0</td>\n",
       "      <td>0</td>\n",
       "      <td>1</td>\n",
       "      <td>0</td>\n",
       "      <td>0</td>\n",
       "      <td>0</td>\n",
       "      <td>1</td>\n",
       "      <td>0</td>\n",
       "      <td>1</td>\n",
       "      <td>0</td>\n",
       "      <td>0</td>\n",
       "      <td>1</td>\n",
       "      <td>0</td>\n",
       "      <td>0</td>\n",
       "      <td>0</td>\n",
       "      <td>0</td>\n",
       "      <td>1</td>\n",
       "      <td>0</td>\n",
       "      <td>0</td>\n",
       "      <td>0</td>\n",
       "      <td>0</td>\n",
       "      <td>0</td>\n",
       "      <td>0</td>\n",
       "      <td>0</td>\n",
       "      <td>1</td>\n",
       "      <td>0</td>\n",
       "      <td>0</td>\n",
       "      <td>0</td>\n",
       "      <td>0</td>\n",
       "      <td>0</td>\n",
       "      <td>0</td>\n",
       "      <td>0</td>\n",
       "      <td>0</td>\n",
       "      <td>0</td>\n",
       "      <td>0</td>\n",
       "      <td>0</td>\n",
       "      <td>0</td>\n",
       "      <td>0</td>\n",
       "      <td>0</td>\n",
       "      <td>0</td>\n",
       "      <td>0</td>\n",
       "      <td>0</td>\n",
       "      <td>0</td>\n",
       "      <td>1</td>\n",
       "      <td>0</td>\n",
       "      <td>0</td>\n",
       "      <td>0</td>\n",
       "      <td>0</td>\n",
       "      <td>0</td>\n",
       "      <td>0</td>\n",
       "      <td>0</td>\n",
       "      <td>1</td>\n",
       "      <td>0</td>\n",
       "      <td>0</td>\n",
       "      <td>0</td>\n",
       "      <td>0</td>\n",
       "      <td>0</td>\n",
       "      <td>0</td>\n",
       "      <td>0</td>\n",
       "      <td>0</td>\n",
       "      <td>0</td>\n",
       "      <td>0</td>\n",
       "      <td>0</td>\n",
       "      <td>0</td>\n",
       "      <td>0</td>\n",
       "      <td>0</td>\n",
       "      <td>0</td>\n",
       "      <td>1</td>\n",
       "      <td>1</td>\n",
       "      <td>0</td>\n",
       "      <td>0</td>\n",
       "      <td>0</td>\n",
       "      <td>0</td>\n",
       "      <td>0</td>\n",
       "      <td>0</td>\n",
       "      <td>0</td>\n",
       "      <td>0</td>\n",
       "      <td>0</td>\n",
       "      <td>0</td>\n",
       "      <td>0</td>\n",
       "      <td>0</td>\n",
       "      <td>0</td>\n",
       "      <td>0</td>\n",
       "      <td>0</td>\n",
       "      <td>1</td>\n",
       "      <td>0</td>\n",
       "      <td>0</td>\n",
       "      <td>0</td>\n",
       "      <td>0</td>\n",
       "      <td>0</td>\n",
       "      <td>0</td>\n",
       "      <td>0</td>\n",
       "      <td>0</td>\n",
       "      <td>0</td>\n",
       "      <td>0</td>\n",
       "      <td>0</td>\n",
       "      <td>0</td>\n",
       "      <td>0</td>\n",
       "      <td>1</td>\n",
       "      <td>0</td>\n",
       "      <td>0</td>\n",
       "      <td>0</td>\n",
       "      <td>0</td>\n",
       "      <td>0</td>\n",
       "      <td>0</td>\n",
       "      <td>0</td>\n",
       "      <td>0</td>\n",
       "      <td>0</td>\n",
       "      <td>1</td>\n",
       "      <td>0</td>\n",
       "      <td>0</td>\n",
       "      <td>0</td>\n",
       "      <td>1</td>\n",
       "      <td>0</td>\n",
       "      <td>0</td>\n",
       "      <td>0</td>\n",
       "      <td>1</td>\n",
       "      <td>0</td>\n",
       "      <td>0</td>\n",
       "      <td>0</td>\n",
       "      <td>0</td>\n",
       "      <td>1</td>\n",
       "      <td>0</td>\n",
       "      <td>0</td>\n",
       "      <td>0</td>\n",
       "      <td>1</td>\n",
       "      <td>0</td>\n",
       "      <td>0</td>\n",
       "      <td>1</td>\n",
       "      <td>0</td>\n",
       "      <td>0</td>\n",
       "      <td>0</td>\n",
       "      <td>0</td>\n",
       "      <td>0</td>\n",
       "      <td>0</td>\n",
       "      <td>0</td>\n",
       "      <td>1</td>\n",
       "      <td>0</td>\n",
       "      <td>0</td>\n",
       "      <td>0</td>\n",
       "      <td>1</td>\n",
       "      <td>0</td>\n",
       "      <td>0</td>\n",
       "      <td>0</td>\n",
       "      <td>0</td>\n",
       "      <td>0</td>\n",
       "      <td>0</td>\n",
       "      <td>0</td>\n",
       "      <td>1</td>\n",
       "      <td>0</td>\n",
       "      <td>0</td>\n",
       "      <td>0</td>\n",
       "      <td>0</td>\n",
       "      <td>0</td>\n",
       "      <td>0</td>\n",
       "      <td>1</td>\n",
       "      <td>0</td>\n",
       "    </tr>\n",
       "    <tr>\n",
       "      <th>863</th>\n",
       "      <td>2270</td>\n",
       "      <td>290000</td>\n",
       "      <td>60</td>\n",
       "      <td>RL</td>\n",
       "      <td>92.0</td>\n",
       "      <td>11764</td>\n",
       "      <td>Pave</td>\n",
       "      <td>3</td>\n",
       "      <td>Lvl</td>\n",
       "      <td>AllPub</td>\n",
       "      <td>CulDSac</td>\n",
       "      <td>3</td>\n",
       "      <td>NoRidge</td>\n",
       "      <td>Norm</td>\n",
       "      <td>Norm</td>\n",
       "      <td>1Fam</td>\n",
       "      <td>2Story</td>\n",
       "      <td>8</td>\n",
       "      <td>7</td>\n",
       "      <td>1999</td>\n",
       "      <td>2007</td>\n",
       "      <td>Gable</td>\n",
       "      <td>CompShg</td>\n",
       "      <td>VinylSd</td>\n",
       "      <td>VinylSd</td>\n",
       "      <td>BrkFace</td>\n",
       "      <td>348.0</td>\n",
       "      <td>4</td>\n",
       "      <td>3</td>\n",
       "      <td>PConc</td>\n",
       "      <td>4</td>\n",
       "      <td>3</td>\n",
       "      <td>0</td>\n",
       "      <td>6</td>\n",
       "      <td>524.0</td>\n",
       "      <td>1</td>\n",
       "      <td>0.0</td>\n",
       "      <td>628.0</td>\n",
       "      <td>1152.0</td>\n",
       "      <td>GasA</td>\n",
       "      <td>5</td>\n",
       "      <td>Y</td>\n",
       "      <td>SBrkr</td>\n",
       "      <td>1164</td>\n",
       "      <td>1106</td>\n",
       "      <td>0</td>\n",
       "      <td>0.0</td>\n",
       "      <td>0.0</td>\n",
       "      <td>2</td>\n",
       "      <td>1</td>\n",
       "      <td>4</td>\n",
       "      <td>1</td>\n",
       "      <td>4</td>\n",
       "      <td>9</td>\n",
       "      <td>8</td>\n",
       "      <td>1</td>\n",
       "      <td>4</td>\n",
       "      <td>Attchd</td>\n",
       "      <td>1999.0</td>\n",
       "      <td>Fin</td>\n",
       "      <td>3.0</td>\n",
       "      <td>671.0</td>\n",
       "      <td>3</td>\n",
       "      <td>3</td>\n",
       "      <td>Y</td>\n",
       "      <td>132</td>\n",
       "      <td>57</td>\n",
       "      <td>0</td>\n",
       "      <td>0</td>\n",
       "      <td>0</td>\n",
       "      <td>0</td>\n",
       "      <td>No</td>\n",
       "      <td>0</td>\n",
       "      <td>4</td>\n",
       "      <td>2010</td>\n",
       "      <td>WD</td>\n",
       "      <td>Normal</td>\n",
       "      <td>12.577636</td>\n",
       "      <td>9.789165</td>\n",
       "      <td>False</td>\n",
       "      <td>False</td>\n",
       "      <td>False</td>\n",
       "      <td>0</td>\n",
       "      <td>0</td>\n",
       "      <td>0</td>\n",
       "      <td>0</td>\n",
       "      <td>0</td>\n",
       "      <td>0</td>\n",
       "      <td>0</td>\n",
       "      <td>0</td>\n",
       "      <td>0</td>\n",
       "      <td>1</td>\n",
       "      <td>0</td>\n",
       "      <td>0</td>\n",
       "      <td>0</td>\n",
       "      <td>0</td>\n",
       "      <td>0</td>\n",
       "      <td>0</td>\n",
       "      <td>1</td>\n",
       "      <td>0</td>\n",
       "      <td>1</td>\n",
       "      <td>0</td>\n",
       "      <td>0</td>\n",
       "      <td>1</td>\n",
       "      <td>0</td>\n",
       "      <td>1</td>\n",
       "      <td>0</td>\n",
       "      <td>0</td>\n",
       "      <td>0</td>\n",
       "      <td>0</td>\n",
       "      <td>0</td>\n",
       "      <td>0</td>\n",
       "      <td>0</td>\n",
       "      <td>0</td>\n",
       "      <td>0</td>\n",
       "      <td>0</td>\n",
       "      <td>0</td>\n",
       "      <td>0</td>\n",
       "      <td>0</td>\n",
       "      <td>0</td>\n",
       "      <td>0</td>\n",
       "      <td>0</td>\n",
       "      <td>0</td>\n",
       "      <td>0</td>\n",
       "      <td>1</td>\n",
       "      <td>0</td>\n",
       "      <td>0</td>\n",
       "      <td>0</td>\n",
       "      <td>0</td>\n",
       "      <td>0</td>\n",
       "      <td>0</td>\n",
       "      <td>0</td>\n",
       "      <td>0</td>\n",
       "      <td>0</td>\n",
       "      <td>0</td>\n",
       "      <td>1</td>\n",
       "      <td>0</td>\n",
       "      <td>0</td>\n",
       "      <td>0</td>\n",
       "      <td>0</td>\n",
       "      <td>0</td>\n",
       "      <td>0</td>\n",
       "      <td>0</td>\n",
       "      <td>1</td>\n",
       "      <td>0</td>\n",
       "      <td>0</td>\n",
       "      <td>0</td>\n",
       "      <td>0</td>\n",
       "      <td>0</td>\n",
       "      <td>0</td>\n",
       "      <td>0</td>\n",
       "      <td>0</td>\n",
       "      <td>0</td>\n",
       "      <td>0</td>\n",
       "      <td>0</td>\n",
       "      <td>0</td>\n",
       "      <td>0</td>\n",
       "      <td>1</td>\n",
       "      <td>0</td>\n",
       "      <td>0</td>\n",
       "      <td>1</td>\n",
       "      <td>0</td>\n",
       "      <td>0</td>\n",
       "      <td>0</td>\n",
       "      <td>0</td>\n",
       "      <td>0</td>\n",
       "      <td>0</td>\n",
       "      <td>0</td>\n",
       "      <td>0</td>\n",
       "      <td>0</td>\n",
       "      <td>0</td>\n",
       "      <td>0</td>\n",
       "      <td>0</td>\n",
       "      <td>0</td>\n",
       "      <td>0</td>\n",
       "      <td>0</td>\n",
       "      <td>0</td>\n",
       "      <td>0</td>\n",
       "      <td>0</td>\n",
       "      <td>0</td>\n",
       "      <td>0</td>\n",
       "      <td>0</td>\n",
       "      <td>1</td>\n",
       "      <td>0</td>\n",
       "      <td>0</td>\n",
       "      <td>0</td>\n",
       "      <td>0</td>\n",
       "      <td>0</td>\n",
       "      <td>0</td>\n",
       "      <td>0</td>\n",
       "      <td>0</td>\n",
       "      <td>0</td>\n",
       "      <td>0</td>\n",
       "      <td>0</td>\n",
       "      <td>0</td>\n",
       "      <td>0</td>\n",
       "      <td>0</td>\n",
       "      <td>1</td>\n",
       "      <td>0</td>\n",
       "      <td>0</td>\n",
       "      <td>1</td>\n",
       "      <td>0</td>\n",
       "      <td>0</td>\n",
       "      <td>0</td>\n",
       "      <td>1</td>\n",
       "      <td>0</td>\n",
       "      <td>0</td>\n",
       "      <td>0</td>\n",
       "      <td>1</td>\n",
       "      <td>0</td>\n",
       "      <td>0</td>\n",
       "      <td>0</td>\n",
       "      <td>0</td>\n",
       "      <td>1</td>\n",
       "      <td>0</td>\n",
       "      <td>0</td>\n",
       "      <td>0</td>\n",
       "      <td>1</td>\n",
       "      <td>1</td>\n",
       "      <td>0</td>\n",
       "      <td>0</td>\n",
       "      <td>0</td>\n",
       "      <td>0</td>\n",
       "      <td>0</td>\n",
       "      <td>0</td>\n",
       "      <td>0</td>\n",
       "      <td>0</td>\n",
       "      <td>0</td>\n",
       "      <td>1</td>\n",
       "      <td>0</td>\n",
       "      <td>0</td>\n",
       "      <td>0</td>\n",
       "      <td>1</td>\n",
       "      <td>0</td>\n",
       "      <td>0</td>\n",
       "      <td>0</td>\n",
       "      <td>0</td>\n",
       "      <td>0</td>\n",
       "      <td>1</td>\n",
       "      <td>0</td>\n",
       "      <td>0</td>\n",
       "      <td>0</td>\n",
       "      <td>0</td>\n",
       "      <td>0</td>\n",
       "      <td>0</td>\n",
       "      <td>0</td>\n",
       "      <td>0</td>\n",
       "      <td>1</td>\n",
       "      <td>0</td>\n",
       "    </tr>\n",
       "    <tr>\n",
       "      <th>1346</th>\n",
       "      <td>1482</td>\n",
       "      <td>143000</td>\n",
       "      <td>70</td>\n",
       "      <td>RM</td>\n",
       "      <td>50.0</td>\n",
       "      <td>9000</td>\n",
       "      <td>Pave</td>\n",
       "      <td>4</td>\n",
       "      <td>Lvl</td>\n",
       "      <td>AllPub</td>\n",
       "      <td>Inside</td>\n",
       "      <td>3</td>\n",
       "      <td>OldTown</td>\n",
       "      <td>Artery</td>\n",
       "      <td>Norm</td>\n",
       "      <td>1Fam</td>\n",
       "      <td>2Story</td>\n",
       "      <td>7</td>\n",
       "      <td>9</td>\n",
       "      <td>1920</td>\n",
       "      <td>1988</td>\n",
       "      <td>Hip</td>\n",
       "      <td>CompShg</td>\n",
       "      <td>VinylSd</td>\n",
       "      <td>VinylSd</td>\n",
       "      <td>None</td>\n",
       "      <td>0.0</td>\n",
       "      <td>3</td>\n",
       "      <td>4</td>\n",
       "      <td>PConc</td>\n",
       "      <td>3</td>\n",
       "      <td>3</td>\n",
       "      <td>0</td>\n",
       "      <td>5</td>\n",
       "      <td>624.0</td>\n",
       "      <td>1</td>\n",
       "      <td>0.0</td>\n",
       "      <td>26.0</td>\n",
       "      <td>650.0</td>\n",
       "      <td>GasA</td>\n",
       "      <td>5</td>\n",
       "      <td>Y</td>\n",
       "      <td>SBrkr</td>\n",
       "      <td>832</td>\n",
       "      <td>650</td>\n",
       "      <td>0</td>\n",
       "      <td>0.0</td>\n",
       "      <td>1.0</td>\n",
       "      <td>1</td>\n",
       "      <td>0</td>\n",
       "      <td>3</td>\n",
       "      <td>1</td>\n",
       "      <td>3</td>\n",
       "      <td>7</td>\n",
       "      <td>8</td>\n",
       "      <td>0</td>\n",
       "      <td>0</td>\n",
       "      <td>Detchd</td>\n",
       "      <td>1930.0</td>\n",
       "      <td>Unf</td>\n",
       "      <td>2.0</td>\n",
       "      <td>324.0</td>\n",
       "      <td>3</td>\n",
       "      <td>3</td>\n",
       "      <td>Y</td>\n",
       "      <td>0</td>\n",
       "      <td>0</td>\n",
       "      <td>0</td>\n",
       "      <td>0</td>\n",
       "      <td>0</td>\n",
       "      <td>0</td>\n",
       "      <td>No</td>\n",
       "      <td>0</td>\n",
       "      <td>7</td>\n",
       "      <td>2009</td>\n",
       "      <td>WD</td>\n",
       "      <td>Normal</td>\n",
       "      <td>11.870600</td>\n",
       "      <td>9.125021</td>\n",
       "      <td>False</td>\n",
       "      <td>False</td>\n",
       "      <td>False</td>\n",
       "      <td>0</td>\n",
       "      <td>0</td>\n",
       "      <td>0</td>\n",
       "      <td>0</td>\n",
       "      <td>0</td>\n",
       "      <td>0</td>\n",
       "      <td>0</td>\n",
       "      <td>0</td>\n",
       "      <td>0</td>\n",
       "      <td>0</td>\n",
       "      <td>1</td>\n",
       "      <td>0</td>\n",
       "      <td>0</td>\n",
       "      <td>0</td>\n",
       "      <td>0</td>\n",
       "      <td>0</td>\n",
       "      <td>0</td>\n",
       "      <td>1</td>\n",
       "      <td>1</td>\n",
       "      <td>0</td>\n",
       "      <td>0</td>\n",
       "      <td>1</td>\n",
       "      <td>0</td>\n",
       "      <td>0</td>\n",
       "      <td>0</td>\n",
       "      <td>0</td>\n",
       "      <td>1</td>\n",
       "      <td>0</td>\n",
       "      <td>0</td>\n",
       "      <td>0</td>\n",
       "      <td>0</td>\n",
       "      <td>0</td>\n",
       "      <td>0</td>\n",
       "      <td>0</td>\n",
       "      <td>0</td>\n",
       "      <td>0</td>\n",
       "      <td>0</td>\n",
       "      <td>0</td>\n",
       "      <td>0</td>\n",
       "      <td>0</td>\n",
       "      <td>0</td>\n",
       "      <td>0</td>\n",
       "      <td>0</td>\n",
       "      <td>0</td>\n",
       "      <td>1</td>\n",
       "      <td>0</td>\n",
       "      <td>0</td>\n",
       "      <td>0</td>\n",
       "      <td>0</td>\n",
       "      <td>0</td>\n",
       "      <td>0</td>\n",
       "      <td>0</td>\n",
       "      <td>0</td>\n",
       "      <td>0</td>\n",
       "      <td>0</td>\n",
       "      <td>0</td>\n",
       "      <td>0</td>\n",
       "      <td>0</td>\n",
       "      <td>0</td>\n",
       "      <td>0</td>\n",
       "      <td>0</td>\n",
       "      <td>1</td>\n",
       "      <td>0</td>\n",
       "      <td>0</td>\n",
       "      <td>0</td>\n",
       "      <td>0</td>\n",
       "      <td>0</td>\n",
       "      <td>0</td>\n",
       "      <td>0</td>\n",
       "      <td>0</td>\n",
       "      <td>0</td>\n",
       "      <td>0</td>\n",
       "      <td>0</td>\n",
       "      <td>0</td>\n",
       "      <td>0</td>\n",
       "      <td>1</td>\n",
       "      <td>0</td>\n",
       "      <td>0</td>\n",
       "      <td>0</td>\n",
       "      <td>0</td>\n",
       "      <td>1</td>\n",
       "      <td>0</td>\n",
       "      <td>0</td>\n",
       "      <td>0</td>\n",
       "      <td>0</td>\n",
       "      <td>0</td>\n",
       "      <td>0</td>\n",
       "      <td>0</td>\n",
       "      <td>0</td>\n",
       "      <td>0</td>\n",
       "      <td>0</td>\n",
       "      <td>0</td>\n",
       "      <td>0</td>\n",
       "      <td>0</td>\n",
       "      <td>0</td>\n",
       "      <td>0</td>\n",
       "      <td>0</td>\n",
       "      <td>0</td>\n",
       "      <td>0</td>\n",
       "      <td>0</td>\n",
       "      <td>1</td>\n",
       "      <td>0</td>\n",
       "      <td>0</td>\n",
       "      <td>0</td>\n",
       "      <td>0</td>\n",
       "      <td>0</td>\n",
       "      <td>0</td>\n",
       "      <td>0</td>\n",
       "      <td>0</td>\n",
       "      <td>0</td>\n",
       "      <td>0</td>\n",
       "      <td>0</td>\n",
       "      <td>0</td>\n",
       "      <td>0</td>\n",
       "      <td>0</td>\n",
       "      <td>1</td>\n",
       "      <td>0</td>\n",
       "      <td>0</td>\n",
       "      <td>0</td>\n",
       "      <td>1</td>\n",
       "      <td>0</td>\n",
       "      <td>0</td>\n",
       "      <td>1</td>\n",
       "      <td>0</td>\n",
       "      <td>0</td>\n",
       "      <td>0</td>\n",
       "      <td>1</td>\n",
       "      <td>0</td>\n",
       "      <td>0</td>\n",
       "      <td>0</td>\n",
       "      <td>0</td>\n",
       "      <td>1</td>\n",
       "      <td>0</td>\n",
       "      <td>0</td>\n",
       "      <td>0</td>\n",
       "      <td>1</td>\n",
       "      <td>0</td>\n",
       "      <td>0</td>\n",
       "      <td>0</td>\n",
       "      <td>0</td>\n",
       "      <td>1</td>\n",
       "      <td>0</td>\n",
       "      <td>0</td>\n",
       "      <td>0</td>\n",
       "      <td>1</td>\n",
       "      <td>0</td>\n",
       "      <td>1</td>\n",
       "      <td>0</td>\n",
       "      <td>0</td>\n",
       "      <td>0</td>\n",
       "      <td>1</td>\n",
       "      <td>0</td>\n",
       "      <td>0</td>\n",
       "      <td>0</td>\n",
       "      <td>0</td>\n",
       "      <td>0</td>\n",
       "      <td>0</td>\n",
       "      <td>0</td>\n",
       "      <td>0</td>\n",
       "      <td>1</td>\n",
       "      <td>0</td>\n",
       "      <td>0</td>\n",
       "      <td>0</td>\n",
       "      <td>0</td>\n",
       "      <td>0</td>\n",
       "      <td>1</td>\n",
       "      <td>0</td>\n",
       "    </tr>\n",
       "  </tbody>\n",
       "</table>\n",
       "</div>"
      ],
      "text/plain": [
       "      GrLivArea  SalePrice  MSSubClass MSZoning  LotFrontage  LotArea Street  \\\n",
       "1232       1664     162900          60       RL         78.0    10140   Pave   \n",
       "2381       1268     133000          40       RL         60.0    12144   Pave   \n",
       "810        1628     189000          80       RL         60.0     8400   Pave   \n",
       "863        2270     290000          60       RL         92.0    11764   Pave   \n",
       "1346       1482     143000          70       RM         50.0     9000   Pave   \n",
       "\n",
       "      LotShape LandContour Utilities LotConfig  LandSlope Neighborhood  \\\n",
       "1232         4         Lvl    AllPub    Inside          3       NWAmes   \n",
       "2381         4         Lvl    AllPub    Inside          3        NAmes   \n",
       "810          4         Lvl    AllPub    Inside          3      Gilbert   \n",
       "863          3         Lvl    AllPub   CulDSac          3      NoRidge   \n",
       "1346         4         Lvl    AllPub    Inside          3      OldTown   \n",
       "\n",
       "     Condition1 Condition2 BldgType HouseStyle  OverallQual  OverallCond  \\\n",
       "1232       Norm       Norm     1Fam     2Story            7            5   \n",
       "2381       Norm       Norm     1Fam     1Story            5            7   \n",
       "810        Norm       Norm     1Fam       SLvl            7            5   \n",
       "863        Norm       Norm     1Fam     2Story            8            7   \n",
       "1346     Artery       Norm     1Fam     2Story            7            9   \n",
       "\n",
       "      YearBuilt  YearRemodAdd RoofStyle RoofMatl Exterior1st Exterior2nd  \\\n",
       "1232       1976          1976     Gable  CompShg     HdBoard     HdBoard   \n",
       "2381       1949          1950     Gable  CompShg     HdBoard     HdBoard   \n",
       "810        1996          1997     Gable  CompShg     HdBoard     HdBoard   \n",
       "863        1999          2007     Gable  CompShg     VinylSd     VinylSd   \n",
       "1346       1920          1988       Hip  CompShg     VinylSd     VinylSd   \n",
       "\n",
       "     MasVnrType  MasVnrArea  ExterQual  ExterCond Foundation  BsmtQual  \\\n",
       "1232       None         0.0          3          3      PConc         4   \n",
       "2381       None         0.0          4          3     CBlock         3   \n",
       "810     BrkFace        32.0          3          3      PConc         4   \n",
       "863     BrkFace       348.0          4          3      PConc         4   \n",
       "1346       None         0.0          3          4      PConc         3   \n",
       "\n",
       "      BsmtCond  BsmtExposure  BsmtFinType1  BsmtFinSF1  BsmtFinType2  \\\n",
       "1232         3             0             6       194.0             1   \n",
       "2381         3             0             3       375.0             1   \n",
       "810          3             0             6       284.0             1   \n",
       "863          3             0             6       524.0             1   \n",
       "1346         3             0             5       624.0             1   \n",
       "\n",
       "      BsmtFinSF2  BsmtUnfSF  TotalBsmtSF Heating  HeatingQC CentralAir  \\\n",
       "1232         0.0      638.0        832.0    GasA          3          Y   \n",
       "2381         0.0      457.0        832.0    GasA          4          Y   \n",
       "810          0.0      100.0        384.0    GasA          4          Y   \n",
       "863          0.0      628.0       1152.0    GasA          5          Y   \n",
       "1346         0.0       26.0        650.0    GasA          5          Y   \n",
       "\n",
       "     Electrical  1stFlrSF  2ndFlrSF  LowQualFinSF  BsmtFullBath  BsmtHalfBath  \\\n",
       "1232      SBrkr       832       832             0           0.0           0.0   \n",
       "2381      SBrkr      1036         0           232           0.0           0.0   \n",
       "810       SBrkr       958       670             0           0.0           0.0   \n",
       "863       SBrkr      1164      1106             0           0.0           0.0   \n",
       "1346      SBrkr       832       650             0           0.0           1.0   \n",
       "\n",
       "      FullBath  HalfBath  BedroomAbvGr  KitchenAbvGr  KitchenQual  \\\n",
       "1232         2         1             4             1            3   \n",
       "2381         1         0             3             1            3   \n",
       "810          2         1             3             1            3   \n",
       "863          2         1             4             1            4   \n",
       "1346         1         0             3             1            3   \n",
       "\n",
       "      TotRmsAbvGrd  Functional  Fireplaces  FireplaceQu GarageType  \\\n",
       "1232             8           8           1            3     Attchd   \n",
       "2381             6           8           1            4     Attchd   \n",
       "810              7           8           1            3    BuiltIn   \n",
       "863              9           8           1            4     Attchd   \n",
       "1346             7           8           0            0     Detchd   \n",
       "\n",
       "      GarageYrBlt GarageFinish  GarageCars  GarageArea  GarageQual  \\\n",
       "1232       1976.0          RFn         2.0       528.0           3   \n",
       "2381       1949.0          Unf         1.0       288.0           3   \n",
       "810        1996.0          Fin         2.0       390.0           3   \n",
       "863        1999.0          Fin         3.0       671.0           3   \n",
       "1346       1930.0          Unf         2.0       324.0           3   \n",
       "\n",
       "      GarageCond PavedDrive  WoodDeckSF  OpenPorchSF  EnclosedPorch  \\\n",
       "1232           3          Y           0           28              0   \n",
       "2381           3          Y           0           28              0   \n",
       "810            3          Y          48           72              0   \n",
       "863            3          Y         132           57              0   \n",
       "1346           3          Y           0            0              0   \n",
       "\n",
       "      3SsnPorch  ScreenPorch  PoolArea Fence  MiscVal  MoSold  YrSold  \\\n",
       "1232          0          259         0  GdWo        0       3    2006   \n",
       "2381          0            0         0    No        0       9    2009   \n",
       "810           0            0         0    No      490       6    2009   \n",
       "863           0            0         0    No        0       4    2010   \n",
       "1346          0            0         0    No        0       7    2009   \n",
       "\n",
       "     SaleType SaleCondition  log_price  bc_GrLivArea  has_pool  \\\n",
       "1232      WD         Normal  12.000892      9.303792     False   \n",
       "2381      WD         Normal  11.798104      8.886250     False   \n",
       "810       WD         Normal  12.149502      9.269942     False   \n",
       "863       WD         Normal  12.577636      9.789165     False   \n",
       "1346      WD         Normal  11.870600      9.125021     False   \n",
       "\n",
       "      has_miscfeature  alley_access  MSSubClass_150  MSSubClass_160  \\\n",
       "1232            False         False               0               0   \n",
       "2381             True         False               0               0   \n",
       "810              True         False               0               0   \n",
       "863             False         False               0               0   \n",
       "1346            False         False               0               0   \n",
       "\n",
       "      MSSubClass_180  MSSubClass_190  MSSubClass_20  MSSubClass_30  \\\n",
       "1232               0               0              0              0   \n",
       "2381               0               0              0              0   \n",
       "810                0               0              0              0   \n",
       "863                0               0              0              0   \n",
       "1346               0               0              0              0   \n",
       "\n",
       "      MSSubClass_40  MSSubClass_45  MSSubClass_50  MSSubClass_60  \\\n",
       "1232              0              0              0              1   \n",
       "2381              1              0              0              0   \n",
       "810               0              0              0              0   \n",
       "863               0              0              0              1   \n",
       "1346              0              0              0              0   \n",
       "\n",
       "      MSSubClass_70  MSSubClass_75  MSSubClass_80  MSSubClass_85  \\\n",
       "1232              0              0              0              0   \n",
       "2381              0              0              0              0   \n",
       "810               0              0              1              0   \n",
       "863               0              0              0              0   \n",
       "1346              1              0              0              0   \n",
       "\n",
       "      MSSubClass_90  MSZoning_RH  MSZoning_RL  MSZoning_RM  Street_Pave  \\\n",
       "1232              0            0            1            0            1   \n",
       "2381              0            0            1            0            1   \n",
       "810               0            0            1            0            1   \n",
       "863               0            0            1            0            1   \n",
       "1346              0            0            0            1            1   \n",
       "\n",
       "      LandContour_HLS  LandContour_Low  LandContour_Lvl  Utilities_NoSewr  \\\n",
       "1232                0                0                1                 0   \n",
       "2381                0                0                1                 0   \n",
       "810                 0                0                1                 0   \n",
       "863                 0                0                1                 0   \n",
       "1346                0                0                1                 0   \n",
       "\n",
       "      LotConfig_CulDSac  LotConfig_FR2  LotConfig_FR3  LotConfig_Inside  \\\n",
       "1232                  0              0              0                 1   \n",
       "2381                  0              0              0                 1   \n",
       "810                   0              0              0                 1   \n",
       "863                   1              0              0                 0   \n",
       "1346                  0              0              0                 1   \n",
       "\n",
       "      Neighborhood_Blueste  Neighborhood_BrDale  Neighborhood_BrkSide  \\\n",
       "1232                     0                    0                     0   \n",
       "2381                     0                    0                     0   \n",
       "810                      0                    0                     0   \n",
       "863                      0                    0                     0   \n",
       "1346                     0                    0                     0   \n",
       "\n",
       "      Neighborhood_ClearCr  Neighborhood_CollgCr  Neighborhood_Crawfor  \\\n",
       "1232                     0                     0                     0   \n",
       "2381                     0                     0                     0   \n",
       "810                      0                     0                     0   \n",
       "863                      0                     0                     0   \n",
       "1346                     0                     0                     0   \n",
       "\n",
       "      Neighborhood_Edwards  Neighborhood_Gilbert  Neighborhood_Greens  \\\n",
       "1232                     0                     0                    0   \n",
       "2381                     0                     0                    0   \n",
       "810                      0                     1                    0   \n",
       "863                      0                     0                    0   \n",
       "1346                     0                     0                    0   \n",
       "\n",
       "      Neighborhood_IDOTRR  Neighborhood_MeadowV  Neighborhood_Mitchel  \\\n",
       "1232                    0                     0                     0   \n",
       "2381                    0                     0                     0   \n",
       "810                     0                     0                     0   \n",
       "863                     0                     0                     0   \n",
       "1346                    0                     0                     0   \n",
       "\n",
       "      Neighborhood_NAmes  Neighborhood_NPkVill  Neighborhood_NWAmes  \\\n",
       "1232                   0                     0                    1   \n",
       "2381                   1                     0                    0   \n",
       "810                    0                     0                    0   \n",
       "863                    0                     0                    0   \n",
       "1346                   0                     0                    0   \n",
       "\n",
       "      Neighborhood_NoRidge  Neighborhood_NridgHt  Neighborhood_OldTown  \\\n",
       "1232                     0                     0                     0   \n",
       "2381                     0                     0                     0   \n",
       "810                      0                     0                     0   \n",
       "863                      1                     0                     0   \n",
       "1346                     0                     0                     1   \n",
       "\n",
       "      Neighborhood_SWISU  Neighborhood_Sawyer  Neighborhood_SawyerW  \\\n",
       "1232                   0                    0                     0   \n",
       "2381                   0                    0                     0   \n",
       "810                    0                    0                     0   \n",
       "863                    0                    0                     0   \n",
       "1346                   0                    0                     0   \n",
       "\n",
       "      Neighborhood_Somerst  Neighborhood_StoneBr  Neighborhood_Timber  \\\n",
       "1232                     0                     0                    0   \n",
       "2381                     0                     0                    0   \n",
       "810                      0                     0                    0   \n",
       "863                      0                     0                    0   \n",
       "1346                     0                     0                    0   \n",
       "\n",
       "      Neighborhood_Veenker  Condition1_Feedr  Condition1_Norm  \\\n",
       "1232                     0                 0                1   \n",
       "2381                     0                 0                1   \n",
       "810                      0                 0                1   \n",
       "863                      0                 0                1   \n",
       "1346                     0                 0                0   \n",
       "\n",
       "      Condition1_PosA  Condition1_PosN  Condition1_RRAe  Condition1_RRAn  \\\n",
       "1232                0                0                0                0   \n",
       "2381                0                0                0                0   \n",
       "810                 0                0                0                0   \n",
       "863                 0                0                0                0   \n",
       "1346                0                0                0                0   \n",
       "\n",
       "      Condition1_RRNe  Condition1_RRNn  Condition2_Feedr  Condition2_Norm  \\\n",
       "1232                0                0                 0                1   \n",
       "2381                0                0                 0                1   \n",
       "810                 0                0                 0                1   \n",
       "863                 0                0                 0                1   \n",
       "1346                0                0                 0                1   \n",
       "\n",
       "      Condition2_PosA  Condition2_PosN  Condition2_RRAe  Condition2_RRAn  \\\n",
       "1232                0                0                0                0   \n",
       "2381                0                0                0                0   \n",
       "810                 0                0                0                0   \n",
       "863                 0                0                0                0   \n",
       "1346                0                0                0                0   \n",
       "\n",
       "      Condition2_RRNn  BldgType_2fmCon  BldgType_Duplex  BldgType_Twnhs  \\\n",
       "1232                0                0                0               0   \n",
       "2381                0                0                0               0   \n",
       "810                 0                0                0               0   \n",
       "863                 0                0                0               0   \n",
       "1346                0                0                0               0   \n",
       "\n",
       "      BldgType_TwnhsE  HouseStyle_1.5Unf  HouseStyle_1Story  \\\n",
       "1232                0                  0                  0   \n",
       "2381                0                  0                  1   \n",
       "810                 0                  0                  0   \n",
       "863                 0                  0                  0   \n",
       "1346                0                  0                  0   \n",
       "\n",
       "      HouseStyle_2.5Fin  HouseStyle_2.5Unf  HouseStyle_2Story  \\\n",
       "1232                  0                  0                  1   \n",
       "2381                  0                  0                  0   \n",
       "810                   0                  0                  0   \n",
       "863                   0                  0                  1   \n",
       "1346                  0                  0                  1   \n",
       "\n",
       "      HouseStyle_SFoyer  HouseStyle_SLvl  RoofStyle_Gable  RoofStyle_Gambrel  \\\n",
       "1232                  0                0                1                  0   \n",
       "2381                  0                0                1                  0   \n",
       "810                   0                1                1                  0   \n",
       "863                   0                0                1                  0   \n",
       "1346                  0                0                0                  0   \n",
       "\n",
       "      RoofStyle_Hip  RoofStyle_Mansard  RoofStyle_Shed  RoofMatl_Membran  \\\n",
       "1232              0                  0               0                 0   \n",
       "2381              0                  0               0                 0   \n",
       "810               0                  0               0                 0   \n",
       "863               0                  0               0                 0   \n",
       "1346              1                  0               0                 0   \n",
       "\n",
       "      RoofMatl_Metal  RoofMatl_Roll  RoofMatl_Tar&Grv  RoofMatl_WdShake  \\\n",
       "1232               0              0                 0                 0   \n",
       "2381               0              0                 0                 0   \n",
       "810                0              0                 0                 0   \n",
       "863                0              0                 0                 0   \n",
       "1346               0              0                 0                 0   \n",
       "\n",
       "      RoofMatl_WdShngl  Exterior1st_AsphShn  Exterior1st_BrkComm  \\\n",
       "1232                 0                    0                    0   \n",
       "2381                 0                    0                    0   \n",
       "810                  0                    0                    0   \n",
       "863                  0                    0                    0   \n",
       "1346                 0                    0                    0   \n",
       "\n",
       "      Exterior1st_BrkFace  Exterior1st_CBlock  Exterior1st_CemntBd  \\\n",
       "1232                    0                   0                    0   \n",
       "2381                    0                   0                    0   \n",
       "810                     0                   0                    0   \n",
       "863                     0                   0                    0   \n",
       "1346                    0                   0                    0   \n",
       "\n",
       "      Exterior1st_HdBoard  Exterior1st_ImStucc  Exterior1st_MetalSd  \\\n",
       "1232                    1                    0                    0   \n",
       "2381                    1                    0                    0   \n",
       "810                     1                    0                    0   \n",
       "863                     0                    0                    0   \n",
       "1346                    0                    0                    0   \n",
       "\n",
       "      Exterior1st_Plywood  Exterior1st_PreCast  Exterior1st_Stucco  \\\n",
       "1232                    0                    0                   0   \n",
       "2381                    0                    0                   0   \n",
       "810                     0                    0                   0   \n",
       "863                     0                    0                   0   \n",
       "1346                    0                    0                   0   \n",
       "\n",
       "      Exterior1st_VinylSd  Exterior1st_Wd Sdng  Exterior1st_WdShing  \\\n",
       "1232                    0                    0                    0   \n",
       "2381                    0                    0                    0   \n",
       "810                     0                    0                    0   \n",
       "863                     1                    0                    0   \n",
       "1346                    1                    0                    0   \n",
       "\n",
       "      Exterior2nd_AsphShn  Exterior2nd_Brk Cmn  Exterior2nd_BrkFace  \\\n",
       "1232                    0                    0                    0   \n",
       "2381                    0                    0                    0   \n",
       "810                     0                    0                    0   \n",
       "863                     0                    0                    0   \n",
       "1346                    0                    0                    0   \n",
       "\n",
       "      Exterior2nd_CBlock  Exterior2nd_CmentBd  Exterior2nd_HdBoard  \\\n",
       "1232                   0                    0                    1   \n",
       "2381                   0                    0                    1   \n",
       "810                    0                    0                    1   \n",
       "863                    0                    0                    0   \n",
       "1346                   0                    0                    0   \n",
       "\n",
       "      Exterior2nd_ImStucc  Exterior2nd_MetalSd  Exterior2nd_Plywood  \\\n",
       "1232                    0                    0                    0   \n",
       "2381                    0                    0                    0   \n",
       "810                     0                    0                    0   \n",
       "863                     0                    0                    0   \n",
       "1346                    0                    0                    0   \n",
       "\n",
       "      Exterior2nd_PreCast  Exterior2nd_Stone  Exterior2nd_Stucco  \\\n",
       "1232                    0                  0                   0   \n",
       "2381                    0                  0                   0   \n",
       "810                     0                  0                   0   \n",
       "863                     0                  0                   0   \n",
       "1346                    0                  0                   0   \n",
       "\n",
       "      Exterior2nd_VinylSd  Exterior2nd_Wd Sdng  Exterior2nd_Wd Shng  \\\n",
       "1232                    0                    0                    0   \n",
       "2381                    0                    0                    0   \n",
       "810                     0                    0                    0   \n",
       "863                     1                    0                    0   \n",
       "1346                    1                    0                    0   \n",
       "\n",
       "      MasVnrType_BrkFace  MasVnrType_None  MasVnrType_Stone  \\\n",
       "1232                   0                1                 0   \n",
       "2381                   0                1                 0   \n",
       "810                    1                0                 0   \n",
       "863                    1                0                 0   \n",
       "1346                   0                1                 0   \n",
       "\n",
       "      Foundation_CBlock  Foundation_PConc  Foundation_Slab  Foundation_Stone  \\\n",
       "1232                  0                 1                0                 0   \n",
       "2381                  1                 0                0                 0   \n",
       "810                   0                 1                0                 0   \n",
       "863                   0                 1                0                 0   \n",
       "1346                  0                 1                0                 0   \n",
       "\n",
       "      Foundation_Wood  Heating_GasA  Heating_GasW  Heating_Grav  Heating_OthW  \\\n",
       "1232                0             1             0             0             0   \n",
       "2381                0             1             0             0             0   \n",
       "810                 0             1             0             0             0   \n",
       "863                 0             1             0             0             0   \n",
       "1346                0             1             0             0             0   \n",
       "\n",
       "      Heating_Wall  CentralAir_Y  Electrical_FuseF  Electrical_FuseP  \\\n",
       "1232             0             1                 0                 0   \n",
       "2381             0             1                 0                 0   \n",
       "810              0             1                 0                 0   \n",
       "863              0             1                 0                 0   \n",
       "1346             0             1                 0                 0   \n",
       "\n",
       "      Electrical_Mixed  Electrical_SBrkr  GarageType_Attchd  \\\n",
       "1232                 0                 1                  1   \n",
       "2381                 0                 1                  1   \n",
       "810                  0                 1                  0   \n",
       "863                  0                 1                  1   \n",
       "1346                 0                 1                  0   \n",
       "\n",
       "      GarageType_Basment  GarageType_BuiltIn  GarageType_CarPort  \\\n",
       "1232                   0                   0                   0   \n",
       "2381                   0                   0                   0   \n",
       "810                    0                   1                   0   \n",
       "863                    0                   0                   0   \n",
       "1346                   0                   0                   0   \n",
       "\n",
       "      GarageType_Detchd  GarageType_No  GarageFinish_No  GarageFinish_RFn  \\\n",
       "1232                  0              0                0                 1   \n",
       "2381                  0              0                0                 0   \n",
       "810                   0              0                0                 0   \n",
       "863                   0              0                0                 0   \n",
       "1346                  1              0                0                 0   \n",
       "\n",
       "      GarageFinish_Unf  PavedDrive_P  PavedDrive_Y  Fence_GdWo  Fence_MnPrv  \\\n",
       "1232                 0             0             1           1            0   \n",
       "2381                 1             0             1           0            0   \n",
       "810                  0             0             1           0            0   \n",
       "863                  0             0             1           0            0   \n",
       "1346                 1             0             1           0            0   \n",
       "\n",
       "      Fence_MnWw  Fence_No  MoSold_10  MoSold_11  MoSold_12  MoSold_2  \\\n",
       "1232           0         0          0          0          0         0   \n",
       "2381           0         1          0          0          0         0   \n",
       "810            0         1          0          0          0         0   \n",
       "863            0         1          0          0          0         0   \n",
       "1346           0         1          0          0          0         0   \n",
       "\n",
       "      MoSold_3  MoSold_4  MoSold_5  MoSold_6  MoSold_7  MoSold_8  MoSold_9  \\\n",
       "1232         1         0         0         0         0         0         0   \n",
       "2381         0         0         0         0         0         0         1   \n",
       "810          0         0         0         1         0         0         0   \n",
       "863          0         1         0         0         0         0         0   \n",
       "1346         0         0         0         0         1         0         0   \n",
       "\n",
       "      SaleCondition_AdjLand  SaleCondition_Alloca  SaleCondition_Family  \\\n",
       "1232                      0                     0                     0   \n",
       "2381                      0                     0                     0   \n",
       "810                       0                     0                     0   \n",
       "863                       0                     0                     0   \n",
       "1346                      0                     0                     0   \n",
       "\n",
       "      SaleCondition_Normal  SaleCondition_Partial  \n",
       "1232                     1                      0  \n",
       "2381                     1                      0  \n",
       "810                      1                      0  \n",
       "863                      1                      0  \n",
       "1346                     1                      0  "
      ]
     },
     "execution_count": 9,
     "metadata": {},
     "output_type": "execute_result"
    }
   ],
   "source": [
    "pd.set_option('display.max_columns', None)\n",
    "\n",
    "\n",
    "housing.head()"
   ]
  },
  {
   "cell_type": "code",
   "execution_count": 154,
   "id": "dd963925",
   "metadata": {},
   "outputs": [
    {
     "data": {
      "text/plain": [
       "1232    162900\n",
       "2381    133000\n",
       "810     189000\n",
       "863     290000\n",
       "1346    143000\n",
       "Name: SalePrice, dtype: int64"
      ]
     },
     "execution_count": 154,
     "metadata": {},
     "output_type": "execute_result"
    }
   ],
   "source": [
    "housing.SalePrice.head()\n",
    "# housing.drop({'SalePrice'})"
   ]
  },
  {
   "cell_type": "code",
   "execution_count": 156,
   "id": "69273f55",
   "metadata": {},
   "outputs": [
    {
     "data": {
      "text/plain": [
       "(1784, 249)"
      ]
     },
     "execution_count": 156,
     "metadata": {},
     "output_type": "execute_result"
    }
   ],
   "source": [
    "housing.shape"
   ]
  },
  {
   "cell_type": "code",
   "execution_count": 155,
   "id": "e6a5474d",
   "metadata": {},
   "outputs": [
    {
     "data": {
      "text/plain": [
       "1140    175900\n",
       "398     147500\n",
       "894     192000\n",
       "2422    197900\n",
       "2548    110000\n",
       "Name: SalePrice, dtype: int64"
      ]
     },
     "execution_count": 155,
     "metadata": {},
     "output_type": "execute_result"
    }
   ],
   "source": [
    "# x_test.drop({'SalePrice'})\n",
    "x_test.SalePrice.head()"
   ]
  },
  {
   "cell_type": "code",
   "execution_count": 13,
   "id": "1ee7bfb3",
   "metadata": {},
   "outputs": [
    {
     "data": {
      "text/plain": [
       "(765, 249)"
      ]
     },
     "execution_count": 13,
     "metadata": {},
     "output_type": "execute_result"
    }
   ],
   "source": [
    "x_test.shape"
   ]
  },
  {
   "cell_type": "code",
   "execution_count": 14,
   "id": "471ed2eb",
   "metadata": {},
   "outputs": [
    {
     "data": {
      "text/plain": [
       "pandas.core.series.Series"
      ]
     },
     "execution_count": 14,
     "metadata": {},
     "output_type": "execute_result"
    }
   ],
   "source": [
    "y_train.shape\n",
    "type(y_train)\n",
    "y_train.head()\n",
    "SalePrice = y_train.SalePrice\n",
    "price = y_train.SalePrice\n",
    "type(SalePrice)"
   ]
  },
  {
   "cell_type": "code",
   "execution_count": 162,
   "id": "ac46586f",
   "metadata": {},
   "outputs": [
    {
     "data": {
      "text/plain": [
       "<AxesSubplot:xlabel='SalePrice', ylabel='Count'>"
      ]
     },
     "execution_count": 162,
     "metadata": {},
     "output_type": "execute_result"
    },
    {
     "data": {
      "image/png": "[encoded data removed]",
      "text/plain": [
       "<Figure size 1080x576 with 1 Axes>"
      ]
     },
     "metadata": {},
     "output_type": "display_data"
    }
   ],
   "source": [
    "sns.set(rc = {'figure.figsize':(15,8)})\n",
    "sns.histplot(housing.SalePrice, bins=20)"
   ]
  },
  {
   "cell_type": "code",
   "execution_count": 17,
   "id": "c1b2ed30",
   "metadata": {},
   "outputs": [],
   "source": [
    "log_price = np.log(SalePrice)"
   ]
  },
  {
   "cell_type": "code",
   "execution_count": 161,
   "id": "298d5002",
   "metadata": {},
   "outputs": [
    {
     "data": {
      "image/png": "[encoded data removed]",
      "text/plain": [
       "<Figure size 1080x576 with 1 Axes>"
      ]
     },
     "metadata": {},
     "output_type": "display_data"
    }
   ],
   "source": [
    "sns.histplot(log_price, bins=20);"
   ]
  },
  {
   "cell_type": "code",
   "execution_count": 19,
   "id": "4af04926",
   "metadata": {},
   "outputs": [],
   "source": [
    "def proc_freq(df,variable_):  #Note variable_ must be given in quotes example: variable_ = 'xyz'\n",
    "    datax = df[variable_].value_counts().sort_index()\n",
    "    \n",
    "    datay = pd.DataFrame({\n",
    "        variable_: datax.index,\n",
    "        'Frequency': datax.values,\n",
    "        'Percent': ((datax.values/datax.values.sum())*100).round(2),\n",
    "        'Cumulative_Frequency': datax.values.cumsum(),\n",
    "        'Cumulative_Percent': ((datax.values.cumsum()/datax.values.sum())*100).round(2)   })\n",
    "    \n",
    "    #datay.set_index(variable_)\n",
    "    #return(datay.set_index(variable_))\n",
    "    return(datay)"
   ]
  },
  {
   "cell_type": "code",
   "execution_count": 20,
   "id": "af0f04ef",
   "metadata": {},
   "outputs": [],
   "source": [
    "def miss_cols(df):\n",
    "    missing = np.sum(df.isnull(),axis=0)\n",
    "    \n",
    "    miss_ind = np.sum(df.isnull(),axis=0) > 0\n",
    "    \n",
    "    vals = pd.Series(filter(lambda x: x != 0,missing))\n",
    "     \n",
    "    cols_miss = df.columns[miss_ind]\n",
    "\n",
    "    L=list(zip(cols_miss,vals, round(vals/df.shape[0],4)))\n",
    "    \n",
    "    return sorted(L,reverse=True,key=lambda x: x[2])  "
   ]
  },
  {
   "cell_type": "code",
   "execution_count": 152,
   "id": "3cfe6a3f",
   "metadata": {},
   "outputs": [],
   "source": [
    "def categ_check(\n",
    "df_name = None,\n",
    "target_median = None,\n",
    "categ_feature = None,\n",
    "target = None):\n",
    "\n",
    "    df1 = df_name.groupby([categ_feature])[target].median().reset_index()\n",
    "    df1 = df1.rename(columns={target:'median_of_target'})\n",
    "\n",
    "    df1['index'] = (df1['median_of_target']/target_median*100).astype(int)\n",
    "\n",
    "    df2= df_name[[categ_feature,target]]\n",
    "    df2 = df2.groupby([categ_feature]).count().reset_index()\n",
    "    df2 = df2.rename(columns={target:'category_freq'})\n",
    "\n",
    "    df2['pct_total'] = df2['category_freq']/df_name.shape[0]*100\n",
    "\n",
    "    df3 = pd.merge(df2,df1)\n",
    "\n",
    "    df4 = df3.sort_values(by=['index'], ascending=False).reset_index()\n",
    "    df4 = df4.drop(columns=['level_0'])\n",
    "    return df4"
   ]
  },
  {
   "cell_type": "code",
   "execution_count": null,
   "id": "90a39087",
   "metadata": {},
   "outputs": [],
   "source": []
  },
  {
   "cell_type": "code",
   "execution_count": 21,
   "id": "cc096561",
   "metadata": {},
   "outputs": [
    {
     "data": {
      "text/plain": [
       "GrLivArea        0\n",
       "SalePrice        0\n",
       "MSSubClass       0\n",
       "MSZoning         0\n",
       "LotFrontage    310\n",
       "dtype: int64"
      ]
     },
     "execution_count": 21,
     "metadata": {},
     "output_type": "execute_result"
    }
   ],
   "source": [
    "missing = np.sum(housing.isnull(),axis=0)\n",
    "missing.head()"
   ]
  },
  {
   "cell_type": "code",
   "execution_count": 22,
   "id": "d6c420b4",
   "metadata": {},
   "outputs": [
    {
     "data": {
      "text/plain": [
       "[('LotFrontage', 310, 0.1738),\n",
       " ('GarageYrBlt', 94, 0.0527),\n",
       " ('MasVnrArea', 9, 0.005),\n",
       " ('BsmtFullBath', 1, 0.0006),\n",
       " ('BsmtHalfBath', 1, 0.0006),\n",
       " ('GarageCars', 1, 0.0006),\n",
       " ('GarageArea', 1, 0.0006)]"
      ]
     },
     "execution_count": 22,
     "metadata": {},
     "output_type": "execute_result"
    }
   ],
   "source": [
    "miss_cols(housing) #list of columns with missing values and the quantity of missing values for housing df"
   ]
  },
  {
   "cell_type": "code",
   "execution_count": 24,
   "id": "f886105a",
   "metadata": {},
   "outputs": [
    {
     "data": {
      "text/html": [
       "<div>\n",
       "<style scoped>\n",
       "    .dataframe tbody tr th:only-of-type {\n",
       "        vertical-align: middle;\n",
       "    }\n",
       "\n",
       "    .dataframe tbody tr th {\n",
       "        vertical-align: top;\n",
       "    }\n",
       "\n",
       "    .dataframe thead th {\n",
       "        text-align: right;\n",
       "    }\n",
       "</style>\n",
       "<table border=\"1\" class=\"dataframe\">\n",
       "  <thead>\n",
       "    <tr style=\"text-align: right;\">\n",
       "      <th></th>\n",
       "      <th>MSZoning</th>\n",
       "      <th>Frequency</th>\n",
       "      <th>Percent</th>\n",
       "      <th>Cumulative_Frequency</th>\n",
       "      <th>Cumulative_Percent</th>\n",
       "    </tr>\n",
       "  </thead>\n",
       "  <tbody>\n",
       "    <tr>\n",
       "      <th>0</th>\n",
       "      <td>FV</td>\n",
       "      <td>78</td>\n",
       "      <td>4.37</td>\n",
       "      <td>78</td>\n",
       "      <td>4.37</td>\n",
       "    </tr>\n",
       "    <tr>\n",
       "      <th>1</th>\n",
       "      <td>RH</td>\n",
       "      <td>13</td>\n",
       "      <td>0.73</td>\n",
       "      <td>91</td>\n",
       "      <td>5.10</td>\n",
       "    </tr>\n",
       "    <tr>\n",
       "      <th>2</th>\n",
       "      <td>RL</td>\n",
       "      <td>1397</td>\n",
       "      <td>78.31</td>\n",
       "      <td>1488</td>\n",
       "      <td>83.41</td>\n",
       "    </tr>\n",
       "    <tr>\n",
       "      <th>3</th>\n",
       "      <td>RM</td>\n",
       "      <td>296</td>\n",
       "      <td>16.59</td>\n",
       "      <td>1784</td>\n",
       "      <td>100.00</td>\n",
       "    </tr>\n",
       "  </tbody>\n",
       "</table>\n",
       "</div>"
      ],
      "text/plain": [
       "  MSZoning  Frequency  Percent  Cumulative_Frequency  Cumulative_Percent\n",
       "0       FV         78     4.37                    78                4.37\n",
       "1       RH         13     0.73                    91                5.10\n",
       "2       RL       1397    78.31                  1488               83.41\n",
       "3       RM        296    16.59                  1784              100.00"
      ]
     },
     "execution_count": 24,
     "metadata": {},
     "output_type": "execute_result"
    }
   ],
   "source": [
    "\n",
    "proc_freq(housing,'MSZoning')"
   ]
  },
  {
   "cell_type": "code",
   "execution_count": 25,
   "id": "e6a00467",
   "metadata": {},
   "outputs": [
    {
     "data": {
      "text/plain": [
       "['GrLivArea',\n",
       " 'SalePrice',\n",
       " 'MSSubClass',\n",
       " 'MSZoning',\n",
       " 'LotFrontage',\n",
       " 'LotArea',\n",
       " 'Street',\n",
       " 'LotShape',\n",
       " 'LandContour',\n",
       " 'Utilities',\n",
       " 'LotConfig',\n",
       " 'LandSlope',\n",
       " 'Neighborhood',\n",
       " 'Condition1',\n",
       " 'Condition2',\n",
       " 'BldgType',\n",
       " 'HouseStyle',\n",
       " 'OverallQual',\n",
       " 'OverallCond',\n",
       " 'YearBuilt',\n",
       " 'YearRemodAdd',\n",
       " 'RoofStyle',\n",
       " 'RoofMatl',\n",
       " 'Exterior1st',\n",
       " 'Exterior2nd',\n",
       " 'MasVnrType',\n",
       " 'MasVnrArea',\n",
       " 'ExterQual',\n",
       " 'ExterCond',\n",
       " 'Foundation',\n",
       " 'BsmtQual',\n",
       " 'BsmtCond',\n",
       " 'BsmtExposure',\n",
       " 'BsmtFinType1',\n",
       " 'BsmtFinSF1',\n",
       " 'BsmtFinType2',\n",
       " 'BsmtFinSF2',\n",
       " 'BsmtUnfSF',\n",
       " 'TotalBsmtSF',\n",
       " 'Heating',\n",
       " 'HeatingQC',\n",
       " 'CentralAir',\n",
       " 'Electrical',\n",
       " '1stFlrSF',\n",
       " '2ndFlrSF',\n",
       " 'LowQualFinSF',\n",
       " 'BsmtFullBath',\n",
       " 'BsmtHalfBath',\n",
       " 'FullBath',\n",
       " 'HalfBath',\n",
       " 'BedroomAbvGr',\n",
       " 'KitchenAbvGr',\n",
       " 'KitchenQual',\n",
       " 'TotRmsAbvGrd',\n",
       " 'Functional',\n",
       " 'Fireplaces',\n",
       " 'FireplaceQu',\n",
       " 'GarageType',\n",
       " 'GarageYrBlt',\n",
       " 'GarageFinish',\n",
       " 'GarageCars',\n",
       " 'GarageArea',\n",
       " 'GarageQual',\n",
       " 'GarageCond',\n",
       " 'PavedDrive',\n",
       " 'WoodDeckSF',\n",
       " 'OpenPorchSF',\n",
       " 'EnclosedPorch',\n",
       " '3SsnPorch',\n",
       " 'ScreenPorch',\n",
       " 'PoolArea',\n",
       " 'Fence',\n",
       " 'MiscVal',\n",
       " 'MoSold',\n",
       " 'YrSold',\n",
       " 'SaleType',\n",
       " 'SaleCondition',\n",
       " 'log_price',\n",
       " 'bc_GrLivArea',\n",
       " 'has_pool',\n",
       " 'has_miscfeature',\n",
       " 'alley_access',\n",
       " 'MSSubClass_150',\n",
       " 'MSSubClass_160',\n",
       " 'MSSubClass_180',\n",
       " 'MSSubClass_190',\n",
       " 'MSSubClass_20',\n",
       " 'MSSubClass_30',\n",
       " 'MSSubClass_40',\n",
       " 'MSSubClass_45',\n",
       " 'MSSubClass_50',\n",
       " 'MSSubClass_60',\n",
       " 'MSSubClass_70',\n",
       " 'MSSubClass_75',\n",
       " 'MSSubClass_80',\n",
       " 'MSSubClass_85',\n",
       " 'MSSubClass_90',\n",
       " 'MSZoning_RH',\n",
       " 'MSZoning_RL',\n",
       " 'MSZoning_RM',\n",
       " 'Street_Pave',\n",
       " 'LandContour_HLS',\n",
       " 'LandContour_Low',\n",
       " 'LandContour_Lvl',\n",
       " 'Utilities_NoSewr',\n",
       " 'LotConfig_CulDSac',\n",
       " 'LotConfig_FR2',\n",
       " 'LotConfig_FR3',\n",
       " 'LotConfig_Inside',\n",
       " 'Neighborhood_Blueste',\n",
       " 'Neighborhood_BrDale',\n",
       " 'Neighborhood_BrkSide',\n",
       " 'Neighborhood_ClearCr',\n",
       " 'Neighborhood_CollgCr',\n",
       " 'Neighborhood_Crawfor',\n",
       " 'Neighborhood_Edwards',\n",
       " 'Neighborhood_Gilbert',\n",
       " 'Neighborhood_Greens',\n",
       " 'Neighborhood_IDOTRR',\n",
       " 'Neighborhood_MeadowV',\n",
       " 'Neighborhood_Mitchel',\n",
       " 'Neighborhood_NAmes',\n",
       " 'Neighborhood_NPkVill',\n",
       " 'Neighborhood_NWAmes',\n",
       " 'Neighborhood_NoRidge',\n",
       " 'Neighborhood_NridgHt',\n",
       " 'Neighborhood_OldTown',\n",
       " 'Neighborhood_SWISU',\n",
       " 'Neighborhood_Sawyer',\n",
       " 'Neighborhood_SawyerW',\n",
       " 'Neighborhood_Somerst',\n",
       " 'Neighborhood_StoneBr',\n",
       " 'Neighborhood_Timber',\n",
       " 'Neighborhood_Veenker',\n",
       " 'Condition1_Feedr',\n",
       " 'Condition1_Norm',\n",
       " 'Condition1_PosA',\n",
       " 'Condition1_PosN',\n",
       " 'Condition1_RRAe',\n",
       " 'Condition1_RRAn',\n",
       " 'Condition1_RRNe',\n",
       " 'Condition1_RRNn',\n",
       " 'Condition2_Feedr',\n",
       " 'Condition2_Norm',\n",
       " 'Condition2_PosA',\n",
       " 'Condition2_PosN',\n",
       " 'Condition2_RRAe',\n",
       " 'Condition2_RRAn',\n",
       " 'Condition2_RRNn',\n",
       " 'BldgType_2fmCon',\n",
       " 'BldgType_Duplex',\n",
       " 'BldgType_Twnhs',\n",
       " 'BldgType_TwnhsE',\n",
       " 'HouseStyle_1.5Unf',\n",
       " 'HouseStyle_1Story',\n",
       " 'HouseStyle_2.5Fin',\n",
       " 'HouseStyle_2.5Unf',\n",
       " 'HouseStyle_2Story',\n",
       " 'HouseStyle_SFoyer',\n",
       " 'HouseStyle_SLvl',\n",
       " 'RoofStyle_Gable',\n",
       " 'RoofStyle_Gambrel',\n",
       " 'RoofStyle_Hip',\n",
       " 'RoofStyle_Mansard',\n",
       " 'RoofStyle_Shed',\n",
       " 'RoofMatl_Membran',\n",
       " 'RoofMatl_Metal',\n",
       " 'RoofMatl_Roll',\n",
       " 'RoofMatl_Tar&Grv',\n",
       " 'RoofMatl_WdShake',\n",
       " 'RoofMatl_WdShngl',\n",
       " 'Exterior1st_AsphShn',\n",
       " 'Exterior1st_BrkComm',\n",
       " 'Exterior1st_BrkFace',\n",
       " 'Exterior1st_CBlock',\n",
       " 'Exterior1st_CemntBd',\n",
       " 'Exterior1st_HdBoard',\n",
       " 'Exterior1st_ImStucc',\n",
       " 'Exterior1st_MetalSd',\n",
       " 'Exterior1st_Plywood',\n",
       " 'Exterior1st_PreCast',\n",
       " 'Exterior1st_Stucco',\n",
       " 'Exterior1st_VinylSd',\n",
       " 'Exterior1st_Wd Sdng',\n",
       " 'Exterior1st_WdShing',\n",
       " 'Exterior2nd_AsphShn',\n",
       " 'Exterior2nd_Brk Cmn',\n",
       " 'Exterior2nd_BrkFace',\n",
       " 'Exterior2nd_CBlock',\n",
       " 'Exterior2nd_CmentBd',\n",
       " 'Exterior2nd_HdBoard',\n",
       " 'Exterior2nd_ImStucc',\n",
       " 'Exterior2nd_MetalSd',\n",
       " 'Exterior2nd_Plywood',\n",
       " 'Exterior2nd_PreCast',\n",
       " 'Exterior2nd_Stone',\n",
       " 'Exterior2nd_Stucco',\n",
       " 'Exterior2nd_VinylSd',\n",
       " 'Exterior2nd_Wd Sdng',\n",
       " 'Exterior2nd_Wd Shng',\n",
       " 'MasVnrType_BrkFace',\n",
       " 'MasVnrType_None',\n",
       " 'MasVnrType_Stone',\n",
       " 'Foundation_CBlock',\n",
       " 'Foundation_PConc',\n",
       " 'Foundation_Slab',\n",
       " 'Foundation_Stone',\n",
       " 'Foundation_Wood',\n",
       " 'Heating_GasA',\n",
       " 'Heating_GasW',\n",
       " 'Heating_Grav',\n",
       " 'Heating_OthW',\n",
       " 'Heating_Wall',\n",
       " 'CentralAir_Y',\n",
       " 'Electrical_FuseF',\n",
       " 'Electrical_FuseP',\n",
       " 'Electrical_Mixed',\n",
       " 'Electrical_SBrkr',\n",
       " 'GarageType_Attchd',\n",
       " 'GarageType_Basment',\n",
       " 'GarageType_BuiltIn',\n",
       " 'GarageType_CarPort',\n",
       " 'GarageType_Detchd',\n",
       " 'GarageType_No',\n",
       " 'GarageFinish_No',\n",
       " 'GarageFinish_RFn',\n",
       " 'GarageFinish_Unf',\n",
       " 'PavedDrive_P',\n",
       " 'PavedDrive_Y',\n",
       " 'Fence_GdWo',\n",
       " 'Fence_MnPrv',\n",
       " 'Fence_MnWw',\n",
       " 'Fence_No',\n",
       " 'MoSold_10',\n",
       " 'MoSold_11',\n",
       " 'MoSold_12',\n",
       " 'MoSold_2',\n",
       " 'MoSold_3',\n",
       " 'MoSold_4',\n",
       " 'MoSold_5',\n",
       " 'MoSold_6',\n",
       " 'MoSold_7',\n",
       " 'MoSold_8',\n",
       " 'MoSold_9',\n",
       " 'SaleCondition_AdjLand',\n",
       " 'SaleCondition_Alloca',\n",
       " 'SaleCondition_Family',\n",
       " 'SaleCondition_Normal',\n",
       " 'SaleCondition_Partial']"
      ]
     },
     "execution_count": 25,
     "metadata": {},
     "output_type": "execute_result"
    }
   ],
   "source": [
    "list(housing.columns)"
   ]
  },
  {
   "cell_type": "markdown",
   "id": "837a3e85",
   "metadata": {},
   "source": [
    "#### try to impute LotFrontage using linear regression"
   ]
  },
  {
   "cell_type": "code",
   "execution_count": 27,
   "id": "81da7c19",
   "metadata": {},
   "outputs": [
    {
     "data": {
      "text/plain": [
       "0.5400416989821826"
      ]
     },
     "execution_count": 27,
     "metadata": {},
     "output_type": "execute_result"
    }
   ],
   "source": [
    "housing.LotFrontage.corr(housing.LotArea)"
   ]
  },
  {
   "cell_type": "code",
   "execution_count": 163,
   "id": "d7b3a75a",
   "metadata": {},
   "outputs": [
    {
     "data": {
      "text/plain": [
       "0.436130149401068"
      ]
     },
     "execution_count": 163,
     "metadata": {},
     "output_type": "execute_result"
    }
   ],
   "source": [
    "housing.LotFrontage.corr(housing['1stFlrSF'])"
   ]
  },
  {
   "cell_type": "code",
   "execution_count": 164,
   "id": "4aeef571",
   "metadata": {},
   "outputs": [
    {
     "data": {
      "text/plain": [
       "0.3516585830315819"
      ]
     },
     "execution_count": 164,
     "metadata": {},
     "output_type": "execute_result"
    }
   ],
   "source": [
    "housing.LotFrontage.corr(housing.GrLivArea)"
   ]
  },
  {
   "cell_type": "code",
   "execution_count": 30,
   "id": "0aa45700",
   "metadata": {},
   "outputs": [
    {
     "data": {
      "text/plain": [
       "Index(['GrLivArea', 'LotArea', 'MasVnrArea', 'BsmtUnfSF', 'TotalBsmtSF',\n",
       "       '1stFlrSF', '2ndFlrSF', 'LowQualFinSF', 'GarageArea', 'WoodDeckSF',\n",
       "       'OpenPorchSF', 'PoolArea', 'bc_GrLivArea'],\n",
       "      dtype='object')"
      ]
     },
     "execution_count": 30,
     "metadata": {},
     "output_type": "execute_result"
    }
   ],
   "source": [
    "size_related = housing.filter(regex='SF$|Area$')#filter out columns that end with SF or that end with Area\n",
    "size_related.columns"
   ]
  },
  {
   "cell_type": "code",
   "execution_count": 33,
   "id": "cf6ea433",
   "metadata": {},
   "outputs": [
    {
     "data": {
      "text/plain": [
       "0.3771083286100565"
      ]
     },
     "execution_count": 33,
     "metadata": {},
     "output_type": "execute_result"
    }
   ],
   "source": [
    "from sklearn.linear_model import LinearRegression\n",
    "lm = LinearRegression()\n",
    "lm.fit(x_,y_)\n",
    "lm.score(x_, y_)  #pretty bad model"
   ]
  },
  {
   "cell_type": "code",
   "execution_count": 37,
   "id": "aa9ba7e5",
   "metadata": {},
   "outputs": [
    {
     "data": {
      "text/html": [
       "<div>\n",
       "<style scoped>\n",
       "    .dataframe tbody tr th:only-of-type {\n",
       "        vertical-align: middle;\n",
       "    }\n",
       "\n",
       "    .dataframe tbody tr th {\n",
       "        vertical-align: top;\n",
       "    }\n",
       "\n",
       "    .dataframe thead th {\n",
       "        text-align: right;\n",
       "    }\n",
       "</style>\n",
       "<table border=\"1\" class=\"dataframe\">\n",
       "  <thead>\n",
       "    <tr style=\"text-align: right;\">\n",
       "      <th></th>\n",
       "      <th>Neighborhood</th>\n",
       "      <th>Frequency</th>\n",
       "      <th>Percent</th>\n",
       "      <th>Cumulative_Frequency</th>\n",
       "      <th>Cumulative_Percent</th>\n",
       "    </tr>\n",
       "  </thead>\n",
       "  <tbody>\n",
       "    <tr>\n",
       "      <th>0</th>\n",
       "      <td>Blmngtn</td>\n",
       "      <td>13</td>\n",
       "      <td>0.73</td>\n",
       "      <td>13</td>\n",
       "      <td>0.73</td>\n",
       "    </tr>\n",
       "    <tr>\n",
       "      <th>1</th>\n",
       "      <td>Blueste</td>\n",
       "      <td>3</td>\n",
       "      <td>0.17</td>\n",
       "      <td>16</td>\n",
       "      <td>0.90</td>\n",
       "    </tr>\n",
       "    <tr>\n",
       "      <th>2</th>\n",
       "      <td>BrDale</td>\n",
       "      <td>20</td>\n",
       "      <td>1.12</td>\n",
       "      <td>36</td>\n",
       "      <td>2.02</td>\n",
       "    </tr>\n",
       "    <tr>\n",
       "      <th>3</th>\n",
       "      <td>BrkSide</td>\n",
       "      <td>68</td>\n",
       "      <td>3.81</td>\n",
       "      <td>104</td>\n",
       "      <td>5.83</td>\n",
       "    </tr>\n",
       "    <tr>\n",
       "      <th>4</th>\n",
       "      <td>ClearCr</td>\n",
       "      <td>27</td>\n",
       "      <td>1.51</td>\n",
       "      <td>131</td>\n",
       "      <td>7.34</td>\n",
       "    </tr>\n",
       "    <tr>\n",
       "      <th>5</th>\n",
       "      <td>CollgCr</td>\n",
       "      <td>170</td>\n",
       "      <td>9.53</td>\n",
       "      <td>301</td>\n",
       "      <td>16.87</td>\n",
       "    </tr>\n",
       "    <tr>\n",
       "      <th>6</th>\n",
       "      <td>Crawfor</td>\n",
       "      <td>74</td>\n",
       "      <td>4.15</td>\n",
       "      <td>375</td>\n",
       "      <td>21.02</td>\n",
       "    </tr>\n",
       "    <tr>\n",
       "      <th>7</th>\n",
       "      <td>Edwards</td>\n",
       "      <td>112</td>\n",
       "      <td>6.28</td>\n",
       "      <td>487</td>\n",
       "      <td>27.30</td>\n",
       "    </tr>\n",
       "    <tr>\n",
       "      <th>8</th>\n",
       "      <td>Gilbert</td>\n",
       "      <td>93</td>\n",
       "      <td>5.21</td>\n",
       "      <td>580</td>\n",
       "      <td>32.51</td>\n",
       "    </tr>\n",
       "    <tr>\n",
       "      <th>9</th>\n",
       "      <td>Greens</td>\n",
       "      <td>6</td>\n",
       "      <td>0.34</td>\n",
       "      <td>586</td>\n",
       "      <td>32.85</td>\n",
       "    </tr>\n",
       "    <tr>\n",
       "      <th>10</th>\n",
       "      <td>IDOTRR</td>\n",
       "      <td>48</td>\n",
       "      <td>2.69</td>\n",
       "      <td>634</td>\n",
       "      <td>35.54</td>\n",
       "    </tr>\n",
       "    <tr>\n",
       "      <th>11</th>\n",
       "      <td>MeadowV</td>\n",
       "      <td>26</td>\n",
       "      <td>1.46</td>\n",
       "      <td>660</td>\n",
       "      <td>37.00</td>\n",
       "    </tr>\n",
       "    <tr>\n",
       "      <th>12</th>\n",
       "      <td>Mitchel</td>\n",
       "      <td>69</td>\n",
       "      <td>3.87</td>\n",
       "      <td>729</td>\n",
       "      <td>40.86</td>\n",
       "    </tr>\n",
       "    <tr>\n",
       "      <th>13</th>\n",
       "      <td>NAmes</td>\n",
       "      <td>282</td>\n",
       "      <td>15.81</td>\n",
       "      <td>1011</td>\n",
       "      <td>56.67</td>\n",
       "    </tr>\n",
       "    <tr>\n",
       "      <th>14</th>\n",
       "      <td>NPkVill</td>\n",
       "      <td>16</td>\n",
       "      <td>0.90</td>\n",
       "      <td>1027</td>\n",
       "      <td>57.57</td>\n",
       "    </tr>\n",
       "    <tr>\n",
       "      <th>15</th>\n",
       "      <td>NWAmes</td>\n",
       "      <td>84</td>\n",
       "      <td>4.71</td>\n",
       "      <td>1111</td>\n",
       "      <td>62.28</td>\n",
       "    </tr>\n",
       "    <tr>\n",
       "      <th>16</th>\n",
       "      <td>NoRidge</td>\n",
       "      <td>43</td>\n",
       "      <td>2.41</td>\n",
       "      <td>1154</td>\n",
       "      <td>64.69</td>\n",
       "    </tr>\n",
       "    <tr>\n",
       "      <th>17</th>\n",
       "      <td>NridgHt</td>\n",
       "      <td>86</td>\n",
       "      <td>4.82</td>\n",
       "      <td>1240</td>\n",
       "      <td>69.51</td>\n",
       "    </tr>\n",
       "    <tr>\n",
       "      <th>18</th>\n",
       "      <td>OldTown</td>\n",
       "      <td>151</td>\n",
       "      <td>8.46</td>\n",
       "      <td>1391</td>\n",
       "      <td>77.97</td>\n",
       "    </tr>\n",
       "    <tr>\n",
       "      <th>19</th>\n",
       "      <td>SWISU</td>\n",
       "      <td>32</td>\n",
       "      <td>1.79</td>\n",
       "      <td>1423</td>\n",
       "      <td>79.76</td>\n",
       "    </tr>\n",
       "    <tr>\n",
       "      <th>20</th>\n",
       "      <td>Sawyer</td>\n",
       "      <td>103</td>\n",
       "      <td>5.77</td>\n",
       "      <td>1526</td>\n",
       "      <td>85.54</td>\n",
       "    </tr>\n",
       "    <tr>\n",
       "      <th>21</th>\n",
       "      <td>SawyerW</td>\n",
       "      <td>77</td>\n",
       "      <td>4.32</td>\n",
       "      <td>1603</td>\n",
       "      <td>89.85</td>\n",
       "    </tr>\n",
       "    <tr>\n",
       "      <th>22</th>\n",
       "      <td>Somerst</td>\n",
       "      <td>98</td>\n",
       "      <td>5.49</td>\n",
       "      <td>1701</td>\n",
       "      <td>95.35</td>\n",
       "    </tr>\n",
       "    <tr>\n",
       "      <th>23</th>\n",
       "      <td>StoneBr</td>\n",
       "      <td>34</td>\n",
       "      <td>1.91</td>\n",
       "      <td>1735</td>\n",
       "      <td>97.25</td>\n",
       "    </tr>\n",
       "    <tr>\n",
       "      <th>24</th>\n",
       "      <td>Timber</td>\n",
       "      <td>32</td>\n",
       "      <td>1.79</td>\n",
       "      <td>1767</td>\n",
       "      <td>99.05</td>\n",
       "    </tr>\n",
       "    <tr>\n",
       "      <th>25</th>\n",
       "      <td>Veenker</td>\n",
       "      <td>17</td>\n",
       "      <td>0.95</td>\n",
       "      <td>1784</td>\n",
       "      <td>100.00</td>\n",
       "    </tr>\n",
       "  </tbody>\n",
       "</table>\n",
       "</div>"
      ],
      "text/plain": [
       "   Neighborhood  Frequency  Percent  Cumulative_Frequency  Cumulative_Percent\n",
       "0       Blmngtn         13     0.73                    13                0.73\n",
       "1       Blueste          3     0.17                    16                0.90\n",
       "2        BrDale         20     1.12                    36                2.02\n",
       "3       BrkSide         68     3.81                   104                5.83\n",
       "4       ClearCr         27     1.51                   131                7.34\n",
       "5       CollgCr        170     9.53                   301               16.87\n",
       "6       Crawfor         74     4.15                   375               21.02\n",
       "7       Edwards        112     6.28                   487               27.30\n",
       "8       Gilbert         93     5.21                   580               32.51\n",
       "9        Greens          6     0.34                   586               32.85\n",
       "10       IDOTRR         48     2.69                   634               35.54\n",
       "11      MeadowV         26     1.46                   660               37.00\n",
       "12      Mitchel         69     3.87                   729               40.86\n",
       "13        NAmes        282    15.81                  1011               56.67\n",
       "14      NPkVill         16     0.90                  1027               57.57\n",
       "15       NWAmes         84     4.71                  1111               62.28\n",
       "16      NoRidge         43     2.41                  1154               64.69\n",
       "17      NridgHt         86     4.82                  1240               69.51\n",
       "18      OldTown        151     8.46                  1391               77.97\n",
       "19        SWISU         32     1.79                  1423               79.76\n",
       "20       Sawyer        103     5.77                  1526               85.54\n",
       "21      SawyerW         77     4.32                  1603               89.85\n",
       "22      Somerst         98     5.49                  1701               95.35\n",
       "23      StoneBr         34     1.91                  1735               97.25\n",
       "24       Timber         32     1.79                  1767               99.05\n",
       "25      Veenker         17     0.95                  1784              100.00"
      ]
     },
     "execution_count": 37,
     "metadata": {},
     "output_type": "execute_result"
    }
   ],
   "source": [
    "proc_freq(housing,'Neighborhood')"
   ]
  },
  {
   "cell_type": "markdown",
   "id": "0bd4c877",
   "metadata": {},
   "source": [
    "# "
   ]
  },
  {
   "cell_type": "code",
   "execution_count": null,
   "id": "09b096a8",
   "metadata": {},
   "outputs": [],
   "source": []
  },
  {
   "cell_type": "code",
   "execution_count": 38,
   "id": "4a89a490",
   "metadata": {},
   "outputs": [
    {
     "name": "stdout",
     "output_type": "stream",
     "text": [
      "   Neighborhood  LotFrontage\n",
      "0       Blmngtn         43.0\n",
      "1       Blueste         24.0\n",
      "2        BrDale         21.0\n",
      "3       BrkSide         52.0\n",
      "4       ClearCr         81.0\n",
      "5       CollgCr         70.0\n",
      "6       Crawfor         70.0\n",
      "7       Edwards         64.0\n",
      "8       Gilbert         64.5\n",
      "9        Greens         40.0\n",
      "10       IDOTRR         59.5\n",
      "11      MeadowV         21.0\n",
      "12      Mitchel         74.0\n",
      "13        NAmes         73.0\n",
      "14      NPkVill         24.0\n",
      "15       NWAmes         80.0\n",
      "16      NoRidge         85.0\n",
      "17      NridgHt         94.5\n",
      "18      OldTown         60.0\n",
      "19        SWISU         60.0\n",
      "20       Sawyer         72.0\n",
      "21      SawyerW         70.0\n",
      "22      Somerst         73.0\n",
      "23      StoneBr         47.0\n",
      "24       Timber         82.0\n",
      "25      Veenker         80.0\n"
     ]
    }
   ],
   "source": [
    "vars =  ['Neighborhood','LotFrontage']\n",
    "house= housing[vars]\n",
    "\n",
    "print(house.groupby(['Neighborhood']).median().reset_index())\n",
    "\n",
    "# print(house.groupby(['Neighborhood']).count().reset_index())\n",
    "\n",
    "\n"
   ]
  },
  {
   "cell_type": "code",
   "execution_count": 41,
   "id": "5bc34046",
   "metadata": {},
   "outputs": [],
   "source": [
    "housing3 = housing.copy()"
   ]
  },
  {
   "cell_type": "code",
   "execution_count": 43,
   "id": "fd99c578",
   "metadata": {},
   "outputs": [
    {
     "name": "stdout",
     "output_type": "stream",
     "text": [
      "   Neighborhood  LotFrontage\n",
      "0       Blmngtn         43.0\n",
      "1       Blueste         24.0\n",
      "2        BrDale         21.0\n",
      "3       BrkSide         52.0\n",
      "4       ClearCr         81.0\n",
      "5       CollgCr         70.0\n",
      "6       Crawfor         70.0\n",
      "7       Edwards         64.0\n",
      "8       Gilbert         64.5\n",
      "9        Greens         40.0\n",
      "10       IDOTRR         59.5\n",
      "11      MeadowV         21.0\n",
      "12      Mitchel         74.0\n",
      "13        NAmes         73.0\n",
      "14      NPkVill         24.0\n",
      "15       NWAmes         80.0\n",
      "16      NoRidge         85.0\n",
      "17      NridgHt         94.5\n",
      "18      OldTown         60.0\n",
      "19        SWISU         60.0\n",
      "20       Sawyer         72.0\n",
      "21      SawyerW         70.0\n",
      "22      Somerst         73.0\n",
      "23      StoneBr         47.0\n",
      "24       Timber         82.0\n",
      "25      Veenker         80.0\n"
     ]
    }
   ],
   "source": [
    "\n",
    "vars =  ['Neighborhood','LotFrontage']\n",
    "house= housing[vars]\n",
    "\n",
    "print(house.groupby(['Neighborhood']).median().reset_index())\n"
   ]
  },
  {
   "cell_type": "markdown",
   "id": "caee4e4f",
   "metadata": {},
   "source": [
    "### impute LotFrontage"
   ]
  },
  {
   "cell_type": "code",
   "execution_count": 171,
   "id": "0f7c5a02",
   "metadata": {},
   "outputs": [
    {
     "data": {
      "text/html": [
       "<div>\n",
       "<style scoped>\n",
       "    .dataframe tbody tr th:only-of-type {\n",
       "        vertical-align: middle;\n",
       "    }\n",
       "\n",
       "    .dataframe tbody tr th {\n",
       "        vertical-align: top;\n",
       "    }\n",
       "\n",
       "    .dataframe thead th {\n",
       "        text-align: right;\n",
       "    }\n",
       "</style>\n",
       "<table border=\"1\" class=\"dataframe\">\n",
       "  <thead>\n",
       "    <tr style=\"text-align: right;\">\n",
       "      <th></th>\n",
       "      <th>Neighborhood</th>\n",
       "      <th>LotFrontage</th>\n",
       "    </tr>\n",
       "  </thead>\n",
       "  <tbody>\n",
       "    <tr>\n",
       "      <th>1232</th>\n",
       "      <td>NWAmes</td>\n",
       "      <td>78.0</td>\n",
       "    </tr>\n",
       "    <tr>\n",
       "      <th>2381</th>\n",
       "      <td>NAmes</td>\n",
       "      <td>60.0</td>\n",
       "    </tr>\n",
       "    <tr>\n",
       "      <th>810</th>\n",
       "      <td>Gilbert</td>\n",
       "      <td>60.0</td>\n",
       "    </tr>\n",
       "    <tr>\n",
       "      <th>863</th>\n",
       "      <td>NoRidge</td>\n",
       "      <td>92.0</td>\n",
       "    </tr>\n",
       "    <tr>\n",
       "      <th>1346</th>\n",
       "      <td>OldTown</td>\n",
       "      <td>50.0</td>\n",
       "    </tr>\n",
       "    <tr>\n",
       "      <th>...</th>\n",
       "      <td>...</td>\n",
       "      <td>...</td>\n",
       "    </tr>\n",
       "    <tr>\n",
       "      <th>1051</th>\n",
       "      <td>OldTown</td>\n",
       "      <td>NaN</td>\n",
       "    </tr>\n",
       "    <tr>\n",
       "      <th>1758</th>\n",
       "      <td>Timber</td>\n",
       "      <td>88.0</td>\n",
       "    </tr>\n",
       "    <tr>\n",
       "      <th>778</th>\n",
       "      <td>Gilbert</td>\n",
       "      <td>96.0</td>\n",
       "    </tr>\n",
       "    <tr>\n",
       "      <th>851</th>\n",
       "      <td>NAmes</td>\n",
       "      <td>NaN</td>\n",
       "    </tr>\n",
       "    <tr>\n",
       "      <th>1679</th>\n",
       "      <td>NAmes</td>\n",
       "      <td>75.0</td>\n",
       "    </tr>\n",
       "  </tbody>\n",
       "</table>\n",
       "<p>1784 rows × 2 columns</p>\n",
       "</div>"
      ],
      "text/plain": [
       "     Neighborhood  LotFrontage\n",
       "1232       NWAmes         78.0\n",
       "2381        NAmes         60.0\n",
       "810       Gilbert         60.0\n",
       "863       NoRidge         92.0\n",
       "1346      OldTown         50.0\n",
       "...           ...          ...\n",
       "1051      OldTown          NaN\n",
       "1758       Timber         88.0\n",
       "778       Gilbert         96.0\n",
       "851         NAmes          NaN\n",
       "1679        NAmes         75.0\n",
       "\n",
       "[1784 rows x 2 columns]"
      ]
     },
     "execution_count": 171,
     "metadata": {},
     "output_type": "execute_result"
    }
   ],
   "source": [
    "list_sub = ['Neighborhood','LotFrontage']\n",
    "housing_sub = housing[list_sub]\n",
    "housing_sub"
   ]
  },
  {
   "cell_type": "markdown",
   "id": "72d57e63",
   "metadata": {},
   "source": [
    "#### imputation dictionary"
   ]
  },
  {
   "cell_type": "code",
   "execution_count": 172,
   "id": "06cad774",
   "metadata": {},
   "outputs": [
    {
     "data": {
      "text/plain": [
       "{'Blmngtn': 43.0,\n",
       " 'Blueste': 24.0,\n",
       " 'BrDale': 21.0,\n",
       " 'BrkSide': 52.0,\n",
       " 'ClearCr': 81.0,\n",
       " 'CollgCr': 70.0,\n",
       " 'Crawfor': 70.0,\n",
       " 'Edwards': 64.0,\n",
       " 'Gilbert': 64.5,\n",
       " 'Greens': 40.0,\n",
       " 'IDOTRR': 59.5,\n",
       " 'MeadowV': 21.0,\n",
       " 'Mitchel': 74.0,\n",
       " 'NAmes': 73.0,\n",
       " 'NPkVill': 24.0,\n",
       " 'NWAmes': 80.0,\n",
       " 'NoRidge': 85.0,\n",
       " 'NridgHt': 94.5,\n",
       " 'OldTown': 60.0,\n",
       " 'SWISU': 60.0,\n",
       " 'Sawyer': 72.0,\n",
       " 'SawyerW': 70.0,\n",
       " 'Somerst': 73.0,\n",
       " 'StoneBr': 47.0,\n",
       " 'Timber': 82.0,\n",
       " 'Veenker': 80.0}"
      ]
     },
     "execution_count": 172,
     "metadata": {},
     "output_type": "execute_result"
    }
   ],
   "source": [
    "imputation_dict = housing_sub.groupby([\"Neighborhood\"]).median().to_dict()\n",
    "imputation_dict['LotFrontage']"
   ]
  },
  {
   "cell_type": "code",
   "execution_count": 46,
   "id": "224e4541",
   "metadata": {},
   "outputs": [
    {
     "data": {
      "text/plain": [
       "pandas.core.frame.DataFrame"
      ]
     },
     "execution_count": 46,
     "metadata": {},
     "output_type": "execute_result"
    }
   ],
   "source": [
    "# imputation_dict\n",
    "type(housing_sub)"
   ]
  },
  {
   "cell_type": "code",
   "execution_count": 173,
   "id": "e656785c",
   "metadata": {},
   "outputs": [
    {
     "name": "stderr",
     "output_type": "stream",
     "text": [
      "C:\\Users\\dgarb\\anaconda3_reinstall\\lib\\site-packages\\pandas\\core\\indexing.py:1773: SettingWithCopyWarning: \n",
      "A value is trying to be set on a copy of a slice from a DataFrame.\n",
      "Try using .loc[row_indexer,col_indexer] = value instead\n",
      "\n",
      "See the caveats in the documentation: https://pandas.pydata.org/pandas-docs/stable/user_guide/indexing.html#returning-a-view-versus-a-copy\n",
      "  self._setitem_single_column(ilocs[0], value, pi)\n"
     ]
    }
   ],
   "source": [
    "impute_index = housing_sub.LotFrontage.isnull()\n",
    "\n",
    "housing_sub.loc[impute_index,'LotFrontage'] = housing_sub.loc[impute_index].apply(lambda current_row:imputation_dict['LotFrontage'][(current_row[0])], axis=1)"
   ]
  },
  {
   "cell_type": "code",
   "execution_count": 49,
   "id": "8fbfd04d",
   "metadata": {},
   "outputs": [
    {
     "data": {
      "text/plain": [
       "[]"
      ]
     },
     "execution_count": 49,
     "metadata": {},
     "output_type": "execute_result"
    }
   ],
   "source": [
    "miss_cols(housing_sub)"
   ]
  },
  {
   "cell_type": "code",
   "execution_count": 50,
   "id": "5dbacb32",
   "metadata": {},
   "outputs": [
    {
     "data": {
      "text/plain": [
       "(1784, 2)"
      ]
     },
     "execution_count": 50,
     "metadata": {},
     "output_type": "execute_result"
    }
   ],
   "source": [
    "housing_sub.shape"
   ]
  },
  {
   "cell_type": "markdown",
   "id": "ed5a926c",
   "metadata": {},
   "source": [
    "#### Make a copy of housing"
   ]
  },
  {
   "cell_type": "code",
   "execution_count": 51,
   "id": "5f69c8eb",
   "metadata": {},
   "outputs": [],
   "source": [
    "housing_copy= housing.copy()\n"
   ]
  },
  {
   "cell_type": "markdown",
   "id": "9dd3d20a",
   "metadata": {},
   "source": [
    "####  do actual imputation of LotFrontage in housing"
   ]
  },
  {
   "cell_type": "code",
   "execution_count": 174,
   "id": "28e74c4b",
   "metadata": {},
   "outputs": [],
   "source": [
    "housing['LotFrontage'] =  housing_sub['LotFrontage']"
   ]
  },
  {
   "cell_type": "code",
   "execution_count": 175,
   "id": "f86f29a4",
   "metadata": {},
   "outputs": [
    {
     "data": {
      "text/plain": [
       "[]"
      ]
     },
     "execution_count": 175,
     "metadata": {},
     "output_type": "execute_result"
    }
   ],
   "source": [
    "miss_cols(housing)"
   ]
  },
  {
   "cell_type": "code",
   "execution_count": 54,
   "id": "d3d0416f",
   "metadata": {},
   "outputs": [
    {
     "name": "stdout",
     "output_type": "stream",
     "text": [
      "<class 'pandas.core.frame.DataFrame'>\n"
     ]
    }
   ],
   "source": [
    "list_sub = ['Neighborhood','LotFrontage']\n",
    "df1 = housing[list_sub]\n",
    "df1 = df1.groupby([\"Neighborhood\"]).median().reset_index()\n",
    "\n",
    "\n",
    "print(type(df1))\n",
    "# df1 = df1.dropna()\n"
   ]
  },
  {
   "cell_type": "markdown",
   "id": "563312b3",
   "metadata": {},
   "source": [
    "#### LotFrontage median bar graph by neighborhood"
   ]
  },
  {
   "cell_type": "code",
   "execution_count": 165,
   "id": "f8888ff1",
   "metadata": {},
   "outputs": [
    {
     "data": {
      "text/plain": [
       "[Text(0, 0, 'Blmngtn'),\n",
       " Text(1, 0, 'Blueste'),\n",
       " Text(2, 0, 'BrDale'),\n",
       " Text(3, 0, 'BrkSide'),\n",
       " Text(4, 0, 'ClearCr'),\n",
       " Text(5, 0, 'CollgCr'),\n",
       " Text(6, 0, 'Crawfor'),\n",
       " Text(7, 0, 'Edwards'),\n",
       " Text(8, 0, 'Gilbert'),\n",
       " Text(9, 0, 'Greens'),\n",
       " Text(10, 0, 'IDOTRR'),\n",
       " Text(11, 0, 'MeadowV'),\n",
       " Text(12, 0, 'Mitchel'),\n",
       " Text(13, 0, 'NAmes'),\n",
       " Text(14, 0, 'NPkVill'),\n",
       " Text(15, 0, 'NWAmes'),\n",
       " Text(16, 0, 'NoRidge'),\n",
       " Text(17, 0, 'NridgHt'),\n",
       " Text(18, 0, 'OldTown'),\n",
       " Text(19, 0, 'SWISU'),\n",
       " Text(20, 0, 'Sawyer'),\n",
       " Text(21, 0, 'SawyerW'),\n",
       " Text(22, 0, 'Somerst'),\n",
       " Text(23, 0, 'StoneBr'),\n",
       " Text(24, 0, 'Timber'),\n",
       " Text(25, 0, 'Veenker')]"
      ]
     },
     "execution_count": 165,
     "metadata": {},
     "output_type": "execute_result"
    },
    {
     "data": {
      "image/png": "[encoded data removed]",
      "text/plain": [
       "<Figure size 1080x576 with 1 Axes>"
      ]
     },
     "metadata": {},
     "output_type": "display_data"
    }
   ],
   "source": [
    "sns.set_theme(style='darkgrid')\n",
    "sns.set(rc = {'figure.figsize':(15,8)})\n",
    "\n",
    "\n",
    "\n",
    "ax = sns.barplot(x=df1[\"Neighborhood\"], y='LotFrontage', data =df1,  color='skyblue', ci=None)\n",
    "\n",
    "ax.set_xticklabels(ax.get_xticklabels(),rotation = 30)"
   ]
  },
  {
   "cell_type": "code",
   "execution_count": 169,
   "id": "d54cbafe",
   "metadata": {},
   "outputs": [],
   "source": [
    "housing.MasVnrArea = housing.MasVnrArea.fillna(0)\n",
    "\n",
    "\n",
    "\n",
    "housing.BsmtFullBath = housing.BsmtFullBath.fillna(0)\n",
    "\n",
    "housing.BsmtHalfBath = housing.BsmtHalfBath.fillna(0)\n",
    "\n",
    "housing.BsmtFinSF1 = housing.BsmtFinSF1.fillna(0)\n",
    "\n",
    "housing.BsmtFinSF2 = housing.BsmtFinSF2.fillna(0)\n",
    "\n",
    "housing.BsmtUnfSF = housing.BsmtUnfSF.fillna(0)\n",
    "\n",
    "housing.TotalBsmtSF = housing.TotalBsmtSF.fillna(0)\n",
    "\n",
    "housing.GarageCars = housing.GarageCars.fillna(0)\n",
    "\n",
    "housing.GarageArea = housing.GarageArea.fillna(0)\n",
    "\n",
    "housing.loc[housing['GarageYrBlt'].isnull(),'GarageYrBlt'] = housing['YearBuilt']"
   ]
  },
  {
   "cell_type": "code",
   "execution_count": 176,
   "id": "23e7eda0",
   "metadata": {},
   "outputs": [
    {
     "data": {
      "text/plain": [
       "[]"
      ]
     },
     "execution_count": 176,
     "metadata": {},
     "output_type": "execute_result"
    }
   ],
   "source": [
    "miss_cols(housing)"
   ]
  },
  {
   "cell_type": "code",
   "execution_count": 62,
   "id": "7c9e67a7",
   "metadata": {},
   "outputs": [],
   "source": [
    "housing2 = housing.copy()"
   ]
  },
  {
   "cell_type": "code",
   "execution_count": 177,
   "id": "fa5c6cef",
   "metadata": {},
   "outputs": [
    {
     "data": {
      "text/html": [
       "<div>\n",
       "<style scoped>\n",
       "    .dataframe tbody tr th:only-of-type {\n",
       "        vertical-align: middle;\n",
       "    }\n",
       "\n",
       "    .dataframe tbody tr th {\n",
       "        vertical-align: top;\n",
       "    }\n",
       "\n",
       "    .dataframe thead th {\n",
       "        text-align: right;\n",
       "    }\n",
       "</style>\n",
       "<table border=\"1\" class=\"dataframe\">\n",
       "  <thead>\n",
       "    <tr style=\"text-align: right;\">\n",
       "      <th></th>\n",
       "      <th>GrLivArea</th>\n",
       "      <th>LotArea</th>\n",
       "      <th>MasVnrArea</th>\n",
       "      <th>BsmtUnfSF</th>\n",
       "      <th>TotalBsmtSF</th>\n",
       "      <th>1stFlrSF</th>\n",
       "      <th>2ndFlrSF</th>\n",
       "      <th>LowQualFinSF</th>\n",
       "      <th>GarageArea</th>\n",
       "      <th>WoodDeckSF</th>\n",
       "      <th>OpenPorchSF</th>\n",
       "      <th>PoolArea</th>\n",
       "      <th>bc_GrLivArea</th>\n",
       "    </tr>\n",
       "  </thead>\n",
       "  <tbody>\n",
       "    <tr>\n",
       "      <th>1232</th>\n",
       "      <td>1664</td>\n",
       "      <td>10140</td>\n",
       "      <td>0.0</td>\n",
       "      <td>638.0</td>\n",
       "      <td>832.0</td>\n",
       "      <td>832</td>\n",
       "      <td>832</td>\n",
       "      <td>0</td>\n",
       "      <td>528.0</td>\n",
       "      <td>0</td>\n",
       "      <td>28</td>\n",
       "      <td>0</td>\n",
       "      <td>9.303792</td>\n",
       "    </tr>\n",
       "    <tr>\n",
       "      <th>2381</th>\n",
       "      <td>1268</td>\n",
       "      <td>12144</td>\n",
       "      <td>0.0</td>\n",
       "      <td>457.0</td>\n",
       "      <td>832.0</td>\n",
       "      <td>1036</td>\n",
       "      <td>0</td>\n",
       "      <td>232</td>\n",
       "      <td>288.0</td>\n",
       "      <td>0</td>\n",
       "      <td>28</td>\n",
       "      <td>0</td>\n",
       "      <td>8.886250</td>\n",
       "    </tr>\n",
       "    <tr>\n",
       "      <th>810</th>\n",
       "      <td>1628</td>\n",
       "      <td>8400</td>\n",
       "      <td>32.0</td>\n",
       "      <td>100.0</td>\n",
       "      <td>384.0</td>\n",
       "      <td>958</td>\n",
       "      <td>670</td>\n",
       "      <td>0</td>\n",
       "      <td>390.0</td>\n",
       "      <td>48</td>\n",
       "      <td>72</td>\n",
       "      <td>0</td>\n",
       "      <td>9.269942</td>\n",
       "    </tr>\n",
       "    <tr>\n",
       "      <th>863</th>\n",
       "      <td>2270</td>\n",
       "      <td>11764</td>\n",
       "      <td>348.0</td>\n",
       "      <td>628.0</td>\n",
       "      <td>1152.0</td>\n",
       "      <td>1164</td>\n",
       "      <td>1106</td>\n",
       "      <td>0</td>\n",
       "      <td>671.0</td>\n",
       "      <td>132</td>\n",
       "      <td>57</td>\n",
       "      <td>0</td>\n",
       "      <td>9.789165</td>\n",
       "    </tr>\n",
       "    <tr>\n",
       "      <th>1346</th>\n",
       "      <td>1482</td>\n",
       "      <td>9000</td>\n",
       "      <td>0.0</td>\n",
       "      <td>26.0</td>\n",
       "      <td>650.0</td>\n",
       "      <td>832</td>\n",
       "      <td>650</td>\n",
       "      <td>0</td>\n",
       "      <td>324.0</td>\n",
       "      <td>0</td>\n",
       "      <td>0</td>\n",
       "      <td>0</td>\n",
       "      <td>9.125021</td>\n",
       "    </tr>\n",
       "  </tbody>\n",
       "</table>\n",
       "</div>"
      ],
      "text/plain": [
       "      GrLivArea  LotArea  MasVnrArea  BsmtUnfSF  TotalBsmtSF  1stFlrSF  \\\n",
       "1232       1664    10140         0.0      638.0        832.0       832   \n",
       "2381       1268    12144         0.0      457.0        832.0      1036   \n",
       "810        1628     8400        32.0      100.0        384.0       958   \n",
       "863        2270    11764       348.0      628.0       1152.0      1164   \n",
       "1346       1482     9000         0.0       26.0        650.0       832   \n",
       "\n",
       "      2ndFlrSF  LowQualFinSF  GarageArea  WoodDeckSF  OpenPorchSF  PoolArea  \\\n",
       "1232       832             0       528.0           0           28         0   \n",
       "2381         0           232       288.0           0           28         0   \n",
       "810        670             0       390.0          48           72         0   \n",
       "863       1106             0       671.0         132           57         0   \n",
       "1346       650             0       324.0           0            0         0   \n",
       "\n",
       "      bc_GrLivArea  \n",
       "1232      9.303792  \n",
       "2381      8.886250  \n",
       "810       9.269942  \n",
       "863       9.789165  \n",
       "1346      9.125021  "
      ]
     },
     "execution_count": 177,
     "metadata": {},
     "output_type": "execute_result"
    }
   ],
   "source": [
    " price        = housing['SalePrice']\n",
    "size_related = housing.filter(regex='SF$|Area$')#filter out columns that end with SF or that end with Area\n",
    "size_related.head()"
   ]
  },
  {
   "cell_type": "code",
   "execution_count": 64,
   "id": "1036a596",
   "metadata": {
    "scrolled": true
   },
   "outputs": [
    {
     "data": {
      "text/html": [
       "<div>\n",
       "<style scoped>\n",
       "    .dataframe tbody tr th:only-of-type {\n",
       "        vertical-align: middle;\n",
       "    }\n",
       "\n",
       "    .dataframe tbody tr th {\n",
       "        vertical-align: top;\n",
       "    }\n",
       "\n",
       "    .dataframe thead th {\n",
       "        text-align: right;\n",
       "    }\n",
       "</style>\n",
       "<table border=\"1\" class=\"dataframe\">\n",
       "  <thead>\n",
       "    <tr style=\"text-align: right;\">\n",
       "      <th></th>\n",
       "      <th>GrLivArea</th>\n",
       "      <th>LotArea</th>\n",
       "      <th>MasVnrArea</th>\n",
       "      <th>BsmtUnfSF</th>\n",
       "      <th>TotalBsmtSF</th>\n",
       "      <th>1stFlrSF</th>\n",
       "      <th>2ndFlrSF</th>\n",
       "      <th>LowQualFinSF</th>\n",
       "      <th>GarageArea</th>\n",
       "      <th>WoodDeckSF</th>\n",
       "      <th>OpenPorchSF</th>\n",
       "      <th>PoolArea</th>\n",
       "      <th>bc_GrLivArea</th>\n",
       "    </tr>\n",
       "  </thead>\n",
       "  <tbody>\n",
       "    <tr>\n",
       "      <th>count</th>\n",
       "      <td>1784.000000</td>\n",
       "      <td>1784.000000</td>\n",
       "      <td>1784.000000</td>\n",
       "      <td>1784.000000</td>\n",
       "      <td>1784.000000</td>\n",
       "      <td>1784.000000</td>\n",
       "      <td>1784.000000</td>\n",
       "      <td>1784.000000</td>\n",
       "      <td>1784.000000</td>\n",
       "      <td>1784.000000</td>\n",
       "      <td>1784.000000</td>\n",
       "      <td>1784.000000</td>\n",
       "      <td>1784.000000</td>\n",
       "    </tr>\n",
       "    <tr>\n",
       "      <th>mean</th>\n",
       "      <td>1488.602578</td>\n",
       "      <td>9804.981502</td>\n",
       "      <td>97.079596</td>\n",
       "      <td>535.695628</td>\n",
       "      <td>1034.843049</td>\n",
       "      <td>1139.994395</td>\n",
       "      <td>343.841928</td>\n",
       "      <td>4.766256</td>\n",
       "      <td>465.214686</td>\n",
       "      <td>96.244395</td>\n",
       "      <td>46.339126</td>\n",
       "      <td>1.500000</td>\n",
       "      <td>9.057352</td>\n",
       "    </tr>\n",
       "    <tr>\n",
       "      <th>std</th>\n",
       "      <td>487.818064</td>\n",
       "      <td>5009.083106</td>\n",
       "      <td>173.793191</td>\n",
       "      <td>423.857932</td>\n",
       "      <td>414.467452</td>\n",
       "      <td>372.301600</td>\n",
       "      <td>425.356854</td>\n",
       "      <td>48.213441</td>\n",
       "      <td>208.328657</td>\n",
       "      <td>126.945317</td>\n",
       "      <td>67.086378</td>\n",
       "      <td>28.065983</td>\n",
       "      <td>0.493791</td>\n",
       "    </tr>\n",
       "    <tr>\n",
       "      <th>min</th>\n",
       "      <td>334.000000</td>\n",
       "      <td>1300.000000</td>\n",
       "      <td>0.000000</td>\n",
       "      <td>0.000000</td>\n",
       "      <td>0.000000</td>\n",
       "      <td>334.000000</td>\n",
       "      <td>0.000000</td>\n",
       "      <td>0.000000</td>\n",
       "      <td>0.000000</td>\n",
       "      <td>0.000000</td>\n",
       "      <td>0.000000</td>\n",
       "      <td>0.000000</td>\n",
       "      <td>6.931030</td>\n",
       "    </tr>\n",
       "    <tr>\n",
       "      <th>25%</th>\n",
       "      <td>1111.750000</td>\n",
       "      <td>7432.000000</td>\n",
       "      <td>0.000000</td>\n",
       "      <td>212.000000</td>\n",
       "      <td>791.750000</td>\n",
       "      <td>876.750000</td>\n",
       "      <td>0.000000</td>\n",
       "      <td>0.000000</td>\n",
       "      <td>315.000000</td>\n",
       "      <td>0.000000</td>\n",
       "      <td>0.000000</td>\n",
       "      <td>0.000000</td>\n",
       "      <td>8.686607</td>\n",
       "    </tr>\n",
       "    <tr>\n",
       "      <th>50%</th>\n",
       "      <td>1436.000000</td>\n",
       "      <td>9378.500000</td>\n",
       "      <td>0.000000</td>\n",
       "      <td>442.000000</td>\n",
       "      <td>971.500000</td>\n",
       "      <td>1063.500000</td>\n",
       "      <td>0.000000</td>\n",
       "      <td>0.000000</td>\n",
       "      <td>474.000000</td>\n",
       "      <td>0.000000</td>\n",
       "      <td>25.000000</td>\n",
       "      <td>0.000000</td>\n",
       "      <td>9.076567</td>\n",
       "    </tr>\n",
       "    <tr>\n",
       "      <th>75%</th>\n",
       "      <td>1733.250000</td>\n",
       "      <td>11428.250000</td>\n",
       "      <td>156.500000</td>\n",
       "      <td>779.250000</td>\n",
       "      <td>1256.250000</td>\n",
       "      <td>1344.500000</td>\n",
       "      <td>703.000000</td>\n",
       "      <td>0.000000</td>\n",
       "      <td>576.000000</td>\n",
       "      <td>170.000000</td>\n",
       "      <td>70.000000</td>\n",
       "      <td>0.000000</td>\n",
       "      <td>9.367013</td>\n",
       "    </tr>\n",
       "    <tr>\n",
       "      <th>max</th>\n",
       "      <td>3820.000000</td>\n",
       "      <td>70761.000000</td>\n",
       "      <td>1600.000000</td>\n",
       "      <td>2153.000000</td>\n",
       "      <td>3206.000000</td>\n",
       "      <td>3820.000000</td>\n",
       "      <td>1836.000000</td>\n",
       "      <td>1064.000000</td>\n",
       "      <td>1488.000000</td>\n",
       "      <td>1424.000000</td>\n",
       "      <td>742.000000</td>\n",
       "      <td>648.000000</td>\n",
       "      <td>10.622817</td>\n",
       "    </tr>\n",
       "  </tbody>\n",
       "</table>\n",
       "</div>"
      ],
      "text/plain": [
       "         GrLivArea       LotArea   MasVnrArea    BsmtUnfSF  TotalBsmtSF  \\\n",
       "count  1784.000000   1784.000000  1784.000000  1784.000000  1784.000000   \n",
       "mean   1488.602578   9804.981502    97.079596   535.695628  1034.843049   \n",
       "std     487.818064   5009.083106   173.793191   423.857932   414.467452   \n",
       "min     334.000000   1300.000000     0.000000     0.000000     0.000000   \n",
       "25%    1111.750000   7432.000000     0.000000   212.000000   791.750000   \n",
       "50%    1436.000000   9378.500000     0.000000   442.000000   971.500000   \n",
       "75%    1733.250000  11428.250000   156.500000   779.250000  1256.250000   \n",
       "max    3820.000000  70761.000000  1600.000000  2153.000000  3206.000000   \n",
       "\n",
       "          1stFlrSF     2ndFlrSF  LowQualFinSF   GarageArea   WoodDeckSF  \\\n",
       "count  1784.000000  1784.000000   1784.000000  1784.000000  1784.000000   \n",
       "mean   1139.994395   343.841928      4.766256   465.214686    96.244395   \n",
       "std     372.301600   425.356854     48.213441   208.328657   126.945317   \n",
       "min     334.000000     0.000000      0.000000     0.000000     0.000000   \n",
       "25%     876.750000     0.000000      0.000000   315.000000     0.000000   \n",
       "50%    1063.500000     0.000000      0.000000   474.000000     0.000000   \n",
       "75%    1344.500000   703.000000      0.000000   576.000000   170.000000   \n",
       "max    3820.000000  1836.000000   1064.000000  1488.000000  1424.000000   \n",
       "\n",
       "       OpenPorchSF     PoolArea  bc_GrLivArea  \n",
       "count  1784.000000  1784.000000   1784.000000  \n",
       "mean     46.339126     1.500000      9.057352  \n",
       "std      67.086378    28.065983      0.493791  \n",
       "min       0.000000     0.000000      6.931030  \n",
       "25%       0.000000     0.000000      8.686607  \n",
       "50%      25.000000     0.000000      9.076567  \n",
       "75%      70.000000     0.000000      9.367013  \n",
       "max     742.000000   648.000000     10.622817  "
      ]
     },
     "execution_count": 64,
     "metadata": {},
     "output_type": "execute_result"
    }
   ],
   "source": [
    "size_related.describe()"
   ]
  },
  {
   "cell_type": "markdown",
   "id": "e4f292df",
   "metadata": {},
   "source": [
    "# GrLivArea"
   ]
  },
  {
   "cell_type": "code",
   "execution_count": 183,
   "id": "f5e549d7",
   "metadata": {},
   "outputs": [],
   "source": [
    "housing['log_GrLivArea'] =np.log(housing.GrLivArea)"
   ]
  },
  {
   "cell_type": "code",
   "execution_count": 178,
   "id": "eb2b9f6f",
   "metadata": {},
   "outputs": [],
   "source": [
    "# housing[['GrLivArea', 'SalePrice']].plot(kind='scatter', x='GrLivArea', y='SalePrice', logx=True, logy=True)"
   ]
  },
  {
   "cell_type": "code",
   "execution_count": 184,
   "id": "a0098cf2",
   "metadata": {},
   "outputs": [],
   "source": [
    "housing['log_price'] = np.log(housing.SalePrice)"
   ]
  },
  {
   "cell_type": "code",
   "execution_count": 185,
   "id": "fc11ff75",
   "metadata": {},
   "outputs": [
    {
     "data": {
      "text/plain": [
       "0.7311657099486206"
      ]
     },
     "execution_count": 185,
     "metadata": {},
     "output_type": "execute_result"
    }
   ],
   "source": [
    "log_price = np.log(housing.SalePrice)\n",
    "log_price.corr(housing['log_GrLivArea'])"
   ]
  },
  {
   "cell_type": "code",
   "execution_count": 186,
   "id": "de4b6648",
   "metadata": {},
   "outputs": [],
   "source": [
    "housing['bc_GrLivArea'],_ = stats.boxcox(housing.GrLivArea)\n"
   ]
  },
  {
   "cell_type": "code",
   "execution_count": 187,
   "id": "dd526fa2",
   "metadata": {},
   "outputs": [
    {
     "data": {
      "text/plain": [
       "0.7314670802822264"
      ]
     },
     "execution_count": 187,
     "metadata": {},
     "output_type": "execute_result"
    }
   ],
   "source": [
    "log_price.corr((housing['bc_GrLivArea']))"
   ]
  },
  {
   "cell_type": "code",
   "execution_count": 188,
   "id": "3db7c139",
   "metadata": {},
   "outputs": [],
   "source": [
    "# housing[['bc_GrLivArea', 'log_price']].plot(kind='scatter', x='bc_GrLivArea', y='log_price' ) #logx=True, logy=True"
   ]
  },
  {
   "cell_type": "code",
   "execution_count": 79,
   "id": "0fde7762",
   "metadata": {},
   "outputs": [
    {
     "data": {
      "image/png": "[encoded data removed]",
      "text/plain": [
       "<Figure size 1080x576 with 1 Axes>"
      ]
     },
     "metadata": {},
     "output_type": "display_data"
    }
   ],
   "source": [
    "sns.histplot(data=housing, x='log_GrLivArea', bins=20);"
   ]
  },
  {
   "cell_type": "code",
   "execution_count": 80,
   "id": "041e2827",
   "metadata": {},
   "outputs": [
    {
     "data": {
      "image/png": "[encoded data removed]",
      "text/plain": [
       "<Figure size 1080x576 with 1 Axes>"
      ]
     },
     "metadata": {},
     "output_type": "display_data"
    }
   ],
   "source": [
    "sns.histplot(data=housing, x='bc_GrLivArea', bins=20);"
   ]
  },
  {
   "cell_type": "markdown",
   "id": "9d5ea235",
   "metadata": {},
   "source": [
    "# 'LotArea'\n"
   ]
  },
  {
   "cell_type": "code",
   "execution_count": 189,
   "id": "a24c7f91",
   "metadata": {
    "scrolled": false
   },
   "outputs": [],
   "source": [
    "\n",
    "# housing[['LotArea', 'SalePrice']].plot(kind='scatter', x='LotArea', y='SalePrice',logx=True, logy=True)"
   ]
  },
  {
   "cell_type": "code",
   "execution_count": 198,
   "id": "5103f162",
   "metadata": {},
   "outputs": [],
   "source": [
    "# sns.histplot(data=housing, x='LotArea', bins=20);"
   ]
  },
  {
   "cell_type": "code",
   "execution_count": 190,
   "id": "e18f9a46",
   "metadata": {},
   "outputs": [],
   "source": [
    "housing['log_LotArea'] = np.log(housing['LotArea'])"
   ]
  },
  {
   "cell_type": "code",
   "execution_count": 85,
   "id": "d0e2130e",
   "metadata": {},
   "outputs": [
    {
     "data": {
      "text/plain": [
       "0.398168479490573"
      ]
     },
     "execution_count": 85,
     "metadata": {},
     "output_type": "execute_result"
    }
   ],
   "source": [
    "log_price.corr(housing['log_LotArea'])"
   ]
  },
  {
   "cell_type": "code",
   "execution_count": 197,
   "id": "2110ade6",
   "metadata": {
    "scrolled": true
   },
   "outputs": [],
   "source": [
    "# sns.histplot(data=housing, x='log_LotArea', bins=20);"
   ]
  },
  {
   "cell_type": "code",
   "execution_count": 88,
   "id": "f82ffcb6",
   "metadata": {},
   "outputs": [
    {
     "data": {
      "text/plain": [
       "0.398168479490573"
      ]
     },
     "execution_count": 88,
     "metadata": {},
     "output_type": "execute_result"
    }
   ],
   "source": [
    "log_price.corr(np.log(housing['LotArea'])) "
   ]
  },
  {
   "cell_type": "code",
   "execution_count": 193,
   "id": "87f8e962",
   "metadata": {},
   "outputs": [],
   "source": [
    "housing['bc_LotArea'],_ = stats.boxcox(housing['LotArea'])"
   ]
  },
  {
   "cell_type": "code",
   "execution_count": 194,
   "id": "3b30660f",
   "metadata": {},
   "outputs": [
    {
     "data": {
      "text/plain": [
       "0.40638169167489485"
      ]
     },
     "execution_count": 194,
     "metadata": {},
     "output_type": "execute_result"
    }
   ],
   "source": [
    "log_price.corr(housing['bc_LotArea']) "
   ]
  },
  {
   "cell_type": "code",
   "execution_count": 196,
   "id": "1dbd1412",
   "metadata": {},
   "outputs": [],
   "source": [
    "# sns.histplot(housing.bc_LotArea, bins=20);"
   ]
  },
  {
   "cell_type": "markdown",
   "id": "92d58427",
   "metadata": {},
   "source": [
    "# MasVnrArea\n"
   ]
  },
  {
   "cell_type": "code",
   "execution_count": 96,
   "id": "48e0119b",
   "metadata": {},
   "outputs": [
    {
     "name": "stderr",
     "output_type": "stream",
     "text": [
      "*c* argument looks like a single numeric RGB or RGBA sequence, which should be avoided as value-mapping will have precedence in case its length matches with *x* & *y*.  Please use the *color* keyword-argument or provide a 2D array with a single row if you intend to specify the same RGB or RGBA value for all points.\n"
     ]
    },
    {
     "data": {
      "text/plain": [
       "<AxesSubplot:xlabel='MasVnrArea', ylabel='SalePrice'>"
      ]
     },
     "execution_count": 96,
     "metadata": {},
     "output_type": "execute_result"
    },
    {
     "data": {
      "image/png": "[encoded data removed]",
      "text/plain": [
       "<Figure size 1080x576 with 1 Axes>"
      ]
     },
     "metadata": {},
     "output_type": "display_data"
    }
   ],
   "source": [
    "housing[['MasVnrArea', 'SalePrice']].plot(kind='scatter', x='MasVnrArea', y='SalePrice', logx=True, logy=True)"
   ]
  },
  {
   "cell_type": "code",
   "execution_count": 206,
   "id": "fb9cf250",
   "metadata": {},
   "outputs": [],
   "source": [
    "housing['yeo_MasVnrArea'],_ = stats.yeojohnson(housing['MasVnrArea'])"
   ]
  },
  {
   "cell_type": "code",
   "execution_count": 205,
   "id": "392fe976",
   "metadata": {},
   "outputs": [],
   "source": [
    "housing['log_MasVnrArea'] = np.log(housing['MasVnrArea'] + 1)"
   ]
  },
  {
   "cell_type": "code",
   "execution_count": 207,
   "id": "e45588ec",
   "metadata": {},
   "outputs": [
    {
     "data": {
      "text/plain": [
       "0.4022418776868633"
      ]
     },
     "execution_count": 207,
     "metadata": {},
     "output_type": "execute_result"
    }
   ],
   "source": [
    "log_price.corr(housing['yeo_MasVnrArea']) "
   ]
  },
  {
   "cell_type": "code",
   "execution_count": 208,
   "id": "2f487803",
   "metadata": {},
   "outputs": [
    {
     "data": {
      "text/plain": [
       "0.41764489461512283"
      ]
     },
     "execution_count": 208,
     "metadata": {},
     "output_type": "execute_result"
    }
   ],
   "source": [
    "log_price.corr(np.log(housing['MasVnrArea'] + 1)) "
   ]
  },
  {
   "cell_type": "code",
   "execution_count": 204,
   "id": "36f3b22e",
   "metadata": {},
   "outputs": [],
   "source": [
    "# sns.histplot(data=housing, x='log_MasVnrArea', bins=20);"
   ]
  },
  {
   "cell_type": "markdown",
   "id": "19478c7c",
   "metadata": {},
   "source": [
    "# BsmtUnfSF  "
   ]
  },
  {
   "cell_type": "code",
   "execution_count": 209,
   "id": "ef36c852",
   "metadata": {},
   "outputs": [
    {
     "name": "stderr",
     "output_type": "stream",
     "text": [
      "*c* argument looks like a single numeric RGB or RGBA sequence, which should be avoided as value-mapping will have precedence in case its length matches with *x* & *y*.  Please use the *color* keyword-argument or provide a 2D array with a single row if you intend to specify the same RGB or RGBA value for all points.\n"
     ]
    },
    {
     "data": {
      "text/plain": [
       "<AxesSubplot:xlabel='BsmtUnfSF', ylabel='SalePrice'>"
      ]
     },
     "execution_count": 209,
     "metadata": {},
     "output_type": "execute_result"
    },
    {
     "data": {
      "image/png": "[encoded data removed]",
      "text/plain": [
       "<Figure size 1080x576 with 1 Axes>"
      ]
     },
     "metadata": {},
     "output_type": "display_data"
    }
   ],
   "source": [
    "\n",
    "housing[['BsmtUnfSF', 'SalePrice']].plot(kind='scatter', x='BsmtUnfSF', y='SalePrice', logx=True, logy=True)"
   ]
  },
  {
   "cell_type": "code",
   "execution_count": 106,
   "id": "12f95dba",
   "metadata": {},
   "outputs": [
    {
     "data": {
      "text/plain": [
       "0.1780290201769859"
      ]
     },
     "execution_count": 106,
     "metadata": {},
     "output_type": "execute_result"
    }
   ],
   "source": [
    "log_price.corr(np.log(housing['BsmtUnfSF']+1)) #correlation"
   ]
  },
  {
   "cell_type": "code",
   "execution_count": 214,
   "id": "797b6b9e",
   "metadata": {},
   "outputs": [
    {
     "data": {
      "text/plain": [
       "0.1902297317063011"
      ]
     },
     "execution_count": 214,
     "metadata": {},
     "output_type": "execute_result"
    }
   ],
   "source": [
    "log_price.corr(housing['BsmtUnfSF']) #correlation"
   ]
  },
  {
   "cell_type": "code",
   "execution_count": 211,
   "id": "e9b83baf",
   "metadata": {},
   "outputs": [],
   "source": [
    "housing['yeo_BsmtUnfSF'],_= stats.yeojohnson(housing['BsmtUnfSF'])"
   ]
  },
  {
   "cell_type": "code",
   "execution_count": 212,
   "id": "82e0b77b",
   "metadata": {},
   "outputs": [
    {
     "data": {
      "text/plain": [
       "0.17688182455361703"
      ]
     },
     "execution_count": 212,
     "metadata": {},
     "output_type": "execute_result"
    }
   ],
   "source": [
    "log_price.corr(np.log(housing['yeo_BsmtUnfSF']+1)) #correlation"
   ]
  },
  {
   "cell_type": "code",
   "execution_count": 210,
   "id": "324b4c8f",
   "metadata": {},
   "outputs": [],
   "source": [
    "# housing[['BsmtUnfSF', 'SalePrice']].plot(kind='scatter', x='BsmtUnfSF', y='SalePrice', logx=True, logy=True)"
   ]
  },
  {
   "cell_type": "markdown",
   "id": "94e9934d",
   "metadata": {},
   "source": [
    "# TotalBsmtSF "
   ]
  },
  {
   "cell_type": "code",
   "execution_count": 221,
   "id": "90831494",
   "metadata": {},
   "outputs": [],
   "source": [
    "# TotalBsmtSF \n",
    "# housing[['TotalBsmtSF', 'SalePrice']].plot(kind='scatter', x='TotalBsmtSF', y='SalePrice', logx=True, logy=True)"
   ]
  },
  {
   "cell_type": "code",
   "execution_count": 217,
   "id": "e5923e9f",
   "metadata": {},
   "outputs": [],
   "source": [
    "housing['yeo_TotalBsmtSF'],_ = stats.yeojohnson(housing['TotalBsmtSF'])"
   ]
  },
  {
   "cell_type": "code",
   "execution_count": 216,
   "id": "dbaa6853",
   "metadata": {},
   "outputs": [
    {
     "data": {
      "text/plain": [
       "0.3767731935750898"
      ]
     },
     "execution_count": 216,
     "metadata": {},
     "output_type": "execute_result"
    }
   ],
   "source": [
    "log_TotalBsmtSF = np.log(housing['TotalBsmtSF'] + 1)\n",
    "log_price = housing['log_price']\n",
    "\n",
    "log_price.corr(log_TotalBsmtSF) #correlation"
   ]
  },
  {
   "cell_type": "code",
   "execution_count": 218,
   "id": "ab76d17a",
   "metadata": {},
   "outputs": [
    {
     "data": {
      "text/plain": [
       "0.6415234734620474"
      ]
     },
     "execution_count": 218,
     "metadata": {},
     "output_type": "execute_result"
    }
   ],
   "source": [
    "log_price.corr(housing['yeo_TotalBsmtSF']) #correlation"
   ]
  },
  {
   "cell_type": "code",
   "execution_count": 219,
   "id": "e1fd1573",
   "metadata": {},
   "outputs": [],
   "source": [
    "# sns.histplot(data=housing, x='TotalBsmtSF', bins=20);"
   ]
  },
  {
   "cell_type": "code",
   "execution_count": 220,
   "id": "50d8de3c",
   "metadata": {},
   "outputs": [],
   "source": [
    "# sns.histplot(data=housing, x='yeo_TotalBsmtSF', bins=20);"
   ]
  },
  {
   "cell_type": "markdown",
   "id": "d7fed6d3",
   "metadata": {},
   "source": [
    "# 1stFlrSF"
   ]
  },
  {
   "cell_type": "code",
   "execution_count": 222,
   "id": "da8c5324",
   "metadata": {},
   "outputs": [],
   "source": [
    "# 1stFlrSF\n",
    "\n",
    "# housing[['1stFlrSF', 'SalePrice']].plot(kind='scatter', x='1stFlrSF', y='SalePrice', logx=True, logy=True)"
   ]
  },
  {
   "cell_type": "code",
   "execution_count": 116,
   "id": "bb9f170f",
   "metadata": {},
   "outputs": [],
   "source": [
    "first_FlrSF = housing[['1stFlrSF']]\n",
    "log_first_FlrSF = np.log(housing['1stFlrSF'])"
   ]
  },
  {
   "cell_type": "code",
   "execution_count": 117,
   "id": "70b8bee9",
   "metadata": {},
   "outputs": [
    {
     "data": {
      "text/plain": [
       "0.6383392553634412"
      ]
     },
     "execution_count": 117,
     "metadata": {},
     "output_type": "execute_result"
    }
   ],
   "source": [
    "# log_price.corr(log_TotalBsmtSF) #correlation\n",
    "log_price.corr(log_first_FlrSF)\n",
    "\n"
   ]
  },
  {
   "cell_type": "code",
   "execution_count": 118,
   "id": "f117b072",
   "metadata": {},
   "outputs": [],
   "source": [
    "housing['log_first_FlrSF'] = np.log(housing['1stFlrSF'])"
   ]
  },
  {
   "cell_type": "code",
   "execution_count": 223,
   "id": "c60d9ef5",
   "metadata": {},
   "outputs": [],
   "source": [
    "housing['bc_first_FlrSF'],_ = stats.boxcox(housing['1stFlrSF'])"
   ]
  },
  {
   "cell_type": "code",
   "execution_count": 224,
   "id": "9abbb702",
   "metadata": {},
   "outputs": [
    {
     "data": {
      "text/plain": [
       "0.6374746531087248"
      ]
     },
     "execution_count": 224,
     "metadata": {},
     "output_type": "execute_result"
    }
   ],
   "source": [
    "log_price.corr(housing['bc_first_FlrSF'])"
   ]
  },
  {
   "cell_type": "markdown",
   "id": "e3ee4399",
   "metadata": {},
   "source": [
    "#  2ndFlrSF"
   ]
  },
  {
   "cell_type": "code",
   "execution_count": 119,
   "id": "1539dada",
   "metadata": {},
   "outputs": [
    {
     "name": "stderr",
     "output_type": "stream",
     "text": [
      "*c* argument looks like a single numeric RGB or RGBA sequence, which should be avoided as value-mapping will have precedence in case its length matches with *x* & *y*.  Please use the *color* keyword-argument or provide a 2D array with a single row if you intend to specify the same RGB or RGBA value for all points.\n"
     ]
    },
    {
     "data": {
      "text/plain": [
       "<AxesSubplot:xlabel='2ndFlrSF', ylabel='SalePrice'>"
      ]
     },
     "execution_count": 119,
     "metadata": {},
     "output_type": "execute_result"
    },
    {
     "data": {
      "image/png": "[encoded data removed]",
      "text/plain": [
       "<Figure size 1080x576 with 1 Axes>"
      ]
     },
     "metadata": {},
     "output_type": "display_data"
    }
   ],
   "source": [
    "# 2ndFlrSF\n",
    "\n",
    "housing[['2ndFlrSF', 'SalePrice']].plot(kind='scatter', x='2ndFlrSF', y='SalePrice', logx=True, logy=True)"
   ]
  },
  {
   "cell_type": "code",
   "execution_count": 120,
   "id": "6a42f021",
   "metadata": {},
   "outputs": [
    {
     "data": {
      "text/plain": [
       "0.1192714622033411"
      ]
     },
     "execution_count": 120,
     "metadata": {},
     "output_type": "execute_result"
    }
   ],
   "source": [
    "log_price.corr(np.log(housing['2ndFlrSF'] + 1))"
   ]
  },
  {
   "cell_type": "code",
   "execution_count": 225,
   "id": "36ec5280",
   "metadata": {},
   "outputs": [
    {
     "data": {
      "text/plain": [
       "0.2693833571504791"
      ]
     },
     "execution_count": 225,
     "metadata": {},
     "output_type": "execute_result"
    }
   ],
   "source": [
    "log_price.corr(housing['2ndFlrSF'])"
   ]
  },
  {
   "cell_type": "code",
   "execution_count": 121,
   "id": "d62e5f9f",
   "metadata": {},
   "outputs": [],
   "source": [
    "housing['log_2ndFlrSF'] =np.log(housing['2ndFlrSF']+1)"
   ]
  },
  {
   "cell_type": "code",
   "execution_count": 122,
   "id": "ab99e522",
   "metadata": {},
   "outputs": [],
   "source": [
    "housing['yeo_2ndFlrSF'],_ = stats.yeojohnson(housing['2ndFlrSF'])"
   ]
  },
  {
   "cell_type": "code",
   "execution_count": 123,
   "id": "f54bdec3",
   "metadata": {},
   "outputs": [
    {
     "data": {
      "text/plain": [
       "0.10935394035398902"
      ]
     },
     "execution_count": 123,
     "metadata": {},
     "output_type": "execute_result"
    }
   ],
   "source": [
    "log_price.corr(housing['yeo_2ndFlrSF'])  #very low correlation"
   ]
  },
  {
   "cell_type": "markdown",
   "id": "5095d35d",
   "metadata": {},
   "source": [
    "# LowQualFinSF: Low quality finished square feet (all floors)"
   ]
  },
  {
   "cell_type": "code",
   "execution_count": 124,
   "id": "a5df7e71",
   "metadata": {},
   "outputs": [
    {
     "name": "stderr",
     "output_type": "stream",
     "text": [
      "*c* argument looks like a single numeric RGB or RGBA sequence, which should be avoided as value-mapping will have precedence in case its length matches with *x* & *y*.  Please use the *color* keyword-argument or provide a 2D array with a single row if you intend to specify the same RGB or RGBA value for all points.\n"
     ]
    },
    {
     "data": {
      "text/plain": [
       "<AxesSubplot:xlabel='LowQualFinSF', ylabel='SalePrice'>"
      ]
     },
     "execution_count": 124,
     "metadata": {},
     "output_type": "execute_result"
    },
    {
     "data": {
      "image/png": "[encoded data removed]",
      "text/plain": [
       "<Figure size 1080x576 with 1 Axes>"
      ]
     },
     "metadata": {},
     "output_type": "display_data"
    }
   ],
   "source": [
    "#LowQualFinSF: Low quality finished square feet (all floors)\n",
    "housing[['LowQualFinSF', 'SalePrice']].plot(kind='scatter', x='LowQualFinSF', y='SalePrice', logx=True, logy=True)\n"
   ]
  },
  {
   "cell_type": "markdown",
   "id": "e78e43ad",
   "metadata": {},
   "source": [
    "# GarageArea "
   ]
  },
  {
   "cell_type": "code",
   "execution_count": 125,
   "id": "5d2705c0",
   "metadata": {},
   "outputs": [
    {
     "name": "stderr",
     "output_type": "stream",
     "text": [
      "*c* argument looks like a single numeric RGB or RGBA sequence, which should be avoided as value-mapping will have precedence in case its length matches with *x* & *y*.  Please use the *color* keyword-argument or provide a 2D array with a single row if you intend to specify the same RGB or RGBA value for all points.\n"
     ]
    },
    {
     "data": {
      "text/plain": [
       "<AxesSubplot:xlabel='GarageArea', ylabel='SalePrice'>"
      ]
     },
     "execution_count": 125,
     "metadata": {},
     "output_type": "execute_result"
    },
    {
     "data": {
      "image/png": "[encoded data removed]",
      "text/plain": [
       "<Figure size 1080x576 with 1 Axes>"
      ]
     },
     "metadata": {},
     "output_type": "display_data"
    }
   ],
   "source": [
    "# GarageArea \n",
    "\n",
    "housing[['GarageArea', 'SalePrice']].plot(kind='scatter', x='GarageArea', y='SalePrice', logx=True, logy=True)"
   ]
  },
  {
   "cell_type": "code",
   "execution_count": 226,
   "id": "bd5be456",
   "metadata": {},
   "outputs": [
    {
     "data": {
      "text/plain": [
       "0.42854785247843596"
      ]
     },
     "execution_count": 226,
     "metadata": {},
     "output_type": "execute_result"
    }
   ],
   "source": [
    "log_price.corr(np.log(housing['GarageArea'] + 1))"
   ]
  },
  {
   "cell_type": "code",
   "execution_count": 227,
   "id": "f9652143",
   "metadata": {},
   "outputs": [],
   "source": [
    "housing['yeo_GarageArea'],_  = stats.yeojohnson(housing['GarageArea'] )"
   ]
  },
  {
   "cell_type": "code",
   "execution_count": 228,
   "id": "0e2c4f86",
   "metadata": {},
   "outputs": [
    {
     "data": {
      "text/plain": [
       "0.6518804606863746"
      ]
     },
     "execution_count": 228,
     "metadata": {},
     "output_type": "execute_result"
    }
   ],
   "source": [
    "log_price.corr(housing['yeo_GarageArea'])"
   ]
  },
  {
   "cell_type": "markdown",
   "id": "60a89834",
   "metadata": {},
   "source": [
    "# Correlation WoodDeckSF is 0.347 still could be taken into consideration for the model.  It may be important for the more expnsive homes."
   ]
  },
  {
   "cell_type": "code",
   "execution_count": 129,
   "id": "56e15cb6",
   "metadata": {},
   "outputs": [
    {
     "name": "stderr",
     "output_type": "stream",
     "text": [
      "*c* argument looks like a single numeric RGB or RGBA sequence, which should be avoided as value-mapping will have precedence in case its length matches with *x* & *y*.  Please use the *color* keyword-argument or provide a 2D array with a single row if you intend to specify the same RGB or RGBA value for all points.\n"
     ]
    },
    {
     "data": {
      "text/plain": [
       "<AxesSubplot:xlabel='WoodDeckSF', ylabel='SalePrice'>"
      ]
     },
     "execution_count": 129,
     "metadata": {},
     "output_type": "execute_result"
    },
    {
     "data": {
      "image/png": "[encoded data removed]",
      "text/plain": [
       "<Figure size 1080x576 with 1 Axes>"
      ]
     },
     "metadata": {},
     "output_type": "display_data"
    }
   ],
   "source": [
    "# WoodDeckSF \n",
    "housing[['WoodDeckSF', 'SalePrice']].plot(kind='scatter', x='WoodDeckSF', y='SalePrice', logx=True, logy=True)"
   ]
  },
  {
   "cell_type": "code",
   "execution_count": 130,
   "id": "2f994c5a",
   "metadata": {},
   "outputs": [
    {
     "data": {
      "text/plain": [
       "0.33374218051691723"
      ]
     },
     "execution_count": 130,
     "metadata": {},
     "output_type": "execute_result"
    }
   ],
   "source": [
    "log_price.corr(np.log(housing['WoodDeckSF'] + 1))\n"
   ]
  },
  {
   "cell_type": "code",
   "execution_count": 229,
   "id": "cae62912",
   "metadata": {},
   "outputs": [
    {
     "data": {
      "text/plain": [
       "0.32520086718540625"
      ]
     },
     "execution_count": 229,
     "metadata": {},
     "output_type": "execute_result"
    }
   ],
   "source": [
    "log_price.corr(housing['WoodDeckSF'])"
   ]
  },
  {
   "cell_type": "code",
   "execution_count": 131,
   "id": "73cddc5f",
   "metadata": {},
   "outputs": [],
   "source": [
    "housing['log_WoodDeckSF'] = np.log(housing['WoodDeckSF'] + 1)"
   ]
  },
  {
   "cell_type": "code",
   "execution_count": 132,
   "id": "2a90ff83",
   "metadata": {},
   "outputs": [],
   "source": [
    "housing['yeo_WoodDeckSF'],_ = stats.yeojohnson(housing['WoodDeckSF'])"
   ]
  },
  {
   "cell_type": "code",
   "execution_count": 133,
   "id": "65b3a262",
   "metadata": {},
   "outputs": [
    {
     "data": {
      "text/plain": [
       "0.3315252703362067"
      ]
     },
     "execution_count": 133,
     "metadata": {},
     "output_type": "execute_result"
    }
   ],
   "source": [
    "log_price.corr(housing['yeo_WoodDeckSF'])"
   ]
  },
  {
   "cell_type": "code",
   "execution_count": 134,
   "id": "bcbe13bf",
   "metadata": {},
   "outputs": [],
   "source": [
    "housing['log_WoodDeckSF'] = np.log(housing['WoodDeckSF'] + 1)"
   ]
  },
  {
   "cell_type": "markdown",
   "id": "d6b3d972",
   "metadata": {},
   "source": [
    "#  OpenPorchSF "
   ]
  },
  {
   "cell_type": "code",
   "execution_count": 135,
   "id": "b4930b9b",
   "metadata": {},
   "outputs": [
    {
     "name": "stderr",
     "output_type": "stream",
     "text": [
      "*c* argument looks like a single numeric RGB or RGBA sequence, which should be avoided as value-mapping will have precedence in case its length matches with *x* & *y*.  Please use the *color* keyword-argument or provide a 2D array with a single row if you intend to specify the same RGB or RGBA value for all points.\n"
     ]
    },
    {
     "data": {
      "text/plain": [
       "<AxesSubplot:xlabel='OpenPorchSF', ylabel='SalePrice'>"
      ]
     },
     "execution_count": 135,
     "metadata": {},
     "output_type": "execute_result"
    },
    {
     "data": {
      "image/png": "[encoded data removed]",
      "text/plain": [
       "<Figure size 1080x576 with 1 Axes>"
      ]
     },
     "metadata": {},
     "output_type": "display_data"
    }
   ],
   "source": [
    "# OpenPorchSF \n",
    "housing[['OpenPorchSF', 'SalePrice']].plot(kind='scatter', x='OpenPorchSF', y='SalePrice', logx=True, logy=True)"
   ]
  },
  {
   "cell_type": "code",
   "execution_count": 230,
   "id": "3ebdd91c",
   "metadata": {},
   "outputs": [
    {
     "data": {
      "text/plain": [
       "0.4660993488224769"
      ]
     },
     "execution_count": 230,
     "metadata": {},
     "output_type": "execute_result"
    }
   ],
   "source": [
    "log_price.corr(np.log(housing['OpenPorchSF'] + 1))"
   ]
  },
  {
   "cell_type": "code",
   "execution_count": 233,
   "id": "86a5238f",
   "metadata": {},
   "outputs": [],
   "source": [
    "housing['log_OpenPorchSF'] = np.log(housing['OpenPorchSF'] + 1)"
   ]
  },
  {
   "cell_type": "code",
   "execution_count": 232,
   "id": "2d552e87",
   "metadata": {},
   "outputs": [],
   "source": [
    "housing['yeo_OpenPorchSF'],_ = stats.yeojohnson(housing['OpenPorchSF'])"
   ]
  },
  {
   "cell_type": "code",
   "execution_count": 234,
   "id": "c0055278",
   "metadata": {},
   "outputs": [
    {
     "data": {
      "text/plain": [
       "0.46592370339042405"
      ]
     },
     "execution_count": 234,
     "metadata": {},
     "output_type": "execute_result"
    }
   ],
   "source": [
    "log_price.corr(housing['yeo_OpenPorchSF'])"
   ]
  },
  {
   "cell_type": "markdown",
   "id": "502d423a",
   "metadata": {},
   "source": [
    "# Pool"
   ]
  },
  {
   "cell_type": "code",
   "execution_count": 140,
   "id": "d156942b",
   "metadata": {},
   "outputs": [],
   "source": [
    "housing['has_pool'] = housing['PoolArea'] != 0"
   ]
  },
  {
   "cell_type": "markdown",
   "id": "ff2fcae2",
   "metadata": {},
   "source": [
    "# 'LotFrontage' "
   ]
  },
  {
   "cell_type": "code",
   "execution_count": 235,
   "id": "bd57d42c",
   "metadata": {},
   "outputs": [
    {
     "name": "stderr",
     "output_type": "stream",
     "text": [
      "*c* argument looks like a single numeric RGB or RGBA sequence, which should be avoided as value-mapping will have precedence in case its length matches with *x* & *y*.  Please use the *color* keyword-argument or provide a 2D array with a single row if you intend to specify the same RGB or RGBA value for all points.\n"
     ]
    },
    {
     "data": {
      "text/plain": [
       "<AxesSubplot:xlabel='LotFrontage', ylabel='SalePrice'>"
      ]
     },
     "execution_count": 235,
     "metadata": {},
     "output_type": "execute_result"
    },
    {
     "data": {
      "image/png": "[encoded data removed]",
      "text/plain": [
       "<Figure size 1080x576 with 1 Axes>"
      ]
     },
     "metadata": {},
     "output_type": "display_data"
    }
   ],
   "source": [
    "\n",
    "\n",
    "\n",
    "housing[['LotFrontage', 'SalePrice']].plot(kind='scatter', x='LotFrontage', y='SalePrice', logx=True, logy=True)"
   ]
  },
  {
   "cell_type": "code",
   "execution_count": 236,
   "id": "233ce2f3",
   "metadata": {},
   "outputs": [],
   "source": [
    "housing['yeo_LotFrontage'],_ = stats.yeojohnson(housing['LotFrontage'])"
   ]
  },
  {
   "cell_type": "code",
   "execution_count": 237,
   "id": "e2382cbf",
   "metadata": {},
   "outputs": [
    {
     "data": {
      "text/plain": [
       "0.3821738004287051"
      ]
     },
     "execution_count": 237,
     "metadata": {},
     "output_type": "execute_result"
    }
   ],
   "source": [
    "log_price.corr(housing['yeo_LotFrontage'])"
   ]
  },
  {
   "cell_type": "code",
   "execution_count": 238,
   "id": "03a789b4",
   "metadata": {},
   "outputs": [
    {
     "data": {
      "text/plain": [
       "0.36265343329195593"
      ]
     },
     "execution_count": 238,
     "metadata": {},
     "output_type": "execute_result"
    }
   ],
   "source": [
    "log_price.corr(np.log(housing['LotFrontage'] + 1))"
   ]
  },
  {
   "cell_type": "code",
   "execution_count": 145,
   "id": "7e620e7b",
   "metadata": {},
   "outputs": [],
   "source": [
    "housing['log_LotFrontage']=np.log(housing['LotFrontage'] + 1)"
   ]
  },
  {
   "cell_type": "code",
   "execution_count": 146,
   "id": "0ae14b69",
   "metadata": {},
   "outputs": [],
   "source": [
    "housing['yeo_LotFrontage'],_ = stats.yeojohnson(housing['LotFrontage'])"
   ]
  },
  {
   "cell_type": "code",
   "execution_count": 147,
   "id": "56e73994",
   "metadata": {},
   "outputs": [
    {
     "data": {
      "text/plain": [
       "0.3821738004287051"
      ]
     },
     "execution_count": 147,
     "metadata": {},
     "output_type": "execute_result"
    }
   ],
   "source": [
    "log_price.corr(housing['yeo_LotFrontage'] )"
   ]
  },
  {
   "cell_type": "code",
   "execution_count": 148,
   "id": "9a07f75a",
   "metadata": {},
   "outputs": [],
   "source": [
    "# seaborn scatter with reg line"
   ]
  },
  {
   "cell_type": "code",
   "execution_count": 149,
   "id": "0b290961",
   "metadata": {},
   "outputs": [],
   "source": [
    "# sns.lmplot(data=housing, x='log_LotFrontage', y='log_price', fit_reg= True)"
   ]
  },
  {
   "cell_type": "code",
   "execution_count": 150,
   "id": "53ab6958",
   "metadata": {},
   "outputs": [],
   "source": [
    "# size_related.columns\n",
    "# df_num.columns\n",
    "\n",
    "# other_numerics = list(filter(lambda x: x not in size_related.columns, df_num.columns ))"
   ]
  },
  {
   "cell_type": "code",
   "execution_count": 251,
   "id": "47da662d",
   "metadata": {},
   "outputs": [],
   "source": [
    "# other_numerics = housing[other_numerics]"
   ]
  },
  {
   "cell_type": "code",
   "execution_count": null,
   "id": "d466baa5",
   "metadata": {},
   "outputs": [],
   "source": [
    "# housing.info()"
   ]
  },
  {
   "cell_type": "markdown",
   "id": "63deda99",
   "metadata": {},
   "source": [
    "x=\"OverallQual\", y=\"SalePrice\""
   ]
  },
  {
   "cell_type": "markdown",
   "id": "95391dcb",
   "metadata": {},
   "source": [
    "# OverallQual"
   ]
  },
  {
   "cell_type": "code",
   "execution_count": null,
   "id": "69c5787e",
   "metadata": {},
   "outputs": [],
   "source": [
    "\n",
    "sns.set_theme(style='darkgrid')\n",
    "\n",
    "# tips = sns.load_dataset(\"tips\")\n",
    "ax = sns.barplot(x=\"OverallQual\", y=\"SalePrice\", data=housing, color='skyblue', ci=None)"
   ]
  },
  {
   "cell_type": "markdown",
   "id": "b426f1b8",
   "metadata": {},
   "source": [
    "x=\"OverallQual\", y=\"log_price\""
   ]
  },
  {
   "cell_type": "code",
   "execution_count": null,
   "id": "336a7cf9",
   "metadata": {},
   "outputs": [],
   "source": [
    "sns.set_theme(style='darkgrid')\n",
    "\n",
    "# tips = sns.load_dataset(\"tips\")\n",
    "ax = sns.barplot(x=\"OverallQual\", y=\"log_price\", data=other_numerics, color='skyblue', ci=None)"
   ]
  },
  {
   "cell_type": "markdown",
   "id": "35f3b7fc",
   "metadata": {},
   "source": [
    "x=\"OverallCond\", y=\"SalePrice\""
   ]
  },
  {
   "cell_type": "markdown",
   "id": "05f0105e",
   "metadata": {},
   "source": [
    "# OverallCond"
   ]
  },
  {
   "cell_type": "code",
   "execution_count": null,
   "id": "3300f2fe",
   "metadata": {},
   "outputs": [],
   "source": [
    "ax = sns.barplot(x=\"OverallCond\", y=\"SalePrice\", data=other_numerics, color='skyblue' ,ci=None)"
   ]
  },
  {
   "cell_type": "code",
   "execution_count": null,
   "id": "bc2fbb4b",
   "metadata": {},
   "outputs": [],
   "source": [
    "sns.set_theme(style='darkgrid')\n",
    "\n",
    "# tips = sns.load_dataset(\"tips\")\n",
    "ax = sns.barplot(x=\"OverallCond\", y=\"log_price\", data=other_numerics, color='skyblue' ,ci=None)"
   ]
  },
  {
   "cell_type": "markdown",
   "id": "46bdad5e",
   "metadata": {},
   "source": [
    "# YearBuilt  correation 0.5866"
   ]
  },
  {
   "cell_type": "code",
   "execution_count": null,
   "id": "3b406c43",
   "metadata": {},
   "outputs": [],
   "source": [
    "housing[['YearBuilt', 'SalePrice']].plot(kind='scatter', x='YearBuilt', y='SalePrice',  logy=True) #logx=True,"
   ]
  },
  {
   "cell_type": "code",
   "execution_count": null,
   "id": "02008f64",
   "metadata": {},
   "outputs": [],
   "source": [
    "log_price.corr(housing['YearBuilt'])"
   ]
  },
  {
   "cell_type": "code",
   "execution_count": null,
   "id": "777f0add",
   "metadata": {},
   "outputs": [],
   "source": [
    "housing['YearBuilt'].corr(housing['YearRemodAdd'])"
   ]
  },
  {
   "cell_type": "markdown",
   "id": "08ffe4dc",
   "metadata": {},
   "source": [
    "# YearRemodAdd  correlation 0.5656"
   ]
  },
  {
   "cell_type": "code",
   "execution_count": null,
   "id": "29085a01",
   "metadata": {},
   "outputs": [],
   "source": [
    "# YearRemodAdd\n",
    "\n",
    "housing[['YearRemodAdd', 'SalePrice']].plot(kind='scatter', x='YearRemodAdd', y='SalePrice',  logy=True) #logx=True,"
   ]
  },
  {
   "cell_type": "code",
   "execution_count": null,
   "id": "8337bc81",
   "metadata": {},
   "outputs": [],
   "source": [
    "# sns.heatmap(other_numerics.corr(), cmap=\"Blues\", center=0); #cmap=\"Blues\", cmap='RdBu',\n",
    "# log_price.corr(housing['YearRemodAdd'])"
   ]
  },
  {
   "cell_type": "markdown",
   "id": "adbc3a6e",
   "metadata": {},
   "source": [
    "# BsmtFinSF1: Type 1 finished square feet"
   ]
  },
  {
   "cell_type": "code",
   "execution_count": null,
   "id": "edb318e5",
   "metadata": {},
   "outputs": [],
   "source": [
    "# BsmtFinSF1\n",
    "\n",
    "# sns.set_theme(style='darkgrid')\n",
    "\n",
    "# ax = sns.barplot(x=\"BsmtFinSF1\", y=\"SalePrice\", data=other_numerics, color='skyblue' ,ci=None)\n",
    "\n",
    "housing[['BsmtFinSF1', 'SalePrice']].plot(kind='scatter', x='BsmtFinSF1', y='SalePrice', logx=True, logy=True) #,"
   ]
  },
  {
   "cell_type": "code",
   "execution_count": 239,
   "id": "a43401b6",
   "metadata": {},
   "outputs": [],
   "source": [
    "\n",
    "housing['yeo_BsmtFinSF1'],_  = stats.yeojohnson(housing['BsmtFinSF1'])"
   ]
  },
  {
   "cell_type": "code",
   "execution_count": 240,
   "id": "6d2121db",
   "metadata": {},
   "outputs": [],
   "source": [
    "housing['log_BsmtFinSF1'] = np.log(housing['BsmtFinSF1']+1)"
   ]
  },
  {
   "cell_type": "code",
   "execution_count": 241,
   "id": "f0dd29c2",
   "metadata": {},
   "outputs": [
    {
     "data": {
      "text/plain": [
       "0.441399960064673"
      ]
     },
     "execution_count": 241,
     "metadata": {},
     "output_type": "execute_result"
    }
   ],
   "source": [
    "log_price.corr(housing['BsmtFinSF1'])"
   ]
  },
  {
   "cell_type": "code",
   "execution_count": 242,
   "id": "caff50e0",
   "metadata": {},
   "outputs": [
    {
     "data": {
      "text/plain": [
       "0.2925749861878254"
      ]
     },
     "execution_count": 242,
     "metadata": {},
     "output_type": "execute_result"
    }
   ],
   "source": [
    "log_price.corr(housing['yeo_BsmtFinSF1'])"
   ]
  },
  {
   "cell_type": "code",
   "execution_count": 243,
   "id": "a2ec0e66",
   "metadata": {},
   "outputs": [
    {
     "data": {
      "text/plain": [
       "0.23332528008307393"
      ]
     },
     "execution_count": 243,
     "metadata": {},
     "output_type": "execute_result"
    }
   ],
   "source": [
    "log_price.corr(housing['log_BsmtFinSF1'])"
   ]
  },
  {
   "cell_type": "code",
   "execution_count": null,
   "id": "16d9db51",
   "metadata": {},
   "outputs": [],
   "source": [
    "housing[['BsmtFinSF2', 'SalePrice']].plot(kind='scatter', x='BsmtFinSF2', y='SalePrice', logx=True, logy=True) #,, 'SalePrice']].plot(kind='scatter', x='BsmtFinSF1', y='SalePrice', logx=True, logy=True) #,"
   ]
  },
  {
   "cell_type": "code",
   "execution_count": null,
   "id": "97bc1fc1",
   "metadata": {},
   "outputs": [],
   "source": [
    "# BsmtUnfSF  \n",
    "housing[['BsmtUnfSF', 'SalePrice']].plot(kind='scatter', x='BsmtUnfSF', y='SalePrice', logx=True, logy=True) #,, 'SalePrice']].plot(kind='scatter', x='BsmtFinSF1', y='SalePrice', logx=True, logy=True) #,"
   ]
  },
  {
   "cell_type": "code",
   "execution_count": 244,
   "id": "2bc99f67",
   "metadata": {},
   "outputs": [
    {
     "data": {
      "text/plain": [
       "0.1780290201769859"
      ]
     },
     "execution_count": 244,
     "metadata": {},
     "output_type": "execute_result"
    }
   ],
   "source": [
    "log_price.corr(np.log(housing['BsmtUnfSF']+1))"
   ]
  },
  {
   "cell_type": "code",
   "execution_count": 245,
   "id": "c9267efe",
   "metadata": {},
   "outputs": [],
   "source": [
    "housing['log_BsmtUnfSF'] = np.log(housing['BsmtUnfSF']+1)"
   ]
  },
  {
   "cell_type": "code",
   "execution_count": 246,
   "id": "28143cf5",
   "metadata": {},
   "outputs": [
    {
     "data": {
      "text/plain": [
       "0.1902297317063011"
      ]
     },
     "execution_count": 246,
     "metadata": {},
     "output_type": "execute_result"
    }
   ],
   "source": [
    "log_price.corr(housing['BsmtUnfSF'])"
   ]
  },
  {
   "cell_type": "code",
   "execution_count": null,
   "id": "927e7aeb",
   "metadata": {},
   "outputs": [],
   "source": [
    "log_price.corr(np.log(housing['BsmtUnfSF']+1))"
   ]
  },
  {
   "cell_type": "code",
   "execution_count": null,
   "id": "3fc7e094",
   "metadata": {},
   "outputs": [],
   "source": []
  },
  {
   "cell_type": "code",
   "execution_count": 247,
   "id": "269bb808",
   "metadata": {},
   "outputs": [
    {
     "data": {
      "text/plain": [
       "0.06004277234424995"
      ]
     },
     "execution_count": 247,
     "metadata": {},
     "output_type": "execute_result"
    }
   ],
   "source": [
    "yeo_BsmtUnfSF,_ = pd.Series(stats.yeojohnson(housing['BsmtUnfSF']))\n",
    "# log_price.corr(yeo_BsmtUnfSF)\n",
    "yeo_BsmtUnfSF = pd.Series(yeo_BsmtUnfSF)\n",
    "type(yeo_BsmtUnfSF)\n",
    "log_price.corr(yeo_BsmtUnfSF)"
   ]
  },
  {
   "cell_type": "code",
   "execution_count": null,
   "id": "c8d26544",
   "metadata": {},
   "outputs": [],
   "source": [
    "# EnclosedPorch \n",
    "\n",
    "housing[['EnclosedPorch', 'SalePrice']].plot(kind='scatter', x='EnclosedPorch', y='SalePrice', logx=True, logy=True) #logx=True,    ,, 'SalePrice']].plot(kind='scatter', x='BsmtFinSF1', y='SalePrice', logx=True, logy=True) #,"
   ]
  },
  {
   "cell_type": "code",
   "execution_count": 248,
   "id": "7f097a0c",
   "metadata": {},
   "outputs": [
    {
     "data": {
      "text/plain": [
       "-0.22682247472091344"
      ]
     },
     "execution_count": 248,
     "metadata": {},
     "output_type": "execute_result"
    }
   ],
   "source": [
    "log_price.corr(np.log(housing['EnclosedPorch']+1))"
   ]
  },
  {
   "cell_type": "code",
   "execution_count": 252,
   "id": "848d43fb",
   "metadata": {},
   "outputs": [],
   "source": [
    "housing['log_EnclosedPorch'] = np.log(housing['EnclosedPorch']+1)"
   ]
  },
  {
   "cell_type": "code",
   "execution_count": 249,
   "id": "7a2aba70",
   "metadata": {},
   "outputs": [
    {
     "data": {
      "text/plain": [
       "-0.1657224564556693"
      ]
     },
     "execution_count": 249,
     "metadata": {},
     "output_type": "execute_result"
    }
   ],
   "source": [
    "log_price.corr(housing['EnclosedPorch'])"
   ]
  },
  {
   "cell_type": "code",
   "execution_count": null,
   "id": "ee7c26fe",
   "metadata": {},
   "outputs": [],
   "source": [
    "housing['log_EnclosedPorch'] = np.log(housing['EnclosedPorch'])"
   ]
  },
  {
   "cell_type": "code",
   "execution_count": 250,
   "id": "9aa14e93",
   "metadata": {},
   "outputs": [
    {
     "data": {
      "text/plain": [
       "0.008708588182985626"
      ]
     },
     "execution_count": 250,
     "metadata": {},
     "output_type": "execute_result"
    }
   ],
   "source": [
    "yeo_EnclosedPorch,_ = pd.Series(stats.yeojohnson(housing['EnclosedPorch']))\n",
    "yeo_EnclosedPorch =pd.Series(yeo_EnclosedPorch)\n",
    "log_price.corr(yeo_EnclosedPorch)"
   ]
  },
  {
   "cell_type": "code",
   "execution_count": null,
   "id": "12779a9d",
   "metadata": {},
   "outputs": [],
   "source": [
    "# BsmtFullBath \n",
    "housing[['BsmtFullBath', 'SalePrice']].plot(kind='scatter', x='BsmtFullBath', y='SalePrice',  logy=True) #logx=True,    ,, 'SalePrice']].plot(kind='scatter', x='BsmtFinSF1', y='SalePrice', logx=True, logy=True) #,"
   ]
  },
  {
   "cell_type": "code",
   "execution_count": null,
   "id": "e426aacc",
   "metadata": {
    "scrolled": true
   },
   "outputs": [],
   "source": [
    "# BsmtHalfBath \n",
    "housing[['BsmtHalfBath', 'SalePrice']].plot(kind='scatter', x='BsmtHalfBath', y='SalePrice',  logy=True) #logx=True,    ,, 'SalePrice']].plot(kind='scatter', x='BsmtFinSF1', y='SalePrice', logx=True, logy=True) #,"
   ]
  },
  {
   "cell_type": "code",
   "execution_count": null,
   "id": "d0b54aef",
   "metadata": {},
   "outputs": [],
   "source": [
    "# FullBath\n",
    "\n",
    "housing[['FullBath', 'SalePrice']].plot(kind='scatter', x='FullBath', y='SalePrice',  logy=True) #logx=True,    ,, 'SalePrice']].plot(kind='scatter', x='BsmtFinSF1', y='SalePrice', logx=True, logy=True) #,"
   ]
  },
  {
   "cell_type": "markdown",
   "id": "6f449ba6",
   "metadata": {},
   "source": [
    "# create dummies from ceategoricals"
   ]
  },
  {
   "cell_type": "code",
   "execution_count": 254,
   "id": "4d013b0a",
   "metadata": {},
   "outputs": [
    {
     "name": "stdout",
     "output_type": "stream",
     "text": [
      "    MSSubClass  category_freq  pct_total  median_of_target  index\n",
      "0           60            347  19.450673          214000.0    133\n",
      "1          120            118   6.614350          196000.0    122\n",
      "2           75             13   0.728700          179500.0    112\n",
      "3           80             78   4.372197          166250.0    103\n",
      "4           20            632  35.426009          155000.0     96\n",
      "5           70             86   4.820628          150000.0     93\n",
      "6           85             34   1.905830          148000.0     92\n",
      "7          150              1   0.056054          148400.0     92\n",
      "8           90             60   3.363229          139500.0     87\n",
      "9           40              5   0.280269          133000.0     83\n",
      "10          50            196  10.986547          133000.0     83\n",
      "11         160             76   4.260090          127500.0     79\n",
      "12         190             35   1.961883          118000.0     73\n",
      "13          45             12   0.672646          113000.0     70\n",
      "14          30             80   4.484305           99650.0     62\n",
      "15         180             11   0.616592           91000.0     56\n",
      " \n",
      "  MSZoning  category_freq  pct_total  median_of_target  index\n",
      "0       FV             78   4.372197          221500.0    138\n",
      "1       RL           1397  78.307175          169900.0    106\n",
      "2       RH             13   0.728700          145000.0     90\n",
      "3       RM            296  16.591928          123000.0     76\n",
      " \n",
      "  Street  category_freq  pct_total  median_of_target  index\n",
      "0   Pave           1779  99.719731          159900.0    100\n",
      "1   Grvl              5   0.280269          118500.0     74\n",
      " \n",
      "  LandContour  category_freq  pct_total  median_of_target  index\n",
      "0         Low             32   1.793722          198500.0    124\n",
      "1         HLS             76   4.260090          196000.0    122\n",
      "2         Lvl           1614  90.470852          158750.0     99\n",
      "3         Bnk             62   3.475336          139700.0     87\n",
      " \n",
      "  Utilities  category_freq  pct_total  median_of_target  index\n",
      "0    AllPub           1784      100.0          159897.5    100\n",
      " \n",
      "  LotConfig  category_freq  pct_total  median_of_target  index\n",
      "0       FR3              7   0.392377          207000.0    129\n",
      "1   CulDSac            101   5.661435          191000.0    119\n",
      "2    Corner            312  17.488789          159750.0     99\n",
      "3    Inside           1313  73.598655          157000.0     98\n",
      "4       FR2             51   2.858744          153500.0     95\n",
      " \n",
      "   Neighborhood  category_freq  pct_total  median_of_target  index\n",
      "0       NoRidge             43   2.410314          315750.0    197\n",
      "1       NridgHt             86   4.820628          312545.0    195\n",
      "2       Veenker             17   0.952915          255000.0    159\n",
      "3       StoneBr             34   1.905830          255500.0    159\n",
      "4       Somerst             98   5.493274          233250.0    145\n",
      "5        Timber             32   1.793722          216750.0    135\n",
      "6       ClearCr             27   1.513453          200000.0    125\n",
      "7       CollgCr            170   9.529148          200000.0    125\n",
      "8       Crawfor             74   4.147982          198750.0    124\n",
      "9        Greens              6   0.336323          189000.0    118\n",
      "10      SawyerW             77   4.316143          187000.0    116\n",
      "11      Blmngtn             13   0.728700          185485.0    116\n",
      "12      Gilbert             93   5.213004          183200.0    114\n",
      "13       NWAmes             84   4.708520          181000.0    113\n",
      "14      Mitchel             69   3.867713          156450.0     97\n",
      "15      NPkVill             16   0.896861          144875.0     90\n",
      "16        NAmes            282  15.807175          140000.0     87\n",
      "17        SWISU             32   1.793722          136200.0     85\n",
      "18       Sawyer            103   5.773543          137000.0     85\n",
      "19      BrkSide             68   3.811659          128000.0     80\n",
      "20      Edwards            112   6.278027          125000.0     78\n",
      "21      Blueste              3   0.168161          124000.0     77\n",
      "22      OldTown            151   8.464126          122000.0     76\n",
      "23       IDOTRR             48   2.690583          120250.0     75\n",
      "24       BrDale             20   1.121076          106000.0     66\n",
      "25      MeadowV             26   1.457399           87000.0     54\n",
      " \n",
      "  Condition1  category_freq  pct_total  median_of_target  index\n",
      "0       RRNn              5   0.280269          220000.0    137\n",
      "1       PosN             22   1.233184          210000.0    131\n",
      "2       PosA             11   0.616592          190000.0    118\n",
      "3       RRNe              3   0.168161          187000.0    116\n",
      "4       RRAn             24   1.345291          169302.5    105\n",
      "5       Norm           1552  86.995516          161875.0    101\n",
      "6       RRAe             17   0.952915          142500.0     89\n",
      "7      Feedr             94   5.269058          139000.0     86\n",
      "8     Artery             56   3.139013          121125.0     75\n",
      " \n",
      "  Condition2  category_freq  pct_total  median_of_target  index\n",
      "0       PosA              2   0.112108          467500.0    292\n",
      "1       PosN              2   0.112108          401000.0    250\n",
      "2       Norm           1769  99.159193          159900.0    100\n",
      "3     Artery              2   0.112108          137125.0     85\n",
      "4       RRAn              1   0.056054          136905.0     85\n",
      "5      Feedr              6   0.336323          117700.0     73\n",
      "6       RRNn              2   0.112108           96750.0     60\n",
      " \n",
      "  BldgType  category_freq  pct_total  median_of_target  index\n",
      "0   TwnhsE            140   7.847534          178970.0    111\n",
      "1     1Fam           1486  83.295964          161875.0    101\n",
      "2   Duplex             60   3.363229          139500.0     87\n",
      "3    Twnhs             62   3.475336          126950.0     79\n",
      "4   2fmCon             36   2.017937          117000.0     73\n",
      " \n",
      "  HouseStyle  category_freq  pct_total  median_of_target  index\n",
      "0     2.5Fin              5   0.280269          191000.0    119\n",
      "1     2Story            533  29.876682          189000.0    118\n",
      "2       SLvl             84   4.708520          165500.0    103\n",
      "3     2.5Unf             13   0.728700          164000.0    102\n",
      "4     1Story            865  48.486547          153500.0     95\n",
      "5     SFoyer             55   3.082960          140000.0     87\n",
      "6     1.5Fin            218  12.219731          132000.0     82\n",
      "7     1.5Unf             11   0.616592          113000.0     70\n",
      " \n",
      "  RoofStyle  category_freq  pct_total  median_of_target  index\n",
      "0      Shed              2   0.112108          208500.0    130\n",
      "1       Hip            319  17.881166          172500.0    107\n",
      "2      Flat              9   0.504484          164000.0    102\n",
      "3     Gable           1433  80.325112          157000.0     98\n",
      "4   Mansard              9   0.504484          152000.0     95\n",
      "5   Gambrel             12   0.672646          138000.0     86\n",
      " \n",
      "  RoofMatl  category_freq  pct_total  median_of_target  index\n",
      "0  WdShngl              4   0.224215          332500.0    207\n",
      "1  WdShake              6   0.336323          251000.0    156\n",
      "2  Membran              1   0.056054          241500.0    151\n",
      "3  Tar&Grv             10   0.560538          162000.0    101\n",
      "4  CompShg           1762  98.766816          159000.0     99\n",
      "5     Roll              1   0.056054          137000.0     85\n",
      " \n",
      "   Exterior1st  category_freq  pct_total  median_of_target  index\n",
      "0      PreCast              1   0.056054          260000.0    162\n",
      "1      VinylSd            603  33.800448          201000.0    125\n",
      "2      CemntBd             72   4.035874          193000.0    120\n",
      "3      BrkFace             51   2.858744          161500.0    101\n",
      "4      BrkComm              2   0.112108          161250.0    100\n",
      "5      Plywood            132   7.399103          156750.0     98\n",
      "6      HdBoard            295  16.535874          154204.0     96\n",
      "7      Wd Sdng            271  15.190583          140000.0     87\n",
      "8      MetalSd            276  15.470852          139000.0     86\n",
      "9      WdShing             32   1.793722          132950.0     83\n",
      "10      Stucco             26   1.457399          120000.0     75\n",
      "11     AsbShng             21   1.177130          111000.0     69\n",
      "12      CBlock              1   0.056054          105000.0     65\n",
      "13     AsphShn              1   0.056054           82375.0     51\n",
      " \n",
      "   Exterior2nd  category_freq  pct_total  median_of_target  index\n",
      "0      PreCast              1   0.056054          260000.0    162\n",
      "1      VinylSd            593  33.239910          202500.0    126\n",
      "2      CmentBd             72   4.035874          196000.0    122\n",
      "3      ImStucc              9   0.504484          192000.0    120\n",
      "4      BrkFace             27   1.513453          160000.0    100\n",
      "5      HdBoard            271  15.190583          157000.0     98\n",
      "6      Plywood            155   8.688341          154000.0     96\n",
      "7      Brk Cmn             14   0.784753          146500.0     91\n",
      "8      MetalSd            275  15.414798          140000.0     87\n",
      "9      Wd Sdng            263  14.742152          139600.0     87\n",
      "10     AsphShn              3   0.168161          139000.0     86\n",
      "11     Wd Shng             50   2.802691          139000.0     86\n",
      "12       Stone              2   0.112108          133500.0     83\n",
      "13      CBlock              2   0.112108          132500.0     82\n",
      "14      Stucco             28   1.569507          119500.0     74\n",
      "15     AsbShng             19   1.065022          113000.0     70\n"
     ]
    },
    {
     "name": "stdout",
     "output_type": "stream",
     "text": [
      " \n",
      "  MasVnrType  category_freq  pct_total  median_of_target  index\n",
      "0      Stone            129   7.230942          224000.0    140\n",
      "1    BrkFace            550  30.829596          185000.0    115\n",
      "2       None           1092  61.210762          144050.0     90\n",
      "3     BrkCmn             13   0.728700          139000.0     86\n",
      " \n",
      "  Foundation  category_freq  pct_total  median_of_target  index\n",
      "0       Wood              2   0.112108          207000.0    129\n",
      "1      PConc            769  43.105381          206000.0    128\n",
      "2     CBlock            782  43.834081          141250.0     88\n",
      "3      Stone              5   0.280269          139900.0     87\n",
      "4     BrkTil            198  11.098655          123000.0     76\n",
      "5       Slab             28   1.569507          102350.0     64\n",
      " \n",
      "  Heating  category_freq  pct_total  median_of_target  index\n",
      "0    GasA           1760  98.654709          160000.0    100\n",
      "1    GasW             15   0.840807          144000.0     90\n",
      "2    OthW              2   0.112108          125750.0     78\n",
      "3    Wall              4   0.224215           91450.0     57\n",
      "4    Grav              3   0.168161           80000.0     50\n",
      " \n",
      "  CentralAir  category_freq  pct_total  median_of_target  index\n",
      "0          Y           1680  94.170404          163000.0    101\n",
      "1          N            104   5.829596          101500.0     63\n",
      " \n",
      "  Electrical  category_freq  pct_total  median_of_target  index\n",
      "0      SBrkr           1648  92.376682          164500.0    102\n",
      "1      FuseA            109   6.109865          127000.0     79\n",
      "2      FuseF             26   1.457399          103750.0     64\n",
      "3      FuseP              1   0.056054           68000.0     42\n",
      " \n",
      "  GarageType  category_freq  pct_total  median_of_target  index\n",
      "0    BuiltIn            110   6.165919          215750.0    134\n",
      "1     Attchd           1043  58.464126          183200.0    114\n",
      "2     2Types              9   0.504484          170000.0    106\n",
      "3    Basment             22   1.233184          149150.0     93\n",
      "4     Detchd            504  28.251121          132000.0     82\n",
      "5         No             92   5.156951          107750.0     67\n",
      "6    CarPort              4   0.224215          105900.0     66\n",
      " \n",
      "  GarageFinish  category_freq  pct_total  median_of_target  index\n",
      "0          Fin            439  24.607623          213490.0    133\n",
      "1          RFn            481  26.961883          190000.0    118\n",
      "2          Unf            770  43.161435          136500.0     85\n",
      "3           No             94   5.269058          108750.0     68\n",
      " \n",
      "  PavedDrive  category_freq  pct_total  median_of_target  index\n",
      "0          Y           1624   91.03139          165000.0    103\n",
      "1          P             42    2.35426          127700.0     79\n",
      "2          N            118    6.61435          110700.0     69\n",
      " \n",
      "   Fence  category_freq  pct_total  median_of_target  index\n",
      "0     No           1405  78.755605          169000.0    105\n",
      "1  GdPrv             72   4.035874          162950.0    101\n",
      "2  MnPrv            224  12.556054          140000.0     87\n",
      "3   GdWo             76   4.260090          138250.0     86\n",
      "4   MnWw              7   0.392377          123000.0     76\n",
      " \n",
      "    MoSold  category_freq  pct_total  median_of_target  index\n",
      "0        1             76   4.260090          178000.0    111\n",
      "1       11             79   4.428251          173000.0    108\n",
      "2        8            135   7.567265          169000.0    105\n",
      "3        2             89   4.988789          165000.0    103\n",
      "4       12             63   3.531390          165000.0    103\n",
      "5        9             89   4.988789          161500.0    101\n",
      "6        7            275  15.414798          159900.0    100\n",
      "7        6            302  16.928251          159250.0     99\n",
      "8        3            151   8.464126          156932.0     98\n",
      "9        5            245  13.733184          155000.0     96\n",
      "10       4            184  10.313901          149050.0     93\n",
      "11      10             96   5.381166          150000.0     93\n",
      " \n",
      "  SaleCondition  category_freq  pct_total  median_of_target  index\n",
      "0       Partial             59   3.307175          252678.0    158\n",
      "1        Normal           1672  93.721973          158750.0     99\n",
      "2        Alloca              2   0.112108          152556.5     95\n",
      "3        Family             12   0.672646          147000.0     91\n",
      "4       Abnorml             37   2.073991          145000.0     90\n",
      "5       AdjLand              2   0.112108          138750.0     86\n",
      " \n"
     ]
    }
   ],
   "source": [
    "categ = ['MSSubClass','MSZoning','Street', 'LandContour', 'Utilities', 'LotConfig', 'Neighborhood', \\\n",
    "           'Condition1', 'Condition2', 'BldgType', 'HouseStyle', 'RoofStyle', 'RoofMatl', 'Exterior1st', \\\n",
    "           'Exterior2nd', 'MasVnrType', 'Foundation', 'Heating', 'CentralAir', 'Electrical', 'GarageType', \\\n",
    "           'GarageFinish', 'PavedDrive', 'Fence', 'MoSold', 'SaleCondition' ]\n",
    "\n",
    "for feature in categ:\n",
    "    df = categ_check(\n",
    "    df_name = housing,\n",
    "    target_median = housing.SalePrice.median(),\n",
    "    categ_feature = feature,\n",
    "    target = 'SalePrice')\n",
    "    print(df)\n",
    "    print(' ')"
   ]
  },
  {
   "cell_type": "markdown",
   "id": "d8858dda",
   "metadata": {},
   "source": [
    "# Based on Analysis Transformations to be used for modeling"
   ]
  },
  {
   "cell_type": "code",
   "execution_count": 253,
   "id": "77d3c3fc",
   "metadata": {},
   "outputs": [],
   "source": [
    "housing['bc_GrLivArea'],_ = stats.boxcox(housing.GrLivArea)\n",
    "\n",
    "housing['bc_LotArea'],_ = stats.boxcox(housing['LotArea'])\n",
    "\n",
    "housing['log_MasVnrArea'] = np.log(housing['MasVnrArea'] + 1)\n",
    "\n",
    "housing['yeo_TotalBsmtSF'],_ = stats.yeojohnson(housing['TotalBsmtSF'])\n",
    "\n",
    "housing['log_first_FlrSF'] = np.log(housing['1stFlrSF'])\n",
    "\n",
    "housing['yeo_GarageArea'],_  = stats.yeojohnson(housing['GarageArea'] )\n",
    "\n",
    "housing['log_WoodDeckSF'] = np.log(housing['WoodDeckSF'] + 1)\n",
    "\n",
    "housing['log_OpenPorchSF'] = np.log(housing['OpenPorchSF'] + 1)\n",
    "\n",
    "\n",
    "housing['yeo_LotFrontage'],_ = stats.yeojohnson(housing['LotFrontage'])\n",
    "\n",
    "housing['log_EnclosedPorch'] = np.log(housing['EnclosedPorch']+1)\n",
    "\n"
   ]
  },
  {
   "cell_type": "code",
   "execution_count": null,
   "id": "e44e02f5",
   "metadata": {},
   "outputs": [],
   "source": []
  },
  {
   "cell_type": "code",
   "execution_count": null,
   "id": "52687418",
   "metadata": {},
   "outputs": [],
   "source": [
    "# OLD\n",
    "\n",
    "# housing['bc_GrLivArea'],_ = stats.boxcox(housing.GrLivArea)\n",
    "# housing['log_LotArea'] = np.log(housing['LotArea'])\n",
    "# housing['log_MasVnrArea'] = np.log(housing['MasVnrArea'] + 1)\n",
    "# housing['yeo_TotalBsmtSF'],_ = stats.yeojohnson(housing['TotalBsmtSF'])\n",
    "\n",
    "# housing['log_first_FlrSF'] = np.log(housing['1stFlrSF'])\n",
    "\n",
    "# housing['yeo_GarageArea'],_  = stats.yeojohnson(housing['GarageArea'] )\n",
    "# housing['log_WoodDeckSF'] = np.log(housing['WoodDeckSF'] + 1)\n",
    "\n",
    "# housing['log_OpenPorchSF'] = np.log(housing['OpenPorchSF'] + 1)\n",
    "\n",
    "# housing['has_pool'] = housing['PoolArea'] != 0\n",
    "\n",
    "# housing['log_BsmtFinSF1'] = np.log(housing['BsmtFinSF1']+1)\n",
    "\n",
    "# #################################################################\n",
    "# housing['log_2ndFlrSF'] =np.log(housing['2ndFlrSF']+1)\n",
    "\n",
    "# housing['log_LotFrontage']=np.log(housing['LotFrontage'] + 1)\n",
    "\n",
    "# housing['log_BsmtUnfSF'] = np.log(housing['BsmtUnfSF']+1)\n",
    "\n",
    "# housing['log_EnclosedPorch'] = np.log(housing['EnclosedPorch']+1)\n"
   ]
  },
  {
   "cell_type": "code",
   "execution_count": null,
   "id": "b9de74f4",
   "metadata": {},
   "outputs": [],
   "source": [
    "#NEED TO RERUN IF READ IN DATA AGAIN\n",
    "\n",
    "# housing.drop([\"SalePrice\"], axis = 1, inplace = True)"
   ]
  },
  {
   "cell_type": "code",
   "execution_count": null,
   "id": "32225fe2",
   "metadata": {},
   "outputs": [],
   "source": [
    "# check\n",
    "# housing.SalePrice"
   ]
  },
  {
   "cell_type": "code",
   "execution_count": null,
   "id": "d5ddce7d",
   "metadata": {},
   "outputs": [],
   "source": [
    "#write out train data with transformations\n",
    "\n",
    "# housing.to_csv(r'C:\\Users\\dgarb\\OneDrive\\Documents\\Data Science Bootcamp August\\Machine Learning Project\\data\\train_transformed.csv')"
   ]
  },
  {
   "cell_type": "code",
   "execution_count": null,
   "id": "97a3a513",
   "metadata": {},
   "outputs": [],
   "source": [
    "# code transformations for test data"
   ]
  },
  {
   "cell_type": "code",
   "execution_count": null,
   "id": "e9e0c927",
   "metadata": {},
   "outputs": [],
   "source": [
    "# check\n",
    "# \n",
    "# x_test.SalePrice"
   ]
  },
  {
   "cell_type": "code",
   "execution_count": null,
   "id": "8a414495",
   "metadata": {},
   "outputs": [],
   "source": [
    "#write out test data with transformatio;ns\n",
    "\n",
    "# x_test.to_csv(r'C:\\Users\\dgarb\\OneDrive\\Documents\\Data Science Bootcamp August\\Machine Learning Project\\data\\test_transformed.csv')"
   ]
  }
 ],
 "metadata": {
  "kernelspec": {
   "display_name": "Python 3 (ipykernel)",
   "language": "python",
   "name": "python3"
  },
  "language_info": {
   "codemirror_mode": {
    "name": "ipython",
    "version": 3
   },
   "file_extension": ".py",
   "mimetype": "text/x-python",
   "name": "python",
   "nbconvert_exporter": "python",
   "pygments_lexer": "ipython3",
   "version": "3.9.7"
  }
 },
 "nbformat": 4,
 "nbformat_minor": 5
}
